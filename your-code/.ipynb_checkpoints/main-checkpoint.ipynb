{
 "cells": [
  {
   "cell_type": "markdown",
   "metadata": {},
   "source": [
    "# Web Scraping Lab\n",
    "\n",
    "You will find in this notebook some scrapy exercises to practise your scraping skills.\n",
    "\n",
    "**Tips:**\n",
    "\n",
    "- Check the response status code for each request to ensure you have obtained the intended contennt.\n",
    "- Print the response text in each request to understand the kind of info you are getting and its format.\n",
    "- Check for patterns in the response text to extract the data/info requested in each question.\n",
    "- Visit each url and take a look at its source through Chrome DevTools. You'll need to identify the html tags, special class names etc. used for the html content you are expected to extract."
   ]
  },
  {
   "cell_type": "markdown",
   "metadata": {},
   "source": [
    "- [Requests library](http://docs.python-requests.org/en/master/#the-user-guide) documentation \n",
    "- [Beautiful Soup Doc](https://www.crummy.com/software/BeautifulSoup/bs4/doc/)\n",
    "- [Urllib](https://docs.python.org/3/library/urllib.html#module-urllib)\n",
    "- [re lib](https://docs.python.org/3/library/re.html)\n",
    "- [lxml lib](https://lxml.de/)\n",
    "- [Scrapy](https://scrapy.org/)\n",
    "- [List of HTTP status codes](https://en.wikipedia.org/wiki/List_of_HTTP_status_codes)\n",
    "- [HTML basics](http://www.simplehtmlguide.com/cheatsheet.php)\n",
    "- [CSS basics](https://www.cssbasics.com/#page_start)"
   ]
  },
  {
   "cell_type": "markdown",
   "metadata": {},
   "source": [
    "#### Below are the libraries and modules you may need. `requests`,  `BeautifulSoup` and `pandas` are imported for you. If you prefer to use additional libraries feel free to uncomment them."
   ]
  },
  {
   "cell_type": "code",
   "execution_count": 44,
   "metadata": {},
   "outputs": [],
   "source": [
    "import requests as req\n",
    "from bs4 import BeautifulSoup as bs\n",
    "import pandas as pd\n",
    "# from pprint import pprint\n",
    "# from lxml import html\n",
    "# from lxml.html import fromstring\n",
    "# import urllib.request\n",
    "# from urllib.request import urlopen\n",
    "# import random\n",
    "# import re\n",
    "# import scrapy"
   ]
  },
  {
   "cell_type": "code",
   "execution_count": 2,
   "metadata": {},
   "outputs": [
    {
     "name": "stdout",
     "output_type": "stream",
     "text": [
      "Collecting feedparser\n",
      "  Downloading feedparser-6.0.10-py3-none-any.whl (81 kB)\n",
      "\u001b[K     |████████████████████████████████| 81 kB 6.9 MB/s eta 0:00:011\n",
      "\u001b[?25hCollecting sgmllib3k\n",
      "  Downloading sgmllib3k-1.0.0.tar.gz (5.8 kB)\n",
      "Building wheels for collected packages: sgmllib3k\n",
      "  Building wheel for sgmllib3k (setup.py) ... \u001b[?25ldone\n",
      "\u001b[?25h  Created wheel for sgmllib3k: filename=sgmllib3k-1.0.0-py3-none-any.whl size=6066 sha256=d5fd12dfb52ffd7d17bffa6eae43b835ca1dc99749f04a5124c9205c96ce68c6\n",
      "  Stored in directory: /Users/arturo/Library/Caches/pip/wheels/65/7a/a7/78c287f64e401255dff4c13fdbc672fed5efbfd21c530114e1\n",
      "Successfully built sgmllib3k\n",
      "Installing collected packages: sgmllib3k, feedparser\n",
      "Successfully installed feedparser-6.0.10 sgmllib3k-1.0.0\n",
      "Note: you may need to restart the kernel to use updated packages.\n"
     ]
    }
   ],
   "source": [
    "%pip install feedparser"
   ]
  },
  {
   "cell_type": "code",
   "execution_count": 3,
   "metadata": {},
   "outputs": [],
   "source": [
    "import feedparser"
   ]
  },
  {
   "cell_type": "code",
   "execution_count": 4,
   "metadata": {},
   "outputs": [
    {
     "name": "stdout",
     "output_type": "stream",
     "text": [
      "Collecting xmltodict\n",
      "  Downloading xmltodict-0.13.0-py2.py3-none-any.whl (10.0 kB)\n",
      "Installing collected packages: xmltodict\n",
      "Successfully installed xmltodict-0.13.0\n",
      "Note: you may need to restart the kernel to use updated packages.\n"
     ]
    }
   ],
   "source": [
    "%pip install xmltodict"
   ]
  },
  {
   "cell_type": "code",
   "execution_count": 5,
   "metadata": {},
   "outputs": [],
   "source": [
    "import xmltodict"
   ]
  },
  {
   "cell_type": "markdown",
   "metadata": {},
   "source": [
    "#### Download, parse (using BeautifulSoup), and print the content from the Trending Developers page from GitHub:"
   ]
  },
  {
   "cell_type": "code",
   "execution_count": 260,
   "metadata": {},
   "outputs": [
    {
     "data": {
      "text/plain": [
       "'\\n\\n<!DOCTYPE html>\\n<html lang=\"en\" data-color-mode=\"auto\" data-light-theme=\"light\" data-dark-theme=\"dark\" data-a11y-animated-images=\"system\">\\n  <head>\\n    <meta charset=\"utf-8\">\\n  <link rel=\"dns-prefetch\" href=\"https://github.githubassets.com\">\\n  <link rel=\"dns-prefetch\" href=\"https://avatars.githubusercontent.com\">\\n  <link rel=\"dns-prefetch\" href=\"https://github-cloud.s3.amazonaws.com\">\\n  <link rel=\"dns-prefetch\" href=\"https://user-images.githubusercontent.com/\">\\n  <link rel=\"preconnect\" href=\"https://github.githubassets.com\" crossorigin>\\n  <link rel=\"preconnect\" href=\"https://avatars.githubusercontent.com\">\\n\\n\\n\\n  <link crossorigin=\"anonymous\" media=\"all\" rel=\"stylesheet\" href=\"https://github.githubassets.com/assets/light-719f1193e0c0.css\" /><link crossorigin=\"anonymous\" media=\"all\" rel=\"stylesheet\" href=\"https://github.githubassets.com/assets/dark-0c343b529849.css\" /><link data-color-theme=\"dark_dimmed\" crossorigin=\"anonymous\" media=\"all\" rel=\"stylesheet\" data-href=\"https://github.gith'"
      ]
     },
     "execution_count": 260,
     "metadata": {},
     "output_type": "execute_result"
    }
   ],
   "source": [
    "# This is the url you will scrape in this exercise\n",
    "\n",
    "url = 'https://github.com/trending/developers'\n",
    "\n",
    "\n",
    "html=req.get(url).text\n",
    "\n",
    "html[:1000]"
   ]
  },
  {
   "cell_type": "code",
   "execution_count": 261,
   "metadata": {},
   "outputs": [
    {
     "data": {
      "text/plain": [
       "bs4.BeautifulSoup"
      ]
     },
     "execution_count": 261,
     "metadata": {},
     "output_type": "execute_result"
    }
   ],
   "source": [
    "soup=bs(html, 'html.parser')\n",
    "\n",
    "type(soup)"
   ]
  },
  {
   "cell_type": "markdown",
   "metadata": {},
   "source": [
    "#### Display the names of the trending developers retrieved in the previous step.\n",
    "\n",
    "Your output should be a Python list of developer names. Each name should not contain any html tag.\n",
    "\n",
    "**Instructions:**\n",
    "\n",
    "1. Find out the html tag and class names used for the developer names. You can achieve this using Chrome DevTools.\n",
    "\n",
    "1. Use BeautifulSoup to extract all the html elements that contain the developer names.\n",
    "\n",
    "1. Use string manipulation techniques to replace whitespaces and linebreaks (i.e. `\\n`) in the *text* of each html element. Use a list to store the clean names.\n",
    "\n",
    "1. Print the list of names.\n",
    "\n",
    "Your output should look like below:\n",
    "\n",
    "```\n",
    "['trimstray (@trimstray)',\n",
    " 'joewalnes (JoeWalnes)',\n",
    " 'charlax (Charles-AxelDein)',\n",
    " 'ForrestKnight (ForrestKnight)',\n",
    " 'revery-ui (revery-ui)',\n",
    " 'alibaba (Alibaba)',\n",
    " 'Microsoft (Microsoft)',\n",
    " 'github (GitHub)',\n",
    " 'facebook (Facebook)',\n",
    " 'boazsegev (Bo)',\n",
    " 'google (Google)',\n",
    " 'cloudfetch',\n",
    " 'sindresorhus (SindreSorhus)',\n",
    " 'tensorflow',\n",
    " 'apache (TheApacheSoftwareFoundation)',\n",
    " 'DevonCrawford (DevonCrawford)',\n",
    " 'ARMmbed (ArmMbed)',\n",
    " 'vuejs (vuejs)',\n",
    " 'fastai (fast.ai)',\n",
    " 'QiShaoXuan (Qi)',\n",
    " 'joelparkerhenderson (JoelParkerHenderson)',\n",
    " 'torvalds (LinusTorvalds)',\n",
    " 'CyC2018',\n",
    " 'komeiji-satori (神楽坂覚々)',\n",
    " 'script-8']\n",
    " ```"
   ]
  },
  {
   "cell_type": "code",
   "execution_count": 132,
   "metadata": {},
   "outputs": [],
   "source": [
    "#soup"
   ]
  },
  {
   "cell_type": "code",
   "execution_count": 262,
   "metadata": {},
   "outputs": [
    {
     "data": {
      "text/plain": [
       "[<h1 class=\"h3 lh-condensed\">\n",
       " <a data-hydro-click='{\"event_type\":\"explore.click\",\"payload\":{\"click_context\":\"TRENDING_DEVELOPERS_PAGE\",\"click_target\":\"OWNER\",\"click_visual_representation\":\"TRENDING_DEVELOPER\",\"actor_id\":null,\"record_id\":1148717,\"originating_url\":\"https://github.com/trending/developers\",\"user_id\":null}}' data-hydro-click-hmac=\"e63714fba102c81161256026f733701b107c533357596fd3a9b8b0ccdb58acba\" data-view-component=\"true\" href=\"/emilk\">\n",
       "             Emil Ernerfeldt\n",
       " </a> </h1>]"
      ]
     },
     "execution_count": 262,
     "metadata": {},
     "output_type": "execute_result"
    }
   ],
   "source": [
    "info=soup.find_all('h1', class_='h3 lh-condensed')\n",
    "info[:1]"
   ]
  },
  {
   "cell_type": "code",
   "execution_count": 263,
   "metadata": {},
   "outputs": [
    {
     "data": {
      "text/plain": [
       "'\\n\\n            Emil Ernerfeldt\\n '"
      ]
     },
     "execution_count": 263,
     "metadata": {},
     "output_type": "execute_result"
    }
   ],
   "source": [
    "soup.find_all('h1', class_='h3 lh-condensed')[0].text"
   ]
  },
  {
   "cell_type": "code",
   "execution_count": 264,
   "metadata": {},
   "outputs": [
    {
     "data": {
      "text/plain": [
       "'Emil Ernerfeldt'"
      ]
     },
     "execution_count": 264,
     "metadata": {},
     "output_type": "execute_result"
    }
   ],
   "source": [
    "soup.find_all('h1', class_='h3 lh-condensed')[0].text.strip()\n"
   ]
  },
  {
   "cell_type": "code",
   "execution_count": 266,
   "metadata": {},
   "outputs": [
    {
     "data": {
      "text/plain": [
       "['Emil Ernerfeldt',\n",
       " 'Earle F. Philhower, III',\n",
       " 'Nikita Sobolev',\n",
       " 'Stephen Celis',\n",
       " 'Justin Fagnani',\n",
       " 'Manu MA',\n",
       " 'Joshua',\n",
       " 'Simon H',\n",
       " 'Marcus Olsson',\n",
       " 'Ben V. Brown',\n",
       " 'Jonny Borges',\n",
       " 'Andrew Kane',\n",
       " 'Wangchong Zhou',\n",
       " 'Mislav Marohnić',\n",
       " 'Matthias Fey',\n",
       " 'Elliana May',\n",
       " 'Romain Beaumont',\n",
       " 'Hari Sekhon',\n",
       " 'osy',\n",
       " 'Adam Johnson',\n",
       " 'Pedro Cuenca',\n",
       " 'Alex Gaynor',\n",
       " 'Henrik Rydgård',\n",
       " 'Joshua Levy',\n",
       " 'Mu Li']"
      ]
     },
     "execution_count": 266,
     "metadata": {},
     "output_type": "execute_result"
    }
   ],
   "source": [
    "nam=[]\n",
    "for e in info:\n",
    "    palabra=e.text.strip()\n",
    "    nam.append(palabra)\n",
    "nam"
   ]
  },
  {
   "cell_type": "code",
   "execution_count": 277,
   "metadata": {},
   "outputs": [],
   "source": [
    "name=soup.find_all('h1', class_='h3 lh-condensed')\n"
   ]
  },
  {
   "cell_type": "code",
   "execution_count": 282,
   "metadata": {},
   "outputs": [],
   "source": [
    "user = soup.find_all('p', class_ = 'f4 text-normal mb-1')\n",
    "#user"
   ]
  },
  {
   "cell_type": "code",
   "execution_count": 285,
   "metadata": {},
   "outputs": [
    {
     "ename": "AttributeError",
     "evalue": "'str' object has no attribute 'text'",
     "output_type": "error",
     "traceback": [
      "\u001b[0;31m---------------------------------------------------------------------------\u001b[0m",
      "\u001b[0;31mAttributeError\u001b[0m                            Traceback (most recent call last)",
      "Input \u001b[0;32mIn [285]\u001b[0m, in \u001b[0;36m<cell line: 1>\u001b[0;34m()\u001b[0m\n\u001b[0;32m----> 1\u001b[0m name1 \u001b[38;5;241m=\u001b[39m [e\u001b[38;5;241m.\u001b[39mtext\u001b[38;5;241m.\u001b[39mstrip() \u001b[38;5;28;01mfor\u001b[39;00m e \u001b[38;5;129;01min\u001b[39;00m name]\n",
      "Input \u001b[0;32mIn [285]\u001b[0m, in \u001b[0;36m<listcomp>\u001b[0;34m(.0)\u001b[0m\n\u001b[0;32m----> 1\u001b[0m name1 \u001b[38;5;241m=\u001b[39m [\u001b[43me\u001b[49m\u001b[38;5;241;43m.\u001b[39;49m\u001b[43mtext\u001b[49m\u001b[38;5;241m.\u001b[39mstrip() \u001b[38;5;28;01mfor\u001b[39;00m e \u001b[38;5;129;01min\u001b[39;00m name]\n",
      "\u001b[0;31mAttributeError\u001b[0m: 'str' object has no attribute 'text'"
     ]
    }
   ],
   "source": [
    "name1 = [e.text.strip() for e in name]"
   ]
  },
  {
   "cell_type": "code",
   "execution_count": 273,
   "metadata": {},
   "outputs": [],
   "source": [
    "user2 = [e.text.strip() for e in user]"
   ]
  },
  {
   "cell_type": "code",
   "execution_count": 279,
   "metadata": {},
   "outputs": [],
   "source": [
    "dictio_res = zip(name1, user2)"
   ]
  },
  {
   "cell_type": "code",
   "execution_count": 280,
   "metadata": {},
   "outputs": [
    {
     "name": "stdout",
     "output_type": "stream",
     "text": [
      "Emil Ernerfeldt, (emilk)\n",
      "Earle F. Philhower, III, (earlephilhower)\n",
      "Nikita Sobolev, (sobolevn)\n",
      "Stephen Celis, (stephencelis)\n",
      "Justin Fagnani, (justinfagnani)\n",
      "Manu MA, (manucorporat)\n",
      "Joshua, (minimalsm)\n",
      "Simon H, (dummdidumm)\n",
      "Marcus Olsson, (marcusolsson)\n",
      "Ben V. Brown, (Ralim)\n",
      "Jonny Borges, (jonataslaw)\n",
      "Andrew Kane, (ankane)\n",
      "Wangchong Zhou, (fffonion)\n",
      "Mislav Marohnić, (mislav)\n",
      "Matthias Fey, (rusty1s)\n",
      "Elliana May, (Mause)\n",
      "Romain Beaumont, (rom1504)\n",
      "Hari Sekhon, (HariSekhon)\n",
      "osy, (adamchainz)\n",
      "Adam Johnson, (pcuenca)\n",
      "Pedro Cuenca, (alex)\n",
      "Alex Gaynor, (hrydgard)\n",
      "Henrik Rydgård, (jlevy)\n",
      "Joshua Levy, (mli)\n"
     ]
    }
   ],
   "source": [
    "for name, user in zip(name1, user2):\n",
    "    print(f'{name}, ({user})')"
   ]
  },
  {
   "cell_type": "code",
   "execution_count": null,
   "metadata": {},
   "outputs": [],
   "source": []
  },
  {
   "cell_type": "markdown",
   "metadata": {},
   "source": [
    "#### Display the trending Python repositories in GitHub\n",
    "\n",
    "The steps to solve this problem is similar to the previous one except that you need to find out the repository names instead of developer names."
   ]
  },
  {
   "cell_type": "code",
   "execution_count": 288,
   "metadata": {},
   "outputs": [],
   "source": [
    "# This is the url you will scrape in this exercise\n",
    "url = 'https://github.com/trending/python?since=daily'"
   ]
  },
  {
   "cell_type": "code",
   "execution_count": 289,
   "metadata": {},
   "outputs": [
    {
     "data": {
      "text/plain": [
       "'\\n\\n<!DOCTYPE html>\\n<html lang=\"en\" data-color-mode=\"auto\" data-light-theme=\"light\" data-dark-theme=\"dark\" data-a11y-animated-images=\"system\">\\n  <head>\\n    <meta charset=\"utf-8\">\\n  <link rel=\"dns-prefetch\" href=\"https://github.githubassets.com\">\\n  <link rel=\"dns-prefetch\" href=\"https://avatars.githubusercontent.com\">\\n  <link rel=\"dns-prefetch\" href=\"https://github-cloud.s3.amazonaws.com\">\\n  <link rel=\"dns-prefetch\" href=\"https://user-images.githubusercontent.com/\">\\n  <link rel=\"preconnect\" href=\"https://github.githubassets.com\" crossorigin>\\n  <link rel=\"preconnect\" href=\"https://avatars.githubusercontent.com\">\\n\\n\\n\\n  <link crossorigin=\"anonymous\" media=\"all\" rel=\"stylesheet\" href=\"https://github.githubassets.com/assets/light-719f1193e0c0.css\" /><link crossorigin=\"anonymous\" media=\"all\" rel=\"stylesheet\" href=\"https://github.githubassets.com/assets/dark-0c343b529849.css\" /><link data-color-theme=\"dark_dimmed\" crossorigin=\"anonymous\" media=\"all\" rel=\"stylesheet\" data-href=\"https://github.gith'"
      ]
     },
     "execution_count": 289,
     "metadata": {},
     "output_type": "execute_result"
    }
   ],
   "source": [
    "html=req.get(url).text\n",
    "\n",
    "html[:1000]"
   ]
  },
  {
   "cell_type": "code",
   "execution_count": 290,
   "metadata": {},
   "outputs": [
    {
     "data": {
      "text/plain": [
       "bs4.BeautifulSoup"
      ]
     },
     "execution_count": 290,
     "metadata": {},
     "output_type": "execute_result"
    }
   ],
   "source": [
    "soup=bs(html, 'html.parser')\n",
    "\n",
    "type(soup)"
   ]
  },
  {
   "cell_type": "code",
   "execution_count": 291,
   "metadata": {},
   "outputs": [
    {
     "data": {
      "text/plain": [
       "[<h1 class=\"h3 lh-condensed\">\n",
       " <a data-hydro-click='{\"event_type\":\"explore.click\",\"payload\":{\"click_context\":\"TRENDING_REPOSITORIES_PAGE\",\"click_target\":\"REPOSITORY\",\"click_visual_representation\":\"REPOSITORY_NAME_HEADING\",\"actor_id\":null,\"record_id\":212639071,\"originating_url\":\"https://github.com/trending/python?since=daily\",\"user_id\":null}}' data-hydro-click-hmac=\"5f236fa28110982f16b23522a73bcb74f655b61bd627f5b2d0d23cff176079d0\" data-view-component=\"true\" href=\"/bregman-arie/devops-exercises\">\n",
       " <svg aria-hidden=\"true\" class=\"octicon octicon-repo mr-1 color-fg-muted\" data-view-component=\"true\" height=\"16\" version=\"1.1\" viewbox=\"0 0 16 16\" width=\"16\">\n",
       " <path d=\"M2 2.5A2.5 2.5 0 014.5 0h8.75a.75.75 0 01.75.75v12.5a.75.75 0 01-.75.75h-2.5a.75.75 0 110-1.5h1.75v-2h-8a1 1 0 00-.714 1.7.75.75 0 01-1.072 1.05A2.495 2.495 0 012 11.5v-9zm10.5-1V9h-8c-.356 0-.694.074-1 .208V2.5a1 1 0 011-1h8zM5 12.25v3.25a.25.25 0 00.4.2l1.45-1.087a.25.25 0 01.3 0L8.6 15.7a.25.25 0 00.4-.2v-3.25a.25.25 0 00-.25-.25h-3.5a.25.25 0 00-.25.25z\" fill-rule=\"evenodd\"></path>\n",
       " </svg>\n",
       " <span class=\"text-normal\" data-view-component=\"true\">\n",
       "         bregman-arie /\n",
       " </span>\n",
       "       devops-exercises\n",
       " </a> </h1>]"
      ]
     },
     "execution_count": 291,
     "metadata": {},
     "output_type": "execute_result"
    }
   ],
   "source": [
    "info=soup.find_all('h1', class_='h3 lh-condensed')\n",
    "info[:1]"
   ]
  },
  {
   "cell_type": "code",
   "execution_count": 141,
   "metadata": {},
   "outputs": [
    {
     "data": {
      "text/plain": [
       "'bregman-arie /\\n\\n      devops-exercises'"
      ]
     },
     "execution_count": 141,
     "metadata": {},
     "output_type": "execute_result"
    }
   ],
   "source": [
    "name_2=soup.find_all('h1', class_='h3 lh-condensed')[0].text.strip()\n",
    "name_2"
   ]
  },
  {
   "cell_type": "code",
   "execution_count": 144,
   "metadata": {},
   "outputs": [
    {
     "data": {
      "text/plain": [
       "['bregman-arie /\\n\\n      devops-exercises',\n",
       " 'public-apis /\\n\\n      public-apis',\n",
       " 'geohot /\\n\\n      tinygrad',\n",
       " 'mlflow /\\n\\n      mlflow',\n",
       " 'PaddlePaddle /\\n\\n      PaddleDetection',\n",
       " 'google /\\n\\n      jax',\n",
       " 'iterativv /\\n\\n      NostalgiaForInfinity',\n",
       " 'netbox-community /\\n\\n      netbox',\n",
       " 'tiangolo /\\n\\n      typer',\n",
       " 'streamlit /\\n\\n      streamlit',\n",
       " 'modelscope /\\n\\n      modelscope',\n",
       " 'LetusDevops /\\n\\n      LearnPython',\n",
       " 'nerfstudio-project /\\n\\n      nerfstudio',\n",
       " 'idanya /\\n\\n      algo-trader',\n",
       " 'heartexlabs /\\n\\n      labelImg',\n",
       " 'microsoft /\\n\\n      pyright',\n",
       " 'sqlmapproject /\\n\\n      sqlmap',\n",
       " 'unifyai /\\n\\n      ivy',\n",
       " 'crytic /\\n\\n      slither',\n",
       " 'ultralytics /\\n\\n      yolov5',\n",
       " 'home-assistant /\\n\\n      core',\n",
       " 'WeAreMahsaAmini /\\n\\n      FreeInternet',\n",
       " 'open-mmlab /\\n\\n      mmocr',\n",
       " 'Lightning-AI /\\n\\n      lightning',\n",
       " 'demisto /\\n\\n      content']"
      ]
     },
     "execution_count": 144,
     "metadata": {},
     "output_type": "execute_result"
    }
   ],
   "source": [
    "name=[]\n",
    "for e in info:\n",
    "    palabra=e.text.strip()\n",
    "    name.append(palabra)\n",
    "name"
   ]
  },
  {
   "cell_type": "code",
   "execution_count": 168,
   "metadata": {},
   "outputs": [
    {
     "data": {
      "text/plain": [
       "['bregman-arie /', '', '      devops-exercises']"
      ]
     },
     "execution_count": 168,
     "metadata": {},
     "output_type": "execute_result"
    }
   ],
   "source": [
    "clean=name[0].split('\\n')\n",
    "clean"
   ]
  },
  {
   "cell_type": "code",
   "execution_count": 158,
   "metadata": {},
   "outputs": [
    {
     "data": {
      "text/plain": [
       "'      devops-exercises'"
      ]
     },
     "execution_count": 158,
     "metadata": {},
     "output_type": "execute_result"
    }
   ],
   "source": [
    "clean[2]"
   ]
  },
  {
   "cell_type": "code",
   "execution_count": 159,
   "metadata": {},
   "outputs": [
    {
     "data": {
      "text/plain": [
       "'devops-exercises'"
      ]
     },
     "execution_count": 159,
     "metadata": {},
     "output_type": "execute_result"
    }
   ],
   "source": [
    "clean_2=clean[2].replace(' ','')\n",
    "clean_2"
   ]
  },
  {
   "cell_type": "code",
   "execution_count": 292,
   "metadata": {},
   "outputs": [],
   "source": [
    "chart=soup.find_all('h1', class_='h3 lh-condensed')"
   ]
  },
  {
   "cell_type": "code",
   "execution_count": 293,
   "metadata": {},
   "outputs": [],
   "source": [
    "nam1 = [e.text.strip().replace('/\\n\\n', '/') for e in chart]\n"
   ]
  },
  {
   "cell_type": "code",
   "execution_count": 295,
   "metadata": {},
   "outputs": [
    {
     "data": {
      "text/plain": [
       "['bregman-arie / devops-exercises',\n",
       " 'public-apis / public-apis',\n",
       " 'geohot / tinygrad',\n",
       " 'mlflow / mlflow',\n",
       " 'PaddlePaddle / PaddleDetection',\n",
       " 'google / jax',\n",
       " 'iterativv / NostalgiaForInfinity',\n",
       " 'netbox-community / netbox',\n",
       " 'tiangolo / typer',\n",
       " 'streamlit / streamlit',\n",
       " 'modelscope / modelscope',\n",
       " 'LetusDevops / LearnPython',\n",
       " 'nerfstudio-project / nerfstudio',\n",
       " 'idanya / algo-trader',\n",
       " 'heartexlabs / labelImg',\n",
       " 'microsoft / pyright',\n",
       " 'sqlmapproject / sqlmap',\n",
       " 'unifyai / ivy',\n",
       " 'crytic / slither',\n",
       " 'ultralytics / yolov5',\n",
       " 'home-assistant / core',\n",
       " 'WeAreMahsaAmini / FreeInternet',\n",
       " 'open-mmlab / mmocr',\n",
       " 'Lightning-AI / lightning',\n",
       " 'demisto / content']"
      ]
     },
     "execution_count": 295,
     "metadata": {},
     "output_type": "execute_result"
    }
   ],
   "source": [
    "nam2=[e.replace('     ', '') for e in nam1]\n",
    "nam2"
   ]
  },
  {
   "cell_type": "markdown",
   "metadata": {},
   "source": [
    "#### Display all the image links from Walt Disney wikipedia page"
   ]
  },
  {
   "cell_type": "code",
   "execution_count": 215,
   "metadata": {},
   "outputs": [],
   "source": [
    "# This is the url you will scrape in this exercise\n",
    "url = 'https://en.wikipedia.org/wiki/Walt_Disney'"
   ]
  },
  {
   "cell_type": "code",
   "execution_count": 216,
   "metadata": {},
   "outputs": [],
   "source": [
    "url = 'https://en.wikipedia.org/wiki/Walt_Disney'\n",
    "\n",
    "html=req.get(url).text\n",
    "\n",
    "soup=bs(html, 'html.parser')"
   ]
  },
  {
   "cell_type": "code",
   "execution_count": 226,
   "metadata": {},
   "outputs": [
    {
     "data": {
      "text/plain": [
       "'/wiki/File:Walt_Disney_1946.JPG'"
      ]
     },
     "execution_count": 226,
     "metadata": {},
     "output_type": "execute_result"
    }
   ],
   "source": [
    "pics=soup.find_all('a', class_='image')\n",
    "pics[0]['href']"
   ]
  },
  {
   "cell_type": "code",
   "execution_count": 227,
   "metadata": {},
   "outputs": [
    {
     "data": {
      "text/plain": [
       "<a class=\"image\" href=\"/wiki/File:Walt_Disney_1946.JPG\"><img alt=\"Walt Disney 1946.JPG\" data-file-height=\"675\" data-file-width=\"450\" decoding=\"async\" height=\"330\" src=\"//upload.wikimedia.org/wikipedia/commons/thumb/d/df/Walt_Disney_1946.JPG/220px-Walt_Disney_1946.JPG\" srcset=\"//upload.wikimedia.org/wikipedia/commons/thumb/d/df/Walt_Disney_1946.JPG/330px-Walt_Disney_1946.JPG 1.5x, //upload.wikimedia.org/wikipedia/commons/thumb/d/df/Walt_Disney_1946.JPG/440px-Walt_Disney_1946.JPG 2x\" width=\"220\"/></a>"
      ]
     },
     "execution_count": 227,
     "metadata": {},
     "output_type": "execute_result"
    }
   ],
   "source": [
    "pics[0]"
   ]
  },
  {
   "cell_type": "code",
   "execution_count": 229,
   "metadata": {},
   "outputs": [
    {
     "data": {
      "text/plain": [
       "['/wiki/File:Walt_Disney_1946.JPG',\n",
       " '/wiki/File:Walt_Disney_1942_signature.svg',\n",
       " '/wiki/File:Walt_Disney_Birthplace_Exterior_Hermosa_Chicago_Illinois.jpg',\n",
       " '/wiki/File:Walt_Disney_envelope_ca._1921.jpg',\n",
       " '/wiki/File:Trolley_Troubles_poster.jpg',\n",
       " '/wiki/File:Steamboat-willie.jpg',\n",
       " '/wiki/File:Walt_Disney_1935.jpg',\n",
       " '/wiki/File:Walt_Disney_Snow_white_1937_trailer_screenshot_(13).jpg',\n",
       " '/wiki/File:Disney_drawing_goofy.jpg',\n",
       " '/wiki/File:WaltDisneyplansDisneylandDec1954.jpg',\n",
       " '/wiki/File:Walt_disney_portrait_right.jpg',\n",
       " '/wiki/File:Walt_Disney_Grave.JPG',\n",
       " '/wiki/File:Roy_O._Disney_with_Company_at_Press_Conference.jpg',\n",
       " '/wiki/File:DisneySchiphol1951.jpg',\n",
       " '/wiki/File:Disney1968.jpg',\n",
       " '/wiki/File:Disney_Oscar_1953_(cropped).jpg',\n",
       " '/wiki/File:Disneyland_Resort_logo.svg',\n",
       " '/wiki/File:Animation_disc.svg',\n",
       " '/wiki/File:Magic_Kingdom_castle.jpg',\n",
       " '/wiki/File:Blank_television_set.svg']"
      ]
     },
     "execution_count": 229,
     "metadata": {},
     "output_type": "execute_result"
    }
   ],
   "source": [
    "picture=[]\n",
    "for i in range(len(pics)):\n",
    "    picture.append(pics[i]['href'])\n",
    "    \n",
    "    \n",
    "picture"
   ]
  },
  {
   "cell_type": "markdown",
   "metadata": {},
   "source": [
    "#### Retrieve an arbitary Wikipedia page of \"Python\" and create a list of links on that page"
   ]
  },
  {
   "cell_type": "code",
   "execution_count": 230,
   "metadata": {},
   "outputs": [],
   "source": [
    "# This is the url you will scrape in this exercise\n",
    "url ='https://en.wikipedia.org/wiki/Python' "
   ]
  },
  {
   "cell_type": "code",
   "execution_count": 231,
   "metadata": {},
   "outputs": [],
   "source": [
    "url = 'https://en.wikipedia.org/wiki/Python'\n",
    "\n",
    "html=req.get(url).text\n",
    "\n",
    "soup=bs(html, 'html.parser')"
   ]
  },
  {
   "cell_type": "code",
   "execution_count": 236,
   "metadata": {},
   "outputs": [
    {
     "data": {
      "text/plain": [
       "[<div class=\"mw-parser-output\"><style data-mw-deduplicate=\"TemplateStyles:r1097025294\">.mw-parser-output .side-box{margin:4px 0;box-sizing:border-box;border:1px solid #aaa;font-size:88%;line-height:1.25em;background-color:#f9f9f9}.mw-parser-output .side-box-abovebelow,.mw-parser-output .side-box-text{padding:0.25em 0.9em}.mw-parser-output .side-box-image{padding:2px 0 2px 0.9em;text-align:center}.mw-parser-output .side-box-imageright{padding:2px 0.9em 2px 0;text-align:center}@media(min-width:500px){.mw-parser-output .side-box-flex{display:flex;align-items:center}.mw-parser-output .side-box-text{flex:1}}@media(min-width:720px){.mw-parser-output .side-box{width:238px}.mw-parser-output .side-box-right{clear:right;float:right;margin-left:1em}.mw-parser-output .side-box-left{margin-right:1em}}</style><div class=\"side-box side-box-right plainlinks sistersitebox\">\n",
       " <div class=\"side-box-flex\">\n",
       " <div class=\"side-box-image\"><img alt=\"\" class=\"noviewer\" data-file-height=\"512\" data-file-width=\"512\" decoding=\"async\" height=\"40\" src=\"//upload.wikimedia.org/wikipedia/commons/thumb/9/99/Wiktionary-logo-en-v2.svg/40px-Wiktionary-logo-en-v2.svg.png\" srcset=\"//upload.wikimedia.org/wikipedia/commons/thumb/9/99/Wiktionary-logo-en-v2.svg/60px-Wiktionary-logo-en-v2.svg.png 1.5x, //upload.wikimedia.org/wikipedia/commons/thumb/9/99/Wiktionary-logo-en-v2.svg/80px-Wiktionary-logo-en-v2.svg.png 2x\" width=\"40\"/></div>\n",
       " <div class=\"side-box-text plainlist\">Look up <i><b><a class=\"extiw\" href=\"https://en.wiktionary.org/wiki/Python\" title=\"wiktionary:Python\">Python</a></b></i> or <i><b><a class=\"extiw\" href=\"https://en.wiktionary.org/wiki/python\" title=\"wiktionary:python\">python</a></b></i> in Wiktionary, the free dictionary.</div></div>\n",
       " </div>\n",
       " <p><b>Python</b> may refer to:\n",
       " </p>\n",
       " <style data-mw-deduplicate=\"TemplateStyles:r1044870489\">@media all and (max-width:720px){body.skin-minerva .mw-parser-output .tocright{display:none}.mw-parser-output .tocright{width:100%!important}}@media all and (min-width:720px){.mw-parser-output .tocright{float:right;clear:right;width:auto;margin:0 0 0.5em 1em}.mw-parser-output .tocright-clear-left{clear:left}.mw-parser-output .tocright-clear-both{clear:both}.mw-parser-output .tocright-clear-none{clear:none}}</style><div class=\"tocright\"><div aria-labelledby=\"mw-toc-heading\" class=\"toc\" id=\"toc\" role=\"navigation\"><input class=\"toctogglecheckbox\" id=\"toctogglecheckbox\" role=\"button\" style=\"display:none\" type=\"checkbox\"/><div class=\"toctitle\" dir=\"ltr\" lang=\"en\"><h2 id=\"mw-toc-heading\">Contents</h2><span class=\"toctogglespan\"><label class=\"toctogglelabel\" for=\"toctogglecheckbox\"></label></span></div>\n",
       " <ul>\n",
       " <li class=\"toclevel-1 tocsection-1\"><a href=\"#Snakes\"><span class=\"tocnumber\">1</span> <span class=\"toctext\">Snakes</span></a></li>\n",
       " <li class=\"toclevel-1 tocsection-2\"><a href=\"#Computing\"><span class=\"tocnumber\">2</span> <span class=\"toctext\">Computing</span></a></li>\n",
       " <li class=\"toclevel-1 tocsection-3\"><a href=\"#People\"><span class=\"tocnumber\">3</span> <span class=\"toctext\">People</span></a></li>\n",
       " <li class=\"toclevel-1 tocsection-4\"><a href=\"#Roller_coasters\"><span class=\"tocnumber\">4</span> <span class=\"toctext\">Roller coasters</span></a></li>\n",
       " <li class=\"toclevel-1 tocsection-5\"><a href=\"#Vehicles\"><span class=\"tocnumber\">5</span> <span class=\"toctext\">Vehicles</span></a></li>\n",
       " <li class=\"toclevel-1 tocsection-6\"><a href=\"#Weaponry\"><span class=\"tocnumber\">6</span> <span class=\"toctext\">Weaponry</span></a></li>\n",
       " <li class=\"toclevel-1 tocsection-7\"><a href=\"#Other_uses\"><span class=\"tocnumber\">7</span> <span class=\"toctext\">Other uses</span></a></li>\n",
       " <li class=\"toclevel-1 tocsection-8\"><a href=\"#See_also\"><span class=\"tocnumber\">8</span> <span class=\"toctext\">See also</span></a></li>\n",
       " </ul>\n",
       " </div>\n",
       " </div>\n",
       " <h2><span class=\"mw-headline\" id=\"Snakes\">Snakes</span><span class=\"mw-editsection\"><span class=\"mw-editsection-bracket\">[</span><a href=\"/w/index.php?title=Python&amp;action=edit&amp;section=1\" title=\"Edit section: Snakes\">edit</a><span class=\"mw-editsection-bracket\">]</span></span></h2>\n",
       " <ul><li><a href=\"/wiki/Pythonidae\" title=\"Pythonidae\">Pythonidae</a>, a family of nonvenomous snakes found in Africa, Asia, and Australia\n",
       " <ul><li><a href=\"/wiki/Python_(genus)\" title=\"Python (genus)\"><i>Python</i> (genus)</a>, a genus of Pythonidae found in Africa and Asia</li></ul></li>\n",
       " <li><a href=\"/wiki/Python_(mythology)\" title=\"Python (mythology)\">Python (mythology)</a>, a mythical serpent</li></ul>\n",
       " <h2><span class=\"mw-headline\" id=\"Computing\">Computing</span><span class=\"mw-editsection\"><span class=\"mw-editsection-bracket\">[</span><a href=\"/w/index.php?title=Python&amp;action=edit&amp;section=2\" title=\"Edit section: Computing\">edit</a><span class=\"mw-editsection-bracket\">]</span></span></h2>\n",
       " <ul><li><a href=\"/wiki/Python_(programming_language)\" title=\"Python (programming language)\">Python (programming language)</a>, a widely used programming language</li>\n",
       " <li>Python, a native code compiler for <a href=\"/wiki/CMU_Common_Lisp\" title=\"CMU Common Lisp\">CMU Common Lisp</a></li>\n",
       " <li>Python, the internal project name for the <a href=\"/wiki/PERQ#PERQ_3\" title=\"PERQ\">PERQ 3</a> computer workstation</li></ul>\n",
       " <h2><span class=\"mw-headline\" id=\"People\">People</span><span class=\"mw-editsection\"><span class=\"mw-editsection-bracket\">[</span><a href=\"/w/index.php?title=Python&amp;action=edit&amp;section=3\" title=\"Edit section: People\">edit</a><span class=\"mw-editsection-bracket\">]</span></span></h2>\n",
       " <ul><li><a href=\"/wiki/Python_of_Aenus\" title=\"Python of Aenus\">Python of Aenus</a> (4th-century BCE), student of Plato</li>\n",
       " <li><a href=\"/wiki/Python_(painter)\" title=\"Python (painter)\">Python (painter)</a>, (ca. 360–320 BCE) vase painter in Poseidonia</li>\n",
       " <li><a href=\"/wiki/Python_of_Byzantium\" title=\"Python of Byzantium\">Python of Byzantium</a>, orator, diplomat of Philip II of Macedon</li>\n",
       " <li><a href=\"/wiki/Python_of_Catana\" title=\"Python of Catana\">Python of Catana</a>, poet who accompanied Alexander the Great</li>\n",
       " <li><a href=\"/wiki/Python_Anghelo\" title=\"Python Anghelo\">Python Anghelo</a> (1954–2014) Romanian graphic artist</li></ul>\n",
       " <h2><span class=\"mw-headline\" id=\"Roller_coasters\">Roller coasters</span><span class=\"mw-editsection\"><span class=\"mw-editsection-bracket\">[</span><a href=\"/w/index.php?title=Python&amp;action=edit&amp;section=4\" title=\"Edit section: Roller coasters\">edit</a><span class=\"mw-editsection-bracket\">]</span></span></h2>\n",
       " <ul><li><a href=\"/wiki/Python_(Efteling)\" title=\"Python (Efteling)\">Python (Efteling)</a>, a roller coaster in the Netherlands</li>\n",
       " <li><a href=\"/wiki/Python_(Busch_Gardens_Tampa_Bay)\" title=\"Python (Busch Gardens Tampa Bay)\">Python (Busch Gardens Tampa Bay)</a>, a defunct roller coaster</li>\n",
       " <li><a href=\"/wiki/Python_(Coney_Island,_Cincinnati,_Ohio)\" title=\"Python (Coney Island, Cincinnati, Ohio)\">Python (Coney Island, Cincinnati, Ohio)</a>, a steel roller coaster</li></ul>\n",
       " <h2><span class=\"mw-headline\" id=\"Vehicles\">Vehicles</span><span class=\"mw-editsection\"><span class=\"mw-editsection-bracket\">[</span><a href=\"/w/index.php?title=Python&amp;action=edit&amp;section=5\" title=\"Edit section: Vehicles\">edit</a><span class=\"mw-editsection-bracket\">]</span></span></h2>\n",
       " <ul><li><a href=\"/wiki/Python_(automobile_maker)\" title=\"Python (automobile maker)\">Python (automobile maker)</a>, an Australian car company</li>\n",
       " <li><a href=\"/wiki/Python_(Ford_prototype)\" title=\"Python (Ford prototype)\">Python (Ford prototype)</a>, a Ford prototype sports car</li></ul>\n",
       " <h2><span class=\"mw-headline\" id=\"Weaponry\">Weaponry</span><span class=\"mw-editsection\"><span class=\"mw-editsection-bracket\">[</span><a href=\"/w/index.php?title=Python&amp;action=edit&amp;section=6\" title=\"Edit section: Weaponry\">edit</a><span class=\"mw-editsection-bracket\">]</span></span></h2>\n",
       " <ul><li><a href=\"/wiki/Python_(missile)\" title=\"Python (missile)\">Python (missile)</a>, a series of Israeli air-to-air missiles</li>\n",
       " <li><a href=\"/wiki/Python_(nuclear_primary)\" title=\"Python (nuclear primary)\">Python (nuclear primary)</a>, a gas-boosted fission primary used in thermonuclear weapons</li>\n",
       " <li><a href=\"/wiki/Colt_Python\" title=\"Colt Python\">Colt Python</a>, a revolver</li></ul>\n",
       " <h2><span class=\"mw-headline\" id=\"Other_uses\">Other uses</span><span class=\"mw-editsection\"><span class=\"mw-editsection-bracket\">[</span><a href=\"/w/index.php?title=Python&amp;action=edit&amp;section=7\" title=\"Edit section: Other uses\">edit</a><span class=\"mw-editsection-bracket\">]</span></span></h2>\n",
       " <ul><li><a href=\"/wiki/Python_(codename)\" title=\"Python (codename)\">Python (codename)</a>, a British nuclear war contingency plan</li>\n",
       " <li><a href=\"/wiki/Python_(film)\" title=\"Python (film)\"><i>Python</i> (film)</a>, a 2000 horror film by Richard Clabaugh</li>\n",
       " <li><a href=\"/wiki/Monty_Python\" title=\"Monty Python\">Monty Python</a> or the Pythons, a British comedy group\n",
       " <ul><li><a href=\"/wiki/Python_(Monty)_Pictures\" title=\"Python (Monty) Pictures\">Python (Monty) Pictures</a>, a company owned by the troupe's surviving members</li></ul></li>\n",
       " <li><i>Python</i>, a work written by philosopher <a href=\"/wiki/Timon_of_Phlius\" title=\"Timon of Phlius\">Timon of Phlius</a></li></ul>\n",
       " <h2><span class=\"mw-headline\" id=\"See_also\">See also</span><span class=\"mw-editsection\"><span class=\"mw-editsection-bracket\">[</span><a href=\"/w/index.php?title=Python&amp;action=edit&amp;section=8\" title=\"Edit section: See also\">edit</a><span class=\"mw-editsection-bracket\">]</span></span></h2>\n",
       " <ul><li><a href=\"/wiki/Cython\" title=\"Cython\">Cython</a>, a programming language superset of Python</li>\n",
       " <li><i><a href=\"/wiki/Pyton\" title=\"Pyton\">Pyton</a></i>, a Norwegian magazine</li>\n",
       " <li><a href=\"/wiki/Pithon\" title=\"Pithon\">Pithon</a>, a commune in northern France</li></ul>\n",
       " <div class=\"shortdescription nomobile noexcerpt noprint searchaux\" style=\"display:none\">Topics referred to by the same term</div>\n",
       " <style data-mw-deduplicate=\"TemplateStyles:r1097304697\">.mw-parser-output .dmbox{display:flex;align-items:center;clear:both;margin:0.9em 1em;border-top:1px solid #ccc;border-bottom:1px solid #ccc;padding:0.25em 0.35em;font-style:italic}.mw-parser-output .dmbox>*{flex-shrink:0;margin:0 0.25em}.mw-parser-output .dmbox-body{flex-grow:1;flex-shrink:1;padding:0.1em 0}.mw-parser-output .dmbox-invalid-type{text-align:center}</style>\n",
       " <div class=\"metadata plainlinks dmbox dmbox-disambig\" id=\"disambigbox\" role=\"note\"><a class=\"image\" href=\"/wiki/File:Disambig_gray.svg\"><img alt=\"Disambiguation icon\" data-file-height=\"168\" data-file-width=\"220\" decoding=\"async\" height=\"23\" src=\"//upload.wikimedia.org/wikipedia/en/thumb/5/5f/Disambig_gray.svg/30px-Disambig_gray.svg.png\" srcset=\"//upload.wikimedia.org/wikipedia/en/thumb/5/5f/Disambig_gray.svg/45px-Disambig_gray.svg.png 1.5x, //upload.wikimedia.org/wikipedia/en/thumb/5/5f/Disambig_gray.svg/60px-Disambig_gray.svg.png 2x\" width=\"30\"/></a><div class=\"dmbox-body\">This <a href=\"/wiki/Help:Disambiguation\" title=\"Help:Disambiguation\">disambiguation</a> page lists  articles associated with the title <b>Python</b>.<br/><small>If an <a class=\"external text\" href=\"https://en.wikipedia.org/w/index.php?title=Special:WhatLinksHere/Python&amp;namespace=0\">internal link</a> led you here, you may wish to change the link to point directly to the intended article.</small></div>\n",
       " </div>\n",
       " <!-- \n",
       " NewPP limit report\n",
       " Parsed by mw1423\n",
       " Cached time: 20221105081553\n",
       " Cache expiry: 1814400\n",
       " Reduced expiry: false\n",
       " Complications: [show‐toc]\n",
       " CPU time usage: 0.103 seconds\n",
       " Real time usage: 0.148 seconds\n",
       " Preprocessor visited node count: 1382/1000000\n",
       " Post‐expand include size: 6612/2097152 bytes\n",
       " Template argument size: 1380/2097152 bytes\n",
       " Highest expansion depth: 13/100\n",
       " Expensive parser function count: 1/500\n",
       " Unstrip recursion depth: 0/20\n",
       " Unstrip post‐expand size: 1805/5000000 bytes\n",
       " Lua time usage: 0.037/10.000 seconds\n",
       " Lua memory usage: 1548022/52428800 bytes\n",
       " Number of Wikibase entities loaded: 0/400\n",
       " -->\n",
       " <!--\n",
       " Transclusion expansion time report (%,ms,calls,template)\n",
       " 100.00%  126.203      1 -total\n",
       "  69.10%   87.201      1 Template:Disambiguation\n",
       "  30.75%   38.807      1 Template:Disambiguation_page_short_description\n",
       "  29.79%   37.602      1 Template:Short_description\n",
       "  23.98%   30.264      1 Template:Wiktionary\n",
       "  23.55%   29.718      1 Template:Dmbox\n",
       "  22.72%   28.674      1 Template:Sister_project\n",
       "  21.57%   27.216      1 Template:Side_box\n",
       "  18.91%   23.859      4 Template:Main_other\n",
       "  12.30%   15.517      1 Template:Pagetype\n",
       " -->\n",
       " <!-- Saved in parser cache with key enwiki:pcache:idhash:46332325-0!canonical and timestamp 20221105081552 and revision id 1120123765.\n",
       "  -->\n",
       " </div>]"
      ]
     },
     "execution_count": 236,
     "metadata": {},
     "output_type": "execute_result"
    }
   ],
   "source": [
    "soup.find_all(class_='mw-parser-output')"
   ]
  },
  {
   "cell_type": "code",
   "execution_count": 242,
   "metadata": {},
   "outputs": [],
   "source": [
    "link = []\n",
    "for i in range(1,len(soup.find_all('a'))):\n",
    "    if 'http' in soup.find_all('a')[i]['href']:\n",
    "        link.append(soup.find_all('a')[i]['href'])"
   ]
  },
  {
   "cell_type": "code",
   "execution_count": 297,
   "metadata": {},
   "outputs": [],
   "source": [
    "#link"
   ]
  },
  {
   "cell_type": "code",
   "execution_count": null,
   "metadata": {},
   "outputs": [],
   "source": []
  },
  {
   "cell_type": "markdown",
   "metadata": {},
   "source": [
    "#### Number of Titles that have changed in the United States Code since its last release point "
   ]
  },
  {
   "cell_type": "code",
   "execution_count": 250,
   "metadata": {},
   "outputs": [],
   "source": [
    "# This is the url you will scrape in this exercise\n",
    "url = 'http://uscode.house.gov/download/download.shtml'"
   ]
  },
  {
   "cell_type": "code",
   "execution_count": 251,
   "metadata": {},
   "outputs": [],
   "source": [
    "\n",
    "html=req.get(url).text\n",
    "\n",
    "soup=bs(html, 'html.parser')"
   ]
  },
  {
   "cell_type": "code",
   "execution_count": 256,
   "metadata": {},
   "outputs": [
    {
     "data": {
      "text/plain": [
       "60"
      ]
     },
     "execution_count": 256,
     "metadata": {},
     "output_type": "execute_result"
    }
   ],
   "source": [
    "titles=soup.find_all('div',class_=\"uscitem\")\n",
    "\n",
    "\n",
    "len(titles)"
   ]
  },
  {
   "cell_type": "code",
   "execution_count": 257,
   "metadata": {},
   "outputs": [
    {
     "data": {
      "text/plain": [
       "[<div class=\"usctitlechanged\" id=\"us/usc/t17\">\n",
       " \n",
       "           Title 17 - Copyrights <span class=\"footnote\"><a class=\"fn\" href=\"#fn\">٭</a></span>\n",
       " </div>,\n",
       " <div class=\"usctitlechanged\" id=\"us/usc/t22\">\n",
       " \n",
       "           Title 22 - Foreign Relations and Intercourse\n",
       " \n",
       "         </div>,\n",
       " <div class=\"usctitlechanged\" id=\"us/usc/t38\">\n",
       " \n",
       "           Title 38 - Veterans' Benefits <span class=\"footnote\"><a class=\"fn\" href=\"#fn\">٭</a></span>\n",
       " </div>,\n",
       " <div class=\"usctitlechanged\" id=\"us/usc/t40\">\n",
       " \n",
       "           Title 40 - Public Buildings, Property, and Works <span class=\"footnote\"><a class=\"fn\" href=\"#fn\">٭</a></span>\n",
       " </div>,\n",
       " <div class=\"usctitlechanged\" id=\"us/usc/t41\">\n",
       " \n",
       "           Title 41 - Public Contracts <span class=\"footnote\"><a class=\"fn\" href=\"#fn\">٭</a></span>\n",
       " </div>,\n",
       " <div class=\"usctitlechanged\" id=\"us/usc/t42\">\n",
       " \n",
       "           Title 42 - The Public Health and Welfare\n",
       " \n",
       "         </div>,\n",
       " <div class=\"usctitlechanged\" id=\"us/usc/t44\">\n",
       " \n",
       "           Title 44 - Public Printing and Documents <span class=\"footnote\"><a class=\"fn\" href=\"#fn\">٭</a></span>\n",
       " </div>,\n",
       " <div class=\"usctitlechanged\" id=\"us/usc/t49\">\n",
       " \n",
       "           Title 49 - Transportation <span class=\"footnote\"><a class=\"fn\" href=\"#fn\">٭</a></span>\n",
       " </div>,\n",
       " <div class=\"usctitlechanged\" id=\"us/usc/t54\" style=\"padding-bottom: 10px;\">\n",
       " \n",
       "           Title 54 - National Park Service and Related Programs <span class=\"footnote\"><a class=\"fn\" href=\"#fn\">٭</a></span>\n",
       " </div>]"
      ]
     },
     "execution_count": 257,
     "metadata": {},
     "output_type": "execute_result"
    }
   ],
   "source": [
    "count=soup.find_all('div',class_=\"usctitlechanged\")\n",
    "count"
   ]
  },
  {
   "cell_type": "code",
   "execution_count": 258,
   "metadata": {},
   "outputs": [
    {
     "data": {
      "text/plain": [
       "['Title 17 - Copyrights ٭',\n",
       " 'Title 22 - Foreign Relations and Intercourse',\n",
       " \"Title 38 - Veterans' Benefits ٭\",\n",
       " 'Title 40 - Public Buildings, Property, and Works ٭',\n",
       " 'Title 41 - Public Contracts ٭',\n",
       " 'Title 42 - The Public Health and Welfare',\n",
       " 'Title 44 - Public Printing and Documents ٭',\n",
       " 'Title 49 - Transportation ٭',\n",
       " 'Title 54 - National Park Service and Related Programs ٭']"
      ]
     },
     "execution_count": 258,
     "metadata": {},
     "output_type": "execute_result"
    }
   ],
   "source": [
    "title=[]\n",
    "for i in range(len(count)):\n",
    "    title.append(soup.find_all('div',class_=\"usctitlechanged\")[i].text.strip())\n",
    "    \n",
    "    \n",
    "title"
   ]
  },
  {
   "cell_type": "code",
   "execution_count": 298,
   "metadata": {},
   "outputs": [
    {
     "data": {
      "text/plain": [
       "9"
      ]
     },
     "execution_count": 298,
     "metadata": {},
     "output_type": "execute_result"
    }
   ],
   "source": [
    "len(title)"
   ]
  },
  {
   "cell_type": "markdown",
   "metadata": {},
   "source": [
    "#### A Python list with the top ten FBI's Most Wanted names "
   ]
  },
  {
   "cell_type": "code",
   "execution_count": 299,
   "metadata": {},
   "outputs": [],
   "source": [
    "# This is the url you will scrape in this exercise\n",
    "url = 'https://www.fbi.gov/wanted/topten'"
   ]
  },
  {
   "cell_type": "code",
   "execution_count": 300,
   "metadata": {},
   "outputs": [],
   "source": [
    "html=req.get(url).text\n",
    "soup=bs(html, 'html.parser')"
   ]
  },
  {
   "cell_type": "code",
   "execution_count": 301,
   "metadata": {},
   "outputs": [
    {
     "data": {
      "text/plain": [
       "[<h3 class=\"title\">\n",
       " <a href=\"https://www.fbi.gov/wanted/topten/omar-alexander-cardenas\">OMAR ALEXANDER CARDENAS</a>\n",
       " </h3>,\n",
       " <h3 class=\"title\">\n",
       " <a href=\"https://www.fbi.gov/wanted/topten/alexis-flores\">ALEXIS FLORES</a>\n",
       " </h3>,\n",
       " <h3 class=\"title\">\n",
       " <a href=\"https://www.fbi.gov/wanted/topten/jose-rodolfo-villarreal-hernandez\">JOSE RODOLFO VILLARREAL-HERNANDEZ</a>\n",
       " </h3>,\n",
       " <h3 class=\"title\">\n",
       " <a href=\"https://www.fbi.gov/wanted/topten/yulan-adonay-archaga-carias\">YULAN ADONAY ARCHAGA CARIAS</a>\n",
       " </h3>,\n",
       " <h3 class=\"title\">\n",
       " <a href=\"https://www.fbi.gov/wanted/topten/bhadreshkumar-chetanbhai-patel\">BHADRESHKUMAR CHETANBHAI PATEL</a>\n",
       " </h3>,\n",
       " <h3 class=\"title\">\n",
       " <a href=\"https://www.fbi.gov/wanted/topten/alejandro-castillo\">ALEJANDRO ROSALES CASTILLO</a>\n",
       " </h3>,\n",
       " <h3 class=\"title\">\n",
       " <a href=\"https://www.fbi.gov/wanted/topten/michael-james-pratt\">MICHAEL JAMES PRATT</a>\n",
       " </h3>,\n",
       " <h3 class=\"title\">\n",
       " <a href=\"https://www.fbi.gov/wanted/topten/ruja-ignatova\">RUJA IGNATOVA</a>\n",
       " </h3>,\n",
       " <h3 class=\"title\">\n",
       " <a href=\"https://www.fbi.gov/wanted/topten/arnoldo-jimenez\">ARNOLDO JIMENEZ</a>\n",
       " </h3>,\n",
       " <h3 class=\"title\">\n",
       " <a href=\"https://www.fbi.gov/wanted/topten/rafael-caro-quintero\">RAFAEL CARO-QUINTERO</a>\n",
       " </h3>]"
      ]
     },
     "execution_count": 301,
     "metadata": {},
     "output_type": "execute_result"
    }
   ],
   "source": [
    "soup.find_all('h3', class_ = 'title')"
   ]
  },
  {
   "cell_type": "code",
   "execution_count": 302,
   "metadata": {},
   "outputs": [],
   "source": [
    "wanted=soup.find_all('h3', class_ = 'title')"
   ]
  },
  {
   "cell_type": "code",
   "execution_count": 305,
   "metadata": {},
   "outputs": [
    {
     "data": {
      "text/plain": [
       "['OMAR ALEXANDER CARDENAS',\n",
       " 'ALEXIS FLORES',\n",
       " 'JOSE RODOLFO VILLARREAL-HERNANDEZ',\n",
       " 'YULAN ADONAY ARCHAGA CARIAS',\n",
       " 'BHADRESHKUMAR CHETANBHAI PATEL',\n",
       " 'ALEJANDRO ROSALES CASTILLO',\n",
       " 'MICHAEL JAMES PRATT',\n",
       " 'RUJA IGNATOVA',\n",
       " 'ARNOLDO JIMENEZ',\n",
       " 'RAFAEL CARO-QUINTERO']"
      ]
     },
     "execution_count": 305,
     "metadata": {},
     "output_type": "execute_result"
    }
   ],
   "source": [
    "wanted_1 = [e.text.strip() for e in wanted]\n",
    "wanted_1"
   ]
  },
  {
   "cell_type": "code",
   "execution_count": null,
   "metadata": {},
   "outputs": [],
   "source": []
  },
  {
   "cell_type": "markdown",
   "metadata": {},
   "source": [
    "####  20 latest earthquakes info (date, time, latitude, longitude and region name) by the EMSC as a pandas dataframe"
   ]
  },
  {
   "cell_type": "code",
   "execution_count": 306,
   "metadata": {},
   "outputs": [],
   "source": [
    "# This is the url you will scrape in this exercise\n",
    "url = 'https://www.emsc-csem.org/Earthquake/'"
   ]
  },
  {
   "cell_type": "code",
   "execution_count": 307,
   "metadata": {},
   "outputs": [],
   "source": [
    "html=req.get(url).text\n",
    "soup = bs(html, 'html.parser')"
   ]
  },
  {
   "cell_type": "code",
   "execution_count": 309,
   "metadata": {},
   "outputs": [
    {
     "data": {
      "text/plain": [
       "['\\n\\nSkip to content\\n\\n\\n\\n\\n\\n\\n\\nToggle navigation\\n\\n\\n\\n\\n\\n\\n\\n\\n\\n\\n            Sign\\xa0up\\n          \\n\\n\\n \\n\\n\\n\\n\\n\\n\\n\\n\\n\\n\\n\\n\\n\\n      Product\\n      \\n\\n\\n\\n\\n\\n\\n\\n\\n\\n\\n\\nActions\\n        Automate any workflow\\n      \\n\\n\\n\\n\\n\\n\\n\\nPackages\\n        Host and manage packages\\n      \\n\\n\\n\\n\\n\\n\\n\\nSecurity\\n        Find and fix vulnerabilities\\n      \\n\\n\\n\\n\\n\\n\\n\\nCodespaces\\n        Instant dev environments\\n      \\n\\n\\n\\n\\n\\n\\n\\nCopilot\\n        Write better code with AI\\n      \\n\\n\\n\\n\\n\\n\\n\\nCode review\\n        Manage code changes\\n      \\n\\n\\n\\n\\n\\n\\n\\nIssues\\n        Plan and track work\\n      \\n\\n\\n\\n\\n\\n\\n\\nDiscussions\\n        Collaborate outside of code\\n      \\n\\n\\n\\nExplore\\n\\n\\n      All features\\n\\n    \\n\\n\\n\\n      Documentation\\n\\n    \\n\\n\\n\\n\\n\\n      GitHub Skills\\n\\n    \\n\\n\\n\\n\\n\\n      Blog\\n\\n    \\n\\n\\n\\n\\n\\n\\n\\n\\n      Solutions\\n      \\n\\n\\n\\n\\n\\nBy Plan\\n\\n\\n      Enterprise\\n\\n    \\n\\n\\n\\n      Teams\\n\\n    \\n\\n\\n\\n      Compare all\\n\\n    \\n\\n\\n\\nBy Solution\\n\\n\\n      CI/CD & Automation\\n\\n    \\n\\n\\n\\n      DevOps\\n\\n    \\n\\n\\n\\n\\n\\n      DevSecOps\\n\\n    \\n\\n\\n\\n\\n\\nCase Studies\\n\\n\\n      Customer Stories\\n\\n    \\n\\n\\n\\n      Resources\\n\\n    \\n\\n\\n\\n\\n\\n\\n\\n\\n      Open Source\\n      \\n\\n\\n\\n\\n\\n\\n\\n\\nGitHub Sponsors\\n        Fund open source developers\\n      \\n\\n\\n\\n\\n\\n\\nThe ReadME Project\\n        GitHub community articles\\n      \\n\\n\\n\\nRepositories\\n\\n\\n      Topics\\n\\n    \\n\\n\\n\\n      Trending\\n\\n    \\n\\n\\n\\n      Collections\\n\\n    \\n\\n\\n\\n\\n\\nPricing\\n\\n\\n\\n\\n\\n\\n\\n\\n\\n\\n\\n\\n\\n\\n\\n\\n\\n\\n\\n\\n\\n\\n\\n\\n\\n\\n\\n\\n\\n\\n\\n\\n\\n        Search\\n      \\n\\n        All GitHub\\n      \\n↵\\n\\n\\n      Jump to\\n      ↵\\n\\n\\n\\n\\n\\n\\nNo suggested jump to results\\n\\n\\n\\n\\n\\n\\n\\n\\n\\n\\n\\n\\n\\n\\n\\n\\n\\n\\n\\n\\n\\n        Search\\n      \\n\\n        All GitHub\\n      \\n↵\\n\\n\\n      Jump to\\n      ↵\\n\\n\\n\\n\\n\\n\\n\\n\\n\\n\\n\\n\\n\\n\\n\\n\\n\\n\\n\\n\\n\\n        Search\\n      \\n\\n        All GitHub\\n      \\n↵\\n\\n\\n      Jump to\\n      ↵\\n\\n\\n\\n\\n\\n\\n\\n\\n\\n\\n\\n\\n\\n\\n\\n\\n\\n\\n\\n\\n\\n        Search\\n      \\n\\n        All GitHub\\n      \\n↵\\n\\n\\n      Jump to\\n      ↵\\n\\n\\n\\n\\n\\n\\n \\n\\n\\n\\n\\n              Sign in\\n            \\n\\n\\n              Sign up\\n            \\n\\n\\n\\n\\n\\n\\n\\n\\n\\n\\n\\n\\n\\n\\n\\n\\nExplore\\nTopics\\nTrending\\nCollections\\nEvents\\nGitHub Sponsors\\n\\n\\n              Get email updates\\n \\n\\n\\n\\n\\n\\nTrending\\n\\n      These are the developers building the hot tools today.\\n    \\n\\n\\n\\n\\n\\n\\nRepositories\\nDevelopers\\n\\n\\n\\n\\n    Language:\\n\\n    \\n        Any\\n\\n\\n\\n\\n\\n        Select a language\\n\\n\\n\\n\\n\\n\\n\\n\\n\\n\\n\\n\\n\\n\\n              Unknown languages\\n \\n\\n              1C Enterprise\\n \\n\\n              2-Dimensional Array\\n \\n\\n              4D\\n \\n\\n              ABAP\\n \\n\\n              ABAP CDS\\n \\n\\n              ABNF\\n \\n\\n              ActionScript\\n \\n\\n              Ada\\n \\n\\n              Adblock Filter List\\n \\n\\n              Adobe Font Metrics\\n \\n\\n              Agda\\n \\n\\n              AGS Script\\n \\n\\n              AIDL\\n \\n\\n              AL\\n \\n\\n              Alloy\\n \\n\\n              Alpine Abuild\\n \\n\\n              Altium Designer\\n \\n\\n              AMPL\\n \\n\\n              AngelScript\\n \\n\\n              Ant Build System\\n \\n\\n              Antlers\\n \\n\\n              ANTLR\\n \\n\\n              ApacheConf\\n \\n\\n              Apex\\n \\n\\n              API Blueprint\\n \\n\\n              APL\\n \\n\\n              Apollo Guidance Computer\\n \\n\\n              AppleScript\\n \\n\\n              Arc\\n \\n\\n              AsciiDoc\\n \\n\\n              ASL\\n \\n\\n              ASN.1\\n \\n\\n              Classic ASP\\n \\n\\n              ASP.NET\\n \\n\\n              AspectJ\\n \\n\\n              Assembly\\n \\n\\n              Astro\\n \\n\\n              Asymptote\\n \\n\\n              ATS\\n \\n\\n              Augeas\\n \\n\\n              AutoHotkey\\n \\n\\n              AutoIt\\n \\n\\n              Avro IDL\\n \\n\\n              Awk\\n \\n\\n              Ballerina\\n \\n\\n              BASIC\\n \\n\\n              Batchfile\\n \\n\\n              Beef\\n \\n\\n              Befunge\\n \\n\\n              Berry\\n \\n\\n              BibTeX\\n \\n\\n              Bicep\\n \\n\\n              Bikeshed\\n \\n\\n              Bison\\n \\n\\n              BitBake\\n \\n\\n              Blade\\n \\n\\n              BlitzBasic\\n \\n\\n              BlitzMax\\n \\n\\n              Bluespec\\n \\n\\n              Boo\\n \\n\\n              Boogie\\n \\n\\n              Brainfuck\\n \\n\\n              BrighterScript\\n \\n\\n              Brightscript\\n \\n\\n              Zeek\\n \\n\\n              Browserslist\\n \\n\\n              C\\n \\n\\n              C#\\n \\n\\n              C++\\n \\n\\n              C-ObjDump\\n \\n\\n              C2hs Haskell\\n \\n\\n              Cabal Config\\n \\n\\n              Cadence\\n \\n\\n              Cairo\\n \\n\\n              CameLIGO\\n \\n\\n              CAP CDS\\n \\n\\n              Cap\\'n Proto\\n \\n\\n              CartoCSS\\n \\n\\n              Ceylon\\n \\n\\n              Chapel\\n \\n\\n              Charity\\n \\n\\n              Checksums\\n \\n\\n              ChucK\\n \\n\\n              CIL\\n \\n\\n              Cirru\\n \\n\\n              Clarion\\n \\n\\n              Clarity\\n \\n\\n              Classic ASP\\n \\n\\n              Clean\\n \\n\\n              Click\\n \\n\\n              CLIPS\\n \\n\\n              Clojure\\n \\n\\n              Closure Templates\\n \\n\\n              Cloud Firestore Security Rules\\n \\n\\n              CMake\\n \\n\\n              COBOL\\n \\n\\n              CODEOWNERS\\n \\n\\n              CodeQL\\n \\n\\n              CoffeeScript\\n \\n\\n              ColdFusion\\n \\n\\n              ColdFusion CFC\\n \\n\\n              COLLADA\\n \\n\\n              Common Lisp\\n \\n\\n              Common Workflow Language\\n \\n\\n              Component Pascal\\n \\n\\n              CoNLL-U\\n \\n\\n              Cool\\n \\n\\n              Coq\\n \\n\\n              Cpp-ObjDump\\n \\n\\n              Creole\\n \\n\\n              Crystal\\n \\n\\n              CSON\\n \\n\\n              Csound\\n \\n\\n              Csound Document\\n \\n\\n              Csound Score\\n \\n\\n              CSS\\n \\n\\n              CSV\\n \\n\\n              Cuda\\n \\n\\n              CUE\\n \\n\\n              Cue Sheet\\n \\n\\n              cURL Config\\n \\n\\n              Curry\\n \\n\\n              CWeb\\n \\n\\n              Cycript\\n \\n\\n              Cython\\n \\n\\n              D\\n \\n\\n              D-ObjDump\\n \\n\\n              Dafny\\n \\n\\n              Darcs Patch\\n \\n\\n              Dart\\n \\n\\n              DataWeave\\n \\n\\n              Debian Package Control File\\n \\n\\n              DenizenScript\\n \\n\\n              desktop\\n \\n\\n              Dhall\\n \\n\\n              Diff\\n \\n\\n              DIGITAL Command Language\\n \\n\\n              dircolors\\n \\n\\n              DirectX 3D File\\n \\n\\n              DM\\n \\n\\n              DNS Zone\\n \\n\\n              Dockerfile\\n \\n\\n              Dogescript\\n \\n\\n              DTrace\\n \\n\\n              Dylan\\n \\n\\n              E\\n \\n\\n              E-mail\\n \\n\\n              Eagle\\n \\n\\n              Earthly\\n \\n\\n              Easybuild\\n \\n\\n              EBNF\\n \\n\\n              eC\\n \\n\\n              Ecere Projects\\n \\n\\n              ECL\\n \\n\\n              ECLiPSe\\n \\n\\n              EditorConfig\\n \\n\\n              Edje Data Collection\\n \\n\\n              edn\\n \\n\\n              Eiffel\\n \\n\\n              EJS\\n \\n\\n              Elixir\\n \\n\\n              Elm\\n \\n\\n              Elvish\\n \\n\\n              Emacs Lisp\\n \\n\\n              EmberScript\\n \\n\\n              E-mail\\n \\n\\n              EQ\\n \\n\\n              Erlang\\n \\n\\n              Euphoria\\n \\n\\n              F#\\n \\n\\n              F*\\n \\n\\n              Factor\\n \\n\\n              Fancy\\n \\n\\n              Fantom\\n \\n\\n              Faust\\n \\n\\n              Fennel\\n \\n\\n              FIGlet Font\\n \\n\\n              Filebench WML\\n \\n\\n              Filterscript\\n \\n\\n              fish\\n \\n\\n              Fluent\\n \\n\\n              FLUX\\n \\n\\n              Formatted\\n \\n\\n              Forth\\n \\n\\n              Fortran\\n \\n\\n              Fortran Free Form\\n \\n\\n              FreeBasic\\n \\n\\n              FreeMarker\\n \\n\\n              Frege\\n \\n\\n              Futhark\\n \\n\\n              G-code\\n \\n\\n              Game Maker Language\\n \\n\\n              GAML\\n \\n\\n              GAMS\\n \\n\\n              GAP\\n \\n\\n              GCC Machine Description\\n \\n\\n              GDB\\n \\n\\n              GDScript\\n \\n\\n              GEDCOM\\n \\n\\n              Gemfile.lock\\n \\n\\n              Gemini\\n \\n\\n              Genero\\n \\n\\n              Genero Forms\\n \\n\\n              Genie\\n \\n\\n              Genshi\\n \\n\\n              Gentoo Ebuild\\n \\n\\n              Gentoo Eclass\\n \\n\\n              Gerber Image\\n \\n\\n              Gettext Catalog\\n \\n\\n              Gherkin\\n \\n\\n              Git Attributes\\n \\n\\n              Git Config\\n \\n\\n              Git Revision List\\n \\n\\n              Gleam\\n \\n\\n              GLSL\\n \\n\\n              Glyph\\n \\n\\n              Glyph Bitmap Distribution Format\\n \\n\\n              GN\\n \\n\\n              Gnuplot\\n \\n\\n              Go\\n \\n\\n              Go Checksums\\n \\n\\n              Go Module\\n \\n\\n              Golo\\n \\n\\n              Gosu\\n \\n\\n              Grace\\n \\n\\n              Gradle\\n \\n\\n              Grammatical Framework\\n \\n\\n              Graph Modeling Language\\n \\n\\n              GraphQL\\n \\n\\n              Graphviz (DOT)\\n \\n\\n              Groovy\\n \\n\\n              Groovy Server Pages\\n \\n\\n              GSC\\n \\n\\n              Hack\\n \\n\\n              Haml\\n \\n\\n              Handlebars\\n \\n\\n              HAProxy\\n \\n\\n              Harbour\\n \\n\\n              Haskell\\n \\n\\n              Haxe\\n \\n\\n              HCL\\n \\n\\n              HiveQL\\n \\n\\n              HLSL\\n \\n\\n              HOCON\\n \\n\\n              HolyC\\n \\n\\n              hoon\\n \\n\\n              HTML\\n \\n\\n              Jinja\\n \\n\\n              HTML+ECR\\n \\n\\n              HTML+EEX\\n \\n\\n              HTML+ERB\\n \\n\\n              HTML+PHP\\n \\n\\n              HTML+Razor\\n \\n\\n              HTTP\\n \\n\\n              HXML\\n \\n\\n              Hy\\n \\n\\n              HyPhy\\n \\n\\n              IDL\\n \\n\\n              Idris\\n \\n\\n              Ignore List\\n \\n\\n              IGOR Pro\\n \\n\\n              ImageJ Macro\\n \\n\\n              Inform 7\\n \\n\\n              INI\\n \\n\\n              Inno Setup\\n \\n\\n              Io\\n \\n\\n              Ioke\\n \\n\\n              IRC log\\n \\n\\n              Isabelle\\n \\n\\n              Isabelle ROOT\\n \\n\\n              J\\n \\n\\n              Janet\\n \\n\\n              JAR Manifest\\n \\n\\n              Jasmin\\n \\n\\n              Java\\n \\n\\n              Java Properties\\n \\n\\n              Java Server Pages\\n \\n\\n              JavaScript\\n \\n\\n              JavaScript+ERB\\n \\n\\n              Jest Snapshot\\n \\n\\n              JetBrains MPS\\n \\n\\n              JFlex\\n \\n\\n              Jinja\\n \\n\\n              Jison\\n \\n\\n              Jison Lex\\n \\n\\n              Jolie\\n \\n\\n              jq\\n \\n\\n              JSON\\n \\n\\n              JSON with Comments\\n \\n\\n              JSON5\\n \\n\\n              JSONiq\\n \\n\\n              JSONLD\\n \\n\\n              Jsonnet\\n \\n\\n              Julia\\n \\n\\n              Jupyter Notebook\\n \\n\\n              Kaitai Struct\\n \\n\\n              KakouneScript\\n \\n\\n              KiCad Layout\\n \\n\\n              KiCad Legacy Layout\\n \\n\\n              KiCad Schematic\\n \\n\\n              Kit\\n \\n\\n              Kotlin\\n \\n\\n              KRL\\n \\n\\n              Kusto\\n \\n\\n              kvlang\\n \\n\\n              LabVIEW\\n \\n\\n              Lark\\n \\n\\n              Lasso\\n \\n\\n              Latte\\n \\n\\n              Lean\\n \\n\\n              Less\\n \\n\\n              Lex\\n \\n\\n              LFE\\n \\n\\n              LigoLANG\\n \\n\\n              LilyPond\\n \\n\\n              Limbo\\n \\n\\n              Linker Script\\n \\n\\n              Linux Kernel Module\\n \\n\\n              Liquid\\n \\n\\n              Literate Agda\\n \\n\\n              Literate CoffeeScript\\n \\n\\n              Literate Haskell\\n \\n\\n              LiveScript\\n \\n\\n              LLVM\\n \\n\\n              Logos\\n \\n\\n              Logtalk\\n \\n\\n              LOLCODE\\n \\n\\n              LookML\\n \\n\\n              LoomScript\\n \\n\\n              LSL\\n \\n\\n              LTspice Symbol\\n \\n\\n              Lua\\n \\n\\n              M\\n \\n\\n              M4\\n \\n\\n              M4Sugar\\n \\n\\n              Macaulay2\\n \\n\\n              Makefile\\n \\n\\n              Mako\\n \\n\\n              Markdown\\n \\n\\n              Marko\\n \\n\\n              Mask\\n \\n\\n              Mathematica\\n \\n\\n              MATLAB\\n \\n\\n              Maven POM\\n \\n\\n              Max\\n \\n\\n              MAXScript\\n \\n\\n              mcfunction\\n \\n\\n              Wikitext\\n \\n\\n              Mercury\\n \\n\\n              Meson\\n \\n\\n              Metal\\n \\n\\n              Microsoft Developer Studio Project\\n \\n\\n              Microsoft Visual Studio Solution\\n \\n\\n              MiniD\\n \\n\\n              MiniYAML\\n \\n\\n              Mint\\n \\n\\n              Mirah\\n \\n\\n              mIRC Script\\n \\n\\n              MLIR\\n \\n\\n              Modelica\\n \\n\\n              Modula-2\\n \\n\\n              Modula-3\\n \\n\\n              Module Management System\\n \\n\\n              Monkey\\n \\n\\n              Monkey C\\n \\n\\n              Moocode\\n \\n\\n              MoonScript\\n \\n\\n              Motoko\\n \\n\\n              Motorola 68K Assembly\\n \\n\\n              Move\\n \\n\\n              MQL4\\n \\n\\n              MQL5\\n \\n\\n              MTML\\n \\n\\n              MUF\\n \\n\\n              mupad\\n \\n\\n              Muse\\n \\n\\n              Mustache\\n \\n\\n              Myghty\\n \\n\\n              nanorc\\n \\n\\n              Nasal\\n \\n\\n              NASL\\n \\n\\n              NCL\\n \\n\\n              Nearley\\n \\n\\n              Nemerle\\n \\n\\n              NEON\\n \\n\\n              nesC\\n \\n\\n              NetLinx\\n \\n\\n              NetLinx+ERB\\n \\n\\n              NetLogo\\n \\n\\n              NewLisp\\n \\n\\n              Nextflow\\n \\n\\n              Nginx\\n \\n\\n              Nim\\n \\n\\n              Ninja\\n \\n\\n              Nit\\n \\n\\n              Nix\\n \\n\\n              NL\\n \\n\\n              NPM Config\\n \\n\\n              NSIS\\n \\n\\n              Nu\\n \\n\\n              NumPy\\n \\n\\n              Nunjucks\\n \\n\\n              NWScript\\n \\n\\n              ObjDump\\n \\n\\n              Object Data Instance Notation\\n \\n\\n              Objective-C\\n \\n\\n              Objective-C++\\n \\n\\n              Objective-J\\n \\n\\n              ObjectScript\\n \\n\\n              OCaml\\n \\n\\n              Odin\\n \\n\\n              Omgrofl\\n \\n\\n              ooc\\n \\n\\n              Opa\\n \\n\\n              Opal\\n \\n\\n              Open Policy Agent\\n \\n\\n              OpenCL\\n \\n\\n              OpenEdge ABL\\n \\n\\n              OpenQASM\\n \\n\\n              OpenRC runscript\\n \\n\\n              OpenSCAD\\n \\n\\n              OpenStep Property List\\n \\n\\n              OpenType Feature File\\n \\n\\n              Org\\n \\n\\n              Ox\\n \\n\\n              Oxygene\\n \\n\\n              Oz\\n \\n\\n              P4\\n \\n\\n              Pan\\n \\n\\n              Papyrus\\n \\n\\n              Parrot\\n \\n\\n              Parrot Assembly\\n \\n\\n              Parrot Internal Representation\\n \\n\\n              Pascal\\n \\n\\n              Pawn\\n \\n\\n              PEG.js\\n \\n\\n              Pep8\\n \\n\\n              Perl\\n \\n\\n              PHP\\n \\n\\n              Pic\\n \\n\\n              Pickle\\n \\n\\n              PicoLisp\\n \\n\\n              PigLatin\\n \\n\\n              Pike\\n \\n\\n              PlantUML\\n \\n\\n              PLpgSQL\\n \\n\\n              PLSQL\\n \\n\\n              Pod\\n \\n\\n              Pod 6\\n \\n\\n              PogoScript\\n \\n\\n              Pony\\n \\n\\n              Portugol\\n \\n\\n              PostCSS\\n \\n\\n              PostScript\\n \\n\\n              POV-Ray SDL\\n \\n\\n              PowerBuilder\\n \\n\\n              PowerShell\\n \\n\\n              Prisma\\n \\n\\n              Processing\\n \\n\\n              Procfile\\n \\n\\n              Proguard\\n \\n\\n              Prolog\\n \\n\\n              Promela\\n \\n\\n              Propeller Spin\\n \\n\\n              Protocol Buffer\\n \\n\\n              Protocol Buffer Text Format\\n \\n\\n              Public Key\\n \\n\\n              Pug\\n \\n\\n              Puppet\\n \\n\\n              Pure Data\\n \\n\\n              PureBasic\\n \\n\\n              PureScript\\n \\n\\n              Python\\n \\n\\n              Python console\\n \\n\\n              Python traceback\\n \\n\\n              q\\n \\n\\n              Q#\\n \\n\\n              QMake\\n \\n\\n              QML\\n \\n\\n              Qt Script\\n \\n\\n              Quake\\n \\n\\n              R\\n \\n\\n              Racket\\n \\n\\n              Ragel\\n \\n\\n              Raku\\n \\n\\n              RAML\\n \\n\\n              Rascal\\n \\n\\n              Raw token data\\n \\n\\n              RDoc\\n \\n\\n              Readline Config\\n \\n\\n              REALbasic\\n \\n\\n              Reason\\n \\n\\n              ReasonLIGO\\n \\n\\n              Rebol\\n \\n\\n              Record Jar\\n \\n\\n              Red\\n \\n\\n              Redcode\\n \\n\\n              Redirect Rules\\n \\n\\n              Regular Expression\\n \\n\\n              Ren\\'Py\\n \\n\\n              RenderScript\\n \\n\\n              ReScript\\n \\n\\n              reStructuredText\\n \\n\\n              REXX\\n \\n\\n              Rich Text Format\\n \\n\\n              Ring\\n \\n\\n              Riot\\n \\n\\n              RMarkdown\\n \\n\\n              RobotFramework\\n \\n\\n              robots.txt\\n \\n\\n              Roff\\n \\n\\n              Roff Manpage\\n \\n\\n              Rouge\\n \\n\\n              RouterOS Script\\n \\n\\n              RPC\\n \\n\\n              RPGLE\\n \\n\\n              RPM Spec\\n \\n\\n              Ruby\\n \\n\\n              RUNOFF\\n \\n\\n              Rust\\n \\n\\n              Sage\\n \\n\\n              SaltStack\\n \\n\\n              SAS\\n \\n\\n              Sass\\n \\n\\n              Scala\\n \\n\\n              Scaml\\n \\n\\n              Scheme\\n \\n\\n              Scilab\\n \\n\\n              SCSS\\n \\n\\n              sed\\n \\n\\n              Self\\n \\n\\n              SELinux Policy\\n \\n\\n              ShaderLab\\n \\n\\n              Shell\\n \\n\\n              ShellCheck Config\\n \\n\\n              ShellSession\\n \\n\\n              Shen\\n \\n\\n              Sieve\\n \\n\\n              Singularity\\n \\n\\n              Slash\\n \\n\\n              Slice\\n \\n\\n              Slim\\n \\n\\n              Smali\\n \\n\\n              Smalltalk\\n \\n\\n              Smarty\\n \\n\\n              SmPL\\n \\n\\n              SMT\\n \\n\\n              Solidity\\n \\n\\n              Soong\\n \\n\\n              SourcePawn\\n \\n\\n              SPARQL\\n \\n\\n              Spline Font Database\\n \\n\\n              SQF\\n \\n\\n              SQL\\n \\n\\n              SQLPL\\n \\n\\n              Squirrel\\n \\n\\n              SRecode Template\\n \\n\\n              SSH Config\\n \\n\\n              Stan\\n \\n\\n              Standard ML\\n \\n\\n              STAR\\n \\n\\n              Starlark\\n \\n\\n              Stata\\n \\n\\n              STL\\n \\n\\n              STON\\n \\n\\n              StringTemplate\\n \\n\\n              Stylus\\n \\n\\n              SubRip Text\\n \\n\\n              SugarSS\\n \\n\\n              SuperCollider\\n \\n\\n              Svelte\\n \\n\\n              SVG\\n \\n\\n              Swift\\n \\n\\n              SWIG\\n \\n\\n              SystemVerilog\\n \\n\\n              Talon\\n \\n\\n              Tcl\\n \\n\\n              Tcsh\\n \\n\\n              Tea\\n \\n\\n              Terra\\n \\n\\n              TeX\\n \\n\\n              Texinfo\\n \\n\\n              Text\\n \\n\\n              Textile\\n \\n\\n              TextMate Properties\\n \\n\\n              Thrift\\n \\n\\n              TI Program\\n \\n\\n              TLA\\n \\n\\n              TOML\\n \\n\\n              TSQL\\n \\n\\n              TSV\\n \\n\\n              TSX\\n \\n\\n              Turing\\n \\n\\n              Turtle\\n \\n\\n              Twig\\n \\n\\n              TXL\\n \\n\\n              Type Language\\n \\n\\n              TypeScript\\n \\n\\n              Unified Parallel C\\n \\n\\n              Unity3D Asset\\n \\n\\n              Unix Assembly\\n \\n\\n              Uno\\n \\n\\n              UnrealScript\\n \\n\\n              UrWeb\\n \\n\\n              V\\n \\n\\n              Vala\\n \\n\\n              Valve Data Format\\n \\n\\n              VBA\\n \\n\\n              VBScript\\n \\n\\n              VCL\\n \\n\\n              Velocity Template Language\\n \\n\\n              Verilog\\n \\n\\n              VHDL\\n \\n\\n              Vim Help File\\n \\n\\n              Vim Script\\n \\n\\n              Vim Snippet\\n \\n\\n              Visual Basic .NET\\n \\n\\n              Visual Basic .NET\\n \\n\\n              Volt\\n \\n\\n              Vue\\n \\n\\n              Vyper\\n \\n\\n              Wavefront Material\\n \\n\\n              Wavefront Object\\n \\n\\n              wdl\\n \\n\\n              Web Ontology Language\\n \\n\\n              WebAssembly\\n \\n\\n              WebIDL\\n \\n\\n              WebVTT\\n \\n\\n              Wget Config\\n \\n\\n              Whiley\\n \\n\\n              Wikitext\\n \\n\\n              Win32 Message File\\n \\n\\n              Windows Registry Entries\\n \\n\\n              wisp\\n \\n\\n              Witcher Script\\n \\n\\n              Wollok\\n \\n\\n              World of Warcraft Addon Data\\n \\n\\n              Wren\\n \\n\\n              X BitMap\\n \\n\\n              X Font Directory Index\\n \\n\\n              X PixMap\\n \\n\\n              X10\\n \\n\\n              xBase\\n \\n\\n              XC\\n \\n\\n              XCompose\\n \\n\\n              XML\\n \\n\\n              XML Property List\\n \\n\\n              Xojo\\n \\n\\n              Xonsh\\n \\n\\n              XPages\\n \\n\\n              XProc\\n \\n\\n              XQuery\\n \\n\\n              XS\\n \\n\\n              XSLT\\n \\n\\n              Xtend\\n \\n\\n              Yacc\\n \\n\\n              YAML\\n \\n\\n              YANG\\n \\n\\n              YARA\\n \\n\\n              YASnippet\\n \\n\\n              Yul\\n \\n\\n              ZAP\\n \\n\\n              Zeek\\n \\n\\n              ZenScript\\n \\n\\n              Zephir\\n \\n\\n              Zig\\n \\n\\n              ZIL\\n \\n\\n              Zimpl\\n \\n\\n\\n\\n\\n\\n\\n\\n\\n\\n\\n\\n\\n    Date range:\\n\\n    \\n      Today\\n\\n\\n\\n\\n\\n        Adjust time span\\n\\n\\n\\n\\n\\n\\n\\n\\n\\n\\n\\n            Today\\n \\n\\n\\n\\n\\n            This week\\n \\n\\n\\n\\n\\n            This month\\n \\n\\n\\n\\n\\n\\n    Sponsorable:\\n    All\\n\\n\\n\\nGitHub Sponsors participation\\n\\n\\n\\n\\n\\n\\n\\n\\n\\nSponsorable developers\\n\\n\\n\\n\\n\\nAll developers\\n \\n\\n\\n\\n\\n\\n\\n\\n\\n    1\\n\\n\\n\\n\\n \\n\\n\\n\\n\\n\\n            Emil Ernerfeldt\\n \\n\\n\\n              emilk\\n \\n\\n\\n\\n\\n\\n\\nPopular repo\\n\\n\\n\\n\\n\\n      egui\\n \\n\\n      egui: an easy-to-use immediate mode GUI in Rust that runs on both web and native\\n    \\n\\n\\n\\n\\n\\n\\n\\n\\n\\nFollow\\n\\n\\n\\n\\n\\n\\n\\n\\n\\n    2\\n\\n\\n\\n\\n \\n\\n\\n\\n\\n\\n            Earle F. Philhower, III\\n \\n\\n\\n              earlephilhower\\n \\n\\n\\n\\n\\n\\n\\nPopular repo\\n\\n\\n\\n\\n\\n      arduino-pico\\n \\n\\n      Raspberry Pi Pico Arduino core, for all RP2040 boards\\n    \\n\\n\\n\\n\\n\\n\\n\\n\\n\\nFollow\\n\\n\\n\\n\\n\\n\\n\\n\\n\\n    3\\n\\n\\n\\n\\n \\n\\n\\n\\n\\n\\n            Nikita Sobolev\\n \\n\\n\\n              sobolevn\\n \\n\\n\\n\\n\\n\\n\\nPopular repo\\n\\n\\n\\n\\n\\n      awesome-cryptography\\n \\n\\n      A curated list of cryptography resources and links.\\n    \\n\\n\\n\\n\\n\\n\\n\\n\\n\\nFollow\\n\\n\\n\\n\\n\\n\\n\\n\\n\\n    4\\n\\n\\n\\n\\n \\n\\n\\n\\n\\n\\n            Stephen Celis\\n \\n\\n\\n              stephencelis\\n \\n\\n\\n\\n\\n\\n\\nPopular repo\\n\\n\\n\\n\\n\\n      SQLite.swift\\n \\n\\n      A type-safe, Swift-language layer over SQLite3.\\n    \\n\\n\\n\\n\\n\\n\\n\\n\\n\\nFollow\\n\\n\\n\\n\\n\\n\\n\\n\\n\\n    5\\n\\n\\n\\n\\n \\n\\n\\n\\n\\n\\n            Justin Fagnani\\n \\n\\n\\n              justinfagnani\\n \\n\\n\\n\\n\\n\\n\\nPopular repo\\n\\n\\n\\n\\n\\n      mixwith.js\\n \\n\\n      A mixin library for ES6\\n    \\n\\n\\n\\n\\n\\n\\n\\n\\n\\nFollow\\n\\n\\n\\n\\n\\n\\n\\n\\n\\n    6\\n\\n\\n\\n\\n \\n\\n\\n\\n\\n\\n            Manu MA\\n \\n\\n\\n              manucorporat\\n \\n\\n\\n\\n\\n\\n\\nPopular repo\\n\\n\\n\\n\\n\\n      qwik-conference-app\\n \\n\\n\\n\\n\\n\\n\\n\\n\\n\\nFollow\\n\\n\\n\\n\\n\\n\\n\\n\\n\\n    7\\n\\n\\n\\n\\n \\n\\n\\n\\n\\n\\n            Joshua\\n \\n\\n\\n              minimalsm\\n \\n\\n\\n\\n\\n\\n @ethereum\\n\\n\\n\\n\\n\\n\\n\\n\\nFollow\\n\\n\\n\\n\\n\\n\\n\\n\\n\\n    8\\n\\n\\n\\n\\n \\n\\n\\n\\n\\n\\n            Simon H\\n \\n\\n\\n              dummdidumm\\n \\n\\n\\n\\n\\n\\n Vercel\\n\\n\\n\\n\\n\\n\\n\\n\\nFollow\\n\\n\\n\\n\\n\\n\\n\\n\\n\\n    9\\n\\n\\n\\n\\n \\n\\n\\n\\n\\n\\n            Marcus Olsson\\n \\n\\n\\n              marcusolsson\\n \\n\\n\\n\\n\\n\\n\\nPopular repo\\n\\n\\n\\n\\n\\n      obsidian-projects\\n \\n\\n      Project management for Obsidian\\n    \\n\\n\\n\\n\\n\\n\\n\\n\\n\\nFollow\\n\\n\\n\\n\\n\\n\\n\\n\\n\\n    10\\n\\n\\n\\n\\n \\n\\n\\n\\n\\n\\n            Ben V. Brown\\n \\n\\n\\n              Ralim\\n \\n\\n\\n\\n\\n\\n\\nPopular repo\\n\\n\\n\\n\\n\\n      IronOS\\n \\n\\n      Open Source Soldering Iron firmware for Miniware and Pinecil\\n    \\n\\n\\n\\n\\n\\n\\n\\n\\n\\nFollow\\n\\n\\n\\n\\n\\n\\n\\n\\n\\n    11\\n\\n\\n\\n\\n \\n\\n\\n\\n\\n\\n            Jonny Borges\\n \\n\\n\\n              jonataslaw\\n \\n\\n\\n\\n\\n\\n\\nPopular repo\\n\\n\\n\\n\\n\\n      getx\\n \\n\\n      Open screens/snackbars/dialogs/bottomSheets without context, manage states and inject dependencies easily with Get.\\n    \\n\\n\\n\\n\\n\\n\\n\\n\\n\\nFollow\\n\\n\\n\\n\\n\\n\\n\\n\\n\\n    12\\n\\n\\n\\n\\n \\n\\n\\n\\n\\n\\n            Andrew Kane\\n \\n\\n\\n              ankane\\n \\n\\n\\n\\n\\n\\n\\nPopular repo\\n\\n\\n\\n\\n\\n      the-ultimate-guide-to-ruby-timeouts\\n \\n\\n      Timeouts for popular Ruby gems\\n    \\n\\n\\n\\n\\n\\n\\n\\n\\n\\nFollow\\n\\n\\n\\n\\n\\n\\n\\n\\n\\n    13\\n\\n\\n\\n\\n \\n\\n\\n\\n\\n\\n            Wangchong Zhou\\n \\n\\n\\n              fffonion\\n \\n\\n\\n\\n\\n\\n\\nPopular repo\\n\\n\\n\\n\\n\\n      xeHentai\\n \\n\\n      Doujinshi downloader 绅士漫画下载\\n    \\n\\n\\n\\n\\n\\n\\n\\n\\n\\nFollow\\n\\n\\n\\n\\n\\n\\n\\n\\n\\n    14\\n\\n\\n\\n\\n \\n\\n\\n\\n\\n\\n            Mislav Marohnić\\n \\n\\n\\n              mislav\\n \\n\\n\\n\\n\\n\\n\\nPopular repo\\n\\n\\n\\n\\n\\n      will_paginate\\n \\n\\n      Pagination library for Rails, Sinatra, Merb, DataMapper, and more\\n    \\n\\n\\n\\n\\n\\n\\n\\n\\n\\nFollow\\n\\n\\n\\n\\n\\n\\n\\n\\n\\n    15\\n\\n\\n\\n\\n \\n\\n\\n\\n\\n\\n            Matthias Fey\\n \\n\\n\\n              rusty1s\\n \\n\\n\\n\\n\\n\\n\\nPopular repo\\n\\n\\n\\n\\n\\n      pytorch_scatter\\n \\n\\n      PyTorch Extension Library of Optimized Scatter Operations\\n    \\n\\n\\n\\n\\n\\n\\n\\n\\n\\nFollow\\n\\n\\n\\n\\n\\n\\n\\n\\n\\n    16\\n\\n\\n\\n\\n \\n\\n\\n\\n\\n\\n            Elliana May\\n \\n\\n\\n              Mause\\n \\n\\n\\n\\n\\n\\n\\nPopular repo\\n\\n\\n\\n\\n\\n      duckdb-extension-framework\\n \\n\\n\\n\\n\\n\\n\\n\\n\\n\\nFollow\\n\\n\\n\\n\\n\\n\\n\\n\\n\\n    17\\n\\n\\n\\n\\n \\n\\n\\n\\n\\n\\n            Romain Beaumont\\n \\n\\n\\n              rom1504\\n \\n\\n\\n\\n\\n\\n\\nPopular repo\\n\\n\\n\\n\\n\\n      img2dataset\\n \\n\\n      Easily turn large sets of image urls to an image dataset. Can download, resize and package 100M urls in 20h on one machine.\\n    \\n\\n\\n\\n\\n\\n\\n\\n\\n\\nFollow\\n\\n\\n\\n\\n\\n\\n\\n\\n\\n    18\\n\\n\\n\\n\\n \\n\\n\\n\\n\\n\\n            Hari Sekhon\\n \\n\\n\\n              HariSekhon\\n \\n\\n\\n\\n\\n\\n\\nPopular repo\\n\\n\\n\\n\\n\\n      DevOps-Bash-tools\\n \\n\\n      800+ DevOps Bash Scripts - AWS, GCP, Kubernetes, Docker, CI/CD, APIs, SQL, PostgreSQL, MySQL, Hive, Impala, Kafka, Hadoop, Jenkins, GitHu…\\n    \\n\\n\\n\\n\\n\\n\\n\\n\\n\\nFollow\\n\\n\\n\\n\\n\\n\\n\\n\\n\\n    19\\n\\n\\n\\n\\n \\n\\n\\n\\n\\n\\n            osy\\n \\n\\n\\n\\n\\n\\n\\nPopular repo\\n\\n\\n\\n\\n\\n      Jitterbug\\n \\n\\n      Launch JIT enabled iOS app with a second iOS device\\n    \\n\\n\\n\\n\\n\\n\\n\\n\\n\\nFollow\\n\\n\\n\\n\\n\\n\\n\\n\\n\\n    20\\n\\n\\n\\n\\n \\n\\n\\n\\n\\n\\n            Adam Johnson\\n \\n\\n\\n              adamchainz\\n \\n\\n\\n\\n\\n\\n\\nPopular repo\\n\\n\\n\\n\\n\\n      django-upgrade\\n \\n\\n      Automatically upgrade your Django projects.\\n    \\n\\n\\n\\n\\n\\n\\n\\n\\n\\nFollow\\n\\n\\n\\n\\n\\n\\n\\n\\n\\n    21\\n\\n\\n\\n\\n \\n\\n\\n\\n\\n\\n            Pedro Cuenca\\n \\n\\n\\n              pcuenca\\n \\n\\n\\n\\n\\n\\n\\nPopular repo\\n\\n\\n\\n\\n\\n      alzheimer\\n \\n\\n      Early Detection of Alzheimer Disease using NLP & Deep Learning\\n    \\n\\n\\n\\n\\n\\n\\n\\n\\n\\nFollow\\n\\n\\n\\n\\n\\n\\n\\n\\n\\n    22\\n\\n\\n\\n\\n \\n\\n\\n\\n\\n\\n            Alex Gaynor\\n \\n\\n\\n              alex\\n \\n\\n\\n\\n\\n\\n\\nPopular repo\\n\\n\\n\\n\\n\\n      what-happens-when\\n \\n\\n      An attempt to answer the age old interview question \"What happens when you type google.com into your browser and press enter?\"\\n    \\n\\n\\n\\n\\n\\n\\n\\n\\n\\nFollow\\n\\n\\n\\n\\n\\n\\n\\n\\n\\n    23\\n\\n\\n\\n\\n \\n\\n\\n\\n\\n\\n            Henrik Rydgård\\n \\n\\n\\n              hrydgard\\n \\n\\n\\n\\n\\n\\n\\nPopular repo\\n\\n\\n\\n\\n\\n      ppsspp\\n \\n\\n      A PSP emulator for Android, Windows, Mac and Linux, written in C++. Want to contribute? Join us on Discord at https://discord.gg/5NJB6dD …\\n    \\n\\n\\n\\n\\n\\n\\n\\n\\n\\nFollow\\n\\n\\n\\n\\n\\n\\n\\n\\n\\n    24\\n\\n\\n\\n\\n \\n\\n\\n\\n\\n\\n            Joshua Levy\\n \\n\\n\\n              jlevy\\n \\n\\n\\n\\n\\n\\n\\nPopular repo\\n\\n\\n\\n\\n\\n      the-art-of-command-line\\n \\n\\n      Master the command line, in one page\\n    \\n\\n\\n\\n\\n\\n\\n\\n\\n\\nFollow\\n\\n\\n\\n\\n\\n\\n\\n\\n\\n    25\\n\\n\\n\\n\\n \\n\\n\\n\\n\\n\\n            Mu Li\\n \\n\\n\\n              mli\\n \\n\\n\\n\\n\\n\\n\\nPopular repo\\n\\n\\n\\n\\n\\n      autocut\\n \\n\\n\\n\\n\\n\\n\\n\\n\\n\\nFollow\\n\\n\\n\\n\\n\\n\\n\\n\\n\\n\\n\\n\\n\\nFooter\\n\\n\\n\\n\\n\\n\\n\\n \\n        © 2022 GitHub, Inc.\\n        \\n\\n\\n\\nFooter navigation\\n\\nTerms\\nPrivacy\\nSecurity\\nStatus\\nDocs\\nContact GitHub\\nPricing\\nAPI\\nTraining\\nBlog\\nAbout\\n\\n\\n\\n\\n\\n\\n\\n\\n\\n\\n\\n\\n\\n\\n\\n\\n    You can’t perform that action at this time.\\n  \\n\\n\\n\\n\\nYou signed in with another tab or window. Reload to refresh your session.\\nYou signed out in another tab or window. Reload to refresh your session.\\n\\n\\n\\n\\n\\n\\n\\n']"
      ]
     },
     "execution_count": 309,
     "metadata": {},
     "output_type": "execute_result"
    }
   ],
   "source": [
    "table = soup.find('tbody').find_all('td')\n",
    "\n",
    "earthquakes= [e.text for e in body]\n",
    "earthquakes"
   ]
  },
  {
   "cell_type": "code",
   "execution_count": null,
   "metadata": {},
   "outputs": [],
   "source": []
  },
  {
   "cell_type": "code",
   "execution_count": null,
   "metadata": {},
   "outputs": [],
   "source": []
  },
  {
   "cell_type": "code",
   "execution_count": null,
   "metadata": {},
   "outputs": [],
   "source": []
  },
  {
   "cell_type": "markdown",
   "metadata": {},
   "source": [
    "#### Display the date, days, title, city, country of next 25 hackathon events as a Pandas dataframe table"
   ]
  },
  {
   "cell_type": "code",
   "execution_count": null,
   "metadata": {},
   "outputs": [],
   "source": [
    "# No hacer\n",
    "url ='https://hackevents.co/hackathons'"
   ]
  },
  {
   "cell_type": "markdown",
   "metadata": {},
   "source": [
    "#### Count number of tweets by a given Twitter account."
   ]
  },
  {
   "cell_type": "markdown",
   "metadata": {},
   "source": [
    "You will need to include a ***try/except block*** for account names not found. \n",
    "<br>***Hint:*** the program should count the number of tweets for any provided account"
   ]
  },
  {
   "cell_type": "code",
   "execution_count": 184,
   "metadata": {},
   "outputs": [],
   "source": [
    "# This is the url you will scrape in this exercise \n",
    "# You will need to add the account credentials to this url\n",
    "# Carlos Alcaraz\n",
    "url = 'https://twitter.com/carlosalcaraz'"
   ]
  },
  {
   "cell_type": "code",
   "execution_count": 185,
   "metadata": {
    "scrolled": true
   },
   "outputs": [
    {
     "data": {
      "text/plain": [
       "'<!DOCTYPE html>\\n<html dir=\"ltr\" lang=\"en\">\\n<head>\\n<meta charset=\"utf-8\" />\\n<meta name=\"viewport\" content=\"width=device-width,initial-scale=1,maximum-scale=1,user-scalable=0,viewport-fit=cover\" /><link rel=\"preconnect\" href=\"//abs.twimg.com\" /><link rel=\"dns-prefetch\" href=\"//abs.twimg.com\" /><link rel=\"preconnect\" href=\"//api.twitter.com\" /><link rel=\"dns-prefetch\" href=\"//api.twitter.com\" /><link rel=\"preconnect\" href=\"//pbs.twimg.com\" /><link rel=\"dns-prefetch\" href=\"//pbs.twimg.com\" /><link rel=\"preconnect\" href=\"//t.co\" /><link rel=\"dns-prefetch\" href=\"//t.co\" /><link rel=\"preconnect\" href=\"//video.twimg.com\" /><link rel=\"dns-prefetch\" href=\"//video.twimg.com\" /><link rel=\"preload\" as=\"script\" crossorigin=\"anonymous\" href=\"https://abs.twimg.com/responsive-web/client-web-legacy/feature-switch-manifest.db1a9e39.js\" nonce=\"Yzg0ZGZmMWQtOGI1Ni00ZTYxLWI0YjItNTZkYzhmNzA1ZWJk\" /><link rel=\"preload\" as=\"script\" crossorigin=\"anonymous\" href=\"https://abs.twimg.com/responsive-web/client-web-le'"
      ]
     },
     "execution_count": 185,
     "metadata": {},
     "output_type": "execute_result"
    }
   ],
   "source": [
    "html=req.get(url).text\n",
    "\n",
    "html[:1000]"
   ]
  },
  {
   "cell_type": "code",
   "execution_count": 186,
   "metadata": {},
   "outputs": [
    {
     "data": {
      "text/plain": [
       "bs4.BeautifulSoup"
      ]
     },
     "execution_count": 186,
     "metadata": {},
     "output_type": "execute_result"
    }
   ],
   "source": [
    "soup=bs(html, 'html.parser')\n",
    "\n",
    "type(soup)"
   ]
  },
  {
   "cell_type": "code",
   "execution_count": 187,
   "metadata": {},
   "outputs": [
    {
     "data": {
      "text/plain": [
       "<!DOCTYPE html>\n",
       "\n",
       "<html dir=\"ltr\" lang=\"en\">\n",
       "<head>\n",
       "<meta charset=\"utf-8\"/>\n",
       "<meta content=\"width=device-width,initial-scale=1,maximum-scale=1,user-scalable=0,viewport-fit=cover\" name=\"viewport\"/><link href=\"//abs.twimg.com\" rel=\"preconnect\"/><link href=\"//abs.twimg.com\" rel=\"dns-prefetch\"/><link href=\"//api.twitter.com\" rel=\"preconnect\"/><link href=\"//api.twitter.com\" rel=\"dns-prefetch\"/><link href=\"//pbs.twimg.com\" rel=\"preconnect\"/><link href=\"//pbs.twimg.com\" rel=\"dns-prefetch\"/><link href=\"//t.co\" rel=\"preconnect\"/><link href=\"//t.co\" rel=\"dns-prefetch\"/><link href=\"//video.twimg.com\" rel=\"preconnect\"/><link href=\"//video.twimg.com\" rel=\"dns-prefetch\"/><link as=\"script\" crossorigin=\"anonymous\" href=\"https://abs.twimg.com/responsive-web/client-web-legacy/feature-switch-manifest.db1a9e39.js\" nonce=\"Yzg0ZGZmMWQtOGI1Ni00ZTYxLWI0YjItNTZkYzhmNzA1ZWJk\" rel=\"preload\"/><link as=\"script\" crossorigin=\"anonymous\" href=\"https://abs.twimg.com/responsive-web/client-web-legacy/polyfills.c7dfc719.js\" nonce=\"Yzg0ZGZmMWQtOGI1Ni00ZTYxLWI0YjItNTZkYzhmNzA1ZWJk\" rel=\"preload\"/><link as=\"script\" crossorigin=\"anonymous\" href=\"https://abs.twimg.com/responsive-web/client-web-legacy/vendor.d9a7d629.js\" nonce=\"Yzg0ZGZmMWQtOGI1Ni00ZTYxLWI0YjItNTZkYzhmNzA1ZWJk\" rel=\"preload\"/><link as=\"script\" crossorigin=\"anonymous\" href=\"https://abs.twimg.com/responsive-web/client-web-legacy/i18n/en.7a699ee9.js\" nonce=\"Yzg0ZGZmMWQtOGI1Ni00ZTYxLWI0YjItNTZkYzhmNzA1ZWJk\" rel=\"preload\"/><link as=\"script\" crossorigin=\"anonymous\" href=\"https://abs.twimg.com/responsive-web/client-web-legacy/main.4c4c4b09.js\" nonce=\"Yzg0ZGZmMWQtOGI1Ni00ZTYxLWI0YjItNTZkYzhmNzA1ZWJk\" rel=\"preload\"/><meta content=\"2231777543\" property=\"fb:app_id\"/>\n",
       "<meta content=\"Twitter\" property=\"og:site_name\"/><meta content=\"acYOOcR5z6puMzLn6hLDZI1nNHXPxt57OIstz1vnCV0\" name=\"google-site-verification\"/><meta content=\"x6sdcc8b5ju3bh8nbm59eswogvg6t1\" name=\"facebook-domain-verification\"/><meta content=\"https://twitter3e4tixl4xyajtrzo62zg5vztmjuricljdp2c5kshju4avyoid.onion/\" http-equiv=\"onion-location\"/><link crossorigin=\"use-credentials\" href=\"/manifest.json\" rel=\"manifest\"/><link href=\"https://twitter.com/carlosalcaraz\" hreflang=\"x-default\" rel=\"alternate\"/><link href=\"https://twitter.com/carlosalcaraz?lang=en\" hreflang=\"en\" rel=\"alternate\"/><link href=\"https://twitter.com/carlosalcaraz?lang=ar\" hreflang=\"ar\" rel=\"alternate\"/><link href=\"https://twitter.com/carlosalcaraz?lang=ar-x-fm\" hreflang=\"ar-x-fm\" rel=\"alternate\"/><link href=\"https://twitter.com/carlosalcaraz?lang=bg\" hreflang=\"bg\" rel=\"alternate\"/><link href=\"https://twitter.com/carlosalcaraz?lang=bn\" hreflang=\"bn\" rel=\"alternate\"/><link href=\"https://twitter.com/carlosalcaraz?lang=ca\" hreflang=\"ca\" rel=\"alternate\"/><link href=\"https://twitter.com/carlosalcaraz?lang=cs\" hreflang=\"cs\" rel=\"alternate\"/><link href=\"https://twitter.com/carlosalcaraz?lang=da\" hreflang=\"da\" rel=\"alternate\"/><link href=\"https://twitter.com/carlosalcaraz?lang=de\" hreflang=\"de\" rel=\"alternate\"/><link href=\"https://twitter.com/carlosalcaraz?lang=el\" hreflang=\"el\" rel=\"alternate\"/><link href=\"https://twitter.com/carlosalcaraz?lang=en-GB\" hreflang=\"en-GB\" rel=\"alternate\"/><link href=\"https://twitter.com/carlosalcaraz?lang=es\" hreflang=\"es\" rel=\"alternate\"/><link href=\"https://twitter.com/carlosalcaraz?lang=eu\" hreflang=\"eu\" rel=\"alternate\"/><link href=\"https://twitter.com/carlosalcaraz?lang=fa\" hreflang=\"fa\" rel=\"alternate\"/><link href=\"https://twitter.com/carlosalcaraz?lang=fi\" hreflang=\"fi\" rel=\"alternate\"/><link href=\"https://twitter.com/carlosalcaraz?lang=fil\" hreflang=\"fil\" rel=\"alternate\"/><link href=\"https://twitter.com/carlosalcaraz?lang=fr\" hreflang=\"fr\" rel=\"alternate\"/><link href=\"https://twitter.com/carlosalcaraz?lang=ga\" hreflang=\"ga\" rel=\"alternate\"/><link href=\"https://twitter.com/carlosalcaraz?lang=gl\" hreflang=\"gl\" rel=\"alternate\"/><link href=\"https://twitter.com/carlosalcaraz?lang=gu\" hreflang=\"gu\" rel=\"alternate\"/><link href=\"https://twitter.com/carlosalcaraz?lang=ha\" hreflang=\"ha\" rel=\"alternate\"/><link href=\"https://twitter.com/carlosalcaraz?lang=he\" hreflang=\"he\" rel=\"alternate\"/><link href=\"https://twitter.com/carlosalcaraz?lang=hi\" hreflang=\"hi\" rel=\"alternate\"/><link href=\"https://twitter.com/carlosalcaraz?lang=hr\" hreflang=\"hr\" rel=\"alternate\"/><link href=\"https://twitter.com/carlosalcaraz?lang=hu\" hreflang=\"hu\" rel=\"alternate\"/><link href=\"https://twitter.com/carlosalcaraz?lang=id\" hreflang=\"id\" rel=\"alternate\"/><link href=\"https://twitter.com/carlosalcaraz?lang=ig\" hreflang=\"ig\" rel=\"alternate\"/><link href=\"https://twitter.com/carlosalcaraz?lang=it\" hreflang=\"it\" rel=\"alternate\"/><link href=\"https://twitter.com/carlosalcaraz?lang=ja\" hreflang=\"ja\" rel=\"alternate\"/><link href=\"https://twitter.com/carlosalcaraz?lang=kn\" hreflang=\"kn\" rel=\"alternate\"/><link href=\"https://twitter.com/carlosalcaraz?lang=ko\" hreflang=\"ko\" rel=\"alternate\"/><link href=\"https://twitter.com/carlosalcaraz?lang=mr\" hreflang=\"mr\" rel=\"alternate\"/><link href=\"https://twitter.com/carlosalcaraz?lang=ms\" hreflang=\"ms\" rel=\"alternate\"/><link href=\"https://twitter.com/carlosalcaraz?lang=nb\" hreflang=\"nb\" rel=\"alternate\"/><link href=\"https://twitter.com/carlosalcaraz?lang=nl\" hreflang=\"nl\" rel=\"alternate\"/><link href=\"https://twitter.com/carlosalcaraz?lang=pl\" hreflang=\"pl\" rel=\"alternate\"/><link href=\"https://twitter.com/carlosalcaraz?lang=pt\" hreflang=\"pt\" rel=\"alternate\"/><link href=\"https://twitter.com/carlosalcaraz?lang=ro\" hreflang=\"ro\" rel=\"alternate\"/><link href=\"https://twitter.com/carlosalcaraz?lang=ru\" hreflang=\"ru\" rel=\"alternate\"/><link href=\"https://twitter.com/carlosalcaraz?lang=sk\" hreflang=\"sk\" rel=\"alternate\"/><link href=\"https://twitter.com/carlosalcaraz?lang=sr\" hreflang=\"sr\" rel=\"alternate\"/><link href=\"https://twitter.com/carlosalcaraz?lang=sv\" hreflang=\"sv\" rel=\"alternate\"/><link href=\"https://twitter.com/carlosalcaraz?lang=ta\" hreflang=\"ta\" rel=\"alternate\"/><link href=\"https://twitter.com/carlosalcaraz?lang=th\" hreflang=\"th\" rel=\"alternate\"/><link href=\"https://twitter.com/carlosalcaraz?lang=tr\" hreflang=\"tr\" rel=\"alternate\"/><link href=\"https://twitter.com/carlosalcaraz?lang=uk\" hreflang=\"uk\" rel=\"alternate\"/><link href=\"https://twitter.com/carlosalcaraz?lang=ur\" hreflang=\"ur\" rel=\"alternate\"/><link href=\"https://twitter.com/carlosalcaraz?lang=vi\" hreflang=\"vi\" rel=\"alternate\"/><link href=\"https://twitter.com/carlosalcaraz?lang=yo\" hreflang=\"yo\" rel=\"alternate\"/><link href=\"https://twitter.com/carlosalcaraz?lang=zh\" hreflang=\"zh\" rel=\"alternate\"/><link href=\"https://twitter.com/carlosalcaraz?lang=zh-Hant\" hreflang=\"zh-Hant\" rel=\"alternate\"/><link href=\"https://twitter.com/carlosalcaraz\" rel=\"canonical\"/><link href=\"/opensearch.xml\" rel=\"search\" title=\"Twitter\" type=\"application/opensearchdescription+xml\"/><link color=\"#1D9BF0\" href=\"https://abs.twimg.com/responsive-web/client-web-legacy/icon-svg.168b89d9.svg\" rel=\"mask-icon\" sizes=\"any\"/><link href=\"//abs.twimg.com/favicons/twitter.2.ico\" rel=\"shortcut icon\"/><link href=\"https://abs.twimg.com/responsive-web/client-web-legacy/icon-ios.b1fc7279.png\" rel=\"apple-touch-icon\" sizes=\"192x192\"><meta content=\"yes\" name=\"mobile-web-app-capable\"/>\n",
       "<meta content=\"Twitter\" name=\"apple-mobile-web-app-title\"/>\n",
       "<meta content=\"white\" name=\"apple-mobile-web-app-status-bar-style\"/>\n",
       "<meta content=\"#ffffff\" name=\"theme-color\"/>\n",
       "<script type=\"application/ld+json\">{\"@context\":\"https://schema.org\",\"@type\":\"WebSite\",\"url\":\"https://twitter.com/\",\"potentialAction\":{\"@type\":\"SearchAction\",\"query-input\":\"required name=search_term_string\",\"target\":{\"@type\":\"EntryPoint\",\"urlTemplate\":\"https://twitter.com/search?q={search_term_string}&ref_src=twcamp%5Eseo_searchbox%7Ctwsrc%5Eseo\"}}}</script><meta content=\"AlpCmb40F5ZjDi9ZYe+wnr/V8MF+XmY41K4qUhoq+2mbepJTNd3q4CRqlACfnythEPZqcjryfAS1+ExS0FFRcA8AAABmeyJvcmlnaW4iOiJodHRwczovL3R3aXR0ZXIuY29tOjQ0MyIsImZlYXR1cmUiOiJMYXVuY2ggSGFuZGxlciIsImV4cGlyeSI6MTY1NTI1MTE5OSwiaXNTdWJkb21haW4iOnRydWV9\" http-equiv=\"origin-trial\"/><style>html,body{height: 100%;}</style><style id=\"react-native-stylesheet\">[stylesheet-group=\"0\"]{}\n",
       "html{-ms-text-size-adjust:100%;-webkit-text-size-adjust:100%;-webkit-tap-highlight-color:rgba(0,0,0,0);}\n",
       "body{margin:0;}\n",
       "button::-moz-focus-inner,input::-moz-focus-inner{border:0;padding:0;}\n",
       "input::-webkit-search-cancel-button,input::-webkit-search-decoration,input::-webkit-search-results-button,input::-webkit-search-results-decoration{display:none;}\n",
       "[stylesheet-group=\"0.1\"]{}\n",
       ":focus:not([data-focusvisible-polyfill]){outline: none;}\n",
       "[stylesheet-group=\"1\"]{}\n",
       ".css-1dbjc4n{-ms-flex-align:stretch;-ms-flex-direction:column;-ms-flex-negative:0;-ms-flex-preferred-size:auto;-webkit-align-items:stretch;-webkit-box-align:stretch;-webkit-box-direction:normal;-webkit-box-orient:vertical;-webkit-flex-basis:auto;-webkit-flex-direction:column;-webkit-flex-shrink:0;align-items:stretch;border:0 solid black;box-sizing:border-box;display:-webkit-box;display:-moz-box;display:-ms-flexbox;display:-webkit-flex;display:flex;flex-basis:auto;flex-direction:column;flex-shrink:0;margin-bottom:0px;margin-left:0px;margin-right:0px;margin-top:0px;min-height:0px;min-width:0px;padding-bottom:0px;padding-left:0px;padding-right:0px;padding-top:0px;position:relative;z-index:0;}\n",
       ".css-901oao{border:0 solid black;box-sizing:border-box;color:rgba(0,0,0,1.00);display:inline;font:14px -apple-system,BlinkMacSystemFont,\"Segoe UI\",Roboto,Helvetica,Arial,sans-serif;margin-bottom:0px;margin-left:0px;margin-right:0px;margin-top:0px;padding-bottom:0px;padding-left:0px;padding-right:0px;padding-top:0px;white-space:pre-wrap;word-wrap:break-word;}\n",
       ".css-16my406{color:inherit;font:inherit;white-space:inherit;}\n",
       "[stylesheet-group=\"2\"]{}\n",
       ".r-13awgt0{-ms-flex:1 1 0%;-webkit-flex:1;flex:1;}\n",
       ".r-4qtqp9{display:inline-block;}\n",
       ".r-ywje51{margin-bottom:auto;margin-left:auto;margin-right:auto;margin-top:auto;}\n",
       ".r-hvic4v{display:none;}\n",
       ".r-1adg3ll{display:block;}\n",
       "[stylesheet-group=\"2.2\"]{}\n",
       ".r-12vffkv>*{pointer-events:auto;}\n",
       ".r-12vffkv{pointer-events:none!important;}\n",
       ".r-14lw9ot{background-color:rgba(255,255,255,1.00);}\n",
       ".r-1p0dtai{bottom:0px;}\n",
       ".r-1d2f490{left:0px;}\n",
       ".r-1xcajam{position:fixed;}\n",
       ".r-zchlnj{right:0px;}\n",
       ".r-ipm5af{top:0px;}\n",
       ".r-yyyyoo{fill:currentcolor;}\n",
       ".r-1xvli5t{height:1.25em;}\n",
       ".r-dnmrzs{max-width:100%;}\n",
       ".r-bnwqim{position:relative;}\n",
       ".r-1plcrui{vertical-align:text-bottom;}\n",
       ".r-lrvibr{-moz-user-select:none;-ms-user-select:none;-webkit-user-select:none;user-select:none;}\n",
       ".r-13gxpu9{color:rgba(29,161,242,1.00);}\n",
       ".r-wy61xf{height:72px;}\n",
       ".r-u8s1d{position:absolute;}\n",
       ".r-1blnp2b{width:72px;}\n",
       ".r-1ykxob0{top:60%;}\n",
       ".r-q4m81j{text-align:center;}\n",
       ".r-bcqeeo{min-width:0px;}\n",
       ".r-qvutc0{word-wrap:break-word;}\n",
       ".r-rjixqe{line-height:20px;}\n",
       ".r-1qd0xha{font-family:-apple-system,BlinkMacSystemFont,\"Segoe UI\",Roboto,Helvetica,Arial,sans-serif;}\n",
       ".r-a023e6{font-size:15px;}\n",
       ".r-16dba41{font-weight:400;}\n",
       ".r-poiln3{font-family:inherit;}</style></link></head>\n",
       "<body style=\"background-color: #FFFFFF;\">\n",
       "<noscript>\n",
       "<style>\n",
       "    body {\n",
       "      -ms-overflow-style: scrollbar;\n",
       "      overflow-y: scroll;\n",
       "      overscroll-behavior-y: none;\n",
       "    }\n",
       "\n",
       "    .errorContainer {\n",
       "      background-color: #FFF;\n",
       "      color: #0F1419;\n",
       "      max-width: 600px;\n",
       "      margin: 0 auto;\n",
       "      padding: 10%;\n",
       "      font-family: Helvetica, sans-serif;\n",
       "      font-size: 16px;\n",
       "    }\n",
       "\n",
       "    .errorButton {\n",
       "      margin: 3em 0;\n",
       "    }\n",
       "\n",
       "    .errorButton a {\n",
       "      background: #1DA1F2;\n",
       "      border-radius: 2.5em;\n",
       "      color: white;\n",
       "      padding: 1em 2em;\n",
       "      text-decoration: none;\n",
       "    }\n",
       "\n",
       "    .errorButton a:hover,\n",
       "    .errorButton a:focus {\n",
       "      background: rgb(26, 145, 218);\n",
       "    }\n",
       "\n",
       "    .errorFooter {\n",
       "      color: #657786;\n",
       "      font-size: 80%;\n",
       "      line-height: 1.5;\n",
       "      padding: 1em 0;\n",
       "    }\n",
       "\n",
       "    .errorFooter a,\n",
       "    .errorFooter a:visited {\n",
       "      color: #657786;\n",
       "      text-decoration: none;\n",
       "      padding-right: 1em;\n",
       "    }\n",
       "\n",
       "    .errorFooter a:hover,\n",
       "    .errorFooter a:active {\n",
       "      text-decoration: underline;\n",
       "    }\n",
       "\n",
       "      #placeholder,\n",
       "      #react-root {\n",
       "        display: none !important;\n",
       "      }\n",
       "      body {\n",
       "        background-color: #FFF !important;\n",
       "      }\n",
       "    </style>\n",
       "<div class=\"errorContainer\">\n",
       "<img alt=\"Twitter\" height=\"38\" src=\"https://abs.twimg.com/errors/logo46x38.png\" srcset=\"https://abs.twimg.com/errors/logo46x38.png 1x, https://abs.twimg.com/errors/logo46x38@2x.png 2x\" width=\"46\"/>\n",
       "<h1>JavaScript is not available.</h1>\n",
       "<p>We’ve detected that JavaScript is disabled in this browser. Please enable JavaScript or switch to a supported browser to continue using twitter.com. You can see a list of supported browsers in our Help Center.</p>\n",
       "<p class=\"errorButton\"><a href=\"https://help.twitter.com/using-twitter/twitter-supported-browsers\">Help Center</a></p>\n",
       "<p class=\"errorFooter\">\n",
       "<a href=\"https://twitter.com/tos\">Terms of Service</a>\n",
       "<a href=\"https://twitter.com/privacy\">Privacy Policy</a>\n",
       "<a href=\"https://support.twitter.com/articles/20170514\">Cookie Policy</a>\n",
       "<a href=\"https://legal.twitter.com/imprint.html\">Imprint</a>\n",
       "<a href=\"https://business.twitter.com/en/help/troubleshooting/how-twitter-ads-work.html?ref=web-twc-ao-gbl-adsinfo&amp;utm_source=twc&amp;utm_medium=web&amp;utm_campaign=ao&amp;utm_content=adsinfo\">Ads info</a>\n",
       "      © 2022 Twitter, Inc.\n",
       "    </p>\n",
       "</div>\n",
       "</noscript><div id=\"react-root\" style=\"height:100%;display:flex;\"><div class=\"css-1dbjc4n r-13awgt0 r-12vffkv\"><div class=\"css-1dbjc4n r-13awgt0 r-12vffkv\"><style>\n",
       "@media (prefers-color-scheme: dark) {\n",
       "  #placeholder {\n",
       "    background-color: #000000\n",
       "  }\n",
       "}\n",
       "</style><div aria-label=\"Loading…\" class=\"css-1dbjc4n r-14lw9ot r-1p0dtai r-1d2f490 r-1xcajam r-zchlnj r-ipm5af\" id=\"placeholder\"><svg aria-hidden=\"true\" class=\"r-1p0dtai r-13gxpu9 r-4qtqp9 r-yyyyoo r-wy61xf r-1d2f490 r-ywje51 r-dnmrzs r-u8s1d r-zchlnj r-1plcrui r-ipm5af r-lrvibr r-1blnp2b\" viewbox=\"0 0 24 24\"><g><path d=\"M23.643 4.937c-.835.37-1.732.62-2.675.733.962-.576 1.7-1.49 2.048-2.578-.9.534-1.897.922-2.958 1.13-.85-.904-2.06-1.47-3.4-1.47-2.572 0-4.658 2.086-4.658 4.66 0 .364.042.718.12 1.06-3.873-.195-7.304-2.05-9.602-4.868-.4.69-.63 1.49-.63 2.342 0 1.616.823 3.043 2.072 3.878-.764-.025-1.482-.234-2.11-.583v.06c0 2.257 1.605 4.14 3.737 4.568-.392.106-.803.162-1.227.162-.3 0-.593-.028-.877-.082.593 1.85 2.313 3.198 4.352 3.234-1.595 1.25-3.604 1.995-5.786 1.995-.376 0-.747-.022-1.112-.065 2.062 1.323 4.51 2.093 7.14 2.093 8.57 0 13.255-7.098 13.255-13.254 0-.2-.005-.402-.014-.602.91-.658 1.7-1.477 2.323-2.41z\"></path></g></svg></div><div class=\"css-1dbjc4n r-hvic4v r-1d2f490 r-1xcajam r-zchlnj r-1ykxob0\" id=\"ScriptLoadFailure\"><form action=\"\" method=\"GET\"><div class=\"css-1dbjc4n r-1adg3ll r-q4m81j\"><div class=\"css-901oao r-1qd0xha r-a023e6 r-16dba41 r-rjixqe r-bcqeeo r-qvutc0\" dir=\"auto\" style=\"color:rgba(15,20,25,1.00)\"><span class=\"css-901oao css-16my406 r-poiln3 r-bcqeeo r-qvutc0\">Something went wrong, but don’t fret — let’s give it another shot.</span></div><br/><input name=\"failedScript\" type=\"hidden\" value=\"\"/><input type=\"submit\" value=\"Try again\"/></div></form></div></div></div></div><script charset=\"utf-8\" nonce=\"Yzg0ZGZmMWQtOGI1Ni00ZTYxLWI0YjItNTZkYzhmNzA1ZWJk\" type=\"text/javascript\">window.__INITIAL_STATE__={\"optimist\":[],\"entities\":{\"broadcasts\":{\"entities\":{},\"errors\":{},\"fetchStatus\":{}},\"cards\":{\"entities\":{},\"errors\":{},\"fetchStatus\":{}},\"commerceItems\":{\"entities\":{},\"errors\":{},\"fetchStatus\":{}},\"communities\":{\"entities\":{},\"errors\":{},\"fetchStatus\":{}},\"conversations\":{\"entities\":{},\"errors\":{},\"fetchStatus\":{}},\"entries\":{\"entities\":{},\"errors\":{},\"fetchStatus\":{}},\"lists\":{\"entities\":{},\"errors\":{},\"fetchStatus\":{}},\"moments\":{\"entities\":{},\"errors\":{},\"fetchStatus\":{}},\"topics\":{\"entities\":{},\"errors\":{},\"fetchStatus\":{}},\"tweets\":{\"entities\":{},\"errors\":{},\"fetchStatus\":{}},\"twitterArticles\":{\"entities\":{},\"errors\":{},\"fetchStatus\":{}},\"trustedFriends\":{\"entities\":{},\"errors\":{},\"fetchStatus\":{}},\"userPresence\":{\"entities\":{},\"errors\":{},\"fetchStatus\":{}},\"userCommunityInviteActionResult\":{\"entities\":{},\"errors\":{},\"fetchStatus\":{}},\"users\":{\"entities\":{},\"errors\":{},\"fetchStatus\":{}},\"userCommunityRoleRelationship\":{\"entities\":{},\"errors\":{},\"fetchStatus\":{}}},\"featureSwitch\":{\"debug\":{},\"defaultConfig\":{\"2fa_temporary_password_enabled\":{\"value\":false},\"Arkose_rweb_hosted_page\":{\"value\":true},\"Arkose_use_invisible_challenge_key\":{\"value\":false},\"account_2fa_standalone_security_key_enabled\":{\"value\":true},\"account_country_setting_countries_whitelist\":{\"value\":[\"ad\",\"ae\",\"af\",\"ag\",\"ai\",\"al\",\"am\",\"ao\",\"ar\",\"as\",\"at\",\"au\",\"aw\",\"ax\",\"az\",\"ba\",\"bb\",\"bd\",\"be\",\"bf\",\"bg\",\"bh\",\"bi\",\"bj\",\"bl\",\"bm\",\"bn\",\"bo\",\"bq\",\"br\",\"bs\",\"bt\",\"bv\",\"bw\",\"by\",\"bz\",\"ca\",\"cc\",\"cd\",\"cf\",\"cg\",\"ch\",\"ci\",\"ck\",\"cl\",\"cm\",\"co\",\"cr\",\"cu\",\"cv\",\"cw\",\"cx\",\"cy\",\"cz\",\"de\",\"dj\",\"dk\",\"dm\",\"do\",\"dz\",\"ec\",\"ee\",\"eg\",\"er\",\"es\",\"et\",\"fi\",\"fj\",\"fk\",\"fm\",\"fo\",\"fr\",\"ga\",\"gb\",\"gd\",\"ge\",\"gf\",\"gg\",\"gh\",\"gi\",\"gl\",\"gm\",\"gn\",\"gp\",\"gq\",\"gr\",\"gs\",\"gt\",\"gu\",\"gw\",\"gy\",\"hk\",\"hn\",\"hr\",\"ht\",\"hu\",\"id\",\"ie\",\"il\",\"im\",\"in\",\"io\",\"iq\",\"ir\",\"is\",\"it\",\"je\",\"jm\",\"jo\",\"jp\",\"ke\",\"kg\",\"kh\",\"ki\",\"km\",\"kn\",\"kr\",\"kw\",\"ky\",\"kz\",\"la\",\"lb\",\"lc\",\"li\",\"lk\",\"lr\",\"ls\",\"lt\",\"lu\",\"lv\",\"ly\",\"ma\",\"mc\",\"md\",\"me\",\"mf\",\"mg\",\"mh\",\"mk\",\"ml\",\"mn\",\"mo\",\"mp\",\"mq\",\"mr\",\"ms\",\"mt\",\"mu\",\"mv\",\"mw\",\"mx\",\"my\",\"mz\",\"na\",\"nc\",\"ne\",\"nf\",\"ng\",\"ni\",\"nl\",\"no\",\"np\",\"nr\",\"nu\",\"nz\",\"om\",\"pa\",\"pe\",\"pf\",\"pg\",\"ph\",\"pk\",\"pl\",\"pm\",\"pn\",\"pr\",\"ps\",\"pt\",\"pw\",\"py\",\"qa\",\"re\",\"ro\",\"rs\",\"ru\",\"rw\",\"sa\",\"sb\",\"sc\",\"se\",\"sg\",\"sh\",\"si\",\"sk\",\"sl\",\"sm\",\"sn\",\"so\",\"sr\",\"st\",\"sv\",\"sx\",\"sz\",\"tc\",\"td\",\"tf\",\"tg\",\"th\",\"tj\",\"tk\",\"tl\",\"tm\",\"tn\",\"to\",\"tr\",\"tt\",\"tv\",\"tw\",\"tz\",\"ua\",\"ug\",\"us\",\"uy\",\"uz\",\"va\",\"vc\",\"ve\",\"vi\",\"vn\",\"vu\",\"wf\",\"ws\",\"xk\",\"ye\",\"yt\",\"za\",\"zm\",\"zw\"]},\"account_session_console_from_graphql_enabled\":{\"value\":true},\"account_taxonomy_automated_label_enabled\":{\"value\":true},\"account_taxonomy_automation_opt_in_enabled\":{\"value\":false},\"ads_spacing_client_fallback_minimum_spacing\":{\"value\":3},\"arkose_challenge_lo_web_notification_dev\":{\"value\":\"BF5FA6C8-9668-4AF9-AFA2-E362F56E5B71\"},\"arkose_challenge_lo_web_notification_mobile_prod\":{\"value\":\"6A2FD110-7C1A-47CD-82EE-D01FFB4810D7\"},\"arkose_challenge_lo_web_notification_prod\":{\"value\":\"50706BFE-942C-4EEC-B9AD-03F7CD268FB1\"},\"arkose_challenge_login_web_devel\":{\"value\":\"DF58DD3B-DFCC-4502-91FA-EDC0DC385CFF\"},\"arkose_challenge_login_web_prod\":{\"value\":\"2F4F0B28-BC94-4271-8AD7-A51662E3C91C\"},\"arkose_challenge_open_app_dev\":{\"value\":\"560C66A3-C8EB-4D11-BE53-A8232734AA62\"},\"arkose_challenge_open_app_prod\":{\"value\":\"6E8D3D6E-30D4-45F1-9838-BA3D9651AAA1\"},\"arkose_challenge_signup_mobile_dev\":{\"value\":\"006B5E87-7497-403E-9E0C-8FFBAAC6FA67\"},\"arkose_challenge_signup_mobile_prod\":{\"value\":\"867D55F2-24FD-4C56-AB6D-589EDAF5E7C5\"},\"arkose_challenge_signup_web_dev\":{\"value\":\"DF58DD3B-DFCC-4502-91FA-EDC0DC385CFF\"},\"arkose_challenge_signup_web_prod\":{\"value\":\"2CB16598-CB82-4CF7-B332-5990DB66F3AB\"},\"arkose_challenge_transparent_signup_dev\":{\"value\":\"6627C16B-DA60-47A5-85F7-CFF23BD2BE69\"},\"arkose_challenge_transparent_signup_prod\":{\"value\":\"4CB8C8B0-40FF-439C-9D0D-9A389ADA18CB\"},\"author_moderated_replies_urt_container_enabled\":{\"value\":false},\"branded_like_preview_enabled\":{\"value\":false},\"c9s_auto_collapse_community_detail_header_enabled\":{\"value\":true},\"c9s_communities_search_enabled\":{\"value\":true},\"c9s_community_composer_hashtag_suggestions_enabled\":{\"value\":false},\"c9s_community_creation_enabled\":{\"value\":true},\"c9s_community_creation_form_membership_type_enabled\":{\"value\":true},\"c9s_community_creation_setup_checklist_enabled\":{\"value\":true},\"c9s_community_deletion_enabled\":{\"value\":true},\"c9s_community_hashtags_carousel_enabled\":{\"value\":false},\"c9s_community_hashtags_enabled\":{\"value\":true},\"c9s_edit_moderators_enabled\":{\"value\":true},\"c9s_enabled\":{\"value\":true},\"c9s_highlight_tweet_enabled\":{\"value\":true},\"c9s_list_members_action_api_enabled\":{\"value\":false},\"c9s_logged_out_access_enabled\":{\"value\":true},\"c9s_max_community_description_length\":{\"value\":160},\"c9s_max_community_name_length\":{\"value\":30},\"c9s_max_rule_count\":{\"value\":10},\"c9s_max_rule_description_length\":{\"value\":160},\"c9s_max_rule_name_length\":{\"value\":60},\"c9s_members_list_search_enabled\":{\"value\":true},\"c9s_moderation_enabled\":{\"value\":true},\"c9s_nav_list_activity_details_enabled\":{\"value\":false},\"c9s_notification_settings_enabled\":{\"value\":true},\"c9s_notification_settings_pinned_tweet_enabled\":{\"value\":true},\"c9s_participation_enabled\":{\"value\":true},\"c9s_poll_creation_enabled\":{\"value\":true},\"c9s_remove_member_enabled\":{\"value\":true},\"c9s_remove_member_list_enabled\":{\"value\":true},\"c9s_report_community_enabled\":{\"value\":false},\"c9s_rule_management_enabled\":{\"value\":true},\"c9s_spotlight_consumption_enabled\":{\"value\":true},\"c9s_spotlight_creation_enabled\":{\"value\":false},\"c9s_ssr_enabled\":{\"value\":false},\"c9s_tab_visibility\":{\"value\":\"members_only\"},\"c9s_timelines_default_selection\":{\"value\":\"ranked\"},\"c9s_timelines_ranking_enabled\":{\"value\":false},\"c9s_unread_indicator_global_enabled\":{\"value\":true},\"c9s_unread_indicator_mod_actions_enabled\":{\"value\":true},\"c9s_unread_indicator_tweets_enabled\":{\"value\":true},\"card_compose_preview_retry_after_ms\":{\"value\":3000},\"card_compose_preview_retry_max\":{\"value\":5},\"content_language_setting_enabled\":{\"value\":true},\"conversation_controls_change_enabled\":{\"value\":true},\"conversation_controls_change_tooltip_enabled\":{\"value\":true},\"conversation_controls_limited_replies_consumption_configuration\":{\"value\":\"no_reply\"},\"conversation_controls_limited_replies_creation_enabled\":{\"value\":true},\"conversation_controls_persistence_enabled\":{\"value\":true},\"conversational_safety_heads_up_treatment_A_enabled\":{\"value\":\"\"},\"dash_region_specific_de_and_tr_media_transparency_items_enabled\":{\"value\":false},\"dash_region_specific_de_media_transparency_items_enabled\":{\"value\":false},\"direct_messages_incremental_holdback_2022h1\":{\"value\":true},\"dm_conversation_labels_max_pinned_count\":{\"value\":6},\"dm_conversation_labels_pinned_education_enabled\":{\"value\":true},\"dm_conversation_labels_pinned_enabled\":{\"value\":true},\"dm_conversations_nsfw_media_filter_enabled\":{\"value\":false},\"dm_education_flags_prompt\":{\"value\":false},\"dm_evolution_conversation_read_enabled\":{\"value\":false},\"dm_evolution_enabled\":{\"value\":true},\"dm_evolution_inbox_primary_enabled\":{\"value\":false},\"dm_evolution_inbox_secondary_enabled\":{\"value\":false},\"dm_evolution_inbox_tertiary_enabled\":{\"value\":false},\"dm_evolution_message_creation_enabled\":{\"value\":true},\"dm_evolution_responsive_web_early_bird_only_switch\":{\"value\":false},\"dm_inbox_search_groups_bucket_size\":{\"value\":5},\"dm_inbox_search_max_recent_searches_stored\":{\"value\":5},\"dm_inbox_search_message_attachment_previews_enabled\":{\"value\":true},\"dm_inbox_search_message_results_enabled\":{\"value\":true},\"dm_inbox_search_messages_bucket_size\":{\"value\":5},\"dm_inbox_search_modular_results_enabled\":{\"value\":true},\"dm_inbox_search_people_bucket_size\":{\"value\":5},\"dm_inbox_search_query_highlighting_conversation_results_enabled\":{\"value\":true},\"dm_inbox_search_query_highlighting_message_results_enabled\":{\"value\":true},\"dm_reactions_config_active_reactions\":{\"value\":[\"😂:funny\",\"😲:surprised\",\"😢:sad\",\"❤️:like\",\"🔥:excited\",\"👍:agree\",\"👎:disagree\"]},\"dm_reactions_config_inactive_reactions\":{\"value\":[\"😠:angry\",\"😷:mask\"]},\"dm_share_sheet_send_individually_enabled\":{\"value\":true},\"dm_share_sheet_send_individually_max_count\":{\"value\":20},\"dm_vdl_chat_p0_enabled\":{\"value\":true},\"dm_vdl_enabled\":{\"value\":true},\"dm_vdl_inbox_p0_enabled\":{\"value\":true},\"dm_voice_rendering_enabled\":{\"value\":true},\"dont_mention_me_enabled\":{\"value\":true},\"dont_mention_me_mentions_tab_education_enabled\":{\"value\":true},\"dont_mention_me_view_api_enabled\":{\"value\":true},\"ecd_dispute_form_link_enabled\":{\"value\":true},\"employee_role\":{\"value\":false},\"enable_label_appealing_misinfo_enabled\":{\"value\":false},\"enable_label_appealing_sensitive_content_enabled\":{\"value\":false},\"explore_relaunch_enable_immersive_web\":{\"value\":false},\"explore_relaunch_enable_immersive_web_navigation_button\":{\"value\":false},\"explore_relaunch_enable_immersive_web_tap_to_hide\":{\"value\":false},\"explore_relaunch_enabled\":{\"value\":false},\"explore_relaunch_onboarding_bar_show_count\":{\"value\":3},\"explore_relaunch_updated_scrubber_position\":{\"value\":false},\"focused_timeline_actions_onboarding_likes\":{\"value\":3},\"follow_nudge_conversation_enabled\":{\"value\":false},\"follow_nudge_search_enabled\":{\"value\":false},\"global_mention_settings_enabled\":{\"value\":false},\"graphql_composer_and_dm_card_previews_enabled\":{\"value\":false},\"graphql_is_translatable_rweb_tweet_is_translatable_enabled\":{\"value\":true},\"graphql_mutation_destroy_mode\":{\"value\":\"graphql_only\"},\"graphql_mutation_retweet_mode\":{\"value\":\"graphql_only\"},\"graphql_mutation_unretweet_mode\":{\"value\":\"graphql_only\"},\"graphql_mutation_update_mode\":{\"value\":\"graphql_only\"},\"graphql_timeline_v2_bookmark_timeline\":{\"value\":false},\"graphql_timeline_v2_query_threaded_conversation_with_injections\":{\"value\":true},\"graphql_timeline_v2_user_favorites_by_time_timeline\":{\"value\":true},\"graphql_timeline_v2_user_media_timeline\":{\"value\":true},\"graphql_timeline_v2_user_profile_timeline\":{\"value\":true},\"graphql_timeline_v2_user_profile_with_replies_timeline\":{\"value\":true},\"gryphon_hide_quick_promote\":{\"value\":false},\"gryphon_optout_in_settings\":{\"value\":false},\"guest_broadcasting_timeline_decorations_enabled\":{\"value\":false},\"hashflags_animation_like_button_enabled\":{\"value\":true},\"home_timeline_extended_reactivity_tweet_clicks_enabled\":{\"value\":false},\"home_timeline_extended_reactivity_tweet_clicks_fatigue\":{\"value\":5},\"home_timeline_extended_reactivity_tweet_clicks_trigger_seconds\":{\"value\":120},\"home_timeline_latest_timeline_switch_enabled\":{\"value\":true},\"home_timeline_like_reactivity_enabled\":{\"value\":true},\"home_timeline_like_reactivity_fatigue\":{\"value\":10},\"home_timeline_scribing_section_change_enabled\":{\"value\":false},\"home_timeline_spheres_detail_page_muting_enabled\":{\"value\":true},\"home_timeline_spheres_max_user_owned_or_subscribed_lists_count\":{\"value\":5},\"home_timeline_spheres_ranking_mode_control_enabled\":{\"value\":true},\"home_timeline_tweet_auto_inline_reply_enabled\":{\"value\":false},\"identity_verification_debadging_notification_enabled\":{\"value\":true},\"identity_verification_educational_prompt_enabled\":{\"value\":true},\"identity_verification_intake_enabled\":{\"value\":false},\"identity_verification_notable_demo_survey\":{\"value\":false},\"interactive_text_enabled\":{\"value\":true},\"linked_search_experiment\":{\"value\":false},\"live_event_docking_enabled\":{\"value\":true},\"live_event_interstitial_seen_cache_enabled\":{\"value\":true},\"live_event_multi_video_auto_advance_dock_enabled\":{\"value\":true},\"live_event_multi_video_auto_advance_enabled\":{\"value\":true},\"live_event_multi_video_auto_advance_fullscreen_enabled\":{\"value\":false},\"live_event_multi_video_auto_advance_transition_duration_seconds\":{\"value\":5},\"live_event_multi_video_enabled\":{\"value\":true},\"live_event_timeline_default_refresh_rate_interval_seconds\":{\"value\":30},\"live_event_timeline_minimum_refresh_rate_interval_seconds\":{\"value\":10},\"live_event_timeline_server_controlled_refresh_rate_enabled\":{\"value\":true},\"livepipeline_client_enabled\":{\"value\":true},\"livepipeline_tweetengagement_enabled\":{\"value\":true},\"longform_ad_free_articles_badging_enabled\":{\"value\":false},\"longform_reader_mode_view_in_reader_mode_entry_button_enabled\":{\"value\":false},\"longform_top_articles_friends_of_friends_enabled\":{\"value\":true},\"longform_top_articles_time_window_enabled\":{\"value\":true},\"machine_translation_holdback_logged_in\":{\"value\":false},\"machine_translation_holdback_logged_out\":{\"value\":false},\"media_edge_to_edge_content_enabled\":{\"value\":false},\"media_infra_play_icon_version_number\":{\"value\":\"playicon_v0\"},\"moment_annotations_enabled\":{\"value\":true},\"moments_new_share_variant_floating_action_button\":{\"value\":false},\"network_layer_503_backoff_mode\":{\"value\":\"host\"},\"ocf_2fa_enrollment_bouncer_enabled\":{\"value\":true},\"ocf_2fa_enrollment_enabled\":{\"value\":true},\"ocf_2fa_unenrollment_enabled\":{\"value\":true},\"onboarding_connect_tab_urt_graphql_enabled\":{\"value\":false},\"onboarding_project_uls_enabled\":{\"value\":false},\"papago_tweet_translation_from_korean_entity_protected\":{\"value\":false},\"papago_tweet_translation_from_korean_entity_protected_destinations\":{\"value\":[\"en\",\"ja\",\"zh\",\"zh-cn\",\"zh-Hans\",\"zh-tw\",\"zh-Hant\"]},\"papago_tweet_translation_from_korean_entity_unprotected\":{\"value\":false},\"papago_tweet_translation_from_korean_entity_unprotected_destinations\":{\"value\":[\"id\",\"es\",\"th\"]},\"papago_tweet_translation_to_korean\":{\"value\":false},\"papago_tweet_translation_to_korean_sources\":{\"value\":[\"en\",\"ja\"]},\"professional_launchpad_m1_enabled\":{\"value\":true},\"professional_launchpad_mobile_promotable_timeline\":{\"value\":false},\"professional_launchpad_upload_address_book\":{\"value\":true},\"profile_foundations_about_tab_enabled\":{\"value\":false},\"profile_foundations_about_tab_tooltip_enabled\":{\"value\":false},\"profile_foundations_header_fields_hidden\":{\"value\":false},\"profile_foundations_tweet_stats_enabled\":{\"value\":false},\"profile_foundations_tweet_stats_tweet_count\":{\"value\":false},\"profile_foundations_tweet_stats_tweet_frequency\":{\"value\":false},\"profile_foundations_tweet_stats_tweet_topics\":{\"value\":false},\"profile_navigation_likes_tab_prominence_enabled\":{\"value\":false},\"report_center_mvp_r1_enabled\":{\"value\":true},\"report_center_mvp_r2_enabled\":{\"value\":false},\"responsive_web_3rd_party_category_branch\":{\"value\":3},\"responsive_web_3rd_party_category_double_click\":{\"value\":3},\"responsive_web_3rd_party_category_external_referer\":{\"value\":3},\"responsive_web_3rd_party_category_ga\":{\"value\":3},\"responsive_web_3rd_party_category_google_platform\":{\"value\":2},\"responsive_web_3rd_party_category_google_recaptcha\":{\"value\":2},\"responsive_web_3rd_party_category_player_card\":{\"value\":3},\"responsive_web_3rd_party_category_sentry\":{\"value\":2},\"responsive_web_3rd_party_category_sign_in_with_apple\":{\"value\":2},\"responsive_web_account_access_language_lo_banners\":{\"value\":\"control\"},\"responsive_web_account_access_language_lo_splash_sidebar\":{\"value\":\"control\"},\"responsive_web_account_search_readability_enabled\":{\"value\":true},\"responsive_web_alt_svc\":{\"value\":false},\"responsive_web_alt_text_nudges_enabled\":{\"value\":true},\"responsive_web_alt_text_nudges_settings_enabled\":{\"value\":true},\"responsive_web_alt_text_translations_enabled\":{\"value\":true},\"responsive_web_api_transition_enabled\":{\"value\":true},\"responsive_web_article_nudge_enabled\":{\"value\":true},\"responsive_web_audio_space_ring_home_timeline\":{\"value\":false},\"responsive_web_author_labels_avatar_label_enabled\":{\"value\":false},\"responsive_web_author_labels_focal_label_enabled\":{\"value\":false},\"responsive_web_author_labels_handle_label_enabled\":{\"value\":false},\"responsive_web_auto_logout_multiaccount_enabled\":{\"value\":true},\"responsive_web_auto_logout_restrictedauthtoken_enabled\":{\"value\":true},\"responsive_web_auto_logout_twid_enabled\":{\"value\":true},\"responsive_web_behavioral_events_communities_enabled\":{\"value\":true},\"responsive_web_behavioral_events_enabled\":{\"value\":false},\"responsive_web_behavioral_events_home_enabled\":{\"value\":true},\"responsive_web_behavioral_events_htl_breadcrumbs\":{\"value\":true},\"responsive_web_behavioral_events_session_id_enabled\":{\"value\":true},\"responsive_web_behavioral_events_target_view_v2_enabled\":{\"value\":true},\"responsive_web_birdwatch_aliases_enabled\":{\"value\":true},\"responsive_web_birdwatch_appeals_enabled\":{\"value\":true},\"responsive_web_birdwatch_consumption_enabled\":{\"value\":false},\"responsive_web_birdwatch_contribution_enabled\":{\"value\":false},\"responsive_web_birdwatch_country_allowed\":{\"value\":false},\"responsive_web_birdwatch_deleted_notes_enabled\":{\"value\":true},\"responsive_web_birdwatch_earn_in_enabled\":{\"value\":true},\"responsive_web_birdwatch_earn_out_enabled\":{\"value\":true},\"responsive_web_birdwatch_hcomp_user\":{\"value\":false},\"responsive_web_birdwatch_history_enabled\":{\"value\":false},\"responsive_web_birdwatch_impressions_enabled\":{\"value\":false},\"responsive_web_birdwatch_new_note_submission_modal_enabled\":{\"value\":true},\"responsive_web_birdwatch_note_awards_enabled\":{\"value\":true},\"responsive_web_birdwatch_note_writing_enabled\":{\"value\":false},\"responsive_web_birdwatch_pivots_enabled\":{\"value\":false},\"responsive_web_birdwatch_profile_awards_enabled\":{\"value\":true},\"responsive_web_birdwatch_rating_crowd_enabled\":{\"value\":false},\"responsive_web_birdwatch_rating_mini_survey_enabled\":{\"value\":false},\"responsive_web_birdwatch_rating_participant_enabled\":{\"value\":false},\"responsive_web_birdwatch_ratings_m2_tags_enabled\":{\"value\":true},\"responsive_web_birdwatch_ratings_v2_enabled\":{\"value\":true},\"responsive_web_birdwatch_site_enabled\":{\"value\":true},\"responsive_web_birdwatch_traffic_lights_enabled\":{\"value\":true},\"responsive_web_branch_cpid_enabled\":{\"value\":false},\"responsive_web_branch_sdk_enabled\":{\"value\":true},\"responsive_web_captions_always_display_enabled\":{\"value\":false},\"responsive_web_captions_always_display_settings_enabled\":{\"value\":false},\"responsive_web_card_conversion_hoisted\":{\"value\":\"off\"},\"responsive_web_card_preconnect_enabled\":{\"value\":false},\"responsive_web_card_preload_mode\":{\"value\":false},\"responsive_web_carousel_v2_cards_non_safari_enabled\":{\"value\":false},\"responsive_web_carousel_v2_cards_safari_variant\":{\"value\":\"control\"},\"responsive_web_carousel_v2_media_detail_enabled\":{\"value\":false},\"responsive_web_cleanup_macaw_swift_indexed_db\":{\"value\":true},\"responsive_web_collection_ads_enabled\":{\"value\":true},\"responsive_web_commerce_shop_spotlight_enabled\":{\"value\":false},\"responsive_web_communities_slices_enabled\":{\"value\":true},\"responsive_web_composer_configurable_video_player_enabled\":{\"value\":false},\"responsive_web_continue_as_always_enabled\":{\"value\":false},\"responsive_web_continue_as_param_enabled\":{\"value\":true},\"responsive_web_convert_card_video_to_gif_enabled\":{\"value\":false},\"responsive_web_cookie_compliance_1st_party_killswitch_list\":{\"value\":[]},\"responsive_web_cookie_compliance_banner_enabled\":{\"value\":false},\"responsive_web_cookie_compliance_gingersnap_enabled\":{\"value\":false},\"responsive_web_cookie_consent_signal_enabled\":{\"value\":false},\"responsive_web_cotweet_consumption_enabled\":{\"value\":true},\"responsive_web_csrf_clientside_enabled\":{\"value\":true},\"responsive_web_dance_cc_tools_enabled\":{\"value\":false},\"responsive_web_dance_cc_tools_include_development_enabled\":{\"value\":false},\"responsive_web_dcm_2_enabled\":{\"value\":true},\"responsive_web_deamplification_replies_dropdown_selector_enabled\":{\"value\":false},\"responsive_web_deamplification_transparent_cursors_enabled\":{\"value\":false},\"responsive_web_device_follow_without_user_follow_enabled\":{\"value\":false},\"responsive_web_disconnect_third_party_sso_enabled\":{\"value\":true},\"responsive_web_dockable_autoplay_policy_enabled\":{\"value\":true},\"responsive_web_drew_mute_and_block_enabled\":{\"value\":false},\"responsive_web_drew_profile_block_enabled\":{\"value\":false},\"responsive_web_drew_timeline_block_enabled\":{\"value\":false},\"responsive_web_dtime_fccts_enabled\":{\"value\":false},\"responsive_web_dtime_featured_timelines_modal_enabled\":{\"value\":true},\"responsive_web_dtime_show_new_tweets_enabled\":{\"value\":true},\"responsive_web_dtime_sparkle_menu_featured_timelines_enabled\":{\"value\":false},\"responsive_web_dtime_timelines_directory_enabled\":{\"value\":false},\"responsive_web_dtime_timelines_preview_enabled\":{\"value\":false},\"responsive_web_dtime_tpat_enabled\":{\"value\":true},\"responsive_web_dynamic_product_ads_enabled\":{\"value\":true},\"responsive_web_edit_tweet_api_enabled\":{\"value\":true},\"responsive_web_edit_tweet_composition_enabled\":{\"value\":true},\"responsive_web_edit_tweet_enabled\":{\"value\":false},\"responsive_web_edit_tweet_pdp_dialog_enabled\":{\"value\":true},\"responsive_web_edit_tweet_perspective_enabled\":{\"value\":false},\"responsive_web_edit_tweet_upsell_enabled\":{\"value\":true},\"responsive_web_element_size_impression_scribe_enabled\":{\"value\":true},\"responsive_web_enhance_cards_enabled\":{\"value\":true},\"responsive_web_eu_countries\":{\"value\":[\"at\",\"be\",\"bg\",\"ch\",\"cy\",\"cz\",\"de\",\"dk\",\"ee\",\"es\",\"fi\",\"fr\",\"gb\",\"gr\",\"hr\",\"hu\",\"ie\",\"is\",\"it\",\"li\",\"lt\",\"lu\",\"lv\",\"mt\",\"nl\",\"no\",\"pl\",\"pt\",\"ro\",\"se\",\"si\",\"sk\"]},\"responsive_web_explorer_ads_enabled\":{\"value\":true},\"responsive_web_extension_compatibility_hide\":{\"value\":false},\"responsive_web_extension_compatibility_impression_guard\":{\"value\":true},\"responsive_web_extension_compatibility_override_param\":{\"value\":false},\"responsive_web_extension_compatibility_scribe\":{\"value\":true},\"responsive_web_extension_compatibility_size_threshold\":{\"value\":50},\"responsive_web_fake_root_twitter_domain_for_testing\":{\"value\":false},\"responsive_web_feature_gating_enabled\":{\"value\":true},\"responsive_web_fetch_hashflags_on_boot\":{\"value\":false},\"responsive_web_footer_categorized_variant_enabled\":{\"value\":false},\"responsive_web_framerate_tracking_home_enabled\":{\"value\":false},\"responsive_web_gaggle_site_enabled\":{\"value\":false},\"responsive_web_graphql_conversations_enabled\":{\"value\":true},\"responsive_web_graphql_dark_reads_probability\":{\"value\":0},\"responsive_web_graphql_feedback\":{\"value\":true},\"responsive_web_graphql_home_enabled\":{\"value\":true},\"responsive_web_graphql_likes_timeline\":{\"value\":true},\"responsive_web_graphql_media_timeline\":{\"value\":true},\"responsive_web_graphql_timeline_navigation_enabled\":{\"value\":true},\"responsive_web_graphql_topic_timeline_enabled\":{\"value\":true},\"responsive_web_hashtag_highlight_is_enabled\":{\"value\":false},\"responsive_web_hashtag_highlight_show_avatar\":{\"value\":false},\"responsive_web_hashtag_highlight_use_small_font\":{\"value\":false},\"responsive_web_hevc_upload_preview_enabled\":{\"value\":false},\"responsive_web_home_new_tweets_pill_v2\":{\"value\":false},\"responsive_web_home_pinned_timelines_latest_enabled\":{\"value\":false},\"responsive_web_home_pinned_timelines_lists_enabled\":{\"value\":false},\"responsive_web_home_sticky_new_tweets_pill_delay_seconds\":{\"value\":1},\"responsive_web_home_sticky_new_tweets_pill_duration_seconds\":{\"value\":120},\"responsive_web_home_sticky_new_tweets_pill_enabled\":{\"value\":true},\"responsive_web_htl_empty_state_redesign_variant\":{\"value\":\"control\"},\"responsive_web_impression_pixel_enabled\":{\"value\":true},\"responsive_web_impression_tracker_refactor_enabled\":{\"value\":true},\"responsive_web_install_banner_show_immediate\":{\"value\":false},\"responsive_web_instream_video_redesign_enabled\":{\"value\":true},\"responsive_web_instream_video_store_keyed\":{\"value\":true},\"responsive_web_lbm_v2_home_enabled\":{\"value\":false},\"responsive_web_lbm_v2_replies_enabled\":{\"value\":false},\"responsive_web_left_nav_refresh_connect_enabled\":{\"value\":false},\"responsive_web_left_nav_refresh_topics_enabled\":{\"value\":false},\"responsive_web_like_by_author_enabled\":{\"value\":false},\"responsive_web_like_by_author_new_line\":{\"value\":false},\"responsive_web_list_tweet_integration_enabled\":{\"value\":false},\"responsive_web_live_commerce_enabled\":{\"value\":false},\"responsive_web_live_video_parity_periscope_auth_enabled\":{\"value\":false},\"responsive_web_lo_gating_prominent_sta_button_paths\":{\"value\":\"switch-to-app-footer\"},\"responsive_web_locale_context_direction_enabled\":{\"value\":false},\"responsive_web_location_spotlight_display_map\":{\"value\":true},\"responsive_web_location_spotlight_v1_config\":{\"value\":true},\"responsive_web_location_spotlight_v1_display\":{\"value\":true},\"responsive_web_logged_out_explore_enabled\":{\"value\":true},\"responsive_web_logged_out_explore_home_path_enabled\":{\"value\":true},\"responsive_web_logged_out_gating_13622_ddg\":{\"value\":\"\"},\"responsive_web_logged_out_gating_14788_ddg\":{\"value\":\"\"},\"responsive_web_logged_out_gating_14992_ddg\":{\"value\":\"\"},\"responsive_web_logged_out_gating_15377_ddg\":{\"value\":\"\"},\"responsive_web_logged_out_gating_non_holdback_ddgs\":{\"value\":\"\"},\"responsive_web_logged_out_notifications_enabled\":{\"value\":false},\"responsive_web_logged_out_notifications_including_home\":{\"value\":false},\"responsive_web_login_input_type_email_enabled\":{\"value\":false},\"responsive_web_login_signup_sheet_app_install_cta_enabled\":{\"value\":true},\"responsive_web_media_upload_limit_2g\":{\"value\":250},\"responsive_web_media_upload_limit_3g\":{\"value\":1500},\"responsive_web_media_upload_limit_slow_2g\":{\"value\":150},\"responsive_web_media_upload_md5_hashing_enabled\":{\"value\":true},\"responsive_web_media_upload_metrics_enabled\":{\"value\":true},\"responsive_web_media_upload_target_jpg_pixels_per_byte\":{\"value\":6},\"responsive_web_menu_section_divider_enabled\":{\"value\":false},\"responsive_web_misinfo_label_revamp_tweaks_enabled\":{\"value\":false},\"responsive_web_mixed_media_composition_enabled\":{\"value\":false},\"responsive_web_mixed_media_consumption_enabled\":{\"value\":true},\"responsive_web_mobile_app_spotlight_v1_config\":{\"value\":false},\"responsive_web_mobile_app_spotlight_v1_display\":{\"value\":false},\"responsive_web_moment_maker_annotations_enabled\":{\"value\":false},\"responsive_web_moment_maker_enabled\":{\"value\":true},\"responsive_web_moment_maker_promoted_tweets_enabled\":{\"value\":false},\"responsive_web_multiple_account_limit\":{\"value\":5},\"responsive_web_new_copy_security_key_2fa_enabled\":{\"value\":true},\"responsive_web_newsletters_callout_enabled\":{\"value\":true},\"responsive_web_newsletters_menu_enabled\":{\"value\":true},\"responsive_web_newsletters_profile_subscribe_enabled\":{\"value\":true},\"responsive_web_newsletters_subscribe_double_opt_in_removal_enabled\":{\"value\":true},\"responsive_web_nft_avatar\":{\"value\":true},\"responsive_web_nft_avatar_help_link\":{\"value\":\"https://help.twitter.com/en/using-twitter/twitter-blue-labs#nft\"},\"responsive_web_notifications_empty_state_redesign_variant\":{\"value\":\"control\"},\"responsive_web_notifications_overrides_desktop_enabled\":{\"value\":false},\"responsive_web_notifications_overrides_mobile_enabled\":{\"value\":false},\"responsive_web_ntab_verified_mentions_vit_internal_dogfood\":{\"value\":false},\"responsive_web_nux_web_to_app_drop_gate_enabled\":{\"value\":false},\"responsive_web_oauth2_consent_flow_enabled\":{\"value\":true},\"responsive_web_ocf_reportflow_appeals_enabled\":{\"value\":false},\"responsive_web_ocf_reportflow_dms_enabled\":{\"value\":false},\"responsive_web_ocf_reportflow_lists_enabled\":{\"value\":true},\"responsive_web_ocf_reportflow_profiles_enabled\":{\"value\":true},\"responsive_web_ocf_reportflow_spaces_enabled\":{\"value\":false},\"responsive_web_ocf_reportflow_suspension_appeals_enabled\":{\"value\":false},\"responsive_web_ocf_reportflow_testers\":{\"value\":false},\"responsive_web_ocf_reportflow_tweets_enabled\":{\"value\":true},\"responsive_web_ocf_sms_autoverify_darkwrite\":{\"value\":false},\"responsive_web_ocf_sms_autoverify_enabled\":{\"value\":false},\"responsive_web_offscreen_video_scroller_removal_enabled\":{\"value\":false},\"responsive_web_open_app_appbar_button_enabled\":{\"value\":true},\"responsive_web_open_in_app_prompt_enabled\":{\"value\":false},\"responsive_web_opengraph_image_tweet_copy_1\":{\"value\":true},\"responsive_web_opengraph_play_icon_overlay\":{\"value\":true},\"responsive_web_opengraph_video_tweet_copy_1\":{\"value\":true},\"responsive_web_original_tweet_nudge_enabled\":{\"value\":false},\"responsive_web_original_tweet_nudge_show_nudge\":{\"value\":false},\"responsive_web_original_tweet_nudge_supported_languages\":{\"value\":[\"en\"]},\"responsive_web_passwordless_sso_enabled\":{\"value\":false},\"responsive_web_pinned_replies_enabled\":{\"value\":false},\"responsive_web_placeholder_siwg_button_enabled\":{\"value\":false},\"responsive_web_prerolls_fullscreen_disabled_on_ios\":{\"value\":false},\"responsive_web_professional_journeys_holdback_enabled\":{\"value\":false},\"responsive_web_profile_spotlight_v0_config\":{\"value\":true},\"responsive_web_profile_spotlight_v0_display\":{\"value\":true},\"responsive_web_promoted_account_card_enabled\":{\"value\":true},\"responsive_web_promoted_badge_below_header\":{\"value\":false},\"responsive_web_promoted_badge_use_circle_icon\":{\"value\":false},\"responsive_web_qp_graphql_accounts_enabled\":{\"value\":true},\"responsive_web_qp_intro_experiment_enabled\":{\"value\":false},\"responsive_web_qp_payment_select_enabled\":{\"value\":true},\"responsive_web_reactions_api_test\":{\"value\":false},\"responsive_web_reactions_enabled\":{\"value\":false},\"responsive_web_reactions_fruit_basket_threshold\":{\"value\":20},\"responsive_web_reactions_legacy_heart\":{\"value\":true},\"responsive_web_reactions_nux_banner\":{\"value\":false},\"responsive_web_reader_extended_menu\":{\"value\":true},\"responsive_web_recent_searches_events_enabled\":{\"value\":true},\"responsive_web_recent_searches_topics_enabled\":{\"value\":true},\"responsive_web_recent_searches_users_enabled\":{\"value\":true},\"responsive_web_repeat_profile_visits_notifications_device_follow_only_version_enabled\":{\"value\":false},\"responsive_web_repeat_profile_visits_notifications_enabled\":{\"value\":false},\"responsive_web_reply_nudge_copy_version\":{\"value\":0},\"responsive_web_reply_nudge_enabled\":{\"value\":false},\"responsive_web_reply_nudge_show_nudge\":{\"value\":true},\"responsive_web_reply_nudge_supported_languages\":{\"value\":[\"en\"]},\"responsive_web_reply_nudge_testing_keyword\":{\"value\":false},\"responsive_web_reply_storm_enabled\":{\"value\":false},\"responsive_web_report_page_not_found\":{\"value\":false},\"responsive_web_scroller_autopoll_enabled\":{\"value\":false},\"responsive_web_scroller_top_positioning_enabled\":{\"value\":false},\"responsive_web_search_home_page_design_variation\":{\"value\":\"\"},\"responsive_web_send_cookies_metadata_enabled\":{\"value\":true},\"responsive_web_settings_timeline_polling_enabled\":{\"value\":false},\"responsive_web_settings_timeline_polling_interval_ms\":{\"value\":0},\"responsive_web_settings_timeline_refresh_background_interval\":{\"value\":0},\"responsive_web_share_action_order_desktop\":{\"value\":\"copy_link_first_bookmark_last\"},\"responsive_web_share_action_order_mobile\":{\"value\":\"default\"},\"responsive_web_share_only_tweet_url_omit_title_and_text\":{\"value\":true},\"responsive_web_sidebar_ttf_enabled\":{\"value\":false},\"responsive_web_spud_enabled\":{\"value\":true},\"responsive_web_sso_redirect_enabled\":{\"value\":true},\"responsive_web_ssr_footer_categorized_variant_enabled\":{\"value\":true},\"responsive_web_ssr_verified_crawler_rux_injections_enabled\":{\"value\":true},\"responsive_web_suppress_app_button_banner_suppressed\":{\"value\":false},\"responsive_web_text_conversations_enabled\":{\"value\":false},\"responsive_web_themed_scrollbars\":{\"value\":false},\"responsive_web_third_party_sso_buttons_enabled\":{\"value\":true},\"responsive_web_timeline_cover_killswitch_enabled\":{\"value\":false},\"responsive_web_timeline_refetching_on_revisit_enabled\":{\"value\":true},\"responsive_web_timeline_relay_lists_management_enabled\":{\"value\":false},\"responsive_web_timeline_relay_user_lists_enabled\":{\"value\":false},\"responsive_web_tracer_global_trace_sample_rate\":{\"value\":1},\"responsive_web_trends_setting_new_endpoints\":{\"value\":true},\"responsive_web_tweet_analytics_m2_enabled\":{\"value\":false},\"responsive_web_tweet_analytics_m3_enabled\":{\"value\":false},\"responsive_web_tweet_analytics_promoted_audience_demographics_enabled\":{\"value\":false},\"responsive_web_tweet_analytics_video_metrics_v2_enabled\":{\"value\":true},\"responsive_web_twitter_article_compose_enabled\":{\"value\":false},\"responsive_web_twitter_article_cover_aspect_ratio_5_2\":{\"value\":true},\"responsive_web_twitter_article_data_v2_enabled\":{\"value\":false},\"responsive_web_twitter_article_geo_gated\":{\"value\":false},\"responsive_web_twitter_article_max_times_show_tweet_banner\":{\"value\":3},\"responsive_web_twitter_article_tweet_other_notes_enabled\":{\"value\":true},\"responsive_web_twitter_article_tweet_own_notes_enabled\":{\"value\":false},\"responsive_web_twitter_article_view_enabled\":{\"value\":true},\"responsive_web_twitter_blue_growth_primary_nav_enabled\":{\"value\":false},\"responsive_web_twitter_blue_home_redesign_enabled\":{\"value\":true},\"responsive_web_twitter_blue_signup_nux_enabled\":{\"value\":true},\"responsive_web_twitter_blue_subscriptions_disabled\":{\"value\":true},\"responsive_web_twitter_blue_verified_badge_is_enabled\":{\"value\":false},\"responsive_web_twitter_blue_verified_badge_ntab_empty_state_enabled\":{\"value\":false},\"responsive_web_twitter_blue_verified_badge_ntab_verified_tab_index\":{\"value\":0},\"responsive_web_twitter_blue_verified_badge_settings_blue_verified_features_enabled\":{\"value\":false},\"responsive_web_typeahead_reverse_bolding_enabled\":{\"value\":true},\"responsive_web_uc_gql_enabled\":{\"value\":true},\"responsive_web_unsupported_entry_tombstone\":{\"value\":false},\"responsive_web_use_app_button_variations\":{\"value\":\"treatment_1\"},\"responsive_web_use_app_prompt_copy_variant\":{\"value\":\"\"},\"responsive_web_use_app_prompt_enabled\":{\"value\":false},\"responsive_web_use_badge_counts_for_ntab\":{\"value\":false},\"responsive_web_vdl_dash_redesign_enabled\":{\"value\":true},\"responsive_web_video_pcomplete_enabled\":{\"value\":true},\"responsive_web_video_promoted_logging_enabled\":{\"value\":false},\"responsive_web_video_trimmer_enabled\":{\"value\":false},\"responsive_web_vod_muted_captions_enabled\":{\"value\":true},\"responsive_web_vs_config_resize_observer_enabled\":{\"value\":true},\"responsive_web_zipkin_api_requests_enabled\":{\"value\":false},\"responsive_web_zipkin_api_requests_paths_allowlist\":{\"value\":[\"/2/timeline/home.json\"]},\"rito_safety_mode_blocked_profile_enabled\":{\"value\":true},\"rito_safety_mode_features_enabled\":{\"value\":false},\"rito_safety_mode_modal_prompt_enabled\":{\"value\":false},\"rito_safety_mode_settings_enabled\":{\"value\":false},\"rweb_home_perf_client_prefetch_mode\":{\"value\":\"all\"},\"rweb_home_perf_client_prefetch_timeout_ms\":{\"value\":0},\"rweb_reply_downvote_before_like\":{\"value\":false},\"rweb_reply_downvote_enabled\":{\"value\":false},\"rweb_reply_downvote_inline_days\":{\"value\":1},\"rweb_reply_downvote_inline_education\":{\"value\":60},\"rweb_reply_downvote_inline_survey\":{\"value\":0},\"rweb_reply_downvote_nux_inline_days\":{\"value\":7},\"rweb_update_fatigue_switch_to_app_day_timeout\":{\"value\":7},\"rweb_update_fatigue_switch_to_app_link\":{\"value\":\"BannerSwitchToApp\"},\"rweb_video_tagging_enabled\":{\"value\":false},\"sc_mock_data_enabled\":{\"value\":false},\"sc_r4_enabled\":{\"value\":false},\"scribe_api_error_sample_size\":{\"value\":0},\"scribe_api_sample_size\":{\"value\":100},\"scribe_cdn_host_list\":{\"value\":[\"si0.twimg.com\",\"si1.twimg.com\",\"si2.twimg.com\",\"si3.twimg.com\",\"a0.twimg.com\",\"a1.twimg.com\",\"a2.twimg.com\",\"a3.twimg.com\",\"abs.twimg.com\",\"amp.twimg.com\",\"o.twimg.com\",\"pbs.twimg.com\",\"pbs-eb.twimg.com\",\"pbs-ec.twimg.com\",\"pbs-v6.twimg.com\",\"pbs-h1.twimg.com\",\"pbs-h2.twimg.com\",\"video.twimg.com\",\"platform.twitter.com\",\"cdn.api.twitter.com\",\"ton.twimg.com\",\"v.cdn.vine.co\",\"mtc.cdn.vine.co\",\"edge.vncdn.co\",\"mid.vncdn.co\"]},\"scribe_cdn_sample_size\":{\"value\":50},\"scribe_web_nav_sample_size\":{\"value\":100},\"sensitive_media_settings_enabled\":{\"value\":false},\"sensitive_tweet_warnings_enabled\":{\"value\":true},\"settings_revamp_search_bar_enabled\":{\"value\":false},\"share_animation_after_like_enabled\":{\"value\":false},\"share_h1_2023_trigger\":{\"value\":\"\"},\"shortened_tracking_parameters_mapping\":{\"value\":[\"01:twcamp^share|twsrc^android|twgr^sms\",\"02:twcamp^share|twsrc^android|twgr^email\",\"03:twcamp^share|twsrc^android|twgr^gmail\",\"04:twcamp^share|twsrc^android|twgr^facebook\",\"05:twcamp^share|twsrc^android|twgr^wechat\",\"06:twcamp^share|twsrc^android|twgr^line\",\"07:twcamp^share|twsrc^android|twgr^fbmessenger\",\"08:twcamp^share|twsrc^android|twgr^whatsapp\",\"09:twcamp^share|twsrc^android|twgr^other\",\"10:twcamp^share|twsrc^ios|twgr^sms\",\"11:twcamp^share|twsrc^ios|twgr^email\",\"12:twcamp^share|twsrc^ios|twgr^other\",\"13:twcamp^share|twsrc^android|twgr^download\",\"14:twcamp^share|twsrc^ios|twgr^download\",\"15:twcamp^share|twsrc^android|twgr^hangouts\",\"16:twcamp^share|twsrc^android|twgr^twitterdm\",\"17:twcamp^share|twsrc^m5|twgr^email\",\"18:twcamp^share|twsrc^m5|twgr^download\",\"19:twcamp^share|twsrc^android|twgr^copy\",\"20:twcamp^share|twsrc^m5|twgr^copy\",\"21:twcamp^share|twsrc^ios|twgr^copy\",\"22:twcamp^share|twsrc^ios|twgr^snapchat\",\"23:twcamp^share|twsrc^android|twgr^snapchat\",\"24:twcamp^share|twsrc^ios|twgr^whatsapp\",\"25:twcamp^share|twsrc^ios|twgr^fbmessenger\",\"26:twcamp^share|twsrc^ios|twgr^facebook\",\"27:twcamp^share|twsrc^ios|twgr^gmail\",\"28:twcamp^share|twsrc^ios|twgr^telegram\",\"29:twcamp^share|twsrc^ios|twgr^line\",\"30:twcamp^share|twsrc^ios|twgr^viber\",\"31:twcamp^share|twsrc^android|twgr^slack\",\"32:twcamp^share|twsrc^android|twgr^kakao\",\"33:twcamp^share|twsrc^android|twgr^discord\",\"34:twcamp^share|twsrc^android|twgr^reddit\",\"35:twcamp^share|twsrc^android|twgr^telegram\",\"36:twcamp^share|twsrc^android|twgr^instagram\",\"37:twcamp^share|twsrc^android|twgr^daum\",\"38:twcamp^share|twsrc^ios|twgr^instagram\",\"39:twcamp^share|twsrc^ios|twgr^linkedin\",\"40:twcamp^share|twsrc^android|twgr^linkedin\",\"41:twcamp^share|twsrc^gryphon|twgr^copy\",\"42:twcamp^share|twsrc^iphone|twgr^sms\",\"43:twcamp^share|twsrc^iphone|twgr^email\",\"44:twcamp^share|twsrc^iphone|twgr^other\",\"45:twcamp^share|twsrc^iphone|twgr^download\",\"46:twcamp^share|twsrc^iphone|twgr^copy\",\"47:twcamp^share|twsrc^iphone|twgr^snapchat\",\"48:twcamp^share|twsrc^iphone|twgr^whatsapp\",\"49:twcamp^share|twsrc^iphone|twgr^fbmessenger\",\"50:twcamp^share|twsrc^iphone|twgr^facebook\",\"51:twcamp^share|twsrc^iphone|twgr^gmail\",\"52:twcamp^share|twsrc^iphone|twgr^telegram\",\"53:twcamp^share|twsrc^iphone|twgr^line\",\"54:twcamp^share|twsrc^iphone|twgr^viber\",\"55:twcamp^share|twsrc^iphone|twgr^instagram\",\"56:twcamp^share|twsrc^iphone|twgr^linkedin\",\"57:twcamp^share|twsrc^ipad|twgr^sms\",\"58:twcamp^share|twsrc^ipad|twgr^email\",\"59:twcamp^share|twsrc^ipad|twgr^other\",\"60:twcamp^share|twsrc^ipad|twgr^download\",\"61:twcamp^share|twsrc^ipad|twgr^copy\",\"62:twcamp^share|twsrc^ipad|twgr^snapchat\",\"63:twcamp^share|twsrc^ipad|twgr^whatsapp\",\"64:twcamp^share|twsrc^ipad|twgr^fbmessenger\",\"65:twcamp^share|twsrc^ipad|twgr^facebook\",\"66:twcamp^share|twsrc^ipad|twgr^gmail\",\"67:twcamp^share|twsrc^ipad|twgr^telegram\",\"68:twcamp^share|twsrc^ipad|twgr^line\",\"69:twcamp^share|twsrc^ipad|twgr^viber\",\"70:twcamp^share|twsrc^ipad|twgr^instagram\",\"71:twcamp^share|twsrc^ipad|twgr^linkedin\"]},\"smbo_legacy_pac_is_in_follow_position_test\":{\"value\":false},\"social_context_and_topic_context_refresh_alignment_enabled\":{\"value\":false},\"spaces_2022_h2_clipping\":{\"value\":true},\"spaces_2022_h2_clipping_consumption\":{\"value\":true},\"spaces_2022_h2_clipping_duration_seconds\":{\"value\":30},\"spaces_2022_h2_follow_host\":{\"value\":true},\"spaces_2022_h2_reactions_web_send\":{\"value\":false},\"spaces_2022_h2_spacebar\":{\"value\":false},\"spaces_2022_h2_spacebar_use_mock_data\":{\"value\":false},\"spaces_2022_h2_spacebar_web_sidebar\":{\"value\":false},\"spaces_2022_h2_spacebar_web_topnavbar\":{\"value\":\"disabled\"},\"spaces_2022_h2_spacebar_web_use_topnavbar\":{\"value\":true},\"spaces_2022_h2_spaces_communities\":{\"value\":true},\"standardized_nudges_misinfo\":{\"value\":true},\"standardized_nudges_toxicity\":{\"value\":false},\"stateful_login_enabled\":{\"value\":true},\"subscriptions_blue_premium_labeling_enabled\":{\"value\":true},\"subscriptions_enabled\":{\"value\":true},\"subscriptions_feature_1002\":{\"value\":true},\"subscriptions_feature_1003\":{\"value\":true},\"subscriptions_feature_1005\":{\"value\":true},\"subscriptions_feature_1006\":{\"value\":false},\"subscriptions_feature_1007\":{\"value\":true},\"subscriptions_feature_1009\":{\"value\":true},\"subscriptions_feature_1011\":{\"value\":true},\"subscriptions_feature_labs_1001\":{\"value\":true},\"subscriptions_feature_labs_1004\":{\"value\":true},\"subscriptions_long_video_rweb_new_copy_enabled\":{\"value\":true},\"subscriptions_long_video_upload\":{\"value\":true},\"subscriptions_management_enabled\":{\"value\":true},\"subscriptions_marketing_page_refresh_enabled\":{\"value\":true},\"subscriptions_settings_item_enabled\":{\"value\":true},\"subscriptions_sign_up_enabled\":{\"value\":false},\"subscriptions_stripe_testing\":{\"value\":false},\"subscriptions_tab_customization_on_android_enabled\":{\"value\":true},\"subscriptions_top_articles_on_ios_enabled\":{\"value\":true},\"subscriptions_twitter_blue_logo_enabled\":{\"value\":true},\"super_follow_android_web_subscription_enabled\":{\"value\":false},\"super_follow_exclusive_tweet_creation_api_enabled\":{\"value\":true},\"super_follow_tweet_api_enabled\":{\"value\":true},\"super_follow_user_api_enabled\":{\"value\":true},\"super_follow_web_application_enabled\":{\"value\":false},\"super_follow_web_deactivate_enabled\":{\"value\":true},\"super_follow_web_debug_enabled\":{\"value\":false},\"super_follow_web_edit_perks_enabled\":{\"value\":true},\"super_follow_web_onboarding_enabled\":{\"value\":true},\"super_follow_web_rename_enabled\":{\"value\":false},\"targeted_project_friday_enabled\":{\"value\":false},\"topic_landing_page_clearer_controls_enabled\":{\"value\":true},\"topic_landing_page_cta_text\":{\"value\":\"control\"},\"topic_landing_page_share_enabled\":{\"value\":true},\"topics_context_controls_followed_variation\":{\"value\":\"see_more\"},\"topics_context_controls_implicit_context_x_enabled\":{\"value\":true},\"topics_context_controls_implicit_variation\":{\"value\":\"see_more\"},\"topics_context_controls_inline_prompt_enabled\":{\"value\":false},\"topics_discovery_page_enabled\":{\"value\":false},\"toxic_reply_filter_inline_callout_enabled\":{\"value\":false},\"toxic_reply_filter_settings_enabled\":{\"value\":false},\"traffic_rewrite_map\":{\"value\":[]},\"trusted_friends_audience_control_exp_variant\":{\"value\":\"control\"},\"trusted_friends_consumption_enabled\":{\"value\":true},\"trusted_friends_dash_discovery_enabled\":{\"value\":true},\"trusted_friends_tweet_creation_enabled\":{\"value\":true},\"tweet_limited_actions_config_community_tweet_community_deleted\":{\"value\":[\"add_to_bookmarks\",\"add_to_moment\",\"embed\",\"follow\",\"hide_community_tweet\",\"like\",\"lists_add_remove\",\"mute_conversation\",\"pin_to_profile\",\"quote_tweet\",\"react\",\"remove_from_community\",\"reply\",\"retweet\",\"send_via_dm\",\"share_tweet_via\",\"view_hidden_replies\",\"view_tweet_activity\",\"vote_on_poll\"]},\"tweet_limited_actions_config_community_tweet_community_not_found\":{\"value\":[\"add_to_bookmarks\",\"add_to_moment\",\"embed\",\"follow\",\"hide_community_tweet\",\"like\",\"lists_add_remove\",\"mute_conversation\",\"pin_to_profile\",\"quote_tweet\",\"react\",\"remove_from_community\",\"reply\",\"retweet\",\"send_via_dm\",\"share_tweet_via\",\"view_hidden_replies\",\"view_tweet_activity\",\"vote_on_poll\"]},\"tweet_limited_actions_config_community_tweet_community_suspended\":{\"value\":[\"add_to_bookmarks\",\"add_to_moment\",\"embed\",\"follow\",\"hide_community_tweet\",\"like\",\"lists_add_remove\",\"mute_conversation\",\"pin_to_profile\",\"quote_tweet\",\"react\",\"remove_from_community\",\"reply\",\"retweet\",\"send_via_dm\",\"share_tweet_via\",\"view_hidden_replies\",\"view_tweet_activity\",\"vote_on_poll\"]},\"tweet_limited_actions_config_community_tweet_hidden\":{\"value\":[\"add_to_bookmarks\",\"add_to_moment\",\"embed\",\"follow\",\"hide_community_tweet\",\"like\",\"lists_add_remove\",\"mute_conversation\",\"pin_to_profile\",\"quote_tweet\",\"react\",\"reply\",\"retweet\",\"send_via_dm\",\"share_tweet_via\",\"view_hidden_replies\",\"view_tweet_activity\",\"vote_on_poll\"]},\"tweet_limited_actions_config_community_tweet_member\":{\"value\":[\"embed\",\"pin_to_profile\",\"retweet\"]},\"tweet_limited_actions_config_community_tweet_member_removed\":{\"value\":[\"add_to_bookmarks\",\"add_to_moment\",\"embed\",\"follow\",\"hide_community_tweet\",\"like\",\"lists_add_remove\",\"mute_conversation\",\"pin_to_profile\",\"quote_tweet\",\"react\",\"remove_from_community\",\"reply\",\"retweet\",\"send_via_dm\",\"share_tweet_via\",\"view_hidden_replies\",\"view_tweet_activity\",\"vote_on_poll\"]},\"tweet_limited_actions_config_community_tweet_non_member\":{\"value\":[\"embed\",\"like\",\"pin_to_profile\",\"react\",\"reply\",\"reply_down_vote\",\"retweet\",\"share_tweet_via\",\"vote_on_poll\"]},\"tweet_limited_actions_config_disable_state_media_autoplay\":{\"value\":[\"autoplay\"]},\"tweet_limited_actions_config_dpa_enabled\":{\"value\":true},\"tweet_limited_actions_config_dynamic_product_ad\":{\"value\":[\"reply\",\"retweet\",\"quote_tweet\",\"share_tweet_via\",\"send_via_dm\",\"copy_link\",\"add_to_bookmarks\",\"like\"]},\"tweet_limited_actions_config_enabled\":{\"value\":true},\"tweet_limited_actions_config_limit_trusted_friends_tweet\":{\"value\":[\"retweet\",\"quote_tweet\",\"share_tweet_via\",\"send_via_dm\",\"copy_link\",\"view_tweet_activity\",\"embed\",\"add_to_moment\"]},\"tweet_limited_actions_config_non_compliant\":{\"value\":[\"reply\",\"retweet\",\"like\",\"react\",\"send_via_dm\",\"add_to_bookmarks\",\"add_to_moment\",\"pin_to_profile\",\"view_tweet_activity\",\"share_tweet_via\",\"copy_link\"]},\"tweet_limited_actions_config_skip_tweet_detail\":{\"value\":[\"reply\"]},\"tweet_limited_actions_config_skip_tweet_detail_enabled\":{\"value\":true},\"tweet_limited_actions_config_soft_nudge_with_quote_tweet\":{\"value\":[\"show_retweet_action_menu\"]},\"tweet_with_visibility_results_prefer_gql_limited_actions_policy_enabled\":{\"value\":false},\"tweetypie_unmention_optimization_enabled\":{\"value\":true},\"twitter_chat_communities_chat_enabled\":{\"value\":false},\"twitter_delegate_enabled\":{\"value\":false},\"ucpd_enabled\":{\"value\":true},\"unified_cards_ad_metadata_container_dynamic_card_content_query_enabled\":{\"value\":true},\"unified_cards_collection_ads_convert_to_image_website_card\":{\"value\":false},\"unified_cards_dpa_cta_button_enabled\":{\"value\":true},\"unified_cards_dpa_metadata_enabled\":{\"value\":true},\"unified_cards_dpa_placeholder_media_key\":{\"value\":[\"3_1485707239990054912\"]},\"unified_cards_follow_card_consumption_enabled\":{\"value\":true},\"user_display_name_max_limit\":{\"value\":50},\"verified_phone_label_enabled\":{\"value\":false},\"vibe_api_enabled\":{\"value\":true},\"vibe_tweet_context_enabled\":{\"value\":true},\"vod_attribution_tweet_detail_pivot_enabled\":{\"value\":true},\"voice_consumption_enabled\":{\"value\":true},\"voice_rooms_card_version\":{\"value\":2},\"voice_rooms_discovery_page_enabled\":{\"value\":false},\"voice_rooms_end_screen_participants\":{\"value\":true},\"voice_rooms_expanded_dock\":{\"value\":true},\"voice_rooms_expanded_dock_reactions\":{\"value\":true},\"voice_rooms_host_analytics_enabled\":{\"value\":true},\"voice_rooms_recent_search_audiospace_ring_enabled\":{\"value\":true},\"voice_rooms_replay_consumption\":{\"value\":true},\"voice_rooms_search_results_page_audiospace_ring_enabled\":{\"value\":false},\"voice_rooms_sharing_listening_data_with_followers_setting_enabled\":{\"value\":true},\"voice_rooms_speaking_enabled\":{\"value\":false},\"voice_rooms_typeahead_audiospace_ring_enabled\":{\"value\":true},\"web_video_bitrate_persistence_enabled\":{\"value\":false},\"web_video_caption_repositioning_enabled\":{\"value\":true},\"web_video_hls_android_mse_enabled\":{\"value\":true},\"web_video_hls_mp4_threshold_sec\":{\"value\":0},\"web_video_hls_variant_version\":{\"value\":\"1\"},\"web_video_hlsjs_version\":{\"value\":\"\"},\"web_video_playback_rate_enabled\":{\"value\":false},\"web_video_player_size_cap_disabled\":{\"value\":false},\"web_video_prefetch_playlist_autoplay_disabled\":{\"value\":false},\"web_video_transcribed_captions_enabled\":{\"value\":false}},\"featureSetToken\":\"a93a6e7ea6ab6658b167f4187bfb9c22c714ee04\",\"isLoaded\":true,\"isLoading\":false,\"useEventAllowlist\":true,\"user\":{\"config\":{\"2fa_temporary_password_enabled\":{\"value\":false},\"Arkose_rweb_hosted_page\":{\"value\":true},\"Arkose_use_invisible_challenge_key\":{\"value\":false},\"account_2fa_standalone_security_key_enabled\":{\"value\":true},\"account_country_setting_countries_whitelist\":{\"value\":[\"ad\",\"ae\",\"af\",\"ag\",\"ai\",\"al\",\"am\",\"ao\",\"ar\",\"as\",\"at\",\"au\",\"aw\",\"ax\",\"az\",\"ba\",\"bb\",\"bd\",\"be\",\"bf\",\"bg\",\"bh\",\"bi\",\"bj\",\"bl\",\"bm\",\"bn\",\"bo\",\"bq\",\"br\",\"bs\",\"bt\",\"bv\",\"bw\",\"by\",\"bz\",\"ca\",\"cc\",\"cd\",\"cf\",\"cg\",\"ch\",\"ci\",\"ck\",\"cl\",\"cm\",\"co\",\"cr\",\"cu\",\"cv\",\"cw\",\"cx\",\"cy\",\"cz\",\"de\",\"dj\",\"dk\",\"dm\",\"do\",\"dz\",\"ec\",\"ee\",\"eg\",\"er\",\"es\",\"et\",\"fi\",\"fj\",\"fk\",\"fm\",\"fo\",\"fr\",\"ga\",\"gb\",\"gd\",\"ge\",\"gf\",\"gg\",\"gh\",\"gi\",\"gl\",\"gm\",\"gn\",\"gp\",\"gq\",\"gr\",\"gs\",\"gt\",\"gu\",\"gw\",\"gy\",\"hk\",\"hn\",\"hr\",\"ht\",\"hu\",\"id\",\"ie\",\"il\",\"im\",\"in\",\"io\",\"iq\",\"ir\",\"is\",\"it\",\"je\",\"jm\",\"jo\",\"jp\",\"ke\",\"kg\",\"kh\",\"ki\",\"km\",\"kn\",\"kr\",\"kw\",\"ky\",\"kz\",\"la\",\"lb\",\"lc\",\"li\",\"lk\",\"lr\",\"ls\",\"lt\",\"lu\",\"lv\",\"ly\",\"ma\",\"mc\",\"md\",\"me\",\"mf\",\"mg\",\"mh\",\"mk\",\"ml\",\"mn\",\"mo\",\"mp\",\"mq\",\"mr\",\"ms\",\"mt\",\"mu\",\"mv\",\"mw\",\"mx\",\"my\",\"mz\",\"na\",\"nc\",\"ne\",\"nf\",\"ng\",\"ni\",\"nl\",\"no\",\"np\",\"nr\",\"nu\",\"nz\",\"om\",\"pa\",\"pe\",\"pf\",\"pg\",\"ph\",\"pk\",\"pl\",\"pm\",\"pn\",\"pr\",\"ps\",\"pt\",\"pw\",\"py\",\"qa\",\"re\",\"ro\",\"rs\",\"ru\",\"rw\",\"sa\",\"sb\",\"sc\",\"se\",\"sg\",\"sh\",\"si\",\"sk\",\"sl\",\"sm\",\"sn\",\"so\",\"sr\",\"st\",\"sv\",\"sx\",\"sz\",\"tc\",\"td\",\"tf\",\"tg\",\"th\",\"tj\",\"tk\",\"tl\",\"tm\",\"tn\",\"to\",\"tr\",\"tt\",\"tv\",\"tw\",\"tz\",\"ua\",\"ug\",\"us\",\"uy\",\"uz\",\"va\",\"vc\",\"ve\",\"vi\",\"vn\",\"vu\",\"wf\",\"ws\",\"xk\",\"ye\",\"yt\",\"za\",\"zm\",\"zw\"]},\"account_session_console_from_graphql_enabled\":{\"value\":true},\"account_taxonomy_automated_label_enabled\":{\"value\":true},\"account_taxonomy_automation_opt_in_enabled\":{\"value\":false},\"ads_spacing_client_fallback_minimum_spacing\":{\"value\":3},\"arkose_challenge_lo_web_notification_dev\":{\"value\":\"BF5FA6C8-9668-4AF9-AFA2-E362F56E5B71\"},\"arkose_challenge_lo_web_notification_mobile_prod\":{\"value\":\"6A2FD110-7C1A-47CD-82EE-D01FFB4810D7\"},\"arkose_challenge_lo_web_notification_prod\":{\"value\":\"50706BFE-942C-4EEC-B9AD-03F7CD268FB1\"},\"arkose_challenge_login_web_devel\":{\"value\":\"DF58DD3B-DFCC-4502-91FA-EDC0DC385CFF\"},\"arkose_challenge_login_web_prod\":{\"value\":\"2F4F0B28-BC94-4271-8AD7-A51662E3C91C\"},\"arkose_challenge_open_app_dev\":{\"value\":\"560C66A3-C8EB-4D11-BE53-A8232734AA62\"},\"arkose_challenge_open_app_prod\":{\"value\":\"6E8D3D6E-30D4-45F1-9838-BA3D9651AAA1\"},\"arkose_challenge_signup_mobile_dev\":{\"value\":\"006B5E87-7497-403E-9E0C-8FFBAAC6FA67\"},\"arkose_challenge_signup_mobile_prod\":{\"value\":\"867D55F2-24FD-4C56-AB6D-589EDAF5E7C5\"},\"arkose_challenge_signup_web_dev\":{\"value\":\"DF58DD3B-DFCC-4502-91FA-EDC0DC385CFF\"},\"arkose_challenge_signup_web_prod\":{\"value\":\"2CB16598-CB82-4CF7-B332-5990DB66F3AB\"},\"arkose_challenge_transparent_signup_dev\":{\"value\":\"6627C16B-DA60-47A5-85F7-CFF23BD2BE69\"},\"arkose_challenge_transparent_signup_prod\":{\"value\":\"4CB8C8B0-40FF-439C-9D0D-9A389ADA18CB\"},\"author_moderated_replies_urt_container_enabled\":{\"value\":false},\"branded_like_preview_enabled\":{\"value\":false},\"c9s_auto_collapse_community_detail_header_enabled\":{\"value\":true},\"c9s_communities_search_enabled\":{\"value\":true},\"c9s_community_composer_hashtag_suggestions_enabled\":{\"value\":false},\"c9s_community_creation_enabled\":{\"value\":true},\"c9s_community_creation_form_membership_type_enabled\":{\"value\":true},\"c9s_community_creation_setup_checklist_enabled\":{\"value\":true},\"c9s_community_deletion_enabled\":{\"value\":true},\"c9s_community_hashtags_carousel_enabled\":{\"value\":false},\"c9s_community_hashtags_enabled\":{\"value\":true},\"c9s_edit_moderators_enabled\":{\"value\":true},\"c9s_enabled\":{\"value\":true},\"c9s_highlight_tweet_enabled\":{\"value\":true},\"c9s_list_members_action_api_enabled\":{\"value\":false},\"c9s_logged_out_access_enabled\":{\"value\":true},\"c9s_max_community_description_length\":{\"value\":160},\"c9s_max_community_name_length\":{\"value\":30},\"c9s_max_rule_count\":{\"value\":10},\"c9s_max_rule_description_length\":{\"value\":160},\"c9s_max_rule_name_length\":{\"value\":60},\"c9s_members_list_search_enabled\":{\"value\":true},\"c9s_moderation_enabled\":{\"value\":true},\"c9s_nav_list_activity_details_enabled\":{\"value\":false},\"c9s_notification_settings_enabled\":{\"value\":true},\"c9s_notification_settings_pinned_tweet_enabled\":{\"value\":true},\"c9s_participation_enabled\":{\"value\":true},\"c9s_poll_creation_enabled\":{\"value\":true},\"c9s_remove_member_enabled\":{\"value\":true},\"c9s_remove_member_list_enabled\":{\"value\":true},\"c9s_report_community_enabled\":{\"value\":false},\"c9s_rule_management_enabled\":{\"value\":true},\"c9s_spotlight_consumption_enabled\":{\"value\":true},\"c9s_spotlight_creation_enabled\":{\"value\":false},\"c9s_ssr_enabled\":{\"value\":false},\"c9s_tab_visibility\":{\"value\":\"members_only\"},\"c9s_timelines_default_selection\":{\"value\":\"ranked\"},\"c9s_timelines_ranking_enabled\":{\"value\":false},\"c9s_unread_indicator_global_enabled\":{\"value\":true},\"c9s_unread_indicator_mod_actions_enabled\":{\"value\":true},\"c9s_unread_indicator_tweets_enabled\":{\"value\":true},\"card_compose_preview_retry_after_ms\":{\"value\":3000},\"card_compose_preview_retry_max\":{\"value\":5},\"content_language_setting_enabled\":{\"value\":true},\"conversation_controls_change_enabled\":{\"value\":true},\"conversation_controls_change_tooltip_enabled\":{\"value\":true},\"conversation_controls_limited_replies_consumption_configuration\":{\"value\":\"no_reply\"},\"conversation_controls_limited_replies_creation_enabled\":{\"value\":true},\"conversation_controls_persistence_enabled\":{\"value\":true},\"conversational_safety_heads_up_treatment_A_enabled\":{\"value\":\"\"},\"dash_region_specific_de_and_tr_media_transparency_items_enabled\":{\"value\":false},\"dash_region_specific_de_media_transparency_items_enabled\":{\"value\":false},\"direct_messages_incremental_holdback_2022h1\":{\"value\":true},\"dm_conversation_labels_max_pinned_count\":{\"value\":6},\"dm_conversation_labels_pinned_education_enabled\":{\"value\":true},\"dm_conversation_labels_pinned_enabled\":{\"value\":true},\"dm_conversations_nsfw_media_filter_enabled\":{\"value\":false},\"dm_education_flags_prompt\":{\"value\":false},\"dm_evolution_conversation_read_enabled\":{\"value\":false},\"dm_evolution_enabled\":{\"value\":true},\"dm_evolution_inbox_primary_enabled\":{\"value\":false},\"dm_evolution_inbox_secondary_enabled\":{\"value\":false},\"dm_evolution_inbox_tertiary_enabled\":{\"value\":false},\"dm_evolution_message_creation_enabled\":{\"value\":true},\"dm_evolution_responsive_web_early_bird_only_switch\":{\"value\":false},\"dm_inbox_search_groups_bucket_size\":{\"value\":5},\"dm_inbox_search_max_recent_searches_stored\":{\"value\":5},\"dm_inbox_search_message_attachment_previews_enabled\":{\"value\":true},\"dm_inbox_search_message_results_enabled\":{\"value\":true},\"dm_inbox_search_messages_bucket_size\":{\"value\":5},\"dm_inbox_search_modular_results_enabled\":{\"value\":true},\"dm_inbox_search_people_bucket_size\":{\"value\":5},\"dm_inbox_search_query_highlighting_conversation_results_enabled\":{\"value\":true},\"dm_inbox_search_query_highlighting_message_results_enabled\":{\"value\":true},\"dm_reactions_config_active_reactions\":{\"value\":[\"😂:funny\",\"😲:surprised\",\"😢:sad\",\"❤️:like\",\"🔥:excited\",\"👍:agree\",\"👎:disagree\"]},\"dm_reactions_config_inactive_reactions\":{\"value\":[\"😠:angry\",\"😷:mask\"]},\"dm_share_sheet_send_individually_enabled\":{\"value\":true},\"dm_share_sheet_send_individually_max_count\":{\"value\":20},\"dm_vdl_chat_p0_enabled\":{\"value\":true},\"dm_vdl_enabled\":{\"value\":true},\"dm_vdl_inbox_p0_enabled\":{\"value\":true},\"dm_voice_rendering_enabled\":{\"value\":true},\"dont_mention_me_enabled\":{\"value\":true},\"dont_mention_me_mentions_tab_education_enabled\":{\"value\":true},\"dont_mention_me_view_api_enabled\":{\"value\":true},\"ecd_dispute_form_link_enabled\":{\"value\":true},\"employee_role\":{\"value\":false},\"enable_label_appealing_misinfo_enabled\":{\"value\":false},\"enable_label_appealing_sensitive_content_enabled\":{\"value\":false},\"explore_relaunch_enable_immersive_web\":{\"value\":false},\"explore_relaunch_enable_immersive_web_navigation_button\":{\"value\":false},\"explore_relaunch_enable_immersive_web_tap_to_hide\":{\"value\":false},\"explore_relaunch_enabled\":{\"value\":false},\"explore_relaunch_onboarding_bar_show_count\":{\"value\":3},\"explore_relaunch_updated_scrubber_position\":{\"value\":false},\"focused_timeline_actions_onboarding_likes\":{\"value\":3},\"follow_nudge_conversation_enabled\":{\"value\":false},\"follow_nudge_search_enabled\":{\"value\":false},\"global_mention_settings_enabled\":{\"value\":false},\"graphql_composer_and_dm_card_previews_enabled\":{\"value\":false},\"graphql_is_translatable_rweb_tweet_is_translatable_enabled\":{\"value\":true},\"graphql_mutation_destroy_mode\":{\"value\":\"graphql_only\"},\"graphql_mutation_retweet_mode\":{\"value\":\"graphql_only\"},\"graphql_mutation_unretweet_mode\":{\"value\":\"graphql_only\"},\"graphql_mutation_update_mode\":{\"value\":\"graphql_only\"},\"graphql_timeline_v2_bookmark_timeline\":{\"value\":false},\"graphql_timeline_v2_query_threaded_conversation_with_injections\":{\"value\":true},\"graphql_timeline_v2_user_favorites_by_time_timeline\":{\"value\":true},\"graphql_timeline_v2_user_media_timeline\":{\"value\":true},\"graphql_timeline_v2_user_profile_timeline\":{\"value\":true},\"graphql_timeline_v2_user_profile_with_replies_timeline\":{\"value\":true},\"gryphon_hide_quick_promote\":{\"value\":false},\"gryphon_optout_in_settings\":{\"value\":false},\"guest_broadcasting_timeline_decorations_enabled\":{\"value\":false},\"hashflags_animation_like_button_enabled\":{\"value\":true},\"home_timeline_extended_reactivity_tweet_clicks_enabled\":{\"value\":false},\"home_timeline_extended_reactivity_tweet_clicks_fatigue\":{\"value\":5},\"home_timeline_extended_reactivity_tweet_clicks_trigger_seconds\":{\"value\":120},\"home_timeline_latest_timeline_switch_enabled\":{\"value\":true},\"home_timeline_like_reactivity_enabled\":{\"value\":true},\"home_timeline_like_reactivity_fatigue\":{\"value\":10},\"home_timeline_scribing_section_change_enabled\":{\"value\":false},\"home_timeline_spheres_detail_page_muting_enabled\":{\"value\":true},\"home_timeline_spheres_max_user_owned_or_subscribed_lists_count\":{\"value\":5},\"home_timeline_spheres_ranking_mode_control_enabled\":{\"value\":true},\"home_timeline_tweet_auto_inline_reply_enabled\":{\"value\":false},\"identity_verification_debadging_notification_enabled\":{\"value\":true},\"identity_verification_educational_prompt_enabled\":{\"value\":true},\"identity_verification_intake_enabled\":{\"value\":false},\"identity_verification_notable_demo_survey\":{\"value\":false},\"interactive_text_enabled\":{\"value\":true},\"linked_search_experiment\":{\"value\":false},\"live_event_docking_enabled\":{\"value\":true},\"live_event_interstitial_seen_cache_enabled\":{\"value\":true},\"live_event_multi_video_auto_advance_dock_enabled\":{\"value\":true},\"live_event_multi_video_auto_advance_enabled\":{\"value\":true},\"live_event_multi_video_auto_advance_fullscreen_enabled\":{\"value\":false},\"live_event_multi_video_auto_advance_transition_duration_seconds\":{\"value\":5},\"live_event_multi_video_enabled\":{\"value\":true},\"live_event_timeline_default_refresh_rate_interval_seconds\":{\"value\":30},\"live_event_timeline_minimum_refresh_rate_interval_seconds\":{\"value\":10},\"live_event_timeline_server_controlled_refresh_rate_enabled\":{\"value\":true},\"livepipeline_client_enabled\":{\"value\":true},\"livepipeline_tweetengagement_enabled\":{\"value\":true},\"longform_ad_free_articles_badging_enabled\":{\"value\":false},\"longform_reader_mode_view_in_reader_mode_entry_button_enabled\":{\"value\":false},\"longform_top_articles_friends_of_friends_enabled\":{\"value\":true},\"longform_top_articles_time_window_enabled\":{\"value\":true},\"machine_translation_holdback_logged_in\":{\"value\":false},\"machine_translation_holdback_logged_out\":{\"value\":true},\"media_edge_to_edge_content_enabled\":{\"value\":false},\"media_infra_play_icon_version_number\":{\"value\":\"playicon_v0\"},\"moment_annotations_enabled\":{\"value\":true},\"moments_new_share_variant_floating_action_button\":{\"value\":false},\"network_layer_503_backoff_mode\":{\"value\":\"host\"},\"ocf_2fa_enrollment_bouncer_enabled\":{\"value\":true},\"ocf_2fa_enrollment_enabled\":{\"value\":true},\"ocf_2fa_unenrollment_enabled\":{\"value\":true},\"onboarding_connect_tab_urt_graphql_enabled\":{\"value\":false},\"onboarding_project_uls_enabled\":{\"value\":false},\"papago_tweet_translation_from_korean_entity_protected\":{\"value\":false},\"papago_tweet_translation_from_korean_entity_protected_destinations\":{\"value\":[\"en\",\"ja\",\"zh\",\"zh-cn\",\"zh-Hans\",\"zh-tw\",\"zh-Hant\"]},\"papago_tweet_translation_from_korean_entity_unprotected\":{\"value\":false},\"papago_tweet_translation_from_korean_entity_unprotected_destinations\":{\"value\":[\"id\",\"es\",\"th\"]},\"papago_tweet_translation_to_korean\":{\"value\":false},\"papago_tweet_translation_to_korean_sources\":{\"value\":[\"en\",\"ja\"]},\"professional_launchpad_m1_enabled\":{\"value\":true},\"professional_launchpad_mobile_promotable_timeline\":{\"value\":false},\"professional_launchpad_upload_address_book\":{\"value\":true},\"profile_foundations_about_tab_enabled\":{\"value\":false},\"profile_foundations_about_tab_tooltip_enabled\":{\"value\":false},\"profile_foundations_header_fields_hidden\":{\"value\":false},\"profile_foundations_tweet_stats_enabled\":{\"value\":false},\"profile_foundations_tweet_stats_tweet_count\":{\"value\":false},\"profile_foundations_tweet_stats_tweet_frequency\":{\"value\":false},\"profile_foundations_tweet_stats_tweet_topics\":{\"value\":false},\"profile_navigation_likes_tab_prominence_enabled\":{\"value\":false},\"report_center_mvp_r1_enabled\":{\"value\":true},\"report_center_mvp_r2_enabled\":{\"value\":false},\"responsive_web_3rd_party_category_branch\":{\"value\":3},\"responsive_web_3rd_party_category_double_click\":{\"value\":3},\"responsive_web_3rd_party_category_external_referer\":{\"value\":3},\"responsive_web_3rd_party_category_ga\":{\"value\":3},\"responsive_web_3rd_party_category_google_platform\":{\"value\":2},\"responsive_web_3rd_party_category_google_recaptcha\":{\"value\":2},\"responsive_web_3rd_party_category_player_card\":{\"value\":3},\"responsive_web_3rd_party_category_sentry\":{\"value\":2},\"responsive_web_3rd_party_category_sign_in_with_apple\":{\"value\":2},\"responsive_web_account_access_language_lo_banners\":{\"value\":\"control\"},\"responsive_web_account_access_language_lo_splash_sidebar\":{\"value\":\"control\"},\"responsive_web_account_search_readability_enabled\":{\"value\":true},\"responsive_web_alt_svc\":{\"value\":false},\"responsive_web_alt_text_nudges_enabled\":{\"value\":true},\"responsive_web_alt_text_nudges_settings_enabled\":{\"value\":true},\"responsive_web_alt_text_translations_enabled\":{\"value\":true},\"responsive_web_api_transition_enabled\":{\"value\":true},\"responsive_web_article_nudge_enabled\":{\"value\":true},\"responsive_web_audio_space_ring_home_timeline\":{\"value\":false},\"responsive_web_author_labels_avatar_label_enabled\":{\"value\":false},\"responsive_web_author_labels_focal_label_enabled\":{\"value\":false},\"responsive_web_author_labels_handle_label_enabled\":{\"value\":false},\"responsive_web_auto_logout_multiaccount_enabled\":{\"value\":true},\"responsive_web_auto_logout_restrictedauthtoken_enabled\":{\"value\":true},\"responsive_web_auto_logout_twid_enabled\":{\"value\":true},\"responsive_web_behavioral_events_communities_enabled\":{\"value\":true},\"responsive_web_behavioral_events_enabled\":{\"value\":false},\"responsive_web_behavioral_events_home_enabled\":{\"value\":true},\"responsive_web_behavioral_events_htl_breadcrumbs\":{\"value\":true},\"responsive_web_behavioral_events_session_id_enabled\":{\"value\":true},\"responsive_web_behavioral_events_target_view_v2_enabled\":{\"value\":true},\"responsive_web_birdwatch_aliases_enabled\":{\"value\":true},\"responsive_web_birdwatch_appeals_enabled\":{\"value\":true},\"responsive_web_birdwatch_consumption_enabled\":{\"value\":false},\"responsive_web_birdwatch_contribution_enabled\":{\"value\":false},\"responsive_web_birdwatch_country_allowed\":{\"value\":false},\"responsive_web_birdwatch_deleted_notes_enabled\":{\"value\":true},\"responsive_web_birdwatch_earn_in_enabled\":{\"value\":true},\"responsive_web_birdwatch_earn_out_enabled\":{\"value\":true},\"responsive_web_birdwatch_hcomp_user\":{\"value\":false},\"responsive_web_birdwatch_history_enabled\":{\"value\":false},\"responsive_web_birdwatch_impressions_enabled\":{\"value\":false},\"responsive_web_birdwatch_new_note_submission_modal_enabled\":{\"value\":true},\"responsive_web_birdwatch_note_awards_enabled\":{\"value\":true},\"responsive_web_birdwatch_note_writing_enabled\":{\"value\":false},\"responsive_web_birdwatch_pivots_enabled\":{\"value\":false},\"responsive_web_birdwatch_profile_awards_enabled\":{\"value\":true},\"responsive_web_birdwatch_rating_crowd_enabled\":{\"value\":false},\"responsive_web_birdwatch_rating_mini_survey_enabled\":{\"value\":false},\"responsive_web_birdwatch_rating_participant_enabled\":{\"value\":false},\"responsive_web_birdwatch_ratings_m2_tags_enabled\":{\"value\":true},\"responsive_web_birdwatch_ratings_v2_enabled\":{\"value\":true},\"responsive_web_birdwatch_site_enabled\":{\"value\":true},\"responsive_web_birdwatch_traffic_lights_enabled\":{\"value\":true},\"responsive_web_branch_cpid_enabled\":{\"value\":false},\"responsive_web_branch_sdk_enabled\":{\"value\":true},\"responsive_web_captions_always_display_enabled\":{\"value\":false},\"responsive_web_captions_always_display_settings_enabled\":{\"value\":false},\"responsive_web_card_conversion_hoisted\":{\"value\":\"off\"},\"responsive_web_card_preconnect_enabled\":{\"value\":false},\"responsive_web_card_preload_mode\":{\"value\":false},\"responsive_web_carousel_v2_cards_non_safari_enabled\":{\"value\":false},\"responsive_web_carousel_v2_cards_safari_variant\":{\"value\":\"control\"},\"responsive_web_carousel_v2_media_detail_enabled\":{\"value\":false},\"responsive_web_cleanup_macaw_swift_indexed_db\":{\"value\":true},\"responsive_web_collection_ads_enabled\":{\"value\":true},\"responsive_web_commerce_shop_spotlight_enabled\":{\"value\":false},\"responsive_web_communities_slices_enabled\":{\"value\":true},\"responsive_web_composer_configurable_video_player_enabled\":{\"value\":false},\"responsive_web_continue_as_always_enabled\":{\"value\":false},\"responsive_web_continue_as_param_enabled\":{\"value\":true},\"responsive_web_convert_card_video_to_gif_enabled\":{\"value\":false},\"responsive_web_cookie_compliance_1st_party_killswitch_list\":{\"value\":[]},\"responsive_web_cookie_compliance_banner_enabled\":{\"value\":true},\"responsive_web_cookie_compliance_gingersnap_enabled\":{\"value\":true},\"responsive_web_cookie_consent_signal_enabled\":{\"value\":true},\"responsive_web_cotweet_consumption_enabled\":{\"value\":true},\"responsive_web_csrf_clientside_enabled\":{\"value\":true},\"responsive_web_dance_cc_tools_enabled\":{\"value\":false},\"responsive_web_dance_cc_tools_include_development_enabled\":{\"value\":false},\"responsive_web_dcm_2_enabled\":{\"value\":true},\"responsive_web_deamplification_replies_dropdown_selector_enabled\":{\"value\":false},\"responsive_web_deamplification_transparent_cursors_enabled\":{\"value\":false},\"responsive_web_device_follow_without_user_follow_enabled\":{\"value\":false},\"responsive_web_disconnect_third_party_sso_enabled\":{\"value\":true},\"responsive_web_dockable_autoplay_policy_enabled\":{\"value\":true},\"responsive_web_drew_mute_and_block_enabled\":{\"value\":false},\"responsive_web_drew_profile_block_enabled\":{\"value\":false},\"responsive_web_drew_timeline_block_enabled\":{\"value\":false},\"responsive_web_dtime_fccts_enabled\":{\"value\":false},\"responsive_web_dtime_featured_timelines_modal_enabled\":{\"value\":true},\"responsive_web_dtime_show_new_tweets_enabled\":{\"value\":true},\"responsive_web_dtime_sparkle_menu_featured_timelines_enabled\":{\"value\":false},\"responsive_web_dtime_timelines_directory_enabled\":{\"value\":false},\"responsive_web_dtime_timelines_preview_enabled\":{\"value\":false},\"responsive_web_dtime_tpat_enabled\":{\"value\":true},\"responsive_web_dynamic_product_ads_enabled\":{\"value\":true},\"responsive_web_edit_tweet_api_enabled\":{\"value\":true},\"responsive_web_edit_tweet_composition_enabled\":{\"value\":true},\"responsive_web_edit_tweet_enabled\":{\"value\":false},\"responsive_web_edit_tweet_pdp_dialog_enabled\":{\"value\":true},\"responsive_web_edit_tweet_perspective_enabled\":{\"value\":false},\"responsive_web_edit_tweet_upsell_enabled\":{\"value\":true},\"responsive_web_element_size_impression_scribe_enabled\":{\"value\":true},\"responsive_web_enhance_cards_enabled\":{\"value\":true},\"responsive_web_eu_countries\":{\"value\":[\"at\",\"be\",\"bg\",\"ch\",\"cy\",\"cz\",\"de\",\"dk\",\"ee\",\"es\",\"fi\",\"fr\",\"gb\",\"gr\",\"hr\",\"hu\",\"ie\",\"is\",\"it\",\"li\",\"lt\",\"lu\",\"lv\",\"mt\",\"nl\",\"no\",\"pl\",\"pt\",\"ro\",\"se\",\"si\",\"sk\"]},\"responsive_web_explorer_ads_enabled\":{\"value\":true},\"responsive_web_extension_compatibility_hide\":{\"value\":false},\"responsive_web_extension_compatibility_impression_guard\":{\"value\":true},\"responsive_web_extension_compatibility_override_param\":{\"value\":false},\"responsive_web_extension_compatibility_scribe\":{\"value\":true},\"responsive_web_extension_compatibility_size_threshold\":{\"value\":50},\"responsive_web_fake_root_twitter_domain_for_testing\":{\"value\":false},\"responsive_web_feature_gating_enabled\":{\"value\":true},\"responsive_web_fetch_hashflags_on_boot\":{\"value\":true},\"responsive_web_footer_categorized_variant_enabled\":{\"value\":false},\"responsive_web_framerate_tracking_home_enabled\":{\"value\":false},\"responsive_web_gaggle_site_enabled\":{\"value\":false},\"responsive_web_graphql_conversations_enabled\":{\"value\":true},\"responsive_web_graphql_dark_reads_probability\":{\"value\":0},\"responsive_web_graphql_feedback\":{\"value\":true},\"responsive_web_graphql_home_enabled\":{\"value\":true},\"responsive_web_graphql_likes_timeline\":{\"value\":true},\"responsive_web_graphql_media_timeline\":{\"value\":true},\"responsive_web_graphql_timeline_navigation_enabled\":{\"value\":true},\"responsive_web_graphql_topic_timeline_enabled\":{\"value\":true},\"responsive_web_hashtag_highlight_is_enabled\":{\"value\":false},\"responsive_web_hashtag_highlight_show_avatar\":{\"value\":false},\"responsive_web_hashtag_highlight_use_small_font\":{\"value\":false},\"responsive_web_hevc_upload_preview_enabled\":{\"value\":false},\"responsive_web_home_new_tweets_pill_v2\":{\"value\":false},\"responsive_web_home_pinned_timelines_latest_enabled\":{\"value\":false},\"responsive_web_home_pinned_timelines_lists_enabled\":{\"value\":false},\"responsive_web_home_sticky_new_tweets_pill_delay_seconds\":{\"value\":1},\"responsive_web_home_sticky_new_tweets_pill_duration_seconds\":{\"value\":120},\"responsive_web_home_sticky_new_tweets_pill_enabled\":{\"value\":true},\"responsive_web_htl_empty_state_redesign_variant\":{\"value\":\"control\"},\"responsive_web_impression_pixel_enabled\":{\"value\":true},\"responsive_web_impression_tracker_refactor_enabled\":{\"value\":true},\"responsive_web_install_banner_show_immediate\":{\"value\":false},\"responsive_web_instream_video_redesign_enabled\":{\"value\":true},\"responsive_web_instream_video_store_keyed\":{\"value\":true},\"responsive_web_lbm_v2_home_enabled\":{\"value\":false},\"responsive_web_lbm_v2_replies_enabled\":{\"value\":false},\"responsive_web_left_nav_refresh_connect_enabled\":{\"value\":false},\"responsive_web_left_nav_refresh_topics_enabled\":{\"value\":false},\"responsive_web_like_by_author_enabled\":{\"value\":false},\"responsive_web_like_by_author_new_line\":{\"value\":false},\"responsive_web_list_tweet_integration_enabled\":{\"value\":false},\"responsive_web_live_commerce_enabled\":{\"value\":false},\"responsive_web_live_video_parity_periscope_auth_enabled\":{\"value\":false},\"responsive_web_lo_gating_prominent_sta_button_paths\":{\"value\":\"switch-to-app-footer\"},\"responsive_web_locale_context_direction_enabled\":{\"value\":false},\"responsive_web_location_spotlight_display_map\":{\"value\":true},\"responsive_web_location_spotlight_v1_config\":{\"value\":true},\"responsive_web_location_spotlight_v1_display\":{\"value\":true},\"responsive_web_logged_out_explore_enabled\":{\"value\":true},\"responsive_web_logged_out_explore_home_path_enabled\":{\"value\":true},\"responsive_web_logged_out_gating_13622_ddg\":{\"value\":\"\"},\"responsive_web_logged_out_gating_14788_ddg\":{\"value\":\"\"},\"responsive_web_logged_out_gating_14992_ddg\":{\"value\":\"\"},\"responsive_web_logged_out_gating_15377_ddg\":{\"value\":\"\"},\"responsive_web_logged_out_gating_non_holdback_ddgs\":{\"value\":\"\"},\"responsive_web_logged_out_notifications_enabled\":{\"value\":false},\"responsive_web_logged_out_notifications_including_home\":{\"value\":false},\"responsive_web_login_input_type_email_enabled\":{\"value\":false},\"responsive_web_login_signup_sheet_app_install_cta_enabled\":{\"value\":true},\"responsive_web_media_upload_limit_2g\":{\"value\":250},\"responsive_web_media_upload_limit_3g\":{\"value\":1500},\"responsive_web_media_upload_limit_slow_2g\":{\"value\":150},\"responsive_web_media_upload_md5_hashing_enabled\":{\"value\":true},\"responsive_web_media_upload_metrics_enabled\":{\"value\":true},\"responsive_web_media_upload_target_jpg_pixels_per_byte\":{\"value\":6},\"responsive_web_menu_section_divider_enabled\":{\"value\":false},\"responsive_web_misinfo_label_revamp_tweaks_enabled\":{\"value\":false},\"responsive_web_mixed_media_composition_enabled\":{\"value\":false},\"responsive_web_mixed_media_consumption_enabled\":{\"value\":true},\"responsive_web_mobile_app_spotlight_v1_config\":{\"value\":false},\"responsive_web_mobile_app_spotlight_v1_display\":{\"value\":false},\"responsive_web_moment_maker_annotations_enabled\":{\"value\":false},\"responsive_web_moment_maker_enabled\":{\"value\":true},\"responsive_web_moment_maker_promoted_tweets_enabled\":{\"value\":false},\"responsive_web_multiple_account_limit\":{\"value\":5},\"responsive_web_new_copy_security_key_2fa_enabled\":{\"value\":true},\"responsive_web_newsletters_callout_enabled\":{\"value\":true},\"responsive_web_newsletters_menu_enabled\":{\"value\":true},\"responsive_web_newsletters_profile_subscribe_enabled\":{\"value\":true},\"responsive_web_newsletters_subscribe_double_opt_in_removal_enabled\":{\"value\":true},\"responsive_web_nft_avatar\":{\"value\":true},\"responsive_web_nft_avatar_help_link\":{\"value\":\"https://help.twitter.com/en/using-twitter/twitter-blue-labs#nft\"},\"responsive_web_notifications_empty_state_redesign_variant\":{\"value\":\"control\"},\"responsive_web_notifications_overrides_desktop_enabled\":{\"value\":false},\"responsive_web_notifications_overrides_mobile_enabled\":{\"value\":false},\"responsive_web_ntab_verified_mentions_vit_internal_dogfood\":{\"value\":false},\"responsive_web_nux_web_to_app_drop_gate_enabled\":{\"value\":false},\"responsive_web_oauth2_consent_flow_enabled\":{\"value\":true},\"responsive_web_ocf_reportflow_appeals_enabled\":{\"value\":false},\"responsive_web_ocf_reportflow_dms_enabled\":{\"value\":false},\"responsive_web_ocf_reportflow_lists_enabled\":{\"value\":true},\"responsive_web_ocf_reportflow_profiles_enabled\":{\"value\":true},\"responsive_web_ocf_reportflow_spaces_enabled\":{\"value\":false},\"responsive_web_ocf_reportflow_suspension_appeals_enabled\":{\"value\":false},\"responsive_web_ocf_reportflow_testers\":{\"value\":false},\"responsive_web_ocf_reportflow_tweets_enabled\":{\"value\":true},\"responsive_web_ocf_sms_autoverify_darkwrite\":{\"value\":false},\"responsive_web_ocf_sms_autoverify_enabled\":{\"value\":false},\"responsive_web_offscreen_video_scroller_removal_enabled\":{\"value\":false},\"responsive_web_open_app_appbar_button_enabled\":{\"value\":true},\"responsive_web_open_in_app_prompt_enabled\":{\"value\":false},\"responsive_web_opengraph_image_tweet_copy_1\":{\"value\":true},\"responsive_web_opengraph_play_icon_overlay\":{\"value\":true},\"responsive_web_opengraph_video_tweet_copy_1\":{\"value\":true},\"responsive_web_original_tweet_nudge_enabled\":{\"value\":false},\"responsive_web_original_tweet_nudge_show_nudge\":{\"value\":false},\"responsive_web_original_tweet_nudge_supported_languages\":{\"value\":[\"en\"]},\"responsive_web_passwordless_sso_enabled\":{\"value\":false},\"responsive_web_pinned_replies_enabled\":{\"value\":false},\"responsive_web_placeholder_siwg_button_enabled\":{\"value\":true},\"responsive_web_prerolls_fullscreen_disabled_on_ios\":{\"value\":false},\"responsive_web_professional_journeys_holdback_enabled\":{\"value\":false},\"responsive_web_profile_spotlight_v0_config\":{\"value\":true},\"responsive_web_profile_spotlight_v0_display\":{\"value\":true},\"responsive_web_promoted_account_card_enabled\":{\"value\":true},\"responsive_web_promoted_badge_below_header\":{\"value\":false},\"responsive_web_promoted_badge_use_circle_icon\":{\"value\":false},\"responsive_web_qp_graphql_accounts_enabled\":{\"value\":true},\"responsive_web_qp_intro_experiment_enabled\":{\"value\":false},\"responsive_web_qp_payment_select_enabled\":{\"value\":true},\"responsive_web_reactions_api_test\":{\"value\":false},\"responsive_web_reactions_enabled\":{\"value\":false},\"responsive_web_reactions_fruit_basket_threshold\":{\"value\":20},\"responsive_web_reactions_legacy_heart\":{\"value\":true},\"responsive_web_reactions_nux_banner\":{\"value\":false},\"responsive_web_reader_extended_menu\":{\"value\":true},\"responsive_web_recent_searches_events_enabled\":{\"value\":true},\"responsive_web_recent_searches_topics_enabled\":{\"value\":true},\"responsive_web_recent_searches_users_enabled\":{\"value\":true},\"responsive_web_repeat_profile_visits_notifications_device_follow_only_version_enabled\":{\"value\":false},\"responsive_web_repeat_profile_visits_notifications_enabled\":{\"value\":false},\"responsive_web_reply_nudge_copy_version\":{\"value\":0},\"responsive_web_reply_nudge_enabled\":{\"value\":false},\"responsive_web_reply_nudge_show_nudge\":{\"value\":true},\"responsive_web_reply_nudge_supported_languages\":{\"value\":[\"en\"]},\"responsive_web_reply_nudge_testing_keyword\":{\"value\":false},\"responsive_web_reply_storm_enabled\":{\"value\":false},\"responsive_web_report_page_not_found\":{\"value\":false},\"responsive_web_scroller_autopoll_enabled\":{\"value\":false},\"responsive_web_scroller_top_positioning_enabled\":{\"value\":false},\"responsive_web_search_home_page_design_variation\":{\"value\":\"\"},\"responsive_web_send_cookies_metadata_enabled\":{\"value\":true},\"responsive_web_settings_timeline_polling_enabled\":{\"value\":false},\"responsive_web_settings_timeline_polling_interval_ms\":{\"value\":0},\"responsive_web_settings_timeline_refresh_background_interval\":{\"value\":0},\"responsive_web_share_action_order_desktop\":{\"value\":\"copy_link_first_bookmark_last\"},\"responsive_web_share_action_order_mobile\":{\"value\":\"default\"},\"responsive_web_share_only_tweet_url_omit_title_and_text\":{\"value\":true},\"responsive_web_sidebar_ttf_enabled\":{\"value\":false},\"responsive_web_spud_enabled\":{\"value\":true},\"responsive_web_sso_redirect_enabled\":{\"value\":true},\"responsive_web_ssr_footer_categorized_variant_enabled\":{\"value\":true},\"responsive_web_ssr_verified_crawler_rux_injections_enabled\":{\"value\":true},\"responsive_web_suppress_app_button_banner_suppressed\":{\"value\":false},\"responsive_web_text_conversations_enabled\":{\"value\":false},\"responsive_web_themed_scrollbars\":{\"value\":false},\"responsive_web_third_party_sso_buttons_enabled\":{\"value\":true},\"responsive_web_timeline_cover_killswitch_enabled\":{\"value\":false},\"responsive_web_timeline_refetching_on_revisit_enabled\":{\"value\":true},\"responsive_web_timeline_relay_lists_management_enabled\":{\"value\":false},\"responsive_web_timeline_relay_user_lists_enabled\":{\"value\":false},\"responsive_web_tracer_global_trace_sample_rate\":{\"value\":1},\"responsive_web_trends_setting_new_endpoints\":{\"value\":true},\"responsive_web_tweet_analytics_m2_enabled\":{\"value\":false},\"responsive_web_tweet_analytics_m3_enabled\":{\"value\":false},\"responsive_web_tweet_analytics_promoted_audience_demographics_enabled\":{\"value\":false},\"responsive_web_tweet_analytics_video_metrics_v2_enabled\":{\"value\":true},\"responsive_web_twitter_article_compose_enabled\":{\"value\":false},\"responsive_web_twitter_article_cover_aspect_ratio_5_2\":{\"value\":true},\"responsive_web_twitter_article_data_v2_enabled\":{\"value\":false},\"responsive_web_twitter_article_geo_gated\":{\"value\":false},\"responsive_web_twitter_article_max_times_show_tweet_banner\":{\"value\":3},\"responsive_web_twitter_article_tweet_other_notes_enabled\":{\"value\":true},\"responsive_web_twitter_article_tweet_own_notes_enabled\":{\"value\":false},\"responsive_web_twitter_article_view_enabled\":{\"value\":true},\"responsive_web_twitter_blue_growth_primary_nav_enabled\":{\"value\":false},\"responsive_web_twitter_blue_home_redesign_enabled\":{\"value\":true},\"responsive_web_twitter_blue_signup_nux_enabled\":{\"value\":true},\"responsive_web_twitter_blue_subscriptions_disabled\":{\"value\":true},\"responsive_web_twitter_blue_verified_badge_is_enabled\":{\"value\":false},\"responsive_web_twitter_blue_verified_badge_ntab_empty_state_enabled\":{\"value\":false},\"responsive_web_twitter_blue_verified_badge_ntab_verified_tab_index\":{\"value\":0},\"responsive_web_twitter_blue_verified_badge_settings_blue_verified_features_enabled\":{\"value\":false},\"responsive_web_typeahead_reverse_bolding_enabled\":{\"value\":true},\"responsive_web_uc_gql_enabled\":{\"value\":true},\"responsive_web_unsupported_entry_tombstone\":{\"value\":false},\"responsive_web_use_app_button_variations\":{\"value\":\"treatment_1\"},\"responsive_web_use_app_prompt_copy_variant\":{\"value\":\"prompt_better\"},\"responsive_web_use_app_prompt_enabled\":{\"value\":true},\"responsive_web_use_badge_counts_for_ntab\":{\"value\":false},\"responsive_web_vdl_dash_redesign_enabled\":{\"value\":true},\"responsive_web_video_pcomplete_enabled\":{\"value\":true},\"responsive_web_video_promoted_logging_enabled\":{\"value\":true},\"responsive_web_video_trimmer_enabled\":{\"value\":false},\"responsive_web_vod_muted_captions_enabled\":{\"value\":true},\"responsive_web_vs_config_resize_observer_enabled\":{\"value\":true},\"responsive_web_zipkin_api_requests_enabled\":{\"value\":false},\"responsive_web_zipkin_api_requests_paths_allowlist\":{\"value\":[\"/2/timeline/home.json\"]},\"rito_safety_mode_blocked_profile_enabled\":{\"value\":true},\"rito_safety_mode_features_enabled\":{\"value\":false},\"rito_safety_mode_modal_prompt_enabled\":{\"value\":false},\"rito_safety_mode_settings_enabled\":{\"value\":false},\"rweb_home_perf_client_prefetch_mode\":{\"value\":\"all\"},\"rweb_home_perf_client_prefetch_timeout_ms\":{\"value\":0},\"rweb_reply_downvote_before_like\":{\"value\":false},\"rweb_reply_downvote_enabled\":{\"value\":false},\"rweb_reply_downvote_inline_days\":{\"value\":1},\"rweb_reply_downvote_inline_education\":{\"value\":60},\"rweb_reply_downvote_inline_survey\":{\"value\":0},\"rweb_reply_downvote_nux_inline_days\":{\"value\":7},\"rweb_update_fatigue_switch_to_app_day_timeout\":{\"value\":7},\"rweb_update_fatigue_switch_to_app_link\":{\"value\":\"BannerSwitchToApp\"},\"rweb_video_tagging_enabled\":{\"value\":false},\"sc_mock_data_enabled\":{\"value\":false},\"sc_r4_enabled\":{\"value\":false},\"scribe_api_error_sample_size\":{\"value\":0},\"scribe_api_sample_size\":{\"value\":100},\"scribe_cdn_host_list\":{\"value\":[\"si0.twimg.com\",\"si1.twimg.com\",\"si2.twimg.com\",\"si3.twimg.com\",\"a0.twimg.com\",\"a1.twimg.com\",\"a2.twimg.com\",\"a3.twimg.com\",\"abs.twimg.com\",\"amp.twimg.com\",\"o.twimg.com\",\"pbs.twimg.com\",\"pbs-eb.twimg.com\",\"pbs-ec.twimg.com\",\"pbs-v6.twimg.com\",\"pbs-h1.twimg.com\",\"pbs-h2.twimg.com\",\"video.twimg.com\",\"platform.twitter.com\",\"cdn.api.twitter.com\",\"ton.twimg.com\",\"v.cdn.vine.co\",\"mtc.cdn.vine.co\",\"edge.vncdn.co\",\"mid.vncdn.co\"]},\"scribe_cdn_sample_size\":{\"value\":50},\"scribe_web_nav_sample_size\":{\"value\":100},\"sensitive_media_settings_enabled\":{\"value\":false},\"sensitive_tweet_warnings_enabled\":{\"value\":true},\"settings_revamp_search_bar_enabled\":{\"value\":false},\"share_animation_after_like_enabled\":{\"value\":false},\"share_h1_2023_trigger\":{\"value\":\"\"},\"shortened_tracking_parameters_mapping\":{\"value\":[\"01:twcamp^share|twsrc^android|twgr^sms\",\"02:twcamp^share|twsrc^android|twgr^email\",\"03:twcamp^share|twsrc^android|twgr^gmail\",\"04:twcamp^share|twsrc^android|twgr^facebook\",\"05:twcamp^share|twsrc^android|twgr^wechat\",\"06:twcamp^share|twsrc^android|twgr^line\",\"07:twcamp^share|twsrc^android|twgr^fbmessenger\",\"08:twcamp^share|twsrc^android|twgr^whatsapp\",\"09:twcamp^share|twsrc^android|twgr^other\",\"10:twcamp^share|twsrc^ios|twgr^sms\",\"11:twcamp^share|twsrc^ios|twgr^email\",\"12:twcamp^share|twsrc^ios|twgr^other\",\"13:twcamp^share|twsrc^android|twgr^download\",\"14:twcamp^share|twsrc^ios|twgr^download\",\"15:twcamp^share|twsrc^android|twgr^hangouts\",\"16:twcamp^share|twsrc^android|twgr^twitterdm\",\"17:twcamp^share|twsrc^m5|twgr^email\",\"18:twcamp^share|twsrc^m5|twgr^download\",\"19:twcamp^share|twsrc^android|twgr^copy\",\"20:twcamp^share|twsrc^m5|twgr^copy\",\"21:twcamp^share|twsrc^ios|twgr^copy\",\"22:twcamp^share|twsrc^ios|twgr^snapchat\",\"23:twcamp^share|twsrc^android|twgr^snapchat\",\"24:twcamp^share|twsrc^ios|twgr^whatsapp\",\"25:twcamp^share|twsrc^ios|twgr^fbmessenger\",\"26:twcamp^share|twsrc^ios|twgr^facebook\",\"27:twcamp^share|twsrc^ios|twgr^gmail\",\"28:twcamp^share|twsrc^ios|twgr^telegram\",\"29:twcamp^share|twsrc^ios|twgr^line\",\"30:twcamp^share|twsrc^ios|twgr^viber\",\"31:twcamp^share|twsrc^android|twgr^slack\",\"32:twcamp^share|twsrc^android|twgr^kakao\",\"33:twcamp^share|twsrc^android|twgr^discord\",\"34:twcamp^share|twsrc^android|twgr^reddit\",\"35:twcamp^share|twsrc^android|twgr^telegram\",\"36:twcamp^share|twsrc^android|twgr^instagram\",\"37:twcamp^share|twsrc^android|twgr^daum\",\"38:twcamp^share|twsrc^ios|twgr^instagram\",\"39:twcamp^share|twsrc^ios|twgr^linkedin\",\"40:twcamp^share|twsrc^android|twgr^linkedin\",\"41:twcamp^share|twsrc^gryphon|twgr^copy\",\"42:twcamp^share|twsrc^iphone|twgr^sms\",\"43:twcamp^share|twsrc^iphone|twgr^email\",\"44:twcamp^share|twsrc^iphone|twgr^other\",\"45:twcamp^share|twsrc^iphone|twgr^download\",\"46:twcamp^share|twsrc^iphone|twgr^copy\",\"47:twcamp^share|twsrc^iphone|twgr^snapchat\",\"48:twcamp^share|twsrc^iphone|twgr^whatsapp\",\"49:twcamp^share|twsrc^iphone|twgr^fbmessenger\",\"50:twcamp^share|twsrc^iphone|twgr^facebook\",\"51:twcamp^share|twsrc^iphone|twgr^gmail\",\"52:twcamp^share|twsrc^iphone|twgr^telegram\",\"53:twcamp^share|twsrc^iphone|twgr^line\",\"54:twcamp^share|twsrc^iphone|twgr^viber\",\"55:twcamp^share|twsrc^iphone|twgr^instagram\",\"56:twcamp^share|twsrc^iphone|twgr^linkedin\",\"57:twcamp^share|twsrc^ipad|twgr^sms\",\"58:twcamp^share|twsrc^ipad|twgr^email\",\"59:twcamp^share|twsrc^ipad|twgr^other\",\"60:twcamp^share|twsrc^ipad|twgr^download\",\"61:twcamp^share|twsrc^ipad|twgr^copy\",\"62:twcamp^share|twsrc^ipad|twgr^snapchat\",\"63:twcamp^share|twsrc^ipad|twgr^whatsapp\",\"64:twcamp^share|twsrc^ipad|twgr^fbmessenger\",\"65:twcamp^share|twsrc^ipad|twgr^facebook\",\"66:twcamp^share|twsrc^ipad|twgr^gmail\",\"67:twcamp^share|twsrc^ipad|twgr^telegram\",\"68:twcamp^share|twsrc^ipad|twgr^line\",\"69:twcamp^share|twsrc^ipad|twgr^viber\",\"70:twcamp^share|twsrc^ipad|twgr^instagram\",\"71:twcamp^share|twsrc^ipad|twgr^linkedin\"]},\"smbo_legacy_pac_is_in_follow_position_test\":{\"value\":false},\"social_context_and_topic_context_refresh_alignment_enabled\":{\"value\":false},\"spaces_2022_h2_clipping\":{\"value\":true},\"spaces_2022_h2_clipping_consumption\":{\"value\":true},\"spaces_2022_h2_clipping_duration_seconds\":{\"value\":30},\"spaces_2022_h2_follow_host\":{\"value\":true},\"spaces_2022_h2_reactions_web_send\":{\"value\":false},\"spaces_2022_h2_spacebar\":{\"value\":false},\"spaces_2022_h2_spacebar_use_mock_data\":{\"value\":false},\"spaces_2022_h2_spacebar_web_sidebar\":{\"value\":false},\"spaces_2022_h2_spacebar_web_topnavbar\":{\"value\":\"disabled\"},\"spaces_2022_h2_spacebar_web_use_topnavbar\":{\"value\":true},\"spaces_2022_h2_spaces_communities\":{\"value\":true},\"standardized_nudges_misinfo\":{\"value\":true},\"standardized_nudges_toxicity\":{\"value\":false},\"stateful_login_enabled\":{\"value\":true},\"subscriptions_blue_premium_labeling_enabled\":{\"value\":true},\"subscriptions_enabled\":{\"value\":true},\"subscriptions_feature_1002\":{\"value\":true},\"subscriptions_feature_1003\":{\"value\":true},\"subscriptions_feature_1005\":{\"value\":true},\"subscriptions_feature_1006\":{\"value\":false},\"subscriptions_feature_1007\":{\"value\":true},\"subscriptions_feature_1009\":{\"value\":true},\"subscriptions_feature_1011\":{\"value\":true},\"subscriptions_feature_labs_1001\":{\"value\":true},\"subscriptions_feature_labs_1004\":{\"value\":true},\"subscriptions_long_video_rweb_new_copy_enabled\":{\"value\":true},\"subscriptions_long_video_upload\":{\"value\":true},\"subscriptions_management_enabled\":{\"value\":true},\"subscriptions_marketing_page_refresh_enabled\":{\"value\":true},\"subscriptions_settings_item_enabled\":{\"value\":true},\"subscriptions_sign_up_enabled\":{\"value\":false},\"subscriptions_stripe_testing\":{\"value\":false},\"subscriptions_tab_customization_on_android_enabled\":{\"value\":true},\"subscriptions_top_articles_on_ios_enabled\":{\"value\":true},\"subscriptions_twitter_blue_logo_enabled\":{\"value\":true},\"super_follow_android_web_subscription_enabled\":{\"value\":false},\"super_follow_exclusive_tweet_creation_api_enabled\":{\"value\":true},\"super_follow_tweet_api_enabled\":{\"value\":true},\"super_follow_user_api_enabled\":{\"value\":true},\"super_follow_web_application_enabled\":{\"value\":false},\"super_follow_web_deactivate_enabled\":{\"value\":true},\"super_follow_web_debug_enabled\":{\"value\":false},\"super_follow_web_edit_perks_enabled\":{\"value\":true},\"super_follow_web_onboarding_enabled\":{\"value\":true},\"super_follow_web_rename_enabled\":{\"value\":false},\"targeted_project_friday_enabled\":{\"value\":false},\"topic_landing_page_clearer_controls_enabled\":{\"value\":true},\"topic_landing_page_cta_text\":{\"value\":\"control\"},\"topic_landing_page_share_enabled\":{\"value\":true},\"topics_context_controls_followed_variation\":{\"value\":\"see_more\"},\"topics_context_controls_implicit_context_x_enabled\":{\"value\":true},\"topics_context_controls_implicit_variation\":{\"value\":\"see_more\"},\"topics_context_controls_inline_prompt_enabled\":{\"value\":false},\"topics_discovery_page_enabled\":{\"value\":false},\"toxic_reply_filter_inline_callout_enabled\":{\"value\":false},\"toxic_reply_filter_settings_enabled\":{\"value\":false},\"traffic_rewrite_map\":{\"value\":[]},\"trusted_friends_audience_control_exp_variant\":{\"value\":\"control\"},\"trusted_friends_consumption_enabled\":{\"value\":true},\"trusted_friends_dash_discovery_enabled\":{\"value\":true},\"trusted_friends_tweet_creation_enabled\":{\"value\":true},\"tweet_limited_actions_config_community_tweet_community_deleted\":{\"value\":[\"add_to_bookmarks\",\"add_to_moment\",\"embed\",\"follow\",\"hide_community_tweet\",\"like\",\"lists_add_remove\",\"mute_conversation\",\"pin_to_profile\",\"quote_tweet\",\"react\",\"remove_from_community\",\"reply\",\"retweet\",\"send_via_dm\",\"share_tweet_via\",\"view_hidden_replies\",\"view_tweet_activity\",\"vote_on_poll\"]},\"tweet_limited_actions_config_community_tweet_community_not_found\":{\"value\":[\"add_to_bookmarks\",\"add_to_moment\",\"embed\",\"follow\",\"hide_community_tweet\",\"like\",\"lists_add_remove\",\"mute_conversation\",\"pin_to_profile\",\"quote_tweet\",\"react\",\"remove_from_community\",\"reply\",\"retweet\",\"send_via_dm\",\"share_tweet_via\",\"view_hidden_replies\",\"view_tweet_activity\",\"vote_on_poll\"]},\"tweet_limited_actions_config_community_tweet_community_suspended\":{\"value\":[\"add_to_bookmarks\",\"add_to_moment\",\"embed\",\"follow\",\"hide_community_tweet\",\"like\",\"lists_add_remove\",\"mute_conversation\",\"pin_to_profile\",\"quote_tweet\",\"react\",\"remove_from_community\",\"reply\",\"retweet\",\"send_via_dm\",\"share_tweet_via\",\"view_hidden_replies\",\"view_tweet_activity\",\"vote_on_poll\"]},\"tweet_limited_actions_config_community_tweet_hidden\":{\"value\":[\"add_to_bookmarks\",\"add_to_moment\",\"embed\",\"follow\",\"hide_community_tweet\",\"like\",\"lists_add_remove\",\"mute_conversation\",\"pin_to_profile\",\"quote_tweet\",\"react\",\"reply\",\"retweet\",\"send_via_dm\",\"share_tweet_via\",\"view_hidden_replies\",\"view_tweet_activity\",\"vote_on_poll\"]},\"tweet_limited_actions_config_community_tweet_member\":{\"value\":[\"embed\",\"pin_to_profile\",\"retweet\"]},\"tweet_limited_actions_config_community_tweet_member_removed\":{\"value\":[\"add_to_bookmarks\",\"add_to_moment\",\"embed\",\"follow\",\"hide_community_tweet\",\"like\",\"lists_add_remove\",\"mute_conversation\",\"pin_to_profile\",\"quote_tweet\",\"react\",\"remove_from_community\",\"reply\",\"retweet\",\"send_via_dm\",\"share_tweet_via\",\"view_hidden_replies\",\"view_tweet_activity\",\"vote_on_poll\"]},\"tweet_limited_actions_config_community_tweet_non_member\":{\"value\":[\"embed\",\"like\",\"pin_to_profile\",\"react\",\"reply\",\"reply_down_vote\",\"retweet\",\"share_tweet_via\",\"vote_on_poll\"]},\"tweet_limited_actions_config_disable_state_media_autoplay\":{\"value\":[\"autoplay\"]},\"tweet_limited_actions_config_dpa_enabled\":{\"value\":true},\"tweet_limited_actions_config_dynamic_product_ad\":{\"value\":[\"reply\",\"retweet\",\"quote_tweet\",\"share_tweet_via\",\"send_via_dm\",\"copy_link\",\"add_to_bookmarks\",\"like\"]},\"tweet_limited_actions_config_enabled\":{\"value\":true},\"tweet_limited_actions_config_limit_trusted_friends_tweet\":{\"value\":[\"retweet\",\"quote_tweet\",\"share_tweet_via\",\"send_via_dm\",\"copy_link\",\"view_tweet_activity\",\"embed\",\"add_to_moment\"]},\"tweet_limited_actions_config_non_compliant\":{\"value\":[\"reply\",\"retweet\",\"like\",\"react\",\"send_via_dm\",\"add_to_bookmarks\",\"add_to_moment\",\"pin_to_profile\",\"view_tweet_activity\",\"share_tweet_via\",\"copy_link\"]},\"tweet_limited_actions_config_skip_tweet_detail\":{\"value\":[\"reply\"]},\"tweet_limited_actions_config_skip_tweet_detail_enabled\":{\"value\":true},\"tweet_limited_actions_config_soft_nudge_with_quote_tweet\":{\"value\":[\"show_retweet_action_menu\"]},\"tweet_with_visibility_results_prefer_gql_limited_actions_policy_enabled\":{\"value\":false},\"tweetypie_unmention_optimization_enabled\":{\"value\":true},\"twitter_chat_communities_chat_enabled\":{\"value\":false},\"twitter_delegate_enabled\":{\"value\":false},\"ucpd_enabled\":{\"value\":true},\"unified_cards_ad_metadata_container_dynamic_card_content_query_enabled\":{\"value\":true},\"unified_cards_collection_ads_convert_to_image_website_card\":{\"value\":false},\"unified_cards_dpa_cta_button_enabled\":{\"value\":true},\"unified_cards_dpa_metadata_enabled\":{\"value\":true},\"unified_cards_dpa_placeholder_media_key\":{\"value\":[\"3_1485707239990054912\"]},\"unified_cards_follow_card_consumption_enabled\":{\"value\":true},\"user_display_name_max_limit\":{\"value\":50},\"verified_phone_label_enabled\":{\"value\":false},\"vibe_api_enabled\":{\"value\":true},\"vibe_tweet_context_enabled\":{\"value\":true},\"vod_attribution_tweet_detail_pivot_enabled\":{\"value\":true},\"voice_consumption_enabled\":{\"value\":true},\"voice_rooms_card_version\":{\"value\":2},\"voice_rooms_discovery_page_enabled\":{\"value\":false},\"voice_rooms_end_screen_participants\":{\"value\":true},\"voice_rooms_expanded_dock\":{\"value\":true},\"voice_rooms_expanded_dock_reactions\":{\"value\":true},\"voice_rooms_host_analytics_enabled\":{\"value\":true},\"voice_rooms_recent_search_audiospace_ring_enabled\":{\"value\":true},\"voice_rooms_replay_consumption\":{\"value\":true},\"voice_rooms_search_results_page_audiospace_ring_enabled\":{\"value\":false},\"voice_rooms_sharing_listening_data_with_followers_setting_enabled\":{\"value\":true},\"voice_rooms_speaking_enabled\":{\"value\":false},\"voice_rooms_typeahead_audiospace_ring_enabled\":{\"value\":true},\"web_video_bitrate_persistence_enabled\":{\"value\":false},\"web_video_caption_repositioning_enabled\":{\"value\":true},\"web_video_hls_android_mse_enabled\":{\"value\":true},\"web_video_hls_mp4_threshold_sec\":{\"value\":0},\"web_video_hls_variant_version\":{\"value\":\"1\"},\"web_video_hlsjs_version\":{\"value\":\"\"},\"web_video_playback_rate_enabled\":{\"value\":false},\"web_video_player_size_cap_disabled\":{\"value\":false},\"web_video_prefetch_playlist_autoplay_disabled\":{\"value\":false},\"web_video_transcribed_captions_enabled\":{\"value\":false}},\"impression_pointers\":{\"machine_translation_holdback_logged_out\":[\"machine_translation_for_logged_out_users_holdback_15725\"]},\"impressions\":{\"machine_translation_for_logged_out_users_holdback_15725\":{\"key\":\"machine_translation_for_logged_out_users_holdback_15725\",\"bucket\":\"holdback\",\"version\":1}},\"keysRead\":{},\"settingsVersion\":\"f057b5b2d0bedacaab894b53efd271b4\",\"behavioralEventAllowlist\":{\"children\":{\"messages\":{\"children\":{\"message\":{\"children\":{\"card\":{\"children\":{\"community_card\":{\"children\":{\"click\":{\"isTerminal\":1},\"impress\":{\"isTerminal\":1}},\"isTerminal\":0}},\"isTerminal\":0}},\"isTerminal\":0}},\"isTerminal\":0},\"community\":{\"children\":{\"impress\":{\"isTerminal\":1},\"**\":{\"children\":{\"impress\":{\"isTerminal\":1},\"click\":{\"isTerminal\":1}},\"isTerminal\":0}},\"isTerminal\":0},\"home\":{\"children\":{\"timeline\":{\"children\":{\"tweet\":{\"children\":{\"*\":{\"children\":{\"click\":{\"isTerminal\":1}},\"isTerminal\":0},\"avatar\":{\"children\":{\"click\":{\"isTerminal\":1}},\"isTerminal\":0},\"image\":{\"children\":{\"click\":{\"isTerminal\":1}},\"isTerminal\":0},\"click\":{\"isTerminal\":1},\"menu_control\":{\"children\":{\"*\":{\"children\":{\"click\":{\"isTerminal\":1}},\"isTerminal\":0}},\"isTerminal\":0},\"quote_tweet\":{\"children\":{\"image\":{\"children\":{\"click\":{\"isTerminal\":1}},\"isTerminal\":0}},\"isTerminal\":0},\"user\":{\"children\":{\"click\":{\"isTerminal\":1}},\"isTerminal\":0}},\"isTerminal\":0}},\"isTerminal\":0}},\"isTerminal\":0},\"profile\":{\"children\":{\"tweets_replies\":{\"children\":{\"impress\":{\"isTerminal\":1}},\"isTerminal\":0},\"impress\":{\"isTerminal\":1},\"*\":{\"children\":{\"click\":{\"isTerminal\":1},\"timeline\":{\"children\":{\"**\":{\"children\":{\"click\":{\"isTerminal\":1}},\"isTerminal\":0}},\"isTerminal\":0}},\"isTerminal\":0},\"likes\":{\"children\":{\"impress\":{\"isTerminal\":1}},\"isTerminal\":0},\"menu_control\":{\"children\":{\"*\":{\"children\":{\"click\":{\"isTerminal\":1}},\"isTerminal\":0}},\"isTerminal\":0},\"media\":{\"children\":{\"impress\":{\"isTerminal\":1}},\"isTerminal\":0},\"tweets\":{\"children\":{\"impress\":{\"isTerminal\":1}},\"isTerminal\":0}},\"isTerminal\":0},\"push_notification\":{\"children\":{\"background\":{\"children\":{\"dismiss\":{\"children\":{\"click\":{\"isTerminal\":1}},\"isTerminal\":0},\"click\":{\"isTerminal\":1},\"impress\":{\"isTerminal\":1}},\"isTerminal\":0}},\"isTerminal\":0},\"communities\":{\"children\":{\"**\":{\"children\":{\"click\":{\"isTerminal\":1},\"impress\":{\"isTerminal\":1}},\"isTerminal\":0},\"impress\":{\"isTerminal\":1}},\"isTerminal\":0},\"tweet_details\":{\"children\":{\"timeline\":{\"children\":{\"tweet\":{\"children\":{\"menu_control\":{\"children\":{\"*\":{\"children\":{\"click\":{\"isTerminal\":1}},\"isTerminal\":0}},\"isTerminal\":0},\"*\":{\"children\":{\"click\":{\"isTerminal\":1}},\"isTerminal\":0}},\"isTerminal\":0},\"focal_tweet\":{\"children\":{\"*\":{\"children\":{\"click\":{\"isTerminal\":1}},\"isTerminal\":0},\"menu_control\":{\"children\":{\"*\":{\"children\":{\"click\":{\"isTerminal\":1}},\"isTerminal\":0}},\"isTerminal\":0}},\"isTerminal\":0}},\"isTerminal\":0},\"impress\":{\"isTerminal\":1}},\"isTerminal\":0},\"fullscreen_image\":{\"children\":{\"impress\":{\"isTerminal\":1}},\"isTerminal\":0}}}}},\"typeaheadUsers\":{\"fetchStatus\":\"none\",\"users\":{},\"denylist\":{},\"lastUpdated\":0,\"index\":{}},\"altTextPromptPreference\":{\"fetchStatus\":\"none\",\"updateStatus\":\"none\"},\"settings\":{\"local\":{\"nextPushCheckin\":0,\"shouldAutoPlayGif\":false,\"scale\":\"normal\",\"themeColor\":\"blue500\",\"highContrastEnabled\":false,\"themeBackground\":\"light\",\"loginPromptLastShown\":0,\"reducedMotionEnabled\":false,\"showTweetMediaDetailDrawer\":true,\"autoPollNewTweets\":false,\"shouldAutoTagLocation\":false,\"undoPreview\":{},\"replyVotingSurveyClicked\":0,\"pushNotificationsPermission\":null},\"remote\":{\"settings\":{\"display_sensitive_media\":false},\"fetchStatus\":\"none\"},\"dataSaver\":{\"dataSaverMode\":false},\"transient\":{\"dtabBarInfo\":{\"hide\":false},\"loginPromptShown\":false,\"lastViewedDmInboxPath\":\"/messages\",\"themeFocus\":\"\"}},\"devices\":{\"browserPush\":{\"fetchStatus\":\"none\",\"pushNotificationsPrompt\":{\"dismissed\":false,\"fetchStatus\":\"none\"},\"subscribed\":false,\"supported\":null},\"devices\":{\"data\":{\"emails\":[],\"phone_numbers\":[]},\"fetchStatus\":\"none\"},\"notificationSettings\":{\"push_settings\":{\"error\":null,\"fetchStatus\":\"none\"},\"push_settings_template\":{\"template\":{\"settings\":[]}},\"checkin_time\":null}},\"toasts\":[],\"educationFlags\":{},\"userClaim\":{\"config\":{\"subscriptions\":{},\"features\":{}},\"debug\":{},\"fetchStatus\":\"none\"},\"subscriptionProductFeatures\":{\"data\":{},\"fetchStatus\":\"none\"},\"session\":{\"country\":\"ES\",\"isActiveCreator\":false,\"isRestrictedSession\":false,\"guestId\":\"166792652466007452\",\"hasCommunityMemberships\":false,\"language\":\"en\",\"oneFactorLoginEligibility\":{\"fetchStatus\":\"none\"},\"ssoInitTokens\":{}},\"conversationFollowNudge\":{\"conversationIdMap\":{}},\"urt\":{},\"visibilityResults\":{\"tweets\":{}},\"navigation\":{},\"mediaUpload\":[],\"directMessages\":{\"conversations\":{},\"entries\":{\"entries\":{},\"entryIdsByConversationId\":{},\"reactionsByMessageId\":{}},\"inbox\":{\"cursors\":{\"inbox\":{\"fetchStatus\":\"none\"},\"trusted\":{\"fetchStatus\":\"none\"},\"untrusted\":{\"fetchStatus\":\"none\"},\"untrusted_low_quality\":{\"fetchStatus\":\"none\"}},\"lastSeenEventIds\":{},\"poppedOutConversationId\":null,\"drawerVisibility\":\"collapsed\"},\"search\":{\"searchResults\":{},\"recentSearches\":[]},\"updates\":{\"isLoaded\":false,\"isLoading\":false}},\"homeTimeline\":{\"fetchStatus\":\"none\",\"selectedTimeline\":{\"type\":\"home\"},\"useLatest\":false},\"audio\":{\"conversationLookup\":{}},\"multiAccount\":{\"fetchStatus\":\"none\",\"users\":[],\"badgeCounts\":{},\"addAccountFetchStatus\":\"none\"},\"hashflags\":{\"fetchStatus\":\"none\",\"hashflags\":{\"brandedHashtags\":{},\"brandedLikes\":{}}},\"teams\":{\"fetchStatus\":\"none\",\"teams\":{}},\"ssrExperiments\":{}};window.__META_DATA__={\"env\":\"prod\",\"isCanary\":false,\"sha\":\"4585fe34019037b718d60f6c3893ee1f4b9c0bb6\",\"isLoggedIn\":false,\"hasMultiAccountCookie\":false,\"uaParserTags\":[\"m2\",\"rweb_unsupported\",\"msw\"],\"serverDate\":1667926524716,\"cookies\":{\"version\":\"1661819456366\",\"fetchedTime\":1661971138705,\"categories\":{\"2\":[\"Authorization\",\"DECLINED_DATE\",\"LAST_INVITATION_VIEW\",\"NEW_SUBSCRIPTION_ACCOUNT\",\"SUBMITTED_DATE\",\"_ep_sess\",\"_mb_tk\",\"_sl\",\"_support_session\",\"_ttc_session\",\"_twitter_sess\",\"aa_u\",\"ab_decider\",\"ads_prefs\",\"aem-lang-preference\",\"app_shell_visited\",\"att\",\"auth_multi\",\"auth_token\",\"backendDataInSessionFlag\",\"bouncer_reset_cookie\",\"cd_user_id\",\"client_token\",\"cms-csp-nonce\",\"co\",\"connect.sid\",\"cookies_enabled\",\"csrf_id\",\"csrf_same_site\",\"csrf_same_site_set\",\"csrftoken\",\"ct0\",\"d_prefs\",\"daa\",\"dnt\",\"dtab_local\",\"email_read_only\",\"email_uid\",\"eu_cn\",\"fm\",\"form-lead-gen\",\"gscr\",\"gt\",\"guest_id\",\"kampyleInvitePresented\",\"kampyleSessionPageCounter\",\"kampyleUserPercentile\",\"kampyleUserSessionCount\",\"kampyleUserSessionsCount\",\"kampyle_userid\",\"kdt\",\"lang\",\"lang-preference\",\"language\",\"lastOwnerId\",\"lscr\",\"lv-ctx-\",\"lv-ctx-zzz*\",\"lv-uid\",\"m_session\",\"mdLogger\",\"md_isSurveySubmittedInSession\",\"messages\",\"mobile_ads_stat_type\",\"mobile_ads_time_interval\",\"momentmaker.tos.accepted*\",\"muc\",\"night_mode\",\"request_method\",\"scroll0\",\"scroll1\",\"sessionid\",\"shopify_app_session\",\"shopify_app_session.sig\",\"signup_ui_metrics\",\"ssa-calendar-signup\",\"studio_account\",\"timezone\",\"tooltip\",\"tweetdeck_version\",\"twid\",\"ui_metrics\",\"user_id\",\"zipbox_auth_token\",\"zipbox_forms_auth_token\"]}}};</script><script id=\"nonce-csp\" nonce=\"Yzg0ZGZmMWQtOGI1Ni00ZTYxLWI0YjItNTZkYzhmNzA1ZWJk\"></script><script charset=\"utf-8\" nonce=\"Yzg0ZGZmMWQtOGI1Ni00ZTYxLWI0YjItNTZkYzhmNzA1ZWJk\" type=\"text/javascript\">window.__SCRIPTS_LOADED__ = {};(()=>{\"use strict\";var e,d,n,a,o,r={},i={};function l(e){var d=i[e];if(void 0!==d)return d.exports;var n=i[e]={id:e,loaded:!1,exports:{}};return r[e].call(n.exports,n,n.exports,l),n.loaded=!0,n.exports}l.m=r,l.amdO={},e=[],l.O=(d,n,a,o)=>{if(!n){var r=1/0;for(u=0;u<e.length;u++){for(var[n,a,o]=e[u],i=!0,t=0;t<n.length;t++)(!1&o||r>=o)&&Object.keys(l.O).every((e=>l.O[e](n[t])))?n.splice(t--,1):(i=!1,o<r&&(r=o));if(i){e.splice(u--,1);var s=a();void 0!==s&&(d=s)}}return d}o=o||0;for(var u=e.length;u>0&&e[u-1][2]>o;u--)e[u]=e[u-1];e[u]=[n,a,o]},l.n=e=>{var d=e&&e.__esModule?()=>e.default:()=>e;return l.d(d,{a:d}),d},n=Object.getPrototypeOf?e=>Object.getPrototypeOf(e):e=>e.__proto__,l.t=function(e,a){if(1&a&&(e=this(e)),8&a)return e;if(\"object\"==typeof e&&e){if(4&a&&e.__esModule)return e;if(16&a&&\"function\"==typeof e.then)return e}var o=Object.create(null);l.r(o);var r={};d=d||[null,n({}),n([]),n(n)];for(var i=2&a&&e;\"object\"==typeof i&&!~d.indexOf(i);i=n(i))Object.getOwnPropertyNames(i).forEach((d=>r[d]=()=>e[d]));return r.default=()=>e,l.d(o,r),o},l.d=(e,d)=>{for(var n in d)l.o(d,n)&&!l.o(e,n)&&Object.defineProperty(e,n,{enumerable:!0,get:d[n]})},l.f={},l.e=e=>Promise.all(Object.keys(l.f).reduce(((d,n)=>(l.f[n](e,d),d)),[])),l.u=e=>e+\".\"+{\"bundle.NetworkInstrument\":\"eb00293\",\"loader.HoverCard\":\"c099655\",\"ondemand.Dropdown\":\"96393b3\",\"ondemand.ModelViewer\":\"556f9f5\",\"loader.graphQLDarkReads\":\"9109b11\",\"shared~bundle.Conversation\":\"1954e3f\",\"shared~loader.AudioDock~loader.DMDrawer~bundle.AudioSpacePeek~bundle.AudioSpaceAnalytics~bundle.AudioSpaceRep\":\"944bf20\",\"shared~loader.AudioDock~bundle.AudioSpacePeek~bundle.AudioSpaceAnalytics~bundle.AudioSpaceReport~bundle.Birdw\":\"cebaba7\",\"loader.AudioDock\":\"7d8e8cb\",\"loader.richScribeAction\":\"60d7617\",\"shared~loader.DashMenu~bundle.Account\":\"47aa0a7\",\"loader.DashMenu\":\"3fba832\",\"shared~bundle.Articles~bundle.AudioSpaceDetail~bundle.AudioSpaceDiscovery~bundle.AudioSpacebarScreen~bundle.B\":\"bbd7684\",\"shared~bundle.AudioSpaceDetail~bundle.AudioSpaceDiscovery~bundle.AudioSpacebarScreen~bundle.Birdwatch~bundle.\":\"b6dc54e\",\"shared~bundle.Birdwatch~bundle.Compose~bundle.RichTextCompose~bundle.Settings~bundle.Display~bundle.Ocf~bundl\":\"a6bd63c\",\"shared~loader.DMDrawer~bundle.DirectMessages~bundle.Notifications\":\"1fbb5bd\",\"bundle.Notifications\":\"8d8a6e5\",\"loader.NewTweetsPill\":\"b7986e5\",\"loader.SideNav\":\"83d11a3\",\"shared~loader.Typeahead~loader.DMDrawer~bundle.MultiAccount~bundle.AudioSpaceDiscovery~bundle.Birdwatch~bundl\":\"d18b515\",\"shared~loader.Typeahead~loader.DMDrawer~bundle.AudioSpaceDiscovery~bundle.Communities~bundle.Compose~bundle.R\":\"0b294f2\",\"shared~loader.Typeahead~loader.DMDrawer~bundle.Communities~bundle.Compose~bundle.RichTextCompose~bundle.Deleg\":\"9add300\",\"shared~loader.Typeahead~loader.DMDrawer~bundle.Communities~bundle.Delegate~bundle.DirectMessages~bundle.DMRic\":\"cb15b14\",\"shared~loader.Typeahead~bundle.Communities~bundle.Delegate~bundle.Ocf~bundle.LoggedOutHome~bundle.Search~bund\":\"b122159\",\"shared~loader.Typeahead~bundle.LoggedOutHome~bundle.Search\":\"a8bb1ae\",\"loader.Typeahead\":\"a47c98e\",\"shared~loader.AppModules~bundle.LoggedOutHome~bundle.Search\":\"cfa1a70\",\"loader.AppModules\":\"89ff56f\",\"ondemand.BranchSdk\":\"0e8ba43\",\"shared~loader.DMDrawer~bundle.Compose~bundle.RichTextCompose~bundle.AccountVerification~bundle.SettingsProfil\":\"8fd5b79\",\"shared~loader.DMDrawer~bundle.Compose~bundle.RichTextCompose~bundle.DirectMessages~bundle.DMRichTextCompose~b\":\"9cc2ddc\",\"shared~loader.DMDrawer~bundle.Compose~bundle.RichTextCompose~bundle.DMRichTextCompose~bundle.DirectMessages~b\":\"b8be614\",\"shared~loader.DMDrawer~bundle.DMRichTextCompose~bundle.DirectMessages\":\"bd490bb\",\"shared~loader.DMDrawer~bundle.DirectMessages~bundle.DMRichTextCompose\":\"5235937\",\"shared~loader.DMDrawer~bundle.DirectMessages\":\"b56f6a3\",\"loader.DMDrawer\":\"a0fd202\",\"bundle.AboutThisAd\":\"9a35130\",\"bundle.NotMyAccount\":\"efde697\",\"bundle.Account\":\"4b92118\",\"shared~bundle.MultiAccount~bundle.Birdwatch~bundle.BookmarkFolders~bundle.Communities~ondemand.ComposeSchedul\":\"f466a8a\",\"bundle.MultiAccount\":\"885afc7\",\"bundle.Articles\":\"ced7954\",\"bundle.AudioSpaceDetail\":\"4658b65\",\"shared~bundle.AudioSpacePeek~bundle.Communities~ondemand.CommunityHandler\":\"c6f2c9e\",\"bundle.AudioSpacePeek\":\"fe8ab34\",\"bundle.AudioSpaceDiscovery\":\"5951fce\",\"bundle.AudioSpaceAnalytics\":\"43f4503\",\"bundle.AudioSpaceReport\":\"21e77fc\",\"bundle.AudioSpacebarScreen\":\"88fade7\",\"shared~bundle.Birdwatch~ondemand.inlineTombstoneHandler~ondemand.tweetHandler\":\"1dd980b\",\"shared~bundle.Birdwatch~bundle.Explore~bundle.Topics\":\"c930b07\",\"bundle.Birdwatch\":\"323de03\",\"shared~bundle.BookmarkFolders~bundle.TwitterArticles\":\"9d04429\",\"bundle.BookmarkFolders\":\"e82aff4\",\"bundle.Bookmarks\":\"47a1973\",\"src_app_screens_BrandedLikesPreview_index_js-modules_horizon-web_src_exports_Reaction_tempAss-ae55df\":\"7807a75\",\"shared~bundle.LiveEvent~ondemand.MomentSummaryHandler\":\"b9ba78a\",\"bundle.LiveEvent\":\"06e3df3\",\"bundle.Collection\":\"e49ee20\",\"shared~bundle.Communities~bundle.ComposeMedia~ondemand.SettingsInternals~ondemand.SettingsRevamp~bundle.Setti\":\"1eb3793\",\"shared~bundle.Communities~bundle.ComposeMedia~bundle.SettingsProfile~bundle.Ocf~bundle.TwitterArticles~bundle\":\"6477491\",\"shared~bundle.Communities~bundle.SettingsProfessionalProfileProfileSpotlight~bundle.SettingsProfessionalProfi\":\"d988323\",\"shared~bundle.Communities~bundle.UserLists\":\"418fc94\",\"bundle.Communities\":\"5f296ec\",\"bundle.CommunitySSR\":\"6117372\",\"shared~bundle.Compose~bundle.RichTextCompose~bundle.Ocf~bundle.PlainTextCompose\":\"fd0c88b\",\"shared~bundle.Compose~bundle.RichTextCompose~bundle.PlainTextCompose\":\"7fad139\",\"shared~bundle.Compose~bundle.RichTextCompose\":\"4f6a9af\",\"bundle.Compose\":\"883b375\",\"shared~bundle.ComposeMedia~bundle.TwitterArticles\":\"07d7dae\",\"bundle.ComposeMedia\":\"4bd97be\",\"shared~ondemand.ComposeScheduling~bundle.SettingsProfessionalProfileLocationSpotlight\":\"5fb875b\",\"ondemand.ComposeScheduling\":\"dce1a10\",\"shared~bundle.RichTextCompose~bundle.DMRichTextCompose~bundle.TwitterArticles~ondemand.RichText\":\"747effc\",\"bundle.RichTextCompose\":\"b59a53e\",\"bundle.ConnectTab\":\"a3908c5\",src_app_screens_ConversationFollowNudge_index_js:\"1c38b26\",\"bundle.CustomTimelineTools\":\"173c83a\",\"shared~bundle.Delegate~ondemand.SettingsRevamp~ondemand.SettingsInternals~ondemand.SensitiveMediaSettings~bun\":\"5e9e503\",\"bundle.Delegate\":\"34229ca\",\"shared~bundle.AccountVerification~bundle.BadgeViolationsNotification~bundle.SettingsRevamp\":\"66a9eb2\",\"shared~bundle.AccountVerification~bundle.TwitterArticles\":\"a632539\",\"bundle.AccountVerification\":\"adcc0d8\",\"shared~ondemand.SettingsInternals~bundle.SettingsRevamp~bundle.SettingsTransparency\":\"5b955a6\",\"shared~ondemand.SettingsInternals~ondemand.SettingsRevamp\":\"f5bd623\",\"ondemand.SettingsInternals\":\"d54ac22\",\"shared~ondemand.SettingsRevamp~ondemand.SettingsMonetization~ondemand.SettingsSuperFollows~bundle.SuperFollow\":\"d416394\",\"shared~ondemand.SettingsRevamp~ondemand.SettingsMonetization\":\"cc45b35\",\"ondemand.SettingsRevamp\":\"f4a5f7e\",\"bundle.AccountAutomation\":\"69d04a1\",\"shared~bundle.Settings~bundle.Display\":\"079eaef\",\"shared~bundle.Settings~bundle.SettingsRevamp\":\"7f85df1\",\"bundle.Settings\":\"d922a05\",\"bundle.SettingsInternals\":\"93489b3\",\"shared~bundle.SettingsProfile~bundle.Ocf\":\"a400eac\",\"bundle.SettingsProfile\":\"9fbb8a1\",\"ondemand.SensitiveMediaSettings\":\"81743fa\",\"shared~ondemand.SettingsMonetization~ondemand.SettingsSuperFollows~bundle.SuperFollowsSubscribe\":\"93d47a0\",\"shared~ondemand.SettingsMonetization~ondemand.SettingsSuperFollows\":\"93fc43a\",\"ondemand.SettingsMonetization\":\"5d50200\",\"ondemand.SettingsSuperFollows\":\"5c0b6ac\",\"shared~bundle.DirectMessages~bundle.TweetMediaDetail~bundle.UserAvatar~bundle.UserNft\":\"9aaff8d\",\"shared~bundle.DMRichTextCompose~bundle.DirectMessages\":\"5978042\",\"bundle.DirectMessages\":\"a4964ad\",\"bundle.DMRichTextCompose\":\"f98e62d\",\"bundle.Display\":\"a72f6cf\",\"bundle.Explore\":\"4666cab\",\"bundle.GenericTimeline\":\"c57fb34\",\"shared~bundle.GifSearch~bundle.TwitterArticles\":\"940e4f3\",\"bundle.GifSearch\":\"c3eb8a4\",\"bundle.KeyboardShortcuts\":\"13e39f0\",\"bundle.HomeTimeline\":\"97f8d84\",\"shared~bundle.Login~bundle.Ocf\":\"50fd54c\",\"bundle.Login\":\"4d7e97d\",\"bundle.SmsLogin\":\"e598edc\",\"bundle.Logout\":\"0965b01\",\"bundle.MomentMaker\":\"1754732\",\"ondemand.ReactBeautifulDnd\":\"77aaddc\",\"bundle.NewsLanding\":\"877aa26\",\"bundle.Newsletters\":\"d4e63d4\",\"bundle.BadgeViolationsNotification\":\"8e9f668\",\"bundle.Twitterversary\":\"4b87845\",\"bundle.NotificationDetail\":\"38f5616\",\"bundle.OAuth\":\"d584752\",\"bundle.Ocf\":\"86e647a\",\"bundle.Place\":\"f44d4ce\",\"bundle.SettingsProfessionalProfile\":\"450f7cd\",\"shared~bundle.SettingsProfessionalProfileProfileSpotlight~bundle.SettingsProfessionalProfileLocationSpotlight\":\"4f4b590\",\"bundle.SettingsProfessionalProfileProfileSpotlight\":\"6460a7a\",\"bundle.SettingsProfessionalProfileLocationSpotlight\":\"e6da80e\",\"bundle.SettingsProfessionalProfileMobileAppSpotlight\":\"71799b6\",\"bundle.SettingsProfessionalProfileCommunitiesSpotlight\":\"ef432de\",\"bundle.ProfessionalHome\":\"315cbf9\",\"shared~bundle.ReaderMode~bundle.TweetMediaDetail~bundle.ImmersiveMediaViewer\":\"ac72b88\",\"bundle.ReaderMode\":\"ed9bb15\",\"bundle.Report\":\"d85c2ce\",\"shared~bundle.ReportCenter~bundle.SafetyCenter\":\"60fb9b2\",\"bundle.ReportCenter\":\"aa6a00b\",\"bundle.SafetyCenter\":\"9030137\",\"shared~bundle.LoggedOutHome~bundle.Search\":\"3fda916\",\"bundle.LoggedOutHome\":\"a251c99\",\"bundle.SafetyModeModal\":\"6ad396d\",\"bundle.Search\":\"7d35f68\",\"bundle.AdvancedSearch\":\"1871f98\",\"bundle.SettingsRevamp\":\"8800ab8\",\"bundle.SettingsTransparency\":\"137402c\",\"bundle.Download\":\"b37d4e0\",\"bundle.Topics\":\"1652450\",\"bundle.ExploreTopics\":\"a797f09\",\"bundle.Trends\":\"b2eca8b\",\"bundle.TrustedFriendsManagement\":\"134190e\",\"bundle.TrustedFriendsRedirect\":\"917b9cb\",\"bundle.Conversation\":\"a626534\",\"bundle.ConversationWithRelay\":\"79d29f6\",\"bundle.TweetMediaTags\":\"8410568\",\"bundle.ConversationParticipants\":\"cb1df86\",\"shared~bundle.TweetMediaDetail~bundle.ImmersiveMediaViewer\":\"4545e44\",\"bundle.TweetMediaDetail\":\"ae9a442\",\"bundle.ImmersiveMediaViewer\":\"373b9ac\",\"bundle.TweetEditHistory\":\"76b2205\",\"bundle.QuoteTweetActivity\":\"6985347\",\"bundle.TweetActivity\":\"89c64ed\",\"bundle.TweetActivityReactions\":\"724b79f\",\"bundle.TwitterArticles\":\"3b46069\",\"bundle.TwitterBluePaymentFailureFix\":\"cfe63a8\",\"bundle.TwitterBlue\":\"9343e16\",\"bundle.Moment\":\"acc82ec\",\"shared~bundle.UserLists~ondemand.HoverCard\":\"7ece191\",\"bundle.UserLists\":\"d630942\",\"shared~ondemand.EditPinned~ondemand.EventSummaryHandler~ondemand.TileHandler~ondemand.ListHandler\":\"c456134\",\"shared~ondemand.EditPinned~ondemand.ListHandler\":\"d1d6a24\",\"ondemand.EditPinned\":\"b8f4d1d\",\"bundle.UserMoments\":\"8784552\",\"bundle.UserAvatar\":\"1d8cf02\",\"bundle.UserNft\":\"cca2ad8\",\"bundle.UserRedirect\":\"b507863\",\"bundle.SuperFollowsManage\":\"0a7c41d\",\"bundle.FollowerRequests\":\"c5dab85\",\"bundle.ProfileRedirect\":\"12ea424\",\"bundle.SuperFollowsSubscribe\":\"ef07980\",\"bundle.UserFollowLists\":\"8f0ff1a\",\"bundle.UserProfile\":\"0d43dc7\",\"ondemand.StaticAssets\":\"8a7a8b6\",\"loader.LoggedOutNotifications\":\"b14c454\",\"shared~ondemand.EmojiPickerData~ondemand.ParticipantReaction~ondemand.EmojiPicker\":\"e84fed7\",\"shared~loaders.video.VideoPlayerDefaultUI~loaders.video.VideoPlayerHashtagHighlightUI~loaders.video.VideoPlay\":\"602b8bc\",\"shared~loaders.video.VideoPlayerDefaultUI~loaders.video.VideoPlayerEventsUI~loaders.video.VideoPlayerPrerollU\":\"b48f66b\",\"shared~loaders.video.VideoPlayerDefaultUI~loaders.video.VideoPlayerEventsUI\":\"ed13ddc\",\"shared~loaders.video.VideoPlayerDefaultUI~loaders.video.VideoPlayerPrerollUI\":\"7c7f9ef\",\"loaders.video.VideoPlayerDefaultUI\":\"9e926cb\",\"loaders.video.VideoPlayerHashtagHighlightUI\":\"fe20ca5\",\"ondemand.HoverCard\":\"1744105\",\"loader.AudioContextSpaceClip\":\"7cc70d8\",\"loader.AudioContextSpaceMedia\":\"aa70059\",\"loader.AudioContextVoiceMedia\":\"00b94da\",\"shared~ondemand.InlinePlayer~loader.AudioOnlyVideoPlayer~ondemand.immersiveTweetHandler\":\"9aae92f\",\"ondemand.InlinePlayer\":\"a221640\",\"ondemand.video.PlayerHls1.2\":\"14782b6\",\"loaders.video.PlayerHls1.1\":\"4b54ae5\",\"loaders.video.VideoPlayerMiniUI\":\"787f564\",\"ondemand.emoji.ar\":\"403a4be\",\"ondemand.emoji.ar-x-fm\":\"2448e41\",\"ondemand.emoji.bg\":\"dae4f0d\",\"ondemand.emoji.bn\":\"4b15463\",\"ondemand.emoji.ca\":\"768790b\",\"ondemand.emoji.cs\":\"120e3ec\",\"ondemand.emoji.da\":\"6a3e439\",\"ondemand.emoji.de\":\"7562e19\",\"ondemand.emoji.el\":\"a950175\",\"ondemand.emoji.en\":\"4ba28d1\",\"ondemand.emoji.en-GB\":\"5b56793\",\"ondemand.emoji.en-ss\":\"2613bcf\",\"ondemand.emoji.en-xx\":\"5d96eda\",\"ondemand.emoji.es\":\"1f667e7\",\"ondemand.emoji.eu\":\"b66a41a\",\"ondemand.emoji.fa\":\"a2e826f\",\"ondemand.emoji.fi\":\"53c3b4b\",\"ondemand.emoji.fil\":\"a31bbb4\",\"ondemand.emoji.fr\":\"8fd472f\",\"ondemand.emoji.ga\":\"30f1394\",\"ondemand.emoji.gl\":\"0aaca9b\",\"ondemand.emoji.gu\":\"6e2acf9\",\"ondemand.emoji.ha\":\"e3e46b4\",\"ondemand.emoji.he\":\"113809a\",\"ondemand.emoji.hi\":\"9ff05d0\",\"ondemand.emoji.hr\":\"5e6b7fb\",\"ondemand.emoji.hu\":\"7b1f640\",\"ondemand.emoji.id\":\"9bc9eee\",\"ondemand.emoji.ig\":\"efeddcd\",\"ondemand.emoji.it\":\"e984241\",\"ondemand.emoji.ja\":\"95e2cb8\",\"ondemand.emoji.kn\":\"59c14d6\",\"ondemand.emoji.ko\":\"83cc481\",\"ondemand.emoji.mr\":\"4c6ed4b\",\"ondemand.emoji.ms\":\"2b05c95\",\"ondemand.emoji.nb\":\"733e584\",\"ondemand.emoji.nl\":\"2d4e79d\",\"ondemand.emoji.pl\":\"142b12c\",\"ondemand.emoji.pt\":\"ce795ed\",\"ondemand.emoji.ro\":\"52c8fea\",\"ondemand.emoji.ru\":\"cbaddfe\",\"ondemand.emoji.sk\":\"f23be23\",\"ondemand.emoji.sr\":\"69aa42b\",\"ondemand.emoji.sv\":\"be8da04\",\"ondemand.emoji.ta\":\"0244da4\",\"ondemand.emoji.th\":\"8b19587\",\"ondemand.emoji.tr\":\"9dadcf4\",\"ondemand.emoji.uk\":\"c7ca698\",\"ondemand.emoji.ur\":\"21d1b0f\",\"ondemand.emoji.vi\":\"84755c4\",\"ondemand.emoji.yo\":\"f35b276\",\"ondemand.emoji.zh\":\"97a498b\",\"ondemand.emoji.zh-Hant\":\"ff9bbcd\",\"ondemand.ParticipantReaction\":\"9331f06\",\"loader.AudioOnlyVideoPlayer\":\"b10a542\",\"loader.WideLayout\":\"55f8b73\",\"loader.AbsolutePower\":\"d6b165a\",\"ondemand.LottieWeb\":\"c65896b\",\"loader.TimelineRenderer\":\"fb1a4c4\",\"ondemand.DividerHandler\":\"3e1d890\",\"ondemand.TombstonedEntryHandler\":\"6fca99f\",\"ondemand.ArticleHandler\":\"9c332b7\",\"ondemand.collectionHeaderHandler\":\"4319c35\",\"ondemand.CommunityHandler\":\"40d384f\",\"ondemand.EventSummaryHandler\":\"ff519ce\",\"ondemand.InlinePromptHandler\":\"772ce8c\",\"ondemand.TransparentLabelHandler\":\"592435d\",\"ondemand.LabelHandler\":\"b8ed4eb\",\"ondemand.MomentAnnotationHandler\":\"4c9c2e1\",\"ondemand.MomentSummaryHandler\":\"ee7f118\",\"ondemand.newsArticleHandler\":\"01e0b76\",\"ondemand.newsPreviewHandler\":\"f140628\",\"ondemand.NotificationHandler\":\"03614a2\",\"ondemand.ScoreEventSummaryHandler\":\"70e68ed\",\"ondemand.TimelineCardHandler\":\"aa418ab\",\"ondemand.topicHandler\":\"5cc17dc\",\"ondemand.TopicFollowPromptHandler\":\"38f1be2\",\"ondemand.topicLandingHeaderHandler\":\"4a37855\",\"ondemand.TrendHandler\":\"06c29a3\",\"ondemand.VerticalGridItemHandler\":\"c8a4ced\",\"ondemand.MessageHandler\":\"d8e428e\",\"ondemand.PagedCarouselItemHandler\":\"8331522\",\"ondemand.RelatedSearchHandler\":\"b10186a\",\"ondemand.selfThreadTweetComposerHandler\":\"2580aaa\",\"ondemand.spellingHandler\":\"3a7f413\",\"ondemand.ThreadHeaderHandler\":\"e5dead0\",\"ondemand.TileHandler\":\"093f676\",\"ondemand.GapHandler\":\"cad43f9\",\"ondemand.IconLabelHandler\":\"56e96a2\",\"ondemand.ListHandler\":\"2707023\",\"ondemand.newsEntriesGapHandler\":\"b8486cc\",\"ondemand.promptHandler\":\"c2caf37\",\"ondemand.CarouselTimelineHandler\":\"37d99b1\",\"ondemand.ConversationGapHandler\":\"c867be7\",\"ondemand.FooterLoader\":\"1bd76a0\",\"ondemand.ModuleHeader\":\"1251481\",\"ondemand.ImpressionPlaceholderHandler\":\"116cbdf\",\"ondemand.ShowMoreHandler\":\"f488a0c\",\"ondemand.VerticalGridListHandler\":\"1d35a30\",\"ondemand.VerticalGridRowHandler\":\"58afc14\",\"shared~ondemand.inlineTombstoneHandler~ondemand.tweetHandler\":\"f1524a0\",\"ondemand.inlineTombstoneHandler\":\"f491272\",\"ondemand.tweetUnavailableTombstoneHandler\":\"cc0ffc5\",\"ondemand.disconnectedRepliesTombstoneHandler\":\"f3d600a\",\"ondemand.tweetHandler\":\"07d615b\",\"ondemand.unsupportedHandler\":\"0666f13\",\"ondemand.UserHandler\":\"53f0d2d\",\"shared~loader.AudioSpacebar~loader.SidebarSpacebar\":\"fb223da\",\"loader.AudioSpacebar\":\"806f104\",\"loader.SidebarSpacebar\":\"cac0cb7\",\"loader.ExploreSidebar\":\"76fa9da\",\"loader.SignupModule\":\"2d0d1f6\",\"loader.FeedbackSheet\":\"7dc93f7\",\"ondemand.RichText\":\"3881d94\",\"loader.PushNotificationsPrompt\":\"2986f1f\",\"ondemand.EmojiPicker\":\"934ab70\",\"loader.MediaPreviewVideoPlayer\":\"76843b1\",\"ondemand.AudioSpacebar.Mocks\":\"049ca69\",\"ondemand.inertPolyfill\":\"0a8d7ff\",\"loader.PreviewActions\":\"4ae3553\",\"ondemand.IntentPrompt\":\"6c644a4\",\"loader.TweetCurationActionMenu\":\"1442780\",\"ondemand.PivotLabelHandler\":\"e93d015\",\"loaders.video.VideoPlayerEventsUI\":\"a41be4f\",\"loader.MediaPickerWithPreview\":\"c1ed74e\",\"ondemand.countries-ar\":\"2b87b48\",\"ondemand.countries-bg\":\"cd550a0\",\"ondemand.countries-bn\":\"9fff155\",\"ondemand.countries-ca\":\"6d04487\",\"ondemand.countries-cs\":\"204041e\",\"ondemand.countries-da\":\"03046f1\",\"ondemand.countries-de\":\"0eac749\",\"ondemand.countries-el\":\"6ae9483\",\"ondemand.countries-en-GB\":\"97ed6c4\",\"ondemand.countries-en\":\"22818c8\",\"ondemand.countries-es\":\"00e3a7f\",\"ondemand.countries-eu\":\"ba65710\",\"ondemand.countries-fa\":\"0eaa8e0\",\"ondemand.countries-fi\":\"6200ea0\",\"ondemand.countries-fil\":\"593198c\",\"ondemand.countries-fr\":\"5898610\",\"ondemand.countries-ga\":\"49d9ad4\",\"ondemand.countries-gl\":\"75b3533\",\"ondemand.countries-gu\":\"698a8d4\",\"ondemand.countries-he\":\"d2ec221\",\"ondemand.countries-hi\":\"51b0c9a\",\"ondemand.countries-hr\":\"25d6436\",\"ondemand.countries-hu\":\"1927264\",\"ondemand.countries-id\":\"eff3ec0\",\"ondemand.countries-ig\":\"8027976\",\"ondemand.countries-it\":\"59b2d5c\",\"ondemand.countries-ja\":\"c6b7973\",\"ondemand.countries-kn\":\"6e65b3d\",\"ondemand.countries-ko\":\"69c6ea0\",\"ondemand.countries-mr\":\"5efa902\",\"ondemand.countries-ms\":\"2674dd6\",\"ondemand.countries-nb\":\"329cc6e\",\"ondemand.countries-nl\":\"6490108\",\"ondemand.countries-pl\":\"6c28efd\",\"ondemand.countries-pt\":\"e7ef9b7\",\"ondemand.countries-ro\":\"abc0ba8\",\"ondemand.countries-ru\":\"e3c9df9\",\"ondemand.countries-sk\":\"59aec01\",\"ondemand.countries-sr\":\"772e835\",\"ondemand.countries-sv\":\"c059190\",\"ondemand.countries-ta\":\"d03ec55\",\"ondemand.countries-th\":\"f6b8ad3\",\"ondemand.countries-tr\":\"30d1a36\",\"ondemand.countries-uk\":\"d174f36\",\"ondemand.countries-ur\":\"3173ec3\",\"ondemand.countries-yo\":\"6d9dffe\",\"ondemand.countries-zh-Hant\":\"d00b457\",\"ondemand.countries-zh\":\"e762d27\",\"ondemand.EditBirthdate\":\"a4fe7b9\",\"ondemand.framerateTracking\":\"a474fc9\",\"ondemand.qrcode\":\"e99d878\",\"bundle.TimezoneSelector.timezones\":\"edfe69e\",\"ondemand.immersiveTweetHandler\":\"cc94405\",\"loader.ProfileClusterFollow\":\"20c2750\",\"ondemand.Balloons\":\"2d0b67a\",\"ondemand.ProfileSidebar\":\"48b75ca\",\"loaders.video.VideoPlayerPrerollUI\":\"dea3a58\",\"ondemand.CarouselScroller\":\"6fb1b17\",\"bundle.PlainTextCompose\":\"d6429f3\",\"ondemand.DownvoteEducation\":\"7cfe5f8\",\"ondemand.LeaveThisConversation\":\"dcf46a9\",\"ondemand.CommunityTweetPinning\":\"0772038\"}[e]+\"9.js\",l.g=function(){if(\"object\"==typeof globalThis)return globalThis;try{return this||new Function(\"return this\")()}catch(e){if(\"object\"==typeof window)return window}}(),l.hmd=e=>((e=Object.create(e)).children||(e.children=[]),Object.defineProperty(e,\"exports\",{enumerable:!0,set:()=>{throw new Error(\"ES Modules may not assign module.exports or exports.*, Use ESM export syntax, instead: \"+e.id)}}),e),l.o=(e,d)=>Object.prototype.hasOwnProperty.call(e,d),a={},o=\"@twitter/responsive-web:\",l.l=(e,d,n,r)=>{if(a[e])a[e].push(d);else{var i,t;if(void 0!==n)for(var s=document.getElementsByTagName(\"script\"),u=0;u<s.length;u++){var b=s[u];if(b.getAttribute(\"src\")==e||b.getAttribute(\"data-webpack\")==o+n){i=b;break}}i||(t=!0,(i=document.createElement(\"script\")).charset=\"utf-8\",i.timeout=120,l.nc&&i.setAttribute(\"nonce\",l.nc),i.setAttribute(\"data-webpack\",o+n),i.src=e),a[e]=[d];var c=(d,n)=>{i.onerror=i.onload=null,clearTimeout(m);var o=a[e];if(delete a[e],i.parentNode&&i.parentNode.removeChild(i),o&&o.forEach((e=>e(n))),d)return d(n)},m=setTimeout(c.bind(null,void 0,{type:\"timeout\",target:i}),12e4);i.onerror=c.bind(null,i.onerror),i.onload=c.bind(null,i.onload),t&&document.head.appendChild(i)}},l.r=e=>{\"undefined\"!=typeof Symbol&&Symbol.toStringTag&&Object.defineProperty(e,Symbol.toStringTag,{value:\"Module\"}),Object.defineProperty(e,\"__esModule\",{value:!0})},l.nmd=e=>(e.paths=[],e.children||(e.children=[]),e),l.p=\"https://abs.twimg.com/responsive-web/client-web-legacy/\",(()=>{var e={runtime:0};l.f.j=(d,n)=>{var a=l.o(e,d)?e[d]:void 0;if(0!==a)if(a)n.push(a[2]);else if(\"runtime\"!=d){var o=new Promise(((n,o)=>a=e[d]=[n,o]));n.push(a[2]=o);var r=l.p+l.u(d),i=new Error;l.l(r,(n=>{if(l.o(e,d)&&(0!==(a=e[d])&&(e[d]=void 0),a)){var o=n&&(\"load\"===n.type?\"missing\":n.type),r=n&&n.target&&n.target.src;i.message=\"Loading chunk \"+d+\" failed.\\n(\"+o+\": \"+r+\")\",i.name=\"ChunkLoadError\",i.type=o,i.request=r,a[1](i)}}),\"chunk-\"+d,d)}else e[d]=0},l.O.j=d=>0===e[d];var d=(d,n)=>{var a,o,[r,i,t]=n,s=0;if(r.some((d=>0!==e[d]))){for(a in i)l.o(i,a)&&(l.m[a]=i[a]);if(t)var u=t(l)}for(d&&d(n);s<r.length;s++)o=r[s],l.o(e,o)&&e[o]&&e[o][0](),e[o]=0;return l.O(u)},n=self.webpackChunk_twitter_responsive_web=self.webpackChunk_twitter_responsive_web||[];n.forEach(d.bind(null,0)),n.push=d.bind(null,n.push.bind(n))})()})(),window.__SCRIPTS_LOADED__.runtime=!0;\n",
       "</script><script charset=\"utf-8\" nonce=\"Yzg0ZGZmMWQtOGI1Ni00ZTYxLWI0YjItNTZkYzhmNzA1ZWJk\" type=\"text/javascript\">performance && performance.mark && performance.mark('scripts-blocking-start')</script><script charset=\"utf-8\" crossorigin=\"anonymous\" nonce=\"Yzg0ZGZmMWQtOGI1Ni00ZTYxLWI0YjItNTZkYzhmNzA1ZWJk\" src=\"https://abs.twimg.com/responsive-web/client-web-legacy/polyfills.c7dfc719.js\" type=\"text/javascript\"></script><script charset=\"utf-8\" crossorigin=\"anonymous\" nonce=\"Yzg0ZGZmMWQtOGI1Ni00ZTYxLWI0YjItNTZkYzhmNzA1ZWJk\" src=\"https://abs.twimg.com/responsive-web/client-web-legacy/vendor.d9a7d629.js\" type=\"text/javascript\"></script><script charset=\"utf-8\" crossorigin=\"anonymous\" nonce=\"Yzg0ZGZmMWQtOGI1Ni00ZTYxLWI0YjItNTZkYzhmNzA1ZWJk\" src=\"https://abs.twimg.com/responsive-web/client-web-legacy/i18n/en.7a699ee9.js\" type=\"text/javascript\"></script><script charset=\"utf-8\" crossorigin=\"anonymous\" nonce=\"Yzg0ZGZmMWQtOGI1Ni00ZTYxLWI0YjItNTZkYzhmNzA1ZWJk\" src=\"https://abs.twimg.com/responsive-web/client-web-legacy/main.4c4c4b09.js\" type=\"text/javascript\"></script><script charset=\"utf-8\" nonce=\"Yzg0ZGZmMWQtOGI1Ni00ZTYxLWI0YjItNTZkYzhmNzA1ZWJk\" type=\"text/javascript\">performance && performance.measure && performance.measure('scripts-blocking', 'scripts-blocking-start')</script><script nonce=\"Yzg0ZGZmMWQtOGI1Ni00ZTYxLWI0YjItNTZkYzhmNzA1ZWJk\">(function () {\n",
       "  if (!window.__SCRIPTS_LOADED__['main']) {\n",
       "    document.getElementById('ScriptLoadFailure').style.display = 'block';\n",
       "    var criticalScripts = [\"polyfills\",\"vendor\",\"i18n\",\"main\"];\n",
       "    for (var i = 0; i < criticalScripts.length; i++) {\n",
       "      var criticalScript = criticalScripts[i];\n",
       "      if (!window.__SCRIPTS_LOADED__[criticalScript]) {\n",
       "        document.getElementsByName('failedScript')[0].value = criticalScript;\n",
       "        break;\n",
       "      }\n",
       "    }\n",
       "  }\n",
       "})();</script><script nonce=\"Yzg0ZGZmMWQtOGI1Ni00ZTYxLWI0YjItNTZkYzhmNzA1ZWJk\">document.cookie = decodeURIComponent(\"gt=1590025204629118977; Max-Age=10800; Domain=.twitter.com; Path=/; Secure\");</script></body></html>"
      ]
     },
     "execution_count": 187,
     "metadata": {},
     "output_type": "execute_result"
    }
   ],
   "source": [
    "soup"
   ]
  },
  {
   "cell_type": "code",
   "execution_count": 204,
   "metadata": {},
   "outputs": [],
   "source": [
    "info=soup.find_all('div',{'class':'css-901oao'})\n"
   ]
  },
  {
   "cell_type": "code",
   "execution_count": 205,
   "metadata": {},
   "outputs": [
    {
     "data": {
      "text/plain": [
       "[<div class=\"css-901oao r-1qd0xha r-a023e6 r-16dba41 r-rjixqe r-bcqeeo r-qvutc0\" dir=\"auto\" style=\"color:rgba(15,20,25,1.00)\"><span class=\"css-901oao css-16my406 r-poiln3 r-bcqeeo r-qvutc0\">Something went wrong, but don’t fret — let’s give it another shot.</span></div>]"
      ]
     },
     "execution_count": 205,
     "metadata": {},
     "output_type": "execute_result"
    }
   ],
   "source": [
    "info[:1]"
   ]
  },
  {
   "cell_type": "markdown",
   "metadata": {},
   "source": [
    "#### Number of followers of a given twitter account"
   ]
  },
  {
   "cell_type": "markdown",
   "metadata": {},
   "source": [
    "You will need to include a ***try/except block*** in case account/s name not found. \n",
    "<br>***Hint:*** the program should count the followers for any provided account"
   ]
  },
  {
   "cell_type": "code",
   "execution_count": 206,
   "metadata": {},
   "outputs": [],
   "source": [
    "# This is the url you will scrape in this exercise \n",
    "# You will need to add the account credentials to this url\n",
    "url = 'https://twitter.com/carlosalcaraz'"
   ]
  },
  {
   "cell_type": "code",
   "execution_count": 207,
   "metadata": {},
   "outputs": [
    {
     "data": {
      "text/plain": [
       "'<!DOCTYPE html>\\n<html dir=\"ltr\" lang=\"en\">\\n<head>\\n<meta charset=\"utf-8\" />\\n<meta name=\"viewport\" content=\"width=device-width,initial-scale=1,maximum-scale=1,user-scalable=0,viewport-fit=cover\" /><link rel=\"preconnect\" href=\"//abs.twimg.com\" /><link rel=\"dns-prefetch\" href=\"//abs.twimg.com\" /><link rel=\"preconnect\" href=\"//api.twitter.com\" /><link rel=\"dns-prefetch\" href=\"//api.twitter.com\" /><link rel=\"preconnect\" href=\"//pbs.twimg.com\" /><link rel=\"dns-prefetch\" href=\"//pbs.twimg.com\" /><link rel=\"preconnect\" href=\"//t.co\" /><link rel=\"dns-prefetch\" href=\"//t.co\" /><link rel=\"preconnect\" href=\"//video.twimg.com\" /><link rel=\"dns-prefetch\" href=\"//video.twimg.com\" /><link rel=\"preload\" as=\"script\" crossorigin=\"anonymous\" href=\"https://abs.twimg.com/responsive-web/client-web-legacy/feature-switch-manifest.db1a9e39.js\" nonce=\"YTM4NTM5NmQtMTc1OS00NTA5LTk3ZGQtNmE1YWE5NDBhOTQ2\" /><link rel=\"preload\" as=\"script\" crossorigin=\"anonymous\" href=\"https://abs.twimg.com/responsive-web/client-web-le'"
      ]
     },
     "execution_count": 207,
     "metadata": {},
     "output_type": "execute_result"
    }
   ],
   "source": [
    "html=req.get(url).text\n",
    "\n",
    "html[:1000]"
   ]
  },
  {
   "cell_type": "code",
   "execution_count": 208,
   "metadata": {},
   "outputs": [
    {
     "data": {
      "text/plain": [
       "bs4.BeautifulSoup"
      ]
     },
     "execution_count": 208,
     "metadata": {},
     "output_type": "execute_result"
    }
   ],
   "source": [
    "soup=bs(html, 'html.parser')\n",
    "\n",
    "type(soup)"
   ]
  },
  {
   "cell_type": "code",
   "execution_count": 211,
   "metadata": {},
   "outputs": [],
   "source": [
    "#soup"
   ]
  },
  {
   "cell_type": "code",
   "execution_count": 213,
   "metadata": {},
   "outputs": [
    {
     "data": {
      "text/plain": [
       "[<span class=\"css-901oao css-16my406 r-poiln3 r-bcqeeo r-qvutc0\">Something went wrong, but don’t fret — let’s give it another shot.</span>]"
      ]
     },
     "execution_count": 213,
     "metadata": {},
     "output_type": "execute_result"
    }
   ],
   "source": [
    "info=soup.find_all('span',{'class':'css-901oao'})\n",
    "info"
   ]
  },
  {
   "cell_type": "code",
   "execution_count": 214,
   "metadata": {},
   "outputs": [
    {
     "data": {
      "text/plain": [
       "[]"
      ]
     },
     "execution_count": 214,
     "metadata": {},
     "output_type": "execute_result"
    }
   ],
   "source": [
    "info=soup.find_all('carlosalcaraz/followers')\n",
    "info"
   ]
  },
  {
   "cell_type": "markdown",
   "metadata": {},
   "source": [
    "#### List all language names and number of related articles in the order they appear in wikipedia.org"
   ]
  },
  {
   "cell_type": "code",
   "execution_count": 310,
   "metadata": {},
   "outputs": [],
   "source": [
    "# This is the url you will scrape in this exercise\n",
    "url = 'https://www.wikipedia.org/'"
   ]
  },
  {
   "cell_type": "code",
   "execution_count": 311,
   "metadata": {},
   "outputs": [],
   "source": [
    "html=req.get(url).text\n",
    "soup=bs(html, 'html.parser')"
   ]
  },
  {
   "cell_type": "code",
   "execution_count": 313,
   "metadata": {},
   "outputs": [
    {
     "data": {
      "text/plain": [
       "[<strong>English</strong>,\n",
       " <strong>æ¥æ¬èª</strong>,\n",
       " <strong>EspaÃ±ol</strong>,\n",
       " <strong>Ð ÑÑÑÐºÐ¸Ð¹</strong>,\n",
       " <strong>FranÃ§ais</strong>,\n",
       " <strong>Deutsch</strong>,\n",
       " <strong>Italiano</strong>,\n",
       " <strong>ä¸­æ</strong>]"
      ]
     },
     "execution_count": 313,
     "metadata": {},
     "output_type": "execute_result"
    }
   ],
   "source": [
    "idioma = soup.find_all('strong')[1:9]\n",
    "idioma"
   ]
  },
  {
   "cell_type": "code",
   "execution_count": 319,
   "metadata": {},
   "outputs": [
    {
     "data": {
      "text/plain": [
       "[<bdi dir=\"ltr\">6 458 000+</bdi>,\n",
       " <bdi dir=\"ltr\">1 314 000+</bdi>,\n",
       " <bdi dir=\"ltr\">1 755 000+</bdi>,\n",
       " <bdi dir=\"ltr\">1 798 000+</bdi>,\n",
       " <bdi dir=\"ltr\">2 400 000+</bdi>,\n",
       " <bdi dir=\"ltr\">2 667 000+</bdi>,\n",
       " <bdi dir=\"ltr\">1 742 000+</bdi>,\n",
       " <bdi dir=\"ltr\">1 256 000+</bdi>,\n",
       " <bdi dir=\"ltr\">1 085 000+</bdi>]"
      ]
     },
     "execution_count": 319,
     "metadata": {},
     "output_type": "execute_result"
    }
   ],
   "source": [
    "numbers= soup.find_all('bdi')[0:9]\n",
    "numbers"
   ]
  },
  {
   "cell_type": "code",
   "execution_count": null,
   "metadata": {},
   "outputs": [],
   "source": []
  },
  {
   "cell_type": "code",
   "execution_count": null,
   "metadata": {},
   "outputs": [],
   "source": []
  },
  {
   "cell_type": "markdown",
   "metadata": {},
   "source": [
    "#### A list with the different kind of datasets available in data.gov.uk "
   ]
  },
  {
   "cell_type": "code",
   "execution_count": 322,
   "metadata": {},
   "outputs": [],
   "source": [
    "# This is the url you will scrape in this exercise\n",
    "url = 'https://data.gov.uk/'"
   ]
  },
  {
   "cell_type": "code",
   "execution_count": 326,
   "metadata": {},
   "outputs": [],
   "source": [
    "html=req.get(url).text"
   ]
  },
  {
   "cell_type": "code",
   "execution_count": 328,
   "metadata": {},
   "outputs": [],
   "source": [
    "soup = bs(html, 'html.parser')"
   ]
  },
  {
   "cell_type": "code",
   "execution_count": 329,
   "metadata": {},
   "outputs": [],
   "source": [
    "uk= soup.find_all('h3', class_='govuk-heading-s dgu-topics__heading')"
   ]
  },
  {
   "cell_type": "code",
   "execution_count": 330,
   "metadata": {},
   "outputs": [
    {
     "data": {
      "text/plain": [
       "['Business and economy',\n",
       " 'Crime and justice',\n",
       " 'Defence',\n",
       " 'Education',\n",
       " 'Environment',\n",
       " 'Government',\n",
       " 'Government spending',\n",
       " 'Health',\n",
       " 'Mapping',\n",
       " 'Society',\n",
       " 'Towns and cities',\n",
       " 'Transport',\n",
       " 'Digital service performance',\n",
       " 'Government reference data']"
      ]
     },
     "execution_count": 330,
     "metadata": {},
     "output_type": "execute_result"
    }
   ],
   "source": [
    "lst= [e.text for e in uk]\n",
    "lst"
   ]
  },
  {
   "cell_type": "code",
   "execution_count": null,
   "metadata": {},
   "outputs": [],
   "source": []
  },
  {
   "cell_type": "markdown",
   "metadata": {},
   "source": [
    "#### Top 10 languages by number of native speakers stored in a Pandas Dataframe"
   ]
  },
  {
   "cell_type": "code",
   "execution_count": 331,
   "metadata": {},
   "outputs": [],
   "source": [
    "# This is the url you will scrape in this exercise\n",
    "url = 'https://en.wikipedia.org/wiki/List_of_languages_by_number_of_native_speakers'"
   ]
  },
  {
   "cell_type": "code",
   "execution_count": 332,
   "metadata": {},
   "outputs": [],
   "source": [
    "html=req.get(url).text\n",
    "soup=bs(html, 'html.parser')"
   ]
  },
  {
   "cell_type": "code",
   "execution_count": 347,
   "metadata": {},
   "outputs": [],
   "source": [
    "idioma = soup.find_all('tr')\n",
    "#idioma[1]"
   ]
  },
  {
   "cell_type": "code",
   "execution_count": 337,
   "metadata": {},
   "outputs": [
    {
     "data": {
      "text/plain": [
       "['Language',\n",
       " '',\n",
       " 'Native speakers(millions)',\n",
       " '',\n",
       " 'Language family',\n",
       " '',\n",
       " 'Branch']"
      ]
     },
     "execution_count": 337,
     "metadata": {},
     "output_type": "execute_result"
    }
   ],
   "source": [
    "lst = table[0].text.strip().split('\\n')\n",
    "lst"
   ]
  },
  {
   "cell_type": "code",
   "execution_count": 357,
   "metadata": {},
   "outputs": [
    {
     "data": {
      "text/plain": [
       "['Language', 'Native speakers(millions)', 'Language family', 'Branch']"
      ]
     },
     "execution_count": 357,
     "metadata": {},
     "output_type": "execute_result"
    }
   ],
   "source": [
    "lst1 = []\n",
    "for i in lst:\n",
    "    if i != '':\n",
    "        lst1.append(i)\n",
    "lst1"
   ]
  },
  {
   "cell_type": "code",
   "execution_count": 358,
   "metadata": {},
   "outputs": [
    {
     "data": {
      "text/plain": [
       "['Language', 'Native speakers(millions)']"
      ]
     },
     "execution_count": 358,
     "metadata": {},
     "output_type": "execute_result"
    }
   ],
   "source": [
    "column=lst1[:2]\n",
    "column"
   ]
  },
  {
   "cell_type": "code",
   "execution_count": 359,
   "metadata": {},
   "outputs": [],
   "source": [
    "fila = [e.text.strip().split('\\n\\n') for e in idioma][1:]\n",
    "#fila"
   ]
  },
  {
   "cell_type": "code",
   "execution_count": 361,
   "metadata": {},
   "outputs": [],
   "source": [
    "df = pd.DataFrame(fila, columns = lst1)"
   ]
  },
  {
   "cell_type": "code",
   "execution_count": 364,
   "metadata": {},
   "outputs": [
    {
     "data": {
      "text/html": [
       "<div>\n",
       "<style scoped>\n",
       "    .dataframe tbody tr th:only-of-type {\n",
       "        vertical-align: middle;\n",
       "    }\n",
       "\n",
       "    .dataframe tbody tr th {\n",
       "        vertical-align: top;\n",
       "    }\n",
       "\n",
       "    .dataframe thead th {\n",
       "        text-align: right;\n",
       "    }\n",
       "</style>\n",
       "<table border=\"1\" class=\"dataframe\">\n",
       "  <thead>\n",
       "    <tr style=\"text-align: right;\">\n",
       "      <th></th>\n",
       "      <th>Language</th>\n",
       "      <th>Native speakers(millions)</th>\n",
       "      <th>Language family</th>\n",
       "      <th>Branch</th>\n",
       "    </tr>\n",
       "  </thead>\n",
       "  <tbody>\n",
       "    <tr>\n",
       "      <th>0</th>\n",
       "      <td>Mandarin Chinese(incl. Standard Chinese, but e...</td>\n",
       "      <td>920</td>\n",
       "      <td>Sino-Tibetan</td>\n",
       "      <td>Sinitic</td>\n",
       "    </tr>\n",
       "    <tr>\n",
       "      <th>1</th>\n",
       "      <td>Spanish</td>\n",
       "      <td>475</td>\n",
       "      <td>Indo-European</td>\n",
       "      <td>Romance</td>\n",
       "    </tr>\n",
       "    <tr>\n",
       "      <th>2</th>\n",
       "      <td>English</td>\n",
       "      <td>373</td>\n",
       "      <td>Indo-European</td>\n",
       "      <td>Germanic</td>\n",
       "    </tr>\n",
       "    <tr>\n",
       "      <th>3</th>\n",
       "      <td>Hindi(excl. Urdu)</td>\n",
       "      <td>344</td>\n",
       "      <td>Indo-European</td>\n",
       "      <td>Indo-Aryan</td>\n",
       "    </tr>\n",
       "    <tr>\n",
       "      <th>4</th>\n",
       "      <td>Bengali</td>\n",
       "      <td>234</td>\n",
       "      <td>Indo-European</td>\n",
       "      <td>Indo-Aryan</td>\n",
       "    </tr>\n",
       "  </tbody>\n",
       "</table>\n",
       "</div>"
      ],
      "text/plain": [
       "                                            Language  \\\n",
       "0  Mandarin Chinese(incl. Standard Chinese, but e...   \n",
       "1                                            Spanish   \n",
       "2                                            English   \n",
       "3                                  Hindi(excl. Urdu)   \n",
       "4                                            Bengali   \n",
       "\n",
       "  Native speakers(millions) Language family      Branch  \n",
       "0                       920    Sino-Tibetan     Sinitic  \n",
       "1                       475   Indo-European     Romance  \n",
       "2                       373   Indo-European    Germanic  \n",
       "3                       344   Indo-European  Indo-Aryan  \n",
       "4                       234   Indo-European  Indo-Aryan  "
      ]
     },
     "execution_count": 364,
     "metadata": {},
     "output_type": "execute_result"
    }
   ],
   "source": [
    "df.head(5)"
   ]
  },
  {
   "cell_type": "code",
   "execution_count": 365,
   "metadata": {},
   "outputs": [],
   "source": [
    "df.drop(['Language family', 'Branch'], axis = 'columns', inplace=True)"
   ]
  },
  {
   "cell_type": "code",
   "execution_count": 366,
   "metadata": {},
   "outputs": [
    {
     "data": {
      "text/html": [
       "<div>\n",
       "<style scoped>\n",
       "    .dataframe tbody tr th:only-of-type {\n",
       "        vertical-align: middle;\n",
       "    }\n",
       "\n",
       "    .dataframe tbody tr th {\n",
       "        vertical-align: top;\n",
       "    }\n",
       "\n",
       "    .dataframe thead th {\n",
       "        text-align: right;\n",
       "    }\n",
       "</style>\n",
       "<table border=\"1\" class=\"dataframe\">\n",
       "  <thead>\n",
       "    <tr style=\"text-align: right;\">\n",
       "      <th></th>\n",
       "      <th>Language</th>\n",
       "      <th>Native speakers(millions)</th>\n",
       "    </tr>\n",
       "  </thead>\n",
       "  <tbody>\n",
       "    <tr>\n",
       "      <th>0</th>\n",
       "      <td>Mandarin Chinese(incl. Standard Chinese, but e...</td>\n",
       "      <td>920</td>\n",
       "    </tr>\n",
       "    <tr>\n",
       "      <th>1</th>\n",
       "      <td>Spanish</td>\n",
       "      <td>475</td>\n",
       "    </tr>\n",
       "    <tr>\n",
       "      <th>2</th>\n",
       "      <td>English</td>\n",
       "      <td>373</td>\n",
       "    </tr>\n",
       "    <tr>\n",
       "      <th>3</th>\n",
       "      <td>Hindi(excl. Urdu)</td>\n",
       "      <td>344</td>\n",
       "    </tr>\n",
       "    <tr>\n",
       "      <th>4</th>\n",
       "      <td>Bengali</td>\n",
       "      <td>234</td>\n",
       "    </tr>\n",
       "  </tbody>\n",
       "</table>\n",
       "</div>"
      ],
      "text/plain": [
       "                                            Language Native speakers(millions)\n",
       "0  Mandarin Chinese(incl. Standard Chinese, but e...                       920\n",
       "1                                            Spanish                       475\n",
       "2                                            English                       373\n",
       "3                                  Hindi(excl. Urdu)                       344\n",
       "4                                            Bengali                       234"
      ]
     },
     "execution_count": 366,
     "metadata": {},
     "output_type": "execute_result"
    }
   ],
   "source": [
    "df.head(5)"
   ]
  },
  {
   "cell_type": "markdown",
   "metadata": {},
   "source": [
    "### BONUS QUESTIONS"
   ]
  },
  {
   "cell_type": "markdown",
   "metadata": {},
   "source": [
    "#### Scrape a certain number of tweets of a given Twitter account."
   ]
  },
  {
   "cell_type": "code",
   "execution_count": null,
   "metadata": {},
   "outputs": [],
   "source": [
    "# This is the url you will scrape in this exercise \n",
    "# You will need to add the account credentials to this url\n",
    "url = 'https://twitter.com/'"
   ]
  },
  {
   "cell_type": "code",
   "execution_count": null,
   "metadata": {},
   "outputs": [],
   "source": [
    "# your code"
   ]
  },
  {
   "cell_type": "markdown",
   "metadata": {},
   "source": [
    "#### IMDB's Top 250 data (movie name, Initial release, director name and stars) as a pandas dataframe"
   ]
  },
  {
   "cell_type": "code",
   "execution_count": null,
   "metadata": {},
   "outputs": [],
   "source": [
    "# This is the url you will scrape in this exercise \n",
    "url = 'https://www.imdb.com/chart/top'"
   ]
  },
  {
   "cell_type": "code",
   "execution_count": null,
   "metadata": {},
   "outputs": [],
   "source": [
    "# your code"
   ]
  },
  {
   "cell_type": "markdown",
   "metadata": {},
   "source": [
    "#### Movie name, year and a brief summary of the top 10 random movies (IMDB) as a pandas dataframe."
   ]
  },
  {
   "cell_type": "code",
   "execution_count": null,
   "metadata": {},
   "outputs": [],
   "source": [
    "#This is the url you will scrape in this exercise\n",
    "url = 'http://www.imdb.com/chart/top'"
   ]
  },
  {
   "cell_type": "code",
   "execution_count": null,
   "metadata": {},
   "outputs": [],
   "source": [
    "#your code"
   ]
  },
  {
   "cell_type": "markdown",
   "metadata": {},
   "source": [
    "#### Find the live weather report (temperature, wind speed, description and weather) of a given city."
   ]
  },
  {
   "cell_type": "code",
   "execution_count": null,
   "metadata": {},
   "outputs": [],
   "source": [
    "#https://openweathermap.org/current\n",
    "city = city=input('Enter the city:')\n",
    "url = 'http://api.openweathermap.org/data/2.5/weather?'+'q='+city+'&APPID=b35975e18dc93725acb092f7272cc6b8&units=metric'"
   ]
  },
  {
   "cell_type": "code",
   "execution_count": null,
   "metadata": {},
   "outputs": [],
   "source": [
    "# your code"
   ]
  },
  {
   "cell_type": "markdown",
   "metadata": {},
   "source": [
    "#### Book name,price and stock availability as a pandas dataframe."
   ]
  },
  {
   "cell_type": "code",
   "execution_count": null,
   "metadata": {},
   "outputs": [],
   "source": [
    "# This is the url you will scrape in this exercise. \n",
    "# It is a fictional bookstore created to be scraped. \n",
    "url = 'http://books.toscrape.com/'"
   ]
  },
  {
   "cell_type": "code",
   "execution_count": null,
   "metadata": {},
   "outputs": [],
   "source": [
    "#your code"
   ]
  }
 ],
 "metadata": {
  "kernelspec": {
   "display_name": "Python 3 (ipykernel)",
   "language": "python",
   "name": "python3"
  },
  "language_info": {
   "codemirror_mode": {
    "name": "ipython",
    "version": 3
   },
   "file_extension": ".py",
   "mimetype": "text/x-python",
   "name": "python",
   "nbconvert_exporter": "python",
   "pygments_lexer": "ipython3",
   "version": "3.9.12"
  }
 },
 "nbformat": 4,
 "nbformat_minor": 2
}
