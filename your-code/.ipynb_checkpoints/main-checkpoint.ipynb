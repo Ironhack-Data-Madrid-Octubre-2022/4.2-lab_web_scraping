{
 "cells": [
  {
   "cell_type": "markdown",
   "metadata": {},
   "source": [
    "# Web Scraping Lab\n",
    "\n",
    "You will find in this notebook some scrapy exercises to practise your scraping skills.\n",
    "\n",
    "**Tips:**\n",
    "\n",
    "- Check the response status code for each request to ensure you have obtained the intended contennt.\n",
    "- Print the response text in each request to understand the kind of info you are getting and its format.\n",
    "- Check for patterns in the response text to extract the data/info requested in each question.\n",
    "- Visit each url and take a look at its source through Chrome DevTools. You'll need to identify the html tags, special class names etc. used for the html content you are expected to extract."
   ]
  },
  {
   "cell_type": "markdown",
   "metadata": {},
   "source": [
    "- [Requests library](http://docs.python-requests.org/en/master/#the-user-guide) documentation \n",
    "- [Beautiful Soup Doc](https://www.crummy.com/software/BeautifulSoup/bs4/doc/)\n",
    "- [Urllib](https://docs.python.org/3/library/urllib.html#module-urllib)\n",
    "- [re lib](https://docs.python.org/3/library/re.html)\n",
    "- [lxml lib](https://lxml.de/)\n",
    "- [Scrapy](https://scrapy.org/)\n",
    "- [List of HTTP status codes](https://en.wikipedia.org/wiki/List_of_HTTP_status_codes)\n",
    "- [HTML basics](http://www.simplehtmlguide.com/cheatsheet.php)\n",
    "- [CSS basics](https://www.cssbasics.com/#page_start)"
   ]
  },
  {
   "cell_type": "markdown",
   "metadata": {},
   "source": [
    "#### Below are the libraries and modules you may need. `requests`,  `BeautifulSoup` and `pandas` are imported for you. If you prefer to use additional libraries feel free to uncomment them."
   ]
  },
  {
   "cell_type": "code",
   "execution_count": 1,
   "metadata": {},
   "outputs": [
    {
     "name": "stdout",
     "output_type": "stream",
     "text": [
      "Requirement already satisfied: beautifulsoup4 in c:\\users\\nonito\\anaconda3\\lib\\site-packages (4.11.1)\n",
      "Requirement already satisfied: soupsieve>1.2 in c:\\users\\nonito\\anaconda3\\lib\\site-packages (from beautifulsoup4) (2.3.1)\n",
      "Note: you may need to restart the kernel to use updated packages.\n"
     ]
    }
   ],
   "source": [
    "%pip install beautifulsoup4"
   ]
  },
  {
   "cell_type": "code",
   "execution_count": 2,
   "metadata": {},
   "outputs": [],
   "source": [
    "import requests as req\n",
    "from bs4 import BeautifulSoup as bs\n",
    "import pandas as pd\n",
    "# from pprint import pprint\n",
    "# from lxml import html\n",
    "# from lxml.html import fromstring\n",
    "# import urllib.request\n",
    "# from urllib.request import urlopen\n",
    "# import random\n",
    "# import re\n",
    "# import scrapy"
   ]
  },
  {
   "cell_type": "markdown",
   "metadata": {},
   "source": [
    "#### Download, parse (using BeautifulSoup), and print the content from the Trending Developers page from GitHub:"
   ]
  },
  {
   "cell_type": "code",
   "execution_count": 3,
   "metadata": {},
   "outputs": [],
   "source": [
    "# This is the url you will scrape in this exercise\n",
    "url = 'https://github.com/trending/developers'"
   ]
  },
  {
   "cell_type": "code",
   "execution_count": 4,
   "metadata": {},
   "outputs": [],
   "source": [
    "html=req.get(url).text\n",
    "\n",
    "sopa=bs(html, 'html.parser')"
   ]
  },
  {
   "cell_type": "code",
   "execution_count": 5,
   "metadata": {},
   "outputs": [],
   "source": [
    "#sopa"
   ]
  },
  {
   "cell_type": "markdown",
   "metadata": {},
   "source": [
    "#### Display the names of the trending developers retrieved in the previous step.\n",
    "\n",
    "Your output should be a Python list of developer names. Each name should not contain any html tag.\n",
    "\n",
    "**Instructions:**\n",
    "\n",
    "1. Find out the html tag and class names used for the developer names. You can achieve this using Chrome DevTools.\n",
    "\n",
    "1. Use BeautifulSoup to extract all the html elements that contain the developer names.\n",
    "\n",
    "1. Use string manipulation techniques to replace whitespaces and linebreaks (i.e. `\\n`) in the *text* of each html element. Use a list to store the clean names.\n",
    "\n",
    "1. Print the list of names.\n",
    "\n",
    "Your output should look like below:\n",
    "\n",
    "```\n",
    "['trimstray (@trimstray)',\n",
    " 'joewalnes (JoeWalnes)',\n",
    " 'charlax (Charles-AxelDein)',\n",
    " 'ForrestKnight (ForrestKnight)',\n",
    " 'revery-ui (revery-ui)',\n",
    " 'alibaba (Alibaba)',\n",
    " 'Microsoft (Microsoft)',\n",
    " 'github (GitHub)',\n",
    " 'facebook (Facebook)',\n",
    " 'boazsegev (Bo)',\n",
    " 'google (Google)',\n",
    " 'cloudfetch',\n",
    " 'sindresorhus (SindreSorhus)',\n",
    " 'tensorflow',\n",
    " 'apache (TheApacheSoftwareFoundation)',\n",
    " 'DevonCrawford (DevonCrawford)',\n",
    " 'ARMmbed (ArmMbed)',\n",
    " 'vuejs (vuejs)',\n",
    " 'fastai (fast.ai)',\n",
    " 'QiShaoXuan (Qi)',\n",
    " 'joelparkerhenderson (JoelParkerHenderson)',\n",
    " 'torvalds (LinusTorvalds)',\n",
    " 'CyC2018',\n",
    " 'komeiji-satori (神楽坂覚々)',\n",
    " 'script-8']\n",
    " ```"
   ]
  },
  {
   "cell_type": "code",
   "execution_count": 6,
   "metadata": {},
   "outputs": [],
   "source": [
    "trend=sopa.find_all('article', class_='Box-row d-flex')"
   ]
  },
  {
   "cell_type": "code",
   "execution_count": 7,
   "metadata": {},
   "outputs": [
    {
     "data": {
      "text/plain": [
       "[<article class=\"Box-row d-flex\" id=\"pa-emilk\">\n",
       " <a class=\"color-fg-muted f6\" data-view-component=\"true\" href=\"#pa-emilk\" style=\"width: 16px;\" text=\"center\">\n",
       "     1\n",
       " </a>\n",
       " <div class=\"mx-3\">\n",
       " <a data-hydro-click='{\"event_type\":\"explore.click\",\"payload\":{\"click_context\":\"TRENDING_DEVELOPERS_PAGE\",\"click_target\":\"OWNER\",\"click_visual_representation\":\"TRENDING_DEVELOPER\",\"actor_id\":null,\"record_id\":1148717,\"originating_url\":\"https://github.com/trending/developers\",\"user_id\":null}}' data-hydro-click-hmac=\"e63714fba102c81161256026f733701b107c533357596fd3a9b8b0ccdb58acba\" data-view-component=\"true\" href=\"/emilk\">\n",
       " <img alt=\"@emilk\" class=\"rounded avatar-user\" height=\"48\" src=\"https://avatars.githubusercontent.com/u/1148717?s=96&amp;v=4\" width=\"48\">\n",
       " </img></a> </div>\n",
       " <div class=\"d-sm-flex flex-auto\">\n",
       " <div class=\"col-sm-8 d-md-flex\">\n",
       " <div class=\"col-md-6\">\n",
       " <h1 class=\"h3 lh-condensed\">\n",
       " <a data-hydro-click='{\"event_type\":\"explore.click\",\"payload\":{\"click_context\":\"TRENDING_DEVELOPERS_PAGE\",\"click_target\":\"OWNER\",\"click_visual_representation\":\"TRENDING_DEVELOPER\",\"actor_id\":null,\"record_id\":1148717,\"originating_url\":\"https://github.com/trending/developers\",\"user_id\":null}}' data-hydro-click-hmac=\"e63714fba102c81161256026f733701b107c533357596fd3a9b8b0ccdb58acba\" data-view-component=\"true\" href=\"/emilk\">\n",
       "             Emil Ernerfeldt\n",
       " </a> </h1>\n",
       " <p class=\"f4 text-normal mb-1\">\n",
       " <a class=\"Link--secondary\" data-hydro-click='{\"event_type\":\"explore.click\",\"payload\":{\"click_context\":\"TRENDING_DEVELOPERS_PAGE\",\"click_target\":\"OWNER\",\"click_visual_representation\":\"TRENDING_DEVELOPER\",\"actor_id\":null,\"record_id\":1148717,\"originating_url\":\"https://github.com/trending/developers\",\"user_id\":null}}' data-hydro-click-hmac=\"e63714fba102c81161256026f733701b107c533357596fd3a9b8b0ccdb58acba\" data-view-component=\"true\" href=\"/emilk\">\n",
       "               emilk\n",
       " </a> </p>\n",
       " </div>\n",
       " <div class=\"col-md-6\">\n",
       " <div class=\"mt-2 mb-3 my-md-0\">\n",
       " <article>\n",
       " <div class=\"f6 color-fg-muted text-uppercase mb-1\"><svg aria-hidden=\"true\" class=\"octicon octicon-flame mr-1 color-fg-severe\" data-view-component=\"true\" height=\"16\" version=\"1.1\" viewbox=\"0 0 16 16\" width=\"16\">\n",
       " <path d=\"M7.998 14.5c2.832 0 5-1.98 5-4.5 0-1.463-.68-2.19-1.879-3.383l-.036-.037c-1.013-1.008-2.3-2.29-2.834-4.434-.322.256-.63.579-.864.953-.432.696-.621 1.58-.046 2.73.473.947.67 2.284-.278 3.232-.61.61-1.545.84-2.403.633a2.788 2.788 0 01-1.436-.874A3.21 3.21 0 003 10c0 2.53 2.164 4.5 4.998 4.5zM9.533.753C9.496.34 9.16.009 8.77.146 7.035.75 4.34 3.187 5.997 6.5c.344.689.285 1.218.003 1.5-.419.419-1.54.487-2.04-.832-.173-.454-.659-.762-1.035-.454C2.036 7.44 1.5 8.702 1.5 10c0 3.512 2.998 6 6.498 6s6.5-2.5 6.5-6c0-2.137-1.128-3.26-2.312-4.438-1.19-1.184-2.436-2.425-2.653-4.81z\" fill-rule=\"evenodd\"></path>\n",
       " </svg>Popular repo</div>\n",
       " <h1 class=\"h4 lh-condensed\">\n",
       " <a class=\"css-truncate css-truncate-target\" data-ga-click=\"Explore, go to repository, location:trending developers\" data-hydro-click='{\"event_type\":\"explore.click\",\"payload\":{\"click_context\":\"TRENDING_DEVELOPERS_PAGE\",\"click_target\":\"REPOSITORY\",\"click_visual_representation\":\"REPOSITORY_NAME_HEADING\",\"actor_id\":null,\"record_id\":165522651,\"originating_url\":\"https://github.com/trending/developers\",\"user_id\":null}}' data-hydro-click-hmac=\"251c7db7ff7c50186de5de8d92229644f18a153066984b99dfade6a4de4cd585\" data-view-component=\"true\" href=\"/emilk/egui\" style=\"max-width: 175px;\">\n",
       " <svg aria-hidden=\"true\" class=\"octicon octicon-repo color-fg-muted mr-1\" data-view-component=\"true\" height=\"16\" version=\"1.1\" viewbox=\"0 0 16 16\" width=\"16\">\n",
       " <path d=\"M2 2.5A2.5 2.5 0 014.5 0h8.75a.75.75 0 01.75.75v12.5a.75.75 0 01-.75.75h-2.5a.75.75 0 110-1.5h1.75v-2h-8a1 1 0 00-.714 1.7.75.75 0 01-1.072 1.05A2.495 2.495 0 012 11.5v-9zm10.5-1V9h-8c-.356 0-.694.074-1 .208V2.5a1 1 0 011-1h8zM5 12.25v3.25a.25.25 0 00.4.2l1.45-1.087a.25.25 0 01.3 0L8.6 15.7a.25.25 0 00.4-.2v-3.25a.25.25 0 00-.25-.25h-3.5a.25.25 0 00-.25.25z\" fill-rule=\"evenodd\"></path>\n",
       " </svg>\n",
       "       egui\n",
       " </a> </h1>\n",
       " <div class=\"f6 color-fg-muted mt-1\">\n",
       "       egui: an easy-to-use immediate mode GUI in Rust that runs on both web and native\n",
       "     </div>\n",
       " </article>\n",
       " </div>\n",
       " </div>\n",
       " </div>\n",
       " <div class=\"col-sm-4 d-flex flex-sm-justify-end ml-sm-3\">\n",
       " <div class=\"user-profile-following-container\">\n",
       " <div class=\"user-following-container\">\n",
       " <span class=\"user-following-container\">\n",
       " <span class=\"follow d-block\">\n",
       " <a class=\"btn btn-sm btn-block\" data-hydro-click='{\"event_type\":\"authentication.click\",\"payload\":{\"location_in_page\":\"follow button\",\"repository_id\":null,\"auth_type\":\"LOG_IN\",\"originating_url\":\"https://github.com/trending/developers\",\"user_id\":null}}' data-hydro-click-hmac=\"758ca9b951a863373b9dca2759329881977e0c89c5a5b03c5cc5efdefcb67f4a\" href=\"/login?return_to=https%3A%2F%2Fgithub.com%2Ftrending%2Fdevelopers\">Follow</a>\n",
       " </span>\n",
       " </span>\n",
       " </div>\n",
       " </div>\n",
       " </div>\n",
       " </div>\n",
       " </article>,\n",
       " <article class=\"Box-row d-flex\" id=\"pa-earlephilhower\">\n",
       " <a class=\"color-fg-muted f6\" data-view-component=\"true\" href=\"#pa-earlephilhower\" style=\"width: 16px;\" text=\"center\">\n",
       "     2\n",
       " </a>\n",
       " <div class=\"mx-3\">\n",
       " <a data-hydro-click='{\"event_type\":\"explore.click\",\"payload\":{\"click_context\":\"TRENDING_DEVELOPERS_PAGE\",\"click_target\":\"OWNER\",\"click_visual_representation\":\"TRENDING_DEVELOPER\",\"actor_id\":null,\"record_id\":11875,\"originating_url\":\"https://github.com/trending/developers\",\"user_id\":null}}' data-hydro-click-hmac=\"7418ce1c6b92d344ba71dffc35308095c8adce52909d446cb343377413f07831\" data-view-component=\"true\" href=\"/earlephilhower\">\n",
       " <img alt=\"@earlephilhower\" class=\"rounded avatar-user\" height=\"48\" src=\"https://avatars.githubusercontent.com/u/11875?s=96&amp;v=4\" width=\"48\">\n",
       " </img></a> </div>\n",
       " <div class=\"d-sm-flex flex-auto\">\n",
       " <div class=\"col-sm-8 d-md-flex\">\n",
       " <div class=\"col-md-6\">\n",
       " <h1 class=\"h3 lh-condensed\">\n",
       " <a data-hydro-click='{\"event_type\":\"explore.click\",\"payload\":{\"click_context\":\"TRENDING_DEVELOPERS_PAGE\",\"click_target\":\"OWNER\",\"click_visual_representation\":\"TRENDING_DEVELOPER\",\"actor_id\":null,\"record_id\":11875,\"originating_url\":\"https://github.com/trending/developers\",\"user_id\":null}}' data-hydro-click-hmac=\"7418ce1c6b92d344ba71dffc35308095c8adce52909d446cb343377413f07831\" data-view-component=\"true\" href=\"/earlephilhower\">\n",
       "             Earle F. Philhower, III\n",
       " </a> </h1>\n",
       " <p class=\"f4 text-normal mb-1\">\n",
       " <a class=\"Link--secondary\" data-hydro-click='{\"event_type\":\"explore.click\",\"payload\":{\"click_context\":\"TRENDING_DEVELOPERS_PAGE\",\"click_target\":\"OWNER\",\"click_visual_representation\":\"TRENDING_DEVELOPER\",\"actor_id\":null,\"record_id\":11875,\"originating_url\":\"https://github.com/trending/developers\",\"user_id\":null}}' data-hydro-click-hmac=\"7418ce1c6b92d344ba71dffc35308095c8adce52909d446cb343377413f07831\" data-view-component=\"true\" href=\"/earlephilhower\">\n",
       "               earlephilhower\n",
       " </a> </p>\n",
       " </div>\n",
       " <div class=\"col-md-6\">\n",
       " <div class=\"mt-2 mb-3 my-md-0\">\n",
       " <article>\n",
       " <div class=\"f6 color-fg-muted text-uppercase mb-1\"><svg aria-hidden=\"true\" class=\"octicon octicon-flame mr-1 color-fg-severe\" data-view-component=\"true\" height=\"16\" version=\"1.1\" viewbox=\"0 0 16 16\" width=\"16\">\n",
       " <path d=\"M7.998 14.5c2.832 0 5-1.98 5-4.5 0-1.463-.68-2.19-1.879-3.383l-.036-.037c-1.013-1.008-2.3-2.29-2.834-4.434-.322.256-.63.579-.864.953-.432.696-.621 1.58-.046 2.73.473.947.67 2.284-.278 3.232-.61.61-1.545.84-2.403.633a2.788 2.788 0 01-1.436-.874A3.21 3.21 0 003 10c0 2.53 2.164 4.5 4.998 4.5zM9.533.753C9.496.34 9.16.009 8.77.146 7.035.75 4.34 3.187 5.997 6.5c.344.689.285 1.218.003 1.5-.419.419-1.54.487-2.04-.832-.173-.454-.659-.762-1.035-.454C2.036 7.44 1.5 8.702 1.5 10c0 3.512 2.998 6 6.498 6s6.5-2.5 6.5-6c0-2.137-1.128-3.26-2.312-4.438-1.19-1.184-2.436-2.425-2.653-4.81z\" fill-rule=\"evenodd\"></path>\n",
       " </svg>Popular repo</div>\n",
       " <h1 class=\"h4 lh-condensed\">\n",
       " <a class=\"css-truncate css-truncate-target\" data-ga-click=\"Explore, go to repository, location:trending developers\" data-hydro-click='{\"event_type\":\"explore.click\",\"payload\":{\"click_context\":\"TRENDING_DEVELOPERS_PAGE\",\"click_target\":\"REPOSITORY\",\"click_visual_representation\":\"REPOSITORY_NAME_HEADING\",\"actor_id\":null,\"record_id\":342120988,\"originating_url\":\"https://github.com/trending/developers\",\"user_id\":null}}' data-hydro-click-hmac=\"4184dca038566c839d6e7d8b75a3322ffd6f7e1918c57edb29a4fa9b89d84081\" data-view-component=\"true\" href=\"/earlephilhower/arduino-pico\" style=\"max-width: 175px;\">\n",
       " <svg aria-hidden=\"true\" class=\"octicon octicon-repo color-fg-muted mr-1\" data-view-component=\"true\" height=\"16\" version=\"1.1\" viewbox=\"0 0 16 16\" width=\"16\">\n",
       " <path d=\"M2 2.5A2.5 2.5 0 014.5 0h8.75a.75.75 0 01.75.75v12.5a.75.75 0 01-.75.75h-2.5a.75.75 0 110-1.5h1.75v-2h-8a1 1 0 00-.714 1.7.75.75 0 01-1.072 1.05A2.495 2.495 0 012 11.5v-9zm10.5-1V9h-8c-.356 0-.694.074-1 .208V2.5a1 1 0 011-1h8zM5 12.25v3.25a.25.25 0 00.4.2l1.45-1.087a.25.25 0 01.3 0L8.6 15.7a.25.25 0 00.4-.2v-3.25a.25.25 0 00-.25-.25h-3.5a.25.25 0 00-.25.25z\" fill-rule=\"evenodd\"></path>\n",
       " </svg>\n",
       "       arduino-pico\n",
       " </a> </h1>\n",
       " <div class=\"f6 color-fg-muted mt-1\">\n",
       "       Raspberry Pi Pico Arduino core, for all RP2040 boards\n",
       "     </div>\n",
       " </article>\n",
       " </div>\n",
       " </div>\n",
       " </div>\n",
       " <div class=\"col-sm-4 d-flex flex-sm-justify-end ml-sm-3\">\n",
       " <div class=\"user-profile-following-container\">\n",
       " <div class=\"user-following-container\">\n",
       " <span class=\"user-following-container\">\n",
       " <span class=\"follow d-block\">\n",
       " <a class=\"btn btn-sm btn-block\" data-hydro-click='{\"event_type\":\"authentication.click\",\"payload\":{\"location_in_page\":\"follow button\",\"repository_id\":null,\"auth_type\":\"LOG_IN\",\"originating_url\":\"https://github.com/trending/developers\",\"user_id\":null}}' data-hydro-click-hmac=\"758ca9b951a863373b9dca2759329881977e0c89c5a5b03c5cc5efdefcb67f4a\" href=\"/login?return_to=https%3A%2F%2Fgithub.com%2Ftrending%2Fdevelopers\">Follow</a>\n",
       " </span>\n",
       " </span>\n",
       " </div>\n",
       " </div>\n",
       " </div>\n",
       " </div>\n",
       " </article>,\n",
       " <article class=\"Box-row d-flex\" id=\"pa-sobolevn\">\n",
       " <a class=\"color-fg-muted f6\" data-view-component=\"true\" href=\"#pa-sobolevn\" style=\"width: 16px;\" text=\"center\">\n",
       "     3\n",
       " </a>\n",
       " <div class=\"mx-3\">\n",
       " <a data-hydro-click='{\"event_type\":\"explore.click\",\"payload\":{\"click_context\":\"TRENDING_DEVELOPERS_PAGE\",\"click_target\":\"OWNER\",\"click_visual_representation\":\"TRENDING_DEVELOPER\",\"actor_id\":null,\"record_id\":4660275,\"originating_url\":\"https://github.com/trending/developers\",\"user_id\":null}}' data-hydro-click-hmac=\"71515a6198349161f1388602de97ec09f127095bae7bf3100180bb143d589b7d\" data-view-component=\"true\" href=\"/sobolevn\">\n",
       " <img alt=\"@sobolevn\" class=\"rounded avatar-user\" height=\"48\" src=\"https://avatars.githubusercontent.com/u/4660275?s=96&amp;v=4\" width=\"48\">\n",
       " </img></a> </div>\n",
       " <div class=\"d-sm-flex flex-auto\">\n",
       " <div class=\"col-sm-8 d-md-flex\">\n",
       " <div class=\"col-md-6\">\n",
       " <h1 class=\"h3 lh-condensed\">\n",
       " <a data-hydro-click='{\"event_type\":\"explore.click\",\"payload\":{\"click_context\":\"TRENDING_DEVELOPERS_PAGE\",\"click_target\":\"OWNER\",\"click_visual_representation\":\"TRENDING_DEVELOPER\",\"actor_id\":null,\"record_id\":4660275,\"originating_url\":\"https://github.com/trending/developers\",\"user_id\":null}}' data-hydro-click-hmac=\"71515a6198349161f1388602de97ec09f127095bae7bf3100180bb143d589b7d\" data-view-component=\"true\" href=\"/sobolevn\">\n",
       "             Nikita Sobolev\n",
       " </a> </h1>\n",
       " <p class=\"f4 text-normal mb-1\">\n",
       " <a class=\"Link--secondary\" data-hydro-click='{\"event_type\":\"explore.click\",\"payload\":{\"click_context\":\"TRENDING_DEVELOPERS_PAGE\",\"click_target\":\"OWNER\",\"click_visual_representation\":\"TRENDING_DEVELOPER\",\"actor_id\":null,\"record_id\":4660275,\"originating_url\":\"https://github.com/trending/developers\",\"user_id\":null}}' data-hydro-click-hmac=\"71515a6198349161f1388602de97ec09f127095bae7bf3100180bb143d589b7d\" data-view-component=\"true\" href=\"/sobolevn\">\n",
       "               sobolevn\n",
       " </a> </p>\n",
       " </div>\n",
       " <div class=\"col-md-6\">\n",
       " <div class=\"mt-2 mb-3 my-md-0\">\n",
       " <article>\n",
       " <div class=\"f6 color-fg-muted text-uppercase mb-1\"><svg aria-hidden=\"true\" class=\"octicon octicon-flame mr-1 color-fg-severe\" data-view-component=\"true\" height=\"16\" version=\"1.1\" viewbox=\"0 0 16 16\" width=\"16\">\n",
       " <path d=\"M7.998 14.5c2.832 0 5-1.98 5-4.5 0-1.463-.68-2.19-1.879-3.383l-.036-.037c-1.013-1.008-2.3-2.29-2.834-4.434-.322.256-.63.579-.864.953-.432.696-.621 1.58-.046 2.73.473.947.67 2.284-.278 3.232-.61.61-1.545.84-2.403.633a2.788 2.788 0 01-1.436-.874A3.21 3.21 0 003 10c0 2.53 2.164 4.5 4.998 4.5zM9.533.753C9.496.34 9.16.009 8.77.146 7.035.75 4.34 3.187 5.997 6.5c.344.689.285 1.218.003 1.5-.419.419-1.54.487-2.04-.832-.173-.454-.659-.762-1.035-.454C2.036 7.44 1.5 8.702 1.5 10c0 3.512 2.998 6 6.498 6s6.5-2.5 6.5-6c0-2.137-1.128-3.26-2.312-4.438-1.19-1.184-2.436-2.425-2.653-4.81z\" fill-rule=\"evenodd\"></path>\n",
       " </svg>Popular repo</div>\n",
       " <h1 class=\"h4 lh-condensed\">\n",
       " <a class=\"css-truncate css-truncate-target\" data-ga-click=\"Explore, go to repository, location:trending developers\" data-hydro-click='{\"event_type\":\"explore.click\",\"payload\":{\"click_context\":\"TRENDING_DEVELOPERS_PAGE\",\"click_target\":\"REPOSITORY\",\"click_visual_representation\":\"REPOSITORY_NAME_HEADING\",\"actor_id\":null,\"record_id\":59573221,\"originating_url\":\"https://github.com/trending/developers\",\"user_id\":null}}' data-hydro-click-hmac=\"50d68b217b2bc6dd15cfca0e3f56da97060195f39ec54e688f656c850424016d\" data-view-component=\"true\" href=\"/sobolevn/awesome-cryptography\" style=\"max-width: 175px;\">\n",
       " <svg aria-hidden=\"true\" class=\"octicon octicon-repo color-fg-muted mr-1\" data-view-component=\"true\" height=\"16\" version=\"1.1\" viewbox=\"0 0 16 16\" width=\"16\">\n",
       " <path d=\"M2 2.5A2.5 2.5 0 014.5 0h8.75a.75.75 0 01.75.75v12.5a.75.75 0 01-.75.75h-2.5a.75.75 0 110-1.5h1.75v-2h-8a1 1 0 00-.714 1.7.75.75 0 01-1.072 1.05A2.495 2.495 0 012 11.5v-9zm10.5-1V9h-8c-.356 0-.694.074-1 .208V2.5a1 1 0 011-1h8zM5 12.25v3.25a.25.25 0 00.4.2l1.45-1.087a.25.25 0 01.3 0L8.6 15.7a.25.25 0 00.4-.2v-3.25a.25.25 0 00-.25-.25h-3.5a.25.25 0 00-.25.25z\" fill-rule=\"evenodd\"></path>\n",
       " </svg>\n",
       "       awesome-cryptography\n",
       " </a> </h1>\n",
       " <div class=\"f6 color-fg-muted mt-1\">\n",
       "       A curated list of cryptography resources and links.\n",
       "     </div>\n",
       " </article>\n",
       " </div>\n",
       " </div>\n",
       " </div>\n",
       " <div class=\"col-sm-4 d-flex flex-sm-justify-end ml-sm-3\">\n",
       " <div class=\"user-profile-following-container\">\n",
       " <div class=\"user-following-container\">\n",
       " <span class=\"user-following-container\">\n",
       " <span class=\"follow d-block\">\n",
       " <a class=\"btn btn-sm btn-block\" data-hydro-click='{\"event_type\":\"authentication.click\",\"payload\":{\"location_in_page\":\"follow button\",\"repository_id\":null,\"auth_type\":\"LOG_IN\",\"originating_url\":\"https://github.com/trending/developers\",\"user_id\":null}}' data-hydro-click-hmac=\"758ca9b951a863373b9dca2759329881977e0c89c5a5b03c5cc5efdefcb67f4a\" href=\"/login?return_to=https%3A%2F%2Fgithub.com%2Ftrending%2Fdevelopers\">Follow</a>\n",
       " </span>\n",
       " </span>\n",
       " </div>\n",
       " </div>\n",
       " </div>\n",
       " </div>\n",
       " </article>,\n",
       " <article class=\"Box-row d-flex\" id=\"pa-stephencelis\">\n",
       " <a class=\"color-fg-muted f6\" data-view-component=\"true\" href=\"#pa-stephencelis\" style=\"width: 16px;\" text=\"center\">\n",
       "     4\n",
       " </a>\n",
       " <div class=\"mx-3\">\n",
       " <a data-hydro-click='{\"event_type\":\"explore.click\",\"payload\":{\"click_context\":\"TRENDING_DEVELOPERS_PAGE\",\"click_target\":\"OWNER\",\"click_visual_representation\":\"TRENDING_DEVELOPER\",\"actor_id\":null,\"record_id\":658,\"originating_url\":\"https://github.com/trending/developers\",\"user_id\":null}}' data-hydro-click-hmac=\"b93145e1c261a54285dd751bc9aa5f7f1a625eb911913ffaeec9c7dafd0966ed\" data-view-component=\"true\" href=\"/stephencelis\">\n",
       " <img alt=\"@stephencelis\" class=\"rounded avatar-user\" height=\"48\" src=\"https://avatars.githubusercontent.com/u/658?s=96&amp;v=4\" width=\"48\">\n",
       " </img></a> </div>\n",
       " <div class=\"d-sm-flex flex-auto\">\n",
       " <div class=\"col-sm-8 d-md-flex\">\n",
       " <div class=\"col-md-6\">\n",
       " <h1 class=\"h3 lh-condensed\">\n",
       " <a data-hydro-click='{\"event_type\":\"explore.click\",\"payload\":{\"click_context\":\"TRENDING_DEVELOPERS_PAGE\",\"click_target\":\"OWNER\",\"click_visual_representation\":\"TRENDING_DEVELOPER\",\"actor_id\":null,\"record_id\":658,\"originating_url\":\"https://github.com/trending/developers\",\"user_id\":null}}' data-hydro-click-hmac=\"b93145e1c261a54285dd751bc9aa5f7f1a625eb911913ffaeec9c7dafd0966ed\" data-view-component=\"true\" href=\"/stephencelis\">\n",
       "             Stephen Celis\n",
       " </a> </h1>\n",
       " <p class=\"f4 text-normal mb-1\">\n",
       " <a class=\"Link--secondary\" data-hydro-click='{\"event_type\":\"explore.click\",\"payload\":{\"click_context\":\"TRENDING_DEVELOPERS_PAGE\",\"click_target\":\"OWNER\",\"click_visual_representation\":\"TRENDING_DEVELOPER\",\"actor_id\":null,\"record_id\":658,\"originating_url\":\"https://github.com/trending/developers\",\"user_id\":null}}' data-hydro-click-hmac=\"b93145e1c261a54285dd751bc9aa5f7f1a625eb911913ffaeec9c7dafd0966ed\" data-view-component=\"true\" href=\"/stephencelis\">\n",
       "               stephencelis\n",
       " </a> </p>\n",
       " </div>\n",
       " <div class=\"col-md-6\">\n",
       " <div class=\"mt-2 mb-3 my-md-0\">\n",
       " <article>\n",
       " <div class=\"f6 color-fg-muted text-uppercase mb-1\"><svg aria-hidden=\"true\" class=\"octicon octicon-flame mr-1 color-fg-severe\" data-view-component=\"true\" height=\"16\" version=\"1.1\" viewbox=\"0 0 16 16\" width=\"16\">\n",
       " <path d=\"M7.998 14.5c2.832 0 5-1.98 5-4.5 0-1.463-.68-2.19-1.879-3.383l-.036-.037c-1.013-1.008-2.3-2.29-2.834-4.434-.322.256-.63.579-.864.953-.432.696-.621 1.58-.046 2.73.473.947.67 2.284-.278 3.232-.61.61-1.545.84-2.403.633a2.788 2.788 0 01-1.436-.874A3.21 3.21 0 003 10c0 2.53 2.164 4.5 4.998 4.5zM9.533.753C9.496.34 9.16.009 8.77.146 7.035.75 4.34 3.187 5.997 6.5c.344.689.285 1.218.003 1.5-.419.419-1.54.487-2.04-.832-.173-.454-.659-.762-1.035-.454C2.036 7.44 1.5 8.702 1.5 10c0 3.512 2.998 6 6.498 6s6.5-2.5 6.5-6c0-2.137-1.128-3.26-2.312-4.438-1.19-1.184-2.436-2.425-2.653-4.81z\" fill-rule=\"evenodd\"></path>\n",
       " </svg>Popular repo</div>\n",
       " <h1 class=\"h4 lh-condensed\">\n",
       " <a class=\"css-truncate css-truncate-target\" data-ga-click=\"Explore, go to repository, location:trending developers\" data-hydro-click='{\"event_type\":\"explore.click\",\"payload\":{\"click_context\":\"TRENDING_DEVELOPERS_PAGE\",\"click_target\":\"REPOSITORY\",\"click_visual_representation\":\"REPOSITORY_NAME_HEADING\",\"actor_id\":null,\"record_id\":24797553,\"originating_url\":\"https://github.com/trending/developers\",\"user_id\":null}}' data-hydro-click-hmac=\"ff784783ad51691a4db0d4558c99dbdb5185dffaf9b73dfd860bbc4d358e608b\" data-view-component=\"true\" href=\"/stephencelis/SQLite.swift\" style=\"max-width: 175px;\">\n",
       " <svg aria-hidden=\"true\" class=\"octicon octicon-repo color-fg-muted mr-1\" data-view-component=\"true\" height=\"16\" version=\"1.1\" viewbox=\"0 0 16 16\" width=\"16\">\n",
       " <path d=\"M2 2.5A2.5 2.5 0 014.5 0h8.75a.75.75 0 01.75.75v12.5a.75.75 0 01-.75.75h-2.5a.75.75 0 110-1.5h1.75v-2h-8a1 1 0 00-.714 1.7.75.75 0 01-1.072 1.05A2.495 2.495 0 012 11.5v-9zm10.5-1V9h-8c-.356 0-.694.074-1 .208V2.5a1 1 0 011-1h8zM5 12.25v3.25a.25.25 0 00.4.2l1.45-1.087a.25.25 0 01.3 0L8.6 15.7a.25.25 0 00.4-.2v-3.25a.25.25 0 00-.25-.25h-3.5a.25.25 0 00-.25.25z\" fill-rule=\"evenodd\"></path>\n",
       " </svg>\n",
       "       SQLite.swift\n",
       " </a> </h1>\n",
       " <div class=\"f6 color-fg-muted mt-1\">\n",
       "       A type-safe, Swift-language layer over SQLite3.\n",
       "     </div>\n",
       " </article>\n",
       " </div>\n",
       " </div>\n",
       " </div>\n",
       " <div class=\"col-sm-4 d-flex flex-sm-justify-end ml-sm-3\">\n",
       " <div class=\"user-profile-following-container\">\n",
       " <div class=\"user-following-container\">\n",
       " <span class=\"user-following-container\">\n",
       " <span class=\"follow d-block\">\n",
       " <a class=\"btn btn-sm btn-block\" data-hydro-click='{\"event_type\":\"authentication.click\",\"payload\":{\"location_in_page\":\"follow button\",\"repository_id\":null,\"auth_type\":\"LOG_IN\",\"originating_url\":\"https://github.com/trending/developers\",\"user_id\":null}}' data-hydro-click-hmac=\"758ca9b951a863373b9dca2759329881977e0c89c5a5b03c5cc5efdefcb67f4a\" href=\"/login?return_to=https%3A%2F%2Fgithub.com%2Ftrending%2Fdevelopers\">Follow</a>\n",
       " </span>\n",
       " </span>\n",
       " </div>\n",
       " </div>\n",
       " </div>\n",
       " </div>\n",
       " </article>,\n",
       " <article class=\"Box-row d-flex\" id=\"pa-justinfagnani\">\n",
       " <a class=\"color-fg-muted f6\" data-view-component=\"true\" href=\"#pa-justinfagnani\" style=\"width: 16px;\" text=\"center\">\n",
       "     5\n",
       " </a>\n",
       " <div class=\"mx-3\">\n",
       " <a data-hydro-click='{\"event_type\":\"explore.click\",\"payload\":{\"click_context\":\"TRENDING_DEVELOPERS_PAGE\",\"click_target\":\"OWNER\",\"click_visual_representation\":\"TRENDING_DEVELOPER\",\"actor_id\":null,\"record_id\":522948,\"originating_url\":\"https://github.com/trending/developers\",\"user_id\":null}}' data-hydro-click-hmac=\"03b2aca534e3b55bfa191743f2dc3bb1652af6eb19e2c387d26f844f8640b87e\" data-view-component=\"true\" href=\"/justinfagnani\">\n",
       " <img alt=\"@justinfagnani\" class=\"rounded avatar-user\" height=\"48\" src=\"https://avatars.githubusercontent.com/u/522948?s=96&amp;v=4\" width=\"48\"/>\n",
       " </a> </div>\n",
       " <div class=\"d-sm-flex flex-auto\">\n",
       " <div class=\"col-sm-8 d-md-flex\">\n",
       " <div class=\"col-md-6\">\n",
       " <h1 class=\"h3 lh-condensed\">\n",
       " <a data-hydro-click='{\"event_type\":\"explore.click\",\"payload\":{\"click_context\":\"TRENDING_DEVELOPERS_PAGE\",\"click_target\":\"OWNER\",\"click_visual_representation\":\"TRENDING_DEVELOPER\",\"actor_id\":null,\"record_id\":522948,\"originating_url\":\"https://github.com/trending/developers\",\"user_id\":null}}' data-hydro-click-hmac=\"03b2aca534e3b55bfa191743f2dc3bb1652af6eb19e2c387d26f844f8640b87e\" data-view-component=\"true\" href=\"/justinfagnani\">\n",
       "             Justin Fagnani\n",
       " </a> </h1>\n",
       " <p class=\"f4 text-normal mb-1\">\n",
       " <a class=\"Link--secondary\" data-hydro-click='{\"event_type\":\"explore.click\",\"payload\":{\"click_context\":\"TRENDING_DEVELOPERS_PAGE\",\"click_target\":\"OWNER\",\"click_visual_representation\":\"TRENDING_DEVELOPER\",\"actor_id\":null,\"record_id\":522948,\"originating_url\":\"https://github.com/trending/developers\",\"user_id\":null}}' data-hydro-click-hmac=\"03b2aca534e3b55bfa191743f2dc3bb1652af6eb19e2c387d26f844f8640b87e\" data-view-component=\"true\" href=\"/justinfagnani\">\n",
       "               justinfagnani\n",
       " </a> </p>\n",
       " </div>\n",
       " <div class=\"col-md-6\">\n",
       " <div class=\"mt-2 mb-3 my-md-0\">\n",
       " <article>\n",
       " <div class=\"f6 color-fg-muted text-uppercase mb-1\"><svg aria-hidden=\"true\" class=\"octicon octicon-flame mr-1 color-fg-severe\" data-view-component=\"true\" height=\"16\" version=\"1.1\" viewbox=\"0 0 16 16\" width=\"16\">\n",
       " <path d=\"M7.998 14.5c2.832 0 5-1.98 5-4.5 0-1.463-.68-2.19-1.879-3.383l-.036-.037c-1.013-1.008-2.3-2.29-2.834-4.434-.322.256-.63.579-.864.953-.432.696-.621 1.58-.046 2.73.473.947.67 2.284-.278 3.232-.61.61-1.545.84-2.403.633a2.788 2.788 0 01-1.436-.874A3.21 3.21 0 003 10c0 2.53 2.164 4.5 4.998 4.5zM9.533.753C9.496.34 9.16.009 8.77.146 7.035.75 4.34 3.187 5.997 6.5c.344.689.285 1.218.003 1.5-.419.419-1.54.487-2.04-.832-.173-.454-.659-.762-1.035-.454C2.036 7.44 1.5 8.702 1.5 10c0 3.512 2.998 6 6.498 6s6.5-2.5 6.5-6c0-2.137-1.128-3.26-2.312-4.438-1.19-1.184-2.436-2.425-2.653-4.81z\" fill-rule=\"evenodd\"></path>\n",
       " </svg>Popular repo</div>\n",
       " <h1 class=\"h4 lh-condensed\">\n",
       " <a class=\"css-truncate css-truncate-target\" data-ga-click=\"Explore, go to repository, location:trending developers\" data-hydro-click='{\"event_type\":\"explore.click\",\"payload\":{\"click_context\":\"TRENDING_DEVELOPERS_PAGE\",\"click_target\":\"REPOSITORY\",\"click_visual_representation\":\"REPOSITORY_NAME_HEADING\",\"actor_id\":null,\"record_id\":39030836,\"originating_url\":\"https://github.com/trending/developers\",\"user_id\":null}}' data-hydro-click-hmac=\"0347451dc4f6b201bcc0d537cd8e3d3317dc4384ff0d06530941f881a171d4d8\" data-view-component=\"true\" href=\"/justinfagnani/mixwith.js\" style=\"max-width: 175px;\">\n",
       " <svg aria-hidden=\"true\" class=\"octicon octicon-repo color-fg-muted mr-1\" data-view-component=\"true\" height=\"16\" version=\"1.1\" viewbox=\"0 0 16 16\" width=\"16\">\n",
       " <path d=\"M2 2.5A2.5 2.5 0 014.5 0h8.75a.75.75 0 01.75.75v12.5a.75.75 0 01-.75.75h-2.5a.75.75 0 110-1.5h1.75v-2h-8a1 1 0 00-.714 1.7.75.75 0 01-1.072 1.05A2.495 2.495 0 012 11.5v-9zm10.5-1V9h-8c-.356 0-.694.074-1 .208V2.5a1 1 0 011-1h8zM5 12.25v3.25a.25.25 0 00.4.2l1.45-1.087a.25.25 0 01.3 0L8.6 15.7a.25.25 0 00.4-.2v-3.25a.25.25 0 00-.25-.25h-3.5a.25.25 0 00-.25.25z\" fill-rule=\"evenodd\"></path>\n",
       " </svg>\n",
       "       mixwith.js\n",
       " </a> </h1>\n",
       " <div class=\"f6 color-fg-muted mt-1\">\n",
       "       A mixin library for ES6\n",
       "     </div>\n",
       " </article>\n",
       " </div>\n",
       " </div>\n",
       " </div>\n",
       " <div class=\"col-sm-4 d-flex flex-sm-justify-end ml-sm-3\">\n",
       " <div class=\"user-profile-following-container\">\n",
       " <div class=\"user-following-container\">\n",
       " <span class=\"user-following-container\">\n",
       " <span class=\"follow d-block\">\n",
       " <a class=\"btn btn-sm btn-block\" data-hydro-click='{\"event_type\":\"authentication.click\",\"payload\":{\"location_in_page\":\"follow button\",\"repository_id\":null,\"auth_type\":\"LOG_IN\",\"originating_url\":\"https://github.com/trending/developers\",\"user_id\":null}}' data-hydro-click-hmac=\"758ca9b951a863373b9dca2759329881977e0c89c5a5b03c5cc5efdefcb67f4a\" href=\"/login?return_to=https%3A%2F%2Fgithub.com%2Ftrending%2Fdevelopers\">Follow</a>\n",
       " </span>\n",
       " </span>\n",
       " </div>\n",
       " </div>\n",
       " </div>\n",
       " </div>\n",
       " </article>,\n",
       " <article class=\"Box-row d-flex\" id=\"pa-manucorporat\">\n",
       " <a class=\"color-fg-muted f6\" data-view-component=\"true\" href=\"#pa-manucorporat\" style=\"width: 16px;\" text=\"center\">\n",
       "     6\n",
       " </a>\n",
       " <div class=\"mx-3\">\n",
       " <a data-hydro-click='{\"event_type\":\"explore.click\",\"payload\":{\"click_context\":\"TRENDING_DEVELOPERS_PAGE\",\"click_target\":\"OWNER\",\"click_visual_representation\":\"TRENDING_DEVELOPER\",\"actor_id\":null,\"record_id\":127379,\"originating_url\":\"https://github.com/trending/developers\",\"user_id\":null}}' data-hydro-click-hmac=\"2705bfc3e15d08a7df5ede4174cff575dc10d382fbecd15f25d0b3b0b1f8b0e2\" data-view-component=\"true\" href=\"/manucorporat\">\n",
       " <img alt=\"@manucorporat\" class=\"rounded avatar-user\" height=\"48\" src=\"https://avatars.githubusercontent.com/u/127379?s=96&amp;v=4\" width=\"48\"/>\n",
       " </a> </div>\n",
       " <div class=\"d-sm-flex flex-auto\">\n",
       " <div class=\"col-sm-8 d-md-flex\">\n",
       " <div class=\"col-md-6\">\n",
       " <h1 class=\"h3 lh-condensed\">\n",
       " <a data-hydro-click='{\"event_type\":\"explore.click\",\"payload\":{\"click_context\":\"TRENDING_DEVELOPERS_PAGE\",\"click_target\":\"OWNER\",\"click_visual_representation\":\"TRENDING_DEVELOPER\",\"actor_id\":null,\"record_id\":127379,\"originating_url\":\"https://github.com/trending/developers\",\"user_id\":null}}' data-hydro-click-hmac=\"2705bfc3e15d08a7df5ede4174cff575dc10d382fbecd15f25d0b3b0b1f8b0e2\" data-view-component=\"true\" href=\"/manucorporat\">\n",
       "             Manu MA\n",
       " </a> </h1>\n",
       " <p class=\"f4 text-normal mb-1\">\n",
       " <a class=\"Link--secondary\" data-hydro-click='{\"event_type\":\"explore.click\",\"payload\":{\"click_context\":\"TRENDING_DEVELOPERS_PAGE\",\"click_target\":\"OWNER\",\"click_visual_representation\":\"TRENDING_DEVELOPER\",\"actor_id\":null,\"record_id\":127379,\"originating_url\":\"https://github.com/trending/developers\",\"user_id\":null}}' data-hydro-click-hmac=\"2705bfc3e15d08a7df5ede4174cff575dc10d382fbecd15f25d0b3b0b1f8b0e2\" data-view-component=\"true\" href=\"/manucorporat\">\n",
       "               manucorporat\n",
       " </a> </p>\n",
       " </div>\n",
       " <div class=\"col-md-6\">\n",
       " <div class=\"mt-2 mb-3 my-md-0\">\n",
       " <article>\n",
       " <div class=\"f6 color-fg-muted text-uppercase mb-1\"><svg aria-hidden=\"true\" class=\"octicon octicon-flame mr-1 color-fg-severe\" data-view-component=\"true\" height=\"16\" version=\"1.1\" viewbox=\"0 0 16 16\" width=\"16\">\n",
       " <path d=\"M7.998 14.5c2.832 0 5-1.98 5-4.5 0-1.463-.68-2.19-1.879-3.383l-.036-.037c-1.013-1.008-2.3-2.29-2.834-4.434-.322.256-.63.579-.864.953-.432.696-.621 1.58-.046 2.73.473.947.67 2.284-.278 3.232-.61.61-1.545.84-2.403.633a2.788 2.788 0 01-1.436-.874A3.21 3.21 0 003 10c0 2.53 2.164 4.5 4.998 4.5zM9.533.753C9.496.34 9.16.009 8.77.146 7.035.75 4.34 3.187 5.997 6.5c.344.689.285 1.218.003 1.5-.419.419-1.54.487-2.04-.832-.173-.454-.659-.762-1.035-.454C2.036 7.44 1.5 8.702 1.5 10c0 3.512 2.998 6 6.498 6s6.5-2.5 6.5-6c0-2.137-1.128-3.26-2.312-4.438-1.19-1.184-2.436-2.425-2.653-4.81z\" fill-rule=\"evenodd\"></path>\n",
       " </svg>Popular repo</div>\n",
       " <h1 class=\"h4 lh-condensed\">\n",
       " <a class=\"css-truncate css-truncate-target\" data-ga-click=\"Explore, go to repository, location:trending developers\" data-hydro-click='{\"event_type\":\"explore.click\",\"payload\":{\"click_context\":\"TRENDING_DEVELOPERS_PAGE\",\"click_target\":\"REPOSITORY\",\"click_visual_representation\":\"REPOSITORY_NAME_HEADING\",\"actor_id\":null,\"record_id\":528151174,\"originating_url\":\"https://github.com/trending/developers\",\"user_id\":null}}' data-hydro-click-hmac=\"2980cfc94068eaa56ad4fabe35c3020ba36b4200cabf07cc55162cb671694d08\" data-view-component=\"true\" href=\"/manucorporat/qwik-conference-app\" style=\"max-width: 175px;\">\n",
       " <svg aria-hidden=\"true\" class=\"octicon octicon-repo color-fg-muted mr-1\" data-view-component=\"true\" height=\"16\" version=\"1.1\" viewbox=\"0 0 16 16\" width=\"16\">\n",
       " <path d=\"M2 2.5A2.5 2.5 0 014.5 0h8.75a.75.75 0 01.75.75v12.5a.75.75 0 01-.75.75h-2.5a.75.75 0 110-1.5h1.75v-2h-8a1 1 0 00-.714 1.7.75.75 0 01-1.072 1.05A2.495 2.495 0 012 11.5v-9zm10.5-1V9h-8c-.356 0-.694.074-1 .208V2.5a1 1 0 011-1h8zM5 12.25v3.25a.25.25 0 00.4.2l1.45-1.087a.25.25 0 01.3 0L8.6 15.7a.25.25 0 00.4-.2v-3.25a.25.25 0 00-.25-.25h-3.5a.25.25 0 00-.25.25z\" fill-rule=\"evenodd\"></path>\n",
       " </svg>\n",
       "       qwik-conference-app\n",
       " </a> </h1>\n",
       " </article>\n",
       " </div>\n",
       " </div>\n",
       " </div>\n",
       " <div class=\"col-sm-4 d-flex flex-sm-justify-end ml-sm-3\">\n",
       " <div class=\"user-profile-following-container\">\n",
       " <div class=\"user-following-container\">\n",
       " <span class=\"user-following-container\">\n",
       " <span class=\"follow d-block\">\n",
       " <a class=\"btn btn-sm btn-block\" data-hydro-click='{\"event_type\":\"authentication.click\",\"payload\":{\"location_in_page\":\"follow button\",\"repository_id\":null,\"auth_type\":\"LOG_IN\",\"originating_url\":\"https://github.com/trending/developers\",\"user_id\":null}}' data-hydro-click-hmac=\"758ca9b951a863373b9dca2759329881977e0c89c5a5b03c5cc5efdefcb67f4a\" href=\"/login?return_to=https%3A%2F%2Fgithub.com%2Ftrending%2Fdevelopers\">Follow</a>\n",
       " </span>\n",
       " </span>\n",
       " </div>\n",
       " </div>\n",
       " </div>\n",
       " </div>\n",
       " </article>,\n",
       " <article class=\"Box-row d-flex\" id=\"pa-minimalsm\">\n",
       " <a class=\"color-fg-muted f6\" data-view-component=\"true\" href=\"#pa-minimalsm\" style=\"width: 16px;\" text=\"center\">\n",
       "     7\n",
       " </a>\n",
       " <div class=\"mx-3\">\n",
       " <a data-hydro-click='{\"event_type\":\"explore.click\",\"payload\":{\"click_context\":\"TRENDING_DEVELOPERS_PAGE\",\"click_target\":\"OWNER\",\"click_visual_representation\":\"TRENDING_DEVELOPER\",\"actor_id\":null,\"record_id\":62268199,\"originating_url\":\"https://github.com/trending/developers\",\"user_id\":null}}' data-hydro-click-hmac=\"aa6c0f9a18a59f42b91ba47fd5af753c2c06e262c26e7750e56bb6472524b3a7\" data-view-component=\"true\" href=\"/minimalsm\">\n",
       " <img alt=\"@minimalsm\" class=\"rounded avatar-user\" height=\"48\" src=\"https://avatars.githubusercontent.com/u/62268199?s=96&amp;v=4\" width=\"48\"/>\n",
       " </a> </div>\n",
       " <div class=\"d-sm-flex flex-auto\">\n",
       " <div class=\"col-sm-8 d-md-flex\">\n",
       " <div class=\"col-md-6\">\n",
       " <h1 class=\"h3 lh-condensed\">\n",
       " <a data-hydro-click='{\"event_type\":\"explore.click\",\"payload\":{\"click_context\":\"TRENDING_DEVELOPERS_PAGE\",\"click_target\":\"OWNER\",\"click_visual_representation\":\"TRENDING_DEVELOPER\",\"actor_id\":null,\"record_id\":62268199,\"originating_url\":\"https://github.com/trending/developers\",\"user_id\":null}}' data-hydro-click-hmac=\"aa6c0f9a18a59f42b91ba47fd5af753c2c06e262c26e7750e56bb6472524b3a7\" data-view-component=\"true\" href=\"/minimalsm\">\n",
       "             Joshua\n",
       " </a> </h1>\n",
       " <p class=\"f4 text-normal mb-1\">\n",
       " <a class=\"Link--secondary\" data-hydro-click='{\"event_type\":\"explore.click\",\"payload\":{\"click_context\":\"TRENDING_DEVELOPERS_PAGE\",\"click_target\":\"OWNER\",\"click_visual_representation\":\"TRENDING_DEVELOPER\",\"actor_id\":null,\"record_id\":62268199,\"originating_url\":\"https://github.com/trending/developers\",\"user_id\":null}}' data-hydro-click-hmac=\"aa6c0f9a18a59f42b91ba47fd5af753c2c06e262c26e7750e56bb6472524b3a7\" data-view-component=\"true\" href=\"/minimalsm\">\n",
       "               minimalsm\n",
       " </a> </p>\n",
       " </div>\n",
       " <div class=\"col-md-6\">\n",
       " <div class=\"f5 color-fg-muted my-2 my-md-0\">\n",
       " <p class=\"mb-3 d-flex flex-items-center\"><svg aria-hidden=\"true\" class=\"octicon octicon-organization color-fg-muted mr-2\" data-view-component=\"true\" height=\"16\" version=\"1.1\" viewbox=\"0 0 16 16\" width=\"16\">\n",
       " <path d=\"M1.5 14.25c0 .138.112.25.25.25H4v-1.25a.75.75 0 01.75-.75h2.5a.75.75 0 01.75.75v1.25h2.25a.25.25 0 00.25-.25V1.75a.25.25 0 00-.25-.25h-8.5a.25.25 0 00-.25.25v12.5zM1.75 16A1.75 1.75 0 010 14.25V1.75C0 .784.784 0 1.75 0h8.5C11.216 0 12 .784 12 1.75v12.5c0 .085-.006.168-.018.25h2.268a.25.25 0 00.25-.25V8.285a.25.25 0 00-.111-.208l-1.055-.703a.75.75 0 11.832-1.248l1.055.703c.487.325.779.871.779 1.456v5.965A1.75 1.75 0 0114.25 16h-3.5a.75.75 0 01-.197-.026c-.099.017-.2.026-.303.026h-3a.75.75 0 01-.75-.75V14h-1v1.25a.75.75 0 01-.75.75h-3zM3 3.75A.75.75 0 013.75 3h.5a.75.75 0 010 1.5h-.5A.75.75 0 013 3.75zM3.75 6a.75.75 0 000 1.5h.5a.75.75 0 000-1.5h-.5zM3 9.75A.75.75 0 013.75 9h.5a.75.75 0 010 1.5h-.5A.75.75 0 013 9.75zM7.75 9a.75.75 0 000 1.5h.5a.75.75 0 000-1.5h-.5zM7 6.75A.75.75 0 017.75 6h.5a.75.75 0 010 1.5h-.5A.75.75 0 017 6.75zM7.75 3a.75.75 0 000 1.5h.5a.75.75 0 000-1.5h-.5z\" fill-rule=\"evenodd\"></path>\n",
       " </svg> <span class=\"Truncate\" title=\"Works for @ethereum\"><span class=\"Truncate-text\">@ethereum</span></span></p>\n",
       " </div>\n",
       " </div>\n",
       " </div>\n",
       " <div class=\"col-sm-4 d-flex flex-sm-justify-end ml-sm-3\">\n",
       " <div class=\"user-profile-following-container\">\n",
       " <div class=\"user-following-container\">\n",
       " <span class=\"user-following-container\">\n",
       " <span class=\"follow d-block\">\n",
       " <a class=\"btn btn-sm btn-block\" data-hydro-click='{\"event_type\":\"authentication.click\",\"payload\":{\"location_in_page\":\"follow button\",\"repository_id\":null,\"auth_type\":\"LOG_IN\",\"originating_url\":\"https://github.com/trending/developers\",\"user_id\":null}}' data-hydro-click-hmac=\"758ca9b951a863373b9dca2759329881977e0c89c5a5b03c5cc5efdefcb67f4a\" href=\"/login?return_to=https%3A%2F%2Fgithub.com%2Ftrending%2Fdevelopers\">Follow</a>\n",
       " </span>\n",
       " </span>\n",
       " </div>\n",
       " </div>\n",
       " </div>\n",
       " </div>\n",
       " </article>,\n",
       " <article class=\"Box-row d-flex\" id=\"pa-dummdidumm\">\n",
       " <a class=\"color-fg-muted f6\" data-view-component=\"true\" href=\"#pa-dummdidumm\" style=\"width: 16px;\" text=\"center\">\n",
       "     8\n",
       " </a>\n",
       " <div class=\"mx-3\">\n",
       " <a data-hydro-click='{\"event_type\":\"explore.click\",\"payload\":{\"click_context\":\"TRENDING_DEVELOPERS_PAGE\",\"click_target\":\"OWNER\",\"click_visual_representation\":\"TRENDING_DEVELOPER\",\"actor_id\":null,\"record_id\":5968653,\"originating_url\":\"https://github.com/trending/developers\",\"user_id\":null}}' data-hydro-click-hmac=\"b13a4b3cf7e905974207c02cff5aedd90f73fc4a289bde9be042f74bada02d07\" data-view-component=\"true\" href=\"/dummdidumm\">\n",
       " <img alt=\"@dummdidumm\" class=\"rounded avatar-user\" height=\"48\" src=\"https://avatars.githubusercontent.com/u/5968653?s=96&amp;v=4\" width=\"48\"/>\n",
       " </a> </div>\n",
       " <div class=\"d-sm-flex flex-auto\">\n",
       " <div class=\"col-sm-8 d-md-flex\">\n",
       " <div class=\"col-md-6\">\n",
       " <h1 class=\"h3 lh-condensed\">\n",
       " <a data-hydro-click='{\"event_type\":\"explore.click\",\"payload\":{\"click_context\":\"TRENDING_DEVELOPERS_PAGE\",\"click_target\":\"OWNER\",\"click_visual_representation\":\"TRENDING_DEVELOPER\",\"actor_id\":null,\"record_id\":5968653,\"originating_url\":\"https://github.com/trending/developers\",\"user_id\":null}}' data-hydro-click-hmac=\"b13a4b3cf7e905974207c02cff5aedd90f73fc4a289bde9be042f74bada02d07\" data-view-component=\"true\" href=\"/dummdidumm\">\n",
       "             Simon H\n",
       " </a> </h1>\n",
       " <p class=\"f4 text-normal mb-1\">\n",
       " <a class=\"Link--secondary\" data-hydro-click='{\"event_type\":\"explore.click\",\"payload\":{\"click_context\":\"TRENDING_DEVELOPERS_PAGE\",\"click_target\":\"OWNER\",\"click_visual_representation\":\"TRENDING_DEVELOPER\",\"actor_id\":null,\"record_id\":5968653,\"originating_url\":\"https://github.com/trending/developers\",\"user_id\":null}}' data-hydro-click-hmac=\"b13a4b3cf7e905974207c02cff5aedd90f73fc4a289bde9be042f74bada02d07\" data-view-component=\"true\" href=\"/dummdidumm\">\n",
       "               dummdidumm\n",
       " </a> </p>\n",
       " </div>\n",
       " <div class=\"col-md-6\">\n",
       " <div class=\"f5 color-fg-muted my-2 my-md-0\">\n",
       " <p class=\"mb-3 d-flex flex-items-center\"><svg aria-hidden=\"true\" class=\"octicon octicon-organization color-fg-muted mr-2\" data-view-component=\"true\" height=\"16\" version=\"1.1\" viewbox=\"0 0 16 16\" width=\"16\">\n",
       " <path d=\"M1.5 14.25c0 .138.112.25.25.25H4v-1.25a.75.75 0 01.75-.75h2.5a.75.75 0 01.75.75v1.25h2.25a.25.25 0 00.25-.25V1.75a.25.25 0 00-.25-.25h-8.5a.25.25 0 00-.25.25v12.5zM1.75 16A1.75 1.75 0 010 14.25V1.75C0 .784.784 0 1.75 0h8.5C11.216 0 12 .784 12 1.75v12.5c0 .085-.006.168-.018.25h2.268a.25.25 0 00.25-.25V8.285a.25.25 0 00-.111-.208l-1.055-.703a.75.75 0 11.832-1.248l1.055.703c.487.325.779.871.779 1.456v5.965A1.75 1.75 0 0114.25 16h-3.5a.75.75 0 01-.197-.026c-.099.017-.2.026-.303.026h-3a.75.75 0 01-.75-.75V14h-1v1.25a.75.75 0 01-.75.75h-3zM3 3.75A.75.75 0 013.75 3h.5a.75.75 0 010 1.5h-.5A.75.75 0 013 3.75zM3.75 6a.75.75 0 000 1.5h.5a.75.75 0 000-1.5h-.5zM3 9.75A.75.75 0 013.75 9h.5a.75.75 0 010 1.5h-.5A.75.75 0 013 9.75zM7.75 9a.75.75 0 000 1.5h.5a.75.75 0 000-1.5h-.5zM7 6.75A.75.75 0 017.75 6h.5a.75.75 0 010 1.5h-.5A.75.75 0 017 6.75zM7.75 3a.75.75 0 000 1.5h.5a.75.75 0 000-1.5h-.5z\" fill-rule=\"evenodd\"></path>\n",
       " </svg> <span class=\"Truncate\" title=\"Works for Vercel\"><span class=\"Truncate-text\">Vercel</span></span></p>\n",
       " </div>\n",
       " </div>\n",
       " </div>\n",
       " <div class=\"col-sm-4 d-flex flex-sm-justify-end ml-sm-3\">\n",
       " <div class=\"user-profile-following-container\">\n",
       " <div class=\"user-following-container\">\n",
       " <span class=\"user-following-container\">\n",
       " <span class=\"follow d-block\">\n",
       " <a class=\"btn btn-sm btn-block\" data-hydro-click='{\"event_type\":\"authentication.click\",\"payload\":{\"location_in_page\":\"follow button\",\"repository_id\":null,\"auth_type\":\"LOG_IN\",\"originating_url\":\"https://github.com/trending/developers\",\"user_id\":null}}' data-hydro-click-hmac=\"758ca9b951a863373b9dca2759329881977e0c89c5a5b03c5cc5efdefcb67f4a\" href=\"/login?return_to=https%3A%2F%2Fgithub.com%2Ftrending%2Fdevelopers\">Follow</a>\n",
       " </span>\n",
       " </span>\n",
       " </div>\n",
       " </div>\n",
       " </div>\n",
       " </div>\n",
       " </article>,\n",
       " <article class=\"Box-row d-flex\" id=\"pa-marcusolsson\">\n",
       " <a class=\"color-fg-muted f6\" data-view-component=\"true\" href=\"#pa-marcusolsson\" style=\"width: 16px;\" text=\"center\">\n",
       "     9\n",
       " </a>\n",
       " <div class=\"mx-3\">\n",
       " <a data-hydro-click='{\"event_type\":\"explore.click\",\"payload\":{\"click_context\":\"TRENDING_DEVELOPERS_PAGE\",\"click_target\":\"OWNER\",\"click_visual_representation\":\"TRENDING_DEVELOPER\",\"actor_id\":null,\"record_id\":8396880,\"originating_url\":\"https://github.com/trending/developers\",\"user_id\":null}}' data-hydro-click-hmac=\"445d00885fcd5028dbc9d7d12e28866e6766203d50580b9a2a7e2df70ec52117\" data-view-component=\"true\" href=\"/marcusolsson\">\n",
       " <img alt=\"@marcusolsson\" class=\"rounded avatar-user\" height=\"48\" src=\"https://avatars.githubusercontent.com/u/8396880?s=96&amp;v=4\" width=\"48\"/>\n",
       " </a> </div>\n",
       " <div class=\"d-sm-flex flex-auto\">\n",
       " <div class=\"col-sm-8 d-md-flex\">\n",
       " <div class=\"col-md-6\">\n",
       " <h1 class=\"h3 lh-condensed\">\n",
       " <a data-hydro-click='{\"event_type\":\"explore.click\",\"payload\":{\"click_context\":\"TRENDING_DEVELOPERS_PAGE\",\"click_target\":\"OWNER\",\"click_visual_representation\":\"TRENDING_DEVELOPER\",\"actor_id\":null,\"record_id\":8396880,\"originating_url\":\"https://github.com/trending/developers\",\"user_id\":null}}' data-hydro-click-hmac=\"445d00885fcd5028dbc9d7d12e28866e6766203d50580b9a2a7e2df70ec52117\" data-view-component=\"true\" href=\"/marcusolsson\">\n",
       "             Marcus Olsson\n",
       " </a> </h1>\n",
       " <p class=\"f4 text-normal mb-1\">\n",
       " <a class=\"Link--secondary\" data-hydro-click='{\"event_type\":\"explore.click\",\"payload\":{\"click_context\":\"TRENDING_DEVELOPERS_PAGE\",\"click_target\":\"OWNER\",\"click_visual_representation\":\"TRENDING_DEVELOPER\",\"actor_id\":null,\"record_id\":8396880,\"originating_url\":\"https://github.com/trending/developers\",\"user_id\":null}}' data-hydro-click-hmac=\"445d00885fcd5028dbc9d7d12e28866e6766203d50580b9a2a7e2df70ec52117\" data-view-component=\"true\" href=\"/marcusolsson\">\n",
       "               marcusolsson\n",
       " </a> </p>\n",
       " </div>\n",
       " <div class=\"col-md-6\">\n",
       " <div class=\"mt-2 mb-3 my-md-0\">\n",
       " <article>\n",
       " <div class=\"f6 color-fg-muted text-uppercase mb-1\"><svg aria-hidden=\"true\" class=\"octicon octicon-flame mr-1 color-fg-severe\" data-view-component=\"true\" height=\"16\" version=\"1.1\" viewbox=\"0 0 16 16\" width=\"16\">\n",
       " <path d=\"M7.998 14.5c2.832 0 5-1.98 5-4.5 0-1.463-.68-2.19-1.879-3.383l-.036-.037c-1.013-1.008-2.3-2.29-2.834-4.434-.322.256-.63.579-.864.953-.432.696-.621 1.58-.046 2.73.473.947.67 2.284-.278 3.232-.61.61-1.545.84-2.403.633a2.788 2.788 0 01-1.436-.874A3.21 3.21 0 003 10c0 2.53 2.164 4.5 4.998 4.5zM9.533.753C9.496.34 9.16.009 8.77.146 7.035.75 4.34 3.187 5.997 6.5c.344.689.285 1.218.003 1.5-.419.419-1.54.487-2.04-.832-.173-.454-.659-.762-1.035-.454C2.036 7.44 1.5 8.702 1.5 10c0 3.512 2.998 6 6.498 6s6.5-2.5 6.5-6c0-2.137-1.128-3.26-2.312-4.438-1.19-1.184-2.436-2.425-2.653-4.81z\" fill-rule=\"evenodd\"></path>\n",
       " </svg>Popular repo</div>\n",
       " <h1 class=\"h4 lh-condensed\">\n",
       " <a class=\"css-truncate css-truncate-target\" data-ga-click=\"Explore, go to repository, location:trending developers\" data-hydro-click='{\"event_type\":\"explore.click\",\"payload\":{\"click_context\":\"TRENDING_DEVELOPERS_PAGE\",\"click_target\":\"REPOSITORY\",\"click_visual_representation\":\"REPOSITORY_NAME_HEADING\",\"actor_id\":null,\"record_id\":530556973,\"originating_url\":\"https://github.com/trending/developers\",\"user_id\":null}}' data-hydro-click-hmac=\"069b3eeb43e4699a7b1ac9ba8a530beedb34aeab718800a8fade4cc766f0a0a2\" data-view-component=\"true\" href=\"/marcusolsson/obsidian-projects\" style=\"max-width: 175px;\">\n",
       " <svg aria-hidden=\"true\" class=\"octicon octicon-repo color-fg-muted mr-1\" data-view-component=\"true\" height=\"16\" version=\"1.1\" viewbox=\"0 0 16 16\" width=\"16\">\n",
       " <path d=\"M2 2.5A2.5 2.5 0 014.5 0h8.75a.75.75 0 01.75.75v12.5a.75.75 0 01-.75.75h-2.5a.75.75 0 110-1.5h1.75v-2h-8a1 1 0 00-.714 1.7.75.75 0 01-1.072 1.05A2.495 2.495 0 012 11.5v-9zm10.5-1V9h-8c-.356 0-.694.074-1 .208V2.5a1 1 0 011-1h8zM5 12.25v3.25a.25.25 0 00.4.2l1.45-1.087a.25.25 0 01.3 0L8.6 15.7a.25.25 0 00.4-.2v-3.25a.25.25 0 00-.25-.25h-3.5a.25.25 0 00-.25.25z\" fill-rule=\"evenodd\"></path>\n",
       " </svg>\n",
       "       obsidian-projects\n",
       " </a> </h1>\n",
       " <div class=\"f6 color-fg-muted mt-1\">\n",
       "       Project management for Obsidian\n",
       "     </div>\n",
       " </article>\n",
       " </div>\n",
       " </div>\n",
       " </div>\n",
       " <div class=\"col-sm-4 d-flex flex-sm-justify-end ml-sm-3\">\n",
       " <div class=\"user-profile-following-container\">\n",
       " <div class=\"user-following-container\">\n",
       " <span class=\"user-following-container\">\n",
       " <span class=\"follow d-block\">\n",
       " <a class=\"btn btn-sm btn-block\" data-hydro-click='{\"event_type\":\"authentication.click\",\"payload\":{\"location_in_page\":\"follow button\",\"repository_id\":null,\"auth_type\":\"LOG_IN\",\"originating_url\":\"https://github.com/trending/developers\",\"user_id\":null}}' data-hydro-click-hmac=\"758ca9b951a863373b9dca2759329881977e0c89c5a5b03c5cc5efdefcb67f4a\" href=\"/login?return_to=https%3A%2F%2Fgithub.com%2Ftrending%2Fdevelopers\">Follow</a>\n",
       " </span>\n",
       " </span>\n",
       " </div>\n",
       " </div>\n",
       " </div>\n",
       " </div>\n",
       " </article>,\n",
       " <article class=\"Box-row d-flex\" id=\"pa-Ralim\">\n",
       " <a class=\"color-fg-muted f6\" data-view-component=\"true\" href=\"#pa-Ralim\" style=\"width: 16px;\" text=\"center\">\n",
       "     10\n",
       " </a>\n",
       " <div class=\"mx-3\">\n",
       " <a data-hydro-click='{\"event_type\":\"explore.click\",\"payload\":{\"click_context\":\"TRENDING_DEVELOPERS_PAGE\",\"click_target\":\"OWNER\",\"click_visual_representation\":\"TRENDING_DEVELOPER\",\"actor_id\":null,\"record_id\":5425387,\"originating_url\":\"https://github.com/trending/developers\",\"user_id\":null}}' data-hydro-click-hmac=\"97dc7a116844460d870da4c6e040aae6c60afa09411b1a2676e03bd982db6deb\" data-view-component=\"true\" href=\"/Ralim\">\n",
       " <img alt=\"@Ralim\" class=\"rounded avatar-user\" height=\"48\" src=\"https://avatars.githubusercontent.com/u/5425387?s=96&amp;v=4\" width=\"48\"/>\n",
       " </a> </div>\n",
       " <div class=\"d-sm-flex flex-auto\">\n",
       " <div class=\"col-sm-8 d-md-flex\">\n",
       " <div class=\"col-md-6\">\n",
       " <h1 class=\"h3 lh-condensed\">\n",
       " <a data-hydro-click='{\"event_type\":\"explore.click\",\"payload\":{\"click_context\":\"TRENDING_DEVELOPERS_PAGE\",\"click_target\":\"OWNER\",\"click_visual_representation\":\"TRENDING_DEVELOPER\",\"actor_id\":null,\"record_id\":5425387,\"originating_url\":\"https://github.com/trending/developers\",\"user_id\":null}}' data-hydro-click-hmac=\"97dc7a116844460d870da4c6e040aae6c60afa09411b1a2676e03bd982db6deb\" data-view-component=\"true\" href=\"/Ralim\">\n",
       "             Ben V. Brown\n",
       " </a> </h1>\n",
       " <p class=\"f4 text-normal mb-1\">\n",
       " <a class=\"Link--secondary\" data-hydro-click='{\"event_type\":\"explore.click\",\"payload\":{\"click_context\":\"TRENDING_DEVELOPERS_PAGE\",\"click_target\":\"OWNER\",\"click_visual_representation\":\"TRENDING_DEVELOPER\",\"actor_id\":null,\"record_id\":5425387,\"originating_url\":\"https://github.com/trending/developers\",\"user_id\":null}}' data-hydro-click-hmac=\"97dc7a116844460d870da4c6e040aae6c60afa09411b1a2676e03bd982db6deb\" data-view-component=\"true\" href=\"/Ralim\">\n",
       "               Ralim\n",
       " </a> </p>\n",
       " </div>\n",
       " <div class=\"col-md-6\">\n",
       " <div class=\"mt-2 mb-3 my-md-0\">\n",
       " <article>\n",
       " <div class=\"f6 color-fg-muted text-uppercase mb-1\"><svg aria-hidden=\"true\" class=\"octicon octicon-flame mr-1 color-fg-severe\" data-view-component=\"true\" height=\"16\" version=\"1.1\" viewbox=\"0 0 16 16\" width=\"16\">\n",
       " <path d=\"M7.998 14.5c2.832 0 5-1.98 5-4.5 0-1.463-.68-2.19-1.879-3.383l-.036-.037c-1.013-1.008-2.3-2.29-2.834-4.434-.322.256-.63.579-.864.953-.432.696-.621 1.58-.046 2.73.473.947.67 2.284-.278 3.232-.61.61-1.545.84-2.403.633a2.788 2.788 0 01-1.436-.874A3.21 3.21 0 003 10c0 2.53 2.164 4.5 4.998 4.5zM9.533.753C9.496.34 9.16.009 8.77.146 7.035.75 4.34 3.187 5.997 6.5c.344.689.285 1.218.003 1.5-.419.419-1.54.487-2.04-.832-.173-.454-.659-.762-1.035-.454C2.036 7.44 1.5 8.702 1.5 10c0 3.512 2.998 6 6.498 6s6.5-2.5 6.5-6c0-2.137-1.128-3.26-2.312-4.438-1.19-1.184-2.436-2.425-2.653-4.81z\" fill-rule=\"evenodd\"></path>\n",
       " </svg>Popular repo</div>\n",
       " <h1 class=\"h4 lh-condensed\">\n",
       " <a class=\"css-truncate css-truncate-target\" data-ga-click=\"Explore, go to repository, location:trending developers\" data-hydro-click='{\"event_type\":\"explore.click\",\"payload\":{\"click_context\":\"TRENDING_DEVELOPERS_PAGE\",\"click_target\":\"REPOSITORY\",\"click_visual_representation\":\"REPOSITORY_NAME_HEADING\",\"actor_id\":null,\"record_id\":68082730,\"originating_url\":\"https://github.com/trending/developers\",\"user_id\":null}}' data-hydro-click-hmac=\"38e8ecbd1ac0a504d1e2036b035dcba2555d1a0676ac6842ad181fd443cbaaa8\" data-view-component=\"true\" href=\"/Ralim/IronOS\" style=\"max-width: 175px;\">\n",
       " <svg aria-hidden=\"true\" class=\"octicon octicon-repo color-fg-muted mr-1\" data-view-component=\"true\" height=\"16\" version=\"1.1\" viewbox=\"0 0 16 16\" width=\"16\">\n",
       " <path d=\"M2 2.5A2.5 2.5 0 014.5 0h8.75a.75.75 0 01.75.75v12.5a.75.75 0 01-.75.75h-2.5a.75.75 0 110-1.5h1.75v-2h-8a1 1 0 00-.714 1.7.75.75 0 01-1.072 1.05A2.495 2.495 0 012 11.5v-9zm10.5-1V9h-8c-.356 0-.694.074-1 .208V2.5a1 1 0 011-1h8zM5 12.25v3.25a.25.25 0 00.4.2l1.45-1.087a.25.25 0 01.3 0L8.6 15.7a.25.25 0 00.4-.2v-3.25a.25.25 0 00-.25-.25h-3.5a.25.25 0 00-.25.25z\" fill-rule=\"evenodd\"></path>\n",
       " </svg>\n",
       "       IronOS\n",
       " </a> </h1>\n",
       " <div class=\"f6 color-fg-muted mt-1\">\n",
       "       Open Source Soldering Iron firmware for Miniware and Pinecil\n",
       "     </div>\n",
       " </article>\n",
       " </div>\n",
       " </div>\n",
       " </div>\n",
       " <div class=\"col-sm-4 d-flex flex-sm-justify-end ml-sm-3\">\n",
       " <div class=\"user-profile-following-container\">\n",
       " <div class=\"user-following-container\">\n",
       " <span class=\"user-following-container\">\n",
       " <span class=\"follow d-block\">\n",
       " <a class=\"btn btn-sm btn-block\" data-hydro-click='{\"event_type\":\"authentication.click\",\"payload\":{\"location_in_page\":\"follow button\",\"repository_id\":null,\"auth_type\":\"LOG_IN\",\"originating_url\":\"https://github.com/trending/developers\",\"user_id\":null}}' data-hydro-click-hmac=\"758ca9b951a863373b9dca2759329881977e0c89c5a5b03c5cc5efdefcb67f4a\" href=\"/login?return_to=https%3A%2F%2Fgithub.com%2Ftrending%2Fdevelopers\">Follow</a>\n",
       " </span>\n",
       " </span>\n",
       " </div>\n",
       " </div>\n",
       " </div>\n",
       " </div>\n",
       " </article>,\n",
       " <article class=\"Box-row d-flex\" id=\"pa-jonataslaw\">\n",
       " <a class=\"color-fg-muted f6\" data-view-component=\"true\" href=\"#pa-jonataslaw\" style=\"width: 16px;\" text=\"center\">\n",
       "     11\n",
       " </a>\n",
       " <div class=\"mx-3\">\n",
       " <a data-hydro-click='{\"event_type\":\"explore.click\",\"payload\":{\"click_context\":\"TRENDING_DEVELOPERS_PAGE\",\"click_target\":\"OWNER\",\"click_visual_representation\":\"TRENDING_DEVELOPER\",\"actor_id\":null,\"record_id\":35742643,\"originating_url\":\"https://github.com/trending/developers\",\"user_id\":null}}' data-hydro-click-hmac=\"c5ec431393753392904c38f896e76125bcef33299fd9e67967ec49f69850fc09\" data-view-component=\"true\" href=\"/jonataslaw\">\n",
       " <img alt=\"@jonataslaw\" class=\"rounded avatar-user\" height=\"48\" src=\"https://avatars.githubusercontent.com/u/35742643?s=96&amp;v=4\" width=\"48\"/>\n",
       " </a> </div>\n",
       " <div class=\"d-sm-flex flex-auto\">\n",
       " <div class=\"col-sm-8 d-md-flex\">\n",
       " <div class=\"col-md-6\">\n",
       " <h1 class=\"h3 lh-condensed\">\n",
       " <a data-hydro-click='{\"event_type\":\"explore.click\",\"payload\":{\"click_context\":\"TRENDING_DEVELOPERS_PAGE\",\"click_target\":\"OWNER\",\"click_visual_representation\":\"TRENDING_DEVELOPER\",\"actor_id\":null,\"record_id\":35742643,\"originating_url\":\"https://github.com/trending/developers\",\"user_id\":null}}' data-hydro-click-hmac=\"c5ec431393753392904c38f896e76125bcef33299fd9e67967ec49f69850fc09\" data-view-component=\"true\" href=\"/jonataslaw\">\n",
       "             Jonny Borges\n",
       " </a> </h1>\n",
       " <p class=\"f4 text-normal mb-1\">\n",
       " <a class=\"Link--secondary\" data-hydro-click='{\"event_type\":\"explore.click\",\"payload\":{\"click_context\":\"TRENDING_DEVELOPERS_PAGE\",\"click_target\":\"OWNER\",\"click_visual_representation\":\"TRENDING_DEVELOPER\",\"actor_id\":null,\"record_id\":35742643,\"originating_url\":\"https://github.com/trending/developers\",\"user_id\":null}}' data-hydro-click-hmac=\"c5ec431393753392904c38f896e76125bcef33299fd9e67967ec49f69850fc09\" data-view-component=\"true\" href=\"/jonataslaw\">\n",
       "               jonataslaw\n",
       " </a> </p>\n",
       " </div>\n",
       " <div class=\"col-md-6\">\n",
       " <div class=\"mt-2 mb-3 my-md-0\">\n",
       " <article>\n",
       " <div class=\"f6 color-fg-muted text-uppercase mb-1\"><svg aria-hidden=\"true\" class=\"octicon octicon-flame mr-1 color-fg-severe\" data-view-component=\"true\" height=\"16\" version=\"1.1\" viewbox=\"0 0 16 16\" width=\"16\">\n",
       " <path d=\"M7.998 14.5c2.832 0 5-1.98 5-4.5 0-1.463-.68-2.19-1.879-3.383l-.036-.037c-1.013-1.008-2.3-2.29-2.834-4.434-.322.256-.63.579-.864.953-.432.696-.621 1.58-.046 2.73.473.947.67 2.284-.278 3.232-.61.61-1.545.84-2.403.633a2.788 2.788 0 01-1.436-.874A3.21 3.21 0 003 10c0 2.53 2.164 4.5 4.998 4.5zM9.533.753C9.496.34 9.16.009 8.77.146 7.035.75 4.34 3.187 5.997 6.5c.344.689.285 1.218.003 1.5-.419.419-1.54.487-2.04-.832-.173-.454-.659-.762-1.035-.454C2.036 7.44 1.5 8.702 1.5 10c0 3.512 2.998 6 6.498 6s6.5-2.5 6.5-6c0-2.137-1.128-3.26-2.312-4.438-1.19-1.184-2.436-2.425-2.653-4.81z\" fill-rule=\"evenodd\"></path>\n",
       " </svg>Popular repo</div>\n",
       " <h1 class=\"h4 lh-condensed\">\n",
       " <a class=\"css-truncate css-truncate-target\" data-ga-click=\"Explore, go to repository, location:trending developers\" data-hydro-click='{\"event_type\":\"explore.click\",\"payload\":{\"click_context\":\"TRENDING_DEVELOPERS_PAGE\",\"click_target\":\"REPOSITORY\",\"click_visual_representation\":\"REPOSITORY_NAME_HEADING\",\"actor_id\":null,\"record_id\":221583387,\"originating_url\":\"https://github.com/trending/developers\",\"user_id\":null}}' data-hydro-click-hmac=\"c079f330519b4b97070f2ca9b588619da1078a07cd429a25cc28f406f2ea82bc\" data-view-component=\"true\" href=\"/jonataslaw/getx\" style=\"max-width: 175px;\">\n",
       " <svg aria-hidden=\"true\" class=\"octicon octicon-repo color-fg-muted mr-1\" data-view-component=\"true\" height=\"16\" version=\"1.1\" viewbox=\"0 0 16 16\" width=\"16\">\n",
       " <path d=\"M2 2.5A2.5 2.5 0 014.5 0h8.75a.75.75 0 01.75.75v12.5a.75.75 0 01-.75.75h-2.5a.75.75 0 110-1.5h1.75v-2h-8a1 1 0 00-.714 1.7.75.75 0 01-1.072 1.05A2.495 2.495 0 012 11.5v-9zm10.5-1V9h-8c-.356 0-.694.074-1 .208V2.5a1 1 0 011-1h8zM5 12.25v3.25a.25.25 0 00.4.2l1.45-1.087a.25.25 0 01.3 0L8.6 15.7a.25.25 0 00.4-.2v-3.25a.25.25 0 00-.25-.25h-3.5a.25.25 0 00-.25.25z\" fill-rule=\"evenodd\"></path>\n",
       " </svg>\n",
       "       getx\n",
       " </a> </h1>\n",
       " <div class=\"f6 color-fg-muted mt-1\">\n",
       "       Open screens/snackbars/dialogs/bottomSheets without context, manage states and inject dependencies easily with Get.\n",
       "     </div>\n",
       " </article>\n",
       " </div>\n",
       " </div>\n",
       " </div>\n",
       " <div class=\"col-sm-4 d-flex flex-sm-justify-end ml-sm-3\">\n",
       " <div class=\"user-profile-following-container\">\n",
       " <div class=\"user-following-container\">\n",
       " <span class=\"user-following-container\">\n",
       " <span class=\"follow d-block\">\n",
       " <a class=\"btn btn-sm btn-block\" data-hydro-click='{\"event_type\":\"authentication.click\",\"payload\":{\"location_in_page\":\"follow button\",\"repository_id\":null,\"auth_type\":\"LOG_IN\",\"originating_url\":\"https://github.com/trending/developers\",\"user_id\":null}}' data-hydro-click-hmac=\"758ca9b951a863373b9dca2759329881977e0c89c5a5b03c5cc5efdefcb67f4a\" href=\"/login?return_to=https%3A%2F%2Fgithub.com%2Ftrending%2Fdevelopers\">Follow</a>\n",
       " </span>\n",
       " </span>\n",
       " </div>\n",
       " </div>\n",
       " </div>\n",
       " </div>\n",
       " </article>,\n",
       " <article class=\"Box-row d-flex\" id=\"pa-ankane\">\n",
       " <a class=\"color-fg-muted f6\" data-view-component=\"true\" href=\"#pa-ankane\" style=\"width: 16px;\" text=\"center\">\n",
       "     12\n",
       " </a>\n",
       " <div class=\"mx-3\">\n",
       " <a data-hydro-click='{\"event_type\":\"explore.click\",\"payload\":{\"click_context\":\"TRENDING_DEVELOPERS_PAGE\",\"click_target\":\"OWNER\",\"click_visual_representation\":\"TRENDING_DEVELOPER\",\"actor_id\":null,\"record_id\":220358,\"originating_url\":\"https://github.com/trending/developers\",\"user_id\":null}}' data-hydro-click-hmac=\"c08cc819d2f5c018a03d19efa4155d1281e536001c957c709810756a033754d7\" data-view-component=\"true\" href=\"/ankane\">\n",
       " <img alt=\"@ankane\" class=\"rounded avatar-user\" height=\"48\" src=\"https://avatars.githubusercontent.com/u/220358?s=96&amp;v=4\" width=\"48\"/>\n",
       " </a> </div>\n",
       " <div class=\"d-sm-flex flex-auto\">\n",
       " <div class=\"col-sm-8 d-md-flex\">\n",
       " <div class=\"col-md-6\">\n",
       " <h1 class=\"h3 lh-condensed\">\n",
       " <a data-hydro-click='{\"event_type\":\"explore.click\",\"payload\":{\"click_context\":\"TRENDING_DEVELOPERS_PAGE\",\"click_target\":\"OWNER\",\"click_visual_representation\":\"TRENDING_DEVELOPER\",\"actor_id\":null,\"record_id\":220358,\"originating_url\":\"https://github.com/trending/developers\",\"user_id\":null}}' data-hydro-click-hmac=\"c08cc819d2f5c018a03d19efa4155d1281e536001c957c709810756a033754d7\" data-view-component=\"true\" href=\"/ankane\">\n",
       "             Andrew Kane\n",
       " </a> </h1>\n",
       " <p class=\"f4 text-normal mb-1\">\n",
       " <a class=\"Link--secondary\" data-hydro-click='{\"event_type\":\"explore.click\",\"payload\":{\"click_context\":\"TRENDING_DEVELOPERS_PAGE\",\"click_target\":\"OWNER\",\"click_visual_representation\":\"TRENDING_DEVELOPER\",\"actor_id\":null,\"record_id\":220358,\"originating_url\":\"https://github.com/trending/developers\",\"user_id\":null}}' data-hydro-click-hmac=\"c08cc819d2f5c018a03d19efa4155d1281e536001c957c709810756a033754d7\" data-view-component=\"true\" href=\"/ankane\">\n",
       "               ankane\n",
       " </a> </p>\n",
       " </div>\n",
       " <div class=\"col-md-6\">\n",
       " <div class=\"mt-2 mb-3 my-md-0\">\n",
       " <article>\n",
       " <div class=\"f6 color-fg-muted text-uppercase mb-1\"><svg aria-hidden=\"true\" class=\"octicon octicon-flame mr-1 color-fg-severe\" data-view-component=\"true\" height=\"16\" version=\"1.1\" viewbox=\"0 0 16 16\" width=\"16\">\n",
       " <path d=\"M7.998 14.5c2.832 0 5-1.98 5-4.5 0-1.463-.68-2.19-1.879-3.383l-.036-.037c-1.013-1.008-2.3-2.29-2.834-4.434-.322.256-.63.579-.864.953-.432.696-.621 1.58-.046 2.73.473.947.67 2.284-.278 3.232-.61.61-1.545.84-2.403.633a2.788 2.788 0 01-1.436-.874A3.21 3.21 0 003 10c0 2.53 2.164 4.5 4.998 4.5zM9.533.753C9.496.34 9.16.009 8.77.146 7.035.75 4.34 3.187 5.997 6.5c.344.689.285 1.218.003 1.5-.419.419-1.54.487-2.04-.832-.173-.454-.659-.762-1.035-.454C2.036 7.44 1.5 8.702 1.5 10c0 3.512 2.998 6 6.498 6s6.5-2.5 6.5-6c0-2.137-1.128-3.26-2.312-4.438-1.19-1.184-2.436-2.425-2.653-4.81z\" fill-rule=\"evenodd\"></path>\n",
       " </svg>Popular repo</div>\n",
       " <h1 class=\"h4 lh-condensed\">\n",
       " <a class=\"css-truncate css-truncate-target\" data-ga-click=\"Explore, go to repository, location:trending developers\" data-hydro-click='{\"event_type\":\"explore.click\",\"payload\":{\"click_context\":\"TRENDING_DEVELOPERS_PAGE\",\"click_target\":\"REPOSITORY\",\"click_visual_representation\":\"REPOSITORY_NAME_HEADING\",\"actor_id\":null,\"record_id\":39750413,\"originating_url\":\"https://github.com/trending/developers\",\"user_id\":null}}' data-hydro-click-hmac=\"43394914b05036977bfdce85f41d1c26713e27a0547796aaa26336efe88b54cf\" data-view-component=\"true\" href=\"/ankane/the-ultimate-guide-to-ruby-timeouts\" style=\"max-width: 175px;\">\n",
       " <svg aria-hidden=\"true\" class=\"octicon octicon-repo color-fg-muted mr-1\" data-view-component=\"true\" height=\"16\" version=\"1.1\" viewbox=\"0 0 16 16\" width=\"16\">\n",
       " <path d=\"M2 2.5A2.5 2.5 0 014.5 0h8.75a.75.75 0 01.75.75v12.5a.75.75 0 01-.75.75h-2.5a.75.75 0 110-1.5h1.75v-2h-8a1 1 0 00-.714 1.7.75.75 0 01-1.072 1.05A2.495 2.495 0 012 11.5v-9zm10.5-1V9h-8c-.356 0-.694.074-1 .208V2.5a1 1 0 011-1h8zM5 12.25v3.25a.25.25 0 00.4.2l1.45-1.087a.25.25 0 01.3 0L8.6 15.7a.25.25 0 00.4-.2v-3.25a.25.25 0 00-.25-.25h-3.5a.25.25 0 00-.25.25z\" fill-rule=\"evenodd\"></path>\n",
       " </svg>\n",
       "       the-ultimate-guide-to-ruby-timeouts\n",
       " </a> </h1>\n",
       " <div class=\"f6 color-fg-muted mt-1\">\n",
       "       Timeouts for popular Ruby gems\n",
       "     </div>\n",
       " </article>\n",
       " </div>\n",
       " </div>\n",
       " </div>\n",
       " <div class=\"col-sm-4 d-flex flex-sm-justify-end ml-sm-3\">\n",
       " <div class=\"user-profile-following-container\">\n",
       " <div class=\"user-following-container\">\n",
       " <span class=\"user-following-container\">\n",
       " <span class=\"follow d-block\">\n",
       " <a class=\"btn btn-sm btn-block\" data-hydro-click='{\"event_type\":\"authentication.click\",\"payload\":{\"location_in_page\":\"follow button\",\"repository_id\":null,\"auth_type\":\"LOG_IN\",\"originating_url\":\"https://github.com/trending/developers\",\"user_id\":null}}' data-hydro-click-hmac=\"758ca9b951a863373b9dca2759329881977e0c89c5a5b03c5cc5efdefcb67f4a\" href=\"/login?return_to=https%3A%2F%2Fgithub.com%2Ftrending%2Fdevelopers\">Follow</a>\n",
       " </span>\n",
       " </span>\n",
       " </div>\n",
       " </div>\n",
       " </div>\n",
       " </div>\n",
       " </article>,\n",
       " <article class=\"Box-row d-flex\" id=\"pa-fffonion\">\n",
       " <a class=\"color-fg-muted f6\" data-view-component=\"true\" href=\"#pa-fffonion\" style=\"width: 16px;\" text=\"center\">\n",
       "     13\n",
       " </a>\n",
       " <div class=\"mx-3\">\n",
       " <a data-hydro-click='{\"event_type\":\"explore.click\",\"payload\":{\"click_context\":\"TRENDING_DEVELOPERS_PAGE\",\"click_target\":\"OWNER\",\"click_visual_representation\":\"TRENDING_DEVELOPER\",\"actor_id\":null,\"record_id\":2135445,\"originating_url\":\"https://github.com/trending/developers\",\"user_id\":null}}' data-hydro-click-hmac=\"b5e02070463f9fb462f45d80cf791e60ed8b8f51f292c294703e1d15033517ad\" data-view-component=\"true\" href=\"/fffonion\">\n",
       " <img alt=\"@fffonion\" class=\"rounded avatar-user\" height=\"48\" src=\"https://avatars.githubusercontent.com/u/2135445?s=96&amp;v=4\" width=\"48\"/>\n",
       " </a> </div>\n",
       " <div class=\"d-sm-flex flex-auto\">\n",
       " <div class=\"col-sm-8 d-md-flex\">\n",
       " <div class=\"col-md-6\">\n",
       " <h1 class=\"h3 lh-condensed\">\n",
       " <a data-hydro-click='{\"event_type\":\"explore.click\",\"payload\":{\"click_context\":\"TRENDING_DEVELOPERS_PAGE\",\"click_target\":\"OWNER\",\"click_visual_representation\":\"TRENDING_DEVELOPER\",\"actor_id\":null,\"record_id\":2135445,\"originating_url\":\"https://github.com/trending/developers\",\"user_id\":null}}' data-hydro-click-hmac=\"b5e02070463f9fb462f45d80cf791e60ed8b8f51f292c294703e1d15033517ad\" data-view-component=\"true\" href=\"/fffonion\">\n",
       "             Wangchong Zhou\n",
       " </a> </h1>\n",
       " <p class=\"f4 text-normal mb-1\">\n",
       " <a class=\"Link--secondary\" data-hydro-click='{\"event_type\":\"explore.click\",\"payload\":{\"click_context\":\"TRENDING_DEVELOPERS_PAGE\",\"click_target\":\"OWNER\",\"click_visual_representation\":\"TRENDING_DEVELOPER\",\"actor_id\":null,\"record_id\":2135445,\"originating_url\":\"https://github.com/trending/developers\",\"user_id\":null}}' data-hydro-click-hmac=\"b5e02070463f9fb462f45d80cf791e60ed8b8f51f292c294703e1d15033517ad\" data-view-component=\"true\" href=\"/fffonion\">\n",
       "               fffonion\n",
       " </a> </p>\n",
       " </div>\n",
       " <div class=\"col-md-6\">\n",
       " <div class=\"mt-2 mb-3 my-md-0\">\n",
       " <article>\n",
       " <div class=\"f6 color-fg-muted text-uppercase mb-1\"><svg aria-hidden=\"true\" class=\"octicon octicon-flame mr-1 color-fg-severe\" data-view-component=\"true\" height=\"16\" version=\"1.1\" viewbox=\"0 0 16 16\" width=\"16\">\n",
       " <path d=\"M7.998 14.5c2.832 0 5-1.98 5-4.5 0-1.463-.68-2.19-1.879-3.383l-.036-.037c-1.013-1.008-2.3-2.29-2.834-4.434-.322.256-.63.579-.864.953-.432.696-.621 1.58-.046 2.73.473.947.67 2.284-.278 3.232-.61.61-1.545.84-2.403.633a2.788 2.788 0 01-1.436-.874A3.21 3.21 0 003 10c0 2.53 2.164 4.5 4.998 4.5zM9.533.753C9.496.34 9.16.009 8.77.146 7.035.75 4.34 3.187 5.997 6.5c.344.689.285 1.218.003 1.5-.419.419-1.54.487-2.04-.832-.173-.454-.659-.762-1.035-.454C2.036 7.44 1.5 8.702 1.5 10c0 3.512 2.998 6 6.498 6s6.5-2.5 6.5-6c0-2.137-1.128-3.26-2.312-4.438-1.19-1.184-2.436-2.425-2.653-4.81z\" fill-rule=\"evenodd\"></path>\n",
       " </svg>Popular repo</div>\n",
       " <h1 class=\"h4 lh-condensed\">\n",
       " <a class=\"css-truncate css-truncate-target\" data-ga-click=\"Explore, go to repository, location:trending developers\" data-hydro-click='{\"event_type\":\"explore.click\",\"payload\":{\"click_context\":\"TRENDING_DEVELOPERS_PAGE\",\"click_target\":\"REPOSITORY\",\"click_visual_representation\":\"REPOSITORY_NAME_HEADING\",\"actor_id\":null,\"record_id\":8969192,\"originating_url\":\"https://github.com/trending/developers\",\"user_id\":null}}' data-hydro-click-hmac=\"255523817794d0db50158b754263e4ed6ed5958b7fcad3e94ffdbd24a9ba063a\" data-view-component=\"true\" href=\"/fffonion/xeHentai\" style=\"max-width: 175px;\">\n",
       " <svg aria-hidden=\"true\" class=\"octicon octicon-repo color-fg-muted mr-1\" data-view-component=\"true\" height=\"16\" version=\"1.1\" viewbox=\"0 0 16 16\" width=\"16\">\n",
       " <path d=\"M2 2.5A2.5 2.5 0 014.5 0h8.75a.75.75 0 01.75.75v12.5a.75.75 0 01-.75.75h-2.5a.75.75 0 110-1.5h1.75v-2h-8a1 1 0 00-.714 1.7.75.75 0 01-1.072 1.05A2.495 2.495 0 012 11.5v-9zm10.5-1V9h-8c-.356 0-.694.074-1 .208V2.5a1 1 0 011-1h8zM5 12.25v3.25a.25.25 0 00.4.2l1.45-1.087a.25.25 0 01.3 0L8.6 15.7a.25.25 0 00.4-.2v-3.25a.25.25 0 00-.25-.25h-3.5a.25.25 0 00-.25.25z\" fill-rule=\"evenodd\"></path>\n",
       " </svg>\n",
       "       xeHentai\n",
       " </a> </h1>\n",
       " <div class=\"f6 color-fg-muted mt-1\">\n",
       "       Doujinshi downloader 绅士漫画下载\n",
       "     </div>\n",
       " </article>\n",
       " </div>\n",
       " </div>\n",
       " </div>\n",
       " <div class=\"col-sm-4 d-flex flex-sm-justify-end ml-sm-3\">\n",
       " <div class=\"user-profile-following-container\">\n",
       " <div class=\"user-following-container\">\n",
       " <span class=\"user-following-container\">\n",
       " <span class=\"follow d-block\">\n",
       " <a class=\"btn btn-sm btn-block\" data-hydro-click='{\"event_type\":\"authentication.click\",\"payload\":{\"location_in_page\":\"follow button\",\"repository_id\":null,\"auth_type\":\"LOG_IN\",\"originating_url\":\"https://github.com/trending/developers\",\"user_id\":null}}' data-hydro-click-hmac=\"758ca9b951a863373b9dca2759329881977e0c89c5a5b03c5cc5efdefcb67f4a\" href=\"/login?return_to=https%3A%2F%2Fgithub.com%2Ftrending%2Fdevelopers\">Follow</a>\n",
       " </span>\n",
       " </span>\n",
       " </div>\n",
       " </div>\n",
       " </div>\n",
       " </div>\n",
       " </article>,\n",
       " <article class=\"Box-row d-flex\" id=\"pa-mislav\">\n",
       " <a class=\"color-fg-muted f6\" data-view-component=\"true\" href=\"#pa-mislav\" style=\"width: 16px;\" text=\"center\">\n",
       "     14\n",
       " </a>\n",
       " <div class=\"mx-3\">\n",
       " <a data-hydro-click='{\"event_type\":\"explore.click\",\"payload\":{\"click_context\":\"TRENDING_DEVELOPERS_PAGE\",\"click_target\":\"OWNER\",\"click_visual_representation\":\"TRENDING_DEVELOPER\",\"actor_id\":null,\"record_id\":887,\"originating_url\":\"https://github.com/trending/developers\",\"user_id\":null}}' data-hydro-click-hmac=\"e5f4d9435dc591451a8b054df3579d832deb6d34325eb37c600a2f15d53eae10\" data-view-component=\"true\" href=\"/mislav\">\n",
       " <img alt=\"@mislav\" class=\"rounded avatar-user\" height=\"48\" src=\"https://avatars.githubusercontent.com/u/887?s=96&amp;v=4\" width=\"48\"/>\n",
       " </a> </div>\n",
       " <div class=\"d-sm-flex flex-auto\">\n",
       " <div class=\"col-sm-8 d-md-flex\">\n",
       " <div class=\"col-md-6\">\n",
       " <h1 class=\"h3 lh-condensed\">\n",
       " <a data-hydro-click='{\"event_type\":\"explore.click\",\"payload\":{\"click_context\":\"TRENDING_DEVELOPERS_PAGE\",\"click_target\":\"OWNER\",\"click_visual_representation\":\"TRENDING_DEVELOPER\",\"actor_id\":null,\"record_id\":887,\"originating_url\":\"https://github.com/trending/developers\",\"user_id\":null}}' data-hydro-click-hmac=\"e5f4d9435dc591451a8b054df3579d832deb6d34325eb37c600a2f15d53eae10\" data-view-component=\"true\" href=\"/mislav\">\n",
       "             Mislav Marohnić\n",
       " </a> </h1>\n",
       " <p class=\"f4 text-normal mb-1\">\n",
       " <a class=\"Link--secondary\" data-hydro-click='{\"event_type\":\"explore.click\",\"payload\":{\"click_context\":\"TRENDING_DEVELOPERS_PAGE\",\"click_target\":\"OWNER\",\"click_visual_representation\":\"TRENDING_DEVELOPER\",\"actor_id\":null,\"record_id\":887,\"originating_url\":\"https://github.com/trending/developers\",\"user_id\":null}}' data-hydro-click-hmac=\"e5f4d9435dc591451a8b054df3579d832deb6d34325eb37c600a2f15d53eae10\" data-view-component=\"true\" href=\"/mislav\">\n",
       "               mislav\n",
       " </a> </p>\n",
       " </div>\n",
       " <div class=\"col-md-6\">\n",
       " <div class=\"mt-2 mb-3 my-md-0\">\n",
       " <article>\n",
       " <div class=\"f6 color-fg-muted text-uppercase mb-1\"><svg aria-hidden=\"true\" class=\"octicon octicon-flame mr-1 color-fg-severe\" data-view-component=\"true\" height=\"16\" version=\"1.1\" viewbox=\"0 0 16 16\" width=\"16\">\n",
       " <path d=\"M7.998 14.5c2.832 0 5-1.98 5-4.5 0-1.463-.68-2.19-1.879-3.383l-.036-.037c-1.013-1.008-2.3-2.29-2.834-4.434-.322.256-.63.579-.864.953-.432.696-.621 1.58-.046 2.73.473.947.67 2.284-.278 3.232-.61.61-1.545.84-2.403.633a2.788 2.788 0 01-1.436-.874A3.21 3.21 0 003 10c0 2.53 2.164 4.5 4.998 4.5zM9.533.753C9.496.34 9.16.009 8.77.146 7.035.75 4.34 3.187 5.997 6.5c.344.689.285 1.218.003 1.5-.419.419-1.54.487-2.04-.832-.173-.454-.659-.762-1.035-.454C2.036 7.44 1.5 8.702 1.5 10c0 3.512 2.998 6 6.498 6s6.5-2.5 6.5-6c0-2.137-1.128-3.26-2.312-4.438-1.19-1.184-2.436-2.425-2.653-4.81z\" fill-rule=\"evenodd\"></path>\n",
       " </svg>Popular repo</div>\n",
       " <h1 class=\"h4 lh-condensed\">\n",
       " <a class=\"css-truncate css-truncate-target\" data-ga-click=\"Explore, go to repository, location:trending developers\" data-hydro-click='{\"event_type\":\"explore.click\",\"payload\":{\"click_context\":\"TRENDING_DEVELOPERS_PAGE\",\"click_target\":\"REPOSITORY\",\"click_visual_representation\":\"REPOSITORY_NAME_HEADING\",\"actor_id\":null,\"record_id\":1227,\"originating_url\":\"https://github.com/trending/developers\",\"user_id\":null}}' data-hydro-click-hmac=\"65901a828f5556d882a3809e6fad9cc649f0575eb122d99a512521e42f3687fc\" data-view-component=\"true\" href=\"/mislav/will_paginate\" style=\"max-width: 175px;\">\n",
       " <svg aria-hidden=\"true\" class=\"octicon octicon-repo color-fg-muted mr-1\" data-view-component=\"true\" height=\"16\" version=\"1.1\" viewbox=\"0 0 16 16\" width=\"16\">\n",
       " <path d=\"M2 2.5A2.5 2.5 0 014.5 0h8.75a.75.75 0 01.75.75v12.5a.75.75 0 01-.75.75h-2.5a.75.75 0 110-1.5h1.75v-2h-8a1 1 0 00-.714 1.7.75.75 0 01-1.072 1.05A2.495 2.495 0 012 11.5v-9zm10.5-1V9h-8c-.356 0-.694.074-1 .208V2.5a1 1 0 011-1h8zM5 12.25v3.25a.25.25 0 00.4.2l1.45-1.087a.25.25 0 01.3 0L8.6 15.7a.25.25 0 00.4-.2v-3.25a.25.25 0 00-.25-.25h-3.5a.25.25 0 00-.25.25z\" fill-rule=\"evenodd\"></path>\n",
       " </svg>\n",
       "       will_paginate\n",
       " </a> </h1>\n",
       " <div class=\"f6 color-fg-muted mt-1\">\n",
       "       Pagination library for Rails, Sinatra, Merb, DataMapper, and more\n",
       "     </div>\n",
       " </article>\n",
       " </div>\n",
       " </div>\n",
       " </div>\n",
       " <div class=\"col-sm-4 d-flex flex-sm-justify-end ml-sm-3\">\n",
       " <div class=\"user-profile-following-container\">\n",
       " <div class=\"user-following-container\">\n",
       " <span class=\"user-following-container\">\n",
       " <span class=\"follow d-block\">\n",
       " <a class=\"btn btn-sm btn-block\" data-hydro-click='{\"event_type\":\"authentication.click\",\"payload\":{\"location_in_page\":\"follow button\",\"repository_id\":null,\"auth_type\":\"LOG_IN\",\"originating_url\":\"https://github.com/trending/developers\",\"user_id\":null}}' data-hydro-click-hmac=\"758ca9b951a863373b9dca2759329881977e0c89c5a5b03c5cc5efdefcb67f4a\" href=\"/login?return_to=https%3A%2F%2Fgithub.com%2Ftrending%2Fdevelopers\">Follow</a>\n",
       " </span>\n",
       " </span>\n",
       " </div>\n",
       " </div>\n",
       " </div>\n",
       " </div>\n",
       " </article>,\n",
       " <article class=\"Box-row d-flex\" id=\"pa-rusty1s\">\n",
       " <a class=\"color-fg-muted f6\" data-view-component=\"true\" href=\"#pa-rusty1s\" style=\"width: 16px;\" text=\"center\">\n",
       "     15\n",
       " </a>\n",
       " <div class=\"mx-3\">\n",
       " <a data-hydro-click='{\"event_type\":\"explore.click\",\"payload\":{\"click_context\":\"TRENDING_DEVELOPERS_PAGE\",\"click_target\":\"OWNER\",\"click_visual_representation\":\"TRENDING_DEVELOPER\",\"actor_id\":null,\"record_id\":6945922,\"originating_url\":\"https://github.com/trending/developers\",\"user_id\":null}}' data-hydro-click-hmac=\"7fbe59d9fdb275229a55426742b4533e1c7dc044a4c1bf46e0c946e56b11287b\" data-view-component=\"true\" href=\"/rusty1s\">\n",
       " <img alt=\"@rusty1s\" class=\"rounded avatar-user\" height=\"48\" src=\"https://avatars.githubusercontent.com/u/6945922?s=96&amp;v=4\" width=\"48\"/>\n",
       " </a> </div>\n",
       " <div class=\"d-sm-flex flex-auto\">\n",
       " <div class=\"col-sm-8 d-md-flex\">\n",
       " <div class=\"col-md-6\">\n",
       " <h1 class=\"h3 lh-condensed\">\n",
       " <a data-hydro-click='{\"event_type\":\"explore.click\",\"payload\":{\"click_context\":\"TRENDING_DEVELOPERS_PAGE\",\"click_target\":\"OWNER\",\"click_visual_representation\":\"TRENDING_DEVELOPER\",\"actor_id\":null,\"record_id\":6945922,\"originating_url\":\"https://github.com/trending/developers\",\"user_id\":null}}' data-hydro-click-hmac=\"7fbe59d9fdb275229a55426742b4533e1c7dc044a4c1bf46e0c946e56b11287b\" data-view-component=\"true\" href=\"/rusty1s\">\n",
       "             Matthias Fey\n",
       " </a> </h1>\n",
       " <p class=\"f4 text-normal mb-1\">\n",
       " <a class=\"Link--secondary\" data-hydro-click='{\"event_type\":\"explore.click\",\"payload\":{\"click_context\":\"TRENDING_DEVELOPERS_PAGE\",\"click_target\":\"OWNER\",\"click_visual_representation\":\"TRENDING_DEVELOPER\",\"actor_id\":null,\"record_id\":6945922,\"originating_url\":\"https://github.com/trending/developers\",\"user_id\":null}}' data-hydro-click-hmac=\"7fbe59d9fdb275229a55426742b4533e1c7dc044a4c1bf46e0c946e56b11287b\" data-view-component=\"true\" href=\"/rusty1s\">\n",
       "               rusty1s\n",
       " </a> </p>\n",
       " </div>\n",
       " <div class=\"col-md-6\">\n",
       " <div class=\"mt-2 mb-3 my-md-0\">\n",
       " <article>\n",
       " <div class=\"f6 color-fg-muted text-uppercase mb-1\"><svg aria-hidden=\"true\" class=\"octicon octicon-flame mr-1 color-fg-severe\" data-view-component=\"true\" height=\"16\" version=\"1.1\" viewbox=\"0 0 16 16\" width=\"16\">\n",
       " <path d=\"M7.998 14.5c2.832 0 5-1.98 5-4.5 0-1.463-.68-2.19-1.879-3.383l-.036-.037c-1.013-1.008-2.3-2.29-2.834-4.434-.322.256-.63.579-.864.953-.432.696-.621 1.58-.046 2.73.473.947.67 2.284-.278 3.232-.61.61-1.545.84-2.403.633a2.788 2.788 0 01-1.436-.874A3.21 3.21 0 003 10c0 2.53 2.164 4.5 4.998 4.5zM9.533.753C9.496.34 9.16.009 8.77.146 7.035.75 4.34 3.187 5.997 6.5c.344.689.285 1.218.003 1.5-.419.419-1.54.487-2.04-.832-.173-.454-.659-.762-1.035-.454C2.036 7.44 1.5 8.702 1.5 10c0 3.512 2.998 6 6.498 6s6.5-2.5 6.5-6c0-2.137-1.128-3.26-2.312-4.438-1.19-1.184-2.436-2.425-2.653-4.81z\" fill-rule=\"evenodd\"></path>\n",
       " </svg>Popular repo</div>\n",
       " <h1 class=\"h4 lh-condensed\">\n",
       " <a class=\"css-truncate css-truncate-target\" data-ga-click=\"Explore, go to repository, location:trending developers\" data-hydro-click='{\"event_type\":\"explore.click\",\"payload\":{\"click_context\":\"TRENDING_DEVELOPERS_PAGE\",\"click_target\":\"REPOSITORY\",\"click_visual_representation\":\"REPOSITORY_NAME_HEADING\",\"actor_id\":null,\"record_id\":114475042,\"originating_url\":\"https://github.com/trending/developers\",\"user_id\":null}}' data-hydro-click-hmac=\"f96365b91bf4cc1a07f19f0494f4d06c3199354176483e5e72e9b4839e069c9d\" data-view-component=\"true\" href=\"/rusty1s/pytorch_scatter\" style=\"max-width: 175px;\">\n",
       " <svg aria-hidden=\"true\" class=\"octicon octicon-repo color-fg-muted mr-1\" data-view-component=\"true\" height=\"16\" version=\"1.1\" viewbox=\"0 0 16 16\" width=\"16\">\n",
       " <path d=\"M2 2.5A2.5 2.5 0 014.5 0h8.75a.75.75 0 01.75.75v12.5a.75.75 0 01-.75.75h-2.5a.75.75 0 110-1.5h1.75v-2h-8a1 1 0 00-.714 1.7.75.75 0 01-1.072 1.05A2.495 2.495 0 012 11.5v-9zm10.5-1V9h-8c-.356 0-.694.074-1 .208V2.5a1 1 0 011-1h8zM5 12.25v3.25a.25.25 0 00.4.2l1.45-1.087a.25.25 0 01.3 0L8.6 15.7a.25.25 0 00.4-.2v-3.25a.25.25 0 00-.25-.25h-3.5a.25.25 0 00-.25.25z\" fill-rule=\"evenodd\"></path>\n",
       " </svg>\n",
       "       pytorch_scatter\n",
       " </a> </h1>\n",
       " <div class=\"f6 color-fg-muted mt-1\">\n",
       "       PyTorch Extension Library of Optimized Scatter Operations\n",
       "     </div>\n",
       " </article>\n",
       " </div>\n",
       " </div>\n",
       " </div>\n",
       " <div class=\"col-sm-4 d-flex flex-sm-justify-end ml-sm-3\">\n",
       " <div class=\"user-profile-following-container\">\n",
       " <div class=\"user-following-container\">\n",
       " <span class=\"user-following-container\">\n",
       " <span class=\"follow d-block\">\n",
       " <a class=\"btn btn-sm btn-block\" data-hydro-click='{\"event_type\":\"authentication.click\",\"payload\":{\"location_in_page\":\"follow button\",\"repository_id\":null,\"auth_type\":\"LOG_IN\",\"originating_url\":\"https://github.com/trending/developers\",\"user_id\":null}}' data-hydro-click-hmac=\"758ca9b951a863373b9dca2759329881977e0c89c5a5b03c5cc5efdefcb67f4a\" href=\"/login?return_to=https%3A%2F%2Fgithub.com%2Ftrending%2Fdevelopers\">Follow</a>\n",
       " </span>\n",
       " </span>\n",
       " </div>\n",
       " </div>\n",
       " </div>\n",
       " </div>\n",
       " </article>,\n",
       " <article class=\"Box-row d-flex\" id=\"pa-Mause\">\n",
       " <a class=\"color-fg-muted f6\" data-view-component=\"true\" href=\"#pa-Mause\" style=\"width: 16px;\" text=\"center\">\n",
       "     16\n",
       " </a>\n",
       " <div class=\"mx-3\">\n",
       " <a data-hydro-click='{\"event_type\":\"explore.click\",\"payload\":{\"click_context\":\"TRENDING_DEVELOPERS_PAGE\",\"click_target\":\"OWNER\",\"click_visual_representation\":\"TRENDING_DEVELOPER\",\"actor_id\":null,\"record_id\":1405026,\"originating_url\":\"https://github.com/trending/developers\",\"user_id\":null}}' data-hydro-click-hmac=\"51b0cda87cca60d79e9fa9bea69a391a071a8ab4f4f8c943ade44d33a3bf883a\" data-view-component=\"true\" href=\"/Mause\">\n",
       " <img alt=\"@Mause\" class=\"rounded avatar-user\" height=\"48\" src=\"https://avatars.githubusercontent.com/u/1405026?s=96&amp;v=4\" width=\"48\"/>\n",
       " </a> </div>\n",
       " <div class=\"d-sm-flex flex-auto\">\n",
       " <div class=\"col-sm-8 d-md-flex\">\n",
       " <div class=\"col-md-6\">\n",
       " <h1 class=\"h3 lh-condensed\">\n",
       " <a data-hydro-click='{\"event_type\":\"explore.click\",\"payload\":{\"click_context\":\"TRENDING_DEVELOPERS_PAGE\",\"click_target\":\"OWNER\",\"click_visual_representation\":\"TRENDING_DEVELOPER\",\"actor_id\":null,\"record_id\":1405026,\"originating_url\":\"https://github.com/trending/developers\",\"user_id\":null}}' data-hydro-click-hmac=\"51b0cda87cca60d79e9fa9bea69a391a071a8ab4f4f8c943ade44d33a3bf883a\" data-view-component=\"true\" href=\"/Mause\">\n",
       "             Elliana May\n",
       " </a> </h1>\n",
       " <p class=\"f4 text-normal mb-1\">\n",
       " <a class=\"Link--secondary\" data-hydro-click='{\"event_type\":\"explore.click\",\"payload\":{\"click_context\":\"TRENDING_DEVELOPERS_PAGE\",\"click_target\":\"OWNER\",\"click_visual_representation\":\"TRENDING_DEVELOPER\",\"actor_id\":null,\"record_id\":1405026,\"originating_url\":\"https://github.com/trending/developers\",\"user_id\":null}}' data-hydro-click-hmac=\"51b0cda87cca60d79e9fa9bea69a391a071a8ab4f4f8c943ade44d33a3bf883a\" data-view-component=\"true\" href=\"/Mause\">\n",
       "               Mause\n",
       " </a> </p>\n",
       " </div>\n",
       " <div class=\"col-md-6\">\n",
       " <div class=\"mt-2 mb-3 my-md-0\">\n",
       " <article>\n",
       " <div class=\"f6 color-fg-muted text-uppercase mb-1\"><svg aria-hidden=\"true\" class=\"octicon octicon-flame mr-1 color-fg-severe\" data-view-component=\"true\" height=\"16\" version=\"1.1\" viewbox=\"0 0 16 16\" width=\"16\">\n",
       " <path d=\"M7.998 14.5c2.832 0 5-1.98 5-4.5 0-1.463-.68-2.19-1.879-3.383l-.036-.037c-1.013-1.008-2.3-2.29-2.834-4.434-.322.256-.63.579-.864.953-.432.696-.621 1.58-.046 2.73.473.947.67 2.284-.278 3.232-.61.61-1.545.84-2.403.633a2.788 2.788 0 01-1.436-.874A3.21 3.21 0 003 10c0 2.53 2.164 4.5 4.998 4.5zM9.533.753C9.496.34 9.16.009 8.77.146 7.035.75 4.34 3.187 5.997 6.5c.344.689.285 1.218.003 1.5-.419.419-1.54.487-2.04-.832-.173-.454-.659-.762-1.035-.454C2.036 7.44 1.5 8.702 1.5 10c0 3.512 2.998 6 6.498 6s6.5-2.5 6.5-6c0-2.137-1.128-3.26-2.312-4.438-1.19-1.184-2.436-2.425-2.653-4.81z\" fill-rule=\"evenodd\"></path>\n",
       " </svg>Popular repo</div>\n",
       " <h1 class=\"h4 lh-condensed\">\n",
       " <a class=\"css-truncate css-truncate-target\" data-ga-click=\"Explore, go to repository, location:trending developers\" data-hydro-click='{\"event_type\":\"explore.click\",\"payload\":{\"click_context\":\"TRENDING_DEVELOPERS_PAGE\",\"click_target\":\"REPOSITORY\",\"click_visual_representation\":\"REPOSITORY_NAME_HEADING\",\"actor_id\":null,\"record_id\":549634122,\"originating_url\":\"https://github.com/trending/developers\",\"user_id\":null}}' data-hydro-click-hmac=\"59cad5e73e66aa9731953049e9adc1bbf234e57b9298910aa18790f0ebc30157\" data-view-component=\"true\" href=\"/Mause/duckdb-extension-framework\" style=\"max-width: 175px;\">\n",
       " <svg aria-hidden=\"true\" class=\"octicon octicon-repo color-fg-muted mr-1\" data-view-component=\"true\" height=\"16\" version=\"1.1\" viewbox=\"0 0 16 16\" width=\"16\">\n",
       " <path d=\"M2 2.5A2.5 2.5 0 014.5 0h8.75a.75.75 0 01.75.75v12.5a.75.75 0 01-.75.75h-2.5a.75.75 0 110-1.5h1.75v-2h-8a1 1 0 00-.714 1.7.75.75 0 01-1.072 1.05A2.495 2.495 0 012 11.5v-9zm10.5-1V9h-8c-.356 0-.694.074-1 .208V2.5a1 1 0 011-1h8zM5 12.25v3.25a.25.25 0 00.4.2l1.45-1.087a.25.25 0 01.3 0L8.6 15.7a.25.25 0 00.4-.2v-3.25a.25.25 0 00-.25-.25h-3.5a.25.25 0 00-.25.25z\" fill-rule=\"evenodd\"></path>\n",
       " </svg>\n",
       "       duckdb-extension-framework\n",
       " </a> </h1>\n",
       " </article>\n",
       " </div>\n",
       " </div>\n",
       " </div>\n",
       " <div class=\"col-sm-4 d-flex flex-sm-justify-end ml-sm-3\">\n",
       " <div class=\"user-profile-following-container\">\n",
       " <div class=\"user-following-container\">\n",
       " <span class=\"user-following-container\">\n",
       " <span class=\"follow d-block\">\n",
       " <a class=\"btn btn-sm btn-block\" data-hydro-click='{\"event_type\":\"authentication.click\",\"payload\":{\"location_in_page\":\"follow button\",\"repository_id\":null,\"auth_type\":\"LOG_IN\",\"originating_url\":\"https://github.com/trending/developers\",\"user_id\":null}}' data-hydro-click-hmac=\"758ca9b951a863373b9dca2759329881977e0c89c5a5b03c5cc5efdefcb67f4a\" href=\"/login?return_to=https%3A%2F%2Fgithub.com%2Ftrending%2Fdevelopers\">Follow</a>\n",
       " </span>\n",
       " </span>\n",
       " </div>\n",
       " </div>\n",
       " </div>\n",
       " </div>\n",
       " </article>,\n",
       " <article class=\"Box-row d-flex\" id=\"pa-rom1504\">\n",
       " <a class=\"color-fg-muted f6\" data-view-component=\"true\" href=\"#pa-rom1504\" style=\"width: 16px;\" text=\"center\">\n",
       "     17\n",
       " </a>\n",
       " <div class=\"mx-3\">\n",
       " <a data-hydro-click='{\"event_type\":\"explore.click\",\"payload\":{\"click_context\":\"TRENDING_DEVELOPERS_PAGE\",\"click_target\":\"OWNER\",\"click_visual_representation\":\"TRENDING_DEVELOPER\",\"actor_id\":null,\"record_id\":2346494,\"originating_url\":\"https://github.com/trending/developers\",\"user_id\":null}}' data-hydro-click-hmac=\"8c381f946ac22bd7e2c255bc7b33161c3ba82620bc70b24a5a740b5fc0a638fa\" data-view-component=\"true\" href=\"/rom1504\">\n",
       " <img alt=\"@rom1504\" class=\"rounded avatar-user\" height=\"48\" src=\"https://avatars.githubusercontent.com/u/2346494?s=96&amp;v=4\" width=\"48\"/>\n",
       " </a> </div>\n",
       " <div class=\"d-sm-flex flex-auto\">\n",
       " <div class=\"col-sm-8 d-md-flex\">\n",
       " <div class=\"col-md-6\">\n",
       " <h1 class=\"h3 lh-condensed\">\n",
       " <a data-hydro-click='{\"event_type\":\"explore.click\",\"payload\":{\"click_context\":\"TRENDING_DEVELOPERS_PAGE\",\"click_target\":\"OWNER\",\"click_visual_representation\":\"TRENDING_DEVELOPER\",\"actor_id\":null,\"record_id\":2346494,\"originating_url\":\"https://github.com/trending/developers\",\"user_id\":null}}' data-hydro-click-hmac=\"8c381f946ac22bd7e2c255bc7b33161c3ba82620bc70b24a5a740b5fc0a638fa\" data-view-component=\"true\" href=\"/rom1504\">\n",
       "             Romain Beaumont\n",
       " </a> </h1>\n",
       " <p class=\"f4 text-normal mb-1\">\n",
       " <a class=\"Link--secondary\" data-hydro-click='{\"event_type\":\"explore.click\",\"payload\":{\"click_context\":\"TRENDING_DEVELOPERS_PAGE\",\"click_target\":\"OWNER\",\"click_visual_representation\":\"TRENDING_DEVELOPER\",\"actor_id\":null,\"record_id\":2346494,\"originating_url\":\"https://github.com/trending/developers\",\"user_id\":null}}' data-hydro-click-hmac=\"8c381f946ac22bd7e2c255bc7b33161c3ba82620bc70b24a5a740b5fc0a638fa\" data-view-component=\"true\" href=\"/rom1504\">\n",
       "               rom1504\n",
       " </a> </p>\n",
       " </div>\n",
       " <div class=\"col-md-6\">\n",
       " <div class=\"mt-2 mb-3 my-md-0\">\n",
       " <article>\n",
       " <div class=\"f6 color-fg-muted text-uppercase mb-1\"><svg aria-hidden=\"true\" class=\"octicon octicon-flame mr-1 color-fg-severe\" data-view-component=\"true\" height=\"16\" version=\"1.1\" viewbox=\"0 0 16 16\" width=\"16\">\n",
       " <path d=\"M7.998 14.5c2.832 0 5-1.98 5-4.5 0-1.463-.68-2.19-1.879-3.383l-.036-.037c-1.013-1.008-2.3-2.29-2.834-4.434-.322.256-.63.579-.864.953-.432.696-.621 1.58-.046 2.73.473.947.67 2.284-.278 3.232-.61.61-1.545.84-2.403.633a2.788 2.788 0 01-1.436-.874A3.21 3.21 0 003 10c0 2.53 2.164 4.5 4.998 4.5zM9.533.753C9.496.34 9.16.009 8.77.146 7.035.75 4.34 3.187 5.997 6.5c.344.689.285 1.218.003 1.5-.419.419-1.54.487-2.04-.832-.173-.454-.659-.762-1.035-.454C2.036 7.44 1.5 8.702 1.5 10c0 3.512 2.998 6 6.498 6s6.5-2.5 6.5-6c0-2.137-1.128-3.26-2.312-4.438-1.19-1.184-2.436-2.425-2.653-4.81z\" fill-rule=\"evenodd\"></path>\n",
       " </svg>Popular repo</div>\n",
       " <h1 class=\"h4 lh-condensed\">\n",
       " <a class=\"css-truncate css-truncate-target\" data-ga-click=\"Explore, go to repository, location:trending developers\" data-hydro-click='{\"event_type\":\"explore.click\",\"payload\":{\"click_context\":\"TRENDING_DEVELOPERS_PAGE\",\"click_target\":\"REPOSITORY\",\"click_visual_representation\":\"REPOSITORY_NAME_HEADING\",\"actor_id\":null,\"record_id\":395107319,\"originating_url\":\"https://github.com/trending/developers\",\"user_id\":null}}' data-hydro-click-hmac=\"ca0779fa426e09472d07d7df262a0727c3fda805b0255f4c2d4a05f627371eee\" data-view-component=\"true\" href=\"/rom1504/img2dataset\" style=\"max-width: 175px;\">\n",
       " <svg aria-hidden=\"true\" class=\"octicon octicon-repo color-fg-muted mr-1\" data-view-component=\"true\" height=\"16\" version=\"1.1\" viewbox=\"0 0 16 16\" width=\"16\">\n",
       " <path d=\"M2 2.5A2.5 2.5 0 014.5 0h8.75a.75.75 0 01.75.75v12.5a.75.75 0 01-.75.75h-2.5a.75.75 0 110-1.5h1.75v-2h-8a1 1 0 00-.714 1.7.75.75 0 01-1.072 1.05A2.495 2.495 0 012 11.5v-9zm10.5-1V9h-8c-.356 0-.694.074-1 .208V2.5a1 1 0 011-1h8zM5 12.25v3.25a.25.25 0 00.4.2l1.45-1.087a.25.25 0 01.3 0L8.6 15.7a.25.25 0 00.4-.2v-3.25a.25.25 0 00-.25-.25h-3.5a.25.25 0 00-.25.25z\" fill-rule=\"evenodd\"></path>\n",
       " </svg>\n",
       "       img2dataset\n",
       " </a> </h1>\n",
       " <div class=\"f6 color-fg-muted mt-1\">\n",
       "       Easily turn large sets of image urls to an image dataset. Can download, resize and package 100M urls in 20h on one machine.\n",
       "     </div>\n",
       " </article>\n",
       " </div>\n",
       " </div>\n",
       " </div>\n",
       " <div class=\"col-sm-4 d-flex flex-sm-justify-end ml-sm-3\">\n",
       " <div class=\"user-profile-following-container\">\n",
       " <div class=\"user-following-container\">\n",
       " <span class=\"user-following-container\">\n",
       " <span class=\"follow d-block\">\n",
       " <a class=\"btn btn-sm btn-block\" data-hydro-click='{\"event_type\":\"authentication.click\",\"payload\":{\"location_in_page\":\"follow button\",\"repository_id\":null,\"auth_type\":\"LOG_IN\",\"originating_url\":\"https://github.com/trending/developers\",\"user_id\":null}}' data-hydro-click-hmac=\"758ca9b951a863373b9dca2759329881977e0c89c5a5b03c5cc5efdefcb67f4a\" href=\"/login?return_to=https%3A%2F%2Fgithub.com%2Ftrending%2Fdevelopers\">Follow</a>\n",
       " </span>\n",
       " </span>\n",
       " </div>\n",
       " </div>\n",
       " </div>\n",
       " </div>\n",
       " </article>,\n",
       " <article class=\"Box-row d-flex\" id=\"pa-HariSekhon\">\n",
       " <a class=\"color-fg-muted f6\" data-view-component=\"true\" href=\"#pa-HariSekhon\" style=\"width: 16px;\" text=\"center\">\n",
       "     18\n",
       " </a>\n",
       " <div class=\"mx-3\">\n",
       " <a data-hydro-click='{\"event_type\":\"explore.click\",\"payload\":{\"click_context\":\"TRENDING_DEVELOPERS_PAGE\",\"click_target\":\"OWNER\",\"click_visual_representation\":\"TRENDING_DEVELOPER\",\"actor_id\":null,\"record_id\":2211051,\"originating_url\":\"https://github.com/trending/developers\",\"user_id\":null}}' data-hydro-click-hmac=\"25e027c8cd64dba8299c2f0873a539a5ec5972d0de2930e5cffb8199cfbfdeef\" data-view-component=\"true\" href=\"/HariSekhon\">\n",
       " <img alt=\"@HariSekhon\" class=\"rounded avatar-user\" height=\"48\" src=\"https://avatars.githubusercontent.com/u/2211051?s=96&amp;v=4\" width=\"48\"/>\n",
       " </a> </div>\n",
       " <div class=\"d-sm-flex flex-auto\">\n",
       " <div class=\"col-sm-8 d-md-flex\">\n",
       " <div class=\"col-md-6\">\n",
       " <h1 class=\"h3 lh-condensed\">\n",
       " <a data-hydro-click='{\"event_type\":\"explore.click\",\"payload\":{\"click_context\":\"TRENDING_DEVELOPERS_PAGE\",\"click_target\":\"OWNER\",\"click_visual_representation\":\"TRENDING_DEVELOPER\",\"actor_id\":null,\"record_id\":2211051,\"originating_url\":\"https://github.com/trending/developers\",\"user_id\":null}}' data-hydro-click-hmac=\"25e027c8cd64dba8299c2f0873a539a5ec5972d0de2930e5cffb8199cfbfdeef\" data-view-component=\"true\" href=\"/HariSekhon\">\n",
       "             Hari Sekhon\n",
       " </a> </h1>\n",
       " <p class=\"f4 text-normal mb-1\">\n",
       " <a class=\"Link--secondary\" data-hydro-click='{\"event_type\":\"explore.click\",\"payload\":{\"click_context\":\"TRENDING_DEVELOPERS_PAGE\",\"click_target\":\"OWNER\",\"click_visual_representation\":\"TRENDING_DEVELOPER\",\"actor_id\":null,\"record_id\":2211051,\"originating_url\":\"https://github.com/trending/developers\",\"user_id\":null}}' data-hydro-click-hmac=\"25e027c8cd64dba8299c2f0873a539a5ec5972d0de2930e5cffb8199cfbfdeef\" data-view-component=\"true\" href=\"/HariSekhon\">\n",
       "               HariSekhon\n",
       " </a> </p>\n",
       " </div>\n",
       " <div class=\"col-md-6\">\n",
       " <div class=\"mt-2 mb-3 my-md-0\">\n",
       " <article>\n",
       " <div class=\"f6 color-fg-muted text-uppercase mb-1\"><svg aria-hidden=\"true\" class=\"octicon octicon-flame mr-1 color-fg-severe\" data-view-component=\"true\" height=\"16\" version=\"1.1\" viewbox=\"0 0 16 16\" width=\"16\">\n",
       " <path d=\"M7.998 14.5c2.832 0 5-1.98 5-4.5 0-1.463-.68-2.19-1.879-3.383l-.036-.037c-1.013-1.008-2.3-2.29-2.834-4.434-.322.256-.63.579-.864.953-.432.696-.621 1.58-.046 2.73.473.947.67 2.284-.278 3.232-.61.61-1.545.84-2.403.633a2.788 2.788 0 01-1.436-.874A3.21 3.21 0 003 10c0 2.53 2.164 4.5 4.998 4.5zM9.533.753C9.496.34 9.16.009 8.77.146 7.035.75 4.34 3.187 5.997 6.5c.344.689.285 1.218.003 1.5-.419.419-1.54.487-2.04-.832-.173-.454-.659-.762-1.035-.454C2.036 7.44 1.5 8.702 1.5 10c0 3.512 2.998 6 6.498 6s6.5-2.5 6.5-6c0-2.137-1.128-3.26-2.312-4.438-1.19-1.184-2.436-2.425-2.653-4.81z\" fill-rule=\"evenodd\"></path>\n",
       " </svg>Popular repo</div>\n",
       " <h1 class=\"h4 lh-condensed\">\n",
       " <a class=\"css-truncate css-truncate-target\" data-ga-click=\"Explore, go to repository, location:trending developers\" data-hydro-click='{\"event_type\":\"explore.click\",\"payload\":{\"click_context\":\"TRENDING_DEVELOPERS_PAGE\",\"click_target\":\"REPOSITORY\",\"click_visual_representation\":\"REPOSITORY_NAME_HEADING\",\"actor_id\":null,\"record_id\":49816796,\"originating_url\":\"https://github.com/trending/developers\",\"user_id\":null}}' data-hydro-click-hmac=\"348860627c4e0562cb2c87cbcd87f2d4da6e1a1cd4482aa663d7e85325a3c5fa\" data-view-component=\"true\" href=\"/HariSekhon/DevOps-Bash-tools\" style=\"max-width: 175px;\">\n",
       " <svg aria-hidden=\"true\" class=\"octicon octicon-repo color-fg-muted mr-1\" data-view-component=\"true\" height=\"16\" version=\"1.1\" viewbox=\"0 0 16 16\" width=\"16\">\n",
       " <path d=\"M2 2.5A2.5 2.5 0 014.5 0h8.75a.75.75 0 01.75.75v12.5a.75.75 0 01-.75.75h-2.5a.75.75 0 110-1.5h1.75v-2h-8a1 1 0 00-.714 1.7.75.75 0 01-1.072 1.05A2.495 2.495 0 012 11.5v-9zm10.5-1V9h-8c-.356 0-.694.074-1 .208V2.5a1 1 0 011-1h8zM5 12.25v3.25a.25.25 0 00.4.2l1.45-1.087a.25.25 0 01.3 0L8.6 15.7a.25.25 0 00.4-.2v-3.25a.25.25 0 00-.25-.25h-3.5a.25.25 0 00-.25.25z\" fill-rule=\"evenodd\"></path>\n",
       " </svg>\n",
       "       DevOps-Bash-tools\n",
       " </a> </h1>\n",
       " <div class=\"f6 color-fg-muted mt-1\">\n",
       "       800+ DevOps Bash Scripts - AWS, GCP, Kubernetes, Docker, CI/CD, APIs, SQL, PostgreSQL, MySQL, Hive, Impala, Kafka, Hadoop, Jenkins, GitHu…\n",
       "     </div>\n",
       " </article>\n",
       " </div>\n",
       " </div>\n",
       " </div>\n",
       " <div class=\"col-sm-4 d-flex flex-sm-justify-end ml-sm-3\">\n",
       " <div class=\"user-profile-following-container\">\n",
       " <div class=\"user-following-container\">\n",
       " <span class=\"user-following-container\">\n",
       " <span class=\"follow d-block\">\n",
       " <a class=\"btn btn-sm btn-block\" data-hydro-click='{\"event_type\":\"authentication.click\",\"payload\":{\"location_in_page\":\"follow button\",\"repository_id\":null,\"auth_type\":\"LOG_IN\",\"originating_url\":\"https://github.com/trending/developers\",\"user_id\":null}}' data-hydro-click-hmac=\"758ca9b951a863373b9dca2759329881977e0c89c5a5b03c5cc5efdefcb67f4a\" href=\"/login?return_to=https%3A%2F%2Fgithub.com%2Ftrending%2Fdevelopers\">Follow</a>\n",
       " </span>\n",
       " </span>\n",
       " </div>\n",
       " </div>\n",
       " </div>\n",
       " </div>\n",
       " </article>,\n",
       " <article class=\"Box-row d-flex\" id=\"pa-osy\">\n",
       " <a class=\"color-fg-muted f6\" data-view-component=\"true\" href=\"#pa-osy\" style=\"width: 16px;\" text=\"center\">\n",
       "     19\n",
       " </a>\n",
       " <div class=\"mx-3\">\n",
       " <a data-hydro-click='{\"event_type\":\"explore.click\",\"payload\":{\"click_context\":\"TRENDING_DEVELOPERS_PAGE\",\"click_target\":\"OWNER\",\"click_visual_representation\":\"TRENDING_DEVELOPER\",\"actor_id\":null,\"record_id\":50960678,\"originating_url\":\"https://github.com/trending/developers\",\"user_id\":null}}' data-hydro-click-hmac=\"fe38d8deb3a71078b5e557d1877f4fb97642984d19c11a70a2de76d98db08967\" data-view-component=\"true\" href=\"/osy\">\n",
       " <img alt=\"@osy\" class=\"rounded avatar-user\" height=\"48\" src=\"https://avatars.githubusercontent.com/u/50960678?s=96&amp;v=4\" width=\"48\"/>\n",
       " </a> </div>\n",
       " <div class=\"d-sm-flex flex-auto\">\n",
       " <div class=\"col-sm-8 d-md-flex\">\n",
       " <div class=\"col-md-6\">\n",
       " <h1 class=\"h3 lh-condensed\">\n",
       " <a data-hydro-click='{\"event_type\":\"explore.click\",\"payload\":{\"click_context\":\"TRENDING_DEVELOPERS_PAGE\",\"click_target\":\"OWNER\",\"click_visual_representation\":\"TRENDING_DEVELOPER\",\"actor_id\":null,\"record_id\":50960678,\"originating_url\":\"https://github.com/trending/developers\",\"user_id\":null}}' data-hydro-click-hmac=\"fe38d8deb3a71078b5e557d1877f4fb97642984d19c11a70a2de76d98db08967\" data-view-component=\"true\" href=\"/osy\">\n",
       "             osy\n",
       " </a> </h1>\n",
       " </div>\n",
       " <div class=\"col-md-6\">\n",
       " <div class=\"mt-2 mb-3 my-md-0\">\n",
       " <article>\n",
       " <div class=\"f6 color-fg-muted text-uppercase mb-1\"><svg aria-hidden=\"true\" class=\"octicon octicon-flame mr-1 color-fg-severe\" data-view-component=\"true\" height=\"16\" version=\"1.1\" viewbox=\"0 0 16 16\" width=\"16\">\n",
       " <path d=\"M7.998 14.5c2.832 0 5-1.98 5-4.5 0-1.463-.68-2.19-1.879-3.383l-.036-.037c-1.013-1.008-2.3-2.29-2.834-4.434-.322.256-.63.579-.864.953-.432.696-.621 1.58-.046 2.73.473.947.67 2.284-.278 3.232-.61.61-1.545.84-2.403.633a2.788 2.788 0 01-1.436-.874A3.21 3.21 0 003 10c0 2.53 2.164 4.5 4.998 4.5zM9.533.753C9.496.34 9.16.009 8.77.146 7.035.75 4.34 3.187 5.997 6.5c.344.689.285 1.218.003 1.5-.419.419-1.54.487-2.04-.832-.173-.454-.659-.762-1.035-.454C2.036 7.44 1.5 8.702 1.5 10c0 3.512 2.998 6 6.498 6s6.5-2.5 6.5-6c0-2.137-1.128-3.26-2.312-4.438-1.19-1.184-2.436-2.425-2.653-4.81z\" fill-rule=\"evenodd\"></path>\n",
       " </svg>Popular repo</div>\n",
       " <h1 class=\"h4 lh-condensed\">\n",
       " <a class=\"css-truncate css-truncate-target\" data-ga-click=\"Explore, go to repository, location:trending developers\" data-hydro-click='{\"event_type\":\"explore.click\",\"payload\":{\"click_context\":\"TRENDING_DEVELOPERS_PAGE\",\"click_target\":\"REPOSITORY\",\"click_visual_representation\":\"REPOSITORY_NAME_HEADING\",\"actor_id\":null,\"record_id\":371264213,\"originating_url\":\"https://github.com/trending/developers\",\"user_id\":null}}' data-hydro-click-hmac=\"841d3f38ff6a098a0b7013dd5bae2452f3e7d44db6e137b2860ecfcec6f68966\" data-view-component=\"true\" href=\"/osy/Jitterbug\" style=\"max-width: 175px;\">\n",
       " <svg aria-hidden=\"true\" class=\"octicon octicon-repo color-fg-muted mr-1\" data-view-component=\"true\" height=\"16\" version=\"1.1\" viewbox=\"0 0 16 16\" width=\"16\">\n",
       " <path d=\"M2 2.5A2.5 2.5 0 014.5 0h8.75a.75.75 0 01.75.75v12.5a.75.75 0 01-.75.75h-2.5a.75.75 0 110-1.5h1.75v-2h-8a1 1 0 00-.714 1.7.75.75 0 01-1.072 1.05A2.495 2.495 0 012 11.5v-9zm10.5-1V9h-8c-.356 0-.694.074-1 .208V2.5a1 1 0 011-1h8zM5 12.25v3.25a.25.25 0 00.4.2l1.45-1.087a.25.25 0 01.3 0L8.6 15.7a.25.25 0 00.4-.2v-3.25a.25.25 0 00-.25-.25h-3.5a.25.25 0 00-.25.25z\" fill-rule=\"evenodd\"></path>\n",
       " </svg>\n",
       "       Jitterbug\n",
       " </a> </h1>\n",
       " <div class=\"f6 color-fg-muted mt-1\">\n",
       "       Launch JIT enabled iOS app with a second iOS device\n",
       "     </div>\n",
       " </article>\n",
       " </div>\n",
       " </div>\n",
       " </div>\n",
       " <div class=\"col-sm-4 d-flex flex-sm-justify-end ml-sm-3\">\n",
       " <div class=\"user-profile-following-container\">\n",
       " <div class=\"user-following-container\">\n",
       " <span class=\"user-following-container\">\n",
       " <span class=\"follow d-block\">\n",
       " <a class=\"btn btn-sm btn-block\" data-hydro-click='{\"event_type\":\"authentication.click\",\"payload\":{\"location_in_page\":\"follow button\",\"repository_id\":null,\"auth_type\":\"LOG_IN\",\"originating_url\":\"https://github.com/trending/developers\",\"user_id\":null}}' data-hydro-click-hmac=\"758ca9b951a863373b9dca2759329881977e0c89c5a5b03c5cc5efdefcb67f4a\" href=\"/login?return_to=https%3A%2F%2Fgithub.com%2Ftrending%2Fdevelopers\">Follow</a>\n",
       " </span>\n",
       " </span>\n",
       " </div>\n",
       " </div>\n",
       " </div>\n",
       " </div>\n",
       " </article>,\n",
       " <article class=\"Box-row d-flex\" id=\"pa-adamchainz\">\n",
       " <a class=\"color-fg-muted f6\" data-view-component=\"true\" href=\"#pa-adamchainz\" style=\"width: 16px;\" text=\"center\">\n",
       "     20\n",
       " </a>\n",
       " <div class=\"mx-3\">\n",
       " <a data-hydro-click='{\"event_type\":\"explore.click\",\"payload\":{\"click_context\":\"TRENDING_DEVELOPERS_PAGE\",\"click_target\":\"OWNER\",\"click_visual_representation\":\"TRENDING_DEVELOPER\",\"actor_id\":null,\"record_id\":857609,\"originating_url\":\"https://github.com/trending/developers\",\"user_id\":null}}' data-hydro-click-hmac=\"855eb4f47c1b7fca09280d72b1498213b965c4ddfeb4d0949140dc5f357b1956\" data-view-component=\"true\" href=\"/adamchainz\">\n",
       " <img alt=\"@adamchainz\" class=\"rounded avatar-user\" height=\"48\" src=\"https://avatars.githubusercontent.com/u/857609?s=96&amp;v=4\" width=\"48\"/>\n",
       " </a> </div>\n",
       " <div class=\"d-sm-flex flex-auto\">\n",
       " <div class=\"col-sm-8 d-md-flex\">\n",
       " <div class=\"col-md-6\">\n",
       " <h1 class=\"h3 lh-condensed\">\n",
       " <a data-hydro-click='{\"event_type\":\"explore.click\",\"payload\":{\"click_context\":\"TRENDING_DEVELOPERS_PAGE\",\"click_target\":\"OWNER\",\"click_visual_representation\":\"TRENDING_DEVELOPER\",\"actor_id\":null,\"record_id\":857609,\"originating_url\":\"https://github.com/trending/developers\",\"user_id\":null}}' data-hydro-click-hmac=\"855eb4f47c1b7fca09280d72b1498213b965c4ddfeb4d0949140dc5f357b1956\" data-view-component=\"true\" href=\"/adamchainz\">\n",
       "             Adam Johnson\n",
       " </a> </h1>\n",
       " <p class=\"f4 text-normal mb-1\">\n",
       " <a class=\"Link--secondary\" data-hydro-click='{\"event_type\":\"explore.click\",\"payload\":{\"click_context\":\"TRENDING_DEVELOPERS_PAGE\",\"click_target\":\"OWNER\",\"click_visual_representation\":\"TRENDING_DEVELOPER\",\"actor_id\":null,\"record_id\":857609,\"originating_url\":\"https://github.com/trending/developers\",\"user_id\":null}}' data-hydro-click-hmac=\"855eb4f47c1b7fca09280d72b1498213b965c4ddfeb4d0949140dc5f357b1956\" data-view-component=\"true\" href=\"/adamchainz\">\n",
       "               adamchainz\n",
       " </a> </p>\n",
       " </div>\n",
       " <div class=\"col-md-6\">\n",
       " <div class=\"mt-2 mb-3 my-md-0\">\n",
       " <article>\n",
       " <div class=\"f6 color-fg-muted text-uppercase mb-1\"><svg aria-hidden=\"true\" class=\"octicon octicon-flame mr-1 color-fg-severe\" data-view-component=\"true\" height=\"16\" version=\"1.1\" viewbox=\"0 0 16 16\" width=\"16\">\n",
       " <path d=\"M7.998 14.5c2.832 0 5-1.98 5-4.5 0-1.463-.68-2.19-1.879-3.383l-.036-.037c-1.013-1.008-2.3-2.29-2.834-4.434-.322.256-.63.579-.864.953-.432.696-.621 1.58-.046 2.73.473.947.67 2.284-.278 3.232-.61.61-1.545.84-2.403.633a2.788 2.788 0 01-1.436-.874A3.21 3.21 0 003 10c0 2.53 2.164 4.5 4.998 4.5zM9.533.753C9.496.34 9.16.009 8.77.146 7.035.75 4.34 3.187 5.997 6.5c.344.689.285 1.218.003 1.5-.419.419-1.54.487-2.04-.832-.173-.454-.659-.762-1.035-.454C2.036 7.44 1.5 8.702 1.5 10c0 3.512 2.998 6 6.498 6s6.5-2.5 6.5-6c0-2.137-1.128-3.26-2.312-4.438-1.19-1.184-2.436-2.425-2.653-4.81z\" fill-rule=\"evenodd\"></path>\n",
       " </svg>Popular repo</div>\n",
       " <h1 class=\"h4 lh-condensed\">\n",
       " <a class=\"css-truncate css-truncate-target\" data-ga-click=\"Explore, go to repository, location:trending developers\" data-hydro-click='{\"event_type\":\"explore.click\",\"payload\":{\"click_context\":\"TRENDING_DEVELOPERS_PAGE\",\"click_target\":\"REPOSITORY\",\"click_visual_representation\":\"REPOSITORY_NAME_HEADING\",\"actor_id\":null,\"record_id\":400482050,\"originating_url\":\"https://github.com/trending/developers\",\"user_id\":null}}' data-hydro-click-hmac=\"873ea9f0b3ac7797a064c960b2624d3ae1956654b5b15d90bf66eced96ce303d\" data-view-component=\"true\" href=\"/adamchainz/django-upgrade\" style=\"max-width: 175px;\">\n",
       " <svg aria-hidden=\"true\" class=\"octicon octicon-repo color-fg-muted mr-1\" data-view-component=\"true\" height=\"16\" version=\"1.1\" viewbox=\"0 0 16 16\" width=\"16\">\n",
       " <path d=\"M2 2.5A2.5 2.5 0 014.5 0h8.75a.75.75 0 01.75.75v12.5a.75.75 0 01-.75.75h-2.5a.75.75 0 110-1.5h1.75v-2h-8a1 1 0 00-.714 1.7.75.75 0 01-1.072 1.05A2.495 2.495 0 012 11.5v-9zm10.5-1V9h-8c-.356 0-.694.074-1 .208V2.5a1 1 0 011-1h8zM5 12.25v3.25a.25.25 0 00.4.2l1.45-1.087a.25.25 0 01.3 0L8.6 15.7a.25.25 0 00.4-.2v-3.25a.25.25 0 00-.25-.25h-3.5a.25.25 0 00-.25.25z\" fill-rule=\"evenodd\"></path>\n",
       " </svg>\n",
       "       django-upgrade\n",
       " </a> </h1>\n",
       " <div class=\"f6 color-fg-muted mt-1\">\n",
       "       Automatically upgrade your Django projects.\n",
       "     </div>\n",
       " </article>\n",
       " </div>\n",
       " </div>\n",
       " </div>\n",
       " <div class=\"col-sm-4 d-flex flex-sm-justify-end ml-sm-3\">\n",
       " <div class=\"user-profile-following-container\">\n",
       " <div class=\"user-following-container\">\n",
       " <span class=\"user-following-container\">\n",
       " <span class=\"follow d-block\">\n",
       " <a class=\"btn btn-sm btn-block\" data-hydro-click='{\"event_type\":\"authentication.click\",\"payload\":{\"location_in_page\":\"follow button\",\"repository_id\":null,\"auth_type\":\"LOG_IN\",\"originating_url\":\"https://github.com/trending/developers\",\"user_id\":null}}' data-hydro-click-hmac=\"758ca9b951a863373b9dca2759329881977e0c89c5a5b03c5cc5efdefcb67f4a\" href=\"/login?return_to=https%3A%2F%2Fgithub.com%2Ftrending%2Fdevelopers\">Follow</a>\n",
       " </span>\n",
       " </span>\n",
       " </div>\n",
       " </div>\n",
       " </div>\n",
       " </div>\n",
       " </article>,\n",
       " <article class=\"Box-row d-flex\" id=\"pa-pcuenca\">\n",
       " <a class=\"color-fg-muted f6\" data-view-component=\"true\" href=\"#pa-pcuenca\" style=\"width: 16px;\" text=\"center\">\n",
       "     21\n",
       " </a>\n",
       " <div class=\"mx-3\">\n",
       " <a data-hydro-click='{\"event_type\":\"explore.click\",\"payload\":{\"click_context\":\"TRENDING_DEVELOPERS_PAGE\",\"click_target\":\"OWNER\",\"click_visual_representation\":\"TRENDING_DEVELOPER\",\"actor_id\":null,\"record_id\":1177582,\"originating_url\":\"https://github.com/trending/developers\",\"user_id\":null}}' data-hydro-click-hmac=\"29b7c1b837b1b661db93f5a26b6a288dca6b6fc5de3d3f35856da740f1c77661\" data-view-component=\"true\" href=\"/pcuenca\">\n",
       " <img alt=\"@pcuenca\" class=\"rounded avatar-user\" height=\"48\" src=\"https://avatars.githubusercontent.com/u/1177582?s=96&amp;v=4\" width=\"48\"/>\n",
       " </a> </div>\n",
       " <div class=\"d-sm-flex flex-auto\">\n",
       " <div class=\"col-sm-8 d-md-flex\">\n",
       " <div class=\"col-md-6\">\n",
       " <h1 class=\"h3 lh-condensed\">\n",
       " <a data-hydro-click='{\"event_type\":\"explore.click\",\"payload\":{\"click_context\":\"TRENDING_DEVELOPERS_PAGE\",\"click_target\":\"OWNER\",\"click_visual_representation\":\"TRENDING_DEVELOPER\",\"actor_id\":null,\"record_id\":1177582,\"originating_url\":\"https://github.com/trending/developers\",\"user_id\":null}}' data-hydro-click-hmac=\"29b7c1b837b1b661db93f5a26b6a288dca6b6fc5de3d3f35856da740f1c77661\" data-view-component=\"true\" href=\"/pcuenca\">\n",
       "             Pedro Cuenca\n",
       " </a> </h1>\n",
       " <p class=\"f4 text-normal mb-1\">\n",
       " <a class=\"Link--secondary\" data-hydro-click='{\"event_type\":\"explore.click\",\"payload\":{\"click_context\":\"TRENDING_DEVELOPERS_PAGE\",\"click_target\":\"OWNER\",\"click_visual_representation\":\"TRENDING_DEVELOPER\",\"actor_id\":null,\"record_id\":1177582,\"originating_url\":\"https://github.com/trending/developers\",\"user_id\":null}}' data-hydro-click-hmac=\"29b7c1b837b1b661db93f5a26b6a288dca6b6fc5de3d3f35856da740f1c77661\" data-view-component=\"true\" href=\"/pcuenca\">\n",
       "               pcuenca\n",
       " </a> </p>\n",
       " </div>\n",
       " <div class=\"col-md-6\">\n",
       " <div class=\"mt-2 mb-3 my-md-0\">\n",
       " <article>\n",
       " <div class=\"f6 color-fg-muted text-uppercase mb-1\"><svg aria-hidden=\"true\" class=\"octicon octicon-flame mr-1 color-fg-severe\" data-view-component=\"true\" height=\"16\" version=\"1.1\" viewbox=\"0 0 16 16\" width=\"16\">\n",
       " <path d=\"M7.998 14.5c2.832 0 5-1.98 5-4.5 0-1.463-.68-2.19-1.879-3.383l-.036-.037c-1.013-1.008-2.3-2.29-2.834-4.434-.322.256-.63.579-.864.953-.432.696-.621 1.58-.046 2.73.473.947.67 2.284-.278 3.232-.61.61-1.545.84-2.403.633a2.788 2.788 0 01-1.436-.874A3.21 3.21 0 003 10c0 2.53 2.164 4.5 4.998 4.5zM9.533.753C9.496.34 9.16.009 8.77.146 7.035.75 4.34 3.187 5.997 6.5c.344.689.285 1.218.003 1.5-.419.419-1.54.487-2.04-.832-.173-.454-.659-.762-1.035-.454C2.036 7.44 1.5 8.702 1.5 10c0 3.512 2.998 6 6.498 6s6.5-2.5 6.5-6c0-2.137-1.128-3.26-2.312-4.438-1.19-1.184-2.436-2.425-2.653-4.81z\" fill-rule=\"evenodd\"></path>\n",
       " </svg>Popular repo</div>\n",
       " <h1 class=\"h4 lh-condensed\">\n",
       " <a class=\"css-truncate css-truncate-target\" data-ga-click=\"Explore, go to repository, location:trending developers\" data-hydro-click='{\"event_type\":\"explore.click\",\"payload\":{\"click_context\":\"TRENDING_DEVELOPERS_PAGE\",\"click_target\":\"REPOSITORY\",\"click_visual_representation\":\"REPOSITORY_NAME_HEADING\",\"actor_id\":null,\"record_id\":186308311,\"originating_url\":\"https://github.com/trending/developers\",\"user_id\":null}}' data-hydro-click-hmac=\"743ff7f0044d5944ac14efe7d6e70c0bdbb549711abed349c48f1803629dedcf\" data-view-component=\"true\" href=\"/pcuenca/alzheimer\" style=\"max-width: 175px;\">\n",
       " <svg aria-hidden=\"true\" class=\"octicon octicon-repo color-fg-muted mr-1\" data-view-component=\"true\" height=\"16\" version=\"1.1\" viewbox=\"0 0 16 16\" width=\"16\">\n",
       " <path d=\"M2 2.5A2.5 2.5 0 014.5 0h8.75a.75.75 0 01.75.75v12.5a.75.75 0 01-.75.75h-2.5a.75.75 0 110-1.5h1.75v-2h-8a1 1 0 00-.714 1.7.75.75 0 01-1.072 1.05A2.495 2.495 0 012 11.5v-9zm10.5-1V9h-8c-.356 0-.694.074-1 .208V2.5a1 1 0 011-1h8zM5 12.25v3.25a.25.25 0 00.4.2l1.45-1.087a.25.25 0 01.3 0L8.6 15.7a.25.25 0 00.4-.2v-3.25a.25.25 0 00-.25-.25h-3.5a.25.25 0 00-.25.25z\" fill-rule=\"evenodd\"></path>\n",
       " </svg>\n",
       "       alzheimer\n",
       " </a> </h1>\n",
       " <div class=\"f6 color-fg-muted mt-1\">\n",
       "       Early Detection of Alzheimer Disease using NLP &amp; Deep Learning\n",
       "     </div>\n",
       " </article>\n",
       " </div>\n",
       " </div>\n",
       " </div>\n",
       " <div class=\"col-sm-4 d-flex flex-sm-justify-end ml-sm-3\">\n",
       " <div class=\"user-profile-following-container\">\n",
       " <div class=\"user-following-container\">\n",
       " <span class=\"user-following-container\">\n",
       " <span class=\"follow d-block\">\n",
       " <a class=\"btn btn-sm btn-block\" data-hydro-click='{\"event_type\":\"authentication.click\",\"payload\":{\"location_in_page\":\"follow button\",\"repository_id\":null,\"auth_type\":\"LOG_IN\",\"originating_url\":\"https://github.com/trending/developers\",\"user_id\":null}}' data-hydro-click-hmac=\"758ca9b951a863373b9dca2759329881977e0c89c5a5b03c5cc5efdefcb67f4a\" href=\"/login?return_to=https%3A%2F%2Fgithub.com%2Ftrending%2Fdevelopers\">Follow</a>\n",
       " </span>\n",
       " </span>\n",
       " </div>\n",
       " </div>\n",
       " </div>\n",
       " </div>\n",
       " </article>,\n",
       " <article class=\"Box-row d-flex\" id=\"pa-alex\">\n",
       " <a class=\"color-fg-muted f6\" data-view-component=\"true\" href=\"#pa-alex\" style=\"width: 16px;\" text=\"center\">\n",
       "     22\n",
       " </a>\n",
       " <div class=\"mx-3\">\n",
       " <a data-hydro-click='{\"event_type\":\"explore.click\",\"payload\":{\"click_context\":\"TRENDING_DEVELOPERS_PAGE\",\"click_target\":\"OWNER\",\"click_visual_representation\":\"TRENDING_DEVELOPER\",\"actor_id\":null,\"record_id\":772,\"originating_url\":\"https://github.com/trending/developers\",\"user_id\":null}}' data-hydro-click-hmac=\"ec47cca81ff9ecd231335746bcd4d9eb24dbae4e87e2443d0c78e9997dc8b852\" data-view-component=\"true\" href=\"/alex\">\n",
       " <img alt=\"@alex\" class=\"rounded avatar-user\" height=\"48\" src=\"https://avatars.githubusercontent.com/u/772?s=96&amp;v=4\" width=\"48\"/>\n",
       " </a> </div>\n",
       " <div class=\"d-sm-flex flex-auto\">\n",
       " <div class=\"col-sm-8 d-md-flex\">\n",
       " <div class=\"col-md-6\">\n",
       " <h1 class=\"h3 lh-condensed\">\n",
       " <a data-hydro-click='{\"event_type\":\"explore.click\",\"payload\":{\"click_context\":\"TRENDING_DEVELOPERS_PAGE\",\"click_target\":\"OWNER\",\"click_visual_representation\":\"TRENDING_DEVELOPER\",\"actor_id\":null,\"record_id\":772,\"originating_url\":\"https://github.com/trending/developers\",\"user_id\":null}}' data-hydro-click-hmac=\"ec47cca81ff9ecd231335746bcd4d9eb24dbae4e87e2443d0c78e9997dc8b852\" data-view-component=\"true\" href=\"/alex\">\n",
       "             Alex Gaynor\n",
       " </a> </h1>\n",
       " <p class=\"f4 text-normal mb-1\">\n",
       " <a class=\"Link--secondary\" data-hydro-click='{\"event_type\":\"explore.click\",\"payload\":{\"click_context\":\"TRENDING_DEVELOPERS_PAGE\",\"click_target\":\"OWNER\",\"click_visual_representation\":\"TRENDING_DEVELOPER\",\"actor_id\":null,\"record_id\":772,\"originating_url\":\"https://github.com/trending/developers\",\"user_id\":null}}' data-hydro-click-hmac=\"ec47cca81ff9ecd231335746bcd4d9eb24dbae4e87e2443d0c78e9997dc8b852\" data-view-component=\"true\" href=\"/alex\">\n",
       "               alex\n",
       " </a> </p>\n",
       " </div>\n",
       " <div class=\"col-md-6\">\n",
       " <div class=\"mt-2 mb-3 my-md-0\">\n",
       " <article>\n",
       " <div class=\"f6 color-fg-muted text-uppercase mb-1\"><svg aria-hidden=\"true\" class=\"octicon octicon-flame mr-1 color-fg-severe\" data-view-component=\"true\" height=\"16\" version=\"1.1\" viewbox=\"0 0 16 16\" width=\"16\">\n",
       " <path d=\"M7.998 14.5c2.832 0 5-1.98 5-4.5 0-1.463-.68-2.19-1.879-3.383l-.036-.037c-1.013-1.008-2.3-2.29-2.834-4.434-.322.256-.63.579-.864.953-.432.696-.621 1.58-.046 2.73.473.947.67 2.284-.278 3.232-.61.61-1.545.84-2.403.633a2.788 2.788 0 01-1.436-.874A3.21 3.21 0 003 10c0 2.53 2.164 4.5 4.998 4.5zM9.533.753C9.496.34 9.16.009 8.77.146 7.035.75 4.34 3.187 5.997 6.5c.344.689.285 1.218.003 1.5-.419.419-1.54.487-2.04-.832-.173-.454-.659-.762-1.035-.454C2.036 7.44 1.5 8.702 1.5 10c0 3.512 2.998 6 6.498 6s6.5-2.5 6.5-6c0-2.137-1.128-3.26-2.312-4.438-1.19-1.184-2.436-2.425-2.653-4.81z\" fill-rule=\"evenodd\"></path>\n",
       " </svg>Popular repo</div>\n",
       " <h1 class=\"h4 lh-condensed\">\n",
       " <a class=\"css-truncate css-truncate-target\" data-ga-click=\"Explore, go to repository, location:trending developers\" data-hydro-click='{\"event_type\":\"explore.click\",\"payload\":{\"click_context\":\"TRENDING_DEVELOPERS_PAGE\",\"click_target\":\"REPOSITORY\",\"click_visual_representation\":\"REPOSITORY_NAME_HEADING\",\"actor_id\":null,\"record_id\":14194174,\"originating_url\":\"https://github.com/trending/developers\",\"user_id\":null}}' data-hydro-click-hmac=\"f7d6fc706f3d214aac0154dbdbe9ff8ac2f8e9e32edb586ae6ec384ee6981dc9\" data-view-component=\"true\" href=\"/alex/what-happens-when\" style=\"max-width: 175px;\">\n",
       " <svg aria-hidden=\"true\" class=\"octicon octicon-repo color-fg-muted mr-1\" data-view-component=\"true\" height=\"16\" version=\"1.1\" viewbox=\"0 0 16 16\" width=\"16\">\n",
       " <path d=\"M2 2.5A2.5 2.5 0 014.5 0h8.75a.75.75 0 01.75.75v12.5a.75.75 0 01-.75.75h-2.5a.75.75 0 110-1.5h1.75v-2h-8a1 1 0 00-.714 1.7.75.75 0 01-1.072 1.05A2.495 2.495 0 012 11.5v-9zm10.5-1V9h-8c-.356 0-.694.074-1 .208V2.5a1 1 0 011-1h8zM5 12.25v3.25a.25.25 0 00.4.2l1.45-1.087a.25.25 0 01.3 0L8.6 15.7a.25.25 0 00.4-.2v-3.25a.25.25 0 00-.25-.25h-3.5a.25.25 0 00-.25.25z\" fill-rule=\"evenodd\"></path>\n",
       " </svg>\n",
       "       what-happens-when\n",
       " </a> </h1>\n",
       " <div class=\"f6 color-fg-muted mt-1\">\n",
       "       An attempt to answer the age old interview question \"What happens when you type google.com into your browser and press enter?\"\n",
       "     </div>\n",
       " </article>\n",
       " </div>\n",
       " </div>\n",
       " </div>\n",
       " <div class=\"col-sm-4 d-flex flex-sm-justify-end ml-sm-3\">\n",
       " <div class=\"user-profile-following-container\">\n",
       " <div class=\"user-following-container\">\n",
       " <span class=\"user-following-container\">\n",
       " <span class=\"follow d-block\">\n",
       " <a class=\"btn btn-sm btn-block\" data-hydro-click='{\"event_type\":\"authentication.click\",\"payload\":{\"location_in_page\":\"follow button\",\"repository_id\":null,\"auth_type\":\"LOG_IN\",\"originating_url\":\"https://github.com/trending/developers\",\"user_id\":null}}' data-hydro-click-hmac=\"758ca9b951a863373b9dca2759329881977e0c89c5a5b03c5cc5efdefcb67f4a\" href=\"/login?return_to=https%3A%2F%2Fgithub.com%2Ftrending%2Fdevelopers\">Follow</a>\n",
       " </span>\n",
       " </span>\n",
       " </div>\n",
       " </div>\n",
       " </div>\n",
       " </div>\n",
       " </article>,\n",
       " <article class=\"Box-row d-flex\" id=\"pa-hrydgard\">\n",
       " <a class=\"color-fg-muted f6\" data-view-component=\"true\" href=\"#pa-hrydgard\" style=\"width: 16px;\" text=\"center\">\n",
       "     23\n",
       " </a>\n",
       " <div class=\"mx-3\">\n",
       " <a data-hydro-click='{\"event_type\":\"explore.click\",\"payload\":{\"click_context\":\"TRENDING_DEVELOPERS_PAGE\",\"click_target\":\"OWNER\",\"click_visual_representation\":\"TRENDING_DEVELOPER\",\"actor_id\":null,\"record_id\":130929,\"originating_url\":\"https://github.com/trending/developers\",\"user_id\":null}}' data-hydro-click-hmac=\"db59e47e8f5052ab99cffecf102de694f970c34eac257c5d19ef53b749ae2bec\" data-view-component=\"true\" href=\"/hrydgard\">\n",
       " <img alt=\"@hrydgard\" class=\"rounded avatar-user\" height=\"48\" src=\"https://avatars.githubusercontent.com/u/130929?s=96&amp;v=4\" width=\"48\"/>\n",
       " </a> </div>\n",
       " <div class=\"d-sm-flex flex-auto\">\n",
       " <div class=\"col-sm-8 d-md-flex\">\n",
       " <div class=\"col-md-6\">\n",
       " <h1 class=\"h3 lh-condensed\">\n",
       " <a data-hydro-click='{\"event_type\":\"explore.click\",\"payload\":{\"click_context\":\"TRENDING_DEVELOPERS_PAGE\",\"click_target\":\"OWNER\",\"click_visual_representation\":\"TRENDING_DEVELOPER\",\"actor_id\":null,\"record_id\":130929,\"originating_url\":\"https://github.com/trending/developers\",\"user_id\":null}}' data-hydro-click-hmac=\"db59e47e8f5052ab99cffecf102de694f970c34eac257c5d19ef53b749ae2bec\" data-view-component=\"true\" href=\"/hrydgard\">\n",
       "             Henrik Rydgård\n",
       " </a> </h1>\n",
       " <p class=\"f4 text-normal mb-1\">\n",
       " <a class=\"Link--secondary\" data-hydro-click='{\"event_type\":\"explore.click\",\"payload\":{\"click_context\":\"TRENDING_DEVELOPERS_PAGE\",\"click_target\":\"OWNER\",\"click_visual_representation\":\"TRENDING_DEVELOPER\",\"actor_id\":null,\"record_id\":130929,\"originating_url\":\"https://github.com/trending/developers\",\"user_id\":null}}' data-hydro-click-hmac=\"db59e47e8f5052ab99cffecf102de694f970c34eac257c5d19ef53b749ae2bec\" data-view-component=\"true\" href=\"/hrydgard\">\n",
       "               hrydgard\n",
       " </a> </p>\n",
       " </div>\n",
       " <div class=\"col-md-6\">\n",
       " <div class=\"mt-2 mb-3 my-md-0\">\n",
       " <article>\n",
       " <div class=\"f6 color-fg-muted text-uppercase mb-1\"><svg aria-hidden=\"true\" class=\"octicon octicon-flame mr-1 color-fg-severe\" data-view-component=\"true\" height=\"16\" version=\"1.1\" viewbox=\"0 0 16 16\" width=\"16\">\n",
       " <path d=\"M7.998 14.5c2.832 0 5-1.98 5-4.5 0-1.463-.68-2.19-1.879-3.383l-.036-.037c-1.013-1.008-2.3-2.29-2.834-4.434-.322.256-.63.579-.864.953-.432.696-.621 1.58-.046 2.73.473.947.67 2.284-.278 3.232-.61.61-1.545.84-2.403.633a2.788 2.788 0 01-1.436-.874A3.21 3.21 0 003 10c0 2.53 2.164 4.5 4.998 4.5zM9.533.753C9.496.34 9.16.009 8.77.146 7.035.75 4.34 3.187 5.997 6.5c.344.689.285 1.218.003 1.5-.419.419-1.54.487-2.04-.832-.173-.454-.659-.762-1.035-.454C2.036 7.44 1.5 8.702 1.5 10c0 3.512 2.998 6 6.498 6s6.5-2.5 6.5-6c0-2.137-1.128-3.26-2.312-4.438-1.19-1.184-2.436-2.425-2.653-4.81z\" fill-rule=\"evenodd\"></path>\n",
       " </svg>Popular repo</div>\n",
       " <h1 class=\"h4 lh-condensed\">\n",
       " <a class=\"css-truncate css-truncate-target\" data-ga-click=\"Explore, go to repository, location:trending developers\" data-hydro-click='{\"event_type\":\"explore.click\",\"payload\":{\"click_context\":\"TRENDING_DEVELOPERS_PAGE\",\"click_target\":\"REPOSITORY\",\"click_visual_representation\":\"REPOSITORY_NAME_HEADING\",\"actor_id\":null,\"record_id\":6486826,\"originating_url\":\"https://github.com/trending/developers\",\"user_id\":null}}' data-hydro-click-hmac=\"67cd87498229042da824eef5ef8737203c75ab289b25d2e7b87ecdc353e9c8af\" data-view-component=\"true\" href=\"/hrydgard/ppsspp\" style=\"max-width: 175px;\">\n",
       " <svg aria-hidden=\"true\" class=\"octicon octicon-repo color-fg-muted mr-1\" data-view-component=\"true\" height=\"16\" version=\"1.1\" viewbox=\"0 0 16 16\" width=\"16\">\n",
       " <path d=\"M2 2.5A2.5 2.5 0 014.5 0h8.75a.75.75 0 01.75.75v12.5a.75.75 0 01-.75.75h-2.5a.75.75 0 110-1.5h1.75v-2h-8a1 1 0 00-.714 1.7.75.75 0 01-1.072 1.05A2.495 2.495 0 012 11.5v-9zm10.5-1V9h-8c-.356 0-.694.074-1 .208V2.5a1 1 0 011-1h8zM5 12.25v3.25a.25.25 0 00.4.2l1.45-1.087a.25.25 0 01.3 0L8.6 15.7a.25.25 0 00.4-.2v-3.25a.25.25 0 00-.25-.25h-3.5a.25.25 0 00-.25.25z\" fill-rule=\"evenodd\"></path>\n",
       " </svg>\n",
       "       ppsspp\n",
       " </a> </h1>\n",
       " <div class=\"f6 color-fg-muted mt-1\">\n",
       "       A PSP emulator for Android, Windows, Mac and Linux, written in C++. Want to contribute? Join us on Discord at <a href=\"https://discord.gg/5NJB6dD\" rel=\"nofollow\">https://discord.gg/5NJB6dD</a> …\n",
       "     </div>\n",
       " </article>\n",
       " </div>\n",
       " </div>\n",
       " </div>\n",
       " <div class=\"col-sm-4 d-flex flex-sm-justify-end ml-sm-3\">\n",
       " <div class=\"user-profile-following-container\">\n",
       " <div class=\"user-following-container\">\n",
       " <span class=\"user-following-container\">\n",
       " <span class=\"follow d-block\">\n",
       " <a class=\"btn btn-sm btn-block\" data-hydro-click='{\"event_type\":\"authentication.click\",\"payload\":{\"location_in_page\":\"follow button\",\"repository_id\":null,\"auth_type\":\"LOG_IN\",\"originating_url\":\"https://github.com/trending/developers\",\"user_id\":null}}' data-hydro-click-hmac=\"758ca9b951a863373b9dca2759329881977e0c89c5a5b03c5cc5efdefcb67f4a\" href=\"/login?return_to=https%3A%2F%2Fgithub.com%2Ftrending%2Fdevelopers\">Follow</a>\n",
       " </span>\n",
       " </span>\n",
       " </div>\n",
       " </div>\n",
       " </div>\n",
       " </div>\n",
       " </article>,\n",
       " <article class=\"Box-row d-flex\" id=\"pa-jlevy\">\n",
       " <a class=\"color-fg-muted f6\" data-view-component=\"true\" href=\"#pa-jlevy\" style=\"width: 16px;\" text=\"center\">\n",
       "     24\n",
       " </a>\n",
       " <div class=\"mx-3\">\n",
       " <a data-hydro-click='{\"event_type\":\"explore.click\",\"payload\":{\"click_context\":\"TRENDING_DEVELOPERS_PAGE\",\"click_target\":\"OWNER\",\"click_visual_representation\":\"TRENDING_DEVELOPER\",\"actor_id\":null,\"record_id\":2058167,\"originating_url\":\"https://github.com/trending/developers\",\"user_id\":null}}' data-hydro-click-hmac=\"f17ef3a9f73f33ca988a523d56c91257e508502203db35ee0ad7a58f9f4e26b1\" data-view-component=\"true\" href=\"/jlevy\">\n",
       " <img alt=\"@jlevy\" class=\"rounded avatar-user\" height=\"48\" src=\"https://avatars.githubusercontent.com/u/2058167?s=96&amp;v=4\" width=\"48\"/>\n",
       " </a> </div>\n",
       " <div class=\"d-sm-flex flex-auto\">\n",
       " <div class=\"col-sm-8 d-md-flex\">\n",
       " <div class=\"col-md-6\">\n",
       " <h1 class=\"h3 lh-condensed\">\n",
       " <a data-hydro-click='{\"event_type\":\"explore.click\",\"payload\":{\"click_context\":\"TRENDING_DEVELOPERS_PAGE\",\"click_target\":\"OWNER\",\"click_visual_representation\":\"TRENDING_DEVELOPER\",\"actor_id\":null,\"record_id\":2058167,\"originating_url\":\"https://github.com/trending/developers\",\"user_id\":null}}' data-hydro-click-hmac=\"f17ef3a9f73f33ca988a523d56c91257e508502203db35ee0ad7a58f9f4e26b1\" data-view-component=\"true\" href=\"/jlevy\">\n",
       "             Joshua Levy\n",
       " </a> </h1>\n",
       " <p class=\"f4 text-normal mb-1\">\n",
       " <a class=\"Link--secondary\" data-hydro-click='{\"event_type\":\"explore.click\",\"payload\":{\"click_context\":\"TRENDING_DEVELOPERS_PAGE\",\"click_target\":\"OWNER\",\"click_visual_representation\":\"TRENDING_DEVELOPER\",\"actor_id\":null,\"record_id\":2058167,\"originating_url\":\"https://github.com/trending/developers\",\"user_id\":null}}' data-hydro-click-hmac=\"f17ef3a9f73f33ca988a523d56c91257e508502203db35ee0ad7a58f9f4e26b1\" data-view-component=\"true\" href=\"/jlevy\">\n",
       "               jlevy\n",
       " </a> </p>\n",
       " </div>\n",
       " <div class=\"col-md-6\">\n",
       " <div class=\"mt-2 mb-3 my-md-0\">\n",
       " <article>\n",
       " <div class=\"f6 color-fg-muted text-uppercase mb-1\"><svg aria-hidden=\"true\" class=\"octicon octicon-flame mr-1 color-fg-severe\" data-view-component=\"true\" height=\"16\" version=\"1.1\" viewbox=\"0 0 16 16\" width=\"16\">\n",
       " <path d=\"M7.998 14.5c2.832 0 5-1.98 5-4.5 0-1.463-.68-2.19-1.879-3.383l-.036-.037c-1.013-1.008-2.3-2.29-2.834-4.434-.322.256-.63.579-.864.953-.432.696-.621 1.58-.046 2.73.473.947.67 2.284-.278 3.232-.61.61-1.545.84-2.403.633a2.788 2.788 0 01-1.436-.874A3.21 3.21 0 003 10c0 2.53 2.164 4.5 4.998 4.5zM9.533.753C9.496.34 9.16.009 8.77.146 7.035.75 4.34 3.187 5.997 6.5c.344.689.285 1.218.003 1.5-.419.419-1.54.487-2.04-.832-.173-.454-.659-.762-1.035-.454C2.036 7.44 1.5 8.702 1.5 10c0 3.512 2.998 6 6.498 6s6.5-2.5 6.5-6c0-2.137-1.128-3.26-2.312-4.438-1.19-1.184-2.436-2.425-2.653-4.81z\" fill-rule=\"evenodd\"></path>\n",
       " </svg>Popular repo</div>\n",
       " <h1 class=\"h4 lh-condensed\">\n",
       " <a class=\"css-truncate css-truncate-target\" data-ga-click=\"Explore, go to repository, location:trending developers\" data-hydro-click='{\"event_type\":\"explore.click\",\"payload\":{\"click_context\":\"TRENDING_DEVELOPERS_PAGE\",\"click_target\":\"REPOSITORY\",\"click_visual_representation\":\"REPOSITORY_NAME_HEADING\",\"actor_id\":null,\"record_id\":35955666,\"originating_url\":\"https://github.com/trending/developers\",\"user_id\":null}}' data-hydro-click-hmac=\"956855ac637ad2a40cf3d9752a4a4a681d90c00c9dc61ca47f36e0724ec8c290\" data-view-component=\"true\" href=\"/jlevy/the-art-of-command-line\" style=\"max-width: 175px;\">\n",
       " <svg aria-hidden=\"true\" class=\"octicon octicon-repo color-fg-muted mr-1\" data-view-component=\"true\" height=\"16\" version=\"1.1\" viewbox=\"0 0 16 16\" width=\"16\">\n",
       " <path d=\"M2 2.5A2.5 2.5 0 014.5 0h8.75a.75.75 0 01.75.75v12.5a.75.75 0 01-.75.75h-2.5a.75.75 0 110-1.5h1.75v-2h-8a1 1 0 00-.714 1.7.75.75 0 01-1.072 1.05A2.495 2.495 0 012 11.5v-9zm10.5-1V9h-8c-.356 0-.694.074-1 .208V2.5a1 1 0 011-1h8zM5 12.25v3.25a.25.25 0 00.4.2l1.45-1.087a.25.25 0 01.3 0L8.6 15.7a.25.25 0 00.4-.2v-3.25a.25.25 0 00-.25-.25h-3.5a.25.25 0 00-.25.25z\" fill-rule=\"evenodd\"></path>\n",
       " </svg>\n",
       "       the-art-of-command-line\n",
       " </a> </h1>\n",
       " <div class=\"f6 color-fg-muted mt-1\">\n",
       "       Master the command line, in one page\n",
       "     </div>\n",
       " </article>\n",
       " </div>\n",
       " </div>\n",
       " </div>\n",
       " <div class=\"col-sm-4 d-flex flex-sm-justify-end ml-sm-3\">\n",
       " <div class=\"user-profile-following-container\">\n",
       " <div class=\"user-following-container\">\n",
       " <span class=\"user-following-container\">\n",
       " <span class=\"follow d-block\">\n",
       " <a class=\"btn btn-sm btn-block\" data-hydro-click='{\"event_type\":\"authentication.click\",\"payload\":{\"location_in_page\":\"follow button\",\"repository_id\":null,\"auth_type\":\"LOG_IN\",\"originating_url\":\"https://github.com/trending/developers\",\"user_id\":null}}' data-hydro-click-hmac=\"758ca9b951a863373b9dca2759329881977e0c89c5a5b03c5cc5efdefcb67f4a\" href=\"/login?return_to=https%3A%2F%2Fgithub.com%2Ftrending%2Fdevelopers\">Follow</a>\n",
       " </span>\n",
       " </span>\n",
       " </div>\n",
       " </div>\n",
       " </div>\n",
       " </div>\n",
       " </article>,\n",
       " <article class=\"Box-row d-flex\" id=\"pa-mli\">\n",
       " <a class=\"color-fg-muted f6\" data-view-component=\"true\" href=\"#pa-mli\" style=\"width: 16px;\" text=\"center\">\n",
       "     25\n",
       " </a>\n",
       " <div class=\"mx-3\">\n",
       " <a data-hydro-click='{\"event_type\":\"explore.click\",\"payload\":{\"click_context\":\"TRENDING_DEVELOPERS_PAGE\",\"click_target\":\"OWNER\",\"click_visual_representation\":\"TRENDING_DEVELOPER\",\"actor_id\":null,\"record_id\":421857,\"originating_url\":\"https://github.com/trending/developers\",\"user_id\":null}}' data-hydro-click-hmac=\"57294deacec6649cfa4990cf43e92b7e9b77e8b2d34a8d8fad21f465d2167531\" data-view-component=\"true\" href=\"/mli\">\n",
       " <img alt=\"@mli\" class=\"rounded avatar-user\" height=\"48\" src=\"https://avatars.githubusercontent.com/u/421857?s=96&amp;v=4\" width=\"48\"/>\n",
       " </a> </div>\n",
       " <div class=\"d-sm-flex flex-auto\">\n",
       " <div class=\"col-sm-8 d-md-flex\">\n",
       " <div class=\"col-md-6\">\n",
       " <h1 class=\"h3 lh-condensed\">\n",
       " <a data-hydro-click='{\"event_type\":\"explore.click\",\"payload\":{\"click_context\":\"TRENDING_DEVELOPERS_PAGE\",\"click_target\":\"OWNER\",\"click_visual_representation\":\"TRENDING_DEVELOPER\",\"actor_id\":null,\"record_id\":421857,\"originating_url\":\"https://github.com/trending/developers\",\"user_id\":null}}' data-hydro-click-hmac=\"57294deacec6649cfa4990cf43e92b7e9b77e8b2d34a8d8fad21f465d2167531\" data-view-component=\"true\" href=\"/mli\">\n",
       "             Mu Li\n",
       " </a> </h1>\n",
       " <p class=\"f4 text-normal mb-1\">\n",
       " <a class=\"Link--secondary\" data-hydro-click='{\"event_type\":\"explore.click\",\"payload\":{\"click_context\":\"TRENDING_DEVELOPERS_PAGE\",\"click_target\":\"OWNER\",\"click_visual_representation\":\"TRENDING_DEVELOPER\",\"actor_id\":null,\"record_id\":421857,\"originating_url\":\"https://github.com/trending/developers\",\"user_id\":null}}' data-hydro-click-hmac=\"57294deacec6649cfa4990cf43e92b7e9b77e8b2d34a8d8fad21f465d2167531\" data-view-component=\"true\" href=\"/mli\">\n",
       "               mli\n",
       " </a> </p>\n",
       " </div>\n",
       " <div class=\"col-md-6\">\n",
       " <div class=\"mt-2 mb-3 my-md-0\">\n",
       " <article>\n",
       " <div class=\"f6 color-fg-muted text-uppercase mb-1\"><svg aria-hidden=\"true\" class=\"octicon octicon-flame mr-1 color-fg-severe\" data-view-component=\"true\" height=\"16\" version=\"1.1\" viewbox=\"0 0 16 16\" width=\"16\">\n",
       " <path d=\"M7.998 14.5c2.832 0 5-1.98 5-4.5 0-1.463-.68-2.19-1.879-3.383l-.036-.037c-1.013-1.008-2.3-2.29-2.834-4.434-.322.256-.63.579-.864.953-.432.696-.621 1.58-.046 2.73.473.947.67 2.284-.278 3.232-.61.61-1.545.84-2.403.633a2.788 2.788 0 01-1.436-.874A3.21 3.21 0 003 10c0 2.53 2.164 4.5 4.998 4.5zM9.533.753C9.496.34 9.16.009 8.77.146 7.035.75 4.34 3.187 5.997 6.5c.344.689.285 1.218.003 1.5-.419.419-1.54.487-2.04-.832-.173-.454-.659-.762-1.035-.454C2.036 7.44 1.5 8.702 1.5 10c0 3.512 2.998 6 6.498 6s6.5-2.5 6.5-6c0-2.137-1.128-3.26-2.312-4.438-1.19-1.184-2.436-2.425-2.653-4.81z\" fill-rule=\"evenodd\"></path>\n",
       " </svg>Popular repo</div>\n",
       " <h1 class=\"h4 lh-condensed\">\n",
       " <a class=\"css-truncate css-truncate-target\" data-ga-click=\"Explore, go to repository, location:trending developers\" data-hydro-click='{\"event_type\":\"explore.click\",\"payload\":{\"click_context\":\"TRENDING_DEVELOPERS_PAGE\",\"click_target\":\"REPOSITORY\",\"click_visual_representation\":\"REPOSITORY_NAME_HEADING\",\"actor_id\":null,\"record_id\":559033997,\"originating_url\":\"https://github.com/trending/developers\",\"user_id\":null}}' data-hydro-click-hmac=\"440bf4116fb9bcd3cf5c819b99f207c00348a598b13351ef48f4b67f4a79a6f1\" data-view-component=\"true\" href=\"/mli/autocut\" style=\"max-width: 175px;\">\n",
       " <svg aria-hidden=\"true\" class=\"octicon octicon-repo color-fg-muted mr-1\" data-view-component=\"true\" height=\"16\" version=\"1.1\" viewbox=\"0 0 16 16\" width=\"16\">\n",
       " <path d=\"M2 2.5A2.5 2.5 0 014.5 0h8.75a.75.75 0 01.75.75v12.5a.75.75 0 01-.75.75h-2.5a.75.75 0 110-1.5h1.75v-2h-8a1 1 0 00-.714 1.7.75.75 0 01-1.072 1.05A2.495 2.495 0 012 11.5v-9zm10.5-1V9h-8c-.356 0-.694.074-1 .208V2.5a1 1 0 011-1h8zM5 12.25v3.25a.25.25 0 00.4.2l1.45-1.087a.25.25 0 01.3 0L8.6 15.7a.25.25 0 00.4-.2v-3.25a.25.25 0 00-.25-.25h-3.5a.25.25 0 00-.25.25z\" fill-rule=\"evenodd\"></path>\n",
       " </svg>\n",
       "       autocut\n",
       " </a> </h1>\n",
       " </article>\n",
       " </div>\n",
       " </div>\n",
       " </div>\n",
       " <div class=\"col-sm-4 d-flex flex-sm-justify-end ml-sm-3\">\n",
       " <div class=\"user-profile-following-container\">\n",
       " <div class=\"user-following-container\">\n",
       " <span class=\"user-following-container\">\n",
       " <span class=\"follow d-block\">\n",
       " <a class=\"btn btn-sm btn-block\" data-hydro-click='{\"event_type\":\"authentication.click\",\"payload\":{\"location_in_page\":\"follow button\",\"repository_id\":null,\"auth_type\":\"LOG_IN\",\"originating_url\":\"https://github.com/trending/developers\",\"user_id\":null}}' data-hydro-click-hmac=\"758ca9b951a863373b9dca2759329881977e0c89c5a5b03c5cc5efdefcb67f4a\" href=\"/login?return_to=https%3A%2F%2Fgithub.com%2Ftrending%2Fdevelopers\">Follow</a>\n",
       " </span>\n",
       " </span>\n",
       " </div>\n",
       " </div>\n",
       " </div>\n",
       " </div>\n",
       " </article>]"
      ]
     },
     "execution_count": 7,
     "metadata": {},
     "output_type": "execute_result"
    }
   ],
   "source": [
    "trend"
   ]
  },
  {
   "cell_type": "code",
   "execution_count": 8,
   "metadata": {},
   "outputs": [],
   "source": [
    "trend=trend[0].find('h1', class_='h3 lh-condensed')"
   ]
  },
  {
   "cell_type": "code",
   "execution_count": 9,
   "metadata": {},
   "outputs": [
    {
     "data": {
      "text/plain": [
       "'Emil Ernerfeldt'"
      ]
     },
     "execution_count": 9,
     "metadata": {},
     "output_type": "execute_result"
    }
   ],
   "source": [
    "trend.text.strip()"
   ]
  },
  {
   "cell_type": "code",
   "execution_count": 10,
   "metadata": {},
   "outputs": [],
   "source": [
    "def encontrar(web):\n",
    "    \n",
    "    url=web\n",
    "    \n",
    "    html=req.get(url).content\n",
    "\n",
    "    sopa=bs(html, 'html.parser')\n",
    "    \n",
    "    trend=sopa.find_all('h1', class_='h3 lh-condensed')\n",
    "    \n",
    "    names=[e.text.strip() for e in trend]\n",
    "    \n",
    "    return names"
   ]
  },
  {
   "cell_type": "code",
   "execution_count": 11,
   "metadata": {},
   "outputs": [
    {
     "data": {
      "text/plain": [
       "['Emil Ernerfeldt',\n",
       " 'Earle F. Philhower, III',\n",
       " 'Nikita Sobolev',\n",
       " 'Stephen Celis',\n",
       " 'Justin Fagnani',\n",
       " 'Manu MA',\n",
       " 'Joshua',\n",
       " 'Simon H',\n",
       " 'Marcus Olsson',\n",
       " 'Ben V. Brown',\n",
       " 'Jonny Borges',\n",
       " 'Andrew Kane',\n",
       " 'Wangchong Zhou',\n",
       " 'Mislav Marohnić',\n",
       " 'Matthias Fey',\n",
       " 'Elliana May',\n",
       " 'Romain Beaumont',\n",
       " 'Hari Sekhon',\n",
       " 'osy',\n",
       " 'Adam Johnson',\n",
       " 'Pedro Cuenca',\n",
       " 'Alex Gaynor',\n",
       " 'Henrik Rydgård',\n",
       " 'Joshua Levy',\n",
       " 'Mu Li']"
      ]
     },
     "execution_count": 11,
     "metadata": {},
     "output_type": "execute_result"
    }
   ],
   "source": [
    "encontrar('https://github.com/trending/developers')"
   ]
  },
  {
   "cell_type": "markdown",
   "metadata": {},
   "source": [
    "#### Display the trending Python repositories in GitHub\n",
    "\n",
    "The steps to solve this problem is similar to the previous one except that you need to find out the repository names instead of developer names."
   ]
  },
  {
   "cell_type": "code",
   "execution_count": 51,
   "metadata": {},
   "outputs": [],
   "source": [
    "# This is the url you will scrape in this exercise\n",
    "url = 'https://github.com/trending/python?since=daily'"
   ]
  },
  {
   "cell_type": "code",
   "execution_count": 53,
   "metadata": {},
   "outputs": [],
   "source": [
    "html=req.get(url).content\n",
    "\n",
    "sopa=bs(html, 'html.parser')\n",
    "\n",
    "repo=sopa.find('article', class_='Box-row')"
   ]
  },
  {
   "cell_type": "code",
   "execution_count": 88,
   "metadata": {},
   "outputs": [],
   "source": [
    "repos=repo.find('h1', class_='h3 lh-condensed').text.strip().replace('\\n', '').replace(\" \",\"\")"
   ]
  },
  {
   "cell_type": "code",
   "execution_count": 89,
   "metadata": {},
   "outputs": [
    {
     "data": {
      "text/plain": [
       "'bregman-arie/devops-exercises'"
      ]
     },
     "execution_count": 89,
     "metadata": {},
     "output_type": "execute_result"
    }
   ],
   "source": [
    "repos"
   ]
  },
  {
   "cell_type": "code",
   "execution_count": 94,
   "metadata": {},
   "outputs": [],
   "source": [
    "def repos(web):\n",
    "    \n",
    "    url=web\n",
    "    \n",
    "    html=req.get(url).content\n",
    "\n",
    "    sopa=bs(html, 'html.parser')\n",
    "    \n",
    "    repo=sopa.find_all('h1', class_='h3 lh-condensed')\n",
    "    \n",
    "    repos=[e.text.strip().replace('\\n', '').replace(\" \",\"\") for e in repo]\n",
    "    \n",
    "    return repos"
   ]
  },
  {
   "cell_type": "code",
   "execution_count": 95,
   "metadata": {},
   "outputs": [
    {
     "data": {
      "text/plain": [
       "['bregman-arie/devops-exercises',\n",
       " 'public-apis/public-apis',\n",
       " 'geohot/tinygrad',\n",
       " 'mlflow/mlflow',\n",
       " 'PaddlePaddle/PaddleDetection',\n",
       " 'google/jax',\n",
       " 'iterativv/NostalgiaForInfinity',\n",
       " 'netbox-community/netbox',\n",
       " 'tiangolo/typer',\n",
       " 'streamlit/streamlit',\n",
       " 'modelscope/modelscope',\n",
       " 'LetusDevops/LearnPython',\n",
       " 'nerfstudio-project/nerfstudio',\n",
       " 'idanya/algo-trader',\n",
       " 'heartexlabs/labelImg',\n",
       " 'microsoft/pyright',\n",
       " 'sqlmapproject/sqlmap',\n",
       " 'unifyai/ivy',\n",
       " 'crytic/slither',\n",
       " 'ultralytics/yolov5',\n",
       " 'home-assistant/core',\n",
       " 'WeAreMahsaAmini/FreeInternet',\n",
       " 'open-mmlab/mmocr',\n",
       " 'Lightning-AI/lightning',\n",
       " 'demisto/content']"
      ]
     },
     "execution_count": 95,
     "metadata": {},
     "output_type": "execute_result"
    }
   ],
   "source": [
    "repos('https://github.com/trending/python?since=daily')"
   ]
  },
  {
   "cell_type": "markdown",
   "metadata": {},
   "source": [
    "#### Display all the image links from Walt Disney wikipedia page"
   ]
  },
  {
   "cell_type": "code",
   "execution_count": 100,
   "metadata": {},
   "outputs": [],
   "source": [
    "# This is the url you will scrape in this exercise\n",
    "url = 'https://en.wikipedia.org/wiki/Walt_Disney'"
   ]
  },
  {
   "cell_type": "code",
   "execution_count": 145,
   "metadata": {},
   "outputs": [
    {
     "data": {
      "text/plain": [
       "<img alt=\"Walt Disney 1946.JPG\" data-file-height=\"675\" data-file-width=\"450\" decoding=\"async\" height=\"330\" src=\"//upload.wikimedia.org/wikipedia/commons/thumb/d/df/Walt_Disney_1946.JPG/220px-Walt_Disney_1946.JPG\" srcset=\"//upload.wikimedia.org/wikipedia/commons/thumb/d/df/Walt_Disney_1946.JPG/330px-Walt_Disney_1946.JPG 1.5x, //upload.wikimedia.org/wikipedia/commons/thumb/d/df/Walt_Disney_1946.JPG/440px-Walt_Disney_1946.JPG 2x\" width=\"220\"/>"
      ]
     },
     "execution_count": 145,
     "metadata": {},
     "output_type": "execute_result"
    }
   ],
   "source": [
    "html=req.get(url).content\n",
    "\n",
    "sopa=bs(html, 'html.parser')\n",
    "\n",
    "img=sopa.find_all('div', class_='mw-body-content mw-content-ltr')\n",
    "\n",
    "img=img[0].find_all('img')\n",
    "\n",
    "img[0]"
   ]
  },
  {
   "cell_type": "code",
   "execution_count": 148,
   "metadata": {},
   "outputs": [
    {
     "data": {
      "text/plain": [
       "'upload.wikimedia.org/wikipedia/commons/thumb/d/df/Walt_Disney_1946.JPG/220px-Walt_Disney_1946.JPG'"
      ]
     },
     "execution_count": 148,
     "metadata": {},
     "output_type": "execute_result"
    }
   ],
   "source": [
    "img[0].attrs['src'].replace('//','')"
   ]
  },
  {
   "cell_type": "code",
   "execution_count": 156,
   "metadata": {},
   "outputs": [],
   "source": [
    "def img(web):\n",
    "    \n",
    "    url=web\n",
    "    \n",
    "    html=req.get(url).content\n",
    "\n",
    "    sopa=bs(html, 'html.parser')\n",
    "    \n",
    "    img=sopa.find_all('div', class_='mw-body-content mw-content-ltr')\n",
    "    \n",
    "    img=img[0].find_all('img')\n",
    "    \n",
    "    imgs=['http://'+e.attrs['src'].replace('//','') for e in img]\n",
    "    \n",
    "    return imgs"
   ]
  },
  {
   "cell_type": "code",
   "execution_count": 152,
   "metadata": {},
   "outputs": [
    {
     "name": "stdout",
     "output_type": "stream",
     "text": [
      "Requirement already satisfied: IPython in c:\\users\\nonito\\anaconda3\\lib\\site-packages (8.2.0)\n",
      "Requirement already satisfied: stack-data in c:\\users\\nonito\\anaconda3\\lib\\site-packages (from IPython) (0.2.0)\n",
      "Requirement already satisfied: decorator in c:\\users\\nonito\\anaconda3\\lib\\site-packages (from IPython) (5.1.1)\n",
      "Requirement already satisfied: pickleshare in c:\\users\\nonito\\anaconda3\\lib\\site-packages (from IPython) (0.7.5)\n",
      "Requirement already satisfied: jedi>=0.16 in c:\\users\\nonito\\anaconda3\\lib\\site-packages (from IPython) (0.18.1)\n",
      "Requirement already satisfied: prompt-toolkit!=3.0.0,!=3.0.1,<3.1.0,>=2.0.0 in c:\\users\\nonito\\anaconda3\\lib\\site-packages (from IPython) (3.0.20)\n",
      "Requirement already satisfied: colorama in c:\\users\\nonito\\anaconda3\\lib\\site-packages (from IPython) (0.4.4)\n",
      "Requirement already satisfied: backcall in c:\\users\\nonito\\anaconda3\\lib\\site-packages (from IPython) (0.2.0)\n",
      "Requirement already satisfied: setuptools>=18.5 in c:\\users\\nonito\\anaconda3\\lib\\site-packages (from IPython) (61.2.0)\n",
      "Requirement already satisfied: matplotlib-inline in c:\\users\\nonito\\anaconda3\\lib\\site-packages (from IPython) (0.1.2)\n",
      "Requirement already satisfied: pygments>=2.4.0 in c:\\users\\nonito\\anaconda3\\lib\\site-packages (from IPython) (2.11.2)\n",
      "Requirement already satisfied: traitlets>=5 in c:\\users\\nonito\\anaconda3\\lib\\site-packages (from IPython) (5.1.1)\n",
      "Requirement already satisfied: parso<0.9.0,>=0.8.0 in c:\\users\\nonito\\anaconda3\\lib\\site-packages (from jedi>=0.16->IPython) (0.8.3)\n",
      "Requirement already satisfied: wcwidth in c:\\users\\nonito\\anaconda3\\lib\\site-packages (from prompt-toolkit!=3.0.0,!=3.0.1,<3.1.0,>=2.0.0->IPython) (0.2.5)\n",
      "Requirement already satisfied: pure-eval in c:\\users\\nonito\\anaconda3\\lib\\site-packages (from stack-data->IPython) (0.2.2)\n",
      "Requirement already satisfied: executing in c:\\users\\nonito\\anaconda3\\lib\\site-packages (from stack-data->IPython) (0.8.3)\n",
      "Requirement already satisfied: asttokens in c:\\users\\nonito\\anaconda3\\lib\\site-packages (from stack-data->IPython) (2.0.5)\n",
      "Requirement already satisfied: six in c:\\users\\nonito\\anaconda3\\lib\\site-packages (from asttokens->stack-data->IPython) (1.16.0)\n",
      "Note: you may need to restart the kernel to use updated packages.\n"
     ]
    }
   ],
   "source": [
    "%pip install IPython"
   ]
  },
  {
   "cell_type": "code",
   "execution_count": 157,
   "metadata": {},
   "outputs": [
    {
     "name": "stdout",
     "output_type": "stream",
     "text": [
      "http://upload.wikimedia.org/wikipedia/commons/thumb/d/df/Walt_Disney_1946.JPG/220px-Walt_Disney_1946.JPG\n"
     ]
    },
    {
     "data": {
      "text/html": [
       "<img src=\"http://upload.wikimedia.org/wikipedia/commons/thumb/d/df/Walt_Disney_1946.JPG/220px-Walt_Disney_1946.JPG\"/>"
      ],
      "text/plain": [
       "<IPython.core.display.Image object>"
      ]
     },
     "metadata": {},
     "output_type": "display_data"
    },
    {
     "name": "stdout",
     "output_type": "stream",
     "text": [
      "http://upload.wikimedia.org/wikipedia/commons/thumb/8/87/Walt_Disney_1942_signature.svg/150px-Walt_Disney_1942_signature.svg.png\n"
     ]
    },
    {
     "data": {
      "text/html": [
       "<img src=\"http://upload.wikimedia.org/wikipedia/commons/thumb/8/87/Walt_Disney_1942_signature.svg/150px-Walt_Disney_1942_signature.svg.png\"/>"
      ],
      "text/plain": [
       "<IPython.core.display.Image object>"
      ]
     },
     "metadata": {},
     "output_type": "display_data"
    },
    {
     "name": "stdout",
     "output_type": "stream",
     "text": [
      "http://upload.wikimedia.org/wikipedia/commons/thumb/3/3a/Walt_Disney_Birthplace_Exterior_Hermosa_Chicago_Illinois.jpg/220px-Walt_Disney_Birthplace_Exterior_Hermosa_Chicago_Illinois.jpg\n"
     ]
    },
    {
     "data": {
      "text/html": [
       "<img src=\"http://upload.wikimedia.org/wikipedia/commons/thumb/3/3a/Walt_Disney_Birthplace_Exterior_Hermosa_Chicago_Illinois.jpg/220px-Walt_Disney_Birthplace_Exterior_Hermosa_Chicago_Illinois.jpg\"/>"
      ],
      "text/plain": [
       "<IPython.core.display.Image object>"
      ]
     },
     "metadata": {},
     "output_type": "display_data"
    },
    {
     "name": "stdout",
     "output_type": "stream",
     "text": [
      "http://upload.wikimedia.org/wikipedia/commons/thumb/c/c4/Walt_Disney_envelope_ca._1921.jpg/220px-Walt_Disney_envelope_ca._1921.jpg\n"
     ]
    },
    {
     "data": {
      "text/html": [
       "<img src=\"http://upload.wikimedia.org/wikipedia/commons/thumb/c/c4/Walt_Disney_envelope_ca._1921.jpg/220px-Walt_Disney_envelope_ca._1921.jpg\"/>"
      ],
      "text/plain": [
       "<IPython.core.display.Image object>"
      ]
     },
     "metadata": {},
     "output_type": "display_data"
    },
    {
     "name": "stdout",
     "output_type": "stream",
     "text": [
      "http://upload.wikimedia.org/wikipedia/commons/thumb/0/0d/Trolley_Troubles_poster.jpg/170px-Trolley_Troubles_poster.jpg\n"
     ]
    },
    {
     "data": {
      "text/html": [
       "<img src=\"http://upload.wikimedia.org/wikipedia/commons/thumb/0/0d/Trolley_Troubles_poster.jpg/170px-Trolley_Troubles_poster.jpg\"/>"
      ],
      "text/plain": [
       "<IPython.core.display.Image object>"
      ]
     },
     "metadata": {},
     "output_type": "display_data"
    },
    {
     "name": "stdout",
     "output_type": "stream",
     "text": [
      "http://upload.wikimedia.org/wikipedia/en/thumb/4/4e/Steamboat-willie.jpg/170px-Steamboat-willie.jpg\n"
     ]
    },
    {
     "data": {
      "text/html": [
       "<img src=\"http://upload.wikimedia.org/wikipedia/en/thumb/4/4e/Steamboat-willie.jpg/170px-Steamboat-willie.jpg\"/>"
      ],
      "text/plain": [
       "<IPython.core.display.Image object>"
      ]
     },
     "metadata": {},
     "output_type": "display_data"
    },
    {
     "name": "stdout",
     "output_type": "stream",
     "text": [
      "http://upload.wikimedia.org/wikipedia/commons/thumb/5/57/Walt_Disney_1935.jpg/170px-Walt_Disney_1935.jpg\n"
     ]
    },
    {
     "data": {
      "text/html": [
       "<img src=\"http://upload.wikimedia.org/wikipedia/commons/thumb/5/57/Walt_Disney_1935.jpg/170px-Walt_Disney_1935.jpg\"/>"
      ],
      "text/plain": [
       "<IPython.core.display.Image object>"
      ]
     },
     "metadata": {},
     "output_type": "display_data"
    },
    {
     "name": "stdout",
     "output_type": "stream",
     "text": [
      "http://upload.wikimedia.org/wikipedia/commons/thumb/c/cd/Walt_Disney_Snow_white_1937_trailer_screenshot_%2813%29.jpg/220px-Walt_Disney_Snow_white_1937_trailer_screenshot_%2813%29.jpg\n"
     ]
    },
    {
     "data": {
      "text/html": [
       "<img src=\"http://upload.wikimedia.org/wikipedia/commons/thumb/c/cd/Walt_Disney_Snow_white_1937_trailer_screenshot_%2813%29.jpg/220px-Walt_Disney_Snow_white_1937_trailer_screenshot_%2813%29.jpg\"/>"
      ],
      "text/plain": [
       "<IPython.core.display.Image object>"
      ]
     },
     "metadata": {},
     "output_type": "display_data"
    },
    {
     "name": "stdout",
     "output_type": "stream",
     "text": [
      "http://upload.wikimedia.org/wikipedia/commons/thumb/1/15/Disney_drawing_goofy.jpg/170px-Disney_drawing_goofy.jpg\n"
     ]
    },
    {
     "data": {
      "text/html": [
       "<img src=\"http://upload.wikimedia.org/wikipedia/commons/thumb/1/15/Disney_drawing_goofy.jpg/170px-Disney_drawing_goofy.jpg\"/>"
      ],
      "text/plain": [
       "<IPython.core.display.Image object>"
      ]
     },
     "metadata": {},
     "output_type": "display_data"
    },
    {
     "name": "stdout",
     "output_type": "stream",
     "text": [
      "http://upload.wikimedia.org/wikipedia/commons/thumb/8/8c/WaltDisneyplansDisneylandDec1954.jpg/220px-WaltDisneyplansDisneylandDec1954.jpg\n"
     ]
    },
    {
     "data": {
      "text/html": [
       "<img src=\"http://upload.wikimedia.org/wikipedia/commons/thumb/8/8c/WaltDisneyplansDisneylandDec1954.jpg/220px-WaltDisneyplansDisneylandDec1954.jpg\"/>"
      ],
      "text/plain": [
       "<IPython.core.display.Image object>"
      ]
     },
     "metadata": {},
     "output_type": "display_data"
    },
    {
     "name": "stdout",
     "output_type": "stream",
     "text": [
      "http://upload.wikimedia.org/wikipedia/commons/thumb/f/ff/Walt_disney_portrait_right.jpg/170px-Walt_disney_portrait_right.jpg\n"
     ]
    },
    {
     "data": {
      "text/html": [
       "<img src=\"http://upload.wikimedia.org/wikipedia/commons/thumb/f/ff/Walt_disney_portrait_right.jpg/170px-Walt_disney_portrait_right.jpg\"/>"
      ],
      "text/plain": [
       "<IPython.core.display.Image object>"
      ]
     },
     "metadata": {},
     "output_type": "display_data"
    },
    {
     "name": "stdout",
     "output_type": "stream",
     "text": [
      "http://upload.wikimedia.org/wikipedia/commons/thumb/1/1a/Walt_Disney_Grave.JPG/170px-Walt_Disney_Grave.JPG\n"
     ]
    },
    {
     "data": {
      "text/html": [
       "<img src=\"http://upload.wikimedia.org/wikipedia/commons/thumb/1/1a/Walt_Disney_Grave.JPG/170px-Walt_Disney_Grave.JPG\"/>"
      ],
      "text/plain": [
       "<IPython.core.display.Image object>"
      ]
     },
     "metadata": {},
     "output_type": "display_data"
    },
    {
     "name": "stdout",
     "output_type": "stream",
     "text": [
      "http://upload.wikimedia.org/wikipedia/commons/thumb/2/2d/Roy_O._Disney_with_Company_at_Press_Conference.jpg/170px-Roy_O._Disney_with_Company_at_Press_Conference.jpg\n"
     ]
    },
    {
     "data": {
      "text/html": [
       "<img src=\"http://upload.wikimedia.org/wikipedia/commons/thumb/2/2d/Roy_O._Disney_with_Company_at_Press_Conference.jpg/170px-Roy_O._Disney_with_Company_at_Press_Conference.jpg\"/>"
      ],
      "text/plain": [
       "<IPython.core.display.Image object>"
      ]
     },
     "metadata": {},
     "output_type": "display_data"
    },
    {
     "name": "stdout",
     "output_type": "stream",
     "text": [
      "http://upload.wikimedia.org/wikipedia/commons/thumb/1/13/DisneySchiphol1951.jpg/220px-DisneySchiphol1951.jpg\n"
     ]
    },
    {
     "data": {
      "text/html": [
       "<img src=\"http://upload.wikimedia.org/wikipedia/commons/thumb/1/13/DisneySchiphol1951.jpg/220px-DisneySchiphol1951.jpg\"/>"
      ],
      "text/plain": [
       "<IPython.core.display.Image object>"
      ]
     },
     "metadata": {},
     "output_type": "display_data"
    },
    {
     "name": "stdout",
     "output_type": "stream",
     "text": [
      "http://upload.wikimedia.org/wikipedia/commons/thumb/6/6c/Disney1968.jpg/170px-Disney1968.jpg\n"
     ]
    },
    {
     "data": {
      "text/html": [
       "<img src=\"http://upload.wikimedia.org/wikipedia/commons/thumb/6/6c/Disney1968.jpg/170px-Disney1968.jpg\"/>"
      ],
      "text/plain": [
       "<IPython.core.display.Image object>"
      ]
     },
     "metadata": {},
     "output_type": "display_data"
    },
    {
     "name": "stdout",
     "output_type": "stream",
     "text": [
      "http://upload.wikimedia.org/wikipedia/commons/thumb/b/b0/Disney_Oscar_1953_%28cropped%29.jpg/170px-Disney_Oscar_1953_%28cropped%29.jpg\n"
     ]
    },
    {
     "data": {
      "text/html": [
       "<img src=\"http://upload.wikimedia.org/wikipedia/commons/thumb/b/b0/Disney_Oscar_1953_%28cropped%29.jpg/170px-Disney_Oscar_1953_%28cropped%29.jpg\"/>"
      ],
      "text/plain": [
       "<IPython.core.display.Image object>"
      ]
     },
     "metadata": {},
     "output_type": "display_data"
    },
    {
     "name": "stdout",
     "output_type": "stream",
     "text": [
      "http://upload.wikimedia.org/wikipedia/en/thumb/4/4a/Commons-logo.svg/30px-Commons-logo.svg.png\n"
     ]
    },
    {
     "data": {
      "text/html": [
       "<img src=\"http://upload.wikimedia.org/wikipedia/en/thumb/4/4a/Commons-logo.svg/30px-Commons-logo.svg.png\"/>"
      ],
      "text/plain": [
       "<IPython.core.display.Image object>"
      ]
     },
     "metadata": {},
     "output_type": "display_data"
    },
    {
     "name": "stdout",
     "output_type": "stream",
     "text": [
      "http://upload.wikimedia.org/wikipedia/commons/thumb/4/4c/Wikisource-logo.svg/38px-Wikisource-logo.svg.png\n"
     ]
    },
    {
     "data": {
      "text/html": [
       "<img src=\"http://upload.wikimedia.org/wikipedia/commons/thumb/4/4c/Wikisource-logo.svg/38px-Wikisource-logo.svg.png\"/>"
      ],
      "text/plain": [
       "<IPython.core.display.Image object>"
      ]
     },
     "metadata": {},
     "output_type": "display_data"
    },
    {
     "name": "stdout",
     "output_type": "stream",
     "text": [
      "http://upload.wikimedia.org/wikipedia/commons/thumb/f/fa/Wikiquote-logo.svg/34px-Wikiquote-logo.svg.png\n"
     ]
    },
    {
     "data": {
      "text/html": [
       "<img src=\"http://upload.wikimedia.org/wikipedia/commons/thumb/f/fa/Wikiquote-logo.svg/34px-Wikiquote-logo.svg.png\"/>"
      ],
      "text/plain": [
       "<IPython.core.display.Image object>"
      ]
     },
     "metadata": {},
     "output_type": "display_data"
    },
    {
     "name": "stdout",
     "output_type": "stream",
     "text": [
      "http://upload.wikimedia.org/wikipedia/en/thumb/8/8a/OOjs_UI_icon_edit-ltr-progressive.svg/10px-OOjs_UI_icon_edit-ltr-progressive.svg.png\n"
     ]
    },
    {
     "data": {
      "text/html": [
       "<img src=\"http://upload.wikimedia.org/wikipedia/en/thumb/8/8a/OOjs_UI_icon_edit-ltr-progressive.svg/10px-OOjs_UI_icon_edit-ltr-progressive.svg.png\"/>"
      ],
      "text/plain": [
       "<IPython.core.display.Image object>"
      ]
     },
     "metadata": {},
     "output_type": "display_data"
    },
    {
     "name": "stdout",
     "output_type": "stream",
     "text": [
      "http://upload.wikimedia.org/wikipedia/en/thumb/8/8a/OOjs_UI_icon_edit-ltr-progressive.svg/10px-OOjs_UI_icon_edit-ltr-progressive.svg.png\n"
     ]
    },
    {
     "data": {
      "text/html": [
       "<img src=\"http://upload.wikimedia.org/wikipedia/en/thumb/8/8a/OOjs_UI_icon_edit-ltr-progressive.svg/10px-OOjs_UI_icon_edit-ltr-progressive.svg.png\"/>"
      ],
      "text/plain": [
       "<IPython.core.display.Image object>"
      ]
     },
     "metadata": {},
     "output_type": "display_data"
    },
    {
     "name": "stdout",
     "output_type": "stream",
     "text": [
      "http://upload.wikimedia.org/wikipedia/commons/thumb/e/e3/Disneyland_Resort_logo.svg/135px-Disneyland_Resort_logo.svg.png\n"
     ]
    },
    {
     "data": {
      "text/html": [
       "<img src=\"http://upload.wikimedia.org/wikipedia/commons/thumb/e/e3/Disneyland_Resort_logo.svg/135px-Disneyland_Resort_logo.svg.png\"/>"
      ],
      "text/plain": [
       "<IPython.core.display.Image object>"
      ]
     },
     "metadata": {},
     "output_type": "display_data"
    },
    {
     "name": "stdout",
     "output_type": "stream",
     "text": [
      "http://upload.wikimedia.org/wikipedia/commons/thumb/d/da/Animation_disc.svg/20px-Animation_disc.svg.png\n"
     ]
    },
    {
     "data": {
      "text/html": [
       "<img src=\"http://upload.wikimedia.org/wikipedia/commons/thumb/d/da/Animation_disc.svg/20px-Animation_disc.svg.png\"/>"
      ],
      "text/plain": [
       "<IPython.core.display.Image object>"
      ]
     },
     "metadata": {},
     "output_type": "display_data"
    },
    {
     "name": "stdout",
     "output_type": "stream",
     "text": [
      "http://upload.wikimedia.org/wikipedia/en/thumb/6/69/P_vip.svg/19px-P_vip.svg.png\n"
     ]
    },
    {
     "data": {
      "text/html": [
       "<img src=\"http://upload.wikimedia.org/wikipedia/en/thumb/6/69/P_vip.svg/19px-P_vip.svg.png\"/>"
      ],
      "text/plain": [
       "<IPython.core.display.Image object>"
      ]
     },
     "metadata": {},
     "output_type": "display_data"
    },
    {
     "name": "stdout",
     "output_type": "stream",
     "text": [
      "http://upload.wikimedia.org/wikipedia/commons/thumb/1/1a/Magic_Kingdom_castle.jpg/15px-Magic_Kingdom_castle.jpg\n"
     ]
    },
    {
     "data": {
      "text/html": [
       "<img src=\"http://upload.wikimedia.org/wikipedia/commons/thumb/1/1a/Magic_Kingdom_castle.jpg/15px-Magic_Kingdom_castle.jpg\"/>"
      ],
      "text/plain": [
       "<IPython.core.display.Image object>"
      ]
     },
     "metadata": {},
     "output_type": "display_data"
    },
    {
     "name": "stdout",
     "output_type": "stream",
     "text": [
      "http://upload.wikimedia.org/wikipedia/en/thumb/e/e7/Video-x-generic.svg/19px-Video-x-generic.svg.png\n"
     ]
    },
    {
     "data": {
      "text/html": [
       "<img src=\"http://upload.wikimedia.org/wikipedia/en/thumb/e/e7/Video-x-generic.svg/19px-Video-x-generic.svg.png\"/>"
      ],
      "text/plain": [
       "<IPython.core.display.Image object>"
      ]
     },
     "metadata": {},
     "output_type": "display_data"
    },
    {
     "name": "stdout",
     "output_type": "stream",
     "text": [
      "http://upload.wikimedia.org/wikipedia/commons/thumb/a/a3/Flag_of_Los_Angeles_County%2C_California.svg/21px-Flag_of_Los_Angeles_County%2C_California.svg.png\n"
     ]
    },
    {
     "data": {
      "text/html": [
       "<img src=\"http://upload.wikimedia.org/wikipedia/commons/thumb/a/a3/Flag_of_Los_Angeles_County%2C_California.svg/21px-Flag_of_Los_Angeles_County%2C_California.svg.png\"/>"
      ],
      "text/plain": [
       "<IPython.core.display.Image object>"
      ]
     },
     "metadata": {},
     "output_type": "display_data"
    },
    {
     "name": "stdout",
     "output_type": "stream",
     "text": [
      "http://upload.wikimedia.org/wikipedia/commons/thumb/8/8c/Blank_television_set.svg/21px-Blank_television_set.svg.png\n"
     ]
    },
    {
     "data": {
      "text/html": [
       "<img src=\"http://upload.wikimedia.org/wikipedia/commons/thumb/8/8c/Blank_television_set.svg/21px-Blank_television_set.svg.png\"/>"
      ],
      "text/plain": [
       "<IPython.core.display.Image object>"
      ]
     },
     "metadata": {},
     "output_type": "display_data"
    },
    {
     "name": "stdout",
     "output_type": "stream",
     "text": [
      "http://upload.wikimedia.org/wikipedia/en/thumb/a/a4/Flag_of_the_United_States.svg/21px-Flag_of_the_United_States.svg.png\n"
     ]
    },
    {
     "data": {
      "text/html": [
       "<img src=\"http://upload.wikimedia.org/wikipedia/en/thumb/a/a4/Flag_of_the_United_States.svg/21px-Flag_of_the_United_States.svg.png\"/>"
      ],
      "text/plain": [
       "<IPython.core.display.Image object>"
      ]
     },
     "metadata": {},
     "output_type": "display_data"
    },
    {
     "name": "stdout",
     "output_type": "stream",
     "text": [
      "http://upload.wikimedia.org/wikipedia/en/thumb/4/4a/Commons-logo.svg/14px-Commons-logo.svg.png\n"
     ]
    },
    {
     "data": {
      "text/html": [
       "<img src=\"http://upload.wikimedia.org/wikipedia/en/thumb/4/4a/Commons-logo.svg/14px-Commons-logo.svg.png\"/>"
      ],
      "text/plain": [
       "<IPython.core.display.Image object>"
      ]
     },
     "metadata": {},
     "output_type": "display_data"
    },
    {
     "name": "stdout",
     "output_type": "stream",
     "text": [
      "http://upload.wikimedia.org/wikipedia/commons/thumb/f/fa/Wikiquote-logo.svg/16px-Wikiquote-logo.svg.png\n"
     ]
    },
    {
     "data": {
      "text/html": [
       "<img src=\"http://upload.wikimedia.org/wikipedia/commons/thumb/f/fa/Wikiquote-logo.svg/16px-Wikiquote-logo.svg.png\"/>"
      ],
      "text/plain": [
       "<IPython.core.display.Image object>"
      ]
     },
     "metadata": {},
     "output_type": "display_data"
    },
    {
     "name": "stdout",
     "output_type": "stream",
     "text": [
      "http://upload.wikimedia.org/wikipedia/commons/thumb/4/4c/Wikisource-logo.svg/18px-Wikisource-logo.svg.png\n"
     ]
    },
    {
     "data": {
      "text/html": [
       "<img src=\"http://upload.wikimedia.org/wikipedia/commons/thumb/4/4c/Wikisource-logo.svg/18px-Wikisource-logo.svg.png\"/>"
      ],
      "text/plain": [
       "<IPython.core.display.Image object>"
      ]
     },
     "metadata": {},
     "output_type": "display_data"
    },
    {
     "name": "stdout",
     "output_type": "stream",
     "text": [
      "http://upload.wikimedia.org/wikipedia/commons/thumb/f/ff/Wikidata-logo.svg/21px-Wikidata-logo.svg.png\n"
     ]
    },
    {
     "data": {
      "text/html": [
       "<img src=\"http://upload.wikimedia.org/wikipedia/commons/thumb/f/ff/Wikidata-logo.svg/21px-Wikidata-logo.svg.png\"/>"
      ],
      "text/plain": [
       "<IPython.core.display.Image object>"
      ]
     },
     "metadata": {},
     "output_type": "display_data"
    },
    {
     "name": "stdout",
     "output_type": "stream",
     "text": [
      "http://upload.wikimedia.org/wikipedia/en/thumb/8/8a/OOjs_UI_icon_edit-ltr-progressive.svg/10px-OOjs_UI_icon_edit-ltr-progressive.svg.png\n"
     ]
    },
    {
     "data": {
      "text/html": [
       "<img src=\"http://upload.wikimedia.org/wikipedia/en/thumb/8/8a/OOjs_UI_icon_edit-ltr-progressive.svg/10px-OOjs_UI_icon_edit-ltr-progressive.svg.png\"/>"
      ],
      "text/plain": [
       "<IPython.core.display.Image object>"
      ]
     },
     "metadata": {},
     "output_type": "display_data"
    },
    {
     "name": "stdout",
     "output_type": "stream",
     "text": [
      "http://en.wikipedia.org/wiki/Special:CentralAutoLogin/start?type=1x1\n"
     ]
    },
    {
     "data": {
      "text/html": [
       "<img src=\"http://en.wikipedia.org/wiki/Special:CentralAutoLogin/start?type=1x1\"/>"
      ],
      "text/plain": [
       "<IPython.core.display.Image object>"
      ]
     },
     "metadata": {},
     "output_type": "display_data"
    }
   ],
   "source": [
    "from IPython.display import Image\n",
    "\n",
    "for i in img('https://en.wikipedia.org/wiki/Walt_Disney'):\n",
    "    print(i)\n",
    "    display(Image(url=i))"
   ]
  },
  {
   "cell_type": "markdown",
   "metadata": {},
   "source": [
    "#### Retrieve an arbitary Wikipedia page of \"Python\" and create a list of links on that page"
   ]
  },
  {
   "cell_type": "code",
   "execution_count": 444,
   "metadata": {},
   "outputs": [],
   "source": [
    "# This is the url you will scrape in this exercise\n",
    "url ='https://en.wikipedia.org/wiki/Python' "
   ]
  },
  {
   "cell_type": "code",
   "execution_count": 445,
   "metadata": {},
   "outputs": [],
   "source": [
    "html=req.get(url).content\n",
    "\n",
    "sopa=bs(html, 'html.parser')\n"
   ]
  },
  {
   "cell_type": "code",
   "execution_count": 381,
   "metadata": {},
   "outputs": [],
   "source": [
    "#sopa.find_all('a', href=True)"
   ]
  },
  {
   "cell_type": "code",
   "execution_count": null,
   "metadata": {},
   "outputs": [],
   "source": []
  },
  {
   "cell_type": "code",
   "execution_count": null,
   "metadata": {},
   "outputs": [],
   "source": []
  },
  {
   "cell_type": "code",
   "execution_count": 452,
   "metadata": {},
   "outputs": [
    {
     "data": {
      "text/plain": [
       "['https://en.wiktionary.org/wiki/Python',\n",
       " 'https://en.wiktionary.org/wiki/python',\n",
       " '/wiki/Pythonidae',\n",
       " '/wiki/Python_(genus)',\n",
       " '/wiki/Python_(mythology)',\n",
       " '/wiki/Python_(programming_language)',\n",
       " '/wiki/CMU_Common_Lisp',\n",
       " '/wiki/PERQ#PERQ_3',\n",
       " '/wiki/Python_of_Aenus',\n",
       " '/wiki/Python_(painter)',\n",
       " '/wiki/Python_of_Byzantium',\n",
       " '/wiki/Python_of_Catana',\n",
       " '/wiki/Python_Anghelo',\n",
       " '/wiki/Python_(Efteling)',\n",
       " '/wiki/Python_(Busch_Gardens_Tampa_Bay)',\n",
       " '/wiki/Python_(Coney_Island,_Cincinnati,_Ohio)',\n",
       " '/wiki/Python_(automobile_maker)',\n",
       " '/wiki/Python_(Ford_prototype)',\n",
       " '/wiki/Python_(missile)',\n",
       " '/wiki/Python_(nuclear_primary)',\n",
       " '/wiki/Colt_Python',\n",
       " '/wiki/Python_(codename)',\n",
       " '/wiki/Python_(film)',\n",
       " '/wiki/Monty_Python',\n",
       " '/wiki/Python_(Monty)_Pictures',\n",
       " '/wiki/Timon_of_Phlius',\n",
       " '/wiki/Cython',\n",
       " '/wiki/Pyton',\n",
       " '/wiki/Pithon',\n",
       " '/wiki/File:Disambig_gray.svg',\n",
       " '/wiki/Help:Disambiguation',\n",
       " '/wiki/Help:Category',\n",
       " '/wiki/Category:Disambiguation_pages',\n",
       " '/wiki/Category:Human_name_disambiguation_pages',\n",
       " '/wiki/Category:Disambiguation_pages_with_given-name-holder_lists',\n",
       " '/wiki/Category:Disambiguation_pages_with_short_descriptions',\n",
       " '/wiki/Category:Short_description_is_different_from_Wikidata',\n",
       " '/wiki/Category:All_article_disambiguation_pages',\n",
       " '/wiki/Category:All_disambiguation_pages',\n",
       " '/wiki/Category:Animal_common_name_disambiguation_pages',\n",
       " '/wiki/Special:MyTalk',\n",
       " '/wiki/Special:MyContributions',\n",
       " '/wiki/Python',\n",
       " '/wiki/Talk:Python',\n",
       " '/wiki/Python',\n",
       " '/wiki/Main_Page',\n",
       " '/wiki/Main_Page',\n",
       " '/wiki/Wikipedia:Contents',\n",
       " '/wiki/Portal:Current_events',\n",
       " '/wiki/Special:Random',\n",
       " '/wiki/Wikipedia:About',\n",
       " '//en.wikipedia.org/wiki/Wikipedia:Contact_us',\n",
       " 'https://donate.wikimedia.org/wiki/Special:FundraiserRedirector?utm_source=donate&utm_medium=sidebar&utm_campaign=C13_en.wikipedia.org&uselang=en',\n",
       " '/wiki/Help:Contents',\n",
       " '/wiki/Help:Introduction',\n",
       " '/wiki/Wikipedia:Community_portal',\n",
       " '/wiki/Special:RecentChanges',\n",
       " '/wiki/Wikipedia:File_Upload_Wizard',\n",
       " '/wiki/Special:WhatLinksHere/Python',\n",
       " '/wiki/Special:RecentChangesLinked/Python',\n",
       " '/wiki/Wikipedia:File_Upload_Wizard',\n",
       " '/wiki/Special:SpecialPages',\n",
       " 'https://www.wikidata.org/wiki/Special:EntityPage/Q747452',\n",
       " 'https://commons.wikimedia.org/wiki/Category:Python',\n",
       " 'https://af.wikipedia.org/wiki/Python',\n",
       " 'https://als.wikipedia.org/wiki/Python',\n",
       " 'https://ar.wikipedia.org/wiki/%D8%A8%D8%A7%D9%8A%D8%AB%D9%88%D9%86_(%D8%AA%D9%88%D8%B6%D9%8A%D8%AD)',\n",
       " 'https://az.wikipedia.org/wiki/Python',\n",
       " 'https://bn.wikipedia.org/wiki/%E0%A6%AA%E0%A6%BE%E0%A6%87%E0%A6%A5%E0%A6%A8_(%E0%A6%A6%E0%A7%8D%E0%A6%AC%E0%A7%8D%E0%A6%AF%E0%A6%B0%E0%A7%8D%E0%A6%A5%E0%A6%A4%E0%A6%BE_%E0%A6%A8%E0%A6%BF%E0%A6%B0%E0%A6%B8%E0%A6%A8)',\n",
       " 'https://be.wikipedia.org/wiki/Python',\n",
       " 'https://bg.wikipedia.org/wiki/%D0%9F%D0%B8%D1%82%D0%BE%D0%BD_(%D0%BF%D0%BE%D1%8F%D1%81%D0%BD%D0%B5%D0%BD%D0%B8%D0%B5)',\n",
       " 'https://cs.wikipedia.org/wiki/Python_(rozcestn%C3%ADk)',\n",
       " 'https://da.wikipedia.org/wiki/Python',\n",
       " 'https://de.wikipedia.org/wiki/Python',\n",
       " 'https://eo.wikipedia.org/wiki/Pitono_(apartigilo)',\n",
       " 'https://eu.wikipedia.org/wiki/Python_(argipena)',\n",
       " 'https://fa.wikipedia.org/wiki/%D9%BE%D8%A7%DB%8C%D8%AA%D9%88%D9%86',\n",
       " 'https://fr.wikipedia.org/wiki/Python',\n",
       " 'https://ko.wikipedia.org/wiki/%ED%8C%8C%EC%9D%B4%EC%84%A0',\n",
       " 'https://hr.wikipedia.org/wiki/Python_(razdvojba)',\n",
       " 'https://io.wikipedia.org/wiki/Pitono',\n",
       " 'https://id.wikipedia.org/wiki/Python',\n",
       " 'https://ia.wikipedia.org/wiki/Python_(disambiguation)',\n",
       " 'https://is.wikipedia.org/wiki/Python_(a%C3%B0greining)',\n",
       " 'https://it.wikipedia.org/wiki/Python_(disambigua)',\n",
       " 'https://he.wikipedia.org/wiki/%D7%A4%D7%99%D7%AA%D7%95%D7%9F',\n",
       " 'https://ka.wikipedia.org/wiki/%E1%83%9E%E1%83%98%E1%83%97%E1%83%9D%E1%83%9C%E1%83%98_(%E1%83%9B%E1%83%A0%E1%83%90%E1%83%95%E1%83%90%E1%83%9A%E1%83%9B%E1%83%9C%E1%83%98%E1%83%A8%E1%83%95%E1%83%9C%E1%83%94%E1%83%9A%E1%83%9D%E1%83%95%E1%83%90%E1%83%9C%E1%83%98)',\n",
       " 'https://kg.wikipedia.org/wiki/Mboma_(nyoka)',\n",
       " 'https://la.wikipedia.org/wiki/Python_(discretiva)',\n",
       " 'https://lb.wikipedia.org/wiki/Python',\n",
       " 'https://hu.wikipedia.org/wiki/Python_(egy%C3%A9rtelm%C5%B1s%C3%ADt%C5%91_lap)',\n",
       " 'https://mr.wikipedia.org/wiki/%E0%A4%AA%E0%A4%BE%E0%A4%AF%E0%A4%A5%E0%A5%89%E0%A4%A8_(%E0%A4%86%E0%A4%9C%E0%A5%8D%E0%A4%9E%E0%A4%BE%E0%A4%B5%E0%A4%B2%E0%A5%80_%E0%A4%AD%E0%A4%BE%E0%A4%B7%E0%A4%BE)',\n",
       " 'https://nl.wikipedia.org/wiki/Python',\n",
       " 'https://ja.wikipedia.org/wiki/%E3%83%91%E3%82%A4%E3%82%BD%E3%83%B3',\n",
       " 'https://no.wikipedia.org/wiki/Pyton',\n",
       " 'https://pl.wikipedia.org/wiki/Pyton',\n",
       " 'https://pt.wikipedia.org/wiki/Python_(desambigua%C3%A7%C3%A3o)',\n",
       " 'https://ru.wikipedia.org/wiki/Python_(%D0%B7%D0%BD%D0%B0%D1%87%D0%B5%D0%BD%D0%B8%D1%8F)',\n",
       " 'https://sk.wikipedia.org/wiki/Python',\n",
       " 'https://sr.wikipedia.org/wiki/%D0%9F%D0%B8%D1%82%D0%BE%D0%BD_(%D0%B2%D0%B8%D1%88%D0%B5%D0%B7%D0%BD%D0%B0%D1%87%D0%BD%D0%B0_%D0%BE%D0%B4%D1%80%D0%B5%D0%B4%D0%BD%D0%B8%D1%86%D0%B0)',\n",
       " 'https://sh.wikipedia.org/wiki/Python',\n",
       " 'https://fi.wikipedia.org/wiki/Python',\n",
       " 'https://sv.wikipedia.org/wiki/Pyton',\n",
       " 'https://th.wikipedia.org/wiki/%E0%B9%84%E0%B8%9E%E0%B8%97%E0%B8%AD%E0%B8%99',\n",
       " 'https://tr.wikipedia.org/wiki/Python_(anlam_ayr%C4%B1m%C4%B1)',\n",
       " 'https://uk.wikipedia.org/wiki/%D0%9F%D1%96%D1%84%D0%BE%D0%BD',\n",
       " 'https://ur.wikipedia.org/wiki/%D9%BE%D8%A7%D8%A6%DB%8C%D8%AA%DA%BE%D9%88%D9%86',\n",
       " 'https://vi.wikipedia.org/wiki/Python',\n",
       " 'https://zh.wikipedia.org/wiki/Python_(%E6%B6%88%E6%AD%A7%E4%B9%89)',\n",
       " 'https://www.wikidata.org/wiki/Special:EntityPage/Q747452#sitelinks-wikipedia',\n",
       " '//en.wikipedia.org/wiki/Wikipedia:Text_of_Creative_Commons_Attribution-ShareAlike_3.0_Unported_License',\n",
       " '//foundation.wikimedia.org/wiki/Terms_of_Use',\n",
       " '//foundation.wikimedia.org/wiki/Privacy_policy',\n",
       " 'https://foundation.wikimedia.org/wiki/Privacy_policy',\n",
       " '/wiki/Wikipedia:About',\n",
       " '/wiki/Wikipedia:General_disclaimer',\n",
       " '//en.wikipedia.org/wiki/Wikipedia:Contact_us',\n",
       " 'https://foundation.wikimedia.org/wiki/Cookie_statement']"
      ]
     },
     "execution_count": 452,
     "metadata": {},
     "output_type": "execute_result"
    }
   ],
   "source": [
    "python=[]\n",
    "for a in sopa.find_all('a', href=True):\n",
    "    python.append(a['href'])\n",
    "\n",
    "py=[]\n",
    "for i in python:\n",
    "    if \"/wiki/\" in i:\n",
    "        py.append(i)\n",
    "py"
   ]
  },
  {
   "cell_type": "code",
   "execution_count": null,
   "metadata": {},
   "outputs": [],
   "source": []
  },
  {
   "cell_type": "code",
   "execution_count": null,
   "metadata": {},
   "outputs": [],
   "source": []
  },
  {
   "cell_type": "code",
   "execution_count": null,
   "metadata": {},
   "outputs": [],
   "source": []
  },
  {
   "cell_type": "code",
   "execution_count": null,
   "metadata": {},
   "outputs": [],
   "source": []
  },
  {
   "cell_type": "code",
   "execution_count": null,
   "metadata": {},
   "outputs": [],
   "source": []
  },
  {
   "cell_type": "markdown",
   "metadata": {},
   "source": [
    "#### Number of Titles that have changed in the United States Code since its last release point "
   ]
  },
  {
   "cell_type": "code",
   "execution_count": 349,
   "metadata": {},
   "outputs": [],
   "source": [
    "# This is the url you will scrape in this exercise\n",
    "url = 'http://uscode.house.gov/download/download.shtml'"
   ]
  },
  {
   "cell_type": "code",
   "execution_count": 388,
   "metadata": {
    "scrolled": true
   },
   "outputs": [
    {
     "data": {
      "text/plain": [
       "['Title 17 - Copyrights ',\n",
       " 'Title 22 - Foreign Relations and Intercourse',\n",
       " \"Title 38 - Veterans' Benefits \",\n",
       " 'Title 40 - Public Buildings, Property, and Works ',\n",
       " 'Title 41 - Public Contracts ',\n",
       " 'Title 42 - The Public Health and Welfare',\n",
       " 'Title 44 - Public Printing and Documents ',\n",
       " 'Title 49 - Transportation ',\n",
       " 'Title 54 - National Park Service and Related Programs ']"
      ]
     },
     "execution_count": 388,
     "metadata": {},
     "output_type": "execute_result"
    }
   ],
   "source": [
    "html=req.get(url).content\n",
    "\n",
    "sopa=bs(html, 'html.parser')\n",
    "\n",
    "titles=sopa.find_all('div', class_='usctitlechanged')\n",
    "\n",
    "titlesc=[]\n",
    "for i in titles:\n",
    "    titlesc.append(i.text.replace(\"\\n\",\"\").replace(\"  \",\"\").replace('٭\"',\"\").replace(\"٭\",\"\"))\n",
    "\n",
    "\n",
    "titlesc"
   ]
  },
  {
   "cell_type": "markdown",
   "metadata": {},
   "source": [
    "#### A Python list with the top ten FBI's Most Wanted names "
   ]
  },
  {
   "cell_type": "code",
   "execution_count": 389,
   "metadata": {},
   "outputs": [],
   "source": [
    "# This is the url you will scrape in this exercise\n",
    "url = 'https://www.fbi.gov/wanted/topten'"
   ]
  },
  {
   "cell_type": "code",
   "execution_count": 420,
   "metadata": {},
   "outputs": [
    {
     "data": {
      "text/plain": [
       "['OMAR ALEXANDER CARDENAS',\n",
       " 'ALEXIS FLORES',\n",
       " 'JOSE RODOLFO VILLARREAL-HERNANDEZ',\n",
       " 'YULAN ADONAY ARCHAGA CARIAS',\n",
       " 'BHADRESHKUMAR CHETANBHAI PATEL',\n",
       " 'ALEJANDRO ROSALES CASTILLO',\n",
       " 'MICHAEL JAMES PRATT',\n",
       " 'RUJA IGNATOVA',\n",
       " 'ARNOLDO JIMENEZ',\n",
       " 'RAFAEL CARO-QUINTERO']"
      ]
     },
     "execution_count": 420,
     "metadata": {},
     "output_type": "execute_result"
    }
   ],
   "source": [
    "html=req.get(url).content\n",
    "\n",
    "sopa=bs(html, 'html.parser')\n",
    "\n",
    "top=sopa.find_all('div', class_='mosaic-grid-cell mosaic-width-full mosaic-position-leftmost col-md-12')\n",
    "\n",
    "top10=top[1].find_all('a', href=True)\n",
    "\n",
    "mostw=[]\n",
    "for i in top10:\n",
    "    mostw.append(i.text.replace(\"\\n\",\"\"))\n",
    "\n",
    "mostwanted = list(filter(None, mostw))\n",
    "\n",
    "mostwanted"
   ]
  },
  {
   "cell_type": "markdown",
   "metadata": {},
   "source": [
    "####  20 latest earthquakes info (date, time, latitude, longitude and region name) by the EMSC as a pandas dataframe"
   ]
  },
  {
   "cell_type": "code",
   "execution_count": 694,
   "metadata": {},
   "outputs": [],
   "source": [
    "# This is the url you will scrape in this exercise\n",
    "url = 'https://www.emsc-csem.org/Earthquake/'"
   ]
  },
  {
   "cell_type": "code",
   "execution_count": 707,
   "metadata": {},
   "outputs": [
    {
     "data": {
      "text/plain": [
       "<tbody id=\"tbody\"><tr class=\"ligne1 normal\" id=\"1186884\" onclick=\"go_details(event,1186884);\"><td class=\"tabev0\"></td><td class=\"tabev0\"></td><td class=\"tabev0\"></td><td class=\"tabev6\"><b><i style=\"display:none;\">earthquake</i><a href=\"/Earthquake/earthquake.php?id=1186884\">2022-11-08   17:38:35.1</a></b><i class=\"ago\" id=\"ago0\">25min ago</i></td><td class=\"tabev1\">17.98 </td><td class=\"tabev2\">N  </td><td class=\"tabev1\">66.85 </td><td class=\"tabev2\">W  </td><td class=\"tabev3\">16</td><td class=\"tabev5\" id=\"magtyp0\">Md</td><td class=\"tabev2\">2.3</td><td class=\"tb_region\" id=\"reg0\"> PUERTO RICO</td><td class=\"comment updatetimeno\" id=\"upd0\" style=\"text-align:right;\">2022-11-08 17:49</td></tr>\n",
       "<tr class=\"ligne2 normal\" id=\"1186883\" onclick=\"go_details(event,1186883);\"><td class=\"tabev0\"></td><td class=\"tabev0\"></td><td class=\"tabev0\"></td><td class=\"tabev6\"><b><i style=\"display:none;\">earthquake</i><a href=\"/Earthquake/earthquake.php?id=1186883\">2022-11-08   17:38:30.0</a></b><i class=\"ago\" id=\"ago1\">25min ago</i></td><td class=\"tabev1\">24.80 </td><td class=\"tabev2\">N  </td><td class=\"tabev1\">125.40 </td><td class=\"tabev2\">E  </td><td class=\"tabev3\">50</td><td class=\"tabev5\" id=\"magtyp1\"> M</td><td class=\"tabev2\">3.9</td><td class=\"tb_region\" id=\"reg1\"> SOUTHWESTERN RYUKYU ISL., JAPAN</td><td class=\"comment updatetimeno\" id=\"upd1\" style=\"text-align:right;\">2022-11-08 17:45</td></tr>\n",
       "<tr class=\"ligne1 normal\" id=\"1186881\" onclick=\"go_details(event,1186881);\"><td class=\"tabev0\"></td><td class=\"tabev0\"></td><td class=\"tabev0\"></td><td class=\"tabev6\"><b><i style=\"display:none;\">earthquake</i><a href=\"/Earthquake/earthquake.php?id=1186881\">2022-11-08   17:35:07.5</a></b><i class=\"ago\" id=\"ago2\">29min ago</i></td><td class=\"tabev1\">40.29 </td><td class=\"tabev2\">N  </td><td class=\"tabev1\">124.40 </td><td class=\"tabev2\">W  </td><td class=\"tabev3\">7</td><td class=\"tabev5\" id=\"magtyp2\">Md</td><td class=\"tabev2\">2.6</td><td class=\"tb_region\" id=\"reg2\"> OFFSHORE NORTHERN CALIFORNIA</td><td class=\"comment updatetimeno\" id=\"upd2\" style=\"text-align:right;\">2022-11-08 17:36</td></tr>\n",
       "<tr class=\"ligne2 normal\" id=\"1186879\" onclick=\"go_details(event,1186879);\"><td class=\"tabev0\"></td><td class=\"tabev0\"></td><td class=\"tabev0\"></td><td class=\"tabev6\"><b><i style=\"display:none;\">earthquake</i><a href=\"/Earthquake/earthquake.php?id=1186879\">2022-11-08   17:20:34.0</a></b><i class=\"ago\" id=\"ago3\">43min ago</i></td><td class=\"tabev1\">0.28 </td><td class=\"tabev2\">S  </td><td class=\"tabev1\">129.67 </td><td class=\"tabev2\">E  </td><td class=\"tabev3\">10</td><td class=\"tabev5\" id=\"magtyp3\"> M</td><td class=\"tabev2\">4.4</td><td class=\"tb_region\" id=\"reg3\"> HALMAHERA, INDONESIA</td><td class=\"comment updatetimeno\" id=\"upd3\" style=\"text-align:right;\">2022-11-08 17:25</td></tr>\n",
       "<tr class=\"ligne1 normal\" id=\"1186877\" onclick=\"go_details(event,1186877);\"><td class=\"tabev0\"></td><td class=\"tabev0\"></td><td class=\"tabev0\"></td><td class=\"tabev6\"><b><i style=\"display:none;\">earthquake</i><a href=\"/Earthquake/earthquake.php?id=1186877\">2022-11-08   17:01:11.0</a></b><i class=\"ago\" id=\"ago4\">1hr 02min ago</i></td><td class=\"tabev1\">22.85 </td><td class=\"tabev2\">S  </td><td class=\"tabev1\">22.79 </td><td class=\"tabev2\">E  </td><td class=\"tabev3\">10</td><td class=\"tabev5\" id=\"magtyp4\"> M</td><td class=\"tabev2\">3.3</td><td class=\"tb_region\" id=\"reg4\"> BOTSWANA</td><td class=\"comment updatetimeno\" id=\"upd4\" style=\"text-align:right;\">2022-11-08 17:10</td></tr>\n",
       "<tr class=\"ligne2 normal\" id=\"1186878\" onclick=\"go_details(event,1186878);\"><td class=\"tabev0\"></td><td class=\"tabev0\"></td><td class=\"tabev0\"></td><td class=\"tabev6\"><b><i style=\"display:none;\">earthquake</i><a href=\"/Earthquake/earthquake.php?id=1186878\">2022-11-08   16:56:25.0</a></b><i class=\"ago\" id=\"ago5\">1hr 07min ago</i></td><td class=\"tabev1\">14.68 </td><td class=\"tabev2\">N  </td><td class=\"tabev1\">123.80 </td><td class=\"tabev2\">E  </td><td class=\"tabev3\">36</td><td class=\"tabev5\" id=\"magtyp5\"> M</td><td class=\"tabev2\">3.1</td><td class=\"tb_region\" id=\"reg5\"> LUZON, PHILIPPINES</td><td class=\"comment updatetimeno\" id=\"upd5\" style=\"text-align:right;\">2022-11-08 17:15</td></tr>\n",
       "<tr class=\"ligne1 normal\" id=\"1186873\" onclick=\"go_details(event,1186873);\"><td class=\"tabev0\" style=\"text-align:center;\"><a href=\"https://www.emsc-csem.org/Earthquake/Testimonies/comments.php?id=1186873\" onmouseout=\"info_b2('notshow','');\" onmouseover=\"info_b2('show','See the &lt;b&gt;testimony&lt;/b&gt; for this earthquake');\"><span class=\"\" style=\"vertical-align:middle;\">1</span></a></td><td class=\"tabev0\"></td><td class=\"tabev0\"><span class=\"intensity\" onclick=\"go_details(event,null,'https://www.emsc-csem.org/Earthquake/popup_intensmap.php?id=1186873&amp;f=/FELTREPORTS/118/1186873/IntensityMap.png');\" onmouseout=\"info_b2('notshow','');\" onmouseover=\"info_b2('show','See the &lt;b&gt; Intensity map&lt;/b&gt;');\" style=\"background-color:#FFFFFF;\">F</span></td><td class=\"tabev6\"><b><i style=\"display:none;\">earthquake</i><a href=\"/Earthquake/earthquake.php?id=1186873\">2022-11-08   16:45:48.9</a></b><i class=\"ago\" id=\"ago6\">1hr 18min ago</i></td><td class=\"tabev1\">37.76 </td><td class=\"tabev2\">N  </td><td class=\"tabev1\">21.39 </td><td class=\"tabev2\">E  </td><td class=\"tabev3\">26</td><td class=\"tabev5\" id=\"magtyp6\">ML</td><td class=\"tabev2\">2.9</td><td class=\"tb_region\" id=\"reg6\"> SOUTHERN GREECE</td><td class=\"comment updatetimeno\" id=\"upd6\" style=\"text-align:right;\">2022-11-08 17:08</td></tr>\n",
       "<tr class=\"ligne2 normal\" id=\"1186872\" onclick=\"go_details(event,1186872);\"><td class=\"tabev0\"></td><td class=\"tabev0\"></td><td class=\"tabev0\"></td><td class=\"tabev6\"><b><i style=\"display:none;\">earthquake</i><a href=\"/Earthquake/earthquake.php?id=1186872\">2022-11-08   16:40:58.1</a></b><i class=\"ago\" id=\"ago7\">1hr 23min ago</i></td><td class=\"tabev1\">19.45 </td><td class=\"tabev2\">N  </td><td class=\"tabev1\">155.61 </td><td class=\"tabev2\">W  </td><td class=\"tabev3\">0</td><td class=\"tabev5\" id=\"magtyp7\">Ml</td><td class=\"tabev2\">2.1</td><td class=\"tb_region\" id=\"reg7\"> ISLAND OF HAWAII, HAWAII</td><td class=\"comment updatetimeno\" id=\"upd7\" style=\"text-align:right;\">2022-11-08 16:46</td></tr>\n",
       "<tr class=\"ligne1 normal\" id=\"1186874\" onclick=\"go_details(event,1186874);\"><td class=\"tabev0\"></td><td class=\"tabev0\"></td><td class=\"tabev0\"></td><td class=\"tabev6\"><b><i style=\"display:none;\">earthquake</i><a href=\"/Earthquake/earthquake.php?id=1186874\">2022-11-08   16:40:43.0</a></b><i class=\"ago\" id=\"ago8\">1hr 23min ago</i></td><td class=\"tabev1\">32.96 </td><td class=\"tabev2\">S  </td><td class=\"tabev1\">70.28 </td><td class=\"tabev2\">W  </td><td class=\"tabev3\">116</td><td class=\"tabev5\" id=\"magtyp8\"> M</td><td class=\"tabev2\">2.8</td><td class=\"tb_region\" id=\"reg8\"> VALPARAISO, CHILE</td><td class=\"comment updatetimeno\" id=\"upd8\" style=\"text-align:right;\">2022-11-08 17:01</td></tr>\n",
       "<tr class=\"ligne2 normal\" id=\"1186871\" onclick=\"go_details(event,1186871);\"><td class=\"tabev0\"></td><td class=\"tabev0\"></td><td class=\"tabev0\"></td><td class=\"tabev6\"><b><i style=\"display:none;\">earthquake</i><a href=\"/Earthquake/earthquake.php?id=1186871\">2022-11-08   16:35:24.9</a></b><i class=\"ago\" id=\"ago9\">1hr 28min ago</i></td><td class=\"tabev1\">39.61 </td><td class=\"tabev2\">N  </td><td class=\"tabev1\">120.41 </td><td class=\"tabev2\">W  </td><td class=\"tabev3\">10</td><td class=\"tabev5\" id=\"magtyp9\">ML</td><td class=\"tabev2\">2.4</td><td class=\"tb_region\" id=\"reg9\"> NORTHERN CALIFORNIA</td><td class=\"comment updatetimeno\" id=\"upd9\" style=\"text-align:right;\">2022-11-08 17:17</td></tr>\n",
       "<tr class=\"ligne1 normal\" id=\"1186868\" onclick=\"go_details(event,1186868);\"><td class=\"tabev0\"></td><td class=\"tabev0\"></td><td class=\"tabev0\"></td><td class=\"tabev6\"><b><i style=\"display:none;\">earthquake</i><a href=\"/Earthquake/earthquake.php?id=1186868\">2022-11-08   16:19:42.3</a></b><i class=\"ago\" id=\"ago10\">1hr 44min ago</i></td><td class=\"tabev1\">36.00 </td><td class=\"tabev2\">N  </td><td class=\"tabev1\">118.38 </td><td class=\"tabev2\">W  </td><td class=\"tabev3\">0</td><td class=\"tabev5\" id=\"magtyp10\">Ml</td><td class=\"tabev2\">2.2</td><td class=\"tb_region\" id=\"reg10\"> CENTRAL CALIFORNIA</td><td class=\"comment updatetimeno\" id=\"upd10\" style=\"text-align:right;\">2022-11-08 16:23</td></tr>\n",
       "<tr class=\"ligne2 normal\" id=\"1186870\" onclick=\"go_details(event,1186870);\"><td class=\"tabev0\"></td><td class=\"tabev0\"></td><td class=\"tabev0\"></td><td class=\"tabev6\"><b><i style=\"display:none;\">earthquake</i><a href=\"/Earthquake/earthquake.php?id=1186870\">2022-11-08   16:11:35.0</a></b><i class=\"ago\" id=\"ago11\">1hr 52min ago</i></td><td class=\"tabev1\">29.62 </td><td class=\"tabev2\">N  </td><td class=\"tabev1\">80.54 </td><td class=\"tabev2\">E  </td><td class=\"tabev3\">5</td><td class=\"tabev5\" id=\"magtyp11\"> M</td><td class=\"tabev2\">3.5</td><td class=\"tb_region\" id=\"reg11\"> NEPAL-INDIA BORDER REGION</td><td class=\"comment updatetimeno\" id=\"upd11\" style=\"text-align:right;\">2022-11-08 16:35</td></tr>\n",
       "<tr class=\"ligne1 normal\" id=\"1186867\" onclick=\"go_details(event,1186867);\"><td class=\"tabev0\"></td><td class=\"tabev0\"></td><td class=\"tabev0\"></td><td class=\"tabev6\"><b><i style=\"display:none;\">earthquake</i><a href=\"/Earthquake/earthquake.php?id=1186867\">2022-11-08   16:04:03.7</a></b><i class=\"ago\" id=\"ago12\">2hr 00min ago</i></td><td class=\"tabev1\">28.61 </td><td class=\"tabev2\">N  </td><td class=\"tabev1\">17.88 </td><td class=\"tabev2\">W  </td><td class=\"tabev3\">2</td><td class=\"tabev5\" id=\"magtyp12\">ML</td><td class=\"tabev2\">1.6</td><td class=\"tb_region\" id=\"reg12\"> CANARY ISLANDS, SPAIN REGION</td><td class=\"comment updatetimeno\" id=\"upd12\" style=\"text-align:right;\">2022-11-08 16:17</td></tr>\n",
       "<tr class=\"ligne2 normal\" id=\"1186865\" onclick=\"go_details(event,1186865);\"><td class=\"tabev0\"></td><td class=\"tabev0\"></td><td class=\"tabev0\"></td><td class=\"tabev6\"><b><i style=\"display:none;\">earthquake</i><a href=\"/Earthquake/earthquake.php?id=1186865\">2022-11-08   16:00:22.0</a></b><i class=\"ago\" id=\"ago13\">2hr 03min ago</i></td><td class=\"tabev1\">9.49 </td><td class=\"tabev2\">N  </td><td class=\"tabev1\">79.59 </td><td class=\"tabev2\">W  </td><td class=\"tabev3\">30</td><td class=\"tabev5\" id=\"magtyp13\"> M</td><td class=\"tabev2\">3.5</td><td class=\"tb_region\" id=\"reg13\"> PANAMA</td><td class=\"comment updatetimeno\" id=\"upd13\" style=\"text-align:right;\">2022-11-08 16:05</td></tr>\n",
       "<tr class=\"ligne1 normal\" id=\"1186866\" onclick=\"go_details(event,1186866);\"><td class=\"tabev0\"></td><td class=\"tabev0\"></td><td class=\"tabev0\"></td><td class=\"tabev6\"><b><i style=\"display:none;\">earthquake</i><a href=\"/Earthquake/earthquake.php?id=1186866\">2022-11-08   15:49:16.0</a></b><i class=\"ago\" id=\"ago14\">2hr 14min ago</i></td><td class=\"tabev1\">18.03 </td><td class=\"tabev2\">N  </td><td class=\"tabev1\">66.86 </td><td class=\"tabev2\">W  </td><td class=\"tabev3\">18</td><td class=\"tabev5\" id=\"magtyp14\">Md</td><td class=\"tabev2\">2.1</td><td class=\"tb_region\" id=\"reg14\"> PUERTO RICO</td><td class=\"comment updatetimeno\" id=\"upd14\" style=\"text-align:right;\">2022-11-08 16:12</td></tr>\n",
       "<tr class=\"ligne2 normal\" id=\"1186862\" onclick=\"go_details(event,1186862);\"><td class=\"tabev0\"></td><td class=\"tabev0\"></td><td class=\"tabev0\"></td><td class=\"tabev6\"><b><i style=\"display:none;\">earthquake</i><a href=\"/Earthquake/earthquake.php?id=1186862\">2022-11-08   15:38:00.0</a></b><i class=\"ago\" id=\"ago15\">2hr 26min ago</i></td><td class=\"tabev1\">46.06 </td><td class=\"tabev2\">N  </td><td class=\"tabev1\">14.05 </td><td class=\"tabev2\">E  </td><td class=\"tabev3\">8</td><td class=\"tabev5\" id=\"magtyp15\">ML</td><td class=\"tabev2\">1.5</td><td class=\"tb_region\" id=\"reg15\"> SLOVENIA</td><td class=\"comment updatetimeno\" id=\"upd15\" style=\"text-align:right;\">2022-11-08 15:40</td></tr>\n",
       "<tr class=\"ligne1 normal\" id=\"1186861\" onclick=\"go_details(event,1186861);\"><td class=\"tabev0\"></td><td class=\"tabev0\"></td><td class=\"tabev0\"></td><td class=\"tabev6\"><b><i style=\"display:none;\">earthquake</i><a href=\"/Earthquake/earthquake.php?id=1186861\">2022-11-08   15:32:57.6</a></b><i class=\"ago\" id=\"ago16\">2hr 31min ago</i></td><td class=\"tabev1\">46.97 </td><td class=\"tabev2\">N  </td><td class=\"tabev1\">9.77 </td><td class=\"tabev2\">E  </td><td class=\"tabev3\">10</td><td class=\"tabev5\" id=\"magtyp16\">ML</td><td class=\"tabev2\">2.0</td><td class=\"tb_region\" id=\"reg16\"> SWITZERLAND</td><td class=\"comment updatetimeno\" id=\"upd16\" style=\"text-align:right;\">2022-11-08 15:39</td></tr>\n",
       "<tr class=\"ligne2 normal\" id=\"1186860\" onclick=\"go_details(event,1186860);\"><td class=\"tabev0\"></td><td class=\"tabev0\"></td><td class=\"tabev0\"></td><td class=\"tabev6\"><b><i style=\"display:none;\">earthquake</i><a href=\"/Earthquake/earthquake.php?id=1186860\">2022-11-08   15:27:12.0</a></b><i class=\"ago\" id=\"ago17\">2hr 36min ago</i></td><td class=\"tabev1\">24.10 </td><td class=\"tabev2\">S  </td><td class=\"tabev1\">67.30 </td><td class=\"tabev2\">W  </td><td class=\"tabev3\">177</td><td class=\"tabev5\" id=\"magtyp17\"> M</td><td class=\"tabev2\">3.2</td><td class=\"tb_region\" id=\"reg17\"> SALTA, ARGENTINA</td><td class=\"comment updatetimeno\" id=\"upd17\" style=\"text-align:right;\">2022-11-08 15:35</td></tr>\n",
       "<tr class=\"ligne1 normal\" id=\"1186854\" onclick=\"go_details(event,1186854);\"><td class=\"tabev0\"></td><td class=\"tabev0\"></td><td class=\"tabev0\"></td><td class=\"tabev6\"><b><i style=\"display:none;\">earthquake</i><a href=\"/Earthquake/earthquake.php?id=1186854\">2022-11-08   15:26:07.0</a></b><i class=\"ago\" id=\"ago18\">2hr 38min ago</i></td><td class=\"tabev1\">39.50 </td><td class=\"tabev2\">N  </td><td class=\"tabev1\">123.16 </td><td class=\"tabev2\">W  </td><td class=\"tabev3\">2</td><td class=\"tabev5\" id=\"magtyp18\">ML</td><td class=\"tabev2\">2.6</td><td class=\"tb_region\" id=\"reg18\"> NORTHERN CALIFORNIA</td><td class=\"comment updatetimeno\" id=\"upd18\" style=\"text-align:right;\">2022-11-08 16:05</td></tr>\n",
       "<tr class=\"ligne2 normal\" id=\"1186858\" onclick=\"go_details(event,1186858);\"><td class=\"tabev0\"></td><td class=\"tabev0\"></td><td class=\"tabev0\"></td><td class=\"tabev6\"><b><i style=\"display:none;\">earthquake</i><a href=\"/Earthquake/earthquake.php?id=1186858\">2022-11-08   15:23:24.2</a></b><i class=\"ago\" id=\"ago19\">2hr 40min ago</i></td><td class=\"tabev1\">43.62 </td><td class=\"tabev2\">N  </td><td class=\"tabev1\">9.01 </td><td class=\"tabev2\">E  </td><td class=\"tabev3\">20</td><td class=\"tabev5\" id=\"magtyp19\">ML</td><td class=\"tabev2\">3.9</td><td class=\"tb_region\" id=\"reg19\"> LIGURIAN SEA</td><td class=\"comment updatetimeno\" id=\"upd19\" style=\"text-align:right;\">2022-11-08 15:45</td></tr>\n",
       "<tr class=\"ligne1 normal\" id=\"1186852\" onclick=\"go_details(event,1186852);\"><td class=\"tabev0\" style=\"text-align:center;\"><a href=\"https://www.emsc-csem.org/Earthquake/Testimonies/comments.php?id=1186852\" onmouseout=\"info_b2('notshow','');\" onmouseover=\"info_b2('show','See the &lt;b&gt;3 testimonies&lt;/b&gt; for this earthquake');\"><span class=\"\" style=\"vertical-align:middle;\">3</span></a></td><td class=\"tabev0\"></td><td class=\"tabev0\"><span class=\"intensity\" onclick=\"go_details(event,null,'https://www.emsc-csem.org/Earthquake/popup_intensmap.php?id=1186852&amp;f=/FELTREPORTS/118/1186852/IntensityMap.png');\" onmouseout=\"info_b2('notshow','');\" onmouseover=\"info_b2('show','See the &lt;b&gt; Intensity map&lt;/b&gt;');\" style=\"background-color:#00FFFF;\">IV</span></td><td class=\"tabev6\"><b><i style=\"display:none;\">earthquake</i><a href=\"/Earthquake/earthquake.php?id=1186852\">2022-11-08   15:22:36.9</a></b><i class=\"ago\" id=\"ago20\">2hr 41min ago</i></td><td class=\"tabev1\">29.33 </td><td class=\"tabev2\">N  </td><td class=\"tabev1\">81.17 </td><td class=\"tabev2\">E  </td><td class=\"tabev3\">10</td><td class=\"tabev5\" id=\"magtyp20\">mb</td><td class=\"tabev2\">4.8</td><td class=\"tb_region\" id=\"reg20\"> NEPAL</td><td class=\"comment updatetimeno\" id=\"upd20\" style=\"text-align:right;\">2022-11-08 15:54</td></tr>\n",
       "<tr class=\"ligne2 normal\" id=\"1186859\" onclick=\"go_details(event,1186859);\"><td class=\"tabev0\"></td><td class=\"tabev0\"></td><td class=\"tabev0\"></td><td class=\"tabev6\"><b><i style=\"display:none;\">earthquake</i><a href=\"/Earthquake/earthquake.php?id=1186859\">2022-11-08   15:17:23.9</a></b><i class=\"ago\" id=\"ago21\">2hr 46min ago</i></td><td class=\"tabev1\">18.01 </td><td class=\"tabev2\">N  </td><td class=\"tabev1\">66.87 </td><td class=\"tabev2\">W  </td><td class=\"tabev3\">14</td><td class=\"tabev5\" id=\"magtyp21\">Md</td><td class=\"tabev2\">2.0</td><td class=\"tb_region\" id=\"reg21\"> PUERTO RICO</td><td class=\"comment updatetimeno\" id=\"upd21\" style=\"text-align:right;\">2022-11-08 15:31</td></tr>\n",
       "<tr class=\"ligne1 normal\" id=\"1186849\" onclick=\"go_details(event,1186849);\"><td class=\"tabev0\"></td><td class=\"tabev0\"></td><td class=\"tabev0\"><span class=\"intensity\" onclick=\"go_details(event,null,'https://www.emsc-csem.org/Earthquake/popup_intensmap.php?id=1186849&amp;f=/FELTREPORTS/118/1186849/IntensityMap.png');\" onmouseout=\"info_b2('notshow','');\" onmouseover=\"info_b2('show','See the &lt;b&gt; Intensity map&lt;/b&gt;');\" style=\"background-color:#FFFFFF;\">F</span></td><td class=\"tabev6\"><b><i style=\"display:none;\">earthquake</i><a href=\"/Earthquake/earthquake.php?id=1186849\">2022-11-08   15:08:26.8</a></b><i class=\"ago\" id=\"ago22\">2hr 55min ago</i></td><td class=\"tabev1\">19.55 </td><td class=\"tabev2\">N  </td><td class=\"tabev1\">156.10 </td><td class=\"tabev2\">W  </td><td class=\"tabev3\">19</td><td class=\"tabev5\" id=\"magtyp22\">ML</td><td class=\"tabev2\">2.9</td><td class=\"tb_region\" id=\"reg22\"> HAWAII REGION, HAWAII</td><td class=\"comment updatetimeno\" id=\"upd22\" style=\"text-align:right;\">2022-11-08 15:16</td></tr>\n",
       "<tr class=\"ligne2 normal\" id=\"1186845\" onclick=\"go_details(event,1186845);\"><td class=\"tabev0\"></td><td class=\"tabev0\"></td><td class=\"tabev0\"></td><td class=\"tabev6\"><b><i style=\"display:none;\">earthquake</i><a href=\"/Earthquake/earthquake.php?id=1186845\">2022-11-08   14:50:48.0</a></b><i class=\"ago\" id=\"ago23\">3hr 13min ago</i></td><td class=\"tabev1\">2.83 </td><td class=\"tabev2\">S  </td><td class=\"tabev1\">129.77 </td><td class=\"tabev2\">E  </td><td class=\"tabev3\">10</td><td class=\"tabev5\" id=\"magtyp23\"> M</td><td class=\"tabev2\">3.0</td><td class=\"tb_region\" id=\"reg23\"> SERAM, INDONESIA</td><td class=\"comment updatetimeno\" id=\"upd23\" style=\"text-align:right;\">2022-11-08 14:55</td></tr>\n",
       "<tr class=\"ligne1 normal\" id=\"1186848\" onclick=\"go_details(event,1186848);\"><td class=\"tabev0\"></td><td class=\"tabev0\"></td><td class=\"tabev0\"></td><td class=\"tabev6\"><b><i style=\"display:none;\">earthquake</i><a href=\"/Earthquake/earthquake.php?id=1186848\">2022-11-08   14:49:11.0</a></b><i class=\"ago\" id=\"ago24\">3hr 14min ago</i></td><td class=\"tabev1\">22.26 </td><td class=\"tabev2\">S  </td><td class=\"tabev1\">68.73 </td><td class=\"tabev2\">W  </td><td class=\"tabev3\">119</td><td class=\"tabev5\" id=\"magtyp24\"> M</td><td class=\"tabev2\">2.6</td><td class=\"tb_region\" id=\"reg24\"> ANTOFAGASTA, CHILE</td><td class=\"comment updatetimeno\" id=\"upd24\" style=\"text-align:right;\">2022-11-08 14:57</td></tr>\n",
       "<tr class=\"ligne2 normal\" id=\"1186844\" onclick=\"go_details(event,1186844);\"><td class=\"tabev0\"></td><td class=\"tabev0\"></td><td class=\"tabev0\"></td><td class=\"tabev6\"><b><i style=\"display:none;\">earthquake</i><a href=\"/Earthquake/earthquake.php?id=1186844\">2022-11-08   14:43:44.8</a></b><i class=\"ago\" id=\"ago25\">3hr 20min ago</i></td><td class=\"tabev1\">39.16 </td><td class=\"tabev2\">N  </td><td class=\"tabev1\">0.30 </td><td class=\"tabev2\">E  </td><td class=\"tabev3\">16</td><td class=\"tabev5\" id=\"magtyp25\">ML</td><td class=\"tabev2\">2.0</td><td class=\"tb_region\" id=\"reg25\"> SPAIN</td><td class=\"comment updatetimeno\" id=\"upd25\" style=\"text-align:right;\">2022-11-08 14:53</td></tr>\n",
       "<tr class=\"ligne1 normal\" id=\"1186847\" onclick=\"go_details(event,1186847);\"><td class=\"tabev0\"></td><td class=\"tabev0\"></td><td class=\"tabev0\"></td><td class=\"tabev6\"><b><i style=\"display:none;\">earthquake</i><a href=\"/Earthquake/earthquake.php?id=1186847\">2022-11-08   14:38:45.6</a></b><i class=\"ago\" id=\"ago26\">3hr 25min ago</i></td><td class=\"tabev1\">52.39 </td><td class=\"tabev2\">N  </td><td class=\"tabev1\">179.41 </td><td class=\"tabev2\">W  </td><td class=\"tabev3\">205</td><td class=\"tabev5\" id=\"magtyp26\">mb</td><td class=\"tabev2\">4.6</td><td class=\"tb_region\" id=\"reg26\"> ANDREANOF ISLANDS, ALEUTIAN IS.</td><td class=\"comment updatetimeno\" id=\"upd26\" style=\"text-align:right;\">2022-11-08 15:22</td></tr>\n",
       "<tr class=\"ligne2 normal\" id=\"1186841\" onclick=\"go_details(event,1186841);\"><td class=\"tabev0\"></td><td class=\"tabev0\"></td><td class=\"tabev0\"><span class=\"intensity\" onclick=\"go_details(event,null,'https://www.emsc-csem.org/Earthquake/popup_intensmap.php?id=1186841&amp;f=/FELTREPORTS/118/1186841/IntensityMap.png');\" onmouseout=\"info_b2('notshow','');\" onmouseover=\"info_b2('show','See the &lt;b&gt; Intensity map&lt;/b&gt;');\" style=\"background-color:#FFFFFF;\">F</span></td><td class=\"tabev6\"><b><i style=\"display:none;\">earthquake</i><a href=\"/Earthquake/earthquake.php?id=1186841\">2022-11-08   14:30:01.8</a></b><i class=\"ago\" id=\"ago27\">3hr 34min ago</i></td><td class=\"tabev1\">15.38 </td><td class=\"tabev2\">N  </td><td class=\"tabev1\">120.85 </td><td class=\"tabev2\">E  </td><td class=\"tabev3\">175</td><td class=\"tabev5\" id=\"magtyp27\">Mw</td><td class=\"tabev2\">5.4</td><td class=\"tb_region\" id=\"reg27\"> LUZON, PHILIPPINES</td><td class=\"comment updatetimeno\" id=\"upd27\" style=\"text-align:right;\">2022-11-08 15:19</td></tr>\n",
       "<tr class=\"ligne1 normal\" id=\"1186842\" onclick=\"go_details(event,1186842);\"><td class=\"tabev0\"></td><td class=\"tabev0\"></td><td class=\"tabev0\"></td><td class=\"tabev6\"><b><i style=\"display:none;\">earthquake</i><a href=\"/Earthquake/earthquake.php?id=1186842\">2022-11-08   14:26:07.0</a></b><i class=\"ago\" id=\"ago28\">3hr 38min ago</i></td><td class=\"tabev1\">35.80 </td><td class=\"tabev2\">S  </td><td class=\"tabev1\">73.28 </td><td class=\"tabev2\">W  </td><td class=\"tabev3\">26</td><td class=\"tabev5\" id=\"magtyp28\"> M</td><td class=\"tabev2\">2.9</td><td class=\"tb_region\" id=\"reg28\"> OFFSHORE MAULE, CHILE</td><td class=\"comment updatetimeno\" id=\"upd28\" style=\"text-align:right;\">2022-11-08 14:37</td></tr>\n",
       "<tr class=\"ligne2 normal\" id=\"1186846\" onclick=\"go_details(event,1186846);\"><td class=\"tabev0\"></td><td class=\"tabev0\"></td><td class=\"tabev0\"></td><td class=\"tabev6\"><b><i style=\"display:none;\">earthquake</i><a href=\"/Earthquake/earthquake.php?id=1186846\">2022-11-08   14:24:30.0</a></b><i class=\"ago\" id=\"ago29\">3hr 39min ago</i></td><td class=\"tabev1\">8.95 </td><td class=\"tabev2\">N  </td><td class=\"tabev1\">84.19 </td><td class=\"tabev2\">W  </td><td class=\"tabev3\">5</td><td class=\"tabev5\" id=\"magtyp29\"> M</td><td class=\"tabev2\">3.3</td><td class=\"tb_region\" id=\"reg29\"> OFF COAST OF COSTA RICA</td><td class=\"comment updatetimeno\" id=\"upd29\" style=\"text-align:right;\">2022-11-08 14:55</td></tr>\n",
       "<tr class=\"ligne1 normal\" id=\"1186838\" onclick=\"go_details(event,1186838);\"><td class=\"tabev0\"></td><td class=\"tabev0\"></td><td class=\"tabev0\"></td><td class=\"tabev6\"><b><i style=\"display:none;\">earthquake</i><a href=\"/Earthquake/earthquake.php?id=1186838\">2022-11-08   14:20:38.0</a></b><i class=\"ago\" id=\"ago30\">3hr 43min ago</i></td><td class=\"tabev1\">2.97 </td><td class=\"tabev2\">S  </td><td class=\"tabev1\">122.17 </td><td class=\"tabev2\">E  </td><td class=\"tabev3\">10</td><td class=\"tabev5\" id=\"magtyp30\"> M</td><td class=\"tabev2\">2.5</td><td class=\"tb_region\" id=\"reg30\"> SULAWESI, INDONESIA</td><td class=\"comment updatetimeno\" id=\"upd30\" style=\"text-align:right;\">2022-11-08 14:25</td></tr>\n",
       "<tr class=\"ligne2 normal\" id=\"1186817\" onclick=\"go_details(event,1186817);\"><td class=\"tabev0\"></td><td class=\"tabev0\"></td><td class=\"tabev0\"></td><td class=\"tabev6\"><b><i style=\"display:none;\">earthquake</i><a href=\"/Earthquake/earthquake.php?id=1186817\">2022-11-08   13:42:31.2</a></b><i class=\"ago\" id=\"ago31\">4hr 21min ago</i></td><td class=\"tabev1\">40.16 </td><td class=\"tabev2\">N  </td><td class=\"tabev1\">119.14 </td><td class=\"tabev2\">W  </td><td class=\"tabev3\">5</td><td class=\"tabev5\" id=\"magtyp31\">ML</td><td class=\"tabev2\">2.3</td><td class=\"tb_region\" id=\"reg31\"> NEVADA</td><td class=\"comment updatetimeno\" id=\"upd31\" style=\"text-align:right;\">2022-11-08 16:48</td></tr>\n",
       "<tr class=\"ligne1 normal\" id=\"1186813\" onclick=\"go_details(event,1186813);\"><td class=\"tabev0\"></td><td class=\"tabev0\"></td><td class=\"tabev0\"></td><td class=\"tabev6\"><b><i style=\"display:none;\">earthquake</i><a href=\"/Earthquake/earthquake.php?id=1186813\">2022-11-08   13:09:18.0</a></b><i class=\"ago\" id=\"ago32\">4hr 54min ago</i></td><td class=\"tabev1\">34.76 </td><td class=\"tabev2\">S  </td><td class=\"tabev1\">72.12 </td><td class=\"tabev2\">W  </td><td class=\"tabev3\">39</td><td class=\"tabev5\" id=\"magtyp32\"> M</td><td class=\"tabev2\">3.0</td><td class=\"tb_region\" id=\"reg32\"> OFFSHORE MAULE, CHILE</td><td class=\"comment updatetimeno\" id=\"upd32\" style=\"text-align:right;\">2022-11-08 13:28</td></tr>\n",
       "<tr class=\"ligne2 normal\" id=\"1186811\" onclick=\"go_details(event,1186811);\"><td class=\"tabev0\"></td><td class=\"tabev0\"></td><td class=\"tabev0\"></td><td class=\"tabev6\"><b><i style=\"display:none;\">earthquake</i><a href=\"/Earthquake/earthquake.php?id=1186811\">2022-11-08   13:05:57.0</a></b><i class=\"ago\" id=\"ago33\">4hr 58min ago</i></td><td class=\"tabev1\">31.05 </td><td class=\"tabev2\">S  </td><td class=\"tabev1\">71.36 </td><td class=\"tabev2\">W  </td><td class=\"tabev3\">24</td><td class=\"tabev5\" id=\"magtyp33\"> M</td><td class=\"tabev2\">3.1</td><td class=\"tb_region\" id=\"reg33\"> COQUIMBO, CHILE</td><td class=\"comment updatetimeno\" id=\"upd33\" style=\"text-align:right;\">2022-11-08 13:19</td></tr>\n",
       "<tr class=\"ligne1 normal\" id=\"1186810\" onclick=\"go_details(event,1186810);\"><td class=\"tabev0\"></td><td class=\"tabev0\"></td><td class=\"tabev0\"></td><td class=\"tabev6\"><b><i style=\"display:none;\">earthquake</i><a href=\"/Earthquake/earthquake.php?id=1186810\">2022-11-08   12:53:04.8</a></b><i class=\"ago\" id=\"ago34\">5hr 11min ago</i></td><td class=\"tabev1\">40.17 </td><td class=\"tabev2\">N  </td><td class=\"tabev1\">119.15 </td><td class=\"tabev2\">W  </td><td class=\"tabev3\">7</td><td class=\"tabev5\" id=\"magtyp34\">ml</td><td class=\"tabev2\">2.2</td><td class=\"tb_region\" id=\"reg34\"> NEVADA</td><td class=\"comment updatetimeno\" id=\"upd34\" style=\"text-align:right;\">2022-11-08 16:07</td></tr>\n",
       "<tr class=\"ligne2 normal\" id=\"1186808\" onclick=\"go_details(event,1186808);\"><td class=\"tabev0\"></td><td class=\"tabev0\"></td><td class=\"tabev0\"></td><td class=\"tabev6\"><b><i style=\"display:none;\">earthquake</i><a href=\"/Earthquake/earthquake.php?id=1186808\">2022-11-08   12:26:00.3</a></b><i class=\"ago\" id=\"ago35\">5hr 38min ago</i></td><td class=\"tabev1\">19.34 </td><td class=\"tabev2\">N  </td><td class=\"tabev1\">155.21 </td><td class=\"tabev2\">W  </td><td class=\"tabev3\">-1</td><td class=\"tabev5\" id=\"magtyp35\">Md</td><td class=\"tabev2\">2.0</td><td class=\"tb_region\" id=\"reg35\"> ISLAND OF HAWAII, HAWAII</td><td class=\"comment updatetimeno\" id=\"upd35\" style=\"text-align:right;\">2022-11-08 12:29</td></tr>\n",
       "<tr class=\"ligne1 normal\" id=\"1186806\" onclick=\"go_details(event,1186806);\"><td class=\"tabev0\"></td><td class=\"tabev0\"></td><td class=\"tabev0\"></td><td class=\"tabev6\"><b><i style=\"display:none;\">earthquake</i><a href=\"/Earthquake/earthquake.php?id=1186806\">2022-11-08   12:13:59.0</a></b><i class=\"ago\" id=\"ago36\">5hr 50min ago</i></td><td class=\"tabev1\">4.72 </td><td class=\"tabev2\">S  </td><td class=\"tabev1\">101.71 </td><td class=\"tabev2\">E  </td><td class=\"tabev3\">10</td><td class=\"tabev5\" id=\"magtyp36\"> M</td><td class=\"tabev2\">4.0</td><td class=\"tb_region\" id=\"reg36\"> SOUTHERN SUMATRA, INDONESIA</td><td class=\"comment updatetimeno\" id=\"upd36\" style=\"text-align:right;\">2022-11-08 12:20</td></tr>\n",
       "<tr class=\"ligne2 normal\" id=\"1186800\" onclick=\"go_details(event,1186800);\"><td class=\"tabev0\"></td><td class=\"tabev0\"></td><td class=\"tabev0\"></td><td class=\"tabev6\"><b><i style=\"display:none;\">earthquake</i><a href=\"/Earthquake/earthquake.php?id=1186800\">2022-11-08   12:05:34.3</a></b><i class=\"ago\" id=\"ago37\">5hr 58min ago</i></td><td class=\"tabev1\">29.87 </td><td class=\"tabev2\">S  </td><td class=\"tabev1\">68.35 </td><td class=\"tabev2\">W  </td><td class=\"tabev3\">10</td><td class=\"tabev5\" id=\"magtyp37\">Mw</td><td class=\"tabev2\">4.0</td><td class=\"tb_region\" id=\"reg37\"> SAN JUAN, ARGENTINA</td><td class=\"comment updatetimeno\" id=\"upd37\" style=\"text-align:right;\">2022-11-08 15:20</td></tr>\n",
       "<tr class=\"ligne1 normal\" id=\"1186799\" onclick=\"go_details(event,1186799);\"><td class=\"tabev0\"></td><td class=\"tabev0\"></td><td class=\"tabev0\"></td><td class=\"tabev6\"><b><i style=\"display:none;\">earthquake</i><a href=\"/Earthquake/earthquake.php?id=1186799\">2022-11-08   11:57:11.4</a></b><i class=\"ago\" id=\"ago38\">6hr 06min ago</i></td><td class=\"tabev1\">31.66 </td><td class=\"tabev2\">N  </td><td class=\"tabev1\">104.40 </td><td class=\"tabev2\">W  </td><td class=\"tabev3\">9</td><td class=\"tabev5\" id=\"magtyp38\">ML</td><td class=\"tabev2\">3.3</td><td class=\"tb_region\" id=\"reg38\"> WESTERN TEXAS</td><td class=\"comment updatetimeno\" id=\"upd38\" style=\"text-align:right;\">2022-11-08 12:09</td></tr>\n",
       "<tr class=\"ligne2 normal\" id=\"1186796\" onclick=\"go_details(event,1186796);\"><td class=\"tabev0\"></td><td class=\"tabev0\"></td><td class=\"tabev0\"></td><td class=\"tabev6\"><b><i style=\"display:none;\">earthquake</i><a href=\"/Earthquake/earthquake.php?id=1186796\">2022-11-08   11:47:14.0</a></b><i class=\"ago\" id=\"ago39\">6hr 16min ago</i></td><td class=\"tabev1\">12.05 </td><td class=\"tabev2\">N  </td><td class=\"tabev1\">87.75 </td><td class=\"tabev2\">W  </td><td class=\"tabev3\">18</td><td class=\"tabev5\" id=\"magtyp39\"> M</td><td class=\"tabev2\">2.8</td><td class=\"tb_region\" id=\"reg39\"> NEAR COAST OF NICARAGUA</td><td class=\"comment updatetimeno\" id=\"upd39\" style=\"text-align:right;\">2022-11-08 11:55</td></tr>\n",
       "<tr class=\"ligne1 normal\" id=\"1186795\" onclick=\"go_details(event,1186795);\"><td class=\"tabev0\"></td><td class=\"tabev0\"></td><td class=\"tabev0\"></td><td class=\"tabev6\"><b><i style=\"display:none;\">earthquake</i><a href=\"/Earthquake/earthquake.php?id=1186795\">2022-11-08   11:45:08.0</a></b><i class=\"ago\" id=\"ago40\">6hr 19min ago</i></td><td class=\"tabev1\">24.12 </td><td class=\"tabev2\">S  </td><td class=\"tabev1\">67.55 </td><td class=\"tabev2\">W  </td><td class=\"tabev3\">222</td><td class=\"tabev5\" id=\"magtyp40\"> M</td><td class=\"tabev2\">3.5</td><td class=\"tb_region\" id=\"reg40\"> SALTA, ARGENTINA</td><td class=\"comment updatetimeno\" id=\"upd40\" style=\"text-align:right;\">2022-11-08 11:52</td></tr>\n",
       "<tr class=\"ligne2 normal\" id=\"1186812\" onclick=\"go_details(event,1186812);\"><td class=\"tabev0\"></td><td class=\"tabev0\"></td><td class=\"tabev0\"></td><td class=\"tabev6\"><b><i style=\"display:none;\">earthquake</i><a href=\"/Earthquake/earthquake.php?id=1186812\">2022-11-08   11:42:32.9</a></b><i class=\"ago\" id=\"ago41\">6hr 21min ago</i></td><td class=\"tabev1\">19.07 </td><td class=\"tabev2\">N  </td><td class=\"tabev1\">67.74 </td><td class=\"tabev2\">W  </td><td class=\"tabev3\">35</td><td class=\"tabev5\" id=\"magtyp41\">ML</td><td class=\"tabev2\">3.0</td><td class=\"tb_region\" id=\"reg41\"> PUERTO RICO REGION</td><td class=\"comment updatetimeno\" id=\"upd41\" style=\"text-align:right;\">2022-11-08 13:50</td></tr>\n",
       "<tr class=\"ligne1 normal\" id=\"1186793\" onclick=\"go_details(event,1186793);\"><td class=\"tabev0\"></td><td class=\"tabev0\"></td><td class=\"tabev0\"></td><td class=\"tabev6\"><b><i style=\"display:none;\">earthquake</i><a href=\"/Earthquake/earthquake.php?id=1186793\">2022-11-08   11:33:39.7</a></b><i class=\"ago\" id=\"ago42\">6hr 30min ago</i></td><td class=\"tabev1\">21.74 </td><td class=\"tabev2\">N  </td><td class=\"tabev1\">76.53 </td><td class=\"tabev2\">W  </td><td class=\"tabev3\">10</td><td class=\"tabev5\" id=\"magtyp42\">mb</td><td class=\"tabev2\">5.0</td><td class=\"tb_region\" id=\"reg42\"> CUBA REGION</td><td class=\"comment updatetimeno\" id=\"upd42\" style=\"text-align:right;\">2022-11-08 12:20</td></tr>\n",
       "<tr class=\"ligne2 normal\" id=\"1186797\" onclick=\"go_details(event,1186797);\"><td class=\"tabev0\"></td><td class=\"tabev0\"></td><td class=\"tabev0\"></td><td class=\"tabev6\"><b><i style=\"display:none;\">earthquake</i><a href=\"/Earthquake/earthquake.php?id=1186797\">2022-11-08   11:32:10.0</a></b><i class=\"ago\" id=\"ago43\">6hr 32min ago</i></td><td class=\"tabev1\">32.75 </td><td class=\"tabev2\">S  </td><td class=\"tabev1\">71.09 </td><td class=\"tabev2\">W  </td><td class=\"tabev3\">62</td><td class=\"tabev5\" id=\"magtyp43\"> M</td><td class=\"tabev2\">3.0</td><td class=\"tb_region\" id=\"reg43\"> VALPARAISO, CHILE</td><td class=\"comment updatetimeno\" id=\"upd43\" style=\"text-align:right;\">2022-11-08 12:03</td></tr>\n",
       "<tr class=\"ligne1 normal\" id=\"1186791\" onclick=\"go_details(event,1186791);\"><td class=\"tabev0\"></td><td class=\"tabev0\"></td><td class=\"tabev0\"></td><td class=\"tabev6\"><b><i style=\"display:none;\">earthquake</i><a href=\"/Earthquake/earthquake.php?id=1186791\">2022-11-08   11:27:25.0</a></b><i class=\"ago\" id=\"ago44\">6hr 36min ago</i></td><td class=\"tabev1\">23.91 </td><td class=\"tabev2\">S  </td><td class=\"tabev1\">67.20 </td><td class=\"tabev2\">W  </td><td class=\"tabev3\">240</td><td class=\"tabev5\" id=\"magtyp44\"> M</td><td class=\"tabev2\">3.5</td><td class=\"tb_region\" id=\"reg44\"> SALTA, ARGENTINA</td><td class=\"comment updatetimeno\" id=\"upd44\" style=\"text-align:right;\">2022-11-08 11:42</td></tr>\n",
       "<tr class=\"ligne2 normal\" id=\"1186794\" onclick=\"go_details(event,1186794);\"><td class=\"tabev0\"></td><td class=\"tabev0\"></td><td class=\"tabev0\"></td><td class=\"tabev6\"><b><i style=\"display:none;\">earthquake</i><a href=\"/Earthquake/earthquake.php?id=1186794\">2022-11-08   11:25:34.0</a></b><i class=\"ago\" id=\"ago45\">6hr 38min ago</i></td><td class=\"tabev1\">11.16 </td><td class=\"tabev2\">N  </td><td class=\"tabev1\">126.34 </td><td class=\"tabev2\">E  </td><td class=\"tabev3\">74</td><td class=\"tabev5\" id=\"magtyp45\"> M</td><td class=\"tabev2\">3.1</td><td class=\"tb_region\" id=\"reg45\"> PHILIPPINE ISLANDS REGION</td><td class=\"comment updatetimeno\" id=\"upd45\" style=\"text-align:right;\">2022-11-08 11:40</td></tr>\n",
       "<tr class=\"ligne1 normal\" id=\"1186792\" onclick=\"go_details(event,1186792);\"><td class=\"tabev0\"></td><td class=\"tabev0\"></td><td class=\"tabev0\"></td><td class=\"tabev6\"><b><i style=\"display:none;\">earthquake</i><a href=\"/Earthquake/earthquake.php?id=1186792\">2022-11-08   11:24:59.0</a></b><i class=\"ago\" id=\"ago46\">6hr 39min ago</i></td><td class=\"tabev1\">38.28 </td><td class=\"tabev2\">N  </td><td class=\"tabev1\">15.18 </td><td class=\"tabev2\">E  </td><td class=\"tabev3\">116</td><td class=\"tabev5\" id=\"magtyp46\">ML</td><td class=\"tabev2\">2.5</td><td class=\"tb_region\" id=\"reg46\"> SICILY, ITALY</td><td class=\"comment updatetimeno\" id=\"upd46\" style=\"text-align:right;\">2022-11-08 11:36</td></tr>\n",
       "<tr class=\"ligne2 normal\" id=\"1186789\" onclick=\"go_details(event,1186789);\"><td class=\"tabev0\"></td><td class=\"tabev0\"></td><td class=\"tabev0\"></td><td class=\"tabev6\"><b><i style=\"display:none;\">earthquake</i><a href=\"/Earthquake/earthquake.php?id=1186789\">2022-11-08   11:18:27.0</a></b><i class=\"ago\" id=\"ago47\">6hr 45min ago</i></td><td class=\"tabev1\">0.93 </td><td class=\"tabev2\">N  </td><td class=\"tabev1\">126.06 </td><td class=\"tabev2\">E  </td><td class=\"tabev3\">25</td><td class=\"tabev5\" id=\"magtyp47\"> M</td><td class=\"tabev2\">3.0</td><td class=\"tb_region\" id=\"reg47\"> MOLUCCA SEA</td><td class=\"comment updatetimeno\" id=\"upd47\" style=\"text-align:right;\">2022-11-08 11:30</td></tr>\n",
       "<tr class=\"ligne1 normal\" id=\"1186790\" onclick=\"go_details(event,1186790);\"><td class=\"tabev0\"></td><td class=\"tabev0\"></td><td class=\"tabev0\"></td><td class=\"tabev6\"><b><i style=\"display:none;\">earthquake</i><a href=\"/Earthquake/earthquake.php?id=1186790\">2022-11-08   11:16:10.3</a></b><i class=\"ago\" id=\"ago48\">6hr 47min ago</i></td><td class=\"tabev1\">11.11 </td><td class=\"tabev2\">N  </td><td class=\"tabev1\">125.70 </td><td class=\"tabev2\">E  </td><td class=\"tabev3\">10</td><td class=\"tabev5\" id=\"magtyp48\">mb</td><td class=\"tabev2\">4.6</td><td class=\"tb_region\" id=\"reg48\"> SAMAR, PHILIPPINES</td><td class=\"comment updatetimeno\" id=\"upd48\" style=\"text-align:right;\">2022-11-08 15:22</td></tr>\n",
       "<tr class=\"ligne2 normal\" id=\"1186788\" onclick=\"go_details(event,1186788);\"><td class=\"tabev0\"></td><td class=\"tabev0\"></td><td class=\"tabev0\"></td><td class=\"tabev6\"><b><i style=\"display:none;\">earthquake</i><a href=\"/Earthquake/earthquake.php?id=1186788\">2022-11-08   11:04:28.1</a></b><i class=\"ago\" id=\"ago49\">6hr 59min ago</i></td><td class=\"tabev1\">17.97 </td><td class=\"tabev2\">N  </td><td class=\"tabev1\">66.94 </td><td class=\"tabev2\">W  </td><td class=\"tabev3\">7</td><td class=\"tabev5\" id=\"magtyp49\">Md</td><td class=\"tabev2\">2.3</td><td class=\"tb_region\" id=\"reg49\"> PUERTO RICO</td><td class=\"comment updatetimeno\" id=\"upd49\" style=\"text-align:right;\">2022-11-08 11:25</td></tr>\n",
       "</tbody>"
      ]
     },
     "execution_count": 707,
     "metadata": {},
     "output_type": "execute_result"
    }
   ],
   "source": [
    "html=req.get(url).content\n",
    "\n",
    "sopa=bs(html, 'html.parser')\n",
    "\n",
    "emsc1=sopa.find_all('tbody', id=\"tbody\")\n",
    "emsc1[0]"
   ]
  },
  {
   "cell_type": "code",
   "execution_count": 710,
   "metadata": {},
   "outputs": [],
   "source": [
    "time=emsc1[0].find_all('td', class_='tabev6')"
   ]
  },
  {
   "cell_type": "code",
   "execution_count": 753,
   "metadata": {},
   "outputs": [
    {
     "data": {
      "text/plain": [
       "[['2022-11-08', '17:38:35'],\n",
       " ['2022-11-08', '17:38:30'],\n",
       " ['2022-11-08', '17:35:07'],\n",
       " ['2022-11-08', '17:20:34'],\n",
       " ['2022-11-08', '17:01:11'],\n",
       " ['2022-11-08', '16:56:25'],\n",
       " ['2022-11-08', '16:45:48'],\n",
       " ['2022-11-08', '16:40:58'],\n",
       " ['2022-11-08', '16:40:43'],\n",
       " ['2022-11-08', '16:35:24'],\n",
       " ['2022-11-08', '16:19:42'],\n",
       " ['2022-11-08', '16:11:35'],\n",
       " ['2022-11-08', '16:04:03'],\n",
       " ['2022-11-08', '16:00:22'],\n",
       " ['2022-11-08', '15:49:16'],\n",
       " ['2022-11-08', '15:38:00'],\n",
       " ['2022-11-08', '15:32:57'],\n",
       " ['2022-11-08', '15:27:12'],\n",
       " ['2022-11-08', '15:26:07'],\n",
       " ['2022-11-08', '15:23:24'],\n",
       " ['2022-11-08', '15:22:36'],\n",
       " ['2022-11-08', '15:17:23'],\n",
       " ['2022-11-08', '15:08:26'],\n",
       " ['2022-11-08', '14:50:48'],\n",
       " ['2022-11-08', '14:49:11'],\n",
       " ['2022-11-08', '14:43:44'],\n",
       " ['2022-11-08', '14:38:45'],\n",
       " ['2022-11-08', '14:30:01'],\n",
       " ['2022-11-08', '14:26:07'],\n",
       " ['2022-11-08', '14:24:30'],\n",
       " ['2022-11-08', '14:20:38'],\n",
       " ['2022-11-08', '13:42:31'],\n",
       " ['2022-11-08', '13:09:18'],\n",
       " ['2022-11-08', '13:05:57'],\n",
       " ['2022-11-08', '12:53:04'],\n",
       " ['2022-11-08', '12:26:00'],\n",
       " ['2022-11-08', '12:13:59'],\n",
       " ['2022-11-08', '12:05:34'],\n",
       " ['2022-11-08', '11:57:11'],\n",
       " ['2022-11-08', '11:47:14'],\n",
       " ['2022-11-08', '11:45:08'],\n",
       " ['2022-11-08', '11:42:32'],\n",
       " ['2022-11-08', '11:33:39'],\n",
       " ['2022-11-08', '11:32:10'],\n",
       " ['2022-11-08', '11:27:25'],\n",
       " ['2022-11-08', '11:25:34'],\n",
       " ['2022-11-08', '11:24:59'],\n",
       " ['2022-11-08', '11:18:27'],\n",
       " ['2022-11-08', '11:16:10'],\n",
       " ['2022-11-08', '11:04:28']]"
      ]
     },
     "execution_count": 753,
     "metadata": {},
     "output_type": "execute_result"
    }
   ],
   "source": [
    "date=[]\n",
    "for i in time:\n",
    "    date.append(i.text.replace(\"earthquake\",\"\").replace(\"\\xa0\",\"*\").split(\".\")[0])\n",
    "\n",
    "date\n",
    "\n",
    "dates=[]\n",
    "for i in date:\n",
    "    dates.append(i.split(\"***\"))\n",
    "\n",
    "dates\n"
   ]
  },
  {
   "cell_type": "code",
   "execution_count": null,
   "metadata": {},
   "outputs": [],
   "source": []
  },
  {
   "cell_type": "markdown",
   "metadata": {},
   "source": [
    "#### Display the date, days, title, city, country of next 25 hackathon events as a Pandas dataframe table"
   ]
  },
  {
   "cell_type": "code",
   "execution_count": 25,
   "metadata": {},
   "outputs": [],
   "source": [
    "# This is the url you will scrape in this exercise\n",
    "#url ='https://hackevents.co/hackathons'"
   ]
  },
  {
   "cell_type": "code",
   "execution_count": 26,
   "metadata": {},
   "outputs": [],
   "source": [
    "#este no podíamos hacerle"
   ]
  },
  {
   "cell_type": "markdown",
   "metadata": {},
   "source": [
    "#### Count number of tweets by a given Twitter account."
   ]
  },
  {
   "cell_type": "markdown",
   "metadata": {},
   "source": [
    "You will need to include a ***try/except block*** for account names not found. \n",
    "<br>***Hint:*** the program should count the number of tweets for any provided account"
   ]
  },
  {
   "cell_type": "code",
   "execution_count": 459,
   "metadata": {},
   "outputs": [],
   "source": [
    "# This is the url you will scrape in this exercise \n",
    "# You will need to add the account credentials to this url\n",
    "url = 'https://twitter.com/bendelacreme'"
   ]
  },
  {
   "cell_type": "code",
   "execution_count": 460,
   "metadata": {},
   "outputs": [
    {
     "data": {
      "text/plain": [
       "'Something went wrong, but don’t fret — let’s give it another shot.'"
      ]
     },
     "execution_count": 460,
     "metadata": {},
     "output_type": "execute_result"
    }
   ],
   "source": [
    "html=req.get(url).content\n",
    "\n",
    "sopa=bs(html, 'html.parser')\n",
    "\n",
    "tweets=sopa.find_all('div', dir=\"auto\")\n",
    "\n",
    "tweets[0].text"
   ]
  },
  {
   "cell_type": "markdown",
   "metadata": {},
   "source": [
    "#### Number of followers of a given twitter account"
   ]
  },
  {
   "cell_type": "markdown",
   "metadata": {},
   "source": [
    "You will need to include a ***try/except block*** in case account/s name not found. \n",
    "<br>***Hint:*** the program should count the followers for any provided account"
   ]
  },
  {
   "cell_type": "code",
   "execution_count": 461,
   "metadata": {},
   "outputs": [],
   "source": [
    "# This is the url you will scrape in this exercise \n",
    "# You will need to add the account credentials to this url\n",
    "url = 'https://twitter.com/AdoreDelano'"
   ]
  },
  {
   "cell_type": "code",
   "execution_count": 463,
   "metadata": {},
   "outputs": [
    {
     "data": {
      "text/plain": [
       "'Something went wrong, but don’t fret — let’s give it another shot.'"
      ]
     },
     "execution_count": 463,
     "metadata": {},
     "output_type": "execute_result"
    }
   ],
   "source": [
    "html=req.get(url).content\n",
    "\n",
    "sopa=bs(html, 'html.parser')\n",
    "\n",
    "\n",
    "follow=sopa.find_all('span', class_=\"css-901oao css-16my406 r-poiln3 r-bcqeeo r-qvutc0\")\n",
    "\n",
    "follow[0].text"
   ]
  },
  {
   "cell_type": "markdown",
   "metadata": {},
   "source": [
    "#### List all language names and number of related articles in the order they appear in wikipedia.org"
   ]
  },
  {
   "cell_type": "code",
   "execution_count": 464,
   "metadata": {},
   "outputs": [],
   "source": [
    "# This is the url you will scrape in this exercise\n",
    "url = 'https://www.wikipedia.org/'"
   ]
  },
  {
   "cell_type": "code",
   "execution_count": 470,
   "metadata": {},
   "outputs": [
    {
     "data": {
      "text/plain": [
       "['English',\n",
       " '日本語',\n",
       " 'Español',\n",
       " 'Русский',\n",
       " 'Français',\n",
       " 'Deutsch',\n",
       " 'Italiano',\n",
       " '中文',\n",
       " 'Português',\n",
       " 'العربية']"
      ]
     },
     "execution_count": 470,
     "metadata": {},
     "output_type": "execute_result"
    }
   ],
   "source": [
    "html=req.get(url).content\n",
    "\n",
    "sopa=bs(html, 'html.parser')\n",
    "\n",
    "\n",
    "lang=sopa.find_all('div', class_=\"central-featured\")\n",
    "\n",
    "langs=lang[0].find_all('strong')\n",
    "\n",
    "langwiki=[]\n",
    "for i in langs:\n",
    "    langwiki.append(i.text)\n",
    "langwiki"
   ]
  },
  {
   "cell_type": "markdown",
   "metadata": {},
   "source": [
    "#### A list with the different kind of datasets available in data.gov.uk "
   ]
  },
  {
   "cell_type": "code",
   "execution_count": 473,
   "metadata": {},
   "outputs": [],
   "source": [
    "# This is the url you will scrape in this exercise\n",
    "url = 'https://data.gov.uk/'"
   ]
  },
  {
   "cell_type": "code",
   "execution_count": 482,
   "metadata": {},
   "outputs": [
    {
     "data": {
      "text/plain": [
       "['Small businesses, industry, imports, exports and trade',\n",
       " 'Courts, police, prison, offenders, borders and immigration',\n",
       " 'Armed forces, health and safety, search and rescue',\n",
       " 'Students, training, qualifications and the National Curriculum',\n",
       " 'Weather, flooding, rivers, air quality, geology and agriculture',\n",
       " 'Staff numbers and pay, local councillors and department business plans',\n",
       " 'Includes all payments by government departments over £25,000',\n",
       " 'Includes smoking, drugs, alcohol, medicine performance and hospitals',\n",
       " 'Addresses, boundaries, land ownership, aerial photographs, seabed and land terrain',\n",
       " 'Employment, benefits, household finances, poverty and population',\n",
       " 'Includes housing, urban planning, leisure, waste and energy, consumption',\n",
       " 'Airports, roads, freight, electric vehicles, parking, buses and footpaths',\n",
       " 'Cost, usage, completion rate, digital take-up, satisfaction',\n",
       " 'Trusted data that is referenced and shared across government departments']"
      ]
     },
     "execution_count": 482,
     "metadata": {},
     "output_type": "execute_result"
    }
   ],
   "source": [
    "html=req.get(url).content\n",
    "\n",
    "sopa=bs(html, 'html.parser')\n",
    "\n",
    "gov=sopa.find_all('p', class_=\"govuk-body\")\n",
    "\n",
    "govs=gov[1:]\n",
    "\n",
    "govt=[]\n",
    "for i in govs:\n",
    "    govt.append(i.text)\n",
    "govt"
   ]
  },
  {
   "cell_type": "markdown",
   "metadata": {},
   "source": [
    "#### Top 10 languages by number of native speakers stored in a Pandas Dataframe"
   ]
  },
  {
   "cell_type": "code",
   "execution_count": 504,
   "metadata": {},
   "outputs": [],
   "source": [
    "# This is the url you will scrape in this exercise\n",
    "url = 'https://en.wikipedia.org/wiki/List_of_languages_by_number_of_native_speakers'"
   ]
  },
  {
   "cell_type": "code",
   "execution_count": 533,
   "metadata": {},
   "outputs": [
    {
     "data": {
      "text/plain": [
       "['Mandarin Chinese',\n",
       " 'Spanish',\n",
       " 'English',\n",
       " 'Hindi',\n",
       " 'Bengali',\n",
       " 'Portuguese',\n",
       " 'Russian',\n",
       " 'Japanese',\n",
       " 'Yue Chinese',\n",
       " 'Vietnamese']"
      ]
     },
     "execution_count": 533,
     "metadata": {},
     "output_type": "execute_result"
    }
   ],
   "source": [
    "html=req.get(url).content\n",
    "\n",
    "sopa=bs(html, 'html.parser')\n",
    "\n",
    "topl=sopa.find_all('tbody')\n",
    "\n",
    "topla=topl[0].find_all('a', class_=\"mw-redirect\")\n",
    "topla\n",
    "\n",
    "toplan=[]\n",
    "\n",
    "for i in topla:\n",
    "    toplan.append(i.text)\n",
    "\n",
    "toplanf=toplan[0:10]\n",
    "\n",
    "toplanf"
   ]
  },
  {
   "cell_type": "markdown",
   "metadata": {},
   "source": [
    "### BONUS QUESTIONS"
   ]
  },
  {
   "cell_type": "markdown",
   "metadata": {},
   "source": [
    "#### Scrape a certain number of tweets of a given Twitter account."
   ]
  },
  {
   "cell_type": "code",
   "execution_count": 691,
   "metadata": {},
   "outputs": [],
   "source": [
    "# This is the url you will scrape in this exercise \n",
    "# You will need to add the account credentials to this url\n",
    "url = 'https://twitter.com/janjanjan'"
   ]
  },
  {
   "cell_type": "code",
   "execution_count": 693,
   "metadata": {},
   "outputs": [
    {
     "data": {
      "text/plain": [
       "'Something went wrong, but don’t fret — let’s give it another shot.'"
      ]
     },
     "execution_count": 693,
     "metadata": {},
     "output_type": "execute_result"
    }
   ],
   "source": [
    "html=req.get(url).content\n",
    "\n",
    "sopa=bs(html, 'html.parser')\n",
    "\n",
    "tuit=sopa.find_all('span', class_=\"css-901oao css-16my406 r-poiln3 r-bcqeeo r-qvutc0\")\n",
    "\n",
    "tuit[0].text"
   ]
  },
  {
   "cell_type": "markdown",
   "metadata": {},
   "source": [
    "#### IMDB's Top 250 data (movie name, Initial release, director name and stars) as a pandas dataframe"
   ]
  },
  {
   "cell_type": "code",
   "execution_count": 534,
   "metadata": {},
   "outputs": [],
   "source": [
    "# This is the url you will scrape in this exercise \n",
    "url = 'https://www.imdb.com/chart/top'"
   ]
  },
  {
   "cell_type": "code",
   "execution_count": 536,
   "metadata": {},
   "outputs": [],
   "source": [
    "import pandas as pd"
   ]
  },
  {
   "cell_type": "code",
   "execution_count": 689,
   "metadata": {},
   "outputs": [],
   "source": [
    "html=req.get(url).content\n",
    "\n",
    "sopa=bs(html, 'html.parser')\n",
    "\n",
    "lst=sopa.find_all('div', class_=\"seen-collection\")\n",
    "\n",
    "lst2=lst[0].find_all('tbody', class_=\"lister-list\")"
   ]
  },
  {
   "cell_type": "code",
   "execution_count": 684,
   "metadata": {},
   "outputs": [],
   "source": [
    "rat=lst2[0].find_all('strong')\n",
    "\n",
    "rating=[]\n",
    "for i in rat:\n",
    "    rating.append(i.text)\n",
    "\n",
    "#print(rating)"
   ]
  },
  {
   "cell_type": "code",
   "execution_count": 685,
   "metadata": {},
   "outputs": [],
   "source": [
    "mov=lst2[0].find_all('a', href=True)\n",
    "\n",
    "movie=[]\n",
    "for i in dir:\n",
    "    movie.append(i.text.replace(\" \\n\",\"\"))\n",
    "\n",
    "movies = list(filter(None, movie))\n",
    "\n",
    "#print(movies)"
   ]
  },
  {
   "cell_type": "code",
   "execution_count": 686,
   "metadata": {},
   "outputs": [],
   "source": [
    "release=lst2[0].find_all('span', class_=\"secondaryInfo\")\n",
    "\n",
    "reldate=[]\n",
    "for i in release:\n",
    "    reldate.append(i.text.replace(\"(\",\"\").replace(\")\",\"\"))\n",
    "#print(reldate)"
   ]
  },
  {
   "cell_type": "code",
   "execution_count": 687,
   "metadata": {},
   "outputs": [
    {
     "data": {
      "text/html": [
       "<div>\n",
       "<style scoped>\n",
       "    .dataframe tbody tr th:only-of-type {\n",
       "        vertical-align: middle;\n",
       "    }\n",
       "\n",
       "    .dataframe tbody tr th {\n",
       "        vertical-align: top;\n",
       "    }\n",
       "\n",
       "    .dataframe thead th {\n",
       "        text-align: right;\n",
       "    }\n",
       "</style>\n",
       "<table border=\"1\" class=\"dataframe\">\n",
       "  <thead>\n",
       "    <tr style=\"text-align: right;\">\n",
       "      <th></th>\n",
       "      <th>movies</th>\n",
       "      <th>release_year</th>\n",
       "      <th>rating</th>\n",
       "    </tr>\n",
       "  </thead>\n",
       "  <tbody>\n",
       "    <tr>\n",
       "      <th>0</th>\n",
       "      <td>Cadena perpetua</td>\n",
       "      <td>1994</td>\n",
       "      <td>9.2</td>\n",
       "    </tr>\n",
       "    <tr>\n",
       "      <th>1</th>\n",
       "      <td>El padrino</td>\n",
       "      <td>1972</td>\n",
       "      <td>9.2</td>\n",
       "    </tr>\n",
       "    <tr>\n",
       "      <th>2</th>\n",
       "      <td>El caballero oscuro</td>\n",
       "      <td>2008</td>\n",
       "      <td>9.0</td>\n",
       "    </tr>\n",
       "    <tr>\n",
       "      <th>3</th>\n",
       "      <td>El padrino (parte II)</td>\n",
       "      <td>1974</td>\n",
       "      <td>9.0</td>\n",
       "    </tr>\n",
       "    <tr>\n",
       "      <th>4</th>\n",
       "      <td>12 hombres sin piedad</td>\n",
       "      <td>1957</td>\n",
       "      <td>9.0</td>\n",
       "    </tr>\n",
       "  </tbody>\n",
       "</table>\n",
       "</div>"
      ],
      "text/plain": [
       "                  movies release_year rating\n",
       "0        Cadena perpetua         1994    9.2\n",
       "1             El padrino         1972    9.2\n",
       "2    El caballero oscuro         2008    9.0\n",
       "3  El padrino (parte II)         1974    9.0\n",
       "4  12 hombres sin piedad         1957    9.0"
      ]
     },
     "execution_count": 687,
     "metadata": {},
     "output_type": "execute_result"
    }
   ],
   "source": [
    "d = {'movies': movies, 'release_year': reldate, 'rating': rating}\n",
    "top250 = pd.DataFrame(data=d)\n",
    "\n",
    "top250.head()"
   ]
  },
  {
   "cell_type": "code",
   "execution_count": 683,
   "metadata": {},
   "outputs": [],
   "source": [
    "#mira no se cómo sacar el director del enlace, qué tortura"
   ]
  },
  {
   "cell_type": "markdown",
   "metadata": {},
   "source": [
    "#### Movie name, year and a brief summary of the top 10 random movies (IMDB) as a pandas dataframe."
   ]
  },
  {
   "cell_type": "code",
   "execution_count": 41,
   "metadata": {},
   "outputs": [],
   "source": [
    "#This is the url you will scrape in this exercise\n",
    "#url = 'http://www.imdb.com/chart/top'"
   ]
  },
  {
   "cell_type": "code",
   "execution_count": 42,
   "metadata": {},
   "outputs": [],
   "source": [
    "#your code"
   ]
  },
  {
   "cell_type": "markdown",
   "metadata": {},
   "source": [
    "#### Find the live weather report (temperature, wind speed, description and weather) of a given city."
   ]
  },
  {
   "cell_type": "code",
   "execution_count": 688,
   "metadata": {},
   "outputs": [],
   "source": [
    "#https://openweathermap.org/current\n",
    "#city = city=input('Enter the city:')\n",
    "#url = 'http://api.openweathermap.org/data/2.5/weather?'+'q='+city+'&APPID=b35975e18dc93725acb092f7272cc6b8&units=metric'"
   ]
  },
  {
   "cell_type": "code",
   "execution_count": null,
   "metadata": {},
   "outputs": [],
   "source": [
    "# your code"
   ]
  },
  {
   "cell_type": "markdown",
   "metadata": {},
   "source": [
    "#### Book name,price and stock availability as a pandas dataframe."
   ]
  },
  {
   "cell_type": "code",
   "execution_count": null,
   "metadata": {},
   "outputs": [],
   "source": [
    "# This is the url you will scrape in this exercise. \n",
    "# It is a fictional bookstore created to be scraped. \n",
    "#url = 'http://books.toscrape.com/'"
   ]
  },
  {
   "cell_type": "code",
   "execution_count": null,
   "metadata": {},
   "outputs": [],
   "source": [
    "#your code"
   ]
  }
 ],
 "metadata": {
  "kernelspec": {
   "display_name": "Python 3 (ipykernel)",
   "language": "python",
   "name": "python3"
  },
  "language_info": {
   "codemirror_mode": {
    "name": "ipython",
    "version": 3
   },
   "file_extension": ".py",
   "mimetype": "text/x-python",
   "name": "python",
   "nbconvert_exporter": "python",
   "pygments_lexer": "ipython3",
   "version": "3.9.12"
  }
 },
 "nbformat": 4,
 "nbformat_minor": 2
}
