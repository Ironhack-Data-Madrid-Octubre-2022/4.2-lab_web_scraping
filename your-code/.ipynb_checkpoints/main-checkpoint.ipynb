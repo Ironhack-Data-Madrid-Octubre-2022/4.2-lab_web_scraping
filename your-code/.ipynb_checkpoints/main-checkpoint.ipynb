{
 "cells": [
  {
   "cell_type": "markdown",
   "metadata": {},
   "source": [
    "# Web Scraping Lab\n",
    "\n",
    "You will find in this notebook some scrapy exercises to practise your scraping skills.\n",
    "\n",
    "**Tips:**\n",
    "\n",
    "- Check the response status code for each request to ensure you have obtained the intended contennt.\n",
    "- Print the response text in each request to understand the kind of info you are getting and its format.\n",
    "- Check for patterns in the response text to extract the data/info requested in each question.\n",
    "- Visit each url and take a look at its source through Chrome DevTools. You'll need to identify the html tags, special class names etc. used for the html content you are expected to extract."
   ]
  },
  {
   "cell_type": "markdown",
   "metadata": {},
   "source": [
    "- [Requests library](http://docs.python-requests.org/en/master/#the-user-guide) documentation \n",
    "- [Beautiful Soup Doc](https://www.crummy.com/software/BeautifulSoup/bs4/doc/)\n",
    "- [Urllib](https://docs.python.org/3/library/urllib.html#module-urllib)\n",
    "- [re lib](https://docs.python.org/3/library/re.html)\n",
    "- [lxml lib](https://lxml.de/)\n",
    "- [Scrapy](https://scrapy.org/)\n",
    "- [List of HTTP status codes](https://en.wikipedia.org/wiki/List_of_HTTP_status_codes)\n",
    "- [HTML basics](http://www.simplehtmlguide.com/cheatsheet.php)\n",
    "- [CSS basics](https://www.cssbasics.com/#page_start)"
   ]
  },
  {
   "cell_type": "markdown",
   "metadata": {},
   "source": [
    "#### Below are the libraries and modules you may need. `requests`,  `BeautifulSoup` and `pandas` are imported for you. If you prefer to use additional libraries feel free to uncomment them."
   ]
  },
  {
   "cell_type": "code",
   "execution_count": 2,
   "metadata": {},
   "outputs": [],
   "source": [
    "import requests as req\n",
    "from bs4 import BeautifulSoup as bs\n",
    "import pandas as pd\n",
    "# from pprint import pprint\n",
    "# from lxml import html\n",
    "# from lxml.html import fromstring\n",
    "# import urllib.request\n",
    "# from urllib.request import urlopen\n",
    "# import random\n",
    "# import re\n",
    "# import scrapy"
   ]
  },
  {
   "cell_type": "markdown",
   "metadata": {},
   "source": [
    "#### Download, parse (using BeautifulSoup), and print the content from the Trending Developers page from GitHub:"
   ]
  },
  {
   "cell_type": "code",
   "execution_count": 4,
   "metadata": {},
   "outputs": [],
   "source": [
    "# This is the url you will scrape in this exercise\n",
    "url = 'https://github.com/trending/developers'"
   ]
  },
  {
   "cell_type": "code",
   "execution_count": 5,
   "metadata": {},
   "outputs": [],
   "source": [
    "#your code\n",
    "html = requests.get(url).content"
   ]
  },
  {
   "cell_type": "code",
   "execution_count": null,
   "metadata": {},
   "outputs": [],
   "source": []
  },
  {
   "cell_type": "markdown",
   "metadata": {},
   "source": [
    "#### Display the names of the trending developers retrieved in the previous step.\n",
    "\n",
    "Your output should be a Python list of developer names. Each name should not contain any html tag.\n",
    "\n",
    "**Instructions:**\n",
    "\n",
    "1. Find out the html tag and class names used for the developer names. You can achieve this using Chrome DevTools.\n",
    "\n",
    "1. Use BeautifulSoup to extract all the html elements that contain the developer names.\n",
    "\n",
    "1. Use string manipulation techniques to replace whitespaces and linebreaks (i.e. `\\n`) in the *text* of each html element. Use a list to store the clean names.\n",
    "\n",
    "1. Print the list of names.\n",
    "\n",
    "Your output should look like below:\n",
    "\n",
    "```\n",
    "['trimstray (@trimstray)',\n",
    " 'joewalnes (JoeWalnes)',\n",
    " 'charlax (Charles-AxelDein)',\n",
    " 'ForrestKnight (ForrestKnight)',\n",
    " 'revery-ui (revery-ui)',\n",
    " 'alibaba (Alibaba)',\n",
    " 'Microsoft (Microsoft)',\n",
    " 'github (GitHub)',\n",
    " 'facebook (Facebook)',\n",
    " 'boazsegev (Bo)',\n",
    " 'google (Google)',\n",
    " 'cloudfetch',\n",
    " 'sindresorhus (SindreSorhus)',\n",
    " 'tensorflow',\n",
    " 'apache (TheApacheSoftwareFoundation)',\n",
    " 'DevonCrawford (DevonCrawford)',\n",
    " 'ARMmbed (ArmMbed)',\n",
    " 'vuejs (vuejs)',\n",
    " 'fastai (fast.ai)',\n",
    " 'QiShaoXuan (Qi)',\n",
    " 'joelparkerhenderson (JoelParkerHenderson)',\n",
    " 'torvalds (LinusTorvalds)',\n",
    " 'CyC2018',\n",
    " 'komeiji-satori (神楽坂覚々)',\n",
    " 'script-8']\n",
    " ```"
   ]
  },
  {
   "cell_type": "code",
   "execution_count": 28,
   "metadata": {},
   "outputs": [],
   "source": [
    "#your code\n",
    "soup=bs(html, 'html.parser')\n",
    "\n",
    "dev = soup.find_all('article', class_= 'Box-row d-flex')"
   ]
  },
  {
   "cell_type": "code",
   "execution_count": 42,
   "metadata": {},
   "outputs": [
    {
     "data": {
      "text/plain": [
       "25"
      ]
     },
     "execution_count": 42,
     "metadata": {},
     "output_type": "execute_result"
    }
   ],
   "source": [
    "len(dev)"
   ]
  },
  {
   "cell_type": "code",
   "execution_count": 41,
   "metadata": {},
   "outputs": [
    {
     "data": {
      "text/plain": [
       "'Emil Ernerfeldt'"
      ]
     },
     "execution_count": 41,
     "metadata": {},
     "output_type": "execute_result"
    }
   ],
   "source": [
    "dev[0]('a')[2].text.strip()"
   ]
  },
  {
   "cell_type": "code",
   "execution_count": 45,
   "metadata": {},
   "outputs": [],
   "source": [
    "output= []\n",
    "for i in range(len(dev)):\n",
    "    name = dev[i]('a')[2].text.strip()\n",
    "    alias = dev[i]('a')[4].text.strip()\n",
    "    output.append(name + ' ' + '(' + alias + ')' )\n",
    "    \n",
    "    \n",
    "    "
   ]
  },
  {
   "cell_type": "code",
   "execution_count": 46,
   "metadata": {},
   "outputs": [
    {
     "data": {
      "text/plain": [
       "['Emil Ernerfeldt (egui)',\n",
       " 'Earle F. Philhower, III (arduino-pico)',\n",
       " 'Nikita Sobolev (awesome-cryptography)',\n",
       " 'Stephen Celis (SQLite.swift)',\n",
       " 'Justin Fagnani (mixwith.js)',\n",
       " 'Manu MA (qwik-conference-app)',\n",
       " 'Joshua (Follow)',\n",
       " 'Simon H (Follow)',\n",
       " 'Marcus Olsson (obsidian-projects)',\n",
       " 'Ben V. Brown (IronOS)',\n",
       " 'Jonny Borges (getx)',\n",
       " 'Andrew Kane (the-ultimate-guide-to-ruby-timeouts)',\n",
       " 'Wangchong Zhou (xeHentai)',\n",
       " 'Mislav Marohnić (will_paginate)',\n",
       " 'Matthias Fey (pytorch_scatter)',\n",
       " 'Elliana May (duckdb-extension-framework)',\n",
       " 'Romain Beaumont (img2dataset)',\n",
       " 'Hari Sekhon (DevOps-Bash-tools)',\n",
       " 'osy (Follow)',\n",
       " 'Adam Johnson (django-upgrade)',\n",
       " 'Pedro Cuenca (alzheimer)',\n",
       " 'Alex Gaynor (what-happens-when)',\n",
       " 'Henrik Rydgård (ppsspp)',\n",
       " 'Joshua Levy (the-art-of-command-line)',\n",
       " 'Mu Li (autocut)']"
      ]
     },
     "execution_count": 46,
     "metadata": {},
     "output_type": "execute_result"
    }
   ],
   "source": [
    "output"
   ]
  },
  {
   "cell_type": "markdown",
   "metadata": {},
   "source": [
    "#### Display the trending Python repositories in GitHub\n",
    "\n",
    "The steps to solve this problem is similar to the previous one except that you need to find out the repository names instead of developer names."
   ]
  },
  {
   "cell_type": "code",
   "execution_count": 48,
   "metadata": {},
   "outputs": [],
   "source": [
    "# This is the url you will scrape in this exercise\n",
    "url = 'https://github.com/trending/python?since=daily'"
   ]
  },
  {
   "cell_type": "code",
   "execution_count": 49,
   "metadata": {},
   "outputs": [],
   "source": [
    "#your code\n",
    "html = requests.get(url).content\n",
    "soup=bs(html, 'html.parser')\n",
    "\n"
   ]
  },
  {
   "cell_type": "code",
   "execution_count": 50,
   "metadata": {},
   "outputs": [],
   "source": [
    "text = soup.find_all('article', class_= 'Box-row')"
   ]
  },
  {
   "cell_type": "code",
   "execution_count": 62,
   "metadata": {},
   "outputs": [
    {
     "data": {
      "text/plain": [
       "'bregman-arie/devops-exercises'"
      ]
     },
     "execution_count": 62,
     "metadata": {},
     "output_type": "execute_result"
    }
   ],
   "source": [
    "text[0]('a')[2].text.strip().replace(\"\\n\",\"\").replace(\"/\",\"\").replace(\"       \",\"/\")"
   ]
  },
  {
   "cell_type": "code",
   "execution_count": 81,
   "metadata": {},
   "outputs": [
    {
     "data": {
      "text/plain": [
       "'Star'"
      ]
     },
     "execution_count": 81,
     "metadata": {},
     "output_type": "execute_result"
    }
   ],
   "source": [
    "text[0]('a')[1].text.strip().replace(\"\\n\",\"\").replace(\"/\",\"\").replace(\"       \",\"/\")"
   ]
  },
  {
   "cell_type": "code",
   "execution_count": 82,
   "metadata": {},
   "outputs": [],
   "source": [
    "lst = []\n",
    "for i in range(len(text)):\n",
    "    if text[i]('a')[1].text.strip().replace(\"\\n\",\"\").replace(\"/\",\"\").replace(\"       \",\"/\") == 'Star':\n",
    "        lst.append(text[i]('a')[2].text.strip().replace(\"\\n\",\"\").replace(\"/\",\"\").replace(\"       \",\"/\"))\n",
    "    else :\n",
    "        lst.append(text[i]('a')[1].text.strip().replace(\"\\n\",\"\").replace(\"/\",\"\").replace(\"       \",\"/\"))\n",
    "        \n",
    "    "
   ]
  },
  {
   "cell_type": "code",
   "execution_count": 83,
   "metadata": {},
   "outputs": [
    {
     "data": {
      "text/plain": [
       "['bregman-arie/devops-exercises',\n",
       " 'public-apis/public-apis',\n",
       " 'geohot/tinygrad',\n",
       " 'mlflow/mlflow',\n",
       " 'PaddlePaddle/PaddleDetection',\n",
       " 'google/jax',\n",
       " 'iterativv/NostalgiaForInfinity',\n",
       " 'netbox-community/netbox',\n",
       " 'tiangolo/typer',\n",
       " 'streamlit/streamlit',\n",
       " 'modelscope/modelscope',\n",
       " 'LetusDevops/LearnPython',\n",
       " 'nerfstudio-project/nerfstudio',\n",
       " 'idanya/algo-trader',\n",
       " 'heartexlabs/labelImg',\n",
       " 'microsoft/pyright',\n",
       " 'sqlmapproject/sqlmap',\n",
       " 'unifyai/ivy',\n",
       " 'crytic/slither',\n",
       " 'ultralytics/yolov5',\n",
       " 'home-assistant/core',\n",
       " 'WeAreMahsaAmini/FreeInternet',\n",
       " 'open-mmlab/mmocr',\n",
       " 'Lightning-AI/lightning',\n",
       " 'demisto/content']"
      ]
     },
     "execution_count": 83,
     "metadata": {},
     "output_type": "execute_result"
    }
   ],
   "source": [
    "lst"
   ]
  },
  {
   "cell_type": "markdown",
   "metadata": {},
   "source": [
    "#### Display all the image links from Walt Disney wikipedia page"
   ]
  },
  {
   "cell_type": "code",
   "execution_count": 85,
   "metadata": {},
   "outputs": [],
   "source": [
    "# This is the url you will scrape in this exercise\n",
    "url = 'https://en.wikipedia.org/wiki/Walt_Disney'"
   ]
  },
  {
   "cell_type": "code",
   "execution_count": 86,
   "metadata": {},
   "outputs": [],
   "source": [
    "#your code\n",
    "html = requests.get(url).content\n",
    "soup=bs(html, 'html.parser')\n"
   ]
  },
  {
   "cell_type": "code",
   "execution_count": 89,
   "metadata": {},
   "outputs": [],
   "source": [
    "ima= soup.find_all('img')"
   ]
  },
  {
   "cell_type": "code",
   "execution_count": 101,
   "metadata": {},
   "outputs": [
    {
     "data": {
      "text/plain": [
       "'//upload.wikimedia.org/wikipedia/commons/thumb/d/df/Walt_Disney_1946.JPG/220px-Walt_Disney_1946.JPG'"
      ]
     },
     "execution_count": 101,
     "metadata": {},
     "output_type": "execute_result"
    }
   ],
   "source": [
    "ima[2][\"src\"]"
   ]
  },
  {
   "cell_type": "code",
   "execution_count": 104,
   "metadata": {},
   "outputs": [],
   "source": [
    "lst = []\n",
    "for i in range(2,len(ima)):\n",
    "    lst.append(ima[i][\"src\"])\n",
    "    \n",
    "    \n"
   ]
  },
  {
   "cell_type": "markdown",
   "metadata": {},
   "source": [
    "#### Retrieve an arbitary Wikipedia page of \"Python\" and create a list of links on that page"
   ]
  },
  {
   "cell_type": "code",
   "execution_count": 285,
   "metadata": {},
   "outputs": [],
   "source": [
    "# This is the url you will scrape in this exercise\n",
    "url ='https://en.wikipedia.org/wiki/Python' "
   ]
  },
  {
   "cell_type": "code",
   "execution_count": 286,
   "metadata": {},
   "outputs": [],
   "source": [
    "#your code\n",
    "url = 'https://en.wikipedia.org/wiki/Python_(mythology)'"
   ]
  },
  {
   "cell_type": "code",
   "execution_count": 287,
   "metadata": {},
   "outputs": [],
   "source": [
    "html = requests.get(url).content\n",
    "soup=bs(html, 'html.parser')"
   ]
  },
  {
   "cell_type": "code",
   "execution_count": 288,
   "metadata": {},
   "outputs": [
    {
     "data": {
      "text/plain": [
       "'/wiki/Pythia'"
      ]
     },
     "execution_count": 288,
     "metadata": {},
     "output_type": "execute_result"
    }
   ],
   "source": [
    "soup.find_all('a')[3][\"href\"]"
   ]
  },
  {
   "cell_type": "code",
   "execution_count": 289,
   "metadata": {},
   "outputs": [],
   "source": [
    "table = soup.find_all('a')"
   ]
  },
  {
   "cell_type": "code",
   "execution_count": 290,
   "metadata": {},
   "outputs": [
    {
     "data": {
      "text/plain": [
       "'/wiki/Pythia'"
      ]
     },
     "execution_count": 290,
     "metadata": {},
     "output_type": "execute_result"
    }
   ],
   "source": [
    "table[3][\"href\"]"
   ]
  },
  {
   "cell_type": "code",
   "execution_count": 291,
   "metadata": {},
   "outputs": [
    {
     "data": {
      "text/plain": [
       "286"
      ]
     },
     "execution_count": 291,
     "metadata": {},
     "output_type": "execute_result"
    }
   ],
   "source": [
    "len(table)"
   ]
  },
  {
   "cell_type": "code",
   "execution_count": 292,
   "metadata": {},
   "outputs": [
    {
     "data": {
      "text/plain": [
       "['/wiki/Pythia',\n",
       " '/wiki/Python_(disambiguation)',\n",
       " '/wiki/File:Apollo_dan_Pithon.jpg',\n",
       " '/wiki/File:Apollo_dan_Pithon.jpg',\n",
       " '/wiki/Apollo',\n",
       " '/wiki/Virgil_Solis',\n",
       " '/wiki/Ovid',\n",
       " '/wiki/Metamorphoses',\n",
       " '/wiki/Greek_mythology',\n",
       " '/wiki/Greek_language',\n",
       " '/wiki/Genitive_case',\n",
       " '/wiki/Serpent_(symbolism)',\n",
       " '/wiki/Medieval',\n",
       " '/wiki/Dragon',\n",
       " '/wiki/Earth',\n",
       " '/wiki/Delphi',\n",
       " '/wiki/Pythia',\n",
       " '/wiki/Gaia_(mythology)',\n",
       " '/wiki/Axis_mundi#Places',\n",
       " '/wiki/Omphalos',\n",
       " '/wiki/Chthonic',\n",
       " '/wiki/Apollo',\n",
       " '/wiki/File:Pietro_Francavilla_-_Apollo_Victorious_over_the_Python_-_Walters_27302.jpg',\n",
       " '/wiki/File:Pietro_Francavilla_-_Apollo_Victorious_over_the_Python_-_Walters_27302.jpg',\n",
       " '/wiki/Homeric_Hymn',\n",
       " '/wiki/Drakaina_(mythology)',\n",
       " '/wiki/Gaius_Julius_Hyginus',\n",
       " '/wiki/Zeus',\n",
       " '/wiki/Leto',\n",
       " '/wiki/Artemis',\n",
       " '/wiki/Hera',\n",
       " '/wiki/Mount_Parnassus',\n",
       " '/wiki/Robert_Graves',\n",
       " '/wiki/Greeks',\n",
       " '/wiki/Clearchus_of_Soli',\n",
       " '/wiki/Sacrilege',\n",
       " '/wiki/Pythian_Games',\n",
       " '/wiki/Erwin_Rohde',\n",
       " '/wiki/Delphi',\n",
       " '/wiki/Hyperion_(mythology)',\n",
       " '/wiki/Helios',\n",
       " '/wiki/Karl_Kerenyi',\n",
       " '/wiki/Delphyne',\n",
       " '/wiki/Typhon',\n",
       " '/wiki/Titanomachy',\n",
       " '/wiki/Daemon_(classical_mythology)',\n",
       " '/wiki/Minoan_civilization',\n",
       " '/wiki/Python_(genus)',\n",
       " '/wiki/Pythonidae',\n",
       " '/wiki/File:Barcelona_221.JPG',\n",
       " '/wiki/File:Barcelona_221.JPG',\n",
       " '/wiki/Apollo_Belvedere',\n",
       " '/wiki/Dragons_in_Greek_mythology',\n",
       " '/wiki/Pythia',\n",
       " '/wiki/Serpent_(symbolism)',\n",
       " '/wiki/Saint_George_and_the_Dragon',\n",
       " '/wiki/Analogy_of_the_sun',\n",
       " '/wiki/Yamata_no_Orochi',\n",
       " '/wiki/Telphousa',\n",
       " '/wiki/Parnassus',\n",
       " '/wiki/Dodona',\n",
       " '/wiki/The_Walters_Art_Museum',\n",
       " '/wiki/Walter_Burkert',\n",
       " '/wiki/A_Greek%E2%80%93English_Lexicon',\n",
       " '/wiki/A_Greek%E2%80%93English_Lexicon',\n",
       " '/wiki/Henry_Liddell',\n",
       " '/wiki/Robert_Scott_(philologist)',\n",
       " '/wiki/Athena',\n",
       " '/wiki/Hittites',\n",
       " '/wiki/Illuyankas',\n",
       " '/wiki/Leviathan',\n",
       " 'https://en.wikisource.org/wiki/The_Encyclopedia_Americana_(1920)/Python_(mythology)',\n",
       " '/wiki/Encyclopedia_Americana',\n",
       " 'https://commons.wikimedia.org/wiki/Category:Python_(mythology)',\n",
       " '/wiki/Wikisource',\n",
       " '/wiki/Encyclop%C3%A6dia_Britannica_Eleventh_Edition',\n",
       " 'https://en.wikisource.org/wiki/1911_Encyclop%C3%A6dia_Britannica/Python_(mythology)',\n",
       " '/wiki/Walter_Burkert',\n",
       " '/wiki/Joseph_Fontenrose',\n",
       " '/wiki/Manly_Palmer_Hall',\n",
       " '/wiki/Jane_Ellen_Harrison',\n",
       " '/wiki/Karl_Kerenyi',\n",
       " '/wiki/Clearchus_of_Soli',\n",
       " '/wiki/Routledge',\n",
       " '/wiki/ISBN_(identifier)',\n",
       " '/wiki/Special:BookSources/978-0-367-70681-4',\n",
       " '/wiki/Oxford_University_Press',\n",
       " '/wiki/ISBN_(identifier)',\n",
       " '/wiki/Special:BookSources/978-0-19-955732-5',\n",
       " '/wiki/Erwin_Rohde',\n",
       " '/wiki/William_Smith_(lexicographer)',\n",
       " '/wiki/Dictionary_of_Greek_and_Roman_Biography_and_Mythology',\n",
       " '/wiki/Help:Authority_control',\n",
       " 'https://www.wikidata.org/wiki/Q15721#identifiers',\n",
       " '/wiki/VIAF_(identifier)',\n",
       " '/wiki/SUDOC_(identifier)',\n",
       " 'https://en.wikipedia.org/w/index.php?title=Python_(mythology)&oldid=1113437408',\n",
       " '/wiki/Help:Category',\n",
       " '/wiki/Category:Greek_dragons',\n",
       " '/wiki/Category:World-bearing_animals',\n",
       " '/wiki/Category:Children_of_Gaia',\n",
       " '/wiki/Category:Deeds_of_Apollo',\n",
       " '/wiki/Category:Ancient_Delphi',\n",
       " '/wiki/Category:Legendary_serpents',\n",
       " '/wiki/Category:Deeds_of_Hera',\n",
       " '/wiki/Category:Leto',\n",
       " '/wiki/Category:Articles_containing_Ancient_Greek_(to_1453)-language_text',\n",
       " '/wiki/Category:Wikipedia_articles_incorporating_a_citation_from_the_Encyclopedia_Americana_with_a_Wikisource_reference',\n",
       " '/wiki/Category:Articles_with_short_description',\n",
       " '/wiki/Category:Short_description_is_different_from_Wikidata',\n",
       " '/wiki/Category:Articles_containing_Greek-language_text',\n",
       " '/wiki/Category:Commons_category_link_is_on_Wikidata',\n",
       " '/wiki/Category:Articles_with_VIAF_identifiers',\n",
       " '/wiki/Category:Articles_with_WORLDCATID_identifiers',\n",
       " '/wiki/Category:Articles_with_GND_identifiers',\n",
       " '/wiki/Category:Articles_with_SUDOC_identifiers',\n",
       " '/wiki/Category:Articles_with_multiple_identifiers',\n",
       " '/wiki/Special:MyTalk',\n",
       " '/wiki/Special:MyContributions',\n",
       " '/wiki/Python_(mythology)',\n",
       " '/wiki/Talk:Python_(mythology)',\n",
       " '/wiki/Python_(mythology)',\n",
       " '/wiki/Main_Page',\n",
       " '/wiki/Main_Page',\n",
       " '/wiki/Wikipedia:Contents',\n",
       " '/wiki/Portal:Current_events',\n",
       " '/wiki/Special:Random',\n",
       " '/wiki/Wikipedia:About',\n",
       " '//en.wikipedia.org/wiki/Wikipedia:Contact_us',\n",
       " 'https://donate.wikimedia.org/wiki/Special:FundraiserRedirector?utm_source=donate&utm_medium=sidebar&utm_campaign=C13_en.wikipedia.org&uselang=en',\n",
       " '/wiki/Help:Contents',\n",
       " '/wiki/Help:Introduction',\n",
       " '/wiki/Wikipedia:Community_portal',\n",
       " '/wiki/Special:RecentChanges',\n",
       " '/wiki/Wikipedia:File_Upload_Wizard',\n",
       " '/wiki/Special:WhatLinksHere/Python_(mythology)',\n",
       " '/wiki/Special:RecentChangesLinked/Python_(mythology)',\n",
       " '/wiki/Wikipedia:File_Upload_Wizard',\n",
       " '/wiki/Special:SpecialPages',\n",
       " 'https://www.wikidata.org/wiki/Special:EntityPage/Q15721',\n",
       " 'https://commons.wikimedia.org/wiki/Category:Python_(mythology)',\n",
       " 'https://af.wikipedia.org/wiki/Piton',\n",
       " 'https://az.wikipedia.org/wiki/Pithon',\n",
       " 'https://be.wikipedia.org/wiki/%D0%9F%D1%96%D1%84%D0%BE%D0%BD',\n",
       " 'https://bg.wikipedia.org/wiki/%D0%9F%D0%B8%D1%82%D0%BE%D0%BD_(%D0%BC%D0%B8%D1%82%D0%BE%D0%BB%D0%BE%D0%B3%D0%B8%D1%8F)',\n",
       " 'https://br.wikipedia.org/wiki/Python_(aerouant)',\n",
       " 'https://ca.wikipedia.org/wiki/Pit%C3%B3_(mitologia)',\n",
       " 'https://cs.wikipedia.org/wiki/P%C3%BDth%C3%B3n',\n",
       " 'https://da.wikipedia.org/wiki/Python_(mytologi)',\n",
       " 'https://de.wikipedia.org/wiki/Python_(Mythologie)',\n",
       " 'https://et.wikipedia.org/wiki/Python',\n",
       " 'https://el.wikipedia.org/wiki/%CE%A0%CF%8D%CE%B8%CF%89%CE%BD_(%CE%BC%CF%85%CE%B8%CE%BF%CE%BB%CE%BF%CE%B3%CE%AF%CE%B1)',\n",
       " 'https://es.wikipedia.org/wiki/Pit%C3%B3n_(mitolog%C3%ADa)',\n",
       " 'https://eo.wikipedia.org/wiki/Pitono_(mitologio)',\n",
       " 'https://eu.wikipedia.org/wiki/Piton',\n",
       " 'https://fa.wikipedia.org/wiki/%D9%BE%D8%A7%DB%8C%D8%AA%D9%88%D9%86_(%D8%A7%D8%B3%D8%B7%D9%88%D8%B1%D9%87)',\n",
       " 'https://fr.wikipedia.org/wiki/Python_(mythologie)',\n",
       " 'https://gl.wikipedia.org/wiki/Pit%C3%B3n_(mitolox%C3%ADa)',\n",
       " 'https://ko.wikipedia.org/wiki/%ED%94%BC%ED%86%A4',\n",
       " 'https://hr.wikipedia.org/wiki/Piton_(mitologija)',\n",
       " 'https://id.wikipedia.org/wiki/Pithon_(mitologi)',\n",
       " 'https://it.wikipedia.org/wiki/Pitone_(mitologia)',\n",
       " 'https://la.wikipedia.org/wiki/Python_(mythologia)',\n",
       " 'https://lb.wikipedia.org/wiki/Python_(Mythologie)',\n",
       " 'https://lt.wikipedia.org/wiki/Pitonas_(mitologija)',\n",
       " 'https://hu.wikipedia.org/wiki/P%C3%BCth%C3%B3n',\n",
       " 'https://nl.wikipedia.org/wiki/Python_(mythologie)',\n",
       " 'https://ja.wikipedia.org/wiki/%E3%83%94%E3%83%A5%E3%83%BC%E3%83%88%E3%83%BC%E3%83%B3',\n",
       " 'https://no.wikipedia.org/wiki/Python_(mytologi)',\n",
       " 'https://pl.wikipedia.org/wiki/Pyton_(mitologia)',\n",
       " 'https://pt.wikipedia.org/wiki/P%C3%ADton_(mitologia)',\n",
       " 'https://ro.wikipedia.org/wiki/Python_(mitologie)',\n",
       " 'https://ru.wikipedia.org/wiki/%D0%9F%D0%B8%D1%84%D0%BE%D0%BD',\n",
       " 'https://sq.wikipedia.org/wiki/Pithoni',\n",
       " 'https://simple.wikipedia.org/wiki/Python_(mythology)',\n",
       " 'https://sl.wikipedia.org/wiki/Piton_(mitologija)',\n",
       " 'https://sr.wikipedia.org/wiki/%D0%9F%D0%B8%D1%82%D0%BE%D0%BD_(%D0%BC%D0%B8%D1%82%D0%BE%D0%BB%D0%BE%D0%B3%D0%B8%D1%98%D0%B0)',\n",
       " 'https://fi.wikipedia.org/wiki/Python_(hirvi%C3%B6)',\n",
       " 'https://sv.wikipedia.org/wiki/Python_(mytologi)',\n",
       " 'https://tr.wikipedia.org/wiki/Pithon',\n",
       " 'https://uk.wikipedia.org/wiki/%D0%9F%D1%96%D1%84%D0%BE%D0%BD_(%D0%BC%D1%96%D1%84%D0%BE%D0%BB%D0%BE%D0%B3%D1%96%D1%8F)',\n",
       " 'https://vi.wikipedia.org/wiki/Python_(th%E1%BA%A7n_tho%E1%BA%A1i)',\n",
       " 'https://zh.wikipedia.org/wiki/%E7%9A%AE%E5%90%8C',\n",
       " 'https://www.wikidata.org/wiki/Special:EntityPage/Q15721#sitelinks-wikipedia',\n",
       " '//en.wikipedia.org/wiki/Wikipedia:Text_of_Creative_Commons_Attribution-ShareAlike_3.0_Unported_License',\n",
       " '//foundation.wikimedia.org/wiki/Terms_of_Use',\n",
       " '//foundation.wikimedia.org/wiki/Privacy_policy',\n",
       " '//www.wikimediafoundation.org/',\n",
       " 'https://foundation.wikimedia.org/wiki/Privacy_policy',\n",
       " '/wiki/Wikipedia:About',\n",
       " '/wiki/Wikipedia:General_disclaimer',\n",
       " '//en.wikipedia.org/wiki/Wikipedia:Contact_us',\n",
       " '//en.m.wikipedia.org/w/index.php?title=Python_(mythology)&mobileaction=toggle_view_mobile',\n",
       " 'https://developer.wikimedia.org',\n",
       " 'https://stats.wikimedia.org/#/en.wikipedia.org',\n",
       " 'https://foundation.wikimedia.org/wiki/Cookie_statement',\n",
       " 'https://wikimediafoundation.org/',\n",
       " 'https://www.mediawiki.org/']"
      ]
     },
     "execution_count": 292,
     "metadata": {},
     "output_type": "execute_result"
    }
   ],
   "source": [
    "lst= []\n",
    "for i in range(len(table)):\n",
    "    try :\n",
    "    \n",
    "        if \"wiki\" in table[i][\"href\"]:\n",
    "            lst.append(table[i][\"href\"])\n",
    "    except:\n",
    "        None\n",
    "lst\n",
    "        \n"
   ]
  },
  {
   "cell_type": "markdown",
   "metadata": {},
   "source": [
    "#### Number of Titles that have changed in the United States Code since its last release point "
   ]
  },
  {
   "cell_type": "code",
   "execution_count": 148,
   "metadata": {},
   "outputs": [],
   "source": [
    "# This is the url you will scrape in this exercise\n",
    "url = 'http://uscode.house.gov/download/download.shtml'"
   ]
  },
  {
   "cell_type": "code",
   "execution_count": 154,
   "metadata": {},
   "outputs": [
    {
     "data": {
      "text/plain": [
       "9"
      ]
     },
     "execution_count": 154,
     "metadata": {},
     "output_type": "execute_result"
    }
   ],
   "source": [
    "#your code\n",
    "html = requests.get(url).content\n",
    "soup=bs(html, 'html.parser')\n",
    "soup.find_all('div',class_ = 'usctitlechanged')\n",
    "table = soup.find_all('div',class_ = 'usctitlechanged')\n",
    "len(table)"
   ]
  },
  {
   "cell_type": "markdown",
   "metadata": {},
   "source": [
    "#### A Python list with the top ten FBI's Most Wanted names "
   ]
  },
  {
   "cell_type": "code",
   "execution_count": 165,
   "metadata": {},
   "outputs": [],
   "source": [
    "# This is the url you will scrape in this exercise\n",
    "url = 'https://www.fbi.gov/wanted/topten'"
   ]
  },
  {
   "cell_type": "code",
   "execution_count": 178,
   "metadata": {},
   "outputs": [
    {
     "data": {
      "text/plain": [
       "['OMAR ALEXANDER CARDENAS',\n",
       " 'ALEXIS FLORES',\n",
       " 'JOSE RODOLFO VILLARREAL-HERNANDEZ',\n",
       " 'YULAN ADONAY ARCHAGA CARIAS',\n",
       " 'BHADRESHKUMAR CHETANBHAI PATEL',\n",
       " 'ALEJANDRO ROSALES CASTILLO',\n",
       " 'MICHAEL JAMES PRATT',\n",
       " 'RUJA IGNATOVA',\n",
       " 'ARNOLDO JIMENEZ',\n",
       " 'RAFAEL CARO-QUINTERO']"
      ]
     },
     "execution_count": 178,
     "metadata": {},
     "output_type": "execute_result"
    }
   ],
   "source": [
    "#your code \n",
    "html = requests.get(url).content\n",
    "soup=bs(html, 'html.parser')\n",
    "tabla = soup.find_all('h3', class_ = 'title')\n",
    "tabla[0](\"a\")[0].text\n",
    "lst = []\n",
    "for i in range (len(tabla)):\n",
    "    lst.append(tabla[i](\"a\")[0].text)\n",
    "    "
   ]
  },
  {
   "cell_type": "markdown",
   "metadata": {},
   "source": [
    "####  20 latest earthquakes info (date, time, latitude, longitude and region name) by the EMSC as a pandas dataframe"
   ]
  },
  {
   "cell_type": "code",
   "execution_count": 182,
   "metadata": {},
   "outputs": [],
   "source": [
    "# This is the url you will scrape in this exercise\n",
    "url = 'https://www.emsc-csem.org/Earthquake/'"
   ]
  },
  {
   "cell_type": "code",
   "execution_count": 183,
   "metadata": {},
   "outputs": [],
   "source": [
    "#your code\n",
    "html = requests.get(url).content\n",
    "soup=bs(html, 'html.parser')\n"
   ]
  },
  {
   "cell_type": "code",
   "execution_count": 186,
   "metadata": {},
   "outputs": [],
   "source": [
    "table = soup.find_all(\"tbody\",id = \"tbody\")"
   ]
  },
  {
   "cell_type": "code",
   "execution_count": 249,
   "metadata": {},
   "outputs": [
    {
     "data": {
      "text/plain": [
       "'2022-11-08/15:08:28.5'"
      ]
     },
     "execution_count": 249,
     "metadata": {},
     "output_type": "execute_result"
    }
   ],
   "source": [
    "table[0](\"tr\")[0](\"td\")[3](\"a\")[0].text.replace(\"\\xa0\",\" \").replace(\"   \",\"/\")"
   ]
  },
  {
   "cell_type": "code",
   "execution_count": 236,
   "metadata": {},
   "outputs": [
    {
     "data": {
      "text/plain": [
       "'19.54'"
      ]
     },
     "execution_count": 236,
     "metadata": {},
     "output_type": "execute_result"
    }
   ],
   "source": [
    "table[0](\"tr\")[0](\"td\")[4].text.replace(\"\\xa0\",\"\") #latitud"
   ]
  },
  {
   "cell_type": "code",
   "execution_count": 237,
   "metadata": {},
   "outputs": [
    {
     "data": {
      "text/plain": [
       "'156.04'"
      ]
     },
     "execution_count": 237,
     "metadata": {},
     "output_type": "execute_result"
    }
   ],
   "source": [
    "table[0](\"tr\")[0](\"td\")[6].text.replace(\"\\xa0\",\"\")"
   ]
  },
  {
   "cell_type": "code",
   "execution_count": 254,
   "metadata": {},
   "outputs": [
    {
     "data": {
      "text/plain": [
       "'NEVADA'"
      ]
     },
     "execution_count": 254,
     "metadata": {},
     "output_type": "execute_result"
    }
   ],
   "source": [
    "table[0](\"tr\")[12](\"td\")[11].text.replace(\"\\xa0\",\"\")"
   ]
  },
  {
   "cell_type": "code",
   "execution_count": 271,
   "metadata": {},
   "outputs": [],
   "source": [
    "lst= []\n",
    "\n",
    "\n",
    "for i in range(20):\n",
    "    datetime = table[0](\"tr\")[i](\"td\")[3](\"a\")[0].text.replace(\"\\xa0\",\" \").replace(\"   \",\"/\")\n",
    "    latitude = table[0](\"tr\")[i](\"td\")[4].text.replace(\"\\xa0\",\"\") #latitud\n",
    "    longitud = table[0](\"tr\")[i](\"td\")[6].text.replace(\"\\xa0\",\"\")\n",
    "    region_name = table[0](\"tr\")[i](\"td\")[11].text.replace(\"\\xa0\",\"\")\n",
    "    lst.append({'datetime': datetime,\n",
    "                         'latitude': latitude,\n",
    "                         'longitud': longitud,\n",
    "                         'region_name': region_name})\n",
    "df =pd.DataFrame(lst)"
   ]
  },
  {
   "cell_type": "code",
   "execution_count": 273,
   "metadata": {},
   "outputs": [],
   "source": [
    "def limpiar(string):\n",
    "    try:\n",
    "        \n",
    "        return string.split(\"/\")\n",
    "    except: \n",
    "        return [np.nan , np.nan]"
   ]
  },
  {
   "cell_type": "code",
   "execution_count": 274,
   "metadata": {},
   "outputs": [],
   "source": [
    "lst = []\n",
    "for e in df.datetime:\n",
    "    lst.append(limpiar(e))"
   ]
  },
  {
   "cell_type": "code",
   "execution_count": 275,
   "metadata": {},
   "outputs": [],
   "source": [
    "df[[\"date\",\"time\"]]= lst"
   ]
  },
  {
   "cell_type": "code",
   "execution_count": 282,
   "metadata": {},
   "outputs": [
    {
     "data": {
      "text/html": [
       "<div>\n",
       "<style scoped>\n",
       "    .dataframe tbody tr th:only-of-type {\n",
       "        vertical-align: middle;\n",
       "    }\n",
       "\n",
       "    .dataframe tbody tr th {\n",
       "        vertical-align: top;\n",
       "    }\n",
       "\n",
       "    .dataframe thead th {\n",
       "        text-align: right;\n",
       "    }\n",
       "</style>\n",
       "<table border=\"1\" class=\"dataframe\">\n",
       "  <thead>\n",
       "    <tr style=\"text-align: right;\">\n",
       "      <th></th>\n",
       "      <th>latitude</th>\n",
       "      <th>longitud</th>\n",
       "      <th>region_name</th>\n",
       "      <th>date</th>\n",
       "      <th>time</th>\n",
       "    </tr>\n",
       "  </thead>\n",
       "  <tbody>\n",
       "    <tr>\n",
       "      <th>0</th>\n",
       "      <td>19.54</td>\n",
       "      <td>156.04</td>\n",
       "      <td>HAWAII REGION, HAWAII</td>\n",
       "      <td>2022-11-08</td>\n",
       "      <td>15:08:28.5</td>\n",
       "    </tr>\n",
       "    <tr>\n",
       "      <th>1</th>\n",
       "      <td>2.83</td>\n",
       "      <td>129.77</td>\n",
       "      <td>SERAM, INDONESIA</td>\n",
       "      <td>2022-11-08</td>\n",
       "      <td>14:50:48.0</td>\n",
       "    </tr>\n",
       "    <tr>\n",
       "      <th>2</th>\n",
       "      <td>22.26</td>\n",
       "      <td>68.73</td>\n",
       "      <td>ANTOFAGASTA, CHILE</td>\n",
       "      <td>2022-11-08</td>\n",
       "      <td>14:49:11.0</td>\n",
       "    </tr>\n",
       "    <tr>\n",
       "      <th>3</th>\n",
       "      <td>39.16</td>\n",
       "      <td>0.30</td>\n",
       "      <td>SPAIN</td>\n",
       "      <td>2022-11-08</td>\n",
       "      <td>14:43:44.8</td>\n",
       "    </tr>\n",
       "    <tr>\n",
       "      <th>4</th>\n",
       "      <td>52.38</td>\n",
       "      <td>179.40</td>\n",
       "      <td>ANDREANOF ISLANDS, ALEUTIAN IS.</td>\n",
       "      <td>2022-11-08</td>\n",
       "      <td>14:38:45.6</td>\n",
       "    </tr>\n",
       "    <tr>\n",
       "      <th>5</th>\n",
       "      <td>15.42</td>\n",
       "      <td>120.83</td>\n",
       "      <td>LUZON, PHILIPPINES</td>\n",
       "      <td>2022-11-08</td>\n",
       "      <td>14:30:02.4</td>\n",
       "    </tr>\n",
       "    <tr>\n",
       "      <th>6</th>\n",
       "      <td>35.80</td>\n",
       "      <td>73.28</td>\n",
       "      <td>OFFSHORE MAULE, CHILE</td>\n",
       "      <td>2022-11-08</td>\n",
       "      <td>14:26:07.0</td>\n",
       "    </tr>\n",
       "    <tr>\n",
       "      <th>7</th>\n",
       "      <td>8.95</td>\n",
       "      <td>84.19</td>\n",
       "      <td>OFF COAST OF COSTA RICA</td>\n",
       "      <td>2022-11-08</td>\n",
       "      <td>14:24:30.0</td>\n",
       "    </tr>\n",
       "    <tr>\n",
       "      <th>8</th>\n",
       "      <td>2.97</td>\n",
       "      <td>122.17</td>\n",
       "      <td>SULAWESI, INDONESIA</td>\n",
       "      <td>2022-11-08</td>\n",
       "      <td>14:20:38.0</td>\n",
       "    </tr>\n",
       "    <tr>\n",
       "      <th>9</th>\n",
       "      <td>40.08</td>\n",
       "      <td>119.41</td>\n",
       "      <td>NEVADA</td>\n",
       "      <td>2022-11-08</td>\n",
       "      <td>13:42:34.5</td>\n",
       "    </tr>\n",
       "    <tr>\n",
       "      <th>10</th>\n",
       "      <td>34.76</td>\n",
       "      <td>72.12</td>\n",
       "      <td>OFFSHORE MAULE, CHILE</td>\n",
       "      <td>2022-11-08</td>\n",
       "      <td>13:09:18.0</td>\n",
       "    </tr>\n",
       "    <tr>\n",
       "      <th>11</th>\n",
       "      <td>31.05</td>\n",
       "      <td>71.36</td>\n",
       "      <td>COQUIMBO, CHILE</td>\n",
       "      <td>2022-11-08</td>\n",
       "      <td>13:05:57.0</td>\n",
       "    </tr>\n",
       "    <tr>\n",
       "      <th>12</th>\n",
       "      <td>40.17</td>\n",
       "      <td>119.15</td>\n",
       "      <td>NEVADA</td>\n",
       "      <td>2022-11-08</td>\n",
       "      <td>12:53:04.3</td>\n",
       "    </tr>\n",
       "    <tr>\n",
       "      <th>13</th>\n",
       "      <td>19.34</td>\n",
       "      <td>155.21</td>\n",
       "      <td>ISLAND OF HAWAII, HAWAII</td>\n",
       "      <td>2022-11-08</td>\n",
       "      <td>12:26:00.3</td>\n",
       "    </tr>\n",
       "    <tr>\n",
       "      <th>14</th>\n",
       "      <td>4.72</td>\n",
       "      <td>101.71</td>\n",
       "      <td>SOUTHERN SUMATRA, INDONESIA</td>\n",
       "      <td>2022-11-08</td>\n",
       "      <td>12:13:59.0</td>\n",
       "    </tr>\n",
       "    <tr>\n",
       "      <th>15</th>\n",
       "      <td>29.88</td>\n",
       "      <td>68.41</td>\n",
       "      <td>SAN JUAN, ARGENTINA</td>\n",
       "      <td>2022-11-08</td>\n",
       "      <td>12:05:36.9</td>\n",
       "    </tr>\n",
       "    <tr>\n",
       "      <th>16</th>\n",
       "      <td>31.66</td>\n",
       "      <td>104.40</td>\n",
       "      <td>WESTERN TEXAS</td>\n",
       "      <td>2022-11-08</td>\n",
       "      <td>11:57:11.4</td>\n",
       "    </tr>\n",
       "    <tr>\n",
       "      <th>17</th>\n",
       "      <td>12.05</td>\n",
       "      <td>87.75</td>\n",
       "      <td>NEAR COAST OF NICARAGUA</td>\n",
       "      <td>2022-11-08</td>\n",
       "      <td>11:47:14.0</td>\n",
       "    </tr>\n",
       "    <tr>\n",
       "      <th>18</th>\n",
       "      <td>24.12</td>\n",
       "      <td>67.55</td>\n",
       "      <td>SALTA, ARGENTINA</td>\n",
       "      <td>2022-11-08</td>\n",
       "      <td>11:45:08.0</td>\n",
       "    </tr>\n",
       "    <tr>\n",
       "      <th>19</th>\n",
       "      <td>19.07</td>\n",
       "      <td>67.74</td>\n",
       "      <td>PUERTO RICO REGION</td>\n",
       "      <td>2022-11-08</td>\n",
       "      <td>11:42:32.9</td>\n",
       "    </tr>\n",
       "  </tbody>\n",
       "</table>\n",
       "</div>"
      ],
      "text/plain": [
       "   latitude longitud                      region_name        date        time\n",
       "0     19.54   156.04            HAWAII REGION, HAWAII  2022-11-08  15:08:28.5\n",
       "1      2.83   129.77                 SERAM, INDONESIA  2022-11-08  14:50:48.0\n",
       "2     22.26    68.73               ANTOFAGASTA, CHILE  2022-11-08  14:49:11.0\n",
       "3     39.16     0.30                            SPAIN  2022-11-08  14:43:44.8\n",
       "4     52.38   179.40  ANDREANOF ISLANDS, ALEUTIAN IS.  2022-11-08  14:38:45.6\n",
       "5     15.42   120.83               LUZON, PHILIPPINES  2022-11-08  14:30:02.4\n",
       "6     35.80    73.28            OFFSHORE MAULE, CHILE  2022-11-08  14:26:07.0\n",
       "7      8.95    84.19          OFF COAST OF COSTA RICA  2022-11-08  14:24:30.0\n",
       "8      2.97   122.17              SULAWESI, INDONESIA  2022-11-08  14:20:38.0\n",
       "9     40.08   119.41                           NEVADA  2022-11-08  13:42:34.5\n",
       "10    34.76    72.12            OFFSHORE MAULE, CHILE  2022-11-08  13:09:18.0\n",
       "11    31.05    71.36                  COQUIMBO, CHILE  2022-11-08  13:05:57.0\n",
       "12    40.17   119.15                           NEVADA  2022-11-08  12:53:04.3\n",
       "13    19.34   155.21         ISLAND OF HAWAII, HAWAII  2022-11-08  12:26:00.3\n",
       "14     4.72   101.71      SOUTHERN SUMATRA, INDONESIA  2022-11-08  12:13:59.0\n",
       "15    29.88    68.41              SAN JUAN, ARGENTINA  2022-11-08  12:05:36.9\n",
       "16    31.66   104.40                    WESTERN TEXAS  2022-11-08  11:57:11.4\n",
       "17    12.05    87.75          NEAR COAST OF NICARAGUA  2022-11-08  11:47:14.0\n",
       "18    24.12    67.55                 SALTA, ARGENTINA  2022-11-08  11:45:08.0\n",
       "19    19.07    67.74               PUERTO RICO REGION  2022-11-08  11:42:32.9"
      ]
     },
     "execution_count": 282,
     "metadata": {},
     "output_type": "execute_result"
    }
   ],
   "source": [
    "import pandas as pd\n",
    "df.drop(columns = \"datetime\")"
   ]
  },
  {
   "cell_type": "code",
   "execution_count": 266,
   "metadata": {},
   "outputs": [
    {
     "data": {
      "text/plain": [
       "<tr class=\"ligne1 normal\" id=\"1186849\" onclick=\"go_details(event,1186849);\"><td class=\"tabev0\"></td><td class=\"tabev0\"></td><td class=\"tabev0\"><span class=\"intensity\" onclick=\"go_details(event,null,'https://www.emsc-csem.org/Earthquake/popup_intensmap.php?id=1186849&amp;f=/FELTREPORTS/118/1186849/IntensityMap.png');\" onmouseout=\"info_b2('notshow','');\" onmouseover=\"info_b2('show','See the &lt;b&gt; Intensity map&lt;/b&gt;');\" style=\"background-color:#FFFFFF;\">F</span></td><td class=\"tabev6\"><b><i style=\"display:none;\">earthquake</i><a href=\"/Earthquake/earthquake.php?id=1186849\">2022-11-08   15:08:28.5</a></b><i class=\"ago\" id=\"ago0\">08min ago</i></td><td class=\"tabev1\">19.54 </td><td class=\"tabev2\">N  </td><td class=\"tabev1\">156.04 </td><td class=\"tabev2\">W  </td><td class=\"tabev3\">3</td><td class=\"tabev5\" id=\"magtyp0\">Md</td><td class=\"tabev2\">2.5</td><td class=\"tb_region\" id=\"reg0\"> HAWAII REGION, HAWAII</td><td class=\"comment updatetimeno\" id=\"upd0\" style=\"text-align:right;\">2022-11-08 15:11</td></tr>"
      ]
     },
     "execution_count": 266,
     "metadata": {},
     "output_type": "execute_result"
    }
   ],
   "source": [
    "table[0](\"tr\")"
   ]
  },
  {
   "cell_type": "markdown",
   "metadata": {},
   "source": [
    "#### Display the date, days, title, city, country of next 25 hackathon events as a Pandas dataframe table"
   ]
  },
  {
   "cell_type": "code",
   "execution_count": null,
   "metadata": {},
   "outputs": [],
   "source": [
    "# This is the url you will scrape in this exercise\n",
    "url ='https://hackevents.co/hackathons'"
   ]
  },
  {
   "cell_type": "code",
   "execution_count": null,
   "metadata": {},
   "outputs": [],
   "source": [
    "#your code"
   ]
  },
  {
   "cell_type": "markdown",
   "metadata": {},
   "source": [
    "#### Count number of tweets by a given Twitter account."
   ]
  },
  {
   "cell_type": "markdown",
   "metadata": {},
   "source": [
    "You will need to include a ***try/except block*** for account names not found. \n",
    "<br>***Hint:*** the program should count the number of tweets for any provided account"
   ]
  },
  {
   "cell_type": "code",
   "execution_count": null,
   "metadata": {},
   "outputs": [],
   "source": [
    "# This is the url you will scrape in this exercise \n",
    "# You will need to add the account credentials to this url\n",
    "url = 'https://twitter.com/'"
   ]
  },
  {
   "cell_type": "code",
   "execution_count": null,
   "metadata": {},
   "outputs": [],
   "source": [
    "#your code\n"
   ]
  },
  {
   "cell_type": "markdown",
   "metadata": {},
   "source": [
    "#### Number of followers of a given twitter account"
   ]
  },
  {
   "cell_type": "markdown",
   "metadata": {},
   "source": [
    "You will need to include a ***try/except block*** in case account/s name not found. \n",
    "<br>***Hint:*** the program should count the followers for any provided account"
   ]
  },
  {
   "cell_type": "code",
   "execution_count": null,
   "metadata": {},
   "outputs": [],
   "source": [
    "# This is the url you will scrape in this exercise \n",
    "# You will need to add the account credentials to this url\n",
    "url = 'https://twitter.com/'"
   ]
  },
  {
   "cell_type": "code",
   "execution_count": null,
   "metadata": {},
   "outputs": [],
   "source": [
    "#your code"
   ]
  },
  {
   "cell_type": "markdown",
   "metadata": {},
   "source": [
    "#### List all language names and number of related articles in the order they appear in wikipedia.org"
   ]
  },
  {
   "cell_type": "code",
   "execution_count": 296,
   "metadata": {},
   "outputs": [],
   "source": [
    "# This is the url you will scrape in this exercise\n",
    "url = 'https://www.wikipedia.org/'"
   ]
  },
  {
   "cell_type": "code",
   "execution_count": 297,
   "metadata": {},
   "outputs": [],
   "source": [
    "#your code\n",
    "html = requests.get(url).content\n",
    "soup=bs(html, 'html.parser')"
   ]
  },
  {
   "cell_type": "code",
   "execution_count": 299,
   "metadata": {},
   "outputs": [],
   "source": [
    "table = soup.find_all('a',class_ = \"link-box\")"
   ]
  },
  {
   "cell_type": "code",
   "execution_count": 306,
   "metadata": {},
   "outputs": [
    {
     "data": {
      "text/plain": [
       "'English'"
      ]
     },
     "execution_count": 306,
     "metadata": {},
     "output_type": "execute_result"
    }
   ],
   "source": [
    "table[0].text.split()[0]"
   ]
  },
  {
   "cell_type": "code",
   "execution_count": 314,
   "metadata": {},
   "outputs": [
    {
     "data": {
      "text/plain": [
       "'6458000+ articles'"
      ]
     },
     "execution_count": 314,
     "metadata": {},
     "output_type": "execute_result"
    }
   ],
   "source": [
    "table[0](\"small\")[0].text.replace(\"\\xa0\",\"\")"
   ]
  },
  {
   "cell_type": "code",
   "execution_count": 318,
   "metadata": {},
   "outputs": [
    {
     "data": {
      "text/html": [
       "<div>\n",
       "<style scoped>\n",
       "    .dataframe tbody tr th:only-of-type {\n",
       "        vertical-align: middle;\n",
       "    }\n",
       "\n",
       "    .dataframe tbody tr th {\n",
       "        vertical-align: top;\n",
       "    }\n",
       "\n",
       "    .dataframe thead th {\n",
       "        text-align: right;\n",
       "    }\n",
       "</style>\n",
       "<table border=\"1\" class=\"dataframe\">\n",
       "  <thead>\n",
       "    <tr style=\"text-align: right;\">\n",
       "      <th></th>\n",
       "      <th>language</th>\n",
       "      <th>number of articles</th>\n",
       "    </tr>\n",
       "  </thead>\n",
       "  <tbody>\n",
       "    <tr>\n",
       "      <th>0</th>\n",
       "      <td>English</td>\n",
       "      <td>6458000+ articles</td>\n",
       "    </tr>\n",
       "    <tr>\n",
       "      <th>1</th>\n",
       "      <td>日本語</td>\n",
       "      <td>1314000+ 記事</td>\n",
       "    </tr>\n",
       "    <tr>\n",
       "      <th>2</th>\n",
       "      <td>Español</td>\n",
       "      <td>1755000+ artículos</td>\n",
       "    </tr>\n",
       "    <tr>\n",
       "      <th>3</th>\n",
       "      <td>Русский</td>\n",
       "      <td>1798000+ статей</td>\n",
       "    </tr>\n",
       "    <tr>\n",
       "      <th>4</th>\n",
       "      <td>Français</td>\n",
       "      <td>2400000+ articles</td>\n",
       "    </tr>\n",
       "    <tr>\n",
       "      <th>5</th>\n",
       "      <td>Deutsch</td>\n",
       "      <td>2667000+ Artikel</td>\n",
       "    </tr>\n",
       "    <tr>\n",
       "      <th>6</th>\n",
       "      <td>Italiano</td>\n",
       "      <td>1742000+ voci</td>\n",
       "    </tr>\n",
       "    <tr>\n",
       "      <th>7</th>\n",
       "      <td>中文</td>\n",
       "      <td>1256000+ 条目 / 條目</td>\n",
       "    </tr>\n",
       "    <tr>\n",
       "      <th>8</th>\n",
       "      <td>Português</td>\n",
       "      <td>1085000+ artigos</td>\n",
       "    </tr>\n",
       "    <tr>\n",
       "      <th>9</th>\n",
       "      <td>العربية</td>\n",
       "      <td>1159000+ مقالة</td>\n",
       "    </tr>\n",
       "  </tbody>\n",
       "</table>\n",
       "</div>"
      ],
      "text/plain": [
       "    language  number of articles\n",
       "0    English   6458000+ articles\n",
       "1        日本語         1314000+ 記事\n",
       "2    Español  1755000+ artículos\n",
       "3    Русский     1798000+ статей\n",
       "4   Français   2400000+ articles\n",
       "5    Deutsch    2667000+ Artikel\n",
       "6   Italiano       1742000+ voci\n",
       "7         中文    1256000+ 条目 / 條目\n",
       "8  Português    1085000+ artigos\n",
       "9    العربية      1159000+ مقالة"
      ]
     },
     "execution_count": 318,
     "metadata": {},
     "output_type": "execute_result"
    }
   ],
   "source": [
    "lst = []\n",
    "for i in range(len(table)):\n",
    "    language = table[i].text.split()[0]\n",
    "    amount = table[i](\"small\")[0].text.replace(\"\\xa0\",\"\")\n",
    "    lst.append({'language': language,\n",
    "                         'number of articles': amount})\n",
    "df2 =pd.DataFrame(lst)\n",
    "df2\n",
    "    \n",
    "    "
   ]
  },
  {
   "cell_type": "markdown",
   "metadata": {},
   "source": [
    "#### A list with the different kind of datasets available in data.gov.uk "
   ]
  },
  {
   "cell_type": "code",
   "execution_count": 320,
   "metadata": {},
   "outputs": [],
   "source": [
    "# This is the url you will scrape in this exercise\n",
    "url = 'https://data.gov.uk/'"
   ]
  },
  {
   "cell_type": "code",
   "execution_count": 321,
   "metadata": {},
   "outputs": [],
   "source": [
    "#your code \n",
    "html = requests.get(url).content\n",
    "soup=bs(html, 'html.parser')"
   ]
  },
  {
   "cell_type": "code",
   "execution_count": 324,
   "metadata": {},
   "outputs": [],
   "source": [
    "table= soup.find_all(\"a\",class_ = \"govuk-link\")"
   ]
  },
  {
   "cell_type": "code",
   "execution_count": 331,
   "metadata": {},
   "outputs": [
    {
     "data": {
      "text/plain": [
       "'Business and economy'"
      ]
     },
     "execution_count": 331,
     "metadata": {},
     "output_type": "execute_result"
    }
   ],
   "source": [
    "table[4].text"
   ]
  },
  {
   "cell_type": "code",
   "execution_count": 333,
   "metadata": {},
   "outputs": [
    {
     "data": {
      "text/plain": [
       "['Business and economy',\n",
       " 'Crime and justice',\n",
       " 'Defence',\n",
       " 'Education',\n",
       " 'Environment',\n",
       " 'Government',\n",
       " 'Government spending',\n",
       " 'Health',\n",
       " 'Mapping',\n",
       " 'Society',\n",
       " 'Towns and cities',\n",
       " 'Transport',\n",
       " 'Digital service performance',\n",
       " 'Government reference data']"
      ]
     },
     "execution_count": 333,
     "metadata": {},
     "output_type": "execute_result"
    }
   ],
   "source": [
    "lst = []\n",
    "for i in range (4,len(table)):\n",
    "    lst.append(table[i].text)\n",
    "lst\n",
    "    "
   ]
  },
  {
   "cell_type": "markdown",
   "metadata": {},
   "source": [
    "#### Top 10 languages by number of native speakers stored in a Pandas Dataframe"
   ]
  },
  {
   "cell_type": "code",
   "execution_count": 339,
   "metadata": {},
   "outputs": [],
   "source": [
    "# This is the url you will scrape in this exercise\n",
    "url = 'https://en.wikipedia.org/wiki/List_of_languages_by_number_of_native_speakers'"
   ]
  },
  {
   "cell_type": "code",
   "execution_count": 390,
   "metadata": {},
   "outputs": [],
   "source": [
    "#your code\n",
    "\n",
    "html = requests.get(url).content\n",
    "soup=bs(html, 'html.parser')\n",
    "pop = soup.find_all(\"tbody\")[0](\"td\")\n",
    "pop[0].text.replace(\"\\n\",\"\")\n",
    "\n",
    "lst1 = []\n",
    "lst2 = []\n",
    "for i in range(0,37,4):\n",
    "    lst1.append(pop[i].text.replace(\"\\n\",\"\"))\n",
    "for i in range (1,38,4):\n",
    "    lst2.append(pop[i].text.replace(\"\\n\",\"\"))\n",
    "\n",
    "res = {}    \n",
    "for key in lst1:\n",
    "    for value in lst2 :\n",
    "        res[key] = value\n",
    "res\n",
    "    \n",
    "df3 = pd.DataFrame()"
   ]
  },
  {
   "cell_type": "code",
   "execution_count": 393,
   "metadata": {},
   "outputs": [],
   "source": [
    "df3[\"paises\"] = lst1\n",
    "df3[\"poblacion\"] = lst2"
   ]
  },
  {
   "cell_type": "code",
   "execution_count": 394,
   "metadata": {},
   "outputs": [
    {
     "data": {
      "text/html": [
       "<div>\n",
       "<style scoped>\n",
       "    .dataframe tbody tr th:only-of-type {\n",
       "        vertical-align: middle;\n",
       "    }\n",
       "\n",
       "    .dataframe tbody tr th {\n",
       "        vertical-align: top;\n",
       "    }\n",
       "\n",
       "    .dataframe thead th {\n",
       "        text-align: right;\n",
       "    }\n",
       "</style>\n",
       "<table border=\"1\" class=\"dataframe\">\n",
       "  <thead>\n",
       "    <tr style=\"text-align: right;\">\n",
       "      <th></th>\n",
       "      <th>paises</th>\n",
       "      <th>poblacion</th>\n",
       "    </tr>\n",
       "  </thead>\n",
       "  <tbody>\n",
       "    <tr>\n",
       "      <th>0</th>\n",
       "      <td>Mandarin Chinese(incl. Standard Chinese, but e...</td>\n",
       "      <td>920</td>\n",
       "    </tr>\n",
       "    <tr>\n",
       "      <th>1</th>\n",
       "      <td>Spanish</td>\n",
       "      <td>475</td>\n",
       "    </tr>\n",
       "    <tr>\n",
       "      <th>2</th>\n",
       "      <td>English</td>\n",
       "      <td>373</td>\n",
       "    </tr>\n",
       "    <tr>\n",
       "      <th>3</th>\n",
       "      <td>Hindi(excl. Urdu)</td>\n",
       "      <td>344</td>\n",
       "    </tr>\n",
       "    <tr>\n",
       "      <th>4</th>\n",
       "      <td>Bengali</td>\n",
       "      <td>234</td>\n",
       "    </tr>\n",
       "    <tr>\n",
       "      <th>5</th>\n",
       "      <td>Portuguese</td>\n",
       "      <td>232</td>\n",
       "    </tr>\n",
       "    <tr>\n",
       "      <th>6</th>\n",
       "      <td>Russian</td>\n",
       "      <td>154</td>\n",
       "    </tr>\n",
       "    <tr>\n",
       "      <th>7</th>\n",
       "      <td>Japanese</td>\n",
       "      <td>125</td>\n",
       "    </tr>\n",
       "    <tr>\n",
       "      <th>8</th>\n",
       "      <td>Yue Chinese(incl. Cantonese)</td>\n",
       "      <td>85.2</td>\n",
       "    </tr>\n",
       "    <tr>\n",
       "      <th>9</th>\n",
       "      <td>Vietnamese</td>\n",
       "      <td>84.6</td>\n",
       "    </tr>\n",
       "  </tbody>\n",
       "</table>\n",
       "</div>"
      ],
      "text/plain": [
       "                                              paises poblacion\n",
       "0  Mandarin Chinese(incl. Standard Chinese, but e...       920\n",
       "1                                            Spanish       475\n",
       "2                                            English       373\n",
       "3                                  Hindi(excl. Urdu)       344\n",
       "4                                            Bengali       234\n",
       "5                                         Portuguese       232\n",
       "6                                            Russian       154\n",
       "7                                           Japanese       125\n",
       "8                       Yue Chinese(incl. Cantonese)      85.2\n",
       "9                                         Vietnamese      84.6"
      ]
     },
     "execution_count": 394,
     "metadata": {},
     "output_type": "execute_result"
    }
   ],
   "source": [
    "df3"
   ]
  },
  {
   "cell_type": "markdown",
   "metadata": {},
   "source": [
    "### BONUS QUESTIONS"
   ]
  },
  {
   "cell_type": "markdown",
   "metadata": {},
   "source": [
    "#### Scrape a certain number of tweets of a given Twitter account."
   ]
  },
  {
   "cell_type": "code",
   "execution_count": null,
   "metadata": {},
   "outputs": [],
   "source": [
    "# This is the url you will scrape in this exercise \n",
    "# You will need to add the account credentials to this url\n",
    "url = 'https://twitter.com/'"
   ]
  },
  {
   "cell_type": "code",
   "execution_count": null,
   "metadata": {},
   "outputs": [],
   "source": [
    "# your code"
   ]
  },
  {
   "cell_type": "markdown",
   "metadata": {},
   "source": [
    "#### IMDB's Top 250 data (movie name, Initial release, director name and stars) as a pandas dataframe"
   ]
  },
  {
   "cell_type": "code",
   "execution_count": 395,
   "metadata": {},
   "outputs": [],
   "source": [
    "# This is the url you will scrape in this exercise \n",
    "url = 'https://www.imdb.com/chart/top'"
   ]
  },
  {
   "cell_type": "code",
   "execution_count": 406,
   "metadata": {},
   "outputs": [],
   "source": [
    "# your code\n",
    "html = requests.get(url).content\n",
    "soup=bs(html, 'html.parser')\n",
    "table = soup.find_all(\"tbody\",class_ = \"lister-list\")[0]"
   ]
  },
  {
   "cell_type": "code",
   "execution_count": 474,
   "metadata": {},
   "outputs": [
    {
     "data": {
      "text/plain": [
       "'Cadena perpetua'"
      ]
     },
     "execution_count": 474,
     "metadata": {},
     "output_type": "execute_result"
    }
   ],
   "source": [
    "table(\"a\")[1].text #empezando en 1 saltos de 2"
   ]
  },
  {
   "cell_type": "code",
   "execution_count": 476,
   "metadata": {},
   "outputs": [
    {
     "data": {
      "text/plain": [
       "1750"
      ]
     },
     "execution_count": 476,
     "metadata": {},
     "output_type": "execute_result"
    }
   ],
   "source": [
    "len(table(\"span\"))"
   ]
  },
  {
   "cell_type": "code",
   "execution_count": 472,
   "metadata": {},
   "outputs": [
    {
     "data": {
      "text/plain": [
       "'1994'"
      ]
     },
     "execution_count": 472,
     "metadata": {},
     "output_type": "execute_result"
    }
   ],
   "source": [
    "table(\"span\")[5].text.replace(\"(\",\"\").replace(\")\",\"\")"
   ]
  },
  {
   "cell_type": "code",
   "execution_count": 434,
   "metadata": {},
   "outputs": [
    {
     "data": {
      "text/plain": [
       "<span class=\"secondaryInfo\">(1994)</span>"
      ]
     },
     "execution_count": 434,
     "metadata": {},
     "output_type": "execute_result"
    }
   ],
   "source": [
    "table(\"span\")[5] #empezando en 5 saltos de 7"
   ]
  },
  {
   "cell_type": "code",
   "execution_count": 455,
   "metadata": {},
   "outputs": [
    {
     "data": {
      "text/plain": [
       "'<a href=\"/title/tt0111161/\" title=\"Frank Darabont (dir.), Tim Robbins, Morgan Freeman\">Cadena perpetua</a>'"
      ]
     },
     "execution_count": 455,
     "metadata": {},
     "output_type": "execute_result"
    }
   ],
   "source": [
    "if2 = str(table(\"a\")[1])\n",
    "if2\n"
   ]
  },
  {
   "cell_type": "code",
   "execution_count": 469,
   "metadata": {},
   "outputs": [
    {
     "data": {
      "text/plain": [
       "'Frank Darabont (dir.), Tim Robbins, Morgan Freeman'"
      ]
     },
     "execution_count": 469,
     "metadata": {},
     "output_type": "execute_result"
    }
   ],
   "source": [
    "mk1 = if2.find(\"title=\") +7\n",
    "mk1 \n",
    "mk2 = if2.find('\">')\n",
    "mk2 \n",
    "sub = if2[mk1:mk2]\n",
    "sub"
   ]
  },
  {
   "cell_type": "code",
   "execution_count": 483,
   "metadata": {},
   "outputs": [],
   "source": [
    "lst1 = []\n",
    "lst2 = []\n",
    "lst3 = []\n",
    "for i in range(1,501,2):\n",
    "    lst1.append(table(\"a\")[i].text)\n",
    "\n",
    "for i in range (5,1755,7):\n",
    "    lst2.append(table(\"span\")[i].text.replace(\"(\",\"\").replace(\")\",\"\"))\n",
    "for i in range(1,501,2):\n",
    "    if2 = str(table(\"a\")[i])\n",
    "    mk2 = if2.find('\">')\n",
    "    mk1 = if2.find(\"title=\") +7\n",
    "    lst3.append(if2[mk1:mk2])\n",
    "\n",
    "    \n",
    "    \n",
    "\n",
    "df4 = pd.DataFrame()\n",
    "df4[\"movie name\"] = lst1\n",
    "df4[\"Initial Release\"] = lst2\n",
    "df4[\"Director and actors\"] = lst3\n",
    "\n"
   ]
  },
  {
   "cell_type": "code",
   "execution_count": 484,
   "metadata": {},
   "outputs": [
    {
     "data": {
      "text/html": [
       "<div>\n",
       "<style scoped>\n",
       "    .dataframe tbody tr th:only-of-type {\n",
       "        vertical-align: middle;\n",
       "    }\n",
       "\n",
       "    .dataframe tbody tr th {\n",
       "        vertical-align: top;\n",
       "    }\n",
       "\n",
       "    .dataframe thead th {\n",
       "        text-align: right;\n",
       "    }\n",
       "</style>\n",
       "<table border=\"1\" class=\"dataframe\">\n",
       "  <thead>\n",
       "    <tr style=\"text-align: right;\">\n",
       "      <th></th>\n",
       "      <th>movie name</th>\n",
       "      <th>Initial Release</th>\n",
       "      <th>Director and actors</th>\n",
       "    </tr>\n",
       "  </thead>\n",
       "  <tbody>\n",
       "    <tr>\n",
       "      <th>0</th>\n",
       "      <td>Cadena perpetua</td>\n",
       "      <td>1994</td>\n",
       "      <td>Frank Darabont (dir.), Tim Robbins, Morgan Fre...</td>\n",
       "    </tr>\n",
       "    <tr>\n",
       "      <th>1</th>\n",
       "      <td>El padrino</td>\n",
       "      <td>1972</td>\n",
       "      <td>Francis Ford Coppola (dir.), Marlon Brando, Al...</td>\n",
       "    </tr>\n",
       "    <tr>\n",
       "      <th>2</th>\n",
       "      <td>El caballero oscuro</td>\n",
       "      <td>2008</td>\n",
       "      <td>Christopher Nolan (dir.), Christian Bale, Heat...</td>\n",
       "    </tr>\n",
       "    <tr>\n",
       "      <th>3</th>\n",
       "      <td>El padrino (parte II)</td>\n",
       "      <td>1974</td>\n",
       "      <td>Francis Ford Coppola (dir.), Al Pacino, Robert...</td>\n",
       "    </tr>\n",
       "    <tr>\n",
       "      <th>4</th>\n",
       "      <td>12 hombres sin piedad</td>\n",
       "      <td>1957</td>\n",
       "      <td>Sidney Lumet (dir.), Henry Fonda, Lee J. Cobb</td>\n",
       "    </tr>\n",
       "    <tr>\n",
       "      <th>...</th>\n",
       "      <td>...</td>\n",
       "      <td>...</td>\n",
       "      <td>...</td>\n",
       "    </tr>\n",
       "    <tr>\n",
       "      <th>245</th>\n",
       "      <td>Dersu Uzala (El cazador)</td>\n",
       "      <td>1975</td>\n",
       "      <td>Akira Kurosawa (dir.), Maksim Munzuk, Yuriy So...</td>\n",
       "    </tr>\n",
       "    <tr>\n",
       "      <th>246</th>\n",
       "      <td>Aladdín</td>\n",
       "      <td>1992</td>\n",
       "      <td>Ron Clements (dir.), Scott Weinger, Robin Will...</td>\n",
       "    </tr>\n",
       "    <tr>\n",
       "      <th>247</th>\n",
       "      <td>Criadas y señoras</td>\n",
       "      <td>2011</td>\n",
       "      <td>Tate Taylor (dir.), Viola Davis, Emma Stone</td>\n",
       "    </tr>\n",
       "    <tr>\n",
       "      <th>248</th>\n",
       "      <td>Gandhi</td>\n",
       "      <td>1982</td>\n",
       "      <td>Richard Attenborough (dir.), Ben Kingsley, Joh...</td>\n",
       "    </tr>\n",
       "    <tr>\n",
       "      <th>249</th>\n",
       "      <td>El gigante de hierro</td>\n",
       "      <td>1999</td>\n",
       "      <td>Brad Bird (dir.), Eli Marienthal, Harry Connic...</td>\n",
       "    </tr>\n",
       "  </tbody>\n",
       "</table>\n",
       "<p>250 rows × 3 columns</p>\n",
       "</div>"
      ],
      "text/plain": [
       "                   movie name Initial Release  \\\n",
       "0             Cadena perpetua            1994   \n",
       "1                  El padrino            1972   \n",
       "2         El caballero oscuro            2008   \n",
       "3       El padrino (parte II)            1974   \n",
       "4       12 hombres sin piedad            1957   \n",
       "..                        ...             ...   \n",
       "245  Dersu Uzala (El cazador)            1975   \n",
       "246                   Aladdín            1992   \n",
       "247         Criadas y señoras            2011   \n",
       "248                    Gandhi            1982   \n",
       "249      El gigante de hierro            1999   \n",
       "\n",
       "                                   Director and actors  \n",
       "0    Frank Darabont (dir.), Tim Robbins, Morgan Fre...  \n",
       "1    Francis Ford Coppola (dir.), Marlon Brando, Al...  \n",
       "2    Christopher Nolan (dir.), Christian Bale, Heat...  \n",
       "3    Francis Ford Coppola (dir.), Al Pacino, Robert...  \n",
       "4        Sidney Lumet (dir.), Henry Fonda, Lee J. Cobb  \n",
       "..                                                 ...  \n",
       "245  Akira Kurosawa (dir.), Maksim Munzuk, Yuriy So...  \n",
       "246  Ron Clements (dir.), Scott Weinger, Robin Will...  \n",
       "247        Tate Taylor (dir.), Viola Davis, Emma Stone  \n",
       "248  Richard Attenborough (dir.), Ben Kingsley, Joh...  \n",
       "249  Brad Bird (dir.), Eli Marienthal, Harry Connic...  \n",
       "\n",
       "[250 rows x 3 columns]"
      ]
     },
     "execution_count": 484,
     "metadata": {},
     "output_type": "execute_result"
    }
   ],
   "source": [
    "df4"
   ]
  },
  {
   "cell_type": "markdown",
   "metadata": {},
   "source": [
    "#### Movie name, year and a brief summary of the top 10 random movies (IMDB) as a pandas dataframe."
   ]
  },
  {
   "cell_type": "code",
   "execution_count": null,
   "metadata": {},
   "outputs": [],
   "source": [
    "#This is the url you will scrape in this exercise\n",
    "url = 'http://www.imdb.com/chart/top'"
   ]
  },
  {
   "cell_type": "code",
   "execution_count": null,
   "metadata": {},
   "outputs": [],
   "source": [
    "#your code"
   ]
  },
  {
   "cell_type": "markdown",
   "metadata": {},
   "source": [
    "#### Find the live weather report (temperature, wind speed, description and weather) of a given city."
   ]
  },
  {
   "cell_type": "code",
   "execution_count": null,
   "metadata": {},
   "outputs": [],
   "source": [
    "#https://openweathermap.org/current\n",
    "city = city=input('Enter the city:')\n",
    "url = 'http://api.openweathermap.org/data/2.5/weather?'+'q='+city+'&APPID=b35975e18dc93725acb092f7272cc6b8&units=metric'"
   ]
  },
  {
   "cell_type": "code",
   "execution_count": null,
   "metadata": {},
   "outputs": [],
   "source": [
    "# your code"
   ]
  },
  {
   "cell_type": "markdown",
   "metadata": {},
   "source": [
    "#### Book name,price and stock availability as a pandas dataframe."
   ]
  },
  {
   "cell_type": "code",
   "execution_count": null,
   "metadata": {},
   "outputs": [],
   "source": [
    "# This is the url you will scrape in this exercise. \n",
    "# It is a fictional bookstore created to be scraped. \n",
    "url = 'http://books.toscrape.com/'"
   ]
  },
  {
   "cell_type": "code",
   "execution_count": null,
   "metadata": {},
   "outputs": [],
   "source": [
    "#your code"
   ]
  }
 ],
 "metadata": {
  "kernelspec": {
   "display_name": "Python 3 (ipykernel)",
   "language": "python",
   "name": "python3"
  },
  "language_info": {
   "codemirror_mode": {
    "name": "ipython",
    "version": 3
   },
   "file_extension": ".py",
   "mimetype": "text/x-python",
   "name": "python",
   "nbconvert_exporter": "python",
   "pygments_lexer": "ipython3",
   "version": "3.9.12"
  }
 },
 "nbformat": 4,
 "nbformat_minor": 2
}
