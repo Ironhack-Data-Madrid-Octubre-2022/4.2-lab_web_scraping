{
 "cells": [
  {
   "cell_type": "markdown",
   "metadata": {},
   "source": [
    "# Web Scraping Lab\n",
    "\n",
    "You will find in this notebook some scrapy exercises to practise your scraping skills.\n",
    "\n",
    "**Tips:**\n",
    "\n",
    "- Check the response status code for each request to ensure you have obtained the intended contennt.\n",
    "- Print the response text in each request to understand the kind of info you are getting and its format.\n",
    "- Check for patterns in the response text to extract the data/info requested in each question.\n",
    "- Visit each url and take a look at its source through Chrome DevTools. You'll need to identify the html tags, special class names etc. used for the html content you are expected to extract."
   ]
  },
  {
   "cell_type": "markdown",
   "metadata": {},
   "source": [
    "- [Requests library](http://docs.python-requests.org/en/master/#the-user-guide) documentation \n",
    "- [Beautiful Soup Doc](https://www.crummy.com/software/BeautifulSoup/bs4/doc/)\n",
    "- [Urllib](https://docs.python.org/3/library/urllib.html#module-urllib)\n",
    "- [re lib](https://docs.python.org/3/library/re.html)\n",
    "- [lxml lib](https://lxml.de/)\n",
    "- [Scrapy](https://scrapy.org/)\n",
    "- [List of HTTP status codes](https://en.wikipedia.org/wiki/List_of_HTTP_status_codes)\n",
    "- [HTML basics](http://www.simplehtmlguide.com/cheatsheet.php)\n",
    "- [CSS basics](https://www.cssbasics.com/#page_start)"
   ]
  },
  {
   "cell_type": "markdown",
   "metadata": {},
   "source": [
    "#### Below are the libraries and modules you may need. `requests`,  `BeautifulSoup` and `pandas` are imported for you. If you prefer to use additional libraries feel free to uncomment them."
   ]
  },
  {
   "cell_type": "code",
   "execution_count": 1,
   "metadata": {},
   "outputs": [],
   "source": [
    "import requests as req\n",
    "from bs4 import BeautifulSoup as bs \n",
    "import pandas as pd\n",
    "# from pprint import pprint\n",
    "# from lxml import html\n",
    "# from lxml.html import fromstring\n",
    "# import urllib.request\n",
    "# from urllib.request import urlopen\n",
    "# import random\n",
    "# import re\n",
    "# import scrapy"
   ]
  },
  {
   "cell_type": "markdown",
   "metadata": {},
   "source": [
    "#### Download, parse (using BeautifulSoup), and print the content from the Trending Developers page from GitHub:"
   ]
  },
  {
   "cell_type": "markdown",
   "metadata": {},
   "source": [
    "#### Display the names of the trending developers retrieved in the previous step.\n",
    "\n",
    "Your output should be a Python list of developer names. Each name should not contain any html tag.\n",
    "\n",
    "**Instructions:**\n",
    "\n",
    "1. Find out the html tag and class names used for the developer names. You can achieve this using Chrome DevTools.\n",
    "\n",
    "1. Use BeautifulSoup to extract all the html elements that contain the developer names.\n",
    "\n",
    "1. Use string manipulation techniques to replace whitespaces and linebreaks (i.e. `\\n`) in the *text* of each html element. Use a list to store the clean names.\n",
    "\n",
    "1. Print the list of names.\n",
    "\n",
    "Your output should look like below:\n",
    "\n",
    "```\n",
    "['trimstray (@trimstray)',\n",
    " 'joewalnes (JoeWalnes)',\n",
    " 'charlax (Charles-AxelDein)',\n",
    " 'ForrestKnight (ForrestKnight)',\n",
    " 'revery-ui (revery-ui)',\n",
    " 'alibaba (Alibaba)',\n",
    " 'Microsoft (Microsoft)',\n",
    " 'github (GitHub)',\n",
    " 'facebook (Facebook)',\n",
    " 'boazsegev (Bo)',\n",
    " 'google (Google)',\n",
    " 'cloudfetch',\n",
    " 'sindresorhus (SindreSorhus)',\n",
    " 'tensorflow',\n",
    " 'apache (TheApacheSoftwareFoundation)',\n",
    " 'DevonCrawford (DevonCrawford)',\n",
    " 'ARMmbed (ArmMbed)',\n",
    " 'vuejs (vuejs)',\n",
    " 'fastai (fast.ai)',\n",
    " 'QiShaoXuan (Qi)',\n",
    " 'joelparkerhenderson (JoelParkerHenderson)',\n",
    " 'torvalds (LinusTorvalds)',\n",
    " 'CyC2018',\n",
    " 'komeiji-satori (神楽坂覚々)',\n",
    " 'script-8']\n",
    " ```"
   ]
  },
  {
   "cell_type": "code",
   "execution_count": 92,
   "metadata": {},
   "outputs": [],
   "source": [
    "# This is the url you will scrape in this exercise\n",
    "url = 'https://github.com/trending/developers'"
   ]
  },
  {
   "cell_type": "code",
   "execution_count": 93,
   "metadata": {},
   "outputs": [],
   "source": [
    "git=req.get(url).text\n",
    "\n",
    "soup=bs(git, 'html.parser')\n",
    "\n",
    "tabla=soup.find_all('h1', class_='h3 lh-condensed')\n"
   ]
  },
  {
   "cell_type": "code",
   "execution_count": 95,
   "metadata": {},
   "outputs": [
    {
     "data": {
      "text/plain": [
       "['Emil Ernerfeldt',\n",
       " 'Earle F. Philhower, III',\n",
       " 'Nikita Sobolev',\n",
       " 'Stephen Celis',\n",
       " 'Justin Fagnani',\n",
       " 'Manu MA',\n",
       " 'Joshua',\n",
       " 'Simon H',\n",
       " 'Marcus Olsson',\n",
       " 'Ben V. Brown',\n",
       " 'Jonny Borges',\n",
       " 'Andrew Kane',\n",
       " 'Wangchong Zhou',\n",
       " 'Mislav Marohnić',\n",
       " 'Matthias Fey',\n",
       " 'Elliana May',\n",
       " 'Romain Beaumont',\n",
       " 'Hari Sekhon',\n",
       " 'osy',\n",
       " 'Adam Johnson',\n",
       " 'Pedro Cuenca',\n",
       " 'Alex Gaynor',\n",
       " 'Henrik Rydgård',\n",
       " 'Joshua Levy',\n",
       " 'Mu Li']"
      ]
     },
     "execution_count": 95,
     "metadata": {},
     "output_type": "execute_result"
    }
   ],
   "source": [
    "name = [e.text.strip() for e in tabla]\n",
    "name"
   ]
  },
  {
   "cell_type": "code",
   "execution_count": 96,
   "metadata": {},
   "outputs": [
    {
     "data": {
      "text/plain": [
       "['emilk',\n",
       " 'earlephilhower',\n",
       " 'sobolevn',\n",
       " 'stephencelis',\n",
       " 'justinfagnani',\n",
       " 'manucorporat',\n",
       " 'minimalsm',\n",
       " 'dummdidumm',\n",
       " 'marcusolsson',\n",
       " 'Ralim',\n",
       " 'jonataslaw',\n",
       " 'ankane',\n",
       " 'fffonion',\n",
       " 'mislav',\n",
       " 'rusty1s',\n",
       " 'Mause',\n",
       " 'rom1504',\n",
       " 'HariSekhon',\n",
       " 'adamchainz',\n",
       " 'pcuenca',\n",
       " 'alex',\n",
       " 'hrydgard',\n",
       " 'jlevy',\n",
       " 'mli']"
      ]
     },
     "execution_count": 96,
     "metadata": {},
     "output_type": "execute_result"
    }
   ],
   "source": [
    "nickname= [e.text.strip() for e in nick]\n",
    "nickname"
   ]
  },
  {
   "cell_type": "code",
   "execution_count": 97,
   "metadata": {},
   "outputs": [
    {
     "name": "stdout",
     "output_type": "stream",
     "text": [
      "Emil Ernerfeldt, (emilk)\n",
      "Earle F. Philhower, III, (earlephilhower)\n",
      "Nikita Sobolev, (sobolevn)\n",
      "Stephen Celis, (stephencelis)\n",
      "Justin Fagnani, (justinfagnani)\n",
      "Manu MA, (manucorporat)\n",
      "Joshua, (minimalsm)\n",
      "Simon H, (dummdidumm)\n",
      "Marcus Olsson, (marcusolsson)\n",
      "Ben V. Brown, (Ralim)\n",
      "Jonny Borges, (jonataslaw)\n",
      "Andrew Kane, (ankane)\n",
      "Wangchong Zhou, (fffonion)\n",
      "Mislav Marohnić, (mislav)\n",
      "Matthias Fey, (rusty1s)\n",
      "Elliana May, (Mause)\n",
      "Romain Beaumont, (rom1504)\n",
      "Hari Sekhon, (HariSekhon)\n",
      "osy, (adamchainz)\n",
      "Adam Johnson, (pcuenca)\n",
      "Pedro Cuenca, (alex)\n",
      "Alex Gaynor, (hrydgard)\n",
      "Henrik Rydgård, (jlevy)\n",
      "Joshua Levy, (mli)\n"
     ]
    }
   ],
   "source": [
    "for nombre, alias in zip(name, nickname):\n",
    "    print(f'{nombre}, ({alias})')"
   ]
  },
  {
   "cell_type": "markdown",
   "metadata": {},
   "source": [
    "#### Display the trending Python repositories in GitHub\n",
    "\n",
    "The steps to solve this problem is similar to the previous one except that you need to find out the repository names instead of developer names."
   ]
  },
  {
   "cell_type": "code",
   "execution_count": 98,
   "metadata": {},
   "outputs": [],
   "source": [
    "# This is the url you will scrape in this exercise\n",
    "url = 'https://github.com/trending/python?since=daily%27'"
   ]
  },
  {
   "cell_type": "code",
   "execution_count": 100,
   "metadata": {},
   "outputs": [],
   "source": [
    "repo=req.get(url).text\n",
    "\n",
    "soup=bs(repo, 'html.parser')\n",
    "\n",
    "repos=soup.find_all('h1', class_='h3 lh-condensed')\n"
   ]
  },
  {
   "cell_type": "code",
   "execution_count": 103,
   "metadata": {},
   "outputs": [
    {
     "data": {
      "text/plain": [
       "['bregman-arie/ devops-exercises',\n",
       " 'public-apis/ public-apis',\n",
       " 'geohot/ tinygrad',\n",
       " 'mlflow/ mlflow',\n",
       " 'PaddlePaddle/ PaddleDetection',\n",
       " 'google/ jax',\n",
       " 'iterativv/ NostalgiaForInfinity',\n",
       " 'netbox-community/ netbox',\n",
       " 'tiangolo/ typer',\n",
       " 'streamlit/ streamlit',\n",
       " 'modelscope/ modelscope',\n",
       " 'LetusDevops/ LearnPython',\n",
       " 'nerfstudio-project/ nerfstudio',\n",
       " 'idanya/ algo-trader',\n",
       " 'heartexlabs/ labelImg',\n",
       " 'microsoft/ pyright',\n",
       " 'sqlmapproject/ sqlmap',\n",
       " 'unifyai/ ivy',\n",
       " 'crytic/ slither',\n",
       " 'ultralytics/ yolov5',\n",
       " 'home-assistant/ core',\n",
       " 'WeAreMahsaAmini/ FreeInternet',\n",
       " 'open-mmlab/ mmocr',\n",
       " 'Lightning-AI/ lightning',\n",
       " 'demisto/ content']"
      ]
     },
     "execution_count": 103,
     "metadata": {},
     "output_type": "execute_result"
    }
   ],
   "source": [
    "repogit = [e.text.strip().replace('/\\n\\n','') for e in table]\n",
    "repogit2 = [e.replace('      ', '/') for e in repogit]\n",
    "repogit2"
   ]
  },
  {
   "cell_type": "markdown",
   "metadata": {},
   "source": [
    "#### Display all the image links from Walt Disney wikipedia page"
   ]
  },
  {
   "cell_type": "code",
   "execution_count": 104,
   "metadata": {},
   "outputs": [],
   "source": [
    "# This is the url you will scrape in this exercise\n",
    "url = 'https://en.wikipedia.org/wiki/Walt_Disney'"
   ]
  },
  {
   "cell_type": "code",
   "execution_count": 105,
   "metadata": {},
   "outputs": [
    {
     "data": {
      "text/plain": [
       "39"
      ]
     },
     "execution_count": 105,
     "metadata": {},
     "output_type": "execute_result"
    }
   ],
   "source": [
    "walt=req.get(url).text\n",
    "\n",
    "soup=bs(walt, 'html.parser')\n",
    "\n",
    "tabla3=soup.find_all('img')\n",
    "\n",
    "len(tabla)"
   ]
  },
  {
   "cell_type": "code",
   "execution_count": null,
   "metadata": {},
   "outputs": [],
   "source": [
    "#pic=tabla[0].attrs['src']\n",
    "\n",
    "#pic\n"
   ]
  },
  {
   "cell_type": "code",
   "execution_count": 109,
   "metadata": {},
   "outputs": [
    {
     "data": {
      "text/plain": [
       "['//upload.wikimedia.org/wikipedia/en/thumb/e/e7/Cscr-featured.svg/20px-Cscr-featured.svg.png',\n",
       " '//upload.wikimedia.org/wikipedia/en/thumb/8/8c/Extended-protection-shackle.svg/20px-Extended-protection-shackle.svg.png',\n",
       " '//upload.wikimedia.org/wikipedia/commons/thumb/d/df/Walt_Disney_1946.JPG/220px-Walt_Disney_1946.JPG',\n",
       " '//upload.wikimedia.org/wikipedia/commons/thumb/8/87/Walt_Disney_1942_signature.svg/150px-Walt_Disney_1942_signature.svg.png',\n",
       " '//upload.wikimedia.org/wikipedia/commons/thumb/3/3a/Walt_Disney_Birthplace_Exterior_Hermosa_Chicago_Illinois.jpg/220px-Walt_Disney_Birthplace_Exterior_Hermosa_Chicago_Illinois.jpg',\n",
       " '//upload.wikimedia.org/wikipedia/commons/thumb/c/c4/Walt_Disney_envelope_ca._1921.jpg/220px-Walt_Disney_envelope_ca._1921.jpg',\n",
       " '//upload.wikimedia.org/wikipedia/commons/thumb/0/0d/Trolley_Troubles_poster.jpg/170px-Trolley_Troubles_poster.jpg',\n",
       " '//upload.wikimedia.org/wikipedia/en/thumb/4/4e/Steamboat-willie.jpg/170px-Steamboat-willie.jpg',\n",
       " '//upload.wikimedia.org/wikipedia/commons/thumb/5/57/Walt_Disney_1935.jpg/170px-Walt_Disney_1935.jpg',\n",
       " '//upload.wikimedia.org/wikipedia/commons/thumb/c/cd/Walt_Disney_Snow_white_1937_trailer_screenshot_%2813%29.jpg/220px-Walt_Disney_Snow_white_1937_trailer_screenshot_%2813%29.jpg',\n",
       " '//upload.wikimedia.org/wikipedia/commons/thumb/1/15/Disney_drawing_goofy.jpg/170px-Disney_drawing_goofy.jpg',\n",
       " '//upload.wikimedia.org/wikipedia/commons/thumb/8/8c/WaltDisneyplansDisneylandDec1954.jpg/220px-WaltDisneyplansDisneylandDec1954.jpg',\n",
       " '//upload.wikimedia.org/wikipedia/commons/thumb/f/ff/Walt_disney_portrait_right.jpg/170px-Walt_disney_portrait_right.jpg',\n",
       " '//upload.wikimedia.org/wikipedia/commons/thumb/1/1a/Walt_Disney_Grave.JPG/170px-Walt_Disney_Grave.JPG',\n",
       " '//upload.wikimedia.org/wikipedia/commons/thumb/2/2d/Roy_O._Disney_with_Company_at_Press_Conference.jpg/170px-Roy_O._Disney_with_Company_at_Press_Conference.jpg',\n",
       " '//upload.wikimedia.org/wikipedia/commons/thumb/1/13/DisneySchiphol1951.jpg/220px-DisneySchiphol1951.jpg',\n",
       " '//upload.wikimedia.org/wikipedia/commons/thumb/6/6c/Disney1968.jpg/170px-Disney1968.jpg',\n",
       " '//upload.wikimedia.org/wikipedia/commons/thumb/b/b0/Disney_Oscar_1953_%28cropped%29.jpg/170px-Disney_Oscar_1953_%28cropped%29.jpg',\n",
       " '//upload.wikimedia.org/wikipedia/en/thumb/4/4a/Commons-logo.svg/30px-Commons-logo.svg.png',\n",
       " '//upload.wikimedia.org/wikipedia/commons/thumb/4/4c/Wikisource-logo.svg/38px-Wikisource-logo.svg.png',\n",
       " '//upload.wikimedia.org/wikipedia/commons/thumb/f/fa/Wikiquote-logo.svg/34px-Wikiquote-logo.svg.png',\n",
       " '//upload.wikimedia.org/wikipedia/en/thumb/8/8a/OOjs_UI_icon_edit-ltr-progressive.svg/10px-OOjs_UI_icon_edit-ltr-progressive.svg.png',\n",
       " '//upload.wikimedia.org/wikipedia/en/thumb/8/8a/OOjs_UI_icon_edit-ltr-progressive.svg/10px-OOjs_UI_icon_edit-ltr-progressive.svg.png',\n",
       " '//upload.wikimedia.org/wikipedia/commons/thumb/e/e3/Disneyland_Resort_logo.svg/135px-Disneyland_Resort_logo.svg.png',\n",
       " '//upload.wikimedia.org/wikipedia/commons/thumb/d/da/Animation_disc.svg/20px-Animation_disc.svg.png',\n",
       " '//upload.wikimedia.org/wikipedia/en/thumb/6/69/P_vip.svg/19px-P_vip.svg.png',\n",
       " '//upload.wikimedia.org/wikipedia/commons/thumb/1/1a/Magic_Kingdom_castle.jpg/15px-Magic_Kingdom_castle.jpg',\n",
       " '//upload.wikimedia.org/wikipedia/en/thumb/e/e7/Video-x-generic.svg/19px-Video-x-generic.svg.png',\n",
       " '//upload.wikimedia.org/wikipedia/commons/thumb/a/a3/Flag_of_Los_Angeles_County%2C_California.svg/21px-Flag_of_Los_Angeles_County%2C_California.svg.png',\n",
       " '//upload.wikimedia.org/wikipedia/commons/thumb/8/8c/Blank_television_set.svg/21px-Blank_television_set.svg.png',\n",
       " '//upload.wikimedia.org/wikipedia/en/thumb/a/a4/Flag_of_the_United_States.svg/21px-Flag_of_the_United_States.svg.png',\n",
       " '//upload.wikimedia.org/wikipedia/en/thumb/4/4a/Commons-logo.svg/14px-Commons-logo.svg.png',\n",
       " '//upload.wikimedia.org/wikipedia/commons/thumb/f/fa/Wikiquote-logo.svg/16px-Wikiquote-logo.svg.png',\n",
       " '//upload.wikimedia.org/wikipedia/commons/thumb/4/4c/Wikisource-logo.svg/18px-Wikisource-logo.svg.png',\n",
       " '//upload.wikimedia.org/wikipedia/commons/thumb/f/ff/Wikidata-logo.svg/21px-Wikidata-logo.svg.png',\n",
       " '//upload.wikimedia.org/wikipedia/en/thumb/8/8a/OOjs_UI_icon_edit-ltr-progressive.svg/10px-OOjs_UI_icon_edit-ltr-progressive.svg.png',\n",
       " '//en.wikipedia.org/wiki/Special:CentralAutoLogin/start?type=1x1',\n",
       " '/static/images/footer/wikimedia-button.png',\n",
       " '/static/images/footer/poweredby_mediawiki_88x31.png']"
      ]
     },
     "execution_count": 109,
     "metadata": {},
     "output_type": "execute_result"
    }
   ],
   "source": [
    "picture = []\n",
    "for e in tabla:\n",
    "    picture.append(e.attrs['src'])\n",
    "picture"
   ]
  },
  {
   "cell_type": "markdown",
   "metadata": {},
   "source": [
    "#### Retrieve an arbitary Wikipedia page of \"Python\" and create a list of links on that page"
   ]
  },
  {
   "cell_type": "code",
   "execution_count": 110,
   "metadata": {},
   "outputs": [],
   "source": [
    "# This is the url you will scrape in this exercise\n",
    "url ='https://en.wikipedia.org/wiki/Python' "
   ]
  },
  {
   "cell_type": "code",
   "execution_count": 111,
   "metadata": {},
   "outputs": [
    {
     "data": {
      "text/plain": [
       "[<link href=\"/w/load.php?lang=en&amp;modules=ext.uls.interlanguage%7Cext.visualEditor.desktopArticleTarget.noscript%7Cext.wikimediaBadges%7Cskins.vector.styles.legacy%7Cwikibase.client.init&amp;only=styles&amp;skin=vector\" rel=\"stylesheet\"/>,\n",
       " <link href=\"/w/load.php?lang=en&amp;modules=site.styles&amp;only=styles&amp;skin=vector\" rel=\"stylesheet\"/>,\n",
       " <link href=\"//upload.wikimedia.org\" rel=\"preconnect\"/>,\n",
       " <link href=\"//en.m.wikipedia.org/wiki/Python\" media=\"only screen and (max-width: 720px)\" rel=\"alternate\"/>,\n",
       " <link href=\"/w/index.php?title=Python&amp;action=edit\" rel=\"alternate\" title=\"Edit this page\" type=\"application/x-wiki\"/>,\n",
       " <link href=\"/static/apple-touch/wikipedia.png\" rel=\"apple-touch-icon\"/>,\n",
       " <link href=\"/static/favicon/wikipedia.ico\" rel=\"icon\"/>,\n",
       " <link href=\"/w/opensearch_desc.php\" rel=\"search\" title=\"Wikipedia (en)\" type=\"application/opensearchdescription+xml\"/>,\n",
       " <link href=\"//en.wikipedia.org/w/api.php?action=rsd\" rel=\"EditURI\" type=\"application/rsd+xml\"/>,\n",
       " <link href=\"https://creativecommons.org/licenses/by-sa/3.0/\" rel=\"license\"/>,\n",
       " <link href=\"https://en.wikipedia.org/wiki/Python\" rel=\"canonical\"/>,\n",
       " <link href=\"//meta.wikimedia.org\" rel=\"dns-prefetch\"/>,\n",
       " <link href=\"//login.wikimedia.org\" rel=\"dns-prefetch\"/>]"
      ]
     },
     "execution_count": 111,
     "metadata": {},
     "output_type": "execute_result"
    }
   ],
   "source": [
    "python=req.get(url).text\n",
    "\n",
    "soup=bs(python, 'html.parser')\n",
    "\n",
    "tabla8=soup.find_all('link')\n",
    "\n",
    "tabla8"
   ]
  },
  {
   "cell_type": "code",
   "execution_count": 112,
   "metadata": {},
   "outputs": [
    {
     "data": {
      "text/plain": [
       "['/w/load.php?lang=en&modules=ext.uls.interlanguage%7Cext.visualEditor.desktopArticleTarget.noscript%7Cext.wikimediaBadges%7Cskins.vector.styles.legacy%7Cwikibase.client.init&only=styles&skin=vector',\n",
       " '/w/load.php?lang=en&modules=site.styles&only=styles&skin=vector',\n",
       " '//upload.wikimedia.org',\n",
       " '//en.m.wikipedia.org/wiki/Python',\n",
       " '/w/index.php?title=Python&action=edit',\n",
       " '/static/apple-touch/wikipedia.png',\n",
       " '/static/favicon/wikipedia.ico',\n",
       " '/w/opensearch_desc.php',\n",
       " '//en.wikipedia.org/w/api.php?action=rsd',\n",
       " 'https://creativecommons.org/licenses/by-sa/3.0/',\n",
       " 'https://en.wikipedia.org/wiki/Python',\n",
       " '//meta.wikimedia.org',\n",
       " '//login.wikimedia.org']"
      ]
     },
     "execution_count": 112,
     "metadata": {},
     "output_type": "execute_result"
    }
   ],
   "source": [
    "link_f=[e.attrs['href'] for e in tabla8]\n",
    "link_f"
   ]
  },
  {
   "cell_type": "markdown",
   "metadata": {},
   "source": [
    "#### Number of Titles that have changed in the United States Code since its last release point "
   ]
  },
  {
   "cell_type": "code",
   "execution_count": 113,
   "metadata": {},
   "outputs": [],
   "source": [
    "# This is the url you will scrape in this exercise\n",
    "url = 'http://uscode.house.gov/download/download.shtml'"
   ]
  },
  {
   "cell_type": "code",
   "execution_count": 114,
   "metadata": {},
   "outputs": [
    {
     "data": {
      "text/plain": [
       "9"
      ]
     },
     "execution_count": 114,
     "metadata": {},
     "output_type": "execute_result"
    }
   ],
   "source": [
    "bold=req.get(url).text\n",
    "\n",
    "soup=bs(bold, 'html.parser')\n",
    "\n",
    "tabla9=soup.find_all('div', class_='usctitlechanged')\n",
    "\n",
    "len(tabla9)"
   ]
  },
  {
   "cell_type": "code",
   "execution_count": 115,
   "metadata": {},
   "outputs": [
    {
     "data": {
      "text/plain": [
       "'Title 17 - Copyrights ٭'"
      ]
     },
     "execution_count": 115,
     "metadata": {},
     "output_type": "execute_result"
    }
   ],
   "source": [
    "name = soup.find_all('div', class_='usctitlechanged')\n",
    "name[0].text.strip()"
   ]
  },
  {
   "cell_type": "code",
   "execution_count": 116,
   "metadata": {},
   "outputs": [
    {
     "data": {
      "text/plain": [
       "['Title 17 - Copyrights ٭',\n",
       " 'Title 22 - Foreign Relations and Intercourse',\n",
       " \"Title 38 - Veterans' Benefits ٭\",\n",
       " 'Title 40 - Public Buildings, Property, and Works ٭',\n",
       " 'Title 41 - Public Contracts ٭',\n",
       " 'Title 42 - The Public Health and Welfare',\n",
       " 'Title 44 - Public Printing and Documents ٭',\n",
       " 'Title 49 - Transportation ٭',\n",
       " 'Title 54 - National Park Service and Related Programs ٭']"
      ]
     },
     "execution_count": 116,
     "metadata": {},
     "output_type": "execute_result"
    }
   ],
   "source": [
    "[e.text.strip() for e in ]"
   ]
  },
  {
   "cell_type": "markdown",
   "metadata": {},
   "source": [
    "#### A Python list with the top ten FBI's Most Wanted names "
   ]
  },
  {
   "cell_type": "code",
   "execution_count": 117,
   "metadata": {},
   "outputs": [],
   "source": [
    "# This is the url you will scrape in this exercise\n",
    "url = 'https://www.fbi.gov/wanted/topten'"
   ]
  },
  {
   "cell_type": "code",
   "execution_count": 119,
   "metadata": {},
   "outputs": [],
   "source": [
    "FBI=req.get(url).text\n",
    "\n",
    "soup=bs(FBI, 'html.parser')\n",
    "\n",
    "tabla10=soup.find_all('h3', class_='title')\n",
    "\n"
   ]
  },
  {
   "cell_type": "code",
   "execution_count": 120,
   "metadata": {},
   "outputs": [
    {
     "data": {
      "text/plain": [
       "['OMAR ALEXANDER CARDENAS',\n",
       " 'ALEXIS FLORES',\n",
       " 'JOSE RODOLFO VILLARREAL-HERNANDEZ',\n",
       " 'YULAN ADONAY ARCHAGA CARIAS',\n",
       " 'BHADRESHKUMAR CHETANBHAI PATEL',\n",
       " 'ALEJANDRO ROSALES CASTILLO',\n",
       " 'MICHAEL JAMES PRATT',\n",
       " 'RUJA IGNATOVA',\n",
       " 'ARNOLDO JIMENEZ',\n",
       " 'RAFAEL CARO-QUINTERO']"
      ]
     },
     "execution_count": 120,
     "metadata": {},
     "output_type": "execute_result"
    }
   ],
   "source": [
    "FBI2 = [e.text.strip().replace('/\\n\\n','') for e in tabla10]\n",
    "FBI2"
   ]
  },
  {
   "cell_type": "markdown",
   "metadata": {},
   "source": [
    "####  20 latest earthquakes info (date, time, latitude, longitude and region name) by the EMSC as a pandas dataframe"
   ]
  },
  {
   "cell_type": "code",
   "execution_count": null,
   "metadata": {},
   "outputs": [],
   "source": [
    "# This is the url you will scrape in this exercise\n",
    "url = 'https://www.emsc-csem.org/Earthquake/'"
   ]
  },
  {
   "cell_type": "code",
   "execution_count": null,
   "metadata": {},
   "outputs": [],
   "source": [
    "#your code"
   ]
  },
  {
   "cell_type": "markdown",
   "metadata": {},
   "source": [
    "#### List all language names and number of related articles in the order they appear in wikipedia.org"
   ]
  },
  {
   "cell_type": "code",
   "execution_count": 143,
   "metadata": {},
   "outputs": [],
   "source": [
    "# This is the url you will scrape in this exercise\n",
    "url = 'https://www.wikipedia.org/'"
   ]
  },
  {
   "cell_type": "code",
   "execution_count": 144,
   "metadata": {},
   "outputs": [
    {
     "data": {
      "text/plain": [
       "'English'"
      ]
     },
     "execution_count": 144,
     "metadata": {},
     "output_type": "execute_result"
    }
   ],
   "source": [
    "lang=req.get(url).text\n",
    "\n",
    "soup=bs(lang, 'html.parser')\n",
    "\n",
    "tablalang=soup.find_all('div', class_='central-featured-lang')\n",
    "tablalang[0].text.strip().split('\\n')[0]"
   ]
  },
  {
   "cell_type": "code",
   "execution_count": 145,
   "metadata": {},
   "outputs": [
    {
     "data": {
      "text/plain": [
       "['English',\n",
       " 'æ\\x97¥æ\\x9c¬èª\\x9e',\n",
       " 'EspaÃ±ol',\n",
       " 'Ð\\xa0Ñ\\x83Ñ\\x81Ñ\\x81ÐºÐ¸Ð¹',\n",
       " 'FranÃ§ais',\n",
       " 'Deutsch',\n",
       " 'Italiano',\n",
       " 'ä¸\\xadæ\\x96\\x87',\n",
       " 'PortuguÃªs',\n",
       " 'Ø§Ù\\x84Ø¹Ø±Ø¨Ù\\x8aØ©']"
      ]
     },
     "execution_count": 145,
     "metadata": {},
     "output_type": "execute_result"
    }
   ],
   "source": [
    "lang = [e.text.strip().split('\\n')[0] for e in tablalang]\n",
    "lang"
   ]
  },
  {
   "cell_type": "code",
   "execution_count": 47,
   "metadata": {},
   "outputs": [
    {
     "data": {
      "text/plain": [
       "[<bdi dir=\"ltr\">6 458 000+</bdi>,\n",
       " <bdi dir=\"ltr\">1 314 000+</bdi>,\n",
       " <bdi dir=\"ltr\">1 755 000+</bdi>,\n",
       " <bdi dir=\"ltr\">1 798 000+</bdi>,\n",
       " <bdi dir=\"ltr\">2 400 000+</bdi>,\n",
       " <bdi dir=\"ltr\">2 667 000+</bdi>,\n",
       " <bdi dir=\"ltr\">1 742 000+</bdi>,\n",
       " <bdi dir=\"ltr\">1 256 000+</bdi>,\n",
       " <bdi dir=\"ltr\">1 085 000+</bdi>]"
      ]
     },
     "execution_count": 47,
     "metadata": {},
     "output_type": "execute_result"
    }
   ],
   "source": [
    "num=req.get(url).text\n",
    "\n",
    "soup=bs(num, 'html.parser')\n",
    "\n",
    "tablanum=soup.find_all('bdi')[0:9]\n",
    "tablanum"
   ]
  },
  {
   "cell_type": "code",
   "execution_count": 49,
   "metadata": {},
   "outputs": [
    {
     "data": {
      "text/plain": [
       "['6\\xa0458\\xa0000+',\n",
       " '1\\xa0314\\xa0000+',\n",
       " '1\\xa0755\\xa0000+',\n",
       " '1\\xa0798\\xa0000+',\n",
       " '2\\xa0400\\xa0000+',\n",
       " '2\\xa0667\\xa0000+',\n",
       " '1\\xa0742\\xa0000+',\n",
       " '1\\xa0256\\xa0000+',\n",
       " '1\\xa0085\\xa0000+']"
      ]
     },
     "execution_count": 49,
     "metadata": {},
     "output_type": "execute_result"
    }
   ],
   "source": [
    "num = [e.text.strip() for e in tablanum]\n",
    "num"
   ]
  },
  {
   "cell_type": "markdown",
   "metadata": {},
   "source": [
    "#### A list with the different kind of datasets available in data.gov.uk "
   ]
  },
  {
   "cell_type": "code",
   "execution_count": 147,
   "metadata": {},
   "outputs": [],
   "source": [
    "# This is the url you will scrape in this exercise\n",
    "url = 'https://data.gov.uk/'"
   ]
  },
  {
   "cell_type": "code",
   "execution_count": 148,
   "metadata": {},
   "outputs": [],
   "source": [
    "gov=req.get(url).text\n",
    "\n",
    "soup=bs(gov, 'html.parser')\n",
    "\n",
    "tablagov=soup.find_all('a', class_='govuk-link')[4:]\n"
   ]
  },
  {
   "cell_type": "code",
   "execution_count": 149,
   "metadata": {},
   "outputs": [
    {
     "data": {
      "text/plain": [
       "['Business and economy',\n",
       " 'Crime and justice',\n",
       " 'Defence',\n",
       " 'Education',\n",
       " 'Environment',\n",
       " 'Government',\n",
       " 'Government spending',\n",
       " 'Health',\n",
       " 'Mapping',\n",
       " 'Society',\n",
       " 'Towns and cities',\n",
       " 'Transport',\n",
       " 'Digital service performance',\n",
       " 'Government reference data']"
      ]
     },
     "execution_count": 149,
     "metadata": {},
     "output_type": "execute_result"
    }
   ],
   "source": [
    "gov = [e.text.strip() for e in tablagov]\n",
    "gov"
   ]
  },
  {
   "cell_type": "markdown",
   "metadata": {},
   "source": [
    "#### Top 10 languages by number of native speakers stored in a Pandas Dataframe"
   ]
  },
  {
   "cell_type": "code",
   "execution_count": 70,
   "metadata": {},
   "outputs": [],
   "source": [
    "# This is the url you will scrape in this exercise\n",
    "url = 'https://en.wikipedia.org/wiki/List_of_languages_by_number_of_native_speakers'"
   ]
  },
  {
   "cell_type": "code",
   "execution_count": 71,
   "metadata": {},
   "outputs": [
    {
     "data": {
      "text/plain": [
       "['Language',\n",
       " '',\n",
       " 'Native speakers(millions)',\n",
       " '',\n",
       " 'Language family',\n",
       " '',\n",
       " 'Branch']"
      ]
     },
     "execution_count": 71,
     "metadata": {},
     "output_type": "execute_result"
    }
   ],
   "source": [
    "toplan=req.get(url).text\n",
    "\n",
    "soup=bs(toplan, 'html.parser')\n",
    "\n",
    "tablagov=soup.find_all('tr')\n",
    "columnas = tablagov[0].text.strip().split(\"\\n\")\n",
    "columnas"
   ]
  },
  {
   "cell_type": "code",
   "execution_count": 74,
   "metadata": {},
   "outputs": [
    {
     "data": {
      "text/plain": [
       "['Language', 'Native speakers(millions)', 'Language family', 'Branch']"
      ]
     },
     "execution_count": 74,
     "metadata": {},
     "output_type": "execute_result"
    }
   ],
   "source": [
    "columns = []\n",
    "for i in columnas:\n",
    "    if i != \"\":\n",
    "        columns.append(i)\n",
    "columns"
   ]
  },
  {
   "cell_type": "code",
   "execution_count": 77,
   "metadata": {},
   "outputs": [
    {
     "data": {
      "text/plain": [
       "<tr>\n",
       "<td><a class=\"mw-redirect\" href=\"/wiki/ISO_639:cmn\" title=\"ISO 639:cmn\">Mandarin Chinese</a><br/>(incl. <a href=\"/wiki/Standard_Chinese\" title=\"Standard Chinese\">Standard Chinese</a>, but excl. <a href=\"/wiki/Varieties_of_Chinese\" title=\"Varieties of Chinese\">other varieties</a>)\n",
       "</td>\n",
       "<td>920\n",
       "</td>\n",
       "<td><a href=\"/wiki/Sino-Tibetan_languages\" title=\"Sino-Tibetan languages\">Sino-Tibetan</a>\n",
       "</td>\n",
       "<td><a href=\"/wiki/Varieties_of_Chinese\" title=\"Varieties of Chinese\">Sinitic</a>\n",
       "</td></tr>"
      ]
     },
     "execution_count": 77,
     "metadata": {},
     "output_type": "execute_result"
    }
   ],
   "source": [
    "tablagov[1]"
   ]
  },
  {
   "cell_type": "code",
   "execution_count": 78,
   "metadata": {},
   "outputs": [
    {
     "data": {
      "text/plain": [
       "['Mandarin Chinese(incl. Standard Chinese, but excl. other varieties)',\n",
       " '920',\n",
       " 'Sino-Tibetan',\n",
       " 'Sinitic']"
      ]
     },
     "execution_count": 78,
     "metadata": {},
     "output_type": "execute_result"
    }
   ],
   "source": [
    "tablagov[1].text.strip().split('\\n\\n')"
   ]
  },
  {
   "cell_type": "code",
   "execution_count": 80,
   "metadata": {},
   "outputs": [
    {
     "data": {
      "text/plain": [
       "[['Mandarin Chinese(incl. Standard Chinese, but excl. other varieties)',\n",
       "  '920',\n",
       "  'Sino-Tibetan',\n",
       "  'Sinitic'],\n",
       " ['Spanish', '475', 'Indo-European', 'Romance'],\n",
       " ['English', '373', 'Indo-European', 'Germanic'],\n",
       " ['Hindi(excl. Urdu)', '344', 'Indo-European', 'Indo-Aryan'],\n",
       " ['Bengali', '234', 'Indo-European', 'Indo-Aryan'],\n",
       " ['Portuguese', '232', 'Indo-European', 'Romance'],\n",
       " ['Russian', '154', 'Indo-European', 'Balto-Slavic'],\n",
       " ['Japanese', '125', 'Japonic', 'Japanese'],\n",
       " ['Yue Chinese(incl. Cantonese)', '85.2', 'Sino-Tibetan', 'Sinitic'],\n",
       " ['Vietnamese', '84.6', 'Austroasiatic', 'Vietic'],\n",
       " ['Marathi', '83.1', 'Indo-European', 'Indo-Aryan'],\n",
       " ['Telugu', '82.7', 'Dravidian', 'South-Central'],\n",
       " ['Turkish', '82.2', 'Turkic', 'Oghuz'],\n",
       " ['Wu Chinese(incl. Shanghainese)', '81.8', 'Sino-Tibetan', 'Sinitic'],\n",
       " ['Korean', '81.7', 'Koreanic', 'language isolate'],\n",
       " ['French', '79.9', 'Indo-European', 'Romance'],\n",
       " ['Tamil', '78.4', 'Dravidian', 'South'],\n",
       " ['Standard German', '75.6', 'Indo-European', 'Germanic'],\n",
       " ['Egyptian Spoken Arabic(excl. Saʽidi Arabic)',\n",
       "  '74.8',\n",
       "  'Afroasiatic',\n",
       "  'Semitic'],\n",
       " ['Urdu(excl. Hindi)', '70.2', 'Indo-European', 'Indo-Aryan'],\n",
       " ['Javanese', '68.3', 'Austronesian', 'Malayo-Polynesian'],\n",
       " ['Western Punjabi(excl. Eastern Punjabi)',\n",
       "  '66.4',\n",
       "  'Indo-European',\n",
       "  'Indo-Aryan'],\n",
       " ['Italian', '64.8', 'Indo-European', 'Romance'],\n",
       " ['Gujarati', '57.0', 'Indo-European', 'Indo-Aryan'],\n",
       " ['Iranian Persian(excl. Dari and Tajik)', '56.4', 'Indo-European', 'Iranian'],\n",
       " ['Bhojpuri', '52.3', 'Indo-European', 'Indo-Aryan'],\n",
       " ['Hausa', '50.8', 'Afroasiatic', 'Chadic'],\n",
       " ['Rank', 'Language', 'Percentageof worldpopulation(2018)'],\n",
       " ['1\\nMandarin Chinese\\n12.3%'],\n",
       " ['2\\nSpanish\\n6.0%'],\n",
       " ['3\\nEnglish\\n5.1%'],\n",
       " ['3\\nArabic\\n5.1%'],\n",
       " ['5\\nHindi\\n3.5%'],\n",
       " ['6\\nBengali\\n3.3%'],\n",
       " ['7\\nPortuguese\\n3.0%'],\n",
       " ['8\\nRussian\\n2.1%'],\n",
       " ['9\\nJapanese\\n1.7%'],\n",
       " ['10\\nWestern Punjabi\\n1.3%'],\n",
       " ['11\\nJavanese\\n1.1%'],\n",
       " ['vteCountries and languages lists'],\n",
       " ['CountriesBy languagesSpoken\\nCountries by spoken languages\\nOfficial\\nCountries by the number of recognized official languages\\nArabic\\nChinese\\nDutch/Afrikaans\\nEnglish\\nFrench\\nGerman\\nHindustani\\nItalian\\nMalay\\nPersian\\nPortuguese\\nRomanian\\nRussian\\nSpanish\\nTamil\\nEndonyms\\nCountries and capitals in native languages\\nExonyms\\nCountry names in various languages\\nA–C\\nD–I\\nJ–P\\nQ–Z\\nChina\\nGermany\\nIceland\\nIndia\\nIndonesia\\nJapan\\nKorea\\nKosovo\\nMyanmar\\nSingapore\\nSri Lanka\\nVietnam\\nLanguages of the African Union\\nLanguages of the European Union'],\n",
       " ['Countries'],\n",
       " ['By languagesSpoken\\nCountries by spoken languages\\nOfficial\\nCountries by the number of recognized official languages\\nArabic\\nChinese\\nDutch/Afrikaans\\nEnglish\\nFrench\\nGerman\\nHindustani\\nItalian\\nMalay\\nPersian\\nPortuguese\\nRomanian\\nRussian\\nSpanish\\nTamil\\nEndonyms\\nCountries and capitals in native languages\\nExonyms\\nCountry names in various languages\\nA–C\\nD–I\\nJ–P\\nQ–Z\\nChina\\nGermany\\nIceland\\nIndia\\nIndonesia\\nJapan\\nKorea\\nKosovo\\nMyanmar\\nSingapore\\nSri Lanka\\nVietnam\\nLanguages of the African Union\\nLanguages of the European Union'],\n",
       " ['By languagesSpoken\\nCountries by spoken languages\\nOfficial\\nCountries by the number of recognized official languages\\nArabic\\nChinese\\nDutch/Afrikaans\\nEnglish\\nFrench\\nGerman\\nHindustani\\nItalian\\nMalay\\nPersian\\nPortuguese\\nRomanian\\nRussian\\nSpanish\\nTamil'],\n",
       " ['Spoken\\nCountries by spoken languages'],\n",
       " ['Official\\nCountries by the number of recognized official languages\\nArabic\\nChinese\\nDutch/Afrikaans\\nEnglish\\nFrench\\nGerman\\nHindustani\\nItalian\\nMalay\\nPersian\\nPortuguese\\nRomanian\\nRussian\\nSpanish\\nTamil'],\n",
       " ['Endonyms\\nCountries and capitals in native languages'],\n",
       " ['Exonyms\\nCountry names in various languages\\nA–C\\nD–I\\nJ–P\\nQ–Z\\nChina\\nGermany\\nIceland\\nIndia\\nIndonesia\\nJapan\\nKorea\\nKosovo\\nMyanmar\\nSingapore\\nSri Lanka\\nVietnam\\nLanguages of the African Union\\nLanguages of the European Union'],\n",
       " ['LanguagesBy continent\\nAfrica\\nAmericas\\nNorth\\nSouth\\nAsia\\nEast\\nSouth\\nEurope\\nOceania\\nBy country\\nOfficial languages\\nby country and territory\\nList of languages without official status\\nCountries by the number of recognized official languages\\nLanguages by the number of countries in which they are recognized as an official language\\nNumber of languages\\nBy population\\nBy number of native speakers\\nBy number of total speakers\\nLanguages in censuses\\nBy family\\nLanguage families\\nList of Afro-Asiatic languages\\nList of Austronesian languages\\nList of Indo-European languages\\nList of Mongolic languages\\nList of Tungusic languages\\nList of Turkic languages\\nList of Uralic languages\\nLanguage-basedgeopoliticalorganizations\\nArab League (Arabic)\\nDutch Language Union (Dutch)\\nCommonwealth of Nations (English)\\nLatin Union\\xa0(Romance)\\nThree Linguistic Spaces\\nFrancophonie (French)\\nCommunity of Portuguese Language Countries\\nPaíses Africanos de Língua Oficial Portuguesa (Portuguese)\\nHispanidad (Spanish)\\nOrganization of Turkic States\\xa0(Turkic)\\nInternational Organization of Turkic Culture\\xa0(Turkic)\\nSee also\\nLists of languages\\nCategory:Languages'],\n",
       " ['Languages'],\n",
       " ['By continent\\nAfrica\\nAmericas\\nNorth\\nSouth\\nAsia\\nEast\\nSouth\\nEurope\\nOceania\\nBy country\\nOfficial languages\\nby country and territory\\nList of languages without official status\\nCountries by the number of recognized official languages\\nLanguages by the number of countries in which they are recognized as an official language\\nNumber of languages\\nBy population\\nBy number of native speakers\\nBy number of total speakers\\nLanguages in censuses\\nBy family\\nLanguage families\\nList of Afro-Asiatic languages\\nList of Austronesian languages\\nList of Indo-European languages\\nList of Mongolic languages\\nList of Tungusic languages\\nList of Turkic languages\\nList of Uralic languages\\nLanguage-basedgeopoliticalorganizations\\nArab League (Arabic)\\nDutch Language Union (Dutch)\\nCommonwealth of Nations (English)\\nLatin Union\\xa0(Romance)\\nThree Linguistic Spaces\\nFrancophonie (French)\\nCommunity of Portuguese Language Countries\\nPaíses Africanos de Língua Oficial Portuguesa (Portuguese)\\nHispanidad (Spanish)\\nOrganization of Turkic States\\xa0(Turkic)\\nInternational Organization of Turkic Culture\\xa0(Turkic)\\nSee also\\nLists of languages\\nCategory:Languages'],\n",
       " ['By continent\\nAfrica\\nAmericas\\nNorth\\nSouth\\nAsia\\nEast\\nSouth\\nEurope\\nOceania'],\n",
       " ['By country\\nOfficial languages\\nby country and territory\\nList of languages without official status\\nCountries by the number of recognized official languages\\nLanguages by the number of countries in which they are recognized as an official language\\nNumber of languages'],\n",
       " ['By population\\nBy number of native speakers\\nBy number of total speakers\\nLanguages in censuses'],\n",
       " ['By family\\nLanguage families\\nList of Afro-Asiatic languages\\nList of Austronesian languages\\nList of Indo-European languages\\nList of Mongolic languages\\nList of Tungusic languages\\nList of Turkic languages\\nList of Uralic languages'],\n",
       " ['Language-basedgeopoliticalorganizations\\nArab League (Arabic)\\nDutch Language Union (Dutch)\\nCommonwealth of Nations (English)\\nLatin Union\\xa0(Romance)\\nThree Linguistic Spaces\\nFrancophonie (French)\\nCommunity of Portuguese Language Countries\\nPaíses Africanos de Língua Oficial Portuguesa (Portuguese)\\nHispanidad (Spanish)\\nOrganization of Turkic States\\xa0(Turkic)\\nInternational Organization of Turkic Culture\\xa0(Turkic)'],\n",
       " ['See also\\nLists of languages\\nCategory:Languages']]"
      ]
     },
     "execution_count": 80,
     "metadata": {},
     "output_type": "execute_result"
    }
   ],
   "source": [
    "filas = [f.text.strip().split('\\n\\n') for f in tablagov][1:]\n",
    "filas"
   ]
  },
  {
   "cell_type": "code",
   "execution_count": 81,
   "metadata": {},
   "outputs": [
    {
     "data": {
      "text/html": [
       "<div>\n",
       "<style scoped>\n",
       "    .dataframe tbody tr th:only-of-type {\n",
       "        vertical-align: middle;\n",
       "    }\n",
       "\n",
       "    .dataframe tbody tr th {\n",
       "        vertical-align: top;\n",
       "    }\n",
       "\n",
       "    .dataframe thead th {\n",
       "        text-align: right;\n",
       "    }\n",
       "</style>\n",
       "<table border=\"1\" class=\"dataframe\">\n",
       "  <thead>\n",
       "    <tr style=\"text-align: right;\">\n",
       "      <th></th>\n",
       "      <th>Language</th>\n",
       "      <th>Native speakers(millions)</th>\n",
       "      <th>Language family</th>\n",
       "      <th>Branch</th>\n",
       "    </tr>\n",
       "  </thead>\n",
       "  <tbody>\n",
       "    <tr>\n",
       "      <th>0</th>\n",
       "      <td>Mandarin Chinese(incl. Standard Chinese, but e...</td>\n",
       "      <td>920</td>\n",
       "      <td>Sino-Tibetan</td>\n",
       "      <td>Sinitic</td>\n",
       "    </tr>\n",
       "    <tr>\n",
       "      <th>1</th>\n",
       "      <td>Spanish</td>\n",
       "      <td>475</td>\n",
       "      <td>Indo-European</td>\n",
       "      <td>Romance</td>\n",
       "    </tr>\n",
       "    <tr>\n",
       "      <th>2</th>\n",
       "      <td>English</td>\n",
       "      <td>373</td>\n",
       "      <td>Indo-European</td>\n",
       "      <td>Germanic</td>\n",
       "    </tr>\n",
       "    <tr>\n",
       "      <th>3</th>\n",
       "      <td>Hindi(excl. Urdu)</td>\n",
       "      <td>344</td>\n",
       "      <td>Indo-European</td>\n",
       "      <td>Indo-Aryan</td>\n",
       "    </tr>\n",
       "    <tr>\n",
       "      <th>4</th>\n",
       "      <td>Bengali</td>\n",
       "      <td>234</td>\n",
       "      <td>Indo-European</td>\n",
       "      <td>Indo-Aryan</td>\n",
       "    </tr>\n",
       "    <tr>\n",
       "      <th>5</th>\n",
       "      <td>Portuguese</td>\n",
       "      <td>232</td>\n",
       "      <td>Indo-European</td>\n",
       "      <td>Romance</td>\n",
       "    </tr>\n",
       "    <tr>\n",
       "      <th>6</th>\n",
       "      <td>Russian</td>\n",
       "      <td>154</td>\n",
       "      <td>Indo-European</td>\n",
       "      <td>Balto-Slavic</td>\n",
       "    </tr>\n",
       "    <tr>\n",
       "      <th>7</th>\n",
       "      <td>Japanese</td>\n",
       "      <td>125</td>\n",
       "      <td>Japonic</td>\n",
       "      <td>Japanese</td>\n",
       "    </tr>\n",
       "    <tr>\n",
       "      <th>8</th>\n",
       "      <td>Yue Chinese(incl. Cantonese)</td>\n",
       "      <td>85.2</td>\n",
       "      <td>Sino-Tibetan</td>\n",
       "      <td>Sinitic</td>\n",
       "    </tr>\n",
       "    <tr>\n",
       "      <th>9</th>\n",
       "      <td>Vietnamese</td>\n",
       "      <td>84.6</td>\n",
       "      <td>Austroasiatic</td>\n",
       "      <td>Vietic</td>\n",
       "    </tr>\n",
       "  </tbody>\n",
       "</table>\n",
       "</div>"
      ],
      "text/plain": [
       "                                            Language  \\\n",
       "0  Mandarin Chinese(incl. Standard Chinese, but e...   \n",
       "1                                            Spanish   \n",
       "2                                            English   \n",
       "3                                  Hindi(excl. Urdu)   \n",
       "4                                            Bengali   \n",
       "5                                         Portuguese   \n",
       "6                                            Russian   \n",
       "7                                           Japanese   \n",
       "8                       Yue Chinese(incl. Cantonese)   \n",
       "9                                         Vietnamese   \n",
       "\n",
       "  Native speakers(millions) Language family        Branch  \n",
       "0                       920    Sino-Tibetan       Sinitic  \n",
       "1                       475   Indo-European       Romance  \n",
       "2                       373   Indo-European      Germanic  \n",
       "3                       344   Indo-European    Indo-Aryan  \n",
       "4                       234   Indo-European    Indo-Aryan  \n",
       "5                       232   Indo-European       Romance  \n",
       "6                       154   Indo-European  Balto-Slavic  \n",
       "7                       125         Japonic      Japanese  \n",
       "8                      85.2    Sino-Tibetan       Sinitic  \n",
       "9                      84.6   Austroasiatic        Vietic  "
      ]
     },
     "execution_count": 81,
     "metadata": {},
     "output_type": "execute_result"
    }
   ],
   "source": [
    "df = pd.DataFrame(filas, columns=columns)\n",
    "df[:10]"
   ]
  },
  {
   "cell_type": "markdown",
   "metadata": {},
   "source": [
    "### BONUS QUESTIONS"
   ]
  },
  {
   "cell_type": "markdown",
   "metadata": {},
   "source": [
    "#### Scrape a certain number of tweets of a given Twitter account."
   ]
  },
  {
   "cell_type": "code",
   "execution_count": null,
   "metadata": {},
   "outputs": [],
   "source": [
    "# This is the url you will scrape in this exercise \n",
    "# You will need to add the account credentials to this url\n",
    "url = 'https://twitter.com/'"
   ]
  },
  {
   "cell_type": "code",
   "execution_count": null,
   "metadata": {},
   "outputs": [],
   "source": [
    "# your code"
   ]
  },
  {
   "cell_type": "markdown",
   "metadata": {},
   "source": [
    "#### IMDB's Top 250 data (movie name, Initial release, director name and stars) as a pandas dataframe"
   ]
  },
  {
   "cell_type": "code",
   "execution_count": null,
   "metadata": {},
   "outputs": [],
   "source": [
    "# This is the url you will scrape in this exercise \n",
    "url = 'https://www.imdb.com/chart/top'"
   ]
  },
  {
   "cell_type": "code",
   "execution_count": null,
   "metadata": {},
   "outputs": [],
   "source": [
    "# your code"
   ]
  },
  {
   "cell_type": "markdown",
   "metadata": {},
   "source": [
    "#### Movie name, year and a brief summary of the top 10 random movies (IMDB) as a pandas dataframe."
   ]
  },
  {
   "cell_type": "code",
   "execution_count": null,
   "metadata": {},
   "outputs": [],
   "source": [
    "#This is the url you will scrape in this exercise\n",
    "url = 'http://www.imdb.com/chart/top'"
   ]
  },
  {
   "cell_type": "code",
   "execution_count": null,
   "metadata": {},
   "outputs": [],
   "source": [
    "#your code"
   ]
  },
  {
   "cell_type": "markdown",
   "metadata": {},
   "source": [
    "#### Find the live weather report (temperature, wind speed, description and weather) of a given city."
   ]
  },
  {
   "cell_type": "code",
   "execution_count": null,
   "metadata": {},
   "outputs": [],
   "source": [
    "#https://openweathermap.org/current\n",
    "city = city=input('Enter the city:')\n",
    "url = 'http://api.openweathermap.org/data/2.5/weather?'+'q='+city+'&APPID=b35975e18dc93725acb092f7272cc6b8&units=metric'"
   ]
  },
  {
   "cell_type": "code",
   "execution_count": null,
   "metadata": {},
   "outputs": [],
   "source": [
    "# your code"
   ]
  },
  {
   "cell_type": "markdown",
   "metadata": {},
   "source": [
    "#### Book name,price and stock availability as a pandas dataframe."
   ]
  },
  {
   "cell_type": "code",
   "execution_count": null,
   "metadata": {},
   "outputs": [],
   "source": [
    "# This is the url you will scrape in this exercise. \n",
    "# It is a fictional bookstore created to be scraped. \n",
    "url = 'http://books.toscrape.com/'"
   ]
  },
  {
   "cell_type": "code",
   "execution_count": null,
   "metadata": {},
   "outputs": [],
   "source": [
    "#your code"
   ]
  }
 ],
 "metadata": {
  "kernelspec": {
   "display_name": "Python 3 (ipykernel)",
   "language": "python",
   "name": "python3"
  },
  "language_info": {
   "codemirror_mode": {
    "name": "ipython",
    "version": 3
   },
   "file_extension": ".py",
   "mimetype": "text/x-python",
   "name": "python",
   "nbconvert_exporter": "python",
   "pygments_lexer": "ipython3",
   "version": "3.9.12"
  }
 },
 "nbformat": 4,
 "nbformat_minor": 2
}
