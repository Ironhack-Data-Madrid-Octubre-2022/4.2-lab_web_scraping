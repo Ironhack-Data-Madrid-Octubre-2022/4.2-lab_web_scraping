{
 "cells": [
  {
   "cell_type": "markdown",
   "metadata": {},
   "source": [
    "# Web Scraping Lab\n",
    "\n",
    "You will find in this notebook some scrapy exercises to practise your scraping skills.\n",
    "\n",
    "**Tips:**\n",
    "\n",
    "- Check the response status code for each request to ensure you have obtained the intended contennt.\n",
    "- Print the response text in each request to understand the kind of info you are getting and its format.\n",
    "- Check for patterns in the response text to extract the data/info requested in each question.\n",
    "- Visit each url and take a look at its source through Chrome DevTools. You'll need to identify the html tags, special class names etc. used for the html content you are expected to extract."
   ]
  },
  {
   "cell_type": "markdown",
   "metadata": {},
   "source": [
    "- [Requests library](http://docs.python-requests.org/en/master/#the-user-guide) documentation \n",
    "- [Beautiful Soup Doc](https://www.crummy.com/software/BeautifulSoup/bs4/doc/)\n",
    "- [Urllib](https://docs.python.org/3/library/urllib.html#module-urllib)\n",
    "- [re lib](https://docs.python.org/3/library/re.html)\n",
    "- [lxml lib](https://lxml.de/)\n",
    "- [Scrapy](https://scrapy.org/)\n",
    "- [List of HTTP status codes](https://en.wikipedia.org/wiki/List_of_HTTP_status_codes)\n",
    "- [HTML basics](http://www.simplehtmlguide.com/cheatsheet.php)\n",
    "- [CSS basics](https://www.cssbasics.com/#page_start)"
   ]
  },
  {
   "cell_type": "markdown",
   "metadata": {},
   "source": [
    "#### Below are the libraries and modules you may need. `requests`,  `BeautifulSoup` and `pandas` are imported for you. If you prefer to use additional libraries feel free to uncomment them."
   ]
  },
  {
   "cell_type": "code",
   "execution_count": 1,
   "metadata": {},
   "outputs": [
    {
     "name": "stdout",
     "output_type": "stream",
     "text": [
      "Requirement already satisfied: beautifulsoup4 in c:\\users\\nonito\\anaconda3\\lib\\site-packages (4.11.1)\n",
      "Requirement already satisfied: soupsieve>1.2 in c:\\users\\nonito\\anaconda3\\lib\\site-packages (from beautifulsoup4) (2.3.1)\n",
      "Note: you may need to restart the kernel to use updated packages.\n"
     ]
    }
   ],
   "source": [
    "%pip install beautifulsoup4"
   ]
  },
  {
   "cell_type": "code",
   "execution_count": 2,
   "metadata": {},
   "outputs": [],
   "source": [
    "import requests as req\n",
    "from bs4 import BeautifulSoup as bs\n",
    "import pandas as pd\n",
    "# from pprint import pprint\n",
    "# from lxml import html\n",
    "# from lxml.html import fromstring\n",
    "# import urllib.request\n",
    "# from urllib.request import urlopen\n",
    "# import random\n",
    "# import re\n",
    "# import scrapy"
   ]
  },
  {
   "cell_type": "markdown",
   "metadata": {},
   "source": [
    "#### Download, parse (using BeautifulSoup), and print the content from the Trending Developers page from GitHub:"
   ]
  },
  {
   "cell_type": "code",
   "execution_count": 3,
   "metadata": {},
   "outputs": [],
   "source": [
    "# This is the url you will scrape in this exercise\n",
    "url = 'https://github.com/trending/developers'"
   ]
  },
  {
   "cell_type": "code",
   "execution_count": 4,
   "metadata": {},
   "outputs": [],
   "source": [
    "html=req.get(url).text\n",
    "\n",
    "sopa=bs(html, 'html.parser')"
   ]
  },
  {
   "cell_type": "code",
   "execution_count": 5,
   "metadata": {},
   "outputs": [],
   "source": [
    "#sopa"
   ]
  },
  {
   "cell_type": "markdown",
   "metadata": {},
   "source": [
    "#### Display the names of the trending developers retrieved in the previous step.\n",
    "\n",
    "Your output should be a Python list of developer names. Each name should not contain any html tag.\n",
    "\n",
    "**Instructions:**\n",
    "\n",
    "1. Find out the html tag and class names used for the developer names. You can achieve this using Chrome DevTools.\n",
    "\n",
    "1. Use BeautifulSoup to extract all the html elements that contain the developer names.\n",
    "\n",
    "1. Use string manipulation techniques to replace whitespaces and linebreaks (i.e. `\\n`) in the *text* of each html element. Use a list to store the clean names.\n",
    "\n",
    "1. Print the list of names.\n",
    "\n",
    "Your output should look like below:\n",
    "\n",
    "```\n",
    "['trimstray (@trimstray)',\n",
    " 'joewalnes (JoeWalnes)',\n",
    " 'charlax (Charles-AxelDein)',\n",
    " 'ForrestKnight (ForrestKnight)',\n",
    " 'revery-ui (revery-ui)',\n",
    " 'alibaba (Alibaba)',\n",
    " 'Microsoft (Microsoft)',\n",
    " 'github (GitHub)',\n",
    " 'facebook (Facebook)',\n",
    " 'boazsegev (Bo)',\n",
    " 'google (Google)',\n",
    " 'cloudfetch',\n",
    " 'sindresorhus (SindreSorhus)',\n",
    " 'tensorflow',\n",
    " 'apache (TheApacheSoftwareFoundation)',\n",
    " 'DevonCrawford (DevonCrawford)',\n",
    " 'ARMmbed (ArmMbed)',\n",
    " 'vuejs (vuejs)',\n",
    " 'fastai (fast.ai)',\n",
    " 'QiShaoXuan (Qi)',\n",
    " 'joelparkerhenderson (JoelParkerHenderson)',\n",
    " 'torvalds (LinusTorvalds)',\n",
    " 'CyC2018',\n",
    " 'komeiji-satori (神楽坂覚々)',\n",
    " 'script-8']\n",
    " ```"
   ]
  },
  {
   "cell_type": "code",
   "execution_count": 6,
   "metadata": {},
   "outputs": [],
   "source": [
    "trend=sopa.find_all('article', class_='Box-row d-flex')"
   ]
  },
  {
   "cell_type": "code",
   "execution_count": 841,
   "metadata": {},
   "outputs": [],
   "source": [
    "#trend"
   ]
  },
  {
   "cell_type": "code",
   "execution_count": 8,
   "metadata": {},
   "outputs": [],
   "source": [
    "trend=trend[0].find('h1', class_='h3 lh-condensed')"
   ]
  },
  {
   "cell_type": "code",
   "execution_count": 9,
   "metadata": {},
   "outputs": [
    {
     "data": {
      "text/plain": [
       "'Emil Ernerfeldt'"
      ]
     },
     "execution_count": 9,
     "metadata": {},
     "output_type": "execute_result"
    }
   ],
   "source": [
    "trend.text.strip()"
   ]
  },
  {
   "cell_type": "code",
   "execution_count": 10,
   "metadata": {},
   "outputs": [],
   "source": [
    "def encontrar(web):\n",
    "    \n",
    "    url=web\n",
    "    \n",
    "    html=req.get(url).content\n",
    "\n",
    "    sopa=bs(html, 'html.parser')\n",
    "    \n",
    "    trend=sopa.find_all('h1', class_='h3 lh-condensed')\n",
    "    \n",
    "    names=[e.text.strip() for e in trend]\n",
    "    \n",
    "    return names"
   ]
  },
  {
   "cell_type": "code",
   "execution_count": 11,
   "metadata": {},
   "outputs": [
    {
     "data": {
      "text/plain": [
       "['Emil Ernerfeldt',\n",
       " 'Earle F. Philhower, III',\n",
       " 'Nikita Sobolev',\n",
       " 'Stephen Celis',\n",
       " 'Justin Fagnani',\n",
       " 'Manu MA',\n",
       " 'Joshua',\n",
       " 'Simon H',\n",
       " 'Marcus Olsson',\n",
       " 'Ben V. Brown',\n",
       " 'Jonny Borges',\n",
       " 'Andrew Kane',\n",
       " 'Wangchong Zhou',\n",
       " 'Mislav Marohnić',\n",
       " 'Matthias Fey',\n",
       " 'Elliana May',\n",
       " 'Romain Beaumont',\n",
       " 'Hari Sekhon',\n",
       " 'osy',\n",
       " 'Adam Johnson',\n",
       " 'Pedro Cuenca',\n",
       " 'Alex Gaynor',\n",
       " 'Henrik Rydgård',\n",
       " 'Joshua Levy',\n",
       " 'Mu Li']"
      ]
     },
     "execution_count": 11,
     "metadata": {},
     "output_type": "execute_result"
    }
   ],
   "source": [
    "encontrar('https://github.com/trending/developers')"
   ]
  },
  {
   "cell_type": "markdown",
   "metadata": {},
   "source": [
    "#### Display the trending Python repositories in GitHub\n",
    "\n",
    "The steps to solve this problem is similar to the previous one except that you need to find out the repository names instead of developer names."
   ]
  },
  {
   "cell_type": "code",
   "execution_count": 51,
   "metadata": {},
   "outputs": [],
   "source": [
    "# This is the url you will scrape in this exercise\n",
    "url = 'https://github.com/trending/python?since=daily'"
   ]
  },
  {
   "cell_type": "code",
   "execution_count": 53,
   "metadata": {},
   "outputs": [],
   "source": [
    "html=req.get(url).content\n",
    "\n",
    "sopa=bs(html, 'html.parser')\n",
    "\n",
    "repo=sopa.find('article', class_='Box-row')"
   ]
  },
  {
   "cell_type": "code",
   "execution_count": 88,
   "metadata": {},
   "outputs": [],
   "source": [
    "repos=repo.find('h1', class_='h3 lh-condensed').text.strip().replace('\\n', '').replace(\" \",\"\")"
   ]
  },
  {
   "cell_type": "code",
   "execution_count": 89,
   "metadata": {},
   "outputs": [
    {
     "data": {
      "text/plain": [
       "'bregman-arie/devops-exercises'"
      ]
     },
     "execution_count": 89,
     "metadata": {},
     "output_type": "execute_result"
    }
   ],
   "source": [
    "repos"
   ]
  },
  {
   "cell_type": "code",
   "execution_count": 94,
   "metadata": {},
   "outputs": [],
   "source": [
    "def repos(web):\n",
    "    \n",
    "    url=web\n",
    "    \n",
    "    html=req.get(url).content\n",
    "\n",
    "    sopa=bs(html, 'html.parser')\n",
    "    \n",
    "    repo=sopa.find_all('h1', class_='h3 lh-condensed')\n",
    "    \n",
    "    repos=[e.text.strip().replace('\\n', '').replace(\" \",\"\") for e in repo]\n",
    "    \n",
    "    return repos"
   ]
  },
  {
   "cell_type": "code",
   "execution_count": 95,
   "metadata": {},
   "outputs": [
    {
     "data": {
      "text/plain": [
       "['bregman-arie/devops-exercises',\n",
       " 'public-apis/public-apis',\n",
       " 'geohot/tinygrad',\n",
       " 'mlflow/mlflow',\n",
       " 'PaddlePaddle/PaddleDetection',\n",
       " 'google/jax',\n",
       " 'iterativv/NostalgiaForInfinity',\n",
       " 'netbox-community/netbox',\n",
       " 'tiangolo/typer',\n",
       " 'streamlit/streamlit',\n",
       " 'modelscope/modelscope',\n",
       " 'LetusDevops/LearnPython',\n",
       " 'nerfstudio-project/nerfstudio',\n",
       " 'idanya/algo-trader',\n",
       " 'heartexlabs/labelImg',\n",
       " 'microsoft/pyright',\n",
       " 'sqlmapproject/sqlmap',\n",
       " 'unifyai/ivy',\n",
       " 'crytic/slither',\n",
       " 'ultralytics/yolov5',\n",
       " 'home-assistant/core',\n",
       " 'WeAreMahsaAmini/FreeInternet',\n",
       " 'open-mmlab/mmocr',\n",
       " 'Lightning-AI/lightning',\n",
       " 'demisto/content']"
      ]
     },
     "execution_count": 95,
     "metadata": {},
     "output_type": "execute_result"
    }
   ],
   "source": [
    "repos('https://github.com/trending/python?since=daily')"
   ]
  },
  {
   "cell_type": "markdown",
   "metadata": {},
   "source": [
    "#### Display all the image links from Walt Disney wikipedia page"
   ]
  },
  {
   "cell_type": "code",
   "execution_count": 100,
   "metadata": {},
   "outputs": [],
   "source": [
    "# This is the url you will scrape in this exercise\n",
    "url = 'https://en.wikipedia.org/wiki/Walt_Disney'"
   ]
  },
  {
   "cell_type": "code",
   "execution_count": 145,
   "metadata": {},
   "outputs": [
    {
     "data": {
      "text/plain": [
       "<img alt=\"Walt Disney 1946.JPG\" data-file-height=\"675\" data-file-width=\"450\" decoding=\"async\" height=\"330\" src=\"//upload.wikimedia.org/wikipedia/commons/thumb/d/df/Walt_Disney_1946.JPG/220px-Walt_Disney_1946.JPG\" srcset=\"//upload.wikimedia.org/wikipedia/commons/thumb/d/df/Walt_Disney_1946.JPG/330px-Walt_Disney_1946.JPG 1.5x, //upload.wikimedia.org/wikipedia/commons/thumb/d/df/Walt_Disney_1946.JPG/440px-Walt_Disney_1946.JPG 2x\" width=\"220\"/>"
      ]
     },
     "execution_count": 145,
     "metadata": {},
     "output_type": "execute_result"
    }
   ],
   "source": [
    "html=req.get(url).content\n",
    "\n",
    "sopa=bs(html, 'html.parser')\n",
    "\n",
    "img=sopa.find_all('div', class_='mw-body-content mw-content-ltr')\n",
    "\n",
    "img=img[0].find_all('img')\n",
    "\n",
    "img[0]"
   ]
  },
  {
   "cell_type": "code",
   "execution_count": 148,
   "metadata": {},
   "outputs": [
    {
     "data": {
      "text/plain": [
       "'upload.wikimedia.org/wikipedia/commons/thumb/d/df/Walt_Disney_1946.JPG/220px-Walt_Disney_1946.JPG'"
      ]
     },
     "execution_count": 148,
     "metadata": {},
     "output_type": "execute_result"
    }
   ],
   "source": [
    "img[0].attrs['src'].replace('//','')"
   ]
  },
  {
   "cell_type": "code",
   "execution_count": 156,
   "metadata": {},
   "outputs": [],
   "source": [
    "def img(web):\n",
    "    \n",
    "    url=web\n",
    "    \n",
    "    html=req.get(url).content\n",
    "\n",
    "    sopa=bs(html, 'html.parser')\n",
    "    \n",
    "    img=sopa.find_all('div', class_='mw-body-content mw-content-ltr')\n",
    "    \n",
    "    img=img[0].find_all('img')\n",
    "    \n",
    "    imgs=['http://'+e.attrs['src'].replace('//','') for e in img]\n",
    "    \n",
    "    return imgs"
   ]
  },
  {
   "cell_type": "code",
   "execution_count": 152,
   "metadata": {},
   "outputs": [
    {
     "name": "stdout",
     "output_type": "stream",
     "text": [
      "Requirement already satisfied: IPython in c:\\users\\nonito\\anaconda3\\lib\\site-packages (8.2.0)\n",
      "Requirement already satisfied: stack-data in c:\\users\\nonito\\anaconda3\\lib\\site-packages (from IPython) (0.2.0)\n",
      "Requirement already satisfied: decorator in c:\\users\\nonito\\anaconda3\\lib\\site-packages (from IPython) (5.1.1)\n",
      "Requirement already satisfied: pickleshare in c:\\users\\nonito\\anaconda3\\lib\\site-packages (from IPython) (0.7.5)\n",
      "Requirement already satisfied: jedi>=0.16 in c:\\users\\nonito\\anaconda3\\lib\\site-packages (from IPython) (0.18.1)\n",
      "Requirement already satisfied: prompt-toolkit!=3.0.0,!=3.0.1,<3.1.0,>=2.0.0 in c:\\users\\nonito\\anaconda3\\lib\\site-packages (from IPython) (3.0.20)\n",
      "Requirement already satisfied: colorama in c:\\users\\nonito\\anaconda3\\lib\\site-packages (from IPython) (0.4.4)\n",
      "Requirement already satisfied: backcall in c:\\users\\nonito\\anaconda3\\lib\\site-packages (from IPython) (0.2.0)\n",
      "Requirement already satisfied: setuptools>=18.5 in c:\\users\\nonito\\anaconda3\\lib\\site-packages (from IPython) (61.2.0)\n",
      "Requirement already satisfied: matplotlib-inline in c:\\users\\nonito\\anaconda3\\lib\\site-packages (from IPython) (0.1.2)\n",
      "Requirement already satisfied: pygments>=2.4.0 in c:\\users\\nonito\\anaconda3\\lib\\site-packages (from IPython) (2.11.2)\n",
      "Requirement already satisfied: traitlets>=5 in c:\\users\\nonito\\anaconda3\\lib\\site-packages (from IPython) (5.1.1)\n",
      "Requirement already satisfied: parso<0.9.0,>=0.8.0 in c:\\users\\nonito\\anaconda3\\lib\\site-packages (from jedi>=0.16->IPython) (0.8.3)\n",
      "Requirement already satisfied: wcwidth in c:\\users\\nonito\\anaconda3\\lib\\site-packages (from prompt-toolkit!=3.0.0,!=3.0.1,<3.1.0,>=2.0.0->IPython) (0.2.5)\n",
      "Requirement already satisfied: pure-eval in c:\\users\\nonito\\anaconda3\\lib\\site-packages (from stack-data->IPython) (0.2.2)\n",
      "Requirement already satisfied: executing in c:\\users\\nonito\\anaconda3\\lib\\site-packages (from stack-data->IPython) (0.8.3)\n",
      "Requirement already satisfied: asttokens in c:\\users\\nonito\\anaconda3\\lib\\site-packages (from stack-data->IPython) (2.0.5)\n",
      "Requirement already satisfied: six in c:\\users\\nonito\\anaconda3\\lib\\site-packages (from asttokens->stack-data->IPython) (1.16.0)\n",
      "Note: you may need to restart the kernel to use updated packages.\n"
     ]
    }
   ],
   "source": [
    "%pip install IPython"
   ]
  },
  {
   "cell_type": "code",
   "execution_count": 842,
   "metadata": {},
   "outputs": [
    {
     "data": {
      "text/plain": [
       "\"for i in img('https://en.wikipedia.org/wiki/Walt_Disney'):\\n    print(i)\\n    display(Image(url=i))\""
      ]
     },
     "execution_count": 842,
     "metadata": {},
     "output_type": "execute_result"
    }
   ],
   "source": [
    "from IPython.display import Image\n",
    "\n",
    "\"\"\"for i in img('https://en.wikipedia.org/wiki/Walt_Disney'):\n",
    "    print(i)\n",
    "    display(Image(url=i))\"\"\""
   ]
  },
  {
   "cell_type": "markdown",
   "metadata": {},
   "source": [
    "#### Retrieve an arbitary Wikipedia page of \"Python\" and create a list of links on that page"
   ]
  },
  {
   "cell_type": "code",
   "execution_count": 830,
   "metadata": {},
   "outputs": [],
   "source": [
    "# This is the url you will scrape in this exercise\n",
    "url ='https://en.wikipedia.org/wiki/Python' "
   ]
  },
  {
   "cell_type": "code",
   "execution_count": 831,
   "metadata": {},
   "outputs": [],
   "source": [
    "html=req.get(url).content\n",
    "\n",
    "sopa=bs(html, 'html.parser')\n"
   ]
  },
  {
   "cell_type": "code",
   "execution_count": 840,
   "metadata": {},
   "outputs": [],
   "source": [
    "python=[]\n",
    "for a in sopa.find_all('a', href=True):\n",
    "    python.append(a['href'])\n",
    "\n",
    "py=[]\n",
    "for i in python:\n",
    "    if \"/wiki/\" in i:\n",
    "        py.append(i)"
   ]
  },
  {
   "cell_type": "code",
   "execution_count": 843,
   "metadata": {},
   "outputs": [],
   "source": [
    "#Sigo sin saber sacar de los enlaces las cosas :'("
   ]
  },
  {
   "cell_type": "markdown",
   "metadata": {},
   "source": [
    "#### Number of Titles that have changed in the United States Code since its last release point "
   ]
  },
  {
   "cell_type": "code",
   "execution_count": 349,
   "metadata": {},
   "outputs": [],
   "source": [
    "# This is the url you will scrape in this exercise\n",
    "url = 'http://uscode.house.gov/download/download.shtml'"
   ]
  },
  {
   "cell_type": "code",
   "execution_count": 388,
   "metadata": {
    "scrolled": true
   },
   "outputs": [
    {
     "data": {
      "text/plain": [
       "['Title 17 - Copyrights ',\n",
       " 'Title 22 - Foreign Relations and Intercourse',\n",
       " \"Title 38 - Veterans' Benefits \",\n",
       " 'Title 40 - Public Buildings, Property, and Works ',\n",
       " 'Title 41 - Public Contracts ',\n",
       " 'Title 42 - The Public Health and Welfare',\n",
       " 'Title 44 - Public Printing and Documents ',\n",
       " 'Title 49 - Transportation ',\n",
       " 'Title 54 - National Park Service and Related Programs ']"
      ]
     },
     "execution_count": 388,
     "metadata": {},
     "output_type": "execute_result"
    }
   ],
   "source": [
    "html=req.get(url).content\n",
    "\n",
    "sopa=bs(html, 'html.parser')\n",
    "\n",
    "titles=sopa.find_all('div', class_='usctitlechanged')\n",
    "\n",
    "titlesc=[]\n",
    "for i in titles:\n",
    "    titlesc.append(i.text.replace(\"\\n\",\"\").replace(\"  \",\"\").replace('٭\"',\"\").replace(\"٭\",\"\"))\n",
    "\n",
    "titlesc"
   ]
  },
  {
   "cell_type": "markdown",
   "metadata": {},
   "source": [
    "#### A Python list with the top ten FBI's Most Wanted names "
   ]
  },
  {
   "cell_type": "code",
   "execution_count": 389,
   "metadata": {},
   "outputs": [],
   "source": [
    "# This is the url you will scrape in this exercise\n",
    "url = 'https://www.fbi.gov/wanted/topten'"
   ]
  },
  {
   "cell_type": "code",
   "execution_count": 420,
   "metadata": {},
   "outputs": [
    {
     "data": {
      "text/plain": [
       "['OMAR ALEXANDER CARDENAS',\n",
       " 'ALEXIS FLORES',\n",
       " 'JOSE RODOLFO VILLARREAL-HERNANDEZ',\n",
       " 'YULAN ADONAY ARCHAGA CARIAS',\n",
       " 'BHADRESHKUMAR CHETANBHAI PATEL',\n",
       " 'ALEJANDRO ROSALES CASTILLO',\n",
       " 'MICHAEL JAMES PRATT',\n",
       " 'RUJA IGNATOVA',\n",
       " 'ARNOLDO JIMENEZ',\n",
       " 'RAFAEL CARO-QUINTERO']"
      ]
     },
     "execution_count": 420,
     "metadata": {},
     "output_type": "execute_result"
    }
   ],
   "source": [
    "html=req.get(url).content\n",
    "\n",
    "sopa=bs(html, 'html.parser')\n",
    "\n",
    "top=sopa.find_all('div', class_='mosaic-grid-cell mosaic-width-full mosaic-position-leftmost col-md-12')\n",
    "\n",
    "top10=top[1].find_all('a', href=True)\n",
    "\n",
    "mostw=[]\n",
    "for i in top10:\n",
    "    mostw.append(i.text.replace(\"\\n\",\"\"))\n",
    "\n",
    "mostwanted = list(filter(None, mostw))\n",
    "\n",
    "mostwanted"
   ]
  },
  {
   "cell_type": "markdown",
   "metadata": {},
   "source": [
    "####  20 latest earthquakes info (date, time, latitude, longitude and region name) by the EMSC as a pandas dataframe"
   ]
  },
  {
   "cell_type": "code",
   "execution_count": 806,
   "metadata": {},
   "outputs": [],
   "source": [
    "# This is the url you will scrape in this exercise\n",
    "url = 'https://www.emsc-csem.org/Earthquake/'"
   ]
  },
  {
   "cell_type": "code",
   "execution_count": 844,
   "metadata": {},
   "outputs": [],
   "source": [
    "html=req.get(url).content\n",
    "\n",
    "sopa=bs(html, 'html.parser')\n",
    "\n",
    "emsc1=sopa.find_all('tbody', id=\"tbody\")\n"
   ]
  },
  {
   "cell_type": "code",
   "execution_count": 808,
   "metadata": {},
   "outputs": [],
   "source": [
    "time=emsc1[0].find_all('td', class_='tabev6')"
   ]
  },
  {
   "cell_type": "code",
   "execution_count": 809,
   "metadata": {},
   "outputs": [],
   "source": [
    "date=[]\n",
    "for i in time:\n",
    "    date.append(i.text.replace(\"earthquake\",\"\").replace(\"\\xa0\",\"*\").split(\".\")[0])\n",
    "\n",
    "date\n",
    "\n",
    "dates=[]\n",
    "for i in date:\n",
    "    dates.append(i.split(\"***\")[0])\n",
    "times=[]\n",
    "for i in date:\n",
    "    times.append(i.split(\"***\")[1])\n"
   ]
  },
  {
   "cell_type": "code",
   "execution_count": 810,
   "metadata": {},
   "outputs": [],
   "source": [
    "la=emsc1[0].find_all('td', class_='tabev1')\n",
    "\n",
    "latalt=[]\n",
    "for i in la:\n",
    "    latalt.append(i.text.replace(\"\\xa0\",\"\"))\n",
    "\n",
    "latitude = []\n",
    "longitude = []\n",
    "for i in range(0, len(latalt)):\n",
    "    if i % 2:\n",
    "        longitude.append(latalt[i])\n",
    "    else :\n",
    "        latitude.append(latalt[i])\n"
   ]
  },
  {
   "cell_type": "code",
   "execution_count": 815,
   "metadata": {},
   "outputs": [],
   "source": [
    "la=emsc1[0].find_all('td', class_='tabev2')\n",
    "\n",
    "latalt2=[]\n",
    "for i in la:\n",
    "    latalt2.append(i.text.replace(\"\\xa0\",\"\"))\n",
    "\n",
    "latlong=[]\n",
    "for i in latalt2:\n",
    "    if i == 'N':\n",
    "        latlong.append(i)\n",
    "    if i == 'S':\n",
    "        latlong.append(i)\n",
    "    if i == 'W':\n",
    "        latlong.append(i)\n",
    "    if i == 'E':\n",
    "        latlong.append(i) \n",
    "        \n",
    "latitude2 = []\n",
    "longitude2 = []\n",
    "for i in range(0, len(latlong)):\n",
    "    if i % 2:\n",
    "        longitude2.append(latlong[i])\n",
    "    else :\n",
    "        latitude2.append(latlong[i])\n"
   ]
  },
  {
   "cell_type": "code",
   "execution_count": 823,
   "metadata": {},
   "outputs": [],
   "source": [
    "reg=emsc1[0].find_all('td', class_=\"tb_region\")\n",
    "\n",
    "region=[]\n",
    "for i in reg:\n",
    "    region.append(i.text.replace(\"\\xa0\",\"\"))\n"
   ]
  },
  {
   "cell_type": "code",
   "execution_count": 828,
   "metadata": {},
   "outputs": [
    {
     "data": {
      "text/html": [
       "<div>\n",
       "<style scoped>\n",
       "    .dataframe tbody tr th:only-of-type {\n",
       "        vertical-align: middle;\n",
       "    }\n",
       "\n",
       "    .dataframe tbody tr th {\n",
       "        vertical-align: top;\n",
       "    }\n",
       "\n",
       "    .dataframe thead th {\n",
       "        text-align: right;\n",
       "    }\n",
       "</style>\n",
       "<table border=\"1\" class=\"dataframe\">\n",
       "  <thead>\n",
       "    <tr style=\"text-align: right;\">\n",
       "      <th></th>\n",
       "      <th>date</th>\n",
       "      <th>time</th>\n",
       "      <th>latitude</th>\n",
       "      <th>orientation_lat</th>\n",
       "      <th>longitude</th>\n",
       "      <th>orientation_long</th>\n",
       "      <th>region_name</th>\n",
       "    </tr>\n",
       "  </thead>\n",
       "  <tbody>\n",
       "    <tr>\n",
       "      <th>0</th>\n",
       "      <td>2022-11-08</td>\n",
       "      <td>20:18:35</td>\n",
       "      <td>19.45</td>\n",
       "      <td>N</td>\n",
       "      <td>155.59</td>\n",
       "      <td>W</td>\n",
       "      <td>ISLAND OF HAWAII, HAWAII</td>\n",
       "    </tr>\n",
       "    <tr>\n",
       "      <th>1</th>\n",
       "      <td>2022-11-08</td>\n",
       "      <td>20:08:00</td>\n",
       "      <td>11.12</td>\n",
       "      <td>S</td>\n",
       "      <td>117.79</td>\n",
       "      <td>E</td>\n",
       "      <td>SOUTH OF SUMBAWA, INDONESIA</td>\n",
       "    </tr>\n",
       "    <tr>\n",
       "      <th>2</th>\n",
       "      <td>2022-11-08</td>\n",
       "      <td>20:01:28</td>\n",
       "      <td>9.24</td>\n",
       "      <td>S</td>\n",
       "      <td>119.62</td>\n",
       "      <td>E</td>\n",
       "      <td>SUMBA REGION, INDONESIA</td>\n",
       "    </tr>\n",
       "    <tr>\n",
       "      <th>3</th>\n",
       "      <td>2022-11-08</td>\n",
       "      <td>19:55:58</td>\n",
       "      <td>15.87</td>\n",
       "      <td>N</td>\n",
       "      <td>97.65</td>\n",
       "      <td>W</td>\n",
       "      <td>OFFSHORE OAXACA, MEXICO</td>\n",
       "    </tr>\n",
       "    <tr>\n",
       "      <th>4</th>\n",
       "      <td>2022-11-08</td>\n",
       "      <td>19:54:31</td>\n",
       "      <td>22.79</td>\n",
       "      <td>S</td>\n",
       "      <td>68.84</td>\n",
       "      <td>W</td>\n",
       "      <td>ANTOFAGASTA, CHILE</td>\n",
       "    </tr>\n",
       "  </tbody>\n",
       "</table>\n",
       "</div>"
      ],
      "text/plain": [
       "         date      time latitude orientation_lat longitude orientation_long  \\\n",
       "0  2022-11-08  20:18:35    19.45               N    155.59                W   \n",
       "1  2022-11-08  20:08:00    11.12               S    117.79                E   \n",
       "2  2022-11-08  20:01:28     9.24               S    119.62                E   \n",
       "3  2022-11-08  19:55:58    15.87               N     97.65                W   \n",
       "4  2022-11-08  19:54:31    22.79               S     68.84                W   \n",
       "\n",
       "                   region_name  \n",
       "0     ISLAND OF HAWAII, HAWAII  \n",
       "1  SOUTH OF SUMBAWA, INDONESIA  \n",
       "2      SUMBA REGION, INDONESIA  \n",
       "3      OFFSHORE OAXACA, MEXICO  \n",
       "4           ANTOFAGASTA, CHILE  "
      ]
     },
     "execution_count": 828,
     "metadata": {},
     "output_type": "execute_result"
    }
   ],
   "source": [
    "d = {'date': dates, 'time': times, 'latitude': latitude, 'orientation_lat': latitude2, 'longitude': longitude, 'orientation_long': longitude2, 'region_name': region}\n",
    "earthq = pd.DataFrame(data=d)\n",
    "\n",
    "earthq.head()"
   ]
  },
  {
   "cell_type": "markdown",
   "metadata": {},
   "source": [
    "#### Display the date, days, title, city, country of next 25 hackathon events as a Pandas dataframe table"
   ]
  },
  {
   "cell_type": "code",
   "execution_count": 25,
   "metadata": {},
   "outputs": [],
   "source": [
    "# This is the url you will scrape in this exercise\n",
    "#url ='https://hackevents.co/hackathons'"
   ]
  },
  {
   "cell_type": "code",
   "execution_count": 26,
   "metadata": {},
   "outputs": [],
   "source": [
    "#este no podíamos hacerle"
   ]
  },
  {
   "cell_type": "markdown",
   "metadata": {},
   "source": [
    "#### Count number of tweets by a given Twitter account."
   ]
  },
  {
   "cell_type": "markdown",
   "metadata": {},
   "source": [
    "You will need to include a ***try/except block*** for account names not found. \n",
    "<br>***Hint:*** the program should count the number of tweets for any provided account"
   ]
  },
  {
   "cell_type": "code",
   "execution_count": 459,
   "metadata": {},
   "outputs": [],
   "source": [
    "# This is the url you will scrape in this exercise \n",
    "# You will need to add the account credentials to this url\n",
    "url = 'https://twitter.com/bendelacreme'"
   ]
  },
  {
   "cell_type": "code",
   "execution_count": 460,
   "metadata": {},
   "outputs": [
    {
     "data": {
      "text/plain": [
       "'Something went wrong, but don’t fret — let’s give it another shot.'"
      ]
     },
     "execution_count": 460,
     "metadata": {},
     "output_type": "execute_result"
    }
   ],
   "source": [
    "html=req.get(url).content\n",
    "\n",
    "sopa=bs(html, 'html.parser')\n",
    "\n",
    "tweets=sopa.find_all('div', dir=\"auto\")\n",
    "\n",
    "tweets[0].text"
   ]
  },
  {
   "cell_type": "markdown",
   "metadata": {},
   "source": [
    "#### Number of followers of a given twitter account"
   ]
  },
  {
   "cell_type": "markdown",
   "metadata": {},
   "source": [
    "You will need to include a ***try/except block*** in case account/s name not found. \n",
    "<br>***Hint:*** the program should count the followers for any provided account"
   ]
  },
  {
   "cell_type": "code",
   "execution_count": 461,
   "metadata": {},
   "outputs": [],
   "source": [
    "# This is the url you will scrape in this exercise \n",
    "# You will need to add the account credentials to this url\n",
    "url = 'https://twitter.com/AdoreDelano'"
   ]
  },
  {
   "cell_type": "code",
   "execution_count": 463,
   "metadata": {},
   "outputs": [
    {
     "data": {
      "text/plain": [
       "'Something went wrong, but don’t fret — let’s give it another shot.'"
      ]
     },
     "execution_count": 463,
     "metadata": {},
     "output_type": "execute_result"
    }
   ],
   "source": [
    "html=req.get(url).content\n",
    "\n",
    "sopa=bs(html, 'html.parser')\n",
    "\n",
    "\n",
    "follow=sopa.find_all('span', class_=\"css-901oao css-16my406 r-poiln3 r-bcqeeo r-qvutc0\")\n",
    "\n",
    "follow[0].text"
   ]
  },
  {
   "cell_type": "markdown",
   "metadata": {},
   "source": [
    "#### List all language names and number of related articles in the order they appear in wikipedia.org"
   ]
  },
  {
   "cell_type": "code",
   "execution_count": 464,
   "metadata": {},
   "outputs": [],
   "source": [
    "# This is the url you will scrape in this exercise\n",
    "url = 'https://www.wikipedia.org/'"
   ]
  },
  {
   "cell_type": "code",
   "execution_count": 470,
   "metadata": {},
   "outputs": [
    {
     "data": {
      "text/plain": [
       "['English',\n",
       " '日本語',\n",
       " 'Español',\n",
       " 'Русский',\n",
       " 'Français',\n",
       " 'Deutsch',\n",
       " 'Italiano',\n",
       " '中文',\n",
       " 'Português',\n",
       " 'العربية']"
      ]
     },
     "execution_count": 470,
     "metadata": {},
     "output_type": "execute_result"
    }
   ],
   "source": [
    "html=req.get(url).content\n",
    "\n",
    "sopa=bs(html, 'html.parser')\n",
    "\n",
    "\n",
    "lang=sopa.find_all('div', class_=\"central-featured\")\n",
    "\n",
    "langs=lang[0].find_all('strong')\n",
    "\n",
    "langwiki=[]\n",
    "for i in langs:\n",
    "    langwiki.append(i.text)\n",
    "langwiki"
   ]
  },
  {
   "cell_type": "markdown",
   "metadata": {},
   "source": [
    "#### A list with the different kind of datasets available in data.gov.uk "
   ]
  },
  {
   "cell_type": "code",
   "execution_count": 847,
   "metadata": {},
   "outputs": [],
   "source": [
    "# This is the url you will scrape in this exercise\n",
    "url = 'https://data.gov.uk/'"
   ]
  },
  {
   "cell_type": "code",
   "execution_count": 848,
   "metadata": {},
   "outputs": [
    {
     "data": {
      "text/plain": [
       "['Small businesses, industry, imports, exports and trade',\n",
       " 'Courts, police, prison, offenders, borders and immigration',\n",
       " 'Armed forces, health and safety, search and rescue',\n",
       " 'Students, training, qualifications and the National Curriculum',\n",
       " 'Weather, flooding, rivers, air quality, geology and agriculture',\n",
       " 'Staff numbers and pay, local councillors and department business plans',\n",
       " 'Includes all payments by government departments over £25,000',\n",
       " 'Includes smoking, drugs, alcohol, medicine performance and hospitals',\n",
       " 'Addresses, boundaries, land ownership, aerial photographs, seabed and land terrain',\n",
       " 'Employment, benefits, household finances, poverty and population',\n",
       " 'Includes housing, urban planning, leisure, waste and energy, consumption',\n",
       " 'Airports, roads, freight, electric vehicles, parking, buses and footpaths',\n",
       " 'Cost, usage, completion rate, digital take-up, satisfaction',\n",
       " 'Trusted data that is referenced and shared across government departments']"
      ]
     },
     "execution_count": 848,
     "metadata": {},
     "output_type": "execute_result"
    }
   ],
   "source": [
    "html=req.get(url).content\n",
    "\n",
    "sopa=bs(html, 'html.parser')\n",
    "\n",
    "gov=sopa.find_all('p', class_=\"govuk-body\")\n",
    "\n",
    "govs=gov[1:]\n",
    "\n",
    "govt=[]\n",
    "for i in govs:\n",
    "    govt.append(i.text)\n",
    "govt"
   ]
  },
  {
   "cell_type": "markdown",
   "metadata": {},
   "source": [
    "#### Top 10 languages by number of native speakers stored in a Pandas Dataframe"
   ]
  },
  {
   "cell_type": "code",
   "execution_count": 504,
   "metadata": {},
   "outputs": [],
   "source": [
    "# This is the url you will scrape in this exercise\n",
    "url = 'https://en.wikipedia.org/wiki/List_of_languages_by_number_of_native_speakers'"
   ]
  },
  {
   "cell_type": "code",
   "execution_count": 533,
   "metadata": {},
   "outputs": [
    {
     "data": {
      "text/plain": [
       "['Mandarin Chinese',\n",
       " 'Spanish',\n",
       " 'English',\n",
       " 'Hindi',\n",
       " 'Bengali',\n",
       " 'Portuguese',\n",
       " 'Russian',\n",
       " 'Japanese',\n",
       " 'Yue Chinese',\n",
       " 'Vietnamese']"
      ]
     },
     "execution_count": 533,
     "metadata": {},
     "output_type": "execute_result"
    }
   ],
   "source": [
    "html=req.get(url).content\n",
    "\n",
    "sopa=bs(html, 'html.parser')\n",
    "\n",
    "topl=sopa.find_all('tbody')\n",
    "\n",
    "topla=topl[0].find_all('a', class_=\"mw-redirect\")\n",
    "topla\n",
    "\n",
    "toplan=[]\n",
    "\n",
    "for i in topla:\n",
    "    toplan.append(i.text)\n",
    "\n",
    "toplanf=toplan[0:10]\n",
    "\n",
    "toplanf"
   ]
  },
  {
   "cell_type": "markdown",
   "metadata": {},
   "source": [
    "### BONUS QUESTIONS"
   ]
  },
  {
   "cell_type": "markdown",
   "metadata": {},
   "source": [
    "#### Scrape a certain number of tweets of a given Twitter account."
   ]
  },
  {
   "cell_type": "code",
   "execution_count": 691,
   "metadata": {},
   "outputs": [],
   "source": [
    "# This is the url you will scrape in this exercise \n",
    "# You will need to add the account credentials to this url\n",
    "url = 'https://twitter.com/janjanjan'"
   ]
  },
  {
   "cell_type": "code",
   "execution_count": 693,
   "metadata": {},
   "outputs": [
    {
     "data": {
      "text/plain": [
       "'Something went wrong, but don’t fret — let’s give it another shot.'"
      ]
     },
     "execution_count": 693,
     "metadata": {},
     "output_type": "execute_result"
    }
   ],
   "source": [
    "html=req.get(url).content\n",
    "\n",
    "sopa=bs(html, 'html.parser')\n",
    "\n",
    "tuit=sopa.find_all('span', class_=\"css-901oao css-16my406 r-poiln3 r-bcqeeo r-qvutc0\")\n",
    "\n",
    "tuit[0].text"
   ]
  },
  {
   "cell_type": "markdown",
   "metadata": {},
   "source": [
    "#### IMDB's Top 250 data (movie name, Initial release, director name and stars) as a pandas dataframe"
   ]
  },
  {
   "cell_type": "code",
   "execution_count": 534,
   "metadata": {},
   "outputs": [],
   "source": [
    "# This is the url you will scrape in this exercise \n",
    "url = 'https://www.imdb.com/chart/top'"
   ]
  },
  {
   "cell_type": "code",
   "execution_count": 536,
   "metadata": {},
   "outputs": [],
   "source": [
    "import pandas as pd"
   ]
  },
  {
   "cell_type": "code",
   "execution_count": 689,
   "metadata": {},
   "outputs": [],
   "source": [
    "html=req.get(url).content\n",
    "\n",
    "sopa=bs(html, 'html.parser')\n",
    "\n",
    "lst=sopa.find_all('div', class_=\"seen-collection\")\n",
    "\n",
    "lst2=lst[0].find_all('tbody', class_=\"lister-list\")"
   ]
  },
  {
   "cell_type": "code",
   "execution_count": 684,
   "metadata": {},
   "outputs": [],
   "source": [
    "rat=lst2[0].find_all('strong')\n",
    "\n",
    "rating=[]\n",
    "for i in rat:\n",
    "    rating.append(i.text)\n",
    "\n",
    "#print(rating)"
   ]
  },
  {
   "cell_type": "code",
   "execution_count": 685,
   "metadata": {},
   "outputs": [],
   "source": [
    "mov=lst2[0].find_all('a', href=True)\n",
    "\n",
    "movie=[]\n",
    "for i in dir:\n",
    "    movie.append(i.text.replace(\" \\n\",\"\"))\n",
    "\n",
    "movies = list(filter(None, movie))\n",
    "\n",
    "#print(movies)"
   ]
  },
  {
   "cell_type": "code",
   "execution_count": 686,
   "metadata": {},
   "outputs": [],
   "source": [
    "release=lst2[0].find_all('span', class_=\"secondaryInfo\")\n",
    "\n",
    "reldate=[]\n",
    "for i in release:\n",
    "    reldate.append(i.text.replace(\"(\",\"\").replace(\")\",\"\"))\n",
    "#print(reldate)"
   ]
  },
  {
   "cell_type": "code",
   "execution_count": 687,
   "metadata": {},
   "outputs": [
    {
     "data": {
      "text/html": [
       "<div>\n",
       "<style scoped>\n",
       "    .dataframe tbody tr th:only-of-type {\n",
       "        vertical-align: middle;\n",
       "    }\n",
       "\n",
       "    .dataframe tbody tr th {\n",
       "        vertical-align: top;\n",
       "    }\n",
       "\n",
       "    .dataframe thead th {\n",
       "        text-align: right;\n",
       "    }\n",
       "</style>\n",
       "<table border=\"1\" class=\"dataframe\">\n",
       "  <thead>\n",
       "    <tr style=\"text-align: right;\">\n",
       "      <th></th>\n",
       "      <th>movies</th>\n",
       "      <th>release_year</th>\n",
       "      <th>rating</th>\n",
       "    </tr>\n",
       "  </thead>\n",
       "  <tbody>\n",
       "    <tr>\n",
       "      <th>0</th>\n",
       "      <td>Cadena perpetua</td>\n",
       "      <td>1994</td>\n",
       "      <td>9.2</td>\n",
       "    </tr>\n",
       "    <tr>\n",
       "      <th>1</th>\n",
       "      <td>El padrino</td>\n",
       "      <td>1972</td>\n",
       "      <td>9.2</td>\n",
       "    </tr>\n",
       "    <tr>\n",
       "      <th>2</th>\n",
       "      <td>El caballero oscuro</td>\n",
       "      <td>2008</td>\n",
       "      <td>9.0</td>\n",
       "    </tr>\n",
       "    <tr>\n",
       "      <th>3</th>\n",
       "      <td>El padrino (parte II)</td>\n",
       "      <td>1974</td>\n",
       "      <td>9.0</td>\n",
       "    </tr>\n",
       "    <tr>\n",
       "      <th>4</th>\n",
       "      <td>12 hombres sin piedad</td>\n",
       "      <td>1957</td>\n",
       "      <td>9.0</td>\n",
       "    </tr>\n",
       "  </tbody>\n",
       "</table>\n",
       "</div>"
      ],
      "text/plain": [
       "                  movies release_year rating\n",
       "0        Cadena perpetua         1994    9.2\n",
       "1             El padrino         1972    9.2\n",
       "2    El caballero oscuro         2008    9.0\n",
       "3  El padrino (parte II)         1974    9.0\n",
       "4  12 hombres sin piedad         1957    9.0"
      ]
     },
     "execution_count": 687,
     "metadata": {},
     "output_type": "execute_result"
    }
   ],
   "source": [
    "d = {'movies': movies, 'release_year': reldate, 'rating': rating}\n",
    "top250 = pd.DataFrame(data=d)\n",
    "\n",
    "top250.head()"
   ]
  },
  {
   "cell_type": "code",
   "execution_count": 683,
   "metadata": {},
   "outputs": [],
   "source": [
    "#mira no se cómo sacar el director del enlace, qué tortura"
   ]
  },
  {
   "cell_type": "markdown",
   "metadata": {},
   "source": [
    "#### Movie name, year and a brief summary of the top 10 random movies (IMDB) as a pandas dataframe."
   ]
  },
  {
   "cell_type": "code",
   "execution_count": 41,
   "metadata": {},
   "outputs": [],
   "source": [
    "#This is the url you will scrape in this exercise\n",
    "#url = 'http://www.imdb.com/chart/top'"
   ]
  },
  {
   "cell_type": "code",
   "execution_count": 42,
   "metadata": {},
   "outputs": [],
   "source": [
    "#your code"
   ]
  },
  {
   "cell_type": "markdown",
   "metadata": {},
   "source": [
    "#### Find the live weather report (temperature, wind speed, description and weather) of a given city."
   ]
  },
  {
   "cell_type": "code",
   "execution_count": 688,
   "metadata": {},
   "outputs": [],
   "source": [
    "#https://openweathermap.org/current\n",
    "#city = city=input('Enter the city:')\n",
    "#url = 'http://api.openweathermap.org/data/2.5/weather?'+'q='+city+'&APPID=b35975e18dc93725acb092f7272cc6b8&units=metric'"
   ]
  },
  {
   "cell_type": "code",
   "execution_count": null,
   "metadata": {},
   "outputs": [],
   "source": [
    "# your code"
   ]
  },
  {
   "cell_type": "markdown",
   "metadata": {},
   "source": [
    "#### Book name,price and stock availability as a pandas dataframe."
   ]
  },
  {
   "cell_type": "code",
   "execution_count": null,
   "metadata": {},
   "outputs": [],
   "source": [
    "# This is the url you will scrape in this exercise. \n",
    "# It is a fictional bookstore created to be scraped. \n",
    "#url = 'http://books.toscrape.com/'"
   ]
  },
  {
   "cell_type": "code",
   "execution_count": null,
   "metadata": {},
   "outputs": [],
   "source": [
    "#your code"
   ]
  }
 ],
 "metadata": {
  "kernelspec": {
   "display_name": "Python 3 (ipykernel)",
   "language": "python",
   "name": "python3"
  },
  "language_info": {
   "codemirror_mode": {
    "name": "ipython",
    "version": 3
   },
   "file_extension": ".py",
   "mimetype": "text/x-python",
   "name": "python",
   "nbconvert_exporter": "python",
   "pygments_lexer": "ipython3",
   "version": "3.9.12"
  }
 },
 "nbformat": 4,
 "nbformat_minor": 2
}
