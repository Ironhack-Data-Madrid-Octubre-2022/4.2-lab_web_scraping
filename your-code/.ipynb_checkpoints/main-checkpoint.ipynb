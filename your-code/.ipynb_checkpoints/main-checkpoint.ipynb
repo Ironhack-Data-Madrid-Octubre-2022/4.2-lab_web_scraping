{
 "cells": [
  {
   "cell_type": "markdown",
   "metadata": {},
   "source": [
    "# Web Scraping Lab\n",
    "\n",
    "You will find in this notebook some scrapy exercises to practise your scraping skills.\n",
    "\n",
    "**Tips:**\n",
    "\n",
    "- Check the response status code for each request to ensure you have obtained the intended contennt.\n",
    "- Print the response text in each request to understand the kind of info you are getting and its format.\n",
    "- Check for patterns in the response text to extract the data/info requested in each question.\n",
    "- Visit each url and take a look at its source through Chrome DevTools. You'll need to identify the html tags, special class names etc. used for the html content you are expected to extract."
   ]
  },
  {
   "cell_type": "markdown",
   "metadata": {},
   "source": [
    "- [Requests library](http://docs.python-requests.org/en/master/#the-user-guide) documentation \n",
    "- [Beautiful Soup Doc](https://www.crummy.com/software/BeautifulSoup/bs4/doc/)\n",
    "- [Urllib](https://docs.python.org/3/library/urllib.html#module-urllib)\n",
    "- [re lib](https://docs.python.org/3/library/re.html)\n",
    "- [lxml lib](https://lxml.de/)\n",
    "- [Scrapy](https://scrapy.org/)\n",
    "- [List of HTTP status codes](https://en.wikipedia.org/wiki/List_of_HTTP_status_codes)\n",
    "- [HTML basics](http://www.simplehtmlguide.com/cheatsheet.php)\n",
    "- [CSS basics](https://www.cssbasics.com/#page_start)"
   ]
  },
  {
   "cell_type": "markdown",
   "metadata": {},
   "source": [
    "#### Below are the libraries and modules you may need. `requests`,  `BeautifulSoup` and `pandas` are imported for you. If you prefer to use additional libraries feel free to uncomment them."
   ]
  },
  {
   "cell_type": "code",
   "execution_count": 3,
   "metadata": {},
   "outputs": [
    {
     "name": "stdout",
     "output_type": "stream",
     "text": [
      "Requirement already satisfied: beautifulsoup4 in c:\\users\\xabie\\anaconda3\\lib\\site-packages (4.11.1)\n",
      "Requirement already satisfied: soupsieve>1.2 in c:\\users\\xabie\\anaconda3\\lib\\site-packages (from beautifulsoup4) (2.3.1)\n",
      "Note: you may need to restart the kernel to use updated packages.\n"
     ]
    }
   ],
   "source": [
    "import requests\n",
    "from bs4 import BeautifulSoup\n",
    "import pandas as pd\n",
    "# from pprint import pprint\n",
    "# from lxml import html\n",
    "# from lxml.html import fromstring\n",
    "# import urllib.request\n",
    "# from urllib.request import urlopen\n",
    "# import random\n",
    "# import re\n",
    "# import scrapy\n",
    "%pip install beautifulsoup4"
   ]
  },
  {
   "cell_type": "markdown",
   "metadata": {},
   "source": [
    "#### Download, parse (using BeautifulSoup), and print the content from the Trending Developers page from GitHub:"
   ]
  },
  {
   "cell_type": "code",
   "execution_count": 4,
   "metadata": {},
   "outputs": [],
   "source": [
    "import requests as req\n",
    "\n",
    "from bs4 import BeautifulSoup as bs "
   ]
  },
  {
   "cell_type": "code",
   "execution_count": 6,
   "metadata": {},
   "outputs": [],
   "source": [
    "# This is the url you will scrape in this exercise\n",
    "url = 'https://github.com/trending/developers'"
   ]
  },
  {
   "cell_type": "code",
   "execution_count": 17,
   "metadata": {},
   "outputs": [
    {
     "data": {
      "text/plain": [
       "b'\\n\\n<!DOCTYPE html>\\n<html lang=\"en\" data-color-mode=\"auto\" data-light-theme=\"light\" data-dark-theme=\"dark\" data-a11y-animated-images=\"system\">\\n  <head>\\n    <meta charset=\"utf-8\">\\n  <link rel=\"dns-prefetch\" href=\"https://github.githubassets.com\">\\n  <link rel=\"dns-prefetch\" href=\"https://avatars.githubusercontent.com\">\\n  <link rel=\"dns-prefetch\" href=\"https://github-cloud.s3.amazonaws.com\">\\n  <link rel=\"dns-prefetch\" href=\"https://user-images.githubusercontent.com/\">\\n  <link rel=\"preconnect\" href=\"https://github.githubassets.com\" crossorigin>\\n  <link rel=\"preconnect\" href=\"https://avatars.githubusercontent.com\">\\n\\n\\n\\n  <link crossorigin=\"anonymous\" media=\"all\" rel=\"stylesheet\" href=\"https://github.githubassets.com/assets/light-719f1193e0c0.css\" /><link crossorigin=\"anonymous\" media=\"all\" rel=\"stylesheet\" href=\"https://github.githubassets.com/assets/dark-0c343b529849.css\" /><link data-color-theme=\"dark_dimmed\" crossorigin=\"anonymous\" media=\"all\" rel=\"stylesheet\" data-href=\"https://github.gith'"
      ]
     },
     "execution_count": 17,
     "metadata": {},
     "output_type": "execute_result"
    }
   ],
   "source": [
    "html=req.get(url).content\n",
    "\n",
    "soup=bs(html, 'html.parser')\n",
    "\n",
    "html[:1000]\n"
   ]
  },
  {
   "cell_type": "markdown",
   "metadata": {},
   "source": [
    "#### Display the names of the trending developers retrieved in the previous step.\n",
    "\n",
    "Your output should be a Python list of developer names. Each name should not contain any html tag.\n",
    "\n",
    "**Instructions:**\n",
    "\n",
    "1. Find out the html tag and class names used for the developer names. You can achieve this using Chrome DevTools.\n",
    "\n",
    "1. Use BeautifulSoup to extract all the html elements that contain the developer names.\n",
    "\n",
    "1. Use string manipulation techniques to replace whitespaces and linebreaks (i.e. `\\n`) in the *text* of each html element. Use a list to store the clean names.\n",
    "\n",
    "1. Print the list of names.\n",
    "\n",
    "Your output should look like below:\n",
    "\n",
    "```\n",
    "['trimstray (@trimstray)',\n",
    " 'joewalnes (JoeWalnes)',\n",
    " 'charlax (Charles-AxelDein)',\n",
    " 'ForrestKnight (ForrestKnight)',\n",
    " 'revery-ui (revery-ui)',\n",
    " 'alibaba (Alibaba)',\n",
    " 'Microsoft (Microsoft)',\n",
    " 'github (GitHub)',\n",
    " 'facebook (Facebook)',\n",
    " 'boazsegev (Bo)',\n",
    " 'google (Google)',\n",
    " 'cloudfetch',\n",
    " 'sindresorhus (SindreSorhus)',\n",
    " 'tensorflow',\n",
    " 'apache (TheApacheSoftwareFoundation)',\n",
    " 'DevonCrawford (DevonCrawford)',\n",
    " 'ARMmbed (ArmMbed)',\n",
    " 'vuejs (vuejs)',\n",
    " 'fastai (fast.ai)',\n",
    " 'QiShaoXuan (Qi)',\n",
    " 'joelparkerhenderson (JoelParkerHenderson)',\n",
    " 'torvalds (LinusTorvalds)',\n",
    " 'CyC2018',\n",
    " 'komeiji-satori (神楽坂覚々)',\n",
    " 'script-8']\n",
    " ```"
   ]
  },
  {
   "cell_type": "code",
   "execution_count": 34,
   "metadata": {},
   "outputs": [
    {
     "data": {
      "text/plain": [
       "['Nikita Sobolev ( sobolevn ) ',\n",
       " 'Alex Gaynor ( alex ) ',\n",
       " 'Earle F. Philhower, III ( earlephilhower ) ',\n",
       " 'Henrik Rydgård ( hrydgard ) ',\n",
       " 'ringabout ( ringabout ) ',\n",
       " 'Josh Soref ( jsoref ) ',\n",
       " 'Alessandro Ros ( aler9 ) ',\n",
       " 'Lee Robinson ( leerob ) ',\n",
       " 'Shahed Nasser ( shahednasser ) ',\n",
       " 'Marcus Olsson ( marcusolsson ) ',\n",
       " 'Ayke ( aykevl ) ',\n",
       " 'Emil Ernerfeldt ( emilk ) ',\n",
       " 'Manu MA ( manucorporat ) ',\n",
       " 'Andreas Klöckner ( inducer ) ',\n",
       " 'jdhao ( jdhao ) ',\n",
       " 'Clare Macrae ( claremacrae ) ',\n",
       " 'Adam Brown ( ouchadam ) ',\n",
       " 'Miraculous Owonubi ( miraclx ) ',\n",
       " 'Shantanu ( hauntsaninja ) ',\n",
       " 'Stephen Celis ( stephencelis ) ',\n",
       " 'Andrei Pechkurov ( puzpuzpuz ) ',\n",
       " 'Lewis Russell ( lewis6991 ) ',\n",
       " 'Jonny Borges ( jonataslaw ) ',\n",
       " 'Ha Thach ( hathach ) ',\n",
       " None]"
      ]
     },
     "execution_count": 34,
     "metadata": {},
     "output_type": "execute_result"
    }
   ],
   "source": [
    "table = soup.find_all('h1', {'class': 'h3 lh-condensed'})\n",
    "Tags = []\n",
    "Name_lst = []\n",
    "lista=[None]*25\n",
    "table2 = soup.find_all('p', {'class': 'f4 text-normal mb-1'})\n",
    "\n",
    "for i in table:\n",
    "    Name_lst.append(i.text.strip().strip(\"\\n\"))\n",
    "\n",
    "for i in table2:\n",
    "    Tags.append(i.text.strip().strip(\"\\n\"))\n",
    "    \n",
    "for i in range(len(Tags)):\n",
    "    lista[i] = Name_lst[i] + \" ( \"  + Tags[i]  + \" ) \"\n",
    "    \n",
    "lista"
   ]
  },
  {
   "cell_type": "markdown",
   "metadata": {},
   "source": [
    "#### Display the trending Python repositories in GitHub\n",
    "\n",
    "The steps to solve this problem is similar to the previous one except that you need to find out the repository names instead of developer names."
   ]
  },
  {
   "cell_type": "code",
   "execution_count": 125,
   "metadata": {},
   "outputs": [],
   "source": [
    "# This is the url you will scrape in this exercise\n",
    "url = 'https://github.com/trending/python?since=daily'"
   ]
  },
  {
   "cell_type": "code",
   "execution_count": 126,
   "metadata": {},
   "outputs": [
    {
     "data": {
      "text/plain": [
       "['devops-exercises',\n",
       " 'public-apis',\n",
       " 'tinygrad',\n",
       " 'mlflow',\n",
       " 'PaddleDetection',\n",
       " 'jax',\n",
       " 'NostalgiaForInfinity',\n",
       " 'netbox',\n",
       " 'typer',\n",
       " 'streamlit',\n",
       " 'modelscope',\n",
       " 'LearnPython',\n",
       " 'nerfstudio',\n",
       " 'algo-trader',\n",
       " 'labelImg',\n",
       " 'pyright',\n",
       " 'sqlmap',\n",
       " 'ivy',\n",
       " 'slither',\n",
       " 'yolov5',\n",
       " 'core',\n",
       " 'FreeInternet',\n",
       " 'mmocr',\n",
       " 'lightning',\n",
       " 'content']"
      ]
     },
     "execution_count": 126,
     "metadata": {},
     "output_type": "execute_result"
    }
   ],
   "source": [
    "html=req.get(url).content\n",
    "\n",
    "soup=bs(html, 'html.parser')\n",
    "\n",
    "table = soup.find_all('h1', {'class': 'h3 lh-condensed'})\n",
    "Repos= []\n",
    "for i in table:\n",
    "    Repos.append(i.text.strip().strip(\"\\n\"))\n",
    "    \n",
    "for i in range(len(Repos)):\n",
    "    r = Repos[i].split(\"\\n\")\n",
    "    Repos[i]= r[2].strip()\n",
    "Repos"
   ]
  },
  {
   "cell_type": "markdown",
   "metadata": {},
   "source": [
    "#### Display all the image links from Walt Disney wikipedia page"
   ]
  },
  {
   "cell_type": "code",
   "execution_count": 127,
   "metadata": {},
   "outputs": [],
   "source": [
    "# This is the url you will scrape in this exercise\n",
    "url = 'https://en.wikipedia.org/wiki/Walt_Disney'"
   ]
  },
  {
   "cell_type": "code",
   "execution_count": 130,
   "metadata": {},
   "outputs": [
    {
     "data": {
      "text/plain": [
       "['//upload.wikimedia.org/wikipedia/en/thumb/e/e7/Cscr-featured.svg/20px-Cscr-featured.svg.png',\n",
       " '//upload.wikimedia.org/wikipedia/en/thumb/8/8c/Extended-protection-shackle.svg/20px-Extended-protection-shackle.svg.png',\n",
       " '//upload.wikimedia.org/wikipedia/commons/thumb/d/df/Walt_Disney_1946.JPG/220px-Walt_Disney_1946.JPG',\n",
       " '//upload.wikimedia.org/wikipedia/commons/thumb/8/87/Walt_Disney_1942_signature.svg/150px-Walt_Disney_1942_signature.svg.png',\n",
       " '//upload.wikimedia.org/wikipedia/commons/thumb/3/3a/Walt_Disney_Birthplace_Exterior_Hermosa_Chicago_Illinois.jpg/220px-Walt_Disney_Birthplace_Exterior_Hermosa_Chicago_Illinois.jpg',\n",
       " '//upload.wikimedia.org/wikipedia/commons/thumb/c/c4/Walt_Disney_envelope_ca._1921.jpg/220px-Walt_Disney_envelope_ca._1921.jpg',\n",
       " '//upload.wikimedia.org/wikipedia/commons/thumb/0/0d/Trolley_Troubles_poster.jpg/170px-Trolley_Troubles_poster.jpg',\n",
       " '//upload.wikimedia.org/wikipedia/en/thumb/4/4e/Steamboat-willie.jpg/170px-Steamboat-willie.jpg',\n",
       " '//upload.wikimedia.org/wikipedia/commons/thumb/5/57/Walt_Disney_1935.jpg/170px-Walt_Disney_1935.jpg',\n",
       " '//upload.wikimedia.org/wikipedia/commons/thumb/c/cd/Walt_Disney_Snow_white_1937_trailer_screenshot_%2813%29.jpg/220px-Walt_Disney_Snow_white_1937_trailer_screenshot_%2813%29.jpg',\n",
       " '//upload.wikimedia.org/wikipedia/commons/thumb/1/15/Disney_drawing_goofy.jpg/170px-Disney_drawing_goofy.jpg',\n",
       " '//upload.wikimedia.org/wikipedia/commons/thumb/8/8c/WaltDisneyplansDisneylandDec1954.jpg/220px-WaltDisneyplansDisneylandDec1954.jpg',\n",
       " '//upload.wikimedia.org/wikipedia/commons/thumb/f/ff/Walt_disney_portrait_right.jpg/170px-Walt_disney_portrait_right.jpg',\n",
       " '//upload.wikimedia.org/wikipedia/commons/thumb/1/1a/Walt_Disney_Grave.JPG/170px-Walt_Disney_Grave.JPG',\n",
       " '//upload.wikimedia.org/wikipedia/commons/thumb/2/2d/Roy_O._Disney_with_Company_at_Press_Conference.jpg/170px-Roy_O._Disney_with_Company_at_Press_Conference.jpg',\n",
       " '//upload.wikimedia.org/wikipedia/commons/thumb/1/13/DisneySchiphol1951.jpg/220px-DisneySchiphol1951.jpg',\n",
       " '//upload.wikimedia.org/wikipedia/commons/thumb/6/6c/Disney1968.jpg/170px-Disney1968.jpg',\n",
       " '//upload.wikimedia.org/wikipedia/commons/thumb/b/b0/Disney_Oscar_1953_%28cropped%29.jpg/170px-Disney_Oscar_1953_%28cropped%29.jpg',\n",
       " '//upload.wikimedia.org/wikipedia/en/thumb/4/4a/Commons-logo.svg/30px-Commons-logo.svg.png',\n",
       " '//upload.wikimedia.org/wikipedia/commons/thumb/4/4c/Wikisource-logo.svg/38px-Wikisource-logo.svg.png',\n",
       " '//upload.wikimedia.org/wikipedia/commons/thumb/f/fa/Wikiquote-logo.svg/34px-Wikiquote-logo.svg.png',\n",
       " '//upload.wikimedia.org/wikipedia/en/thumb/8/8a/OOjs_UI_icon_edit-ltr-progressive.svg/10px-OOjs_UI_icon_edit-ltr-progressive.svg.png',\n",
       " '//upload.wikimedia.org/wikipedia/en/thumb/8/8a/OOjs_UI_icon_edit-ltr-progressive.svg/10px-OOjs_UI_icon_edit-ltr-progressive.svg.png',\n",
       " '//upload.wikimedia.org/wikipedia/commons/thumb/e/e3/Disneyland_Resort_logo.svg/135px-Disneyland_Resort_logo.svg.png',\n",
       " '//upload.wikimedia.org/wikipedia/commons/thumb/d/da/Animation_disc.svg/20px-Animation_disc.svg.png',\n",
       " '//upload.wikimedia.org/wikipedia/en/thumb/6/69/P_vip.svg/19px-P_vip.svg.png',\n",
       " '//upload.wikimedia.org/wikipedia/commons/thumb/1/1a/Magic_Kingdom_castle.jpg/15px-Magic_Kingdom_castle.jpg',\n",
       " '//upload.wikimedia.org/wikipedia/en/thumb/e/e7/Video-x-generic.svg/19px-Video-x-generic.svg.png',\n",
       " '//upload.wikimedia.org/wikipedia/commons/thumb/a/a3/Flag_of_Los_Angeles_County%2C_California.svg/21px-Flag_of_Los_Angeles_County%2C_California.svg.png',\n",
       " '//upload.wikimedia.org/wikipedia/commons/thumb/8/8c/Blank_television_set.svg/21px-Blank_television_set.svg.png',\n",
       " '//upload.wikimedia.org/wikipedia/en/thumb/a/a4/Flag_of_the_United_States.svg/21px-Flag_of_the_United_States.svg.png',\n",
       " '//upload.wikimedia.org/wikipedia/en/thumb/4/4a/Commons-logo.svg/14px-Commons-logo.svg.png',\n",
       " '//upload.wikimedia.org/wikipedia/commons/thumb/f/fa/Wikiquote-logo.svg/16px-Wikiquote-logo.svg.png',\n",
       " '//upload.wikimedia.org/wikipedia/commons/thumb/4/4c/Wikisource-logo.svg/18px-Wikisource-logo.svg.png',\n",
       " '//upload.wikimedia.org/wikipedia/commons/thumb/f/ff/Wikidata-logo.svg/21px-Wikidata-logo.svg.png',\n",
       " '//upload.wikimedia.org/wikipedia/en/thumb/8/8a/OOjs_UI_icon_edit-ltr-progressive.svg/10px-OOjs_UI_icon_edit-ltr-progressive.svg.png',\n",
       " '//en.wikipedia.org/wiki/Special:CentralAutoLogin/start?type=1x1',\n",
       " '/static/images/footer/wikimedia-button.png',\n",
       " '/static/images/footer/poweredby_mediawiki_88x31.png']"
      ]
     },
     "execution_count": 130,
     "metadata": {},
     "output_type": "execute_result"
    }
   ],
   "source": [
    "html=req.get(url).content\n",
    "\n",
    "soup=bs(html, 'html.parser')\n",
    "\n",
    "table = soup.find_all('img')\n",
    "Images =[None] * len(table)\n",
    "for i in range(len(Images)):\n",
    "    Images[i] = table[i]['src']\n",
    "Images"
   ]
  },
  {
   "cell_type": "markdown",
   "metadata": {},
   "source": [
    "#### Retrieve an arbitary Wikipedia page of \"Python\" and create a list of links on that page"
   ]
  },
  {
   "cell_type": "code",
   "execution_count": 146,
   "metadata": {},
   "outputs": [],
   "source": [
    "# This is the url you will scrape in this exercise\n",
    "url ='https://en.wikipedia.org/wiki/Python'\n"
   ]
  },
  {
   "cell_type": "code",
   "execution_count": 147,
   "metadata": {},
   "outputs": [
    {
     "data": {
      "text/plain": [
       "['\\'href=\"/wiki/Pythonidae\" title\\'>',\n",
       " '\\'href=\"/wiki/Python_(genus)\" title\\'>',\n",
       " '\\'href=\"/wiki/Python_(mythology)\" title\\'>',\n",
       " '\\'href=\"/wiki/Python_(programming_language)\" title\\'>',\n",
       " '\\'href=\"/wiki/CMU_Common_Lisp\" title\\'>',\n",
       " '\\'href=\"/wiki/PERQ#PERQ_3\" title\\'>',\n",
       " '\\'href=\"/wiki/Python_of_Aenus\" title\\'>',\n",
       " '\\'href=\"/wiki/Python_(painter)\" title\\'>',\n",
       " '\\'href=\"/wiki/Python_of_Byzantium\" title\\'>',\n",
       " '\\'href=\"/wiki/Python_of_Catana\" title\\'>',\n",
       " '\\'href=\"/wiki/Python_Anghelo\" title\\'>',\n",
       " '\\'href=\"/wiki/Python_(Efteling)\" title\\'>',\n",
       " '\\'href=\"/wiki/Python_(Busch_Gardens_Tampa_Bay)\" tit>',\n",
       " '\\'href=\"/wiki/Python_(Coney_Island,_Cincinnati,_Ohi>',\n",
       " '\\'href=\"/wiki/Python_(automobile_maker)\" title\\'>',\n",
       " '\\'href=\"/wiki/Python_(Ford_prototype)\" title\\'>',\n",
       " '\\'href=\"/wiki/Python_(missile)\" title\\'>',\n",
       " '\\'href=\"/wiki/Python_(nuclear_primary)\" title\\'>',\n",
       " '\\'href=\"/wiki/Colt_Python\" title\\'>',\n",
       " '\\'href=\"/wiki/Python_(codename)\" title\\'>',\n",
       " '\\'href=\"/wiki/Python_(film)\" title\\'>',\n",
       " '\\'href=\"/wiki/Monty_Python\" title\\'>',\n",
       " '\\'href=\"/wiki/Python_(Monty)_Pictures\" title\\'>',\n",
       " '\\'href=\"/wiki/Timon_of_Phlius\" title\\'>',\n",
       " '\\'href=\"/wiki/Cython\" title\\'>',\n",
       " '\\'href=\"/wiki/Pyton\" title\\'>',\n",
       " '\\'href=\"/wiki/Pithon\" title\\'>',\n",
       " '\\'href=\"/wiki/Category:Disambiguation_pages\" title\\'>',\n",
       " '\\'href=\"/wiki/Category:Human_name_disambiguation_pa>',\n",
       " '\\'href=\"/wiki/Category:Disambiguation_pages_with_gi>',\n",
       " '\\'href=\"/wiki/Category:Disambiguation_pages_with_sh>',\n",
       " '\\'href=\"/wiki/Category:Short_description_is_differe>',\n",
       " '\\'href=\"/wiki/Category:All_article_disambiguation_p>',\n",
       " '\\'href=\"/wiki/Category:All_disambiguation_pages\" ti>',\n",
       " '\\'href=\"/wiki/Category:Animal_common_name_disambigu>',\n",
       " '\\'href=\"/wiki/Special:MyTalk\" title\\'>',\n",
       " '\\'href=\"/wiki/Special:MyContributions\" title\\'>',\n",
       " '\\'href=\"/w/index.php?title=Special:CreateAccount&am>',\n",
       " '\\'href=\"/w/index.php?title=Special:UserLogin&amp;re>',\n",
       " '\\'href=\"/wiki/Python\" title\\'>',\n",
       " '\\'href=\"/wiki/Talk:Python\" rel=\"discussion\" title\\'>',\n",
       " '\\'href=\"/w/index.php?title=Python&amp;action=edit\" >',\n",
       " '\\'href=\"/w/index.php?title=Python&amp;action=histor>',\n",
       " '\\'href=\"/wiki/Main_Page\" title\\'>',\n",
       " '\\'href=\"/wiki/Wikipedia:Contents\" title\\'>',\n",
       " '\\'href=\"/wiki/Portal:Current_events\" title\\'>',\n",
       " '\\'href=\"/wiki/Special:Random\" title\\'>',\n",
       " '\\'href=\"/wiki/Wikipedia:About\" title\\'>',\n",
       " '\\'href=\"//en.wikipedia.org/wiki/Wikipedia:Contact_u>',\n",
       " '\\'href=\"https://donate.wikimedia.org/wiki/Special:F>',\n",
       " '\\'href=\"/wiki/Help:Contents\" title\\'>',\n",
       " '\\'href=\"/wiki/Help:Introduction\" title\\'>',\n",
       " '\\'href=\"/wiki/Wikipedia:Community_portal\" title\\'>',\n",
       " '\\'href=\"/wiki/Special:RecentChanges\" title\\'>',\n",
       " '\\'href=\"/wiki/Wikipedia:File_Upload_Wizard\" title\\'>',\n",
       " '\\'href=\"/wiki/Special:WhatLinksHere/Python\" title\\'>',\n",
       " '\\'href=\"/wiki/Special:RecentChangesLinked/Python\" r>',\n",
       " '\\'href=\"/wiki/Wikipedia:File_Upload_Wizard\" title\\'>',\n",
       " '\\'href=\"/wiki/Special:SpecialPages\" title\\'>',\n",
       " '\\'href=\"/w/index.php?title=Python&amp;oldid=1120123>',\n",
       " '\\'href=\"/w/index.php?title=Python&amp;action=info\" >',\n",
       " '\\'href=\"/w/index.php?title=Special:CiteThisPage&amp>',\n",
       " '\\'href=\"https://www.wikidata.org/wiki/Special:Entit>',\n",
       " '\\'href=\"/w/index.php?title=Special:DownloadAsPdf&am>',\n",
       " '\\'href=\"/w/index.php?title=Python&amp;printable=yes>',\n",
       " '\\'href=\"https://af.wikipedia.org/wiki/Python\" hrefl>',\n",
       " '\\'href=\"https://als.wikipedia.org/wiki/Python\" href>',\n",
       " '\\'href=\"https://ar.wikipedia.org/wiki/%D8%A8%D8%A7%>',\n",
       " '\\'href=\"https://az.wikipedia.org/wiki/Python\" hrefl>',\n",
       " '\\'href=\"https://bn.wikipedia.org/wiki/%E0%A6%AA%E0%>',\n",
       " '\\'href=\"https://be.wikipedia.org/wiki/Python\" hrefl>',\n",
       " '\\'href=\"https://bg.wikipedia.org/wiki/%D0%9F%D0%B8%>',\n",
       " '\\'href=\"https://cs.wikipedia.org/wiki/Python_(rozce>',\n",
       " '\\'href=\"https://da.wikipedia.org/wiki/Python\" hrefl>',\n",
       " '\\'href=\"https://de.wikipedia.org/wiki/Python\" hrefl>',\n",
       " '\\'href=\"https://eo.wikipedia.org/wiki/Pitono_(apart>',\n",
       " '\\'href=\"https://eu.wikipedia.org/wiki/Python_(argip>',\n",
       " '\\'href=\"https://fa.wikipedia.org/wiki/%D9%BE%D8%A7%>',\n",
       " '\\'href=\"https://fr.wikipedia.org/wiki/Python\" hrefl>',\n",
       " '\\'href=\"https://ko.wikipedia.org/wiki/%ED%8C%8C%EC%>',\n",
       " '\\'href=\"https://hr.wikipedia.org/wiki/Python_(razdv>',\n",
       " '\\'href=\"https://io.wikipedia.org/wiki/Pitono\" hrefl>',\n",
       " '\\'href=\"https://id.wikipedia.org/wiki/Python\" hrefl>',\n",
       " '\\'href=\"https://ia.wikipedia.org/wiki/Python_(disam>',\n",
       " '\\'href=\"https://is.wikipedia.org/wiki/Python_(a%C3%>',\n",
       " '\\'href=\"https://it.wikipedia.org/wiki/Python_(disam>',\n",
       " '\\'href=\"https://he.wikipedia.org/wiki/%D7%A4%D7%99%>',\n",
       " '\\'href=\"https://ka.wikipedia.org/wiki/%E1%83%9E%E1%>',\n",
       " '\\'href=\"https://kg.wikipedia.org/wiki/Mboma_(nyoka)>',\n",
       " '\\'href=\"https://la.wikipedia.org/wiki/Python_(discr>',\n",
       " '\\'href=\"https://lb.wikipedia.org/wiki/Python\" hrefl>',\n",
       " '\\'href=\"https://hu.wikipedia.org/wiki/Python_(egy%C>',\n",
       " '\\'href=\"https://mr.wikipedia.org/wiki/%E0%A4%AA%E0%>',\n",
       " '\\'href=\"https://nl.wikipedia.org/wiki/Python\" hrefl>',\n",
       " '\\'href=\"https://ja.wikipedia.org/wiki/%E3%83%91%E3%>',\n",
       " '\\'href=\"https://no.wikipedia.org/wiki/Pyton\" hrefla>',\n",
       " '\\'href=\"https://pl.wikipedia.org/wiki/Pyton\" hrefla>',\n",
       " '\\'href=\"https://pt.wikipedia.org/wiki/Python_(desam>',\n",
       " '\\'href=\"https://ru.wikipedia.org/wiki/Python_(%D0%B>',\n",
       " '\\'href=\"https://sk.wikipedia.org/wiki/Python\" hrefl>',\n",
       " '\\'href=\"https://sr.wikipedia.org/wiki/%D0%9F%D0%B8%>',\n",
       " '\\'href=\"https://sh.wikipedia.org/wiki/Python\" hrefl>',\n",
       " '\\'href=\"https://fi.wikipedia.org/wiki/Python\" hrefl>',\n",
       " '\\'href=\"https://sv.wikipedia.org/wiki/Pyton\" hrefla>',\n",
       " '\\'href=\"https://th.wikipedia.org/wiki/%E0%B9%84%E0%>',\n",
       " '\\'href=\"https://tr.wikipedia.org/wiki/Python_(anlam>',\n",
       " '\\'href=\"https://uk.wikipedia.org/wiki/%D0%9F%D1%96%>',\n",
       " '\\'href=\"https://ur.wikipedia.org/wiki/%D9%BE%D8%A7%>',\n",
       " '\\'href=\"https://vi.wikipedia.org/wiki/Python\" hrefl>',\n",
       " '\\'href=\"https://zh.wikipedia.org/wiki/Python_(%E6%B>',\n",
       " '\\'href=\"//en.m.wikipedia.org/w/index.php?title\\'>']"
      ]
     },
     "execution_count": 147,
     "metadata": {},
     "output_type": "execute_result"
    }
   ],
   "source": [
    "import re\n",
    "import requests as req\n",
    "html=req.get(url).content\n",
    "\n",
    "soup=bs(html, 'html.parser')\n",
    "\n",
    "links =soup.find_all('li')\n",
    "links2 = []\n",
    "for i in range(len(links)):\n",
    "    if 'href' in str(links[i]):\n",
    "        links2.append(re.search('href(.*)title', str(links[i])))\n",
    "        \n",
    "    else:\n",
    "        pass\n",
    "links2\n",
    "lst = []\n",
    "for i in range(len(links2)):\n",
    "    try:\n",
    "        lst.append((str(links2[i]).split('match='))[1])\n",
    "    except:\n",
    "        pass\n",
    "lst"
   ]
  },
  {
   "cell_type": "markdown",
   "metadata": {},
   "source": [
    "#### Number of Titles that have changed in the United States Code since its last release point "
   ]
  },
  {
   "cell_type": "code",
   "execution_count": 131,
   "metadata": {},
   "outputs": [],
   "source": [
    "# This is the url you will scrape in this exercise\n",
    "url = 'http://uscode.house.gov/download/download.shtml'"
   ]
  },
  {
   "cell_type": "code",
   "execution_count": null,
   "metadata": {},
   "outputs": [],
   "source": [
    "html=req.get(url).content\n",
    "\n",
    "soup=bs(html, 'html.parser')\n",
    "\n",
    "links =soup.find_all('li')"
   ]
  },
  {
   "cell_type": "markdown",
   "metadata": {},
   "source": [
    "#### A Python list with the top ten FBI's Most Wanted names "
   ]
  },
  {
   "cell_type": "code",
   "execution_count": 148,
   "metadata": {},
   "outputs": [],
   "source": [
    "# This is the url you will scrape in this exercise\n",
    "url = 'https://www.fbi.gov/wanted/topten'"
   ]
  },
  {
   "cell_type": "code",
   "execution_count": 149,
   "metadata": {},
   "outputs": [
    {
     "data": {
      "text/plain": [
       "['OMAR ALEXANDER CARDENAS',\n",
       " 'ALEXIS FLORES',\n",
       " 'JOSE RODOLFO VILLARREAL-HERNANDEZ',\n",
       " 'YULAN ADONAY ARCHAGA CARIAS',\n",
       " 'BHADRESHKUMAR CHETANBHAI PATEL',\n",
       " 'ALEJANDRO ROSALES CASTILLO',\n",
       " 'MICHAEL JAMES PRATT',\n",
       " 'RUJA IGNATOVA',\n",
       " 'ARNOLDO JIMENEZ',\n",
       " 'RAFAEL CARO-QUINTERO']"
      ]
     },
     "execution_count": 149,
     "metadata": {},
     "output_type": "execute_result"
    }
   ],
   "source": [
    "html=req.get(url).content\n",
    "\n",
    "soup=bs(html, 'html.parser')\n",
    "\n",
    "table = soup.find_all('h3', {'class': 'title'})\n",
    "lst = [None] * len(table)\n",
    "for i in range(len(table)):\n",
    "    lst[i] = table[i].find('a').text\n",
    "\n",
    "#table\n",
    "lst"
   ]
  },
  {
   "cell_type": "markdown",
   "metadata": {},
   "source": [
    "####  20 latest earthquakes info (date, time, latitude, longitude and region name) by the EMSC as a pandas dataframe"
   ]
  },
  {
   "cell_type": "code",
   "execution_count": 153,
   "metadata": {},
   "outputs": [],
   "source": [
    "# This is the url you will scrape in this exercise\n",
    "url = 'https://www.emsc-csem.org/Earthquake/'"
   ]
  },
  {
   "cell_type": "code",
   "execution_count": 167,
   "metadata": {},
   "outputs": [
    {
     "data": {
      "text/plain": [
       "[{'date': '2022-11-08\\xa0\\xa0\\xa015:08:28.5',\n",
       "  'region': '\\xa0HAWAII REGION, HAWAII',\n",
       "  'lat': '19.54\\xa0N\\xa0\\xa0',\n",
       "  'lng': '156.04\\xa0W\\xa0\\xa0'},\n",
       " {'date': '2022-11-08\\xa0\\xa0\\xa014:50:48.0',\n",
       "  'region': '\\xa0SERAM, INDONESIA',\n",
       "  'lat': '2.83\\xa0S\\xa0\\xa0',\n",
       "  'lng': '129.77\\xa0E\\xa0\\xa0'},\n",
       " {'date': '2022-11-08\\xa0\\xa0\\xa014:49:11.0',\n",
       "  'region': '\\xa0ANTOFAGASTA, CHILE',\n",
       "  'lat': '22.26\\xa0S\\xa0\\xa0',\n",
       "  'lng': '68.73\\xa0W\\xa0\\xa0'},\n",
       " {'date': '2022-11-08\\xa0\\xa0\\xa014:43:44.8',\n",
       "  'region': '\\xa0SPAIN',\n",
       "  'lat': '39.16\\xa0N\\xa0\\xa0',\n",
       "  'lng': '0.30\\xa0E\\xa0\\xa0'},\n",
       " {'date': '2022-11-08\\xa0\\xa0\\xa014:38:45.6',\n",
       "  'region': '\\xa0ANDREANOF ISLANDS, ALEUTIAN IS.',\n",
       "  'lat': '52.38\\xa0N\\xa0\\xa0',\n",
       "  'lng': '179.40\\xa0W\\xa0\\xa0'},\n",
       " {'date': '2022-11-08\\xa0\\xa0\\xa014:30:02.4',\n",
       "  'region': '\\xa0LUZON, PHILIPPINES',\n",
       "  'lat': '15.42\\xa0N\\xa0\\xa0',\n",
       "  'lng': '120.83\\xa0E\\xa0\\xa0'},\n",
       " {'date': '2022-11-08\\xa0\\xa0\\xa014:26:07.0',\n",
       "  'region': '\\xa0OFFSHORE MAULE, CHILE',\n",
       "  'lat': '35.80\\xa0S\\xa0\\xa0',\n",
       "  'lng': '73.28\\xa0W\\xa0\\xa0'},\n",
       " {'date': '2022-11-08\\xa0\\xa0\\xa014:24:30.0',\n",
       "  'region': '\\xa0OFF COAST OF COSTA RICA',\n",
       "  'lat': '8.95\\xa0N\\xa0\\xa0',\n",
       "  'lng': '84.19\\xa0W\\xa0\\xa0'},\n",
       " {'date': '2022-11-08\\xa0\\xa0\\xa014:20:38.0',\n",
       "  'region': '\\xa0SULAWESI, INDONESIA',\n",
       "  'lat': '2.97\\xa0S\\xa0\\xa0',\n",
       "  'lng': '122.17\\xa0E\\xa0\\xa0'},\n",
       " {'date': '2022-11-08\\xa0\\xa0\\xa013:42:34.5',\n",
       "  'region': '\\xa0NEVADA',\n",
       "  'lat': '40.08\\xa0N\\xa0\\xa0',\n",
       "  'lng': '119.41\\xa0W\\xa0\\xa0'},\n",
       " {'date': '2022-11-08\\xa0\\xa0\\xa013:09:18.0',\n",
       "  'region': '\\xa0OFFSHORE MAULE, CHILE',\n",
       "  'lat': '34.76\\xa0S\\xa0\\xa0',\n",
       "  'lng': '72.12\\xa0W\\xa0\\xa0'},\n",
       " {'date': '2022-11-08\\xa0\\xa0\\xa013:05:57.0',\n",
       "  'region': '\\xa0COQUIMBO, CHILE',\n",
       "  'lat': '31.05\\xa0S\\xa0\\xa0',\n",
       "  'lng': '71.36\\xa0W\\xa0\\xa0'},\n",
       " {'date': '2022-11-08\\xa0\\xa0\\xa012:53:04.3',\n",
       "  'region': '\\xa0NEVADA',\n",
       "  'lat': '40.17\\xa0N\\xa0\\xa0',\n",
       "  'lng': '119.15\\xa0W\\xa0\\xa0'},\n",
       " {'date': '2022-11-08\\xa0\\xa0\\xa012:26:00.3',\n",
       "  'region': '\\xa0ISLAND OF HAWAII, HAWAII',\n",
       "  'lat': '19.34\\xa0N\\xa0\\xa0',\n",
       "  'lng': '155.21\\xa0W\\xa0\\xa0'},\n",
       " {'date': '2022-11-08\\xa0\\xa0\\xa012:13:59.0',\n",
       "  'region': '\\xa0SOUTHERN SUMATRA, INDONESIA',\n",
       "  'lat': '4.72\\xa0S\\xa0\\xa0',\n",
       "  'lng': '101.71\\xa0E\\xa0\\xa0'},\n",
       " {'date': '2022-11-08\\xa0\\xa0\\xa012:05:36.9',\n",
       "  'region': '\\xa0SAN JUAN, ARGENTINA',\n",
       "  'lat': '29.88\\xa0S\\xa0\\xa0',\n",
       "  'lng': '68.41\\xa0W\\xa0\\xa0'},\n",
       " {'date': '2022-11-08\\xa0\\xa0\\xa011:57:11.4',\n",
       "  'region': '\\xa0WESTERN TEXAS',\n",
       "  'lat': '31.66\\xa0N\\xa0\\xa0',\n",
       "  'lng': '104.40\\xa0W\\xa0\\xa0'},\n",
       " {'date': '2022-11-08\\xa0\\xa0\\xa011:47:14.0',\n",
       "  'region': '\\xa0NEAR COAST OF NICARAGUA',\n",
       "  'lat': '12.05\\xa0N\\xa0\\xa0',\n",
       "  'lng': '87.75\\xa0W\\xa0\\xa0'},\n",
       " {'date': '2022-11-08\\xa0\\xa0\\xa011:45:08.0',\n",
       "  'region': '\\xa0SALTA, ARGENTINA',\n",
       "  'lat': '24.12\\xa0S\\xa0\\xa0',\n",
       "  'lng': '67.55\\xa0W\\xa0\\xa0'},\n",
       " {'date': '2022-11-08\\xa0\\xa0\\xa011:42:32.9',\n",
       "  'region': '\\xa0PUERTO RICO REGION',\n",
       "  'lat': '19.07\\xa0N\\xa0\\xa0',\n",
       "  'lng': '67.74\\xa0W\\xa0\\xa0'},\n",
       " {'date': '2022-11-08\\xa0\\xa0\\xa011:33:39.7',\n",
       "  'region': '\\xa0CUBA REGION',\n",
       "  'lat': '21.74\\xa0N\\xa0\\xa0',\n",
       "  'lng': '76.53\\xa0W\\xa0\\xa0'},\n",
       " {'date': '2022-11-08\\xa0\\xa0\\xa011:32:10.0',\n",
       "  'region': '\\xa0VALPARAISO, CHILE',\n",
       "  'lat': '32.75\\xa0S\\xa0\\xa0',\n",
       "  'lng': '71.09\\xa0W\\xa0\\xa0'},\n",
       " {'date': '2022-11-08\\xa0\\xa0\\xa011:27:25.0',\n",
       "  'region': '\\xa0SALTA, ARGENTINA',\n",
       "  'lat': '23.91\\xa0S\\xa0\\xa0',\n",
       "  'lng': '67.20\\xa0W\\xa0\\xa0'},\n",
       " {'date': '2022-11-08\\xa0\\xa0\\xa011:25:34.0',\n",
       "  'region': '\\xa0PHILIPPINE ISLANDS REGION',\n",
       "  'lat': '11.16\\xa0N\\xa0\\xa0',\n",
       "  'lng': '126.34\\xa0E\\xa0\\xa0'},\n",
       " {'date': '2022-11-08\\xa0\\xa0\\xa011:24:59.0',\n",
       "  'region': '\\xa0SICILY, ITALY',\n",
       "  'lat': '38.28\\xa0N\\xa0\\xa0',\n",
       "  'lng': '15.18\\xa0E\\xa0\\xa0'},\n",
       " {'date': '2022-11-08\\xa0\\xa0\\xa011:18:27.0',\n",
       "  'region': '\\xa0MOLUCCA SEA',\n",
       "  'lat': '0.93\\xa0N\\xa0\\xa0',\n",
       "  'lng': '126.06\\xa0E\\xa0\\xa0'},\n",
       " {'date': '2022-11-08\\xa0\\xa0\\xa011:16:09.1',\n",
       "  'region': '\\xa0SAMAR, PHILIPPINES',\n",
       "  'lat': '11.13\\xa0N\\xa0\\xa0',\n",
       "  'lng': '125.68\\xa0E\\xa0\\xa0'},\n",
       " {'date': '2022-11-08\\xa0\\xa0\\xa011:04:28.1',\n",
       "  'region': '\\xa0PUERTO RICO',\n",
       "  'lat': '17.97\\xa0N\\xa0\\xa0',\n",
       "  'lng': '66.94\\xa0W\\xa0\\xa0'},\n",
       " {'date': '2022-11-08\\xa0\\xa0\\xa010:58:26.0',\n",
       "  'region': '\\xa0GULF OF CALIFORNIA',\n",
       "  'lat': '28.73\\xa0N\\xa0\\xa0',\n",
       "  'lng': '112.89\\xa0W\\xa0\\xa0'},\n",
       " {'date': '2022-11-08\\xa0\\xa0\\xa010:57:27.0',\n",
       "  'region': '\\xa0OAXACA, MEXICO',\n",
       "  'lat': '17.06\\xa0N\\xa0\\xa0',\n",
       "  'lng': '95.39\\xa0W\\xa0\\xa0'},\n",
       " {'date': '2022-11-08\\xa0\\xa0\\xa010:53:42.0',\n",
       "  'region': '\\xa0PHILIPPINE ISLANDS REGION',\n",
       "  'lat': '11.38\\xa0N\\xa0\\xa0',\n",
       "  'lng': '126.24\\xa0E\\xa0\\xa0'},\n",
       " {'date': '2022-11-08\\xa0\\xa0\\xa010:43:41.0',\n",
       "  'region': '\\xa0FRANCE',\n",
       "  'lat': '47.51\\xa0N\\xa0\\xa0',\n",
       "  'lng': '2.27\\xa0W\\xa0\\xa0'},\n",
       " {'date': '2022-11-08\\xa0\\xa0\\xa010:35:34.0',\n",
       "  'region': '\\xa0OFFSHORE MICHOACAN, MEXICO',\n",
       "  'lat': '18.08\\xa0N\\xa0\\xa0',\n",
       "  'lng': '103.09\\xa0W\\xa0\\xa0'},\n",
       " {'date': '2022-11-08\\xa0\\xa0\\xa010:17:09.8',\n",
       "  'region': '\\xa0GREECE',\n",
       "  'lat': '39.77\\xa0N\\xa0\\xa0',\n",
       "  'lng': '20.71\\xa0E\\xa0\\xa0'},\n",
       " {'date': '2022-11-08\\xa0\\xa0\\xa009:58:40.0',\n",
       "  'region': '\\xa0OAXACA, MEXICO',\n",
       "  'lat': '16.28\\xa0N\\xa0\\xa0',\n",
       "  'lng': '95.98\\xa0W\\xa0\\xa0'},\n",
       " {'date': '2022-11-08\\xa0\\xa0\\xa009:57:39.0',\n",
       "  'region': '\\xa0GULF OF CALIFORNIA',\n",
       "  'lat': '28.11\\xa0N\\xa0\\xa0',\n",
       "  'lng': '112.28\\xa0W\\xa0\\xa0'},\n",
       " {'date': '2022-11-08\\xa0\\xa0\\xa009:47:53.0',\n",
       "  'region': '\\xa0WESTERN TURKEY',\n",
       "  'lat': '39.01\\xa0N\\xa0\\xa0',\n",
       "  'lng': '31.37\\xa0E\\xa0\\xa0'},\n",
       " {'date': '2022-11-08\\xa0\\xa0\\xa009:42:51.0',\n",
       "  'region': '\\xa0BAJA CALIFORNIA, MEXICO',\n",
       "  'lat': '31.55\\xa0N\\xa0\\xa0',\n",
       "  'lng': '115.58\\xa0W\\xa0\\xa0'},\n",
       " {'date': '2022-11-08\\xa0\\xa0\\xa009:35:57.0',\n",
       "  'region': '\\xa0OAXACA, MEXICO',\n",
       "  'lat': '16.72\\xa0N\\xa0\\xa0',\n",
       "  'lng': '94.96\\xa0W\\xa0\\xa0'},\n",
       " {'date': '2022-11-08\\xa0\\xa0\\xa009:33:13.5',\n",
       "  'region': '\\xa0PUERTO RICO',\n",
       "  'lat': '17.96\\xa0N\\xa0\\xa0',\n",
       "  'lng': '66.98\\xa0W\\xa0\\xa0'},\n",
       " {'date': '2022-11-08\\xa0\\xa0\\xa009:32:52.0',\n",
       "  'region': '\\xa0MICHOACAN, MEXICO',\n",
       "  'lat': '18.44\\xa0N\\xa0\\xa0',\n",
       "  'lng': '103.26\\xa0W\\xa0\\xa0'},\n",
       " {'date': '2022-11-08\\xa0\\xa0\\xa009:15:32.0',\n",
       "  'region': '\\xa0BIAK REGION, INDONESIA',\n",
       "  'lat': '1.90\\xa0S\\xa0\\xa0',\n",
       "  'lng': '136.33\\xa0E\\xa0\\xa0'},\n",
       " {'date': '2022-11-08\\xa0\\xa0\\xa009:14:04.0',\n",
       "  'region': '\\xa0SALTA, ARGENTINA',\n",
       "  'lat': '24.17\\xa0S\\xa0\\xa0',\n",
       "  'lng': '67.13\\xa0W\\xa0\\xa0'},\n",
       " {'date': '2022-11-08\\xa0\\xa0\\xa009:12:51.1',\n",
       "  'region': '\\xa0NEAR S.E. COAST OF AUSTRALIA',\n",
       "  'lat': '38.61\\xa0S\\xa0\\xa0',\n",
       "  'lng': '146.22\\xa0E\\xa0\\xa0'},\n",
       " {'date': '2022-11-08\\xa0\\xa0\\xa009:11:28.0',\n",
       "  'region': '\\xa0OAXACA, MEXICO',\n",
       "  'lat': '16.33\\xa0N\\xa0\\xa0',\n",
       "  'lng': '97.92\\xa0W\\xa0\\xa0'},\n",
       " {'date': '2022-11-08\\xa0\\xa0\\xa009:05:39.9',\n",
       "  'region': '\\xa0ISLAND OF HAWAII, HAWAII',\n",
       "  'lat': '19.41\\xa0N\\xa0\\xa0',\n",
       "  'lng': '155.29\\xa0W\\xa0\\xa0'},\n",
       " {'date': '2022-11-08\\xa0\\xa0\\xa009:02:26.0',\n",
       "  'region': '\\xa0NEAR COAST OF NICARAGUA',\n",
       "  'lat': '12.64\\xa0N\\xa0\\xa0',\n",
       "  'lng': '87.95\\xa0W\\xa0\\xa0'},\n",
       " {'date': '2022-11-08\\xa0\\xa0\\xa008:55:52.0',\n",
       "  'region': '\\xa0MICHOACAN, MEXICO',\n",
       "  'lat': '19.24\\xa0N\\xa0\\xa0',\n",
       "  'lng': '102.29\\xa0W\\xa0\\xa0'},\n",
       " {'date': '2022-11-08\\xa0\\xa0\\xa008:52:31.1',\n",
       "  'region': '\\xa0ISLAND OF HAWAII, HAWAII',\n",
       "  'lat': '19.04\\xa0N\\xa0\\xa0',\n",
       "  'lng': '155.42\\xa0W\\xa0\\xa0'},\n",
       " {'date': '2022-11-08\\xa0\\xa0\\xa008:51:15.9',\n",
       "  'region': '\\xa0REGION METROPOLITANA, CHILE',\n",
       "  'lat': '33.69\\xa0S\\xa0\\xa0',\n",
       "  'lng': '70.77\\xa0W\\xa0\\xa0'}]"
      ]
     },
     "execution_count": 167,
     "metadata": {},
     "output_type": "execute_result"
    }
   ],
   "source": [
    "html=req.get(url).content\n",
    "\n",
    "soup=bs(html, 'html.parser')\n",
    "tabla=soup.select('#tbody tr')\n",
    "elem = []\n",
    "tabla\n",
    "for i in range(len(tabla)):\n",
    "    elem.append(tabla[i].select('td'))\n",
    "\n",
    "#print(elem)\n",
    "terremoto=[None] * len(elem)\n",
    "for i in range(len(elem)):\n",
    "    try: \n",
    "        terremoto.append({\n",
    "            'date': elem[i][3].find('a').text,\n",
    "            'region': elem[i][-2].text,\n",
    "            'lat': elem[i][4].text + elem[i][5].text,\n",
    "            'lng': elem[i][6].text + elem[i][7].text\n",
    "        })\n",
    "    except:\n",
    "        pass\n",
    "terremoto[50:]"
   ]
  },
  {
   "cell_type": "markdown",
   "metadata": {},
   "source": [
    "#### Count number of tweets by a given Twitter account."
   ]
  },
  {
   "cell_type": "markdown",
   "metadata": {},
   "source": [
    "You will need to include a ***try/except block*** for account names not found. \n",
    "<br>***Hint:*** the program should count the number of tweets for any provided account"
   ]
  },
  {
   "cell_type": "code",
   "execution_count": 179,
   "metadata": {},
   "outputs": [],
   "source": [
    "# This is the url you will scrape in this exercise \n",
    "# You will need to add the account credentials to this url\n",
    "url = 'https://twitter.com/IkerCasillas'"
   ]
  },
  {
   "cell_type": "code",
   "execution_count": 183,
   "metadata": {},
   "outputs": [
    {
     "data": {
      "text/plain": [
       "0"
      ]
     },
     "execution_count": 183,
     "metadata": {},
     "output_type": "execute_result"
    }
   ],
   "source": [
    "html=req.get(url).content\n",
    "\n",
    "soup=bs(html, 'html.parser')\n",
    "\n",
    "tabla=soup.select('# ')\n",
    "\n",
    "table = soup.find_all('div', {'class': 'css-1dbjc4n r-1habvwh'})\n",
    "\n",
    "len(table)"
   ]
  },
  {
   "cell_type": "markdown",
   "metadata": {},
   "source": [
    "#### Number of followers of a given twitter account"
   ]
  },
  {
   "cell_type": "markdown",
   "metadata": {},
   "source": [
    "You will need to include a ***try/except block*** in case account/s name not found. \n",
    "<br>***Hint:*** the program should count the followers for any provided account"
   ]
  },
  {
   "cell_type": "code",
   "execution_count": null,
   "metadata": {},
   "outputs": [],
   "source": [
    "# This is the url you will scrape in this exercise \n",
    "# You will need to add the account credentials to this url\n",
    "url = 'https://twitter.com/'"
   ]
  },
  {
   "cell_type": "code",
   "execution_count": null,
   "metadata": {},
   "outputs": [],
   "source": [
    "#your code"
   ]
  },
  {
   "cell_type": "markdown",
   "metadata": {},
   "source": [
    "#### List all language names and number of related articles in the order they appear in wikipedia.org"
   ]
  },
  {
   "cell_type": "code",
   "execution_count": 1,
   "metadata": {},
   "outputs": [],
   "source": [
    "# This is the url you will scrape in this exercise\n",
    "url = 'https://www.wikipedia.org/'"
   ]
  },
  {
   "cell_type": "code",
   "execution_count": 4,
   "metadata": {},
   "outputs": [
    {
     "data": {
      "text/plain": [
       "['English',\n",
       " '日本語',\n",
       " 'Español',\n",
       " 'Русский',\n",
       " 'Français',\n",
       " 'Deutsch',\n",
       " 'Italiano',\n",
       " '中文',\n",
       " 'Português',\n",
       " 'العربية']"
      ]
     },
     "execution_count": 4,
     "metadata": {},
     "output_type": "execute_result"
    }
   ],
   "source": [
    "import re\n",
    "import requests as req\n",
    "from bs4 import BeautifulSoup as bs \n",
    "\n",
    "html=req.get(url).content\n",
    "\n",
    "soup=bs(html, 'html.parser')\n",
    "\n",
    "table = soup.find_all('strong')\n",
    "table\n",
    "for i in range(len(table)):\n",
    "    table[i] = table[i].text\n",
    "table.pop(0)    \n",
    "table.pop(-1)\n",
    "table\n"
   ]
  },
  {
   "cell_type": "markdown",
   "metadata": {},
   "source": [
    "#### A list with the different kind of datasets available in data.gov.uk "
   ]
  },
  {
   "cell_type": "code",
   "execution_count": 5,
   "metadata": {},
   "outputs": [],
   "source": [
    "# This is the url you will scrape in this exercise\n",
    "url = 'https://data.gov.uk/'"
   ]
  },
  {
   "cell_type": "code",
   "execution_count": 6,
   "metadata": {},
   "outputs": [
    {
     "data": {
      "text/plain": [
       "['Business and economy',\n",
       " 'Crime and justice',\n",
       " 'Defence',\n",
       " 'Education',\n",
       " 'Environment',\n",
       " 'Government',\n",
       " 'Government spending',\n",
       " 'Health',\n",
       " 'Mapping',\n",
       " 'Society',\n",
       " 'Towns and cities',\n",
       " 'Transport',\n",
       " 'Digital service performance',\n",
       " 'Government reference data']"
      ]
     },
     "execution_count": 6,
     "metadata": {},
     "output_type": "execute_result"
    }
   ],
   "source": [
    "html=req.get(url).content\n",
    "\n",
    "soup=bs(html, 'html.parser')\n",
    "lst = []\n",
    "table = soup.find_all('h3')\n",
    "for i in table:\n",
    "    lst.append(i.text)\n",
    "\n",
    "\n",
    "lst"
   ]
  },
  {
   "cell_type": "markdown",
   "metadata": {},
   "source": [
    "#### Top 10 languages by number of native speakers stored in a Pandas Dataframe"
   ]
  },
  {
   "cell_type": "code",
   "execution_count": 7,
   "metadata": {},
   "outputs": [],
   "source": [
    "# This is the url you will scrape in this exercise\n",
    "url = 'https://en.wikipedia.org/wiki/List_of_languages_by_number_of_native_speakers'"
   ]
  },
  {
   "cell_type": "code",
   "execution_count": 13,
   "metadata": {},
   "outputs": [
    {
     "ename": "SyntaxError",
     "evalue": "unmatched ')' (452545303.py, line 17)",
     "output_type": "error",
     "traceback": [
      "\u001b[1;36m  Input \u001b[1;32mIn [13]\u001b[1;36m\u001b[0m\n\u001b[1;33m    tmp.append.replace('\\xa0', ''))\u001b[0m\n\u001b[1;37m                                  ^\u001b[0m\n\u001b[1;31mSyntaxError\u001b[0m\u001b[1;31m:\u001b[0m unmatched ')'\n"
     ]
    }
   ],
   "source": [
    "html=req.get(url).content\n",
    "soup=bs(html, 'html.parser')\n",
    "tabla=soup.find_all('table')\n",
    "\n",
    "#\n",
    "#filas=[f.text.strip().split('\\n') for f in filas]\n",
    "tabla = tabla[1]\n",
    "filas=tabla.find_all('td')\n",
    "filas\n",
    "\n",
    "final=[]\n",
    "\n",
    "for e in filas:\n",
    "    tmp=[]\n",
    "    for st in e:\n",
    "        if st!='':\n",
    "            tmp.append(.replace('\\xa0', ''))\n",
    "            \n",
    "    final.append(tmp)"
   ]
  },
  {
   "cell_type": "markdown",
   "metadata": {},
   "source": [
    "### BONUS QUESTIONS"
   ]
  },
  {
   "cell_type": "markdown",
   "metadata": {},
   "source": [
    "#### Scrape a certain number of tweets of a given Twitter account."
   ]
  },
  {
   "cell_type": "code",
   "execution_count": null,
   "metadata": {},
   "outputs": [],
   "source": [
    "# This is the url you will scrape in this exercise \n",
    "# You will need to add the account credentials to this url\n",
    "url = 'https://twitter.com/'"
   ]
  },
  {
   "cell_type": "code",
   "execution_count": null,
   "metadata": {},
   "outputs": [],
   "source": [
    "# your code"
   ]
  },
  {
   "cell_type": "markdown",
   "metadata": {},
   "source": [
    "#### IMDB's Top 250 data (movie name, Initial release, director name and stars) as a pandas dataframe"
   ]
  },
  {
   "cell_type": "code",
   "execution_count": null,
   "metadata": {},
   "outputs": [],
   "source": [
    "# This is the url you will scrape in this exercise \n",
    "url = 'https://www.imdb.com/chart/top'"
   ]
  },
  {
   "cell_type": "code",
   "execution_count": null,
   "metadata": {},
   "outputs": [],
   "source": [
    "# your code"
   ]
  },
  {
   "cell_type": "markdown",
   "metadata": {},
   "source": [
    "#### Movie name, year and a brief summary of the top 10 random movies (IMDB) as a pandas dataframe."
   ]
  },
  {
   "cell_type": "code",
   "execution_count": null,
   "metadata": {},
   "outputs": [],
   "source": [
    "#This is the url you will scrape in this exercise\n",
    "url = 'http://www.imdb.com/chart/top'"
   ]
  },
  {
   "cell_type": "code",
   "execution_count": null,
   "metadata": {},
   "outputs": [],
   "source": [
    "#your code"
   ]
  },
  {
   "cell_type": "markdown",
   "metadata": {},
   "source": [
    "#### Find the live weather report (temperature, wind speed, description and weather) of a given city."
   ]
  },
  {
   "cell_type": "code",
   "execution_count": null,
   "metadata": {},
   "outputs": [],
   "source": [
    "#https://openweathermap.org/current\n",
    "city = city=input('Enter the city:')\n",
    "url = 'http://api.openweathermap.org/data/2.5/weather?'+'q='+city+'&APPID=b35975e18dc93725acb092f7272cc6b8&units=metric'"
   ]
  },
  {
   "cell_type": "code",
   "execution_count": null,
   "metadata": {},
   "outputs": [],
   "source": [
    "# your code"
   ]
  },
  {
   "cell_type": "markdown",
   "metadata": {},
   "source": [
    "#### Book name,price and stock availability as a pandas dataframe."
   ]
  },
  {
   "cell_type": "code",
   "execution_count": null,
   "metadata": {},
   "outputs": [],
   "source": [
    "# This is the url you will scrape in this exercise. \n",
    "# It is a fictional bookstore created to be scraped. \n",
    "url = 'http://books.toscrape.com/'"
   ]
  },
  {
   "cell_type": "code",
   "execution_count": null,
   "metadata": {},
   "outputs": [],
   "source": [
    "#your code"
   ]
  }
 ],
 "metadata": {
  "kernelspec": {
   "display_name": "Python 3 (ipykernel)",
   "language": "python",
   "name": "python3"
  },
  "language_info": {
   "codemirror_mode": {
    "name": "ipython",
    "version": 3
   },
   "file_extension": ".py",
   "mimetype": "text/x-python",
   "name": "python",
   "nbconvert_exporter": "python",
   "pygments_lexer": "ipython3",
   "version": "3.9.12"
  }
 },
 "nbformat": 4,
 "nbformat_minor": 2
}
