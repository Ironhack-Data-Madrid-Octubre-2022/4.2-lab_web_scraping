{
 "cells": [
  {
   "cell_type": "markdown",
   "metadata": {},
   "source": [
    "# Web Scraping Lab\n",
    "\n",
    "You will find in this notebook some scrapy exercises to practise your scraping skills.\n",
    "\n",
    "**Tips:**\n",
    "\n",
    "- Check the response status code for each request to ensure you have obtained the intended contennt.\n",
    "- Print the response text in each request to understand the kind of info you are getting and its format.\n",
    "- Check for patterns in the response text to extract the data/info requested in each question.\n",
    "- Visit each url and take a look at its source through Chrome DevTools. You'll need to identify the html tags, special class names etc. used for the html content you are expected to extract."
   ]
  },
  {
   "cell_type": "markdown",
   "metadata": {},
   "source": [
    "- [Requests library](http://docs.python-requests.org/en/master/#the-user-guide) documentation \n",
    "- [Beautiful Soup Doc](https://www.crummy.com/software/BeautifulSoup/bs4/doc/)\n",
    "- [Urllib](https://docs.python.org/3/library/urllib.html#module-urllib)\n",
    "- [re lib](https://docs.python.org/3/library/re.html)\n",
    "- [lxml lib](https://lxml.de/)\n",
    "- [Scrapy](https://scrapy.org/)\n",
    "- [List of HTTP status codes](https://en.wikipedia.org/wiki/List_of_HTTP_status_codes)\n",
    "- [HTML basics](http://www.simplehtmlguide.com/cheatsheet.php)\n",
    "- [CSS basics](https://www.cssbasics.com/#page_start)"
   ]
  },
  {
   "cell_type": "markdown",
   "metadata": {},
   "source": [
    "#### Below are the libraries and modules you may need. `requests`,  `BeautifulSoup` and `pandas` are imported for you. If you prefer to use additional libraries feel free to uncomment them."
   ]
  },
  {
   "cell_type": "code",
   "execution_count": 11,
   "metadata": {},
   "outputs": [],
   "source": [
    "import requests as req\n",
    "from bs4 import BeautifulSoup as bs\n",
    "import pandas as pd\n",
    "# from pprint import pprint\n",
    "# from lxml import html\n",
    "# from lxml.html import fromstring\n",
    "# import urllib.request\n",
    "# from urllib.request import urlopen\n",
    "# import random\n",
    "# import re\n",
    "# import scrapy"
   ]
  },
  {
   "cell_type": "markdown",
   "metadata": {},
   "source": [
    "#### Download, parse (using BeautifulSoup), and print the content from the Trending Developers page from GitHub:"
   ]
  },
  {
   "cell_type": "code",
   "execution_count": 3,
   "metadata": {},
   "outputs": [
    {
     "name": "stdout",
     "output_type": "stream",
     "text": [
      "Requirement already satisfied: beautifulsoup4 in /Users/maria/opt/anaconda3/lib/python3.9/site-packages (4.11.1)\n",
      "Requirement already satisfied: soupsieve>1.2 in /Users/maria/opt/anaconda3/lib/python3.9/site-packages (from beautifulsoup4) (2.3.1)\n",
      "Note: you may need to restart the kernel to use updated packages.\n"
     ]
    }
   ],
   "source": [
    "%pip install beautifulsoup4"
   ]
  },
  {
   "cell_type": "code",
   "execution_count": 2,
   "metadata": {},
   "outputs": [],
   "source": [
    "# This is the url you will scrape in this exercise\n",
    "url = 'https://github.com/trending/developers'"
   ]
  },
  {
   "cell_type": "code",
   "execution_count": 9,
   "metadata": {},
   "outputs": [
    {
     "data": {
      "text/plain": [
       "'\\n\\n<!DOCTYPE html>\\n<h'"
      ]
     },
     "execution_count": 9,
     "metadata": {},
     "output_type": "execute_result"
    }
   ],
   "source": [
    "#your code\n",
    "html=req.get(url).text\n",
    "html[:20]"
   ]
  },
  {
   "cell_type": "code",
   "execution_count": 33,
   "metadata": {},
   "outputs": [
    {
     "data": {
      "text/plain": [
       "<title>Trending  developers on GitHub today · GitHub</title>"
      ]
     },
     "execution_count": 33,
     "metadata": {},
     "output_type": "execute_result"
    }
   ],
   "source": [
    "soup=bs(html, 'html.parser')\n",
    "\n",
    "soup.title #Dejo solo el título para evitar scroll infinito."
   ]
  },
  {
   "cell_type": "markdown",
   "metadata": {},
   "source": [
    "#### Display the names of the trending developers retrieved in the previous step.\n",
    "\n",
    "Your output should be a Python list of developer names. Each name should not contain any html tag.\n",
    "\n",
    "**Instructions:**\n",
    "\n",
    "1. Find out the html tag and class names used for the developer names. You can achieve this using Chrome DevTools.\n",
    "\n",
    "1. Use BeautifulSoup to extract all the html elements that contain the developer names.\n",
    "\n",
    "1. Use string manipulation techniques to replace whitespaces and linebreaks (i.e. `\\n`) in the *text* of each html element. Use a list to store the clean names.\n",
    "\n",
    "1. Print the list of names.\n",
    "\n",
    "Your output should look like below:\n",
    "\n",
    "```\n",
    "['trimstray (@trimstray)',\n",
    " 'joewalnes (JoeWalnes)',\n",
    " 'charlax (Charles-AxelDein)',\n",
    " 'ForrestKnight (ForrestKnight)',\n",
    " 'revery-ui (revery-ui)',\n",
    " 'alibaba (Alibaba)',\n",
    " 'Microsoft (Microsoft)',\n",
    " 'github (GitHub)',\n",
    " 'facebook (Facebook)',\n",
    " 'boazsegev (Bo)',\n",
    " 'google (Google)',\n",
    " 'cloudfetch',\n",
    " 'sindresorhus (SindreSorhus)',\n",
    " 'tensorflow',\n",
    " 'apache (TheApacheSoftwareFoundation)',\n",
    " 'DevonCrawford (DevonCrawford)',\n",
    " 'ARMmbed (ArmMbed)',\n",
    " 'vuejs (vuejs)',\n",
    " 'fastai (fast.ai)',\n",
    " 'QiShaoXuan (Qi)',\n",
    " 'joelparkerhenderson (JoelParkerHenderson)',\n",
    " 'torvalds (LinusTorvalds)',\n",
    " 'CyC2018',\n",
    " 'komeiji-satori (神楽坂覚々)',\n",
    " 'script-8']\n",
    " ```"
   ]
  },
  {
   "cell_type": "code",
   "execution_count": 105,
   "metadata": {},
   "outputs": [
    {
     "name": "stdout",
     "output_type": "stream",
     "text": [
      "Emil Ernerfeldt\n",
      "Earle F. Philhower, III\n",
      "Nikita Sobolev\n",
      "Stephen Celis\n",
      "Justin Fagnani\n",
      "Manu MA\n",
      "Joshua\n",
      "Simon H\n",
      "Marcus Olsson\n",
      "Ben V. Brown\n",
      "Jonny Borges\n",
      "Andrew Kane\n",
      "Wangchong Zhou\n",
      "Mislav Marohnić\n",
      "Matthias Fey\n",
      "Elliana May\n",
      "Romain Beaumont\n",
      "Hari Sekhon\n",
      "osy\n",
      "Adam Johnson\n",
      "Pedro Cuenca\n",
      "Alex Gaynor\n",
      "Henrik Rydgård\n",
      "Joshua Levy\n",
      "Mu Li\n"
     ]
    }
   ],
   "source": [
    "for e in soup.find_all('h1', class_='h3 lh-condensed'):\n",
    "    print(e.text.strip())"
   ]
  },
  {
   "cell_type": "markdown",
   "metadata": {},
   "source": [
    "#### Display the trending Python repositories in GitHub\n",
    "\n",
    "The steps to solve this problem is similar to the previous one except that you need to find out the repository names instead of developer names."
   ]
  },
  {
   "cell_type": "code",
   "execution_count": 108,
   "metadata": {},
   "outputs": [
    {
     "data": {
      "text/plain": [
       "<title>Trending Python repositories on GitHub today · GitHub</title>"
      ]
     },
     "execution_count": 108,
     "metadata": {},
     "output_type": "execute_result"
    }
   ],
   "source": [
    "# This is the url you will scrape in this exercise\n",
    "url = 'https://github.com/trending/python?since=daily'\n",
    "html=req.get(url).text\n",
    "html[:20]\n",
    "soup=bs(html, 'html.parser')\n",
    "soup.title #Dejo solo el título para evitar scroll infinito."
   ]
  },
  {
   "cell_type": "code",
   "execution_count": 115,
   "metadata": {},
   "outputs": [
    {
     "data": {
      "text/plain": [
       "[<h1 class=\"h3 lh-condensed\">\n",
       " <a data-hydro-click='{\"event_type\":\"explore.click\",\"payload\":{\"click_context\":\"TRENDING_REPOSITORIES_PAGE\",\"click_target\":\"REPOSITORY\",\"click_visual_representation\":\"REPOSITORY_NAME_HEADING\",\"actor_id\":null,\"record_id\":212639071,\"originating_url\":\"https://github.com/trending/python?since=daily\",\"user_id\":null}}' data-hydro-click-hmac=\"5f236fa28110982f16b23522a73bcb74f655b61bd627f5b2d0d23cff176079d0\" data-view-component=\"true\" href=\"/bregman-arie/devops-exercises\">\n",
       " <svg aria-hidden=\"true\" class=\"octicon octicon-repo mr-1 color-fg-muted\" data-view-component=\"true\" height=\"16\" version=\"1.1\" viewbox=\"0 0 16 16\" width=\"16\">\n",
       " <path d=\"M2 2.5A2.5 2.5 0 014.5 0h8.75a.75.75 0 01.75.75v12.5a.75.75 0 01-.75.75h-2.5a.75.75 0 110-1.5h1.75v-2h-8a1 1 0 00-.714 1.7.75.75 0 01-1.072 1.05A2.495 2.495 0 012 11.5v-9zm10.5-1V9h-8c-.356 0-.694.074-1 .208V2.5a1 1 0 011-1h8zM5 12.25v3.25a.25.25 0 00.4.2l1.45-1.087a.25.25 0 01.3 0L8.6 15.7a.25.25 0 00.4-.2v-3.25a.25.25 0 00-.25-.25h-3.5a.25.25 0 00-.25.25z\" fill-rule=\"evenodd\"></path>\n",
       " </svg>\n",
       " <span class=\"text-normal\" data-view-component=\"true\">\n",
       "         bregman-arie /\n",
       " </span>\n",
       "       devops-exercises\n",
       " </a> </h1>,\n",
       " <h1 class=\"h3 lh-condensed\">\n",
       " <a data-hydro-click='{\"event_type\":\"explore.click\",\"payload\":{\"click_context\":\"TRENDING_REPOSITORIES_PAGE\",\"click_target\":\"REPOSITORY\",\"click_visual_representation\":\"REPOSITORY_NAME_HEADING\",\"actor_id\":null,\"record_id\":54346799,\"originating_url\":\"https://github.com/trending/python?since=daily\",\"user_id\":null}}' data-hydro-click-hmac=\"b17f74c36645c83bc024c473a2da97ed79d54a978b739760186fb995b3f5e647\" data-view-component=\"true\" href=\"/public-apis/public-apis\">\n",
       " <svg aria-hidden=\"true\" class=\"octicon octicon-repo mr-1 color-fg-muted\" data-view-component=\"true\" height=\"16\" version=\"1.1\" viewbox=\"0 0 16 16\" width=\"16\">\n",
       " <path d=\"M2 2.5A2.5 2.5 0 014.5 0h8.75a.75.75 0 01.75.75v12.5a.75.75 0 01-.75.75h-2.5a.75.75 0 110-1.5h1.75v-2h-8a1 1 0 00-.714 1.7.75.75 0 01-1.072 1.05A2.495 2.495 0 012 11.5v-9zm10.5-1V9h-8c-.356 0-.694.074-1 .208V2.5a1 1 0 011-1h8zM5 12.25v3.25a.25.25 0 00.4.2l1.45-1.087a.25.25 0 01.3 0L8.6 15.7a.25.25 0 00.4-.2v-3.25a.25.25 0 00-.25-.25h-3.5a.25.25 0 00-.25.25z\" fill-rule=\"evenodd\"></path>\n",
       " </svg>\n",
       " <span class=\"text-normal\" data-view-component=\"true\">\n",
       "         public-apis /\n",
       " </span>\n",
       "       public-apis\n",
       " </a> </h1>,\n",
       " <h1 class=\"h3 lh-condensed\">\n",
       " <a data-hydro-click='{\"event_type\":\"explore.click\",\"payload\":{\"click_context\":\"TRENDING_REPOSITORIES_PAGE\",\"click_target\":\"REPOSITORY\",\"click_visual_representation\":\"REPOSITORY_NAME_HEADING\",\"actor_id\":null,\"record_id\":305144746,\"originating_url\":\"https://github.com/trending/python?since=daily\",\"user_id\":null}}' data-hydro-click-hmac=\"c5000e8015832966b5be1b4effd5113d1bc20c350ab336a73e7bbbed138f1181\" data-view-component=\"true\" href=\"/geohot/tinygrad\">\n",
       " <svg aria-hidden=\"true\" class=\"octicon octicon-repo mr-1 color-fg-muted\" data-view-component=\"true\" height=\"16\" version=\"1.1\" viewbox=\"0 0 16 16\" width=\"16\">\n",
       " <path d=\"M2 2.5A2.5 2.5 0 014.5 0h8.75a.75.75 0 01.75.75v12.5a.75.75 0 01-.75.75h-2.5a.75.75 0 110-1.5h1.75v-2h-8a1 1 0 00-.714 1.7.75.75 0 01-1.072 1.05A2.495 2.495 0 012 11.5v-9zm10.5-1V9h-8c-.356 0-.694.074-1 .208V2.5a1 1 0 011-1h8zM5 12.25v3.25a.25.25 0 00.4.2l1.45-1.087a.25.25 0 01.3 0L8.6 15.7a.25.25 0 00.4-.2v-3.25a.25.25 0 00-.25-.25h-3.5a.25.25 0 00-.25.25z\" fill-rule=\"evenodd\"></path>\n",
       " </svg>\n",
       " <span class=\"text-normal\" data-view-component=\"true\">\n",
       "         geohot /\n",
       " </span>\n",
       "       tinygrad\n",
       " </a> </h1>,\n",
       " <h1 class=\"h3 lh-condensed\">\n",
       " <a data-hydro-click='{\"event_type\":\"explore.click\",\"payload\":{\"click_context\":\"TRENDING_REPOSITORIES_PAGE\",\"click_target\":\"REPOSITORY\",\"click_visual_representation\":\"REPOSITORY_NAME_HEADING\",\"actor_id\":null,\"record_id\":136202695,\"originating_url\":\"https://github.com/trending/python?since=daily\",\"user_id\":null}}' data-hydro-click-hmac=\"743d0f29234e4d4c959a23780043d3fc398e68224a2957f0ea80c19c510afb6b\" data-view-component=\"true\" href=\"/mlflow/mlflow\">\n",
       " <svg aria-hidden=\"true\" class=\"octicon octicon-repo mr-1 color-fg-muted\" data-view-component=\"true\" height=\"16\" version=\"1.1\" viewbox=\"0 0 16 16\" width=\"16\">\n",
       " <path d=\"M2 2.5A2.5 2.5 0 014.5 0h8.75a.75.75 0 01.75.75v12.5a.75.75 0 01-.75.75h-2.5a.75.75 0 110-1.5h1.75v-2h-8a1 1 0 00-.714 1.7.75.75 0 01-1.072 1.05A2.495 2.495 0 012 11.5v-9zm10.5-1V9h-8c-.356 0-.694.074-1 .208V2.5a1 1 0 011-1h8zM5 12.25v3.25a.25.25 0 00.4.2l1.45-1.087a.25.25 0 01.3 0L8.6 15.7a.25.25 0 00.4-.2v-3.25a.25.25 0 00-.25-.25h-3.5a.25.25 0 00-.25.25z\" fill-rule=\"evenodd\"></path>\n",
       " </svg>\n",
       " <span class=\"text-normal\" data-view-component=\"true\">\n",
       "         mlflow /\n",
       " </span>\n",
       "       mlflow\n",
       " </a> </h1>,\n",
       " <h1 class=\"h3 lh-condensed\">\n",
       " <a data-hydro-click='{\"event_type\":\"explore.click\",\"payload\":{\"click_context\":\"TRENDING_REPOSITORIES_PAGE\",\"click_target\":\"REPOSITORY\",\"click_visual_representation\":\"REPOSITORY_NAME_HEADING\",\"actor_id\":null,\"record_id\":217475193,\"originating_url\":\"https://github.com/trending/python?since=daily\",\"user_id\":null}}' data-hydro-click-hmac=\"826cf37814451e28ea2d42cef1be18f9b1a731c34d3b45f78997cb505b8e23c3\" data-view-component=\"true\" href=\"/PaddlePaddle/PaddleDetection\">\n",
       " <svg aria-hidden=\"true\" class=\"octicon octicon-repo mr-1 color-fg-muted\" data-view-component=\"true\" height=\"16\" version=\"1.1\" viewbox=\"0 0 16 16\" width=\"16\">\n",
       " <path d=\"M2 2.5A2.5 2.5 0 014.5 0h8.75a.75.75 0 01.75.75v12.5a.75.75 0 01-.75.75h-2.5a.75.75 0 110-1.5h1.75v-2h-8a1 1 0 00-.714 1.7.75.75 0 01-1.072 1.05A2.495 2.495 0 012 11.5v-9zm10.5-1V9h-8c-.356 0-.694.074-1 .208V2.5a1 1 0 011-1h8zM5 12.25v3.25a.25.25 0 00.4.2l1.45-1.087a.25.25 0 01.3 0L8.6 15.7a.25.25 0 00.4-.2v-3.25a.25.25 0 00-.25-.25h-3.5a.25.25 0 00-.25.25z\" fill-rule=\"evenodd\"></path>\n",
       " </svg>\n",
       " <span class=\"text-normal\" data-view-component=\"true\">\n",
       "         PaddlePaddle /\n",
       " </span>\n",
       "       PaddleDetection\n",
       " </a> </h1>,\n",
       " <h1 class=\"h3 lh-condensed\">\n",
       " <a data-hydro-click='{\"event_type\":\"explore.click\",\"payload\":{\"click_context\":\"TRENDING_REPOSITORIES_PAGE\",\"click_target\":\"REPOSITORY\",\"click_visual_representation\":\"REPOSITORY_NAME_HEADING\",\"actor_id\":null,\"record_id\":154739597,\"originating_url\":\"https://github.com/trending/python?since=daily\",\"user_id\":null}}' data-hydro-click-hmac=\"9b85e655ebba4c849f73d97cf417edb8fc419fce12bc37e48a363f022553ac43\" data-view-component=\"true\" href=\"/google/jax\">\n",
       " <svg aria-hidden=\"true\" class=\"octicon octicon-repo mr-1 color-fg-muted\" data-view-component=\"true\" height=\"16\" version=\"1.1\" viewbox=\"0 0 16 16\" width=\"16\">\n",
       " <path d=\"M2 2.5A2.5 2.5 0 014.5 0h8.75a.75.75 0 01.75.75v12.5a.75.75 0 01-.75.75h-2.5a.75.75 0 110-1.5h1.75v-2h-8a1 1 0 00-.714 1.7.75.75 0 01-1.072 1.05A2.495 2.495 0 012 11.5v-9zm10.5-1V9h-8c-.356 0-.694.074-1 .208V2.5a1 1 0 011-1h8zM5 12.25v3.25a.25.25 0 00.4.2l1.45-1.087a.25.25 0 01.3 0L8.6 15.7a.25.25 0 00.4-.2v-3.25a.25.25 0 00-.25-.25h-3.5a.25.25 0 00-.25.25z\" fill-rule=\"evenodd\"></path>\n",
       " </svg>\n",
       " <span class=\"text-normal\" data-view-component=\"true\">\n",
       "         google /\n",
       " </span>\n",
       "       jax\n",
       " </a> </h1>,\n",
       " <h1 class=\"h3 lh-condensed\">\n",
       " <a data-hydro-click='{\"event_type\":\"explore.click\",\"payload\":{\"click_context\":\"TRENDING_REPOSITORIES_PAGE\",\"click_target\":\"REPOSITORY\",\"click_visual_representation\":\"REPOSITORY_NAME_HEADING\",\"actor_id\":null,\"record_id\":386017669,\"originating_url\":\"https://github.com/trending/python?since=daily\",\"user_id\":null}}' data-hydro-click-hmac=\"cacdfd94b5001de9a391c8ab408a772ab01068448eb27d67c2f4360bc8d60cd7\" data-view-component=\"true\" href=\"/iterativv/NostalgiaForInfinity\">\n",
       " <svg aria-hidden=\"true\" class=\"octicon octicon-repo mr-1 color-fg-muted\" data-view-component=\"true\" height=\"16\" version=\"1.1\" viewbox=\"0 0 16 16\" width=\"16\">\n",
       " <path d=\"M2 2.5A2.5 2.5 0 014.5 0h8.75a.75.75 0 01.75.75v12.5a.75.75 0 01-.75.75h-2.5a.75.75 0 110-1.5h1.75v-2h-8a1 1 0 00-.714 1.7.75.75 0 01-1.072 1.05A2.495 2.495 0 012 11.5v-9zm10.5-1V9h-8c-.356 0-.694.074-1 .208V2.5a1 1 0 011-1h8zM5 12.25v3.25a.25.25 0 00.4.2l1.45-1.087a.25.25 0 01.3 0L8.6 15.7a.25.25 0 00.4-.2v-3.25a.25.25 0 00-.25-.25h-3.5a.25.25 0 00-.25.25z\" fill-rule=\"evenodd\"></path>\n",
       " </svg>\n",
       " <span class=\"text-normal\" data-view-component=\"true\">\n",
       "         iterativv /\n",
       " </span>\n",
       "       NostalgiaForInfinity\n",
       " </a> </h1>,\n",
       " <h1 class=\"h3 lh-condensed\">\n",
       " <a data-hydro-click='{\"event_type\":\"explore.click\",\"payload\":{\"click_context\":\"TRENDING_REPOSITORIES_PAGE\",\"click_target\":\"REPOSITORY\",\"click_visual_representation\":\"REPOSITORY_NAME_HEADING\",\"actor_id\":null,\"record_id\":52796596,\"originating_url\":\"https://github.com/trending/python?since=daily\",\"user_id\":null}}' data-hydro-click-hmac=\"3aed344b6e10a183ee9cb8ff823d72f87d524075c1552d840ca8ecc334436eb7\" data-view-component=\"true\" href=\"/netbox-community/netbox\">\n",
       " <svg aria-hidden=\"true\" class=\"octicon octicon-repo mr-1 color-fg-muted\" data-view-component=\"true\" height=\"16\" version=\"1.1\" viewbox=\"0 0 16 16\" width=\"16\">\n",
       " <path d=\"M2 2.5A2.5 2.5 0 014.5 0h8.75a.75.75 0 01.75.75v12.5a.75.75 0 01-.75.75h-2.5a.75.75 0 110-1.5h1.75v-2h-8a1 1 0 00-.714 1.7.75.75 0 01-1.072 1.05A2.495 2.495 0 012 11.5v-9zm10.5-1V9h-8c-.356 0-.694.074-1 .208V2.5a1 1 0 011-1h8zM5 12.25v3.25a.25.25 0 00.4.2l1.45-1.087a.25.25 0 01.3 0L8.6 15.7a.25.25 0 00.4-.2v-3.25a.25.25 0 00-.25-.25h-3.5a.25.25 0 00-.25.25z\" fill-rule=\"evenodd\"></path>\n",
       " </svg>\n",
       " <span class=\"text-normal\" data-view-component=\"true\">\n",
       "         netbox-community /\n",
       " </span>\n",
       "       netbox\n",
       " </a> </h1>,\n",
       " <h1 class=\"h3 lh-condensed\">\n",
       " <a data-hydro-click='{\"event_type\":\"explore.click\",\"payload\":{\"click_context\":\"TRENDING_REPOSITORIES_PAGE\",\"click_target\":\"REPOSITORY\",\"click_visual_representation\":\"REPOSITORY_NAME_HEADING\",\"actor_id\":null,\"record_id\":229937405,\"originating_url\":\"https://github.com/trending/python?since=daily\",\"user_id\":null}}' data-hydro-click-hmac=\"b964fae343c4825e9b4839e95c772c4c7237f26144df73e040d501d4295fe840\" data-view-component=\"true\" href=\"/tiangolo/typer\">\n",
       " <svg aria-hidden=\"true\" class=\"octicon octicon-repo mr-1 color-fg-muted\" data-view-component=\"true\" height=\"16\" version=\"1.1\" viewbox=\"0 0 16 16\" width=\"16\">\n",
       " <path d=\"M2 2.5A2.5 2.5 0 014.5 0h8.75a.75.75 0 01.75.75v12.5a.75.75 0 01-.75.75h-2.5a.75.75 0 110-1.5h1.75v-2h-8a1 1 0 00-.714 1.7.75.75 0 01-1.072 1.05A2.495 2.495 0 012 11.5v-9zm10.5-1V9h-8c-.356 0-.694.074-1 .208V2.5a1 1 0 011-1h8zM5 12.25v3.25a.25.25 0 00.4.2l1.45-1.087a.25.25 0 01.3 0L8.6 15.7a.25.25 0 00.4-.2v-3.25a.25.25 0 00-.25-.25h-3.5a.25.25 0 00-.25.25z\" fill-rule=\"evenodd\"></path>\n",
       " </svg>\n",
       " <span class=\"text-normal\" data-view-component=\"true\">\n",
       "         tiangolo /\n",
       " </span>\n",
       "       typer\n",
       " </a> </h1>,\n",
       " <h1 class=\"h3 lh-condensed\">\n",
       " <a data-hydro-click='{\"event_type\":\"explore.click\",\"payload\":{\"click_context\":\"TRENDING_REPOSITORIES_PAGE\",\"click_target\":\"REPOSITORY\",\"click_visual_representation\":\"REPOSITORY_NAME_HEADING\",\"actor_id\":null,\"record_id\":204086862,\"originating_url\":\"https://github.com/trending/python?since=daily\",\"user_id\":null}}' data-hydro-click-hmac=\"6a51fd43bbbcfe35e1fae2b33db8d72e4963cec71ca518e3a84266227beed3ba\" data-view-component=\"true\" href=\"/streamlit/streamlit\">\n",
       " <svg aria-hidden=\"true\" class=\"octicon octicon-repo mr-1 color-fg-muted\" data-view-component=\"true\" height=\"16\" version=\"1.1\" viewbox=\"0 0 16 16\" width=\"16\">\n",
       " <path d=\"M2 2.5A2.5 2.5 0 014.5 0h8.75a.75.75 0 01.75.75v12.5a.75.75 0 01-.75.75h-2.5a.75.75 0 110-1.5h1.75v-2h-8a1 1 0 00-.714 1.7.75.75 0 01-1.072 1.05A2.495 2.495 0 012 11.5v-9zm10.5-1V9h-8c-.356 0-.694.074-1 .208V2.5a1 1 0 011-1h8zM5 12.25v3.25a.25.25 0 00.4.2l1.45-1.087a.25.25 0 01.3 0L8.6 15.7a.25.25 0 00.4-.2v-3.25a.25.25 0 00-.25-.25h-3.5a.25.25 0 00-.25.25z\" fill-rule=\"evenodd\"></path>\n",
       " </svg>\n",
       " <span class=\"text-normal\" data-view-component=\"true\">\n",
       "         streamlit /\n",
       " </span>\n",
       "       streamlit\n",
       " </a> </h1>,\n",
       " <h1 class=\"h3 lh-condensed\">\n",
       " <a data-hydro-click='{\"event_type\":\"explore.click\",\"payload\":{\"click_context\":\"TRENDING_REPOSITORIES_PAGE\",\"click_target\":\"REPOSITORY\",\"click_visual_representation\":\"REPOSITORY_NAME_HEADING\",\"actor_id\":null,\"record_id\":517552648,\"originating_url\":\"https://github.com/trending/python?since=daily\",\"user_id\":null}}' data-hydro-click-hmac=\"b183f0eb09566ae0cc8ae041da5ee876e0e5d485c9658ac6b01aa080da66e69b\" data-view-component=\"true\" href=\"/modelscope/modelscope\">\n",
       " <svg aria-hidden=\"true\" class=\"octicon octicon-repo mr-1 color-fg-muted\" data-view-component=\"true\" height=\"16\" version=\"1.1\" viewbox=\"0 0 16 16\" width=\"16\">\n",
       " <path d=\"M2 2.5A2.5 2.5 0 014.5 0h8.75a.75.75 0 01.75.75v12.5a.75.75 0 01-.75.75h-2.5a.75.75 0 110-1.5h1.75v-2h-8a1 1 0 00-.714 1.7.75.75 0 01-1.072 1.05A2.495 2.495 0 012 11.5v-9zm10.5-1V9h-8c-.356 0-.694.074-1 .208V2.5a1 1 0 011-1h8zM5 12.25v3.25a.25.25 0 00.4.2l1.45-1.087a.25.25 0 01.3 0L8.6 15.7a.25.25 0 00.4-.2v-3.25a.25.25 0 00-.25-.25h-3.5a.25.25 0 00-.25.25z\" fill-rule=\"evenodd\"></path>\n",
       " </svg>\n",
       " <span class=\"text-normal\" data-view-component=\"true\">\n",
       "         modelscope /\n",
       " </span>\n",
       "       modelscope\n",
       " </a> </h1>,\n",
       " <h1 class=\"h3 lh-condensed\">\n",
       " <a data-hydro-click='{\"event_type\":\"explore.click\",\"payload\":{\"click_context\":\"TRENDING_REPOSITORIES_PAGE\",\"click_target\":\"REPOSITORY\",\"click_visual_representation\":\"REPOSITORY_NAME_HEADING\",\"actor_id\":null,\"record_id\":404820795,\"originating_url\":\"https://github.com/trending/python?since=daily\",\"user_id\":null}}' data-hydro-click-hmac=\"b3a9782d2bc836f2c53b89594b503d88bb131f90d5936ead280cef6da15fa52e\" data-view-component=\"true\" href=\"/LetusDevops/LearnPython\">\n",
       " <svg aria-hidden=\"true\" class=\"octicon octicon-repo mr-1 color-fg-muted\" data-view-component=\"true\" height=\"16\" version=\"1.1\" viewbox=\"0 0 16 16\" width=\"16\">\n",
       " <path d=\"M2 2.5A2.5 2.5 0 014.5 0h8.75a.75.75 0 01.75.75v12.5a.75.75 0 01-.75.75h-2.5a.75.75 0 110-1.5h1.75v-2h-8a1 1 0 00-.714 1.7.75.75 0 01-1.072 1.05A2.495 2.495 0 012 11.5v-9zm10.5-1V9h-8c-.356 0-.694.074-1 .208V2.5a1 1 0 011-1h8zM5 12.25v3.25a.25.25 0 00.4.2l1.45-1.087a.25.25 0 01.3 0L8.6 15.7a.25.25 0 00.4-.2v-3.25a.25.25 0 00-.25-.25h-3.5a.25.25 0 00-.25.25z\" fill-rule=\"evenodd\"></path>\n",
       " </svg>\n",
       " <span class=\"text-normal\" data-view-component=\"true\">\n",
       "         LetusDevops /\n",
       " </span>\n",
       "       LearnPython\n",
       " </a> </h1>,\n",
       " <h1 class=\"h3 lh-condensed\">\n",
       " <a data-hydro-click='{\"event_type\":\"explore.click\",\"payload\":{\"click_context\":\"TRENDING_REPOSITORIES_PAGE\",\"click_target\":\"REPOSITORY\",\"click_visual_representation\":\"REPOSITORY_NAME_HEADING\",\"actor_id\":null,\"record_id\":498449014,\"originating_url\":\"https://github.com/trending/python?since=daily\",\"user_id\":null}}' data-hydro-click-hmac=\"c89ac73adeb16d166ee0c445ce09f65a4886121967681e0c10543c68b3af0d0a\" data-view-component=\"true\" href=\"/nerfstudio-project/nerfstudio\">\n",
       " <svg aria-hidden=\"true\" class=\"octicon octicon-repo mr-1 color-fg-muted\" data-view-component=\"true\" height=\"16\" version=\"1.1\" viewbox=\"0 0 16 16\" width=\"16\">\n",
       " <path d=\"M2 2.5A2.5 2.5 0 014.5 0h8.75a.75.75 0 01.75.75v12.5a.75.75 0 01-.75.75h-2.5a.75.75 0 110-1.5h1.75v-2h-8a1 1 0 00-.714 1.7.75.75 0 01-1.072 1.05A2.495 2.495 0 012 11.5v-9zm10.5-1V9h-8c-.356 0-.694.074-1 .208V2.5a1 1 0 011-1h8zM5 12.25v3.25a.25.25 0 00.4.2l1.45-1.087a.25.25 0 01.3 0L8.6 15.7a.25.25 0 00.4-.2v-3.25a.25.25 0 00-.25-.25h-3.5a.25.25 0 00-.25.25z\" fill-rule=\"evenodd\"></path>\n",
       " </svg>\n",
       " <span class=\"text-normal\" data-view-component=\"true\">\n",
       "         nerfstudio-project /\n",
       " </span>\n",
       "       nerfstudio\n",
       " </a> </h1>,\n",
       " <h1 class=\"h3 lh-condensed\">\n",
       " <a data-hydro-click='{\"event_type\":\"explore.click\",\"payload\":{\"click_context\":\"TRENDING_REPOSITORIES_PAGE\",\"click_target\":\"REPOSITORY\",\"click_visual_representation\":\"REPOSITORY_NAME_HEADING\",\"actor_id\":null,\"record_id\":406256303,\"originating_url\":\"https://github.com/trending/python?since=daily\",\"user_id\":null}}' data-hydro-click-hmac=\"7ca9fc751a41c719373928b601e278d2bfb4fb5b92d2073ebe3101c62e30768b\" data-view-component=\"true\" href=\"/idanya/algo-trader\">\n",
       " <svg aria-hidden=\"true\" class=\"octicon octicon-repo mr-1 color-fg-muted\" data-view-component=\"true\" height=\"16\" version=\"1.1\" viewbox=\"0 0 16 16\" width=\"16\">\n",
       " <path d=\"M2 2.5A2.5 2.5 0 014.5 0h8.75a.75.75 0 01.75.75v12.5a.75.75 0 01-.75.75h-2.5a.75.75 0 110-1.5h1.75v-2h-8a1 1 0 00-.714 1.7.75.75 0 01-1.072 1.05A2.495 2.495 0 012 11.5v-9zm10.5-1V9h-8c-.356 0-.694.074-1 .208V2.5a1 1 0 011-1h8zM5 12.25v3.25a.25.25 0 00.4.2l1.45-1.087a.25.25 0 01.3 0L8.6 15.7a.25.25 0 00.4-.2v-3.25a.25.25 0 00-.25-.25h-3.5a.25.25 0 00-.25.25z\" fill-rule=\"evenodd\"></path>\n",
       " </svg>\n",
       " <span class=\"text-normal\" data-view-component=\"true\">\n",
       "         idanya /\n",
       " </span>\n",
       "       algo-trader\n",
       " </a> </h1>,\n",
       " <h1 class=\"h3 lh-condensed\">\n",
       " <a data-hydro-click='{\"event_type\":\"explore.click\",\"payload\":{\"click_context\":\"TRENDING_REPOSITORIES_PAGE\",\"click_target\":\"REPOSITORY\",\"click_visual_representation\":\"REPOSITORY_NAME_HEADING\",\"actor_id\":null,\"record_id\":42625970,\"originating_url\":\"https://github.com/trending/python?since=daily\",\"user_id\":null}}' data-hydro-click-hmac=\"427030b1733dba13410b0193db581501ccfa1b41432433752e52e23cbfc1cda1\" data-view-component=\"true\" href=\"/heartexlabs/labelImg\">\n",
       " <svg aria-hidden=\"true\" class=\"octicon octicon-repo mr-1 color-fg-muted\" data-view-component=\"true\" height=\"16\" version=\"1.1\" viewbox=\"0 0 16 16\" width=\"16\">\n",
       " <path d=\"M2 2.5A2.5 2.5 0 014.5 0h8.75a.75.75 0 01.75.75v12.5a.75.75 0 01-.75.75h-2.5a.75.75 0 110-1.5h1.75v-2h-8a1 1 0 00-.714 1.7.75.75 0 01-1.072 1.05A2.495 2.495 0 012 11.5v-9zm10.5-1V9h-8c-.356 0-.694.074-1 .208V2.5a1 1 0 011-1h8zM5 12.25v3.25a.25.25 0 00.4.2l1.45-1.087a.25.25 0 01.3 0L8.6 15.7a.25.25 0 00.4-.2v-3.25a.25.25 0 00-.25-.25h-3.5a.25.25 0 00-.25.25z\" fill-rule=\"evenodd\"></path>\n",
       " </svg>\n",
       " <span class=\"text-normal\" data-view-component=\"true\">\n",
       "         heartexlabs /\n",
       " </span>\n",
       "       labelImg\n",
       " </a> </h1>,\n",
       " <h1 class=\"h3 lh-condensed\">\n",
       " <a data-hydro-click='{\"event_type\":\"explore.click\",\"payload\":{\"click_context\":\"TRENDING_REPOSITORIES_PAGE\",\"click_target\":\"REPOSITORY\",\"click_visual_representation\":\"REPOSITORY_NAME_HEADING\",\"actor_id\":null,\"record_id\":175129788,\"originating_url\":\"https://github.com/trending/python?since=daily\",\"user_id\":null}}' data-hydro-click-hmac=\"487d6e08f0472ab5c5b2de523ee4d361ccda2f2bd8a39078df40604611f7f1a1\" data-view-component=\"true\" href=\"/microsoft/pyright\">\n",
       " <svg aria-hidden=\"true\" class=\"octicon octicon-repo mr-1 color-fg-muted\" data-view-component=\"true\" height=\"16\" version=\"1.1\" viewbox=\"0 0 16 16\" width=\"16\">\n",
       " <path d=\"M2 2.5A2.5 2.5 0 014.5 0h8.75a.75.75 0 01.75.75v12.5a.75.75 0 01-.75.75h-2.5a.75.75 0 110-1.5h1.75v-2h-8a1 1 0 00-.714 1.7.75.75 0 01-1.072 1.05A2.495 2.495 0 012 11.5v-9zm10.5-1V9h-8c-.356 0-.694.074-1 .208V2.5a1 1 0 011-1h8zM5 12.25v3.25a.25.25 0 00.4.2l1.45-1.087a.25.25 0 01.3 0L8.6 15.7a.25.25 0 00.4-.2v-3.25a.25.25 0 00-.25-.25h-3.5a.25.25 0 00-.25.25z\" fill-rule=\"evenodd\"></path>\n",
       " </svg>\n",
       " <span class=\"text-normal\" data-view-component=\"true\">\n",
       "         microsoft /\n",
       " </span>\n",
       "       pyright\n",
       " </a> </h1>,\n",
       " <h1 class=\"h3 lh-condensed\">\n",
       " <a data-hydro-click='{\"event_type\":\"explore.click\",\"payload\":{\"click_context\":\"TRENDING_REPOSITORIES_PAGE\",\"click_target\":\"REPOSITORY\",\"click_visual_representation\":\"REPOSITORY_NAME_HEADING\",\"actor_id\":null,\"record_id\":4793392,\"originating_url\":\"https://github.com/trending/python?since=daily\",\"user_id\":null}}' data-hydro-click-hmac=\"491f22866dea0b14f7b4378f79a27263926ffed18347e27d15ef4b542edc9263\" data-view-component=\"true\" href=\"/sqlmapproject/sqlmap\">\n",
       " <svg aria-hidden=\"true\" class=\"octicon octicon-repo mr-1 color-fg-muted\" data-view-component=\"true\" height=\"16\" version=\"1.1\" viewbox=\"0 0 16 16\" width=\"16\">\n",
       " <path d=\"M2 2.5A2.5 2.5 0 014.5 0h8.75a.75.75 0 01.75.75v12.5a.75.75 0 01-.75.75h-2.5a.75.75 0 110-1.5h1.75v-2h-8a1 1 0 00-.714 1.7.75.75 0 01-1.072 1.05A2.495 2.495 0 012 11.5v-9zm10.5-1V9h-8c-.356 0-.694.074-1 .208V2.5a1 1 0 011-1h8zM5 12.25v3.25a.25.25 0 00.4.2l1.45-1.087a.25.25 0 01.3 0L8.6 15.7a.25.25 0 00.4-.2v-3.25a.25.25 0 00-.25-.25h-3.5a.25.25 0 00-.25.25z\" fill-rule=\"evenodd\"></path>\n",
       " </svg>\n",
       " <span class=\"text-normal\" data-view-component=\"true\">\n",
       "         sqlmapproject /\n",
       " </span>\n",
       "       sqlmap\n",
       " </a> </h1>,\n",
       " <h1 class=\"h3 lh-condensed\">\n",
       " <a data-hydro-click='{\"event_type\":\"explore.click\",\"payload\":{\"click_context\":\"TRENDING_REPOSITORIES_PAGE\",\"click_target\":\"REPOSITORY\",\"click_visual_representation\":\"REPOSITORY_NAME_HEADING\",\"actor_id\":null,\"record_id\":330914717,\"originating_url\":\"https://github.com/trending/python?since=daily\",\"user_id\":null}}' data-hydro-click-hmac=\"1ec648e02682e57533b83e6c294c64786a04e270b0b980471132b2bc9aedba44\" data-view-component=\"true\" href=\"/unifyai/ivy\">\n",
       " <svg aria-hidden=\"true\" class=\"octicon octicon-repo mr-1 color-fg-muted\" data-view-component=\"true\" height=\"16\" version=\"1.1\" viewbox=\"0 0 16 16\" width=\"16\">\n",
       " <path d=\"M2 2.5A2.5 2.5 0 014.5 0h8.75a.75.75 0 01.75.75v12.5a.75.75 0 01-.75.75h-2.5a.75.75 0 110-1.5h1.75v-2h-8a1 1 0 00-.714 1.7.75.75 0 01-1.072 1.05A2.495 2.495 0 012 11.5v-9zm10.5-1V9h-8c-.356 0-.694.074-1 .208V2.5a1 1 0 011-1h8zM5 12.25v3.25a.25.25 0 00.4.2l1.45-1.087a.25.25 0 01.3 0L8.6 15.7a.25.25 0 00.4-.2v-3.25a.25.25 0 00-.25-.25h-3.5a.25.25 0 00-.25.25z\" fill-rule=\"evenodd\"></path>\n",
       " </svg>\n",
       " <span class=\"text-normal\" data-view-component=\"true\">\n",
       "         unifyai /\n",
       " </span>\n",
       "       ivy\n",
       " </a> </h1>,\n",
       " <h1 class=\"h3 lh-condensed\">\n",
       " <a data-hydro-click='{\"event_type\":\"explore.click\",\"payload\":{\"click_context\":\"TRENDING_REPOSITORIES_PAGE\",\"click_target\":\"REPOSITORY\",\"click_visual_representation\":\"REPOSITORY_NAME_HEADING\",\"actor_id\":null,\"record_id\":147583941,\"originating_url\":\"https://github.com/trending/python?since=daily\",\"user_id\":null}}' data-hydro-click-hmac=\"442176ccdf71b060a5c076551e2048b4ebec55b2deca0cc4f2fbb57b0bfe6221\" data-view-component=\"true\" href=\"/crytic/slither\">\n",
       " <svg aria-hidden=\"true\" class=\"octicon octicon-repo mr-1 color-fg-muted\" data-view-component=\"true\" height=\"16\" version=\"1.1\" viewbox=\"0 0 16 16\" width=\"16\">\n",
       " <path d=\"M2 2.5A2.5 2.5 0 014.5 0h8.75a.75.75 0 01.75.75v12.5a.75.75 0 01-.75.75h-2.5a.75.75 0 110-1.5h1.75v-2h-8a1 1 0 00-.714 1.7.75.75 0 01-1.072 1.05A2.495 2.495 0 012 11.5v-9zm10.5-1V9h-8c-.356 0-.694.074-1 .208V2.5a1 1 0 011-1h8zM5 12.25v3.25a.25.25 0 00.4.2l1.45-1.087a.25.25 0 01.3 0L8.6 15.7a.25.25 0 00.4-.2v-3.25a.25.25 0 00-.25-.25h-3.5a.25.25 0 00-.25.25z\" fill-rule=\"evenodd\"></path>\n",
       " </svg>\n",
       " <span class=\"text-normal\" data-view-component=\"true\">\n",
       "         crytic /\n",
       " </span>\n",
       "       slither\n",
       " </a> </h1>,\n",
       " <h1 class=\"h3 lh-condensed\">\n",
       " <a data-hydro-click='{\"event_type\":\"explore.click\",\"payload\":{\"click_context\":\"TRENDING_REPOSITORIES_PAGE\",\"click_target\":\"REPOSITORY\",\"click_visual_representation\":\"REPOSITORY_NAME_HEADING\",\"actor_id\":null,\"record_id\":264818686,\"originating_url\":\"https://github.com/trending/python?since=daily\",\"user_id\":null}}' data-hydro-click-hmac=\"9346892e7d6ecb5d2923b9f907cceb914bd4ecb574ea8612c936b4938a8c20f7\" data-view-component=\"true\" href=\"/ultralytics/yolov5\">\n",
       " <svg aria-hidden=\"true\" class=\"octicon octicon-repo mr-1 color-fg-muted\" data-view-component=\"true\" height=\"16\" version=\"1.1\" viewbox=\"0 0 16 16\" width=\"16\">\n",
       " <path d=\"M2 2.5A2.5 2.5 0 014.5 0h8.75a.75.75 0 01.75.75v12.5a.75.75 0 01-.75.75h-2.5a.75.75 0 110-1.5h1.75v-2h-8a1 1 0 00-.714 1.7.75.75 0 01-1.072 1.05A2.495 2.495 0 012 11.5v-9zm10.5-1V9h-8c-.356 0-.694.074-1 .208V2.5a1 1 0 011-1h8zM5 12.25v3.25a.25.25 0 00.4.2l1.45-1.087a.25.25 0 01.3 0L8.6 15.7a.25.25 0 00.4-.2v-3.25a.25.25 0 00-.25-.25h-3.5a.25.25 0 00-.25.25z\" fill-rule=\"evenodd\"></path>\n",
       " </svg>\n",
       " <span class=\"text-normal\" data-view-component=\"true\">\n",
       "         ultralytics /\n",
       " </span>\n",
       "       yolov5\n",
       " </a> </h1>,\n",
       " <h1 class=\"h3 lh-condensed\">\n",
       " <a data-hydro-click='{\"event_type\":\"explore.click\",\"payload\":{\"click_context\":\"TRENDING_REPOSITORIES_PAGE\",\"click_target\":\"REPOSITORY\",\"click_visual_representation\":\"REPOSITORY_NAME_HEADING\",\"actor_id\":null,\"record_id\":12888993,\"originating_url\":\"https://github.com/trending/python?since=daily\",\"user_id\":null}}' data-hydro-click-hmac=\"c72d4a9bc77f5e9262e352939f90a91c4b409261e07f73793f902a7b2d57a0ea\" data-view-component=\"true\" href=\"/home-assistant/core\">\n",
       " <svg aria-hidden=\"true\" class=\"octicon octicon-repo mr-1 color-fg-muted\" data-view-component=\"true\" height=\"16\" version=\"1.1\" viewbox=\"0 0 16 16\" width=\"16\">\n",
       " <path d=\"M2 2.5A2.5 2.5 0 014.5 0h8.75a.75.75 0 01.75.75v12.5a.75.75 0 01-.75.75h-2.5a.75.75 0 110-1.5h1.75v-2h-8a1 1 0 00-.714 1.7.75.75 0 01-1.072 1.05A2.495 2.495 0 012 11.5v-9zm10.5-1V9h-8c-.356 0-.694.074-1 .208V2.5a1 1 0 011-1h8zM5 12.25v3.25a.25.25 0 00.4.2l1.45-1.087a.25.25 0 01.3 0L8.6 15.7a.25.25 0 00.4-.2v-3.25a.25.25 0 00-.25-.25h-3.5a.25.25 0 00-.25.25z\" fill-rule=\"evenodd\"></path>\n",
       " </svg>\n",
       " <span class=\"text-normal\" data-view-component=\"true\">\n",
       "         home-assistant /\n",
       " </span>\n",
       "       core\n",
       " </a> </h1>,\n",
       " <h1 class=\"h3 lh-condensed\">\n",
       " <a data-hydro-click='{\"event_type\":\"explore.click\",\"payload\":{\"click_context\":\"TRENDING_REPOSITORIES_PAGE\",\"click_target\":\"REPOSITORY\",\"click_visual_representation\":\"REPOSITORY_NAME_HEADING\",\"actor_id\":null,\"record_id\":543716943,\"originating_url\":\"https://github.com/trending/python?since=daily\",\"user_id\":null}}' data-hydro-click-hmac=\"1f02066505138c52d4f2590e278d5c5f9946df6957ef49004405fc6f3b47a304\" data-view-component=\"true\" href=\"/WeAreMahsaAmini/FreeInternet\">\n",
       " <svg aria-hidden=\"true\" class=\"octicon octicon-repo mr-1 color-fg-muted\" data-view-component=\"true\" height=\"16\" version=\"1.1\" viewbox=\"0 0 16 16\" width=\"16\">\n",
       " <path d=\"M2 2.5A2.5 2.5 0 014.5 0h8.75a.75.75 0 01.75.75v12.5a.75.75 0 01-.75.75h-2.5a.75.75 0 110-1.5h1.75v-2h-8a1 1 0 00-.714 1.7.75.75 0 01-1.072 1.05A2.495 2.495 0 012 11.5v-9zm10.5-1V9h-8c-.356 0-.694.074-1 .208V2.5a1 1 0 011-1h8zM5 12.25v3.25a.25.25 0 00.4.2l1.45-1.087a.25.25 0 01.3 0L8.6 15.7a.25.25 0 00.4-.2v-3.25a.25.25 0 00-.25-.25h-3.5a.25.25 0 00-.25.25z\" fill-rule=\"evenodd\"></path>\n",
       " </svg>\n",
       " <span class=\"text-normal\" data-view-component=\"true\">\n",
       "         WeAreMahsaAmini /\n",
       " </span>\n",
       "       FreeInternet\n",
       " </a> </h1>,\n",
       " <h1 class=\"h3 lh-condensed\">\n",
       " <a data-hydro-click='{\"event_type\":\"explore.click\",\"payload\":{\"click_context\":\"TRENDING_REPOSITORIES_PAGE\",\"click_target\":\"REPOSITORY\",\"click_visual_representation\":\"REPOSITORY_NAME_HEADING\",\"actor_id\":null,\"record_id\":355559187,\"originating_url\":\"https://github.com/trending/python?since=daily\",\"user_id\":null}}' data-hydro-click-hmac=\"5dbce90bd94e6129675f60ed851c233140175816406edd4789e062cc62ca5c81\" data-view-component=\"true\" href=\"/open-mmlab/mmocr\">\n",
       " <svg aria-hidden=\"true\" class=\"octicon octicon-repo mr-1 color-fg-muted\" data-view-component=\"true\" height=\"16\" version=\"1.1\" viewbox=\"0 0 16 16\" width=\"16\">\n",
       " <path d=\"M2 2.5A2.5 2.5 0 014.5 0h8.75a.75.75 0 01.75.75v12.5a.75.75 0 01-.75.75h-2.5a.75.75 0 110-1.5h1.75v-2h-8a1 1 0 00-.714 1.7.75.75 0 01-1.072 1.05A2.495 2.495 0 012 11.5v-9zm10.5-1V9h-8c-.356 0-.694.074-1 .208V2.5a1 1 0 011-1h8zM5 12.25v3.25a.25.25 0 00.4.2l1.45-1.087a.25.25 0 01.3 0L8.6 15.7a.25.25 0 00.4-.2v-3.25a.25.25 0 00-.25-.25h-3.5a.25.25 0 00-.25.25z\" fill-rule=\"evenodd\"></path>\n",
       " </svg>\n",
       " <span class=\"text-normal\" data-view-component=\"true\">\n",
       "         open-mmlab /\n",
       " </span>\n",
       "       mmocr\n",
       " </a> </h1>,\n",
       " <h1 class=\"h3 lh-condensed\">\n",
       " <a data-hydro-click='{\"event_type\":\"explore.click\",\"payload\":{\"click_context\":\"TRENDING_REPOSITORIES_PAGE\",\"click_target\":\"REPOSITORY\",\"click_visual_representation\":\"REPOSITORY_NAME_HEADING\",\"actor_id\":null,\"record_id\":178626720,\"originating_url\":\"https://github.com/trending/python?since=daily\",\"user_id\":null}}' data-hydro-click-hmac=\"3b16a08c10d6181bab7a8f6cc86a000d77ebba16e522b4479466f62e76859806\" data-view-component=\"true\" href=\"/Lightning-AI/lightning\">\n",
       " <svg aria-hidden=\"true\" class=\"octicon octicon-repo mr-1 color-fg-muted\" data-view-component=\"true\" height=\"16\" version=\"1.1\" viewbox=\"0 0 16 16\" width=\"16\">\n",
       " <path d=\"M2 2.5A2.5 2.5 0 014.5 0h8.75a.75.75 0 01.75.75v12.5a.75.75 0 01-.75.75h-2.5a.75.75 0 110-1.5h1.75v-2h-8a1 1 0 00-.714 1.7.75.75 0 01-1.072 1.05A2.495 2.495 0 012 11.5v-9zm10.5-1V9h-8c-.356 0-.694.074-1 .208V2.5a1 1 0 011-1h8zM5 12.25v3.25a.25.25 0 00.4.2l1.45-1.087a.25.25 0 01.3 0L8.6 15.7a.25.25 0 00.4-.2v-3.25a.25.25 0 00-.25-.25h-3.5a.25.25 0 00-.25.25z\" fill-rule=\"evenodd\"></path>\n",
       " </svg>\n",
       " <span class=\"text-normal\" data-view-component=\"true\">\n",
       "         Lightning-AI /\n",
       " </span>\n",
       "       lightning\n",
       " </a> </h1>,\n",
       " <h1 class=\"h3 lh-condensed\">\n",
       " <a data-hydro-click='{\"event_type\":\"explore.click\",\"payload\":{\"click_context\":\"TRENDING_REPOSITORIES_PAGE\",\"click_target\":\"REPOSITORY\",\"click_visual_representation\":\"REPOSITORY_NAME_HEADING\",\"actor_id\":null,\"record_id\":60525392,\"originating_url\":\"https://github.com/trending/python?since=daily\",\"user_id\":null}}' data-hydro-click-hmac=\"31500584b9cd3216ffd3b75d60934cba1d5931542d9d22ed252ae62b56b464de\" data-view-component=\"true\" href=\"/demisto/content\">\n",
       " <svg aria-hidden=\"true\" class=\"octicon octicon-repo mr-1 color-fg-muted\" data-view-component=\"true\" height=\"16\" version=\"1.1\" viewbox=\"0 0 16 16\" width=\"16\">\n",
       " <path d=\"M2 2.5A2.5 2.5 0 014.5 0h8.75a.75.75 0 01.75.75v12.5a.75.75 0 01-.75.75h-2.5a.75.75 0 110-1.5h1.75v-2h-8a1 1 0 00-.714 1.7.75.75 0 01-1.072 1.05A2.495 2.495 0 012 11.5v-9zm10.5-1V9h-8c-.356 0-.694.074-1 .208V2.5a1 1 0 011-1h8zM5 12.25v3.25a.25.25 0 00.4.2l1.45-1.087a.25.25 0 01.3 0L8.6 15.7a.25.25 0 00.4-.2v-3.25a.25.25 0 00-.25-.25h-3.5a.25.25 0 00-.25.25z\" fill-rule=\"evenodd\"></path>\n",
       " </svg>\n",
       " <span class=\"text-normal\" data-view-component=\"true\">\n",
       "         demisto /\n",
       " </span>\n",
       "       content\n",
       " </a> </h1>]"
      ]
     },
     "execution_count": 115,
     "metadata": {},
     "output_type": "execute_result"
    }
   ],
   "source": [
    "soup.find_all('h1', class_='h3 lh-condensed')"
   ]
  },
  {
   "cell_type": "code",
   "execution_count": 154,
   "metadata": {
    "scrolled": true
   },
   "outputs": [
    {
     "data": {
      "text/plain": [
       "['bregman-arie/devops-exercises',\n",
       " 'public-apis/public-apis',\n",
       " 'geohot/tinygrad',\n",
       " 'mlflow/mlflow',\n",
       " 'PaddlePaddle/PaddleDetection',\n",
       " 'google/jax',\n",
       " 'iterativv/NostalgiaForInfinity',\n",
       " 'netbox-community/netbox',\n",
       " 'tiangolo/typer',\n",
       " 'streamlit/streamlit',\n",
       " 'modelscope/modelscope',\n",
       " 'LetusDevops/LearnPython',\n",
       " 'nerfstudio-project/nerfstudio',\n",
       " 'idanya/algo-trader',\n",
       " 'heartexlabs/labelImg',\n",
       " 'microsoft/pyright',\n",
       " 'sqlmapproject/sqlmap',\n",
       " 'unifyai/ivy',\n",
       " 'crytic/slither',\n",
       " 'ultralytics/yolov5',\n",
       " 'home-assistant/core',\n",
       " 'WeAreMahsaAmini/FreeInternet',\n",
       " 'open-mmlab/mmocr',\n",
       " 'Lightning-AI/lightning',\n",
       " 'demisto/content']"
      ]
     },
     "execution_count": 154,
     "metadata": {},
     "output_type": "execute_result"
    }
   ],
   "source": [
    "#your code\n",
    "nombres=[]\n",
    "for e in soup.find_all('h1', class_='h3 lh-condensed'):\n",
    "    nombres.append(e.text.strip().replace('/','').replace('\\n','').replace('       ','/'))\n",
    "nombres\n"
   ]
  },
  {
   "cell_type": "markdown",
   "metadata": {},
   "source": [
    "#### Display all the image links from Walt Disney wikipedia page"
   ]
  },
  {
   "cell_type": "code",
   "execution_count": 156,
   "metadata": {},
   "outputs": [
    {
     "data": {
      "text/plain": [
       "<title>Walt Disney - Wikipedia</title>"
      ]
     },
     "execution_count": 156,
     "metadata": {},
     "output_type": "execute_result"
    }
   ],
   "source": [
    "# This is the url you will scrape in this exercise\n",
    "url = 'https://en.wikipedia.org/wiki/Walt_Disney'\n",
    "html=req.get(url).text\n",
    "html[:20]\n",
    "soup=bs(html, 'html.parser')\n",
    "soup.title #Dejo solo el título para evitar scroll infinito."
   ]
  },
  {
   "cell_type": "code",
   "execution_count": 190,
   "metadata": {},
   "outputs": [
    {
     "data": {
      "text/plain": [
       "[<img alt=\"Featured article\" data-file-height=\"438\" data-file-width=\"462\" decoding=\"async\" height=\"19\" src=\"//upload.wikimedia.org/wikipedia/en/thumb/e/e7/Cscr-featured.svg/20px-Cscr-featured.svg.png\" srcset=\"//upload.wikimedia.org/wikipedia/en/thumb/e/e7/Cscr-featured.svg/30px-Cscr-featured.svg.png 1.5x, //upload.wikimedia.org/wikipedia/en/thumb/e/e7/Cscr-featured.svg/40px-Cscr-featured.svg.png 2x\" width=\"20\"/>,\n",
       " <img alt=\"Extended-protected article\" data-file-height=\"512\" data-file-width=\"512\" decoding=\"async\" height=\"20\" src=\"//upload.wikimedia.org/wikipedia/en/thumb/8/8c/Extended-protection-shackle.svg/20px-Extended-protection-shackle.svg.png\" srcset=\"//upload.wikimedia.org/wikipedia/en/thumb/8/8c/Extended-protection-shackle.svg/30px-Extended-protection-shackle.svg.png 1.5x, //upload.wikimedia.org/wikipedia/en/thumb/8/8c/Extended-protection-shackle.svg/40px-Extended-protection-shackle.svg.png 2x\" width=\"20\"/>,\n",
       " <img alt=\"Walt Disney 1946.JPG\" data-file-height=\"675\" data-file-width=\"450\" decoding=\"async\" height=\"330\" src=\"//upload.wikimedia.org/wikipedia/commons/thumb/d/df/Walt_Disney_1946.JPG/220px-Walt_Disney_1946.JPG\" srcset=\"//upload.wikimedia.org/wikipedia/commons/thumb/d/df/Walt_Disney_1946.JPG/330px-Walt_Disney_1946.JPG 1.5x, //upload.wikimedia.org/wikipedia/commons/thumb/d/df/Walt_Disney_1946.JPG/440px-Walt_Disney_1946.JPG 2x\" width=\"220\"/>,\n",
       " <img alt=\"Walt Disney 1942 signature.svg\" data-file-height=\"218\" data-file-width=\"585\" decoding=\"async\" height=\"56\" src=\"//upload.wikimedia.org/wikipedia/commons/thumb/8/87/Walt_Disney_1942_signature.svg/150px-Walt_Disney_1942_signature.svg.png\" srcset=\"//upload.wikimedia.org/wikipedia/commons/thumb/8/87/Walt_Disney_1942_signature.svg/225px-Walt_Disney_1942_signature.svg.png 1.5x, //upload.wikimedia.org/wikipedia/commons/thumb/8/87/Walt_Disney_1942_signature.svg/300px-Walt_Disney_1942_signature.svg.png 2x\" width=\"150\"/>,\n",
       " <img alt=\"Pale yellow wooden house with brown trim surrounded by white picket fence\" class=\"thumbimage\" data-file-height=\"1080\" data-file-width=\"1440\" decoding=\"async\" height=\"165\" src=\"//upload.wikimedia.org/wikipedia/commons/thumb/3/3a/Walt_Disney_Birthplace_Exterior_Hermosa_Chicago_Illinois.jpg/220px-Walt_Disney_Birthplace_Exterior_Hermosa_Chicago_Illinois.jpg\" srcset=\"//upload.wikimedia.org/wikipedia/commons/thumb/3/3a/Walt_Disney_Birthplace_Exterior_Hermosa_Chicago_Illinois.jpg/330px-Walt_Disney_Birthplace_Exterior_Hermosa_Chicago_Illinois.jpg 1.5x, //upload.wikimedia.org/wikipedia/commons/thumb/3/3a/Walt_Disney_Birthplace_Exterior_Hermosa_Chicago_Illinois.jpg/440px-Walt_Disney_Birthplace_Exterior_Hermosa_Chicago_Illinois.jpg 2x\" width=\"220\"/>,\n",
       " <img alt=\"\" class=\"thumbimage\" data-file-height=\"1086\" data-file-width=\"1576\" decoding=\"async\" height=\"152\" src=\"//upload.wikimedia.org/wikipedia/commons/thumb/c/c4/Walt_Disney_envelope_ca._1921.jpg/220px-Walt_Disney_envelope_ca._1921.jpg\" srcset=\"//upload.wikimedia.org/wikipedia/commons/thumb/c/c4/Walt_Disney_envelope_ca._1921.jpg/330px-Walt_Disney_envelope_ca._1921.jpg 1.5x, //upload.wikimedia.org/wikipedia/commons/thumb/c/c4/Walt_Disney_envelope_ca._1921.jpg/440px-Walt_Disney_envelope_ca._1921.jpg 2x\" width=\"220\"/>,\n",
       " <img alt=\"A cartoon rabbit is driving a tramcar; other cartoon rabbits are in, under, on and around the car.\" class=\"thumbimage\" data-file-height=\"1600\" data-file-width=\"1202\" decoding=\"async\" height=\"226\" src=\"//upload.wikimedia.org/wikipedia/commons/thumb/0/0d/Trolley_Troubles_poster.jpg/170px-Trolley_Troubles_poster.jpg\" srcset=\"//upload.wikimedia.org/wikipedia/commons/thumb/0/0d/Trolley_Troubles_poster.jpg/255px-Trolley_Troubles_poster.jpg 1.5x, //upload.wikimedia.org/wikipedia/commons/thumb/0/0d/Trolley_Troubles_poster.jpg/340px-Trolley_Troubles_poster.jpg 2x\" width=\"170\"/>,\n",
       " <img alt=\"A cartoon mouse is operating a ship's steering wheel\" class=\"thumbimage\" data-file-height=\"267\" data-file-width=\"373\" decoding=\"async\" height=\"122\" src=\"//upload.wikimedia.org/wikipedia/en/thumb/4/4e/Steamboat-willie.jpg/170px-Steamboat-willie.jpg\" srcset=\"//upload.wikimedia.org/wikipedia/en/thumb/4/4e/Steamboat-willie.jpg/255px-Steamboat-willie.jpg 1.5x, //upload.wikimedia.org/wikipedia/en/thumb/4/4e/Steamboat-willie.jpg/340px-Steamboat-willie.jpg 2x\" width=\"170\"/>,\n",
       " <img alt=\"\" class=\"thumbimage\" data-file-height=\"4683\" data-file-width=\"6357\" decoding=\"async\" height=\"125\" src=\"//upload.wikimedia.org/wikipedia/commons/thumb/5/57/Walt_Disney_1935.jpg/170px-Walt_Disney_1935.jpg\" srcset=\"//upload.wikimedia.org/wikipedia/commons/thumb/5/57/Walt_Disney_1935.jpg/255px-Walt_Disney_1935.jpg 1.5x, //upload.wikimedia.org/wikipedia/commons/thumb/5/57/Walt_Disney_1935.jpg/340px-Walt_Disney_1935.jpg 2x\" width=\"170\"/>,\n",
       " <img alt=\"Walt Disney sits in front of a set of models of the seven dwarfs\" class=\"thumbimage\" data-file-height=\"388\" data-file-width=\"500\" decoding=\"async\" height=\"171\" src=\"//upload.wikimedia.org/wikipedia/commons/thumb/c/cd/Walt_Disney_Snow_white_1937_trailer_screenshot_%2813%29.jpg/220px-Walt_Disney_Snow_white_1937_trailer_screenshot_%2813%29.jpg\" srcset=\"//upload.wikimedia.org/wikipedia/commons/thumb/c/cd/Walt_Disney_Snow_white_1937_trailer_screenshot_%2813%29.jpg/330px-Walt_Disney_Snow_white_1937_trailer_screenshot_%2813%29.jpg 1.5x, //upload.wikimedia.org/wikipedia/commons/thumb/c/cd/Walt_Disney_Snow_white_1937_trailer_screenshot_%2813%29.jpg/440px-Walt_Disney_Snow_white_1937_trailer_screenshot_%2813%29.jpg 2x\" width=\"220\"/>,\n",
       " <img alt=\"\" class=\"thumbimage\" data-file-height=\"770\" data-file-width=\"600\" decoding=\"async\" height=\"218\" src=\"//upload.wikimedia.org/wikipedia/commons/thumb/1/15/Disney_drawing_goofy.jpg/170px-Disney_drawing_goofy.jpg\" srcset=\"//upload.wikimedia.org/wikipedia/commons/thumb/1/15/Disney_drawing_goofy.jpg/255px-Disney_drawing_goofy.jpg 1.5x, //upload.wikimedia.org/wikipedia/commons/thumb/1/15/Disney_drawing_goofy.jpg/340px-Disney_drawing_goofy.jpg 2x\" width=\"170\"/>,\n",
       " <img alt=\"\" class=\"thumbimage\" data-file-height=\"2417\" data-file-width=\"2723\" decoding=\"async\" height=\"195\" src=\"//upload.wikimedia.org/wikipedia/commons/thumb/8/8c/WaltDisneyplansDisneylandDec1954.jpg/220px-WaltDisneyplansDisneylandDec1954.jpg\" srcset=\"//upload.wikimedia.org/wikipedia/commons/thumb/8/8c/WaltDisneyplansDisneylandDec1954.jpg/330px-WaltDisneyplansDisneylandDec1954.jpg 1.5x, //upload.wikimedia.org/wikipedia/commons/thumb/8/8c/WaltDisneyplansDisneylandDec1954.jpg/440px-WaltDisneyplansDisneylandDec1954.jpg 2x\" width=\"220\"/>,\n",
       " <img alt=\"\" class=\"thumbimage\" data-file-height=\"902\" data-file-width=\"667\" decoding=\"async\" height=\"230\" src=\"//upload.wikimedia.org/wikipedia/commons/thumb/f/ff/Walt_disney_portrait_right.jpg/170px-Walt_disney_portrait_right.jpg\" srcset=\"//upload.wikimedia.org/wikipedia/commons/thumb/f/ff/Walt_disney_portrait_right.jpg/255px-Walt_disney_portrait_right.jpg 1.5x, //upload.wikimedia.org/wikipedia/commons/thumb/f/ff/Walt_disney_portrait_right.jpg/340px-Walt_disney_portrait_right.jpg 2x\" width=\"170\"/>,\n",
       " <img alt=\"A gravestone inscribed 'Walter Elias Disney', 'Lillian Bounds Disney', 'Robert B. Brown', Sharon Disney Brown Lund ashes scattered in paradise'\" class=\"thumbimage\" data-file-height=\"1700\" data-file-width=\"1400\" decoding=\"async\" height=\"206\" src=\"//upload.wikimedia.org/wikipedia/commons/thumb/1/1a/Walt_Disney_Grave.JPG/170px-Walt_Disney_Grave.JPG\" srcset=\"//upload.wikimedia.org/wikipedia/commons/thumb/1/1a/Walt_Disney_Grave.JPG/255px-Walt_Disney_Grave.JPG 1.5x, //upload.wikimedia.org/wikipedia/commons/thumb/1/1a/Walt_Disney_Grave.JPG/340px-Walt_Disney_Grave.JPG 2x\" width=\"170\"/>,\n",
       " <img alt=\"\" class=\"thumbimage\" data-file-height=\"275\" data-file-width=\"220\" decoding=\"async\" height=\"213\" src=\"//upload.wikimedia.org/wikipedia/commons/thumb/2/2d/Roy_O._Disney_with_Company_at_Press_Conference.jpg/170px-Roy_O._Disney_with_Company_at_Press_Conference.jpg\" srcset=\"//upload.wikimedia.org/wikipedia/commons/2/2d/Roy_O._Disney_with_Company_at_Press_Conference.jpg 1.5x\" width=\"170\"/>,\n",
       " <img alt=\"\" class=\"thumbimage\" data-file-height=\"2493\" data-file-width=\"3247\" decoding=\"async\" height=\"169\" src=\"//upload.wikimedia.org/wikipedia/commons/thumb/1/13/DisneySchiphol1951.jpg/220px-DisneySchiphol1951.jpg\" srcset=\"//upload.wikimedia.org/wikipedia/commons/thumb/1/13/DisneySchiphol1951.jpg/330px-DisneySchiphol1951.jpg 1.5x, //upload.wikimedia.org/wikipedia/commons/thumb/1/13/DisneySchiphol1951.jpg/440px-DisneySchiphol1951.jpg 2x\" width=\"220\"/>,\n",
       " <img alt=\"A portrait of Disney with cartoon representations of different nationalities on a 6 cent US stamp\" class=\"thumbimage\" data-file-height=\"736\" data-file-width=\"483\" decoding=\"async\" height=\"259\" src=\"//upload.wikimedia.org/wikipedia/commons/thumb/6/6c/Disney1968.jpg/170px-Disney1968.jpg\" srcset=\"//upload.wikimedia.org/wikipedia/commons/thumb/6/6c/Disney1968.jpg/255px-Disney1968.jpg 1.5x, //upload.wikimedia.org/wikipedia/commons/thumb/6/6c/Disney1968.jpg/340px-Disney1968.jpg 2x\" width=\"170\"/>,\n",
       " <img alt=\"A black and white photograph of Walt Disney standing, holding an Academy Award.\" class=\"thumbimage\" data-file-height=\"1214\" data-file-width=\"841\" decoding=\"async\" height=\"245\" src=\"//upload.wikimedia.org/wikipedia/commons/thumb/b/b0/Disney_Oscar_1953_%28cropped%29.jpg/170px-Disney_Oscar_1953_%28cropped%29.jpg\" srcset=\"//upload.wikimedia.org/wikipedia/commons/thumb/b/b0/Disney_Oscar_1953_%28cropped%29.jpg/255px-Disney_Oscar_1953_%28cropped%29.jpg 1.5x, //upload.wikimedia.org/wikipedia/commons/thumb/b/b0/Disney_Oscar_1953_%28cropped%29.jpg/340px-Disney_Oscar_1953_%28cropped%29.jpg 2x\" width=\"170\"/>,\n",
       " <img alt=\"\" class=\"noviewer\" data-file-height=\"1376\" data-file-width=\"1024\" decoding=\"async\" height=\"40\" src=\"//upload.wikimedia.org/wikipedia/en/thumb/4/4a/Commons-logo.svg/30px-Commons-logo.svg.png\" srcset=\"//upload.wikimedia.org/wikipedia/en/thumb/4/4a/Commons-logo.svg/45px-Commons-logo.svg.png 1.5x, //upload.wikimedia.org/wikipedia/en/thumb/4/4a/Commons-logo.svg/59px-Commons-logo.svg.png 2x\" width=\"30\"/>,\n",
       " <img alt=\"\" class=\"noviewer\" data-file-height=\"430\" data-file-width=\"410\" decoding=\"async\" height=\"40\" src=\"//upload.wikimedia.org/wikipedia/commons/thumb/4/4c/Wikisource-logo.svg/38px-Wikisource-logo.svg.png\" srcset=\"//upload.wikimedia.org/wikipedia/commons/thumb/4/4c/Wikisource-logo.svg/57px-Wikisource-logo.svg.png 1.5x, //upload.wikimedia.org/wikipedia/commons/thumb/4/4c/Wikisource-logo.svg/76px-Wikisource-logo.svg.png 2x\" width=\"38\"/>,\n",
       " <img alt=\"\" class=\"noviewer\" data-file-height=\"355\" data-file-width=\"300\" decoding=\"async\" height=\"40\" src=\"//upload.wikimedia.org/wikipedia/commons/thumb/f/fa/Wikiquote-logo.svg/34px-Wikiquote-logo.svg.png\" srcset=\"//upload.wikimedia.org/wikipedia/commons/thumb/f/fa/Wikiquote-logo.svg/51px-Wikiquote-logo.svg.png 1.5x, //upload.wikimedia.org/wikipedia/commons/thumb/f/fa/Wikiquote-logo.svg/68px-Wikiquote-logo.svg.png 2x\" width=\"34\"/>,\n",
       " <img alt=\"Edit this at Wikidata\" class=\"noprint\" data-file-height=\"20\" data-file-width=\"20\" decoding=\"async\" height=\"10\" src=\"//upload.wikimedia.org/wikipedia/en/thumb/8/8a/OOjs_UI_icon_edit-ltr-progressive.svg/10px-OOjs_UI_icon_edit-ltr-progressive.svg.png\" srcset=\"//upload.wikimedia.org/wikipedia/en/thumb/8/8a/OOjs_UI_icon_edit-ltr-progressive.svg/15px-OOjs_UI_icon_edit-ltr-progressive.svg.png 1.5x, //upload.wikimedia.org/wikipedia/en/thumb/8/8a/OOjs_UI_icon_edit-ltr-progressive.svg/20px-OOjs_UI_icon_edit-ltr-progressive.svg.png 2x\" style=\"vertical-align: text-top\" width=\"10\"/>,\n",
       " <img alt=\"Edit this at Wikidata\" class=\"noprint\" data-file-height=\"20\" data-file-width=\"20\" decoding=\"async\" height=\"10\" src=\"//upload.wikimedia.org/wikipedia/en/thumb/8/8a/OOjs_UI_icon_edit-ltr-progressive.svg/10px-OOjs_UI_icon_edit-ltr-progressive.svg.png\" srcset=\"//upload.wikimedia.org/wikipedia/en/thumb/8/8a/OOjs_UI_icon_edit-ltr-progressive.svg/15px-OOjs_UI_icon_edit-ltr-progressive.svg.png 1.5x, //upload.wikimedia.org/wikipedia/en/thumb/8/8a/OOjs_UI_icon_edit-ltr-progressive.svg/20px-OOjs_UI_icon_edit-ltr-progressive.svg.png 2x\" style=\"vertical-align: text-top\" width=\"10\"/>,\n",
       " <img alt=\"Disneyland Resort logo.svg\" data-file-height=\"66\" data-file-width=\"267\" decoding=\"async\" height=\"33\" src=\"//upload.wikimedia.org/wikipedia/commons/thumb/e/e3/Disneyland_Resort_logo.svg/135px-Disneyland_Resort_logo.svg.png\" srcset=\"//upload.wikimedia.org/wikipedia/commons/thumb/e/e3/Disneyland_Resort_logo.svg/203px-Disneyland_Resort_logo.svg.png 1.5x, //upload.wikimedia.org/wikipedia/commons/thumb/e/e3/Disneyland_Resort_logo.svg/270px-Disneyland_Resort_logo.svg.png 2x\" width=\"135\"/>,\n",
       " <img alt=\"icon\" data-file-height=\"28\" data-file-width=\"30\" decoding=\"async\" height=\"19\" src=\"//upload.wikimedia.org/wikipedia/commons/thumb/d/da/Animation_disc.svg/20px-Animation_disc.svg.png\" srcset=\"//upload.wikimedia.org/wikipedia/commons/thumb/d/da/Animation_disc.svg/31px-Animation_disc.svg.png 1.5x, //upload.wikimedia.org/wikipedia/commons/thumb/d/da/Animation_disc.svg/41px-Animation_disc.svg.png 2x\" width=\"20\"/>,\n",
       " <img alt=\"\" data-file-height=\"1944\" data-file-width=\"1911\" decoding=\"async\" height=\"19\" src=\"//upload.wikimedia.org/wikipedia/en/thumb/6/69/P_vip.svg/19px-P_vip.svg.png\" srcset=\"//upload.wikimedia.org/wikipedia/en/thumb/6/69/P_vip.svg/28px-P_vip.svg.png 1.5x, //upload.wikimedia.org/wikipedia/en/thumb/6/69/P_vip.svg/37px-P_vip.svg.png 2x\" width=\"19\"/>,\n",
       " <img alt=\"icon\" data-file-height=\"1545\" data-file-width=\"1262\" decoding=\"async\" height=\"19\" src=\"//upload.wikimedia.org/wikipedia/commons/thumb/1/1a/Magic_Kingdom_castle.jpg/15px-Magic_Kingdom_castle.jpg\" srcset=\"//upload.wikimedia.org/wikipedia/commons/thumb/1/1a/Magic_Kingdom_castle.jpg/24px-Magic_Kingdom_castle.jpg 1.5x, //upload.wikimedia.org/wikipedia/commons/thumb/1/1a/Magic_Kingdom_castle.jpg/31px-Magic_Kingdom_castle.jpg 2x\" width=\"15\"/>,\n",
       " <img alt=\"\" data-file-height=\"48\" data-file-width=\"48\" decoding=\"async\" height=\"19\" src=\"//upload.wikimedia.org/wikipedia/en/thumb/e/e7/Video-x-generic.svg/19px-Video-x-generic.svg.png\" srcset=\"//upload.wikimedia.org/wikipedia/en/thumb/e/e7/Video-x-generic.svg/29px-Video-x-generic.svg.png 1.5x, //upload.wikimedia.org/wikipedia/en/thumb/e/e7/Video-x-generic.svg/38px-Video-x-generic.svg.png 2x\" width=\"19\"/>,\n",
       " <img alt=\"flag\" class=\"thumbborder\" data-file-height=\"913\" data-file-width=\"1522\" decoding=\"async\" height=\"13\" src=\"//upload.wikimedia.org/wikipedia/commons/thumb/a/a3/Flag_of_Los_Angeles_County%2C_California.svg/21px-Flag_of_Los_Angeles_County%2C_California.svg.png\" srcset=\"//upload.wikimedia.org/wikipedia/commons/thumb/a/a3/Flag_of_Los_Angeles_County%2C_California.svg/32px-Flag_of_Los_Angeles_County%2C_California.svg.png 1.5x, //upload.wikimedia.org/wikipedia/commons/thumb/a/a3/Flag_of_Los_Angeles_County%2C_California.svg/42px-Flag_of_Los_Angeles_County%2C_California.svg.png 2x\" width=\"21\"/>,\n",
       " <img alt=\"icon\" data-file-height=\"92\" data-file-width=\"138\" decoding=\"async\" height=\"14\" src=\"//upload.wikimedia.org/wikipedia/commons/thumb/8/8c/Blank_television_set.svg/21px-Blank_television_set.svg.png\" srcset=\"//upload.wikimedia.org/wikipedia/commons/thumb/8/8c/Blank_television_set.svg/32px-Blank_television_set.svg.png 1.5x, //upload.wikimedia.org/wikipedia/commons/thumb/8/8c/Blank_television_set.svg/42px-Blank_television_set.svg.png 2x\" width=\"21\"/>,\n",
       " <img alt=\"flag\" class=\"thumbborder\" data-file-height=\"650\" data-file-width=\"1235\" decoding=\"async\" height=\"11\" src=\"//upload.wikimedia.org/wikipedia/en/thumb/a/a4/Flag_of_the_United_States.svg/21px-Flag_of_the_United_States.svg.png\" srcset=\"//upload.wikimedia.org/wikipedia/en/thumb/a/a4/Flag_of_the_United_States.svg/32px-Flag_of_the_United_States.svg.png 1.5x, //upload.wikimedia.org/wikipedia/en/thumb/a/a4/Flag_of_the_United_States.svg/42px-Flag_of_the_United_States.svg.png 2x\" width=\"21\"/>,\n",
       " <img alt=\"\" data-file-height=\"1376\" data-file-width=\"1024\" decoding=\"async\" height=\"19\" src=\"//upload.wikimedia.org/wikipedia/en/thumb/4/4a/Commons-logo.svg/14px-Commons-logo.svg.png\" srcset=\"//upload.wikimedia.org/wikipedia/en/thumb/4/4a/Commons-logo.svg/21px-Commons-logo.svg.png 1.5x, //upload.wikimedia.org/wikipedia/en/thumb/4/4a/Commons-logo.svg/28px-Commons-logo.svg.png 2x\" width=\"14\"/>,\n",
       " <img alt=\"\" data-file-height=\"355\" data-file-width=\"300\" decoding=\"async\" height=\"19\" src=\"//upload.wikimedia.org/wikipedia/commons/thumb/f/fa/Wikiquote-logo.svg/16px-Wikiquote-logo.svg.png\" srcset=\"//upload.wikimedia.org/wikipedia/commons/thumb/f/fa/Wikiquote-logo.svg/24px-Wikiquote-logo.svg.png 1.5x, //upload.wikimedia.org/wikipedia/commons/thumb/f/fa/Wikiquote-logo.svg/32px-Wikiquote-logo.svg.png 2x\" width=\"16\"/>,\n",
       " <img alt=\"\" data-file-height=\"430\" data-file-width=\"410\" decoding=\"async\" height=\"19\" src=\"//upload.wikimedia.org/wikipedia/commons/thumb/4/4c/Wikisource-logo.svg/18px-Wikisource-logo.svg.png\" srcset=\"//upload.wikimedia.org/wikipedia/commons/thumb/4/4c/Wikisource-logo.svg/28px-Wikisource-logo.svg.png 1.5x, //upload.wikimedia.org/wikipedia/commons/thumb/4/4c/Wikisource-logo.svg/36px-Wikisource-logo.svg.png 2x\" width=\"18\"/>,\n",
       " <img alt=\"\" data-file-height=\"590\" data-file-width=\"1050\" decoding=\"async\" height=\"12\" src=\"//upload.wikimedia.org/wikipedia/commons/thumb/f/ff/Wikidata-logo.svg/21px-Wikidata-logo.svg.png\" srcset=\"//upload.wikimedia.org/wikipedia/commons/thumb/f/ff/Wikidata-logo.svg/32px-Wikidata-logo.svg.png 1.5x, //upload.wikimedia.org/wikipedia/commons/thumb/f/ff/Wikidata-logo.svg/42px-Wikidata-logo.svg.png 2x\" width=\"21\"/>,\n",
       " <img alt=\"Edit this at Wikidata\" class=\"noprint\" data-file-height=\"20\" data-file-width=\"20\" decoding=\"async\" height=\"10\" src=\"//upload.wikimedia.org/wikipedia/en/thumb/8/8a/OOjs_UI_icon_edit-ltr-progressive.svg/10px-OOjs_UI_icon_edit-ltr-progressive.svg.png\" srcset=\"//upload.wikimedia.org/wikipedia/en/thumb/8/8a/OOjs_UI_icon_edit-ltr-progressive.svg/15px-OOjs_UI_icon_edit-ltr-progressive.svg.png 1.5x, //upload.wikimedia.org/wikipedia/en/thumb/8/8a/OOjs_UI_icon_edit-ltr-progressive.svg/20px-OOjs_UI_icon_edit-ltr-progressive.svg.png 2x\" style=\"vertical-align: text-top\" width=\"10\"/>,\n",
       " <img alt=\"\" height=\"1\" src=\"//en.wikipedia.org/wiki/Special:CentralAutoLogin/start?type=1x1\" style=\"border: none; position: absolute;\" title=\"\" width=\"1\"/>,\n",
       " <img alt=\"Wikimedia Foundation\" height=\"31\" loading=\"lazy\" src=\"/static/images/footer/wikimedia-button.png\" srcset=\"/static/images/footer/wikimedia-button-1.5x.png 1.5x, /static/images/footer/wikimedia-button-2x.png 2x\" width=\"88\"/>,\n",
       " <img alt=\"Powered by MediaWiki\" height=\"31\" loading=\"lazy\" src=\"/static/images/footer/poweredby_mediawiki_88x31.png\" srcset=\"/static/images/footer/poweredby_mediawiki_132x47.png 1.5x, /static/images/footer/poweredby_mediawiki_176x62.png 2x\" width=\"88\"/>]"
      ]
     },
     "execution_count": 190,
     "metadata": {},
     "output_type": "execute_result"
    }
   ],
   "source": [
    "soup.find_all('img')"
   ]
  },
  {
   "cell_type": "code",
   "execution_count": 189,
   "metadata": {
    "scrolled": true
   },
   "outputs": [
    {
     "name": "stdout",
     "output_type": "stream",
     "text": [
      "//upload.wikimedia.org/wikipedia/en/thumb/e/e7/Cscr-featured.svg/20px-Cscr-featured.svg.png\n",
      "//upload.wikimedia.org/wikipedia/en/thumb/8/8c/Extended-protection-shackle.svg/20px-Extended-protection-shackle.svg.png\n",
      "//upload.wikimedia.org/wikipedia/commons/thumb/d/df/Walt_Disney_1946.JPG/220px-Walt_Disney_1946.JPG\n",
      "//upload.wikimedia.org/wikipedia/commons/thumb/8/87/Walt_Disney_1942_signature.svg/150px-Walt_Disney_1942_signature.svg.png\n",
      "//upload.wikimedia.org/wikipedia/commons/thumb/3/3a/Walt_Disney_Birthplace_Exterior_Hermosa_Chicago_Illinois.jpg/220px-Walt_Disney_Birthplace_Exterior_Hermosa_Chicago_Illinois.jpg\n",
      "//upload.wikimedia.org/wikipedia/commons/thumb/c/c4/Walt_Disney_envelope_ca._1921.jpg/220px-Walt_Disney_envelope_ca._1921.jpg\n",
      "//upload.wikimedia.org/wikipedia/commons/thumb/0/0d/Trolley_Troubles_poster.jpg/170px-Trolley_Troubles_poster.jpg\n",
      "//upload.wikimedia.org/wikipedia/en/thumb/4/4e/Steamboat-willie.jpg/170px-Steamboat-willie.jpg\n",
      "//upload.wikimedia.org/wikipedia/commons/thumb/5/57/Walt_Disney_1935.jpg/170px-Walt_Disney_1935.jpg\n",
      "//upload.wikimedia.org/wikipedia/commons/thumb/c/cd/Walt_Disney_Snow_white_1937_trailer_screenshot_%2813%29.jpg/220px-Walt_Disney_Snow_white_1937_trailer_screenshot_%2813%29.jpg\n",
      "//upload.wikimedia.org/wikipedia/commons/thumb/1/15/Disney_drawing_goofy.jpg/170px-Disney_drawing_goofy.jpg\n",
      "//upload.wikimedia.org/wikipedia/commons/thumb/8/8c/WaltDisneyplansDisneylandDec1954.jpg/220px-WaltDisneyplansDisneylandDec1954.jpg\n",
      "//upload.wikimedia.org/wikipedia/commons/thumb/f/ff/Walt_disney_portrait_right.jpg/170px-Walt_disney_portrait_right.jpg\n",
      "//upload.wikimedia.org/wikipedia/commons/thumb/1/1a/Walt_Disney_Grave.JPG/170px-Walt_Disney_Grave.JPG\n",
      "//upload.wikimedia.org/wikipedia/commons/thumb/2/2d/Roy_O._Disney_with_Company_at_Press_Conference.jpg/170px-Roy_O._Disney_with_Company_at_Press_Conference.jpg\n",
      "//upload.wikimedia.org/wikipedia/commons/thumb/1/13/DisneySchiphol1951.jpg/220px-DisneySchiphol1951.jpg\n",
      "//upload.wikimedia.org/wikipedia/commons/thumb/6/6c/Disney1968.jpg/170px-Disney1968.jpg\n",
      "//upload.wikimedia.org/wikipedia/commons/thumb/b/b0/Disney_Oscar_1953_%28cropped%29.jpg/170px-Disney_Oscar_1953_%28cropped%29.jpg\n",
      "//upload.wikimedia.org/wikipedia/en/thumb/4/4a/Commons-logo.svg/30px-Commons-logo.svg.png\n",
      "//upload.wikimedia.org/wikipedia/commons/thumb/4/4c/Wikisource-logo.svg/38px-Wikisource-logo.svg.png\n",
      "//upload.wikimedia.org/wikipedia/commons/thumb/f/fa/Wikiquote-logo.svg/34px-Wikiquote-logo.svg.png\n",
      "//upload.wikimedia.org/wikipedia/en/thumb/8/8a/OOjs_UI_icon_edit-ltr-progressive.svg/10px-OOjs_UI_icon_edit-ltr-progressive.svg.png\n",
      "//upload.wikimedia.org/wikipedia/en/thumb/8/8a/OOjs_UI_icon_edit-ltr-progressive.svg/10px-OOjs_UI_icon_edit-ltr-progressive.svg.png\n",
      "//upload.wikimedia.org/wikipedia/commons/thumb/e/e3/Disneyland_Resort_logo.svg/135px-Disneyland_Resort_logo.svg.png\n",
      "//upload.wikimedia.org/wikipedia/commons/thumb/d/da/Animation_disc.svg/20px-Animation_disc.svg.png\n",
      "//upload.wikimedia.org/wikipedia/en/thumb/6/69/P_vip.svg/19px-P_vip.svg.png\n",
      "//upload.wikimedia.org/wikipedia/commons/thumb/1/1a/Magic_Kingdom_castle.jpg/15px-Magic_Kingdom_castle.jpg\n",
      "//upload.wikimedia.org/wikipedia/en/thumb/e/e7/Video-x-generic.svg/19px-Video-x-generic.svg.png\n",
      "//upload.wikimedia.org/wikipedia/commons/thumb/a/a3/Flag_of_Los_Angeles_County%2C_California.svg/21px-Flag_of_Los_Angeles_County%2C_California.svg.png\n",
      "//upload.wikimedia.org/wikipedia/commons/thumb/8/8c/Blank_television_set.svg/21px-Blank_television_set.svg.png\n",
      "//upload.wikimedia.org/wikipedia/en/thumb/a/a4/Flag_of_the_United_States.svg/21px-Flag_of_the_United_States.svg.png\n",
      "//upload.wikimedia.org/wikipedia/en/thumb/4/4a/Commons-logo.svg/14px-Commons-logo.svg.png\n",
      "//upload.wikimedia.org/wikipedia/commons/thumb/f/fa/Wikiquote-logo.svg/16px-Wikiquote-logo.svg.png\n",
      "//upload.wikimedia.org/wikipedia/commons/thumb/4/4c/Wikisource-logo.svg/18px-Wikisource-logo.svg.png\n",
      "//upload.wikimedia.org/wikipedia/commons/thumb/f/ff/Wikidata-logo.svg/21px-Wikidata-logo.svg.png\n",
      "//upload.wikimedia.org/wikipedia/en/thumb/8/8a/OOjs_UI_icon_edit-ltr-progressive.svg/10px-OOjs_UI_icon_edit-ltr-progressive.svg.png\n",
      "//en.wikipedia.org/wiki/Special:CentralAutoLogin/start?type=1x1\n",
      "/static/images/footer/wikimedia-button.png\n",
      "/static/images/footer/poweredby_mediawiki_88x31.png\n"
     ]
    }
   ],
   "source": [
    "#your code\n",
    "for e in soup.find_all('img'):\n",
    "    print(e.attrs['src'])"
   ]
  },
  {
   "cell_type": "markdown",
   "metadata": {},
   "source": [
    "#### Retrieve an arbitary Wikipedia page of \"Python\" and create a list of links on that page"
   ]
  },
  {
   "cell_type": "code",
   "execution_count": 204,
   "metadata": {},
   "outputs": [
    {
     "data": {
      "text/plain": [
       "<title>Python - Wikipedia</title>"
      ]
     },
     "execution_count": 204,
     "metadata": {},
     "output_type": "execute_result"
    }
   ],
   "source": [
    "# This is the url you will scrape in this exercise\n",
    "url ='https://en.wikipedia.org/wiki/Python'\n",
    "html=req.get(url).text\n",
    "html[:20]\n",
    "soup=bs(html, 'html.parser')\n",
    "soup.title #Dejo solo el título para evitar scroll infinito."
   ]
  },
  {
   "cell_type": "code",
   "execution_count": 221,
   "metadata": {
    "scrolled": true
   },
   "outputs": [
    {
     "name": "stdout",
     "output_type": "stream",
     "text": [
      "/w/load.php?lang=en&modules=ext.uls.interlanguage%7Cext.visualEditor.desktopArticleTarget.noscript%7Cext.wikimediaBadges%7Cskins.vector.styles.legacy%7Cwikibase.client.init&only=styles&skin=vector\n",
      "/w/load.php?lang=en&modules=site.styles&only=styles&skin=vector\n",
      "//upload.wikimedia.org\n",
      "//en.m.wikipedia.org/wiki/Python\n",
      "/w/index.php?title=Python&action=edit\n",
      "/static/apple-touch/wikipedia.png\n",
      "/static/favicon/wikipedia.ico\n",
      "/w/opensearch_desc.php\n",
      "//en.wikipedia.org/w/api.php?action=rsd\n",
      "https://creativecommons.org/licenses/by-sa/3.0/\n",
      "https://en.wikipedia.org/wiki/Python\n",
      "//meta.wikimedia.org\n",
      "//login.wikimedia.org\n"
     ]
    }
   ],
   "source": [
    "#your code\n",
    "for e in soup.find_all('link'):\n",
    "    print(e.attrs['href'])"
   ]
  },
  {
   "cell_type": "markdown",
   "metadata": {},
   "source": [
    "#### Number of Titles that have changed in the United States Code since its last release point "
   ]
  },
  {
   "cell_type": "code",
   "execution_count": 222,
   "metadata": {},
   "outputs": [
    {
     "data": {
      "text/plain": [
       "<title>DOWNLOAD THE UNITED STATES CODE</title>"
      ]
     },
     "execution_count": 222,
     "metadata": {},
     "output_type": "execute_result"
    }
   ],
   "source": [
    "# This is the url you will scrape in this exercise\n",
    "url = 'http://uscode.house.gov/download/download.shtml'\n",
    "html=req.get(url).text\n",
    "html[:20]\n",
    "soup=bs(html, 'html.parser')\n",
    "soup.title #Dejo solo el título para evitar scroll infinito."
   ]
  },
  {
   "cell_type": "code",
   "execution_count": 224,
   "metadata": {},
   "outputs": [
    {
     "name": "stdout",
     "output_type": "stream",
     "text": [
      "Title 17 - Copyrights ٭\n",
      "Title 22 - Foreign Relations and Intercourse\n",
      "Title 38 - Veterans' Benefits ٭\n",
      "Title 40 - Public Buildings, Property, and Works ٭\n",
      "Title 41 - Public Contracts ٭\n",
      "Title 42 - The Public Health and Welfare\n",
      "Title 44 - Public Printing and Documents ٭\n",
      "Title 49 - Transportation ٭\n",
      "Title 54 - National Park Service and Related Programs ٭\n"
     ]
    }
   ],
   "source": [
    "#your code\n",
    "\n",
    "for e in soup.find_all('div', class_='usctitlechanged'):\n",
    "    print(e.text.strip())"
   ]
  },
  {
   "cell_type": "markdown",
   "metadata": {},
   "source": [
    "#### A Python list with the top ten FBI's Most Wanted names "
   ]
  },
  {
   "cell_type": "code",
   "execution_count": 225,
   "metadata": {},
   "outputs": [
    {
     "data": {
      "text/plain": [
       "<title>Ten Most Wanted Fugitives — FBI</title>"
      ]
     },
     "execution_count": 225,
     "metadata": {},
     "output_type": "execute_result"
    }
   ],
   "source": [
    "# This is the url you will scrape in this exercise\n",
    "url = 'https://www.fbi.gov/wanted/topten'\n",
    "html=req.get(url).text\n",
    "html[:20]\n",
    "soup=bs(html, 'html.parser')\n",
    "soup.title #Dejo solo el título para evitar scroll infinito."
   ]
  },
  {
   "cell_type": "code",
   "execution_count": 227,
   "metadata": {},
   "outputs": [
    {
     "name": "stdout",
     "output_type": "stream",
     "text": [
      "OMAR ALEXANDER CARDENAS\n",
      "ALEXIS FLORES\n",
      "JOSE RODOLFO VILLARREAL-HERNANDEZ\n",
      "YULAN ADONAY ARCHAGA CARIAS\n",
      "BHADRESHKUMAR CHETANBHAI PATEL\n",
      "ALEJANDRO ROSALES CASTILLO\n",
      "MICHAEL JAMES PRATT\n",
      "RUJA IGNATOVA\n",
      "ARNOLDO JIMENEZ\n",
      "RAFAEL CARO-QUINTERO\n"
     ]
    }
   ],
   "source": [
    "#your code \n",
    "for e in soup.find_all('h3', class_='title'):\n",
    "    print(e.text.strip())"
   ]
  },
  {
   "cell_type": "markdown",
   "metadata": {},
   "source": [
    "####  20 latest earthquakes info (date, time, latitude, longitude and region name) by the EMSC as a pandas dataframe"
   ]
  },
  {
   "cell_type": "code",
   "execution_count": 228,
   "metadata": {},
   "outputs": [
    {
     "data": {
      "text/plain": [
       "<title>Earthquakes today | Earthquake today | earthquake | earthquakes</title>"
      ]
     },
     "execution_count": 228,
     "metadata": {},
     "output_type": "execute_result"
    }
   ],
   "source": [
    "# This is the url you will scrape in this exercise\n",
    "url = 'https://www.emsc-csem.org/Earthquake/'\n",
    "html=req.get(url).text\n",
    "html[:20]\n",
    "soup=bs(html, 'html.parser')\n",
    "soup.title #Dejo solo el título para evitar scroll infinito."
   ]
  },
  {
   "cell_type": "code",
   "execution_count": 260,
   "metadata": {
    "scrolled": true
   },
   "outputs": [
    {
     "name": "stdout",
     "output_type": "stream",
     "text": [
      "2022-11-08   16:19:42.316min ago36.00 N  118.38 W  0Ml2.2 CENTRAL CALIFORNIA2022-11-08 16:23\n",
      "2022-11-08   16:11:35.024min ago29.62 N  80.54 E  5 M3.5 NEPAL-INDIA BORDER REGION2022-11-08 16:35\n",
      "2022-11-08   16:04:03.732min ago28.61 N  17.88 W  2ML1.6 CANARY ISLANDS, SPAIN REGION2022-11-08 16:17\n",
      "2022-11-08   16:00:22.035min ago9.49 N  79.59 W  30 M3.5 PANAMA2022-11-08 16:05\n",
      "2022-11-08   15:49:16.047min ago18.03 N  66.86 W  18Md2.1 PUERTO RICO2022-11-08 16:12\n",
      "2022-11-08   15:38:00.058min ago46.06 N  14.05 E  8ML1.5 SLOVENIA2022-11-08 15:40\n",
      "2022-11-08   15:32:57.61hr 03min ago46.97 N  9.77 E  10ML2.0 SWITZERLAND2022-11-08 15:39\n",
      "2022-11-08   15:27:12.01hr 09min ago24.10 S  67.30 W  177 M3.2 SALTA, ARGENTINA2022-11-08 15:35\n",
      "2022-11-08   15:26:07.01hr 10min ago39.50 N  123.16 W  2ML2.6 NORTHERN CALIFORNIA2022-11-08 16:05\n",
      "2022-11-08   15:23:24.21hr 12min ago43.62 N  9.01 E  20ML3.9 LIGURIAN SEA2022-11-08 15:45\n",
      "2022-11-08   15:22:36.91hr 13min ago29.33 N  81.17 E  10mb4.8 NEPAL2022-11-08 15:54\n",
      "2022-11-08   15:17:23.91hr 18min ago18.01 N  66.87 W  14Md2.0 PUERTO RICO2022-11-08 15:31\n",
      "F2022-11-08   15:08:26.81hr 27min ago19.55 N  156.10 W  19ML2.9 HAWAII REGION, HAWAII2022-11-08 15:16\n",
      "2022-11-08   14:50:48.01hr 45min ago2.83 S  129.77 E  10 M3.0 SERAM, INDONESIA2022-11-08 14:55\n",
      "2022-11-08   14:49:11.01hr 47min ago22.26 S  68.73 W  119 M2.6 ANTOFAGASTA, CHILE2022-11-08 14:57\n",
      "2022-11-08   14:43:44.81hr 52min ago39.16 N  0.30 E  16ML2.0 SPAIN2022-11-08 14:53\n",
      "2022-11-08   14:38:45.61hr 57min ago52.39 N  179.41 W  205mb4.6 ANDREANOF ISLANDS, ALEUTIAN IS.2022-11-08 15:22\n",
      "F2022-11-08   14:30:01.82hr 06min ago15.38 N  120.85 E  175Mw5.4 LUZON, PHILIPPINES2022-11-08 15:19\n",
      "2022-11-08   14:26:07.02hr 10min ago35.80 S  73.28 W  26 M2.9 OFFSHORE MAULE, CHILE2022-11-08 14:37\n",
      "2022-11-08   14:24:30.02hr 11min ago8.95 N  84.19 W  5 M3.3 OFF COAST OF COSTA RICA2022-11-08 14:55\n",
      "2022-11-08   14:20:38.02hr 15min ago2.97 S  122.17 E  10 M2.5 SULAWESI, INDONESIA2022-11-08 14:25\n",
      "2022-11-08   13:42:31.72hr 53min ago40.16 N  119.14 W  7ml2.5 NEVADA2022-11-08 16:29\n",
      "2022-11-08   13:09:18.03hr 27min ago34.76 S  72.12 W  39 M3.0 OFFSHORE MAULE, CHILE2022-11-08 13:28\n",
      "2022-11-08   13:05:57.03hr 30min ago31.05 S  71.36 W  24 M3.1 COQUIMBO, CHILE2022-11-08 13:19\n",
      "2022-11-08   12:53:04.83hr 43min ago40.17 N  119.15 W  7ml2.2 NEVADA2022-11-08 16:07\n",
      "2022-11-08   12:26:00.34hr 10min ago19.34 N  155.21 W  -1Md2.0 ISLAND OF HAWAII, HAWAII2022-11-08 12:29\n",
      "2022-11-08   12:13:59.04hr 22min ago4.72 S  101.71 E  10 M4.0 SOUTHERN SUMATRA, INDONESIA2022-11-08 12:20\n",
      "2022-11-08   12:05:34.34hr 30min ago29.87 S  68.35 W  10Mw4.0 SAN JUAN, ARGENTINA2022-11-08 15:20\n",
      "2022-11-08   11:57:11.44hr 39min ago31.66 N  104.40 W  9ML3.3 WESTERN TEXAS2022-11-08 12:09\n",
      "2022-11-08   11:47:14.04hr 49min ago12.05 N  87.75 W  18 M2.8 NEAR COAST OF NICARAGUA2022-11-08 11:55\n",
      "2022-11-08   11:45:08.04hr 51min ago24.12 S  67.55 W  222 M3.5 SALTA, ARGENTINA2022-11-08 11:52\n",
      "2022-11-08   11:42:32.94hr 53min ago19.07 N  67.74 W  35ML3.0 PUERTO RICO REGION2022-11-08 13:50\n",
      "2022-11-08   11:33:39.75hr 02min ago21.74 N  76.53 W  10mb5.0 CUBA REGION2022-11-08 12:20\n",
      "2022-11-08   11:32:10.05hr 04min ago32.75 S  71.09 W  62 M3.0 VALPARAISO, CHILE2022-11-08 12:03\n",
      "2022-11-08   11:27:25.05hr 08min ago23.91 S  67.20 W  240 M3.5 SALTA, ARGENTINA2022-11-08 11:42\n",
      "2022-11-08   11:25:34.05hr 10min ago11.16 N  126.34 E  74 M3.1 PHILIPPINE ISLANDS REGION2022-11-08 11:40\n",
      "2022-11-08   11:24:59.05hr 11min ago38.28 N  15.18 E  116ML2.5 SICILY, ITALY2022-11-08 11:36\n",
      "2022-11-08   11:18:27.05hr 17min ago0.93 N  126.06 E  25 M3.0 MOLUCCA SEA2022-11-08 11:30\n",
      "2022-11-08   11:16:10.35hr 20min ago11.11 N  125.70 E  10mb4.6 SAMAR, PHILIPPINES2022-11-08 15:22\n",
      "2022-11-08   11:04:28.15hr 31min ago17.97 N  66.94 W  7Md2.3 PUERTO RICO2022-11-08 11:25\n",
      "2022-11-08   10:58:26.05hr 37min ago28.73 N  112.89 W  10 M3.4 GULF OF CALIFORNIA2022-11-08 14:15\n",
      "2022-11-08   10:57:27.05hr 38min ago17.06 N  95.39 W  105 M3.7 OAXACA, MEXICO2022-11-08 14:16\n",
      "2022-11-08   10:53:42.05hr 42min ago11.38 N  126.24 E  23 M3.4 PHILIPPINE ISLANDS REGION2022-11-08 11:05\n",
      "2022-11-08   10:43:41.05hr 52min ago47.51 N  2.27 W  2ML2.1 FRANCE2022-11-08 12:35\n",
      "2022-11-08   10:35:34.06hr 00min ago18.08 N  103.09 W  3 M3.7 OFFSHORE MICHOACAN, MEXICO2022-11-08 14:16\n",
      "1F2022-11-08   10:17:09.86hr 19min ago39.77 N  20.71 E  10ML2.8 GREECE2022-11-08 12:17\n",
      "2022-11-08   09:58:40.06hr 37min ago16.28 N  95.98 W  4 M4.1 OAXACA, MEXICO2022-11-08 10:15\n",
      "2022-11-08   09:57:39.06hr 38min ago28.11 N  112.28 W  10 M3.3 GULF OF CALIFORNIA2022-11-08 14:16\n",
      "2022-11-08   09:47:53.06hr 48min ago39.01 N  31.37 E  5ML2.7 WESTERN TURKEY2022-11-08 12:17\n",
      "2022-11-08   09:42:51.06hr 53min ago31.55 N  115.58 W  22 M3.3 BAJA CALIFORNIA, MEXICO2022-11-08 14:16\n",
      "\n"
     ]
    }
   ],
   "source": [
    "#your code\n",
    "import pandas as pd\n",
    "\n",
    "for e in soup.find_all('tbody'):\n",
    "    print(e.text.replace('earthquake','').replace('3IV',''))\n"
   ]
  },
  {
   "cell_type": "code",
   "execution_count": null,
   "metadata": {},
   "outputs": [],
   "source": [
    "earthquake=pd.dataframe(columns=['fecha', 'hora', ])"
   ]
  },
  {
   "cell_type": "code",
   "execution_count": null,
   "metadata": {},
   "outputs": [],
   "source": [
    "fecha=soup.find_all('time').attrs['datetime']"
   ]
  },
  {
   "cell_type": "code",
   "execution_count": null,
   "metadata": {},
   "outputs": [],
   "source": [
    "curro=tarjetas.find_all('li')[0]\n",
    "\n",
    "titulo=curro.find('h3').text.strip()\n",
    "\n",
    "empresa=curro.find('h4').text.strip()\n",
    "\n",
    "pais=curro.find('span', class_=\"job-search-card__location\").text.strip()\n",
    "\n",
    "link=curro.find('a').attrs['href']\n",
    "\n",
    "fecha=curro.find('time').attrs['datetime']"
   ]
  },
  {
   "cell_type": "markdown",
   "metadata": {},
   "source": [
    "#### Display the date, days, title, city, country of next 25 hackathon events as a Pandas dataframe table"
   ]
  },
  {
   "cell_type": "code",
   "execution_count": null,
   "metadata": {},
   "outputs": [],
   "source": [
    "# This is the url you will scrape in this exercise\n",
    "url ='https://hackevents.co/hackathons'"
   ]
  },
  {
   "cell_type": "code",
   "execution_count": null,
   "metadata": {},
   "outputs": [],
   "source": [
    "#your code"
   ]
  },
  {
   "cell_type": "markdown",
   "metadata": {},
   "source": [
    "#### Count number of tweets by a given Twitter account."
   ]
  },
  {
   "cell_type": "markdown",
   "metadata": {},
   "source": [
    "You will need to include a ***try/except block*** for account names not found. \n",
    "<br>***Hint:*** the program should count the number of tweets for any provided account"
   ]
  },
  {
   "cell_type": "code",
   "execution_count": null,
   "metadata": {},
   "outputs": [],
   "source": [
    "# This is the url you will scrape in this exercise \n",
    "# You will need to add the account credentials to this url\n",
    "url = 'https://twitter.com/'"
   ]
  },
  {
   "cell_type": "code",
   "execution_count": null,
   "metadata": {},
   "outputs": [],
   "source": [
    "#your code"
   ]
  },
  {
   "cell_type": "markdown",
   "metadata": {},
   "source": [
    "#### Number of followers of a given twitter account"
   ]
  },
  {
   "cell_type": "markdown",
   "metadata": {},
   "source": [
    "You will need to include a ***try/except block*** in case account/s name not found. \n",
    "<br>***Hint:*** the program should count the followers for any provided account"
   ]
  },
  {
   "cell_type": "code",
   "execution_count": null,
   "metadata": {},
   "outputs": [],
   "source": [
    "# This is the url you will scrape in this exercise \n",
    "# You will need to add the account credentials to this url\n",
    "url = 'https://twitter.com/'"
   ]
  },
  {
   "cell_type": "code",
   "execution_count": null,
   "metadata": {},
   "outputs": [],
   "source": [
    "#your code"
   ]
  },
  {
   "cell_type": "markdown",
   "metadata": {},
   "source": [
    "#### List all language names and number of related articles in the order they appear in wikipedia.org"
   ]
  },
  {
   "cell_type": "code",
   "execution_count": null,
   "metadata": {},
   "outputs": [],
   "source": [
    "# This is the url you will scrape in this exercise\n",
    "url = 'https://www.wikipedia.org/'"
   ]
  },
  {
   "cell_type": "code",
   "execution_count": null,
   "metadata": {},
   "outputs": [],
   "source": [
    "#your code"
   ]
  },
  {
   "cell_type": "markdown",
   "metadata": {},
   "source": [
    "#### A list with the different kind of datasets available in data.gov.uk "
   ]
  },
  {
   "cell_type": "code",
   "execution_count": null,
   "metadata": {},
   "outputs": [],
   "source": [
    "# This is the url you will scrape in this exercise\n",
    "url = 'https://data.gov.uk/'"
   ]
  },
  {
   "cell_type": "code",
   "execution_count": null,
   "metadata": {},
   "outputs": [],
   "source": [
    "#your code "
   ]
  },
  {
   "cell_type": "markdown",
   "metadata": {},
   "source": [
    "#### Top 10 languages by number of native speakers stored in a Pandas Dataframe"
   ]
  },
  {
   "cell_type": "code",
   "execution_count": null,
   "metadata": {},
   "outputs": [],
   "source": [
    "# This is the url you will scrape in this exercise\n",
    "url = 'https://en.wikipedia.org/wiki/List_of_languages_by_number_of_native_speakers'"
   ]
  },
  {
   "cell_type": "code",
   "execution_count": null,
   "metadata": {},
   "outputs": [],
   "source": [
    "#your code"
   ]
  },
  {
   "cell_type": "markdown",
   "metadata": {},
   "source": [
    "### BONUS QUESTIONS"
   ]
  },
  {
   "cell_type": "markdown",
   "metadata": {},
   "source": [
    "#### Scrape a certain number of tweets of a given Twitter account."
   ]
  },
  {
   "cell_type": "code",
   "execution_count": null,
   "metadata": {},
   "outputs": [],
   "source": [
    "# This is the url you will scrape in this exercise \n",
    "# You will need to add the account credentials to this url\n",
    "url = 'https://twitter.com/'"
   ]
  },
  {
   "cell_type": "code",
   "execution_count": null,
   "metadata": {},
   "outputs": [],
   "source": [
    "# your code"
   ]
  },
  {
   "cell_type": "markdown",
   "metadata": {},
   "source": [
    "#### IMDB's Top 250 data (movie name, Initial release, director name and stars) as a pandas dataframe"
   ]
  },
  {
   "cell_type": "code",
   "execution_count": null,
   "metadata": {},
   "outputs": [],
   "source": [
    "# This is the url you will scrape in this exercise \n",
    "url = 'https://www.imdb.com/chart/top'"
   ]
  },
  {
   "cell_type": "code",
   "execution_count": null,
   "metadata": {},
   "outputs": [],
   "source": [
    "# your code"
   ]
  },
  {
   "cell_type": "markdown",
   "metadata": {},
   "source": [
    "#### Movie name, year and a brief summary of the top 10 random movies (IMDB) as a pandas dataframe."
   ]
  },
  {
   "cell_type": "code",
   "execution_count": null,
   "metadata": {},
   "outputs": [],
   "source": [
    "#This is the url you will scrape in this exercise\n",
    "url = 'http://www.imdb.com/chart/top'"
   ]
  },
  {
   "cell_type": "code",
   "execution_count": null,
   "metadata": {},
   "outputs": [],
   "source": [
    "#your code"
   ]
  },
  {
   "cell_type": "markdown",
   "metadata": {},
   "source": [
    "#### Find the live weather report (temperature, wind speed, description and weather) of a given city."
   ]
  },
  {
   "cell_type": "code",
   "execution_count": null,
   "metadata": {},
   "outputs": [],
   "source": [
    "#https://openweathermap.org/current\n",
    "city = city=input('Enter the city:')\n",
    "url = 'http://api.openweathermap.org/data/2.5/weather?'+'q='+city+'&APPID=b35975e18dc93725acb092f7272cc6b8&units=metric'"
   ]
  },
  {
   "cell_type": "code",
   "execution_count": null,
   "metadata": {},
   "outputs": [],
   "source": [
    "# your code"
   ]
  },
  {
   "cell_type": "markdown",
   "metadata": {},
   "source": [
    "#### Book name,price and stock availability as a pandas dataframe."
   ]
  },
  {
   "cell_type": "code",
   "execution_count": null,
   "metadata": {},
   "outputs": [],
   "source": [
    "# This is the url you will scrape in this exercise. \n",
    "# It is a fictional bookstore created to be scraped. \n",
    "url = 'http://books.toscrape.com/'"
   ]
  },
  {
   "cell_type": "code",
   "execution_count": null,
   "metadata": {},
   "outputs": [],
   "source": [
    "#your code"
   ]
  }
 ],
 "metadata": {
  "kernelspec": {
   "display_name": "Python 3 (ipykernel)",
   "language": "python",
   "name": "python3"
  },
  "language_info": {
   "codemirror_mode": {
    "name": "ipython",
    "version": 3
   },
   "file_extension": ".py",
   "mimetype": "text/x-python",
   "name": "python",
   "nbconvert_exporter": "python",
   "pygments_lexer": "ipython3",
   "version": "3.9.12"
  }
 },
 "nbformat": 4,
 "nbformat_minor": 2
}
